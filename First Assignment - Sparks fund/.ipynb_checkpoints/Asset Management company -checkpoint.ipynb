{
 "cells": [
  {
   "cell_type": "markdown",
   "metadata": {},
   "source": [
    "# Checkpoints Part 1"
   ]
  },
  {
   "cell_type": "markdown",
   "metadata": {},
   "source": [
    "## Spark funds -  Asset Management Company\n",
    "\n",
    "<b> Objective </b> - CEO of our company wants to invest money in few companies. Her investments will be guided by global trend in the investments (on where do most of the investors are investing)\n",
    "\n",
    "<b> Constraints </b>-\n",
    "\n",
    "<ul>\n",
    "    <li> Wants to do investment in the range of 5 to 15 USM million dollars </li>\n",
    "    <li> Wants to do investment in only English speaking countries </li>\n",
    "</ul>\n",
    "\n",
    "<b> Buisness Objective </b>-\n",
    "\n",
    "To invest where others are investing, implying that the 'best' sectors and countries are the ones 'where most investors are investing'.\n",
    "\n",
    "<b> Data analusis Objectives </b> -\n",
    "\n",
    "<ul>\n",
    "    <li> To understand which Investment types are attracting the most of the investments. </li>\n",
    "    <li> To understand which are the countries attracting most of the investments.  </li>\n",
    "    <li> To understand which are the Main sectors (8 main) attracting most of the investments.  </li>\n",
    "</ul>\n"
   ]
  },
  {
   "cell_type": "markdown",
   "metadata": {},
   "source": [
    "# Checkpoint 1: Data Cleaning 1"
   ]
  },
  {
   "cell_type": "code",
   "execution_count": 403,
   "metadata": {},
   "outputs": [],
   "source": [
    "# import all libraries for this stage\n",
    "import pandas as pd\n",
    "import seaborn as sns\n",
    "import matplotlib.pyplot as plt\n",
    "import requests \n",
    "from bs4 import BeautifulSoup as soup\n",
    "import re"
   ]
  },
  {
   "cell_type": "code",
   "execution_count": 404,
   "metadata": {},
   "outputs": [],
   "source": [
    "companies = pd.read_csv(r\"C:\\Users\\abc\\Downloads\\AI-ML\\git\\assignments\\First Assignment\\csv\\companies.csv\", encoding='palmos')\n",
    "rounds2 = pd.read_csv(r\"C:\\Users\\abc\\Downloads\\AI-ML\\git\\assignments\\First Assignment\\csv\\rounds2.csv\", encoding='palmos')\n",
    "mapping = pd.read_csv(r\"C:\\Users\\abc\\Downloads\\AI-ML\\git\\assignments\\First Assignment\\csv\\mapping.csv\", encoding='palmos')"
   ]
  },
  {
   "cell_type": "markdown",
   "metadata": {},
   "source": [
    "#### Analysis of companies dataframe"
   ]
  },
  {
   "cell_type": "code",
   "execution_count": 405,
   "metadata": {},
   "outputs": [
    {
     "data": {
      "text/html": [
       "<div>\n",
       "<style scoped>\n",
       "    .dataframe tbody tr th:only-of-type {\n",
       "        vertical-align: middle;\n",
       "    }\n",
       "\n",
       "    .dataframe tbody tr th {\n",
       "        vertical-align: top;\n",
       "    }\n",
       "\n",
       "    .dataframe thead th {\n",
       "        text-align: right;\n",
       "    }\n",
       "</style>\n",
       "<table border=\"1\" class=\"dataframe\">\n",
       "  <thead>\n",
       "    <tr style=\"text-align: right;\">\n",
       "      <th></th>\n",
       "      <th>permalink</th>\n",
       "      <th>name</th>\n",
       "      <th>homepage_url</th>\n",
       "      <th>category_list</th>\n",
       "      <th>status</th>\n",
       "      <th>country_code</th>\n",
       "      <th>state_code</th>\n",
       "      <th>region</th>\n",
       "      <th>city</th>\n",
       "      <th>founded_at</th>\n",
       "    </tr>\n",
       "  </thead>\n",
       "  <tbody>\n",
       "    <tr>\n",
       "      <th>0</th>\n",
       "      <td>/Organization/-Fame</td>\n",
       "      <td>#fame</td>\n",
       "      <td>http://livfame.com</td>\n",
       "      <td>Media</td>\n",
       "      <td>operating</td>\n",
       "      <td>IND</td>\n",
       "      <td>16</td>\n",
       "      <td>Mumbai</td>\n",
       "      <td>Mumbai</td>\n",
       "      <td>NaN</td>\n",
       "    </tr>\n",
       "  </tbody>\n",
       "</table>\n",
       "</div>"
      ],
      "text/plain": [
       "             permalink   name        homepage_url category_list     status  \\\n",
       "0  /Organization/-Fame  #fame  http://livfame.com         Media  operating   \n",
       "\n",
       "  country_code state_code  region    city founded_at  \n",
       "0          IND         16  Mumbai  Mumbai        NaN  "
      ]
     },
     "execution_count": 405,
     "metadata": {},
     "output_type": "execute_result"
    }
   ],
   "source": [
    "# analyse companies\n",
    "companies.head(1)"
   ]
  },
  {
   "cell_type": "code",
   "execution_count": 406,
   "metadata": {},
   "outputs": [
    {
     "name": "stdout",
     "output_type": "stream",
     "text": [
      "<class 'pandas.core.frame.DataFrame'>\n",
      "RangeIndex: 66368 entries, 0 to 66367\n",
      "Data columns (total 10 columns):\n",
      " #   Column         Non-Null Count  Dtype \n",
      "---  ------         --------------  ----- \n",
      " 0   permalink      66368 non-null  object\n",
      " 1   name           66367 non-null  object\n",
      " 2   homepage_url   61310 non-null  object\n",
      " 3   category_list  63220 non-null  object\n",
      " 4   status         66368 non-null  object\n",
      " 5   country_code   59410 non-null  object\n",
      " 6   state_code     57821 non-null  object\n",
      " 7   region         58338 non-null  object\n",
      " 8   city           58340 non-null  object\n",
      " 9   founded_at     51147 non-null  object\n",
      "dtypes: object(10)\n",
      "memory usage: 5.1+ MB\n"
     ]
    }
   ],
   "source": [
    "companies.info()"
   ]
  },
  {
   "cell_type": "code",
   "execution_count": 407,
   "metadata": {},
   "outputs": [
    {
     "data": {
      "text/plain": [
       "(66368, 10)"
      ]
     },
     "execution_count": 407,
     "metadata": {},
     "output_type": "execute_result"
    }
   ],
   "source": [
    "companies.shape"
   ]
  },
  {
   "cell_type": "markdown",
   "metadata": {},
   "source": [
    "As permalink has organization as default part let's see whether it's present in all the rows or not and have uniform spelling"
   ]
  },
  {
   "cell_type": "markdown",
   "metadata": {},
   "source": [
    "#### We have found that there is inconsistency in cases for companies and rouds2 data frame so let's convert all the values into lowercase."
   ]
  },
  {
   "cell_type": "code",
   "execution_count": 408,
   "metadata": {},
   "outputs": [],
   "source": [
    "companies.permalink = companies.permalink.apply(lambda x : str.lower(x))"
   ]
  },
  {
   "cell_type": "code",
   "execution_count": 409,
   "metadata": {},
   "outputs": [
    {
     "data": {
      "text/plain": [
       "(66368,)"
      ]
     },
     "execution_count": 409,
     "metadata": {},
     "output_type": "execute_result"
    }
   ],
   "source": [
    "companies.permalink.str.contains('organization').shape"
   ]
  },
  {
   "cell_type": "markdown",
   "metadata": {},
   "source": [
    "Hence we can say that there is no problem with organization"
   ]
  },
  {
   "cell_type": "code",
   "execution_count": 410,
   "metadata": {
    "scrolled": true
   },
   "outputs": [
    {
     "data": {
      "text/plain": [
       "3D Printing                                                                                                                          18\n",
       "Education|K-12 Education                                                                                                              6\n",
       "B2B                                                                                                                                   6\n",
       "P2P Money Transfer                                                                                                                    5\n",
       "EdTech|Education|K-12 Education                                                                                                       4\n",
       "                                                                                                                                     ..\n",
       "B2B|Enterprise Software|Machine Learning|Predictive Analytics|SaaS|Sales Automation                                                   1\n",
       "3D Printing|Information Technology|Robotics                                                                                           1\n",
       "3D Technology|Application Platforms|Big Data Analytics|Energy IT|Industrial|Internet of Things|Mobile|Open Source                     1\n",
       "Advertising Networks|B2B|Business Services|Curated Web|Lead Generation|Reputation|Reviews and Recommendations|Sales and Marketing     1\n",
       "Cloud Computing|Internet of Things|M2M|Mobile|SaaS                                                                                    1\n",
       "Name: category_list, Length: 879, dtype: int64"
      ]
     },
     "execution_count": 410,
     "metadata": {},
     "output_type": "execute_result"
    }
   ],
   "source": [
    "companies[companies.category_list.apply(lambda x : bool(re.search(r'\\d', str(x))))].category_list.value_counts() #no issues"
   ]
  },
  {
   "cell_type": "markdown",
   "metadata": {},
   "source": [
    "#### Analysis of rounds2 dataframe"
   ]
  },
  {
   "cell_type": "code",
   "execution_count": 411,
   "metadata": {},
   "outputs": [
    {
     "data": {
      "text/html": [
       "<div>\n",
       "<style scoped>\n",
       "    .dataframe tbody tr th:only-of-type {\n",
       "        vertical-align: middle;\n",
       "    }\n",
       "\n",
       "    .dataframe tbody tr th {\n",
       "        vertical-align: top;\n",
       "    }\n",
       "\n",
       "    .dataframe thead th {\n",
       "        text-align: right;\n",
       "    }\n",
       "</style>\n",
       "<table border=\"1\" class=\"dataframe\">\n",
       "  <thead>\n",
       "    <tr style=\"text-align: right;\">\n",
       "      <th></th>\n",
       "      <th>company_permalink</th>\n",
       "      <th>funding_round_permalink</th>\n",
       "      <th>funding_round_type</th>\n",
       "      <th>funding_round_code</th>\n",
       "      <th>funded_at</th>\n",
       "      <th>raised_amount_usd</th>\n",
       "    </tr>\n",
       "  </thead>\n",
       "  <tbody>\n",
       "    <tr>\n",
       "      <th>0</th>\n",
       "      <td>/organization/-fame</td>\n",
       "      <td>/funding-round/9a01d05418af9f794eebff7ace91f638</td>\n",
       "      <td>venture</td>\n",
       "      <td>B</td>\n",
       "      <td>05-01-2015</td>\n",
       "      <td>10000000.0</td>\n",
       "    </tr>\n",
       "  </tbody>\n",
       "</table>\n",
       "</div>"
      ],
      "text/plain": [
       "     company_permalink                          funding_round_permalink  \\\n",
       "0  /organization/-fame  /funding-round/9a01d05418af9f794eebff7ace91f638   \n",
       "\n",
       "  funding_round_type funding_round_code   funded_at  raised_amount_usd  \n",
       "0            venture                  B  05-01-2015         10000000.0  "
      ]
     },
     "execution_count": 411,
     "metadata": {},
     "output_type": "execute_result"
    }
   ],
   "source": [
    "# analyse rounds2\n",
    "rounds2.head(1)"
   ]
  },
  {
   "cell_type": "code",
   "execution_count": 412,
   "metadata": {},
   "outputs": [],
   "source": [
    "rounds2.company_permalink = rounds2.company_permalink.apply(lambda x : str.lower(x))"
   ]
  },
  {
   "cell_type": "code",
   "execution_count": 413,
   "metadata": {},
   "outputs": [
    {
     "data": {
      "text/plain": [
       "(114949, 6)"
      ]
     },
     "execution_count": 413,
     "metadata": {},
     "output_type": "execute_result"
    }
   ],
   "source": [
    "rounds2.shape"
   ]
  },
  {
   "cell_type": "code",
   "execution_count": 414,
   "metadata": {},
   "outputs": [
    {
     "data": {
      "text/plain": [
       "(114949,)"
      ]
     },
     "execution_count": 414,
     "metadata": {},
     "output_type": "execute_result"
    }
   ],
   "source": [
    "rounds2.company_permalink.str.contains('organization').shape #No issues"
   ]
  },
  {
   "cell_type": "markdown",
   "metadata": {},
   "source": [
    "#### Analysis for mapping dataframe"
   ]
  },
  {
   "cell_type": "code",
   "execution_count": 415,
   "metadata": {},
   "outputs": [
    {
     "data": {
      "text/html": [
       "<div>\n",
       "<style scoped>\n",
       "    .dataframe tbody tr th:only-of-type {\n",
       "        vertical-align: middle;\n",
       "    }\n",
       "\n",
       "    .dataframe tbody tr th {\n",
       "        vertical-align: top;\n",
       "    }\n",
       "\n",
       "    .dataframe thead th {\n",
       "        text-align: right;\n",
       "    }\n",
       "</style>\n",
       "<table border=\"1\" class=\"dataframe\">\n",
       "  <thead>\n",
       "    <tr style=\"text-align: right;\">\n",
       "      <th></th>\n",
       "      <th>category_list</th>\n",
       "      <th>Automotive &amp; Sports</th>\n",
       "      <th>Blanks</th>\n",
       "      <th>Cleantech / Semiconductors</th>\n",
       "      <th>Entertainment</th>\n",
       "      <th>Health</th>\n",
       "      <th>Manufacturing</th>\n",
       "      <th>News, Search and Messaging</th>\n",
       "      <th>Others</th>\n",
       "      <th>Social, Finance, Analytics, Advertising</th>\n",
       "    </tr>\n",
       "  </thead>\n",
       "  <tbody>\n",
       "    <tr>\n",
       "      <th>0</th>\n",
       "      <td>NaN</td>\n",
       "      <td>0</td>\n",
       "      <td>1</td>\n",
       "      <td>0</td>\n",
       "      <td>0</td>\n",
       "      <td>0</td>\n",
       "      <td>0</td>\n",
       "      <td>0</td>\n",
       "      <td>0</td>\n",
       "      <td>0</td>\n",
       "    </tr>\n",
       "  </tbody>\n",
       "</table>\n",
       "</div>"
      ],
      "text/plain": [
       "  category_list  Automotive & Sports  Blanks  Cleantech / Semiconductors  \\\n",
       "0           NaN                    0       1                           0   \n",
       "\n",
       "   Entertainment  Health  Manufacturing  News, Search and Messaging  Others  \\\n",
       "0              0       0              0                           0       0   \n",
       "\n",
       "   Social, Finance, Analytics, Advertising  \n",
       "0                                        0  "
      ]
     },
     "execution_count": 415,
     "metadata": {},
     "output_type": "execute_result"
    }
   ],
   "source": [
    "mapping.head(1)"
   ]
  },
  {
   "cell_type": "code",
   "execution_count": 416,
   "metadata": {},
   "outputs": [
    {
     "name": "stdout",
     "output_type": "stream",
     "text": [
      "<class 'pandas.core.frame.DataFrame'>\n",
      "RangeIndex: 688 entries, 0 to 687\n",
      "Data columns (total 10 columns):\n",
      " #   Column                                   Non-Null Count  Dtype \n",
      "---  ------                                   --------------  ----- \n",
      " 0   category_list                            687 non-null    object\n",
      " 1   Automotive & Sports                      688 non-null    int64 \n",
      " 2   Blanks                                   688 non-null    int64 \n",
      " 3   Cleantech / Semiconductors               688 non-null    int64 \n",
      " 4   Entertainment                            688 non-null    int64 \n",
      " 5   Health                                   688 non-null    int64 \n",
      " 6   Manufacturing                            688 non-null    int64 \n",
      " 7   News, Search and Messaging               688 non-null    int64 \n",
      " 8   Others                                   688 non-null    int64 \n",
      " 9   Social, Finance, Analytics, Advertising  688 non-null    int64 \n",
      "dtypes: int64(9), object(1)\n",
      "memory usage: 53.9+ KB\n"
     ]
    }
   ],
   "source": [
    "mapping.info()"
   ]
  },
  {
   "cell_type": "code",
   "execution_count": 417,
   "metadata": {},
   "outputs": [
    {
     "data": {
      "text/plain": [
       "(688, 10)"
      ]
     },
     "execution_count": 417,
     "metadata": {},
     "output_type": "execute_result"
    }
   ],
   "source": [
    "mapping.shape"
   ]
  },
  {
   "cell_type": "code",
   "execution_count": 418,
   "metadata": {},
   "outputs": [],
   "source": [
    "#remove NaN row as we will delete all the category list rows which will have null values"
   ]
  },
  {
   "cell_type": "code",
   "execution_count": 419,
   "metadata": {},
   "outputs": [
    {
     "data": {
      "text/plain": [
       "0      <class 'float'>\n",
       "1        <class 'str'>\n",
       "2        <class 'str'>\n",
       "3        <class 'str'>\n",
       "4        <class 'str'>\n",
       "            ...       \n",
       "683      <class 'str'>\n",
       "684      <class 'str'>\n",
       "685      <class 'str'>\n",
       "686      <class 'str'>\n",
       "687      <class 'str'>\n",
       "Name: category_list, Length: 688, dtype: object"
      ]
     },
     "execution_count": 419,
     "metadata": {},
     "output_type": "execute_result"
    }
   ],
   "source": [
    "mapping.category_list.apply(lambda x : type(x))"
   ]
  },
  {
   "cell_type": "code",
   "execution_count": 420,
   "metadata": {},
   "outputs": [],
   "source": [
    "mapping = mapping[~(mapping.category_list.apply(lambda x : isinstance(x, float)))]"
   ]
  },
  {
   "cell_type": "code",
   "execution_count": 421,
   "metadata": {},
   "outputs": [
    {
     "data": {
      "text/html": [
       "<div>\n",
       "<style scoped>\n",
       "    .dataframe tbody tr th:only-of-type {\n",
       "        vertical-align: middle;\n",
       "    }\n",
       "\n",
       "    .dataframe tbody tr th {\n",
       "        vertical-align: top;\n",
       "    }\n",
       "\n",
       "    .dataframe thead th {\n",
       "        text-align: right;\n",
       "    }\n",
       "</style>\n",
       "<table border=\"1\" class=\"dataframe\">\n",
       "  <thead>\n",
       "    <tr style=\"text-align: right;\">\n",
       "      <th></th>\n",
       "      <th>category_list</th>\n",
       "      <th>Automotive &amp; Sports</th>\n",
       "      <th>Blanks</th>\n",
       "      <th>Cleantech / Semiconductors</th>\n",
       "      <th>Entertainment</th>\n",
       "      <th>Health</th>\n",
       "      <th>Manufacturing</th>\n",
       "      <th>News, Search and Messaging</th>\n",
       "      <th>Others</th>\n",
       "      <th>Social, Finance, Analytics, Advertising</th>\n",
       "    </tr>\n",
       "  </thead>\n",
       "  <tbody>\n",
       "    <tr>\n",
       "      <th>1</th>\n",
       "      <td>3D</td>\n",
       "      <td>0</td>\n",
       "      <td>0</td>\n",
       "      <td>0</td>\n",
       "      <td>0</td>\n",
       "      <td>0</td>\n",
       "      <td>1</td>\n",
       "      <td>0</td>\n",
       "      <td>0</td>\n",
       "      <td>0</td>\n",
       "    </tr>\n",
       "    <tr>\n",
       "      <th>2</th>\n",
       "      <td>3D Printing</td>\n",
       "      <td>0</td>\n",
       "      <td>0</td>\n",
       "      <td>0</td>\n",
       "      <td>0</td>\n",
       "      <td>0</td>\n",
       "      <td>1</td>\n",
       "      <td>0</td>\n",
       "      <td>0</td>\n",
       "      <td>0</td>\n",
       "    </tr>\n",
       "    <tr>\n",
       "      <th>3</th>\n",
       "      <td>3D Technology</td>\n",
       "      <td>0</td>\n",
       "      <td>0</td>\n",
       "      <td>0</td>\n",
       "      <td>0</td>\n",
       "      <td>0</td>\n",
       "      <td>1</td>\n",
       "      <td>0</td>\n",
       "      <td>0</td>\n",
       "      <td>0</td>\n",
       "    </tr>\n",
       "    <tr>\n",
       "      <th>20</th>\n",
       "      <td>Alter0tive Medicine</td>\n",
       "      <td>0</td>\n",
       "      <td>0</td>\n",
       "      <td>0</td>\n",
       "      <td>0</td>\n",
       "      <td>1</td>\n",
       "      <td>0</td>\n",
       "      <td>0</td>\n",
       "      <td>0</td>\n",
       "      <td>0</td>\n",
       "    </tr>\n",
       "    <tr>\n",
       "      <th>22</th>\n",
       "      <td>A0lytics</td>\n",
       "      <td>0</td>\n",
       "      <td>0</td>\n",
       "      <td>0</td>\n",
       "      <td>0</td>\n",
       "      <td>0</td>\n",
       "      <td>0</td>\n",
       "      <td>0</td>\n",
       "      <td>0</td>\n",
       "      <td>1</td>\n",
       "    </tr>\n",
       "    <tr>\n",
       "      <th>...</th>\n",
       "      <td>...</td>\n",
       "      <td>...</td>\n",
       "      <td>...</td>\n",
       "      <td>...</td>\n",
       "      <td>...</td>\n",
       "      <td>...</td>\n",
       "      <td>...</td>\n",
       "      <td>...</td>\n",
       "      <td>...</td>\n",
       "      <td>...</td>\n",
       "    </tr>\n",
       "    <tr>\n",
       "      <th>612</th>\n",
       "      <td>Social Media Ma0gement</td>\n",
       "      <td>0</td>\n",
       "      <td>0</td>\n",
       "      <td>0</td>\n",
       "      <td>0</td>\n",
       "      <td>0</td>\n",
       "      <td>0</td>\n",
       "      <td>0</td>\n",
       "      <td>0</td>\n",
       "      <td>1</td>\n",
       "    </tr>\n",
       "    <tr>\n",
       "      <th>633</th>\n",
       "      <td>Supply Chain Ma0gement</td>\n",
       "      <td>0</td>\n",
       "      <td>0</td>\n",
       "      <td>0</td>\n",
       "      <td>0</td>\n",
       "      <td>0</td>\n",
       "      <td>0</td>\n",
       "      <td>0</td>\n",
       "      <td>1</td>\n",
       "      <td>0</td>\n",
       "    </tr>\n",
       "    <tr>\n",
       "      <th>637</th>\n",
       "      <td>Task Ma0gement</td>\n",
       "      <td>0</td>\n",
       "      <td>0</td>\n",
       "      <td>0</td>\n",
       "      <td>0</td>\n",
       "      <td>0</td>\n",
       "      <td>0</td>\n",
       "      <td>0</td>\n",
       "      <td>1</td>\n",
       "      <td>0</td>\n",
       "    </tr>\n",
       "    <tr>\n",
       "      <th>664</th>\n",
       "      <td>Veteri0ry</td>\n",
       "      <td>0</td>\n",
       "      <td>0</td>\n",
       "      <td>0</td>\n",
       "      <td>0</td>\n",
       "      <td>1</td>\n",
       "      <td>0</td>\n",
       "      <td>0</td>\n",
       "      <td>0</td>\n",
       "      <td>0</td>\n",
       "    </tr>\n",
       "    <tr>\n",
       "      <th>672</th>\n",
       "      <td>Waste Ma0gement</td>\n",
       "      <td>0</td>\n",
       "      <td>0</td>\n",
       "      <td>1</td>\n",
       "      <td>0</td>\n",
       "      <td>0</td>\n",
       "      <td>0</td>\n",
       "      <td>0</td>\n",
       "      <td>0</td>\n",
       "      <td>0</td>\n",
       "    </tr>\n",
       "  </tbody>\n",
       "</table>\n",
       "<p>61 rows × 10 columns</p>\n",
       "</div>"
      ],
      "text/plain": [
       "              category_list  Automotive & Sports  Blanks  \\\n",
       "1                        3D                    0       0   \n",
       "2               3D Printing                    0       0   \n",
       "3             3D Technology                    0       0   \n",
       "20      Alter0tive Medicine                    0       0   \n",
       "22                 A0lytics                    0       0   \n",
       "..                      ...                  ...     ...   \n",
       "612  Social Media Ma0gement                    0       0   \n",
       "633  Supply Chain Ma0gement                    0       0   \n",
       "637          Task Ma0gement                    0       0   \n",
       "664               Veteri0ry                    0       0   \n",
       "672         Waste Ma0gement                    0       0   \n",
       "\n",
       "     Cleantech / Semiconductors  Entertainment  Health  Manufacturing  \\\n",
       "1                             0              0       0              1   \n",
       "2                             0              0       0              1   \n",
       "3                             0              0       0              1   \n",
       "20                            0              0       1              0   \n",
       "22                            0              0       0              0   \n",
       "..                          ...            ...     ...            ...   \n",
       "612                           0              0       0              0   \n",
       "633                           0              0       0              0   \n",
       "637                           0              0       0              0   \n",
       "664                           0              0       1              0   \n",
       "672                           1              0       0              0   \n",
       "\n",
       "     News, Search and Messaging  Others  \\\n",
       "1                             0       0   \n",
       "2                             0       0   \n",
       "3                             0       0   \n",
       "20                            0       0   \n",
       "22                            0       0   \n",
       "..                          ...     ...   \n",
       "612                           0       0   \n",
       "633                           0       1   \n",
       "637                           0       1   \n",
       "664                           0       0   \n",
       "672                           0       0   \n",
       "\n",
       "     Social, Finance, Analytics, Advertising  \n",
       "1                                          0  \n",
       "2                                          0  \n",
       "3                                          0  \n",
       "20                                         0  \n",
       "22                                         1  \n",
       "..                                       ...  \n",
       "612                                        1  \n",
       "633                                        0  \n",
       "637                                        0  \n",
       "664                                        0  \n",
       "672                                        0  \n",
       "\n",
       "[61 rows x 10 columns]"
      ]
     },
     "execution_count": 421,
     "metadata": {},
     "output_type": "execute_result"
    }
   ],
   "source": [
    "mapping[mapping.category_list.apply(lambda x : bool(re.search(r'\\d', x)))]"
   ]
  },
  {
   "cell_type": "markdown",
   "metadata": {},
   "source": [
    "There is pattern from which we can conclude that 0 should be replaced with 'na'"
   ]
  },
  {
   "cell_type": "code",
   "execution_count": 422,
   "metadata": {},
   "outputs": [],
   "source": [
    "mapping.category_list = mapping.category_list.apply(lambda x : x.replace('0','na'))"
   ]
  },
  {
   "cell_type": "code",
   "execution_count": 423,
   "metadata": {},
   "outputs": [
    {
     "data": {
      "text/html": [
       "<div>\n",
       "<style scoped>\n",
       "    .dataframe tbody tr th:only-of-type {\n",
       "        vertical-align: middle;\n",
       "    }\n",
       "\n",
       "    .dataframe tbody tr th {\n",
       "        vertical-align: top;\n",
       "    }\n",
       "\n",
       "    .dataframe thead th {\n",
       "        text-align: right;\n",
       "    }\n",
       "</style>\n",
       "<table border=\"1\" class=\"dataframe\">\n",
       "  <thead>\n",
       "    <tr style=\"text-align: right;\">\n",
       "      <th></th>\n",
       "      <th>category_list</th>\n",
       "      <th>Automotive &amp; Sports</th>\n",
       "      <th>Blanks</th>\n",
       "      <th>Cleantech / Semiconductors</th>\n",
       "      <th>Entertainment</th>\n",
       "      <th>Health</th>\n",
       "      <th>Manufacturing</th>\n",
       "      <th>News, Search and Messaging</th>\n",
       "      <th>Others</th>\n",
       "      <th>Social, Finance, Analytics, Advertising</th>\n",
       "    </tr>\n",
       "  </thead>\n",
       "  <tbody>\n",
       "    <tr>\n",
       "      <th>1</th>\n",
       "      <td>3D</td>\n",
       "      <td>0</td>\n",
       "      <td>0</td>\n",
       "      <td>0</td>\n",
       "      <td>0</td>\n",
       "      <td>0</td>\n",
       "      <td>1</td>\n",
       "      <td>0</td>\n",
       "      <td>0</td>\n",
       "      <td>0</td>\n",
       "    </tr>\n",
       "    <tr>\n",
       "      <th>2</th>\n",
       "      <td>3D Printing</td>\n",
       "      <td>0</td>\n",
       "      <td>0</td>\n",
       "      <td>0</td>\n",
       "      <td>0</td>\n",
       "      <td>0</td>\n",
       "      <td>1</td>\n",
       "      <td>0</td>\n",
       "      <td>0</td>\n",
       "      <td>0</td>\n",
       "    </tr>\n",
       "    <tr>\n",
       "      <th>3</th>\n",
       "      <td>3D Technology</td>\n",
       "      <td>0</td>\n",
       "      <td>0</td>\n",
       "      <td>0</td>\n",
       "      <td>0</td>\n",
       "      <td>0</td>\n",
       "      <td>1</td>\n",
       "      <td>0</td>\n",
       "      <td>0</td>\n",
       "      <td>0</td>\n",
       "    </tr>\n",
       "    <tr>\n",
       "      <th>48</th>\n",
       "      <td>B2B</td>\n",
       "      <td>0</td>\n",
       "      <td>0</td>\n",
       "      <td>0</td>\n",
       "      <td>0</td>\n",
       "      <td>0</td>\n",
       "      <td>0</td>\n",
       "      <td>0</td>\n",
       "      <td>0</td>\n",
       "      <td>1</td>\n",
       "    </tr>\n",
       "    <tr>\n",
       "      <th>49</th>\n",
       "      <td>B2B Express Delivery</td>\n",
       "      <td>0</td>\n",
       "      <td>0</td>\n",
       "      <td>0</td>\n",
       "      <td>0</td>\n",
       "      <td>0</td>\n",
       "      <td>0</td>\n",
       "      <td>0</td>\n",
       "      <td>0</td>\n",
       "      <td>1</td>\n",
       "    </tr>\n",
       "    <tr>\n",
       "      <th>243</th>\n",
       "      <td>Enterprise 2.na</td>\n",
       "      <td>0</td>\n",
       "      <td>0</td>\n",
       "      <td>0</td>\n",
       "      <td>0</td>\n",
       "      <td>0</td>\n",
       "      <td>0</td>\n",
       "      <td>0</td>\n",
       "      <td>1</td>\n",
       "      <td>0</td>\n",
       "    </tr>\n",
       "    <tr>\n",
       "      <th>392</th>\n",
       "      <td>K-12 Education</td>\n",
       "      <td>0</td>\n",
       "      <td>0</td>\n",
       "      <td>0</td>\n",
       "      <td>0</td>\n",
       "      <td>0</td>\n",
       "      <td>0</td>\n",
       "      <td>0</td>\n",
       "      <td>1</td>\n",
       "      <td>0</td>\n",
       "    </tr>\n",
       "    <tr>\n",
       "      <th>423</th>\n",
       "      <td>M2M</td>\n",
       "      <td>0</td>\n",
       "      <td>0</td>\n",
       "      <td>0</td>\n",
       "      <td>0</td>\n",
       "      <td>0</td>\n",
       "      <td>0</td>\n",
       "      <td>0</td>\n",
       "      <td>1</td>\n",
       "      <td>0</td>\n",
       "    </tr>\n",
       "    <tr>\n",
       "      <th>507</th>\n",
       "      <td>P2P Money Transfer</td>\n",
       "      <td>0</td>\n",
       "      <td>0</td>\n",
       "      <td>0</td>\n",
       "      <td>0</td>\n",
       "      <td>0</td>\n",
       "      <td>0</td>\n",
       "      <td>0</td>\n",
       "      <td>0</td>\n",
       "      <td>1</td>\n",
       "    </tr>\n",
       "  </tbody>\n",
       "</table>\n",
       "</div>"
      ],
      "text/plain": [
       "            category_list  Automotive & Sports  Blanks  \\\n",
       "1                      3D                    0       0   \n",
       "2             3D Printing                    0       0   \n",
       "3           3D Technology                    0       0   \n",
       "48                    B2B                    0       0   \n",
       "49   B2B Express Delivery                    0       0   \n",
       "243       Enterprise 2.na                    0       0   \n",
       "392        K-12 Education                    0       0   \n",
       "423                   M2M                    0       0   \n",
       "507    P2P Money Transfer                    0       0   \n",
       "\n",
       "     Cleantech / Semiconductors  Entertainment  Health  Manufacturing  \\\n",
       "1                             0              0       0              1   \n",
       "2                             0              0       0              1   \n",
       "3                             0              0       0              1   \n",
       "48                            0              0       0              0   \n",
       "49                            0              0       0              0   \n",
       "243                           0              0       0              0   \n",
       "392                           0              0       0              0   \n",
       "423                           0              0       0              0   \n",
       "507                           0              0       0              0   \n",
       "\n",
       "     News, Search and Messaging  Others  \\\n",
       "1                             0       0   \n",
       "2                             0       0   \n",
       "3                             0       0   \n",
       "48                            0       0   \n",
       "49                            0       0   \n",
       "243                           0       1   \n",
       "392                           0       1   \n",
       "423                           0       1   \n",
       "507                           0       0   \n",
       "\n",
       "     Social, Finance, Analytics, Advertising  \n",
       "1                                          0  \n",
       "2                                          0  \n",
       "3                                          0  \n",
       "48                                         1  \n",
       "49                                         1  \n",
       "243                                        0  \n",
       "392                                        0  \n",
       "423                                        0  \n",
       "507                                        1  "
      ]
     },
     "execution_count": 423,
     "metadata": {},
     "output_type": "execute_result"
    }
   ],
   "source": [
    "mapping[mapping.category_list.apply(lambda x : bool(re.search(r'\\d', x)))]"
   ]
  },
  {
   "cell_type": "markdown",
   "metadata": {},
   "source": [
    "One more issue with 2.na replace that value"
   ]
  },
  {
   "cell_type": "code",
   "execution_count": 424,
   "metadata": {},
   "outputs": [],
   "source": [
    "mapping.category_list = mapping.category_list.apply(lambda x : x.replace('2.na',''))"
   ]
  },
  {
   "cell_type": "markdown",
   "metadata": {},
   "source": [
    "## No of unique companies in companies"
   ]
  },
  {
   "cell_type": "code",
   "execution_count": 425,
   "metadata": {},
   "outputs": [
    {
     "data": {
      "text/plain": [
       "66368"
      ]
     },
     "execution_count": 425,
     "metadata": {},
     "output_type": "execute_result"
    }
   ],
   "source": [
    "companies.permalink.nunique()"
   ]
  },
  {
   "cell_type": "markdown",
   "metadata": {},
   "source": [
    "## No of unique companies in rounds2"
   ]
  },
  {
   "cell_type": "code",
   "execution_count": 426,
   "metadata": {},
   "outputs": [
    {
     "data": {
      "text/plain": [
       "66368"
      ]
     },
     "execution_count": 426,
     "metadata": {},
     "output_type": "execute_result"
    }
   ],
   "source": [
    "rounds2.company_permalink.nunique()"
   ]
  },
  {
   "cell_type": "markdown",
   "metadata": {},
   "source": [
    "### Let's see which colums are contenstant for to be unique, broadly there are two <font color ='red'> name </font>  and <font color ='red'> permalink</font> \n",
    "Now let's see whether this columns contain any duplicate data or not"
   ]
  },
  {
   "cell_type": "code",
   "execution_count": 427,
   "metadata": {},
   "outputs": [
    {
     "data": {
      "text/html": [
       "<div>\n",
       "<style scoped>\n",
       "    .dataframe tbody tr th:only-of-type {\n",
       "        vertical-align: middle;\n",
       "    }\n",
       "\n",
       "    .dataframe tbody tr th {\n",
       "        vertical-align: top;\n",
       "    }\n",
       "\n",
       "    .dataframe thead th {\n",
       "        text-align: right;\n",
       "    }\n",
       "</style>\n",
       "<table border=\"1\" class=\"dataframe\">\n",
       "  <thead>\n",
       "    <tr style=\"text-align: right;\">\n",
       "      <th></th>\n",
       "      <th>permalink</th>\n",
       "      <th>name</th>\n",
       "      <th>homepage_url</th>\n",
       "      <th>category_list</th>\n",
       "      <th>status</th>\n",
       "      <th>country_code</th>\n",
       "      <th>state_code</th>\n",
       "      <th>region</th>\n",
       "      <th>city</th>\n",
       "      <th>founded_at</th>\n",
       "    </tr>\n",
       "  </thead>\n",
       "  <tbody>\n",
       "  </tbody>\n",
       "</table>\n",
       "</div>"
      ],
      "text/plain": [
       "Empty DataFrame\n",
       "Columns: [permalink, name, homepage_url, category_list, status, country_code, state_code, region, city, founded_at]\n",
       "Index: []"
      ]
     },
     "execution_count": 427,
     "metadata": {},
     "output_type": "execute_result"
    }
   ],
   "source": [
    "companies[companies.permalink.duplicated()]"
   ]
  },
  {
   "cell_type": "code",
   "execution_count": 428,
   "metadata": {},
   "outputs": [
    {
     "data": {
      "text/plain": [
       "282         3DIVAZ\n",
       "1527        Adtena\n",
       "1996         Agora\n",
       "3006        Amicus\n",
       "3091     Amplitude\n",
       "           ...    \n",
       "64571       Wunder\n",
       "64572       Wunder\n",
       "65799        Gusto\n",
       "65899        Zesty\n",
       "66029      ZingBox\n",
       "Name: name, Length: 268, dtype: object"
      ]
     },
     "execution_count": 428,
     "metadata": {},
     "output_type": "execute_result"
    }
   ],
   "source": [
    "companies.name[companies.name.duplicated()]"
   ]
  },
  {
   "cell_type": "code",
   "execution_count": 429,
   "metadata": {},
   "outputs": [
    {
     "data": {
      "text/html": [
       "<div>\n",
       "<style scoped>\n",
       "    .dataframe tbody tr th:only-of-type {\n",
       "        vertical-align: middle;\n",
       "    }\n",
       "\n",
       "    .dataframe tbody tr th {\n",
       "        vertical-align: top;\n",
       "    }\n",
       "\n",
       "    .dataframe thead th {\n",
       "        text-align: right;\n",
       "    }\n",
       "</style>\n",
       "<table border=\"1\" class=\"dataframe\">\n",
       "  <thead>\n",
       "    <tr style=\"text-align: right;\">\n",
       "      <th></th>\n",
       "      <th>permalink</th>\n",
       "      <th>name</th>\n",
       "      <th>homepage_url</th>\n",
       "      <th>category_list</th>\n",
       "      <th>status</th>\n",
       "      <th>country_code</th>\n",
       "      <th>state_code</th>\n",
       "      <th>region</th>\n",
       "      <th>city</th>\n",
       "      <th>founded_at</th>\n",
       "    </tr>\n",
       "  </thead>\n",
       "  <tbody>\n",
       "    <tr>\n",
       "      <th>282</th>\n",
       "      <td>/organization/3divaz-3</td>\n",
       "      <td>3DIVAZ</td>\n",
       "      <td>http://www.3divaz.ch/Home</td>\n",
       "      <td>NaN</td>\n",
       "      <td>operating</td>\n",
       "      <td>CHE</td>\n",
       "      <td>1</td>\n",
       "      <td>CHE - Other</td>\n",
       "      <td>Wildegg</td>\n",
       "      <td>01-07-2014</td>\n",
       "    </tr>\n",
       "    <tr>\n",
       "      <th>1527</th>\n",
       "      <td>/organization/adtena-2</td>\n",
       "      <td>Adtena</td>\n",
       "      <td>http://adtena.com</td>\n",
       "      <td>NaN</td>\n",
       "      <td>closed</td>\n",
       "      <td>NaN</td>\n",
       "      <td>NaN</td>\n",
       "      <td>NaN</td>\n",
       "      <td>NaN</td>\n",
       "      <td>15-11-2014</td>\n",
       "    </tr>\n",
       "    <tr>\n",
       "      <th>1996</th>\n",
       "      <td>/organization/agora-6</td>\n",
       "      <td>Agora</td>\n",
       "      <td>https://www.agora.co</td>\n",
       "      <td>Android|Apps|Internet|Mobile</td>\n",
       "      <td>operating</td>\n",
       "      <td>USA</td>\n",
       "      <td>NY</td>\n",
       "      <td>New York City</td>\n",
       "      <td>New York</td>\n",
       "      <td>01-07-2013</td>\n",
       "    </tr>\n",
       "    <tr>\n",
       "      <th>3006</th>\n",
       "      <td>/organization/amicus-co</td>\n",
       "      <td>Amicus</td>\n",
       "      <td>http://www.amicus.co</td>\n",
       "      <td>Apps|Mobile|Mobile Commerce</td>\n",
       "      <td>operating</td>\n",
       "      <td>IND</td>\n",
       "      <td>7</td>\n",
       "      <td>New Delhi</td>\n",
       "      <td>New Delhi</td>\n",
       "      <td>01-01-2015</td>\n",
       "    </tr>\n",
       "    <tr>\n",
       "      <th>3091</th>\n",
       "      <td>/organization/amplitude-2</td>\n",
       "      <td>Amplitude</td>\n",
       "      <td>http://amplitude-technologies.com/</td>\n",
       "      <td>Electronics</td>\n",
       "      <td>operating</td>\n",
       "      <td>FRA</td>\n",
       "      <td>A8</td>\n",
       "      <td>Ãƒâ€°vry</td>\n",
       "      <td>Ã‰vry</td>\n",
       "      <td>01-01-2001</td>\n",
       "    </tr>\n",
       "  </tbody>\n",
       "</table>\n",
       "</div>"
      ],
      "text/plain": [
       "                      permalink       name  \\\n",
       "282      /organization/3divaz-3     3DIVAZ   \n",
       "1527     /organization/adtena-2     Adtena   \n",
       "1996      /organization/agora-6      Agora   \n",
       "3006    /organization/amicus-co     Amicus   \n",
       "3091  /organization/amplitude-2  Amplitude   \n",
       "\n",
       "                            homepage_url                 category_list  \\\n",
       "282            http://www.3divaz.ch/Home                           NaN   \n",
       "1527                   http://adtena.com                           NaN   \n",
       "1996                https://www.agora.co  Android|Apps|Internet|Mobile   \n",
       "3006                http://www.amicus.co   Apps|Mobile|Mobile Commerce   \n",
       "3091  http://amplitude-technologies.com/                   Electronics   \n",
       "\n",
       "         status country_code state_code         region       city  founded_at  \n",
       "282   operating          CHE          1    CHE - Other    Wildegg  01-07-2014  \n",
       "1527     closed          NaN        NaN            NaN        NaN  15-11-2014  \n",
       "1996  operating          USA         NY  New York City   New York  01-07-2013  \n",
       "3006  operating          IND          7      New Delhi  New Delhi  01-01-2015  \n",
       "3091  operating          FRA         A8       Ãƒâ€°vry      Ã‰vry  01-01-2001  "
      ]
     },
     "execution_count": 429,
     "metadata": {},
     "output_type": "execute_result"
    }
   ],
   "source": [
    "companies[companies.name.duplicated()].head(5)"
   ]
  },
  {
   "cell_type": "markdown",
   "metadata": {},
   "source": [
    "As we can see from above data that <font color ='red'> name </font> column has duplicate data whereas <font color ='red'> permalink </font> has no duplicate data. And where name is duplicated there we have different permalink. So it's clear we that we have to take <b> permalink as our unique column. </b>"
   ]
  },
  {
   "cell_type": "markdown",
   "metadata": {},
   "source": [
    "<b> Let's see whether there are any companies in the rounds2 file which are not  present in companies"
   ]
  },
  {
   "cell_type": "code",
   "execution_count": 430,
   "metadata": {},
   "outputs": [
    {
     "data": {
      "text/plain": [
       "[]"
      ]
     },
     "execution_count": 430,
     "metadata": {},
     "output_type": "execute_result"
    }
   ],
   "source": [
    "list(set(rounds2.company_permalink)-set(companies.permalink))"
   ]
  },
  {
   "cell_type": "markdown",
   "metadata": {},
   "source": [
    "So there are no companies which are not present in companies file"
   ]
  },
  {
   "cell_type": "markdown",
   "metadata": {},
   "source": [
    "# Merging the two dataframes"
   ]
  },
  {
   "cell_type": "markdown",
   "metadata": {},
   "source": [
    "Before this let's rename company_permalink to permalink for better understanding"
   ]
  },
  {
   "cell_type": "code",
   "execution_count": 431,
   "metadata": {},
   "outputs": [],
   "source": [
    "rounds2 = rounds2.rename(columns={'company_permalink':'permalink'})"
   ]
  },
  {
   "cell_type": "markdown",
   "metadata": {},
   "source": [
    "### Merging two dataframes, using inner join as we common data only"
   ]
  },
  {
   "cell_type": "code",
   "execution_count": 432,
   "metadata": {},
   "outputs": [
    {
     "data": {
      "text/plain": [
       "permalink                  114949\n",
       "funding_round_permalink    114949\n",
       "funding_round_type         114949\n",
       "funding_round_code          31140\n",
       "funded_at                  114949\n",
       "raised_amount_usd           94959\n",
       "name                       114948\n",
       "homepage_url               108815\n",
       "category_list              111539\n",
       "status                     114949\n",
       "country_code               106271\n",
       "state_code                 104003\n",
       "region                     104782\n",
       "city                       104785\n",
       "founded_at                  94428\n",
       "dtype: int64"
      ]
     },
     "execution_count": 432,
     "metadata": {},
     "output_type": "execute_result"
    }
   ],
   "source": [
    "master_frame = pd.merge(left=rounds2,right=companies,how='inner',on='permalink')\n",
    "master_frame.count()"
   ]
  },
  {
   "cell_type": "markdown",
   "metadata": {},
   "source": [
    "# Data cleaning"
   ]
  },
  {
   "cell_type": "markdown",
   "metadata": {},
   "source": [
    "Let's try to find out which column has null or blank values.\n",
    "Let's plot heat map of null values in each column"
   ]
  },
  {
   "cell_type": "code",
   "execution_count": 433,
   "metadata": {},
   "outputs": [
    {
     "data": {
      "image/png": "[encoded data removed]",
      "text/plain": [
       "<Figure size 1440x1080 with 2 Axes>"
      ]
     },
     "metadata": {
      "needs_background": "light"
     },
     "output_type": "display_data"
    }
   ],
   "source": [
    "plt.figure(figsize=(20,15))\n",
    "sns.heatmap(master_frame.isna(),cbar=True, yticklabels=False, cmap=\"Blues_r\" )\n",
    "plt.title(\"Heatmap to see distribution of null or blank values\")\n",
    "plt.show()"
   ]
  },
  {
   "cell_type": "markdown",
   "metadata": {},
   "source": [
    "We can see from above heatmap that funding_round_code and founded_at fields have most of the null or blank values.\n",
    "Now let's try to figure out which are the columns which are necessary for our analysis so that we can get rid of other columns."
   ]
  },
  {
   "cell_type": "markdown",
   "metadata": {},
   "source": [
    "<ul>\n",
    "    <li>permalink - It's necessary as it contains unique id</li>\n",
    "    <li>funding_round_permalink - Not necessary</li>\n",
    "    <li>funding_round_type - Necessary</li>\n",
    "    <li>funding_round_code - Not necessary</li>\n",
    "    <li>funded_at - Not necessary</li>\n",
    "    <li>raised_amount_usd - Necessary</li>\n",
    "    <li>name - Necessary</li>\n",
    "    <li>homepage_url - Not necessary</li>\n",
    "    <li>category_list - Necessary</li>\n",
    "    <li>status - not necessary</li>\n",
    "    <li>country_code - necessary</li>\n",
    "    <li>state_code - Not necessary</li>\n",
    "    <li>region - Not necessary</li>\n",
    "    <li>city - Not necessary</li>\n",
    "    <li>founded_at -Not necessary</li>\n",
    "</ul>"
   ]
  },
  {
   "cell_type": "code",
   "execution_count": 434,
   "metadata": {},
   "outputs": [],
   "source": [
    "master_frame = master_frame[['permalink', 'funding_round_type', 'raised_amount_usd', 'name','category_list', 'country_code']]"
   ]
  },
  {
   "cell_type": "markdown",
   "metadata": {},
   "source": [
    "Let's see now how many null values are present"
   ]
  },
  {
   "cell_type": "markdown",
   "metadata": {},
   "source": [
    "### Only selecting those fund types in which company is interested (We can do this as funding_round_type has no blank or null values)"
   ]
  },
  {
   "cell_type": "markdown",
   "metadata": {},
   "source": [
    "Before selecting let's see value counts to see whether naming is uniform or not"
   ]
  },
  {
   "cell_type": "code",
   "execution_count": 435,
   "metadata": {},
   "outputs": [
    {
     "data": {
      "text/plain": [
       "venture                  55494\n",
       "seed                     30524\n",
       "debt_financing            6895\n",
       "angel                     6094\n",
       "undisclosed               4897\n",
       "equity_crowdfunding       3257\n",
       "private_equity            2285\n",
       "grant                     2200\n",
       "convertible_note          1817\n",
       "post_ipo_equity            638\n",
       "product_crowdfunding       410\n",
       "non_equity_assistance      191\n",
       "post_ipo_debt              152\n",
       "secondary_market            95\n",
       "Name: funding_round_type, dtype: int64"
      ]
     },
     "execution_count": 435,
     "metadata": {},
     "output_type": "execute_result"
    }
   ],
   "source": [
    "master_frame.funding_round_type.value_counts() #no issues"
   ]
  },
  {
   "cell_type": "code",
   "execution_count": 436,
   "metadata": {},
   "outputs": [],
   "source": [
    "master_frame = master_frame[master_frame.funding_round_type.isin(['venture','seed','private_equity','angel'])]"
   ]
  },
  {
   "cell_type": "code",
   "execution_count": 437,
   "metadata": {},
   "outputs": [
    {
     "data": {
      "text/plain": [
       "permalink                 0\n",
       "funding_round_type        0\n",
       "raised_amount_usd     13770\n",
       "name                      1\n",
       "category_list          2497\n",
       "country_code           7321\n",
       "dtype: int64"
      ]
     },
     "execution_count": 437,
     "metadata": {},
     "output_type": "execute_result"
    }
   ],
   "source": [
    "master_frame.isnull().sum()"
   ]
  },
  {
   "cell_type": "markdown",
   "metadata": {},
   "source": [
    "Let's drop all the rows which doesn't have data for above columns."
   ]
  },
  {
   "cell_type": "code",
   "execution_count": 438,
   "metadata": {},
   "outputs": [],
   "source": [
    "master_frame = master_frame[~(master_frame['raised_amount_usd'].isnull() | master_frame['country_code'].isnull() | master_frame['category_list'].isnull())]"
   ]
  },
  {
   "cell_type": "markdown",
   "metadata": {},
   "source": [
    "Now as we dropped all null values , let's see how many null values still left"
   ]
  },
  {
   "cell_type": "code",
   "execution_count": 439,
   "metadata": {},
   "outputs": [
    {
     "data": {
      "text/plain": [
       "permalink             0\n",
       "funding_round_type    0\n",
       "raised_amount_usd     0\n",
       "name                  1\n",
       "category_list         0\n",
       "country_code          0\n",
       "dtype: int64"
      ]
     },
     "execution_count": 439,
     "metadata": {},
     "output_type": "execute_result"
    }
   ],
   "source": [
    "master_frame.isnull().sum()"
   ]
  },
  {
   "cell_type": "markdown",
   "metadata": {},
   "source": [
    "Giving name to the company whose name is missing"
   ]
  },
  {
   "cell_type": "code",
   "execution_count": 440,
   "metadata": {},
   "outputs": [
    {
     "data": {
      "text/html": [
       "<div>\n",
       "<style scoped>\n",
       "    .dataframe tbody tr th:only-of-type {\n",
       "        vertical-align: middle;\n",
       "    }\n",
       "\n",
       "    .dataframe tbody tr th {\n",
       "        vertical-align: top;\n",
       "    }\n",
       "\n",
       "    .dataframe thead th {\n",
       "        text-align: right;\n",
       "    }\n",
       "</style>\n",
       "<table border=\"1\" class=\"dataframe\">\n",
       "  <thead>\n",
       "    <tr style=\"text-align: right;\">\n",
       "      <th></th>\n",
       "      <th>permalink</th>\n",
       "      <th>funding_round_type</th>\n",
       "      <th>raised_amount_usd</th>\n",
       "      <th>name</th>\n",
       "      <th>category_list</th>\n",
       "      <th>country_code</th>\n",
       "    </tr>\n",
       "  </thead>\n",
       "  <tbody>\n",
       "    <tr>\n",
       "      <th>98692</th>\n",
       "      <td>/organization/tell-it-in</td>\n",
       "      <td>seed</td>\n",
       "      <td>25000.0</td>\n",
       "      <td>NaN</td>\n",
       "      <td>Startups</td>\n",
       "      <td>USA</td>\n",
       "    </tr>\n",
       "  </tbody>\n",
       "</table>\n",
       "</div>"
      ],
      "text/plain": [
       "                      permalink funding_round_type  raised_amount_usd name  \\\n",
       "98692  /organization/tell-it-in               seed            25000.0  NaN   \n",
       "\n",
       "      category_list country_code  \n",
       "98692      Startups          USA  "
      ]
     },
     "execution_count": 440,
     "metadata": {},
     "output_type": "execute_result"
    }
   ],
   "source": [
    "master_frame[master_frame.name.isnull()] #let's give a name to this company"
   ]
  },
  {
   "cell_type": "code",
   "execution_count": 441,
   "metadata": {},
   "outputs": [],
   "source": [
    "master_frame.loc[master_frame[master_frame.name.isnull()].index.item(),'name'] = master_frame[master_frame.name.isnull()].permalink.item().split(\"/\")[2]"
   ]
  },
  {
   "cell_type": "code",
   "execution_count": 442,
   "metadata": {},
   "outputs": [
    {
     "data": {
      "text/plain": [
       "permalink             0\n",
       "funding_round_type    0\n",
       "raised_amount_usd     0\n",
       "name                  0\n",
       "category_list         0\n",
       "country_code          0\n",
       "dtype: int64"
      ]
     },
     "execution_count": 442,
     "metadata": {},
     "output_type": "execute_result"
    }
   ],
   "source": [
    "master_frame.isnull().sum()"
   ]
  },
  {
   "cell_type": "code",
   "execution_count": 443,
   "metadata": {},
   "outputs": [],
   "source": [
    "master_frame.reset_index(drop=True, inplace=True)"
   ]
  },
  {
   "cell_type": "markdown",
   "metadata": {},
   "source": [
    "# Checkpoint 2: Funding Type Analysis"
   ]
  },
  {
   "cell_type": "markdown",
   "metadata": {},
   "source": [
    "### Finding mean for each type of funding type"
   ]
  },
  {
   "cell_type": "code",
   "execution_count": 444,
   "metadata": {},
   "outputs": [
    {
     "data": {
      "text/plain": [
       "funding_round_type\n",
       "seed              7.477937e+05\n",
       "angel             9.715739e+05\n",
       "venture           1.172422e+07\n",
       "private_equity    7.393849e+07\n",
       "Name: raised_amount_usd, dtype: float64"
      ]
     },
     "execution_count": 444,
     "metadata": {},
     "output_type": "execute_result"
    }
   ],
   "source": [
    "master_frame.groupby('funding_round_type')['raised_amount_usd'].mean().sort_values()"
   ]
  },
  {
   "cell_type": "markdown",
   "metadata": {},
   "source": [
    "### As company wants to do investment in the range of 5M to 15M only venture is satisfying the condition"
   ]
  },
  {
   "cell_type": "code",
   "execution_count": 445,
   "metadata": {},
   "outputs": [
    {
     "data": {
      "text/plain": [
       "funding_round_type\n",
       "angel             False\n",
       "private_equity    False\n",
       "seed              False\n",
       "venture            True\n",
       "Name: raised_amount_usd, dtype: bool"
      ]
     },
     "execution_count": 445,
     "metadata": {},
     "output_type": "execute_result"
    }
   ],
   "source": [
    "master_frame.groupby('funding_round_type')['raised_amount_usd'].mean().between(5000000,15000000, inclusive=True)"
   ]
  },
  {
   "cell_type": "code",
   "execution_count": 446,
   "metadata": {},
   "outputs": [
    {
     "data": {
      "image/png": "[encoded data removed]",
      "text/plain": [
       "<Figure size 1440x720 with 1 Axes>"
      ]
     },
     "metadata": {
      "needs_background": "light"
     },
     "output_type": "display_data"
    }
   ],
   "source": [
    "plt.figure(figsize=(20,10))\n",
    "plt.ylabel(\"Investment in Million dollars\")\n",
    "master_frame[\"funding_amount_in_milion\"] = master_frame.raised_amount_usd.apply(lambda x : x/1000000)\n",
    "ax = master_frame.groupby('funding_round_type')['funding_amount_in_milion'].mean().sort_values().plot.bar()\n",
    "ax.grid(color='b', ls = '-.', lw = 0.25)\n",
    "plt.xticks(rotation=0)\n",
    "plt.xlabel(\"Funding type\")\n",
    "for i in ax.patches:\n",
    "    ax.text(i.get_x() + (i.get_width()/2-0.08) , i.get_height()+0.5, str(round((i.get_height()), 2)), fontsize=15, color='blue')"
   ]
  },
  {
   "cell_type": "markdown",
   "metadata": {},
   "source": [
    "### So selecting only those rows which has funding type as venture"
   ]
  },
  {
   "cell_type": "code",
   "execution_count": 447,
   "metadata": {},
   "outputs": [],
   "source": [
    "master_frame = master_frame[master_frame.funding_round_type == 'venture']"
   ]
  },
  {
   "cell_type": "markdown",
   "metadata": {},
   "source": [
    "Let's drop funding_round_type as it's no longer required all values are for venture type."
   ]
  },
  {
   "cell_type": "code",
   "execution_count": 448,
   "metadata": {},
   "outputs": [],
   "source": [
    "master_frame.drop(['funding_round_type'],axis=1,inplace=True)"
   ]
  },
  {
   "cell_type": "code",
   "execution_count": 449,
   "metadata": {},
   "outputs": [
    {
     "data": {
      "text/html": [
       "<div>\n",
       "<style scoped>\n",
       "    .dataframe tbody tr th:only-of-type {\n",
       "        vertical-align: middle;\n",
       "    }\n",
       "\n",
       "    .dataframe tbody tr th {\n",
       "        vertical-align: top;\n",
       "    }\n",
       "\n",
       "    .dataframe thead th {\n",
       "        text-align: right;\n",
       "    }\n",
       "</style>\n",
       "<table border=\"1\" class=\"dataframe\">\n",
       "  <thead>\n",
       "    <tr style=\"text-align: right;\">\n",
       "      <th></th>\n",
       "      <th>permalink</th>\n",
       "      <th>raised_amount_usd</th>\n",
       "      <th>name</th>\n",
       "      <th>category_list</th>\n",
       "      <th>country_code</th>\n",
       "      <th>funding_amount_in_milion</th>\n",
       "    </tr>\n",
       "  </thead>\n",
       "  <tbody>\n",
       "    <tr>\n",
       "      <th>0</th>\n",
       "      <td>/organization/-fame</td>\n",
       "      <td>10000000.0</td>\n",
       "      <td>#fame</td>\n",
       "      <td>Media</td>\n",
       "      <td>IND</td>\n",
       "      <td>10.000000</td>\n",
       "    </tr>\n",
       "    <tr>\n",
       "      <th>2</th>\n",
       "      <td>/organization/0-6-com</td>\n",
       "      <td>2000000.0</td>\n",
       "      <td>0-6.com</td>\n",
       "      <td>Curated Web</td>\n",
       "      <td>CHN</td>\n",
       "      <td>2.000000</td>\n",
       "    </tr>\n",
       "    <tr>\n",
       "      <th>4</th>\n",
       "      <td>/organization/0ndine-biomedical-inc</td>\n",
       "      <td>719491.0</td>\n",
       "      <td>Ondine Biomedical Inc.</td>\n",
       "      <td>Biotechnology</td>\n",
       "      <td>CAN</td>\n",
       "      <td>0.719491</td>\n",
       "    </tr>\n",
       "    <tr>\n",
       "      <th>6</th>\n",
       "      <td>/organization/0xdata</td>\n",
       "      <td>20000000.0</td>\n",
       "      <td>H2O.ai</td>\n",
       "      <td>Analytics</td>\n",
       "      <td>USA</td>\n",
       "      <td>20.000000</td>\n",
       "    </tr>\n",
       "    <tr>\n",
       "      <th>7</th>\n",
       "      <td>/organization/0xdata</td>\n",
       "      <td>1700000.0</td>\n",
       "      <td>H2O.ai</td>\n",
       "      <td>Analytics</td>\n",
       "      <td>USA</td>\n",
       "      <td>1.700000</td>\n",
       "    </tr>\n",
       "  </tbody>\n",
       "</table>\n",
       "</div>"
      ],
      "text/plain": [
       "                             permalink  raised_amount_usd  \\\n",
       "0                  /organization/-fame         10000000.0   \n",
       "2                /organization/0-6-com          2000000.0   \n",
       "4  /organization/0ndine-biomedical-inc           719491.0   \n",
       "6                 /organization/0xdata         20000000.0   \n",
       "7                 /organization/0xdata          1700000.0   \n",
       "\n",
       "                     name  category_list country_code  \\\n",
       "0                   #fame          Media          IND   \n",
       "2                 0-6.com    Curated Web          CHN   \n",
       "4  Ondine Biomedical Inc.  Biotechnology          CAN   \n",
       "6                  H2O.ai      Analytics          USA   \n",
       "7                  H2O.ai      Analytics          USA   \n",
       "\n",
       "   funding_amount_in_milion  \n",
       "0                 10.000000  \n",
       "2                  2.000000  \n",
       "4                  0.719491  \n",
       "6                 20.000000  \n",
       "7                  1.700000  "
      ]
     },
     "execution_count": 449,
     "metadata": {},
     "output_type": "execute_result"
    }
   ],
   "source": [
    "master_frame.head(5)"
   ]
  },
  {
   "cell_type": "markdown",
   "metadata": {},
   "source": [
    "# Checkpoints - Part 2"
   ]
  },
  {
   "cell_type": "markdown",
   "metadata": {},
   "source": [
    "## Country Analysis"
   ]
  },
  {
   "cell_type": "code",
   "execution_count": 450,
   "metadata": {},
   "outputs": [],
   "source": [
    "top9 = master_frame[master_frame.country_code.isin(master_frame.groupby('country_code')['raised_amount_usd'].sum().sort_values(ascending=False)[0:9].index)]"
   ]
  },
  {
   "cell_type": "code",
   "execution_count": 451,
   "metadata": {},
   "outputs": [
    {
     "data": {
      "text/plain": [
       "country_code\n",
       "USA    4.200680e+11\n",
       "CHN    3.933892e+10\n",
       "GBR    2.007281e+10\n",
       "IND    1.426151e+10\n",
       "CAN    9.482218e+09\n",
       "FRA    7.226851e+09\n",
       "ISR    6.854350e+09\n",
       "DEU    6.306922e+09\n",
       "JPN    3.167647e+09\n",
       "Name: raised_amount_usd, dtype: float64"
      ]
     },
     "execution_count": 451,
     "metadata": {},
     "output_type": "execute_result"
    }
   ],
   "source": [
    "top9.groupby('country_code')['raised_amount_usd'].sum().sort_values(ascending=False)"
   ]
  },
  {
   "cell_type": "code",
   "execution_count": 452,
   "metadata": {},
   "outputs": [
    {
     "data": {
      "image/png": "[encoded data removed]",
      "text/plain": [
       "<Figure size 1440x576 with 1 Axes>"
      ]
     },
     "metadata": {
      "needs_background": "light"
     },
     "output_type": "display_data"
    }
   ],
   "source": [
    "plt.figure(figsize=(20,8))\n",
    "top9.groupby('country_code')['funding_amount_in_milion'].sum().sort_values().plot.barh(grid=True)\n",
    "plt.xlabel(\"Amount invested in USD Milion in top 9 countries\" )\n",
    "plt.ylabel(\"Country code\")\n",
    "plt.show()"
   ]
  },
  {
   "cell_type": "markdown",
   "metadata": {},
   "source": [
    "<b> Now we have to see which countries are English speaking countries for this we will use web scrapping technique to get data \n",
    "from wikipedia. </b>"
   ]
  },
  {
   "cell_type": "code",
   "execution_count": 453,
   "metadata": {},
   "outputs": [],
   "source": [
    "from bs4 import BeautifulSoup \n",
    "def en_con_details():\n",
    "    r = requests.get(\"https://en.wikipedia.org/wiki/List_of_territorial_entities_where_English_is_an_official_language\") \n",
    "    soup = BeautifulSoup(r.text, 'lxml') # Parse the HTML as a string\n",
    "    table = soup.find_all('table')\n",
    "    \n",
    "    headers = []\n",
    "    tb = 0\n",
    "    global  off_en_counts\n",
    "    r = 1\n",
    "    r_len = len(table[0].find_all('tr')) + len(table[1].find_all('tr'))\n",
    "    while tb < 2:\n",
    "        t = table[tb]\n",
    "        tr_elements = t.find_all('tr')\n",
    "        for i in range(0,len(tr_elements)):\n",
    "            \n",
    "            if i == 0 :\n",
    "                r -= 1\n",
    "                if tb == 0:\n",
    "                    for j in tr_elements[i].find_all('th'):\n",
    "                        headers.append(str.strip(j.text))\n",
    "                    off_en_counts = pd.DataFrame([],columns=headers,index=range(0,r_len-2))\n",
    "            elif i != 0:\n",
    "                l = 0\n",
    "                for k in tr_elements[i].find_all('td'):\n",
    "                    off_en_counts.iloc[r-1,l] = str.strip(k.text)\n",
    "                    l+=1\n",
    "            r+=1\n",
    "        tb+=1\n",
    "    return off_en_counts"
   ]
  },
  {
   "cell_type": "code",
   "execution_count": 454,
   "metadata": {},
   "outputs": [],
   "source": [
    "off_en_counts = en_con_details()  "
   ]
  },
  {
   "cell_type": "markdown",
   "metadata": {},
   "source": [
    "Let's do data cleaning and remove unwanted columns"
   ]
  },
  {
   "cell_type": "code",
   "execution_count": 455,
   "metadata": {},
   "outputs": [],
   "source": [
    "off_en_counts.drop(['Nr','Region','Population','Primary language?'], axis=1,inplace=True)\n",
    "off_en_counts['Country'] = off_en_counts['Country'].apply(lambda x : x.split(\"[\")[0])"
   ]
  },
  {
   "cell_type": "markdown",
   "metadata": {},
   "source": [
    "Now let's merge the <b>off_en_counts </b> and <b> top9 </b>"
   ]
  },
  {
   "cell_type": "code",
   "execution_count": 456,
   "metadata": {},
   "outputs": [],
   "source": [
    "off_en_counts = off_en_counts.rename(columns={'Alpha-3 code':'country_code'})"
   ]
  },
  {
   "cell_type": "markdown",
   "metadata": {},
   "source": [
    "## Checkpoint 3: Country Analysis"
   ]
  },
  {
   "cell_type": "code",
   "execution_count": 457,
   "metadata": {},
   "outputs": [],
   "source": [
    "en_inv = pd.merge(left=top9,right=off_en_counts,how='inner',on='country_code')"
   ]
  },
  {
   "cell_type": "code",
   "execution_count": 458,
   "metadata": {},
   "outputs": [],
   "source": [
    "en_inv.reset_index(drop=True,inplace=True)"
   ]
  },
  {
   "cell_type": "code",
   "execution_count": 459,
   "metadata": {},
   "outputs": [
    {
     "data": {
      "text/plain": [
       "array(['India', 'Canada', 'United States', 'United Kingdom'], dtype=object)"
      ]
     },
     "execution_count": 459,
     "metadata": {},
     "output_type": "execute_result"
    }
   ],
   "source": [
    "en_inv.Country.unique()"
   ]
  },
  {
   "cell_type": "markdown",
   "metadata": {},
   "source": [
    "Now we have data for english speaking countries from which we can conclude that all 4 countries out of 9 have English as there \n",
    "official language."
   ]
  },
  {
   "cell_type": "code",
   "execution_count": 460,
   "metadata": {},
   "outputs": [
    {
     "data": {
      "text/plain": [
       "Country\n",
       "United States     4.200680e+11\n",
       "United Kingdom    2.007281e+10\n",
       "India             1.426151e+10\n",
       "Canada            9.482218e+09\n",
       "Name: raised_amount_usd, dtype: float64"
      ]
     },
     "execution_count": 460,
     "metadata": {},
     "output_type": "execute_result"
    }
   ],
   "source": [
    "en_inv.groupby('Country')['raised_amount_usd'].sum().sort_values(ascending=False)"
   ]
  },
  {
   "cell_type": "markdown",
   "metadata": {},
   "source": [
    "We have to consider data for only 3 top English speaking countries, and which are USD,GBR,IND. "
   ]
  },
  {
   "cell_type": "markdown",
   "metadata": {},
   "source": [
    "### Top 3 English speaking performing countries"
   ]
  },
  {
   "cell_type": "code",
   "execution_count": 461,
   "metadata": {},
   "outputs": [
    {
     "data": {
      "text/plain": [
       "Country\n",
       "United States     4.200680e+11\n",
       "United Kingdom    2.007281e+10\n",
       "India             1.426151e+10\n",
       "Name: raised_amount_usd, dtype: float64"
      ]
     },
     "execution_count": 461,
     "metadata": {},
     "output_type": "execute_result"
    }
   ],
   "source": [
    "en_inv.groupby('Country')['raised_amount_usd'].sum().sort_values(ascending=False)[0:3]"
   ]
  },
  {
   "cell_type": "code",
   "execution_count": 462,
   "metadata": {},
   "outputs": [],
   "source": [
    "top3 = en_inv[en_inv.country_code.isin(['USA','GBR','IND'])]"
   ]
  },
  {
   "cell_type": "markdown",
   "metadata": {},
   "source": [
    "# Checkpoint 4: Sector Analysis 1"
   ]
  },
  {
   "cell_type": "markdown",
   "metadata": {},
   "source": [
    "## Now let's merge dataframe with mapping sheet (which contains mapping of categories with main sector)"
   ]
  },
  {
   "cell_type": "code",
   "execution_count": 463,
   "metadata": {},
   "outputs": [],
   "source": [
    "mapping['main_sector'] = mapping.loc[:,mapping.columns[1]:].dot(mapping.columns[1:])"
   ]
  },
  {
   "cell_type": "code",
   "execution_count": 464,
   "metadata": {},
   "outputs": [],
   "source": [
    "mapping = mapping[['category_list','main_sector']]"
   ]
  },
  {
   "cell_type": "markdown",
   "metadata": {},
   "source": [
    "<b>Let's merge the mapping file and master_frame</b>"
   ]
  },
  {
   "cell_type": "markdown",
   "metadata": {},
   "source": [
    "Before that we have to process those categories which have multiple secotors."
   ]
  },
  {
   "cell_type": "code",
   "execution_count": 465,
   "metadata": {},
   "outputs": [
    {
     "name": "stderr",
     "output_type": "stream",
     "text": [
      "F:\\Amar-AIML\\Softwares\\lib\\site-packages\\pandas\\core\\generic.py:5303: SettingWithCopyWarning: \n",
      "A value is trying to be set on a copy of a slice from a DataFrame.\n",
      "Try using .loc[row_indexer,col_indexer] = value instead\n",
      "\n",
      "See the caveats in the documentation: https://pandas.pydata.org/pandas-docs/stable/user_guide/indexing.html#returning-a-view-versus-a-copy\n",
      "  self[name] = value\n"
     ]
    }
   ],
   "source": [
    "top3.category_list = top3.category_list.apply(lambda x: str(x).split(\"|\")[0])"
   ]
  },
  {
   "cell_type": "markdown",
   "metadata": {},
   "source": [
    "Before merging the data let's see whether there is any difference in the data between mapping and top3 file."
   ]
  },
  {
   "cell_type": "code",
   "execution_count": 466,
   "metadata": {},
   "outputs": [
    {
     "data": {
      "text/plain": [
       "13"
      ]
     },
     "execution_count": 466,
     "metadata": {},
     "output_type": "execute_result"
    }
   ],
   "source": [
    "len(list(set(top3.category_list)-set(mapping.category_list)))"
   ]
  },
  {
   "cell_type": "markdown",
   "metadata": {},
   "source": [
    "### As value is not 0, there are categories for which we don't have data in mapping file "
   ]
  },
  {
   "cell_type": "markdown",
   "metadata": {},
   "source": [
    "So let's do inner join, so that only those rows will be retain for which we have main_sector data available"
   ]
  },
  {
   "cell_type": "code",
   "execution_count": 467,
   "metadata": {},
   "outputs": [
    {
     "data": {
      "text/html": [
       "<div>\n",
       "<style scoped>\n",
       "    .dataframe tbody tr th:only-of-type {\n",
       "        vertical-align: middle;\n",
       "    }\n",
       "\n",
       "    .dataframe tbody tr th {\n",
       "        vertical-align: top;\n",
       "    }\n",
       "\n",
       "    .dataframe thead th {\n",
       "        text-align: right;\n",
       "    }\n",
       "</style>\n",
       "<table border=\"1\" class=\"dataframe\">\n",
       "  <thead>\n",
       "    <tr style=\"text-align: right;\">\n",
       "      <th></th>\n",
       "      <th>permalink</th>\n",
       "      <th>raised_amount_usd</th>\n",
       "      <th>name</th>\n",
       "      <th>category_list</th>\n",
       "      <th>country_code</th>\n",
       "      <th>funding_amount_in_milion</th>\n",
       "      <th>Country</th>\n",
       "      <th>main_sector</th>\n",
       "    </tr>\n",
       "  </thead>\n",
       "  <tbody>\n",
       "    <tr>\n",
       "      <th>0</th>\n",
       "      <td>/organization/-fame</td>\n",
       "      <td>10000000.0</td>\n",
       "      <td>#fame</td>\n",
       "      <td>Media</td>\n",
       "      <td>IND</td>\n",
       "      <td>10.00</td>\n",
       "      <td>India</td>\n",
       "      <td>Entertainment</td>\n",
       "    </tr>\n",
       "    <tr>\n",
       "      <th>1</th>\n",
       "      <td>/organization/manas-informatics</td>\n",
       "      <td>160000.0</td>\n",
       "      <td>Manas Informatic</td>\n",
       "      <td>Media</td>\n",
       "      <td>IND</td>\n",
       "      <td>0.16</td>\n",
       "      <td>India</td>\n",
       "      <td>Entertainment</td>\n",
       "    </tr>\n",
       "    <tr>\n",
       "      <th>2</th>\n",
       "      <td>/organization/all-def-digital</td>\n",
       "      <td>5000000.0</td>\n",
       "      <td>All Def Digital</td>\n",
       "      <td>Media</td>\n",
       "      <td>USA</td>\n",
       "      <td>5.00</td>\n",
       "      <td>United States</td>\n",
       "      <td>Entertainment</td>\n",
       "    </tr>\n",
       "    <tr>\n",
       "      <th>3</th>\n",
       "      <td>/organization/audiosocket</td>\n",
       "      <td>650000.0</td>\n",
       "      <td>Audiosocket</td>\n",
       "      <td>Media</td>\n",
       "      <td>USA</td>\n",
       "      <td>0.65</td>\n",
       "      <td>United States</td>\n",
       "      <td>Entertainment</td>\n",
       "    </tr>\n",
       "    <tr>\n",
       "      <th>4</th>\n",
       "      <td>/organization/audiosocket</td>\n",
       "      <td>750000.0</td>\n",
       "      <td>Audiosocket</td>\n",
       "      <td>Media</td>\n",
       "      <td>USA</td>\n",
       "      <td>0.75</td>\n",
       "      <td>United States</td>\n",
       "      <td>Entertainment</td>\n",
       "    </tr>\n",
       "  </tbody>\n",
       "</table>\n",
       "</div>"
      ],
      "text/plain": [
       "                         permalink  raised_amount_usd              name  \\\n",
       "0              /organization/-fame         10000000.0             #fame   \n",
       "1  /organization/manas-informatics           160000.0  Manas Informatic   \n",
       "2    /organization/all-def-digital          5000000.0   All Def Digital   \n",
       "3        /organization/audiosocket           650000.0       Audiosocket   \n",
       "4        /organization/audiosocket           750000.0       Audiosocket   \n",
       "\n",
       "  category_list country_code  funding_amount_in_milion        Country  \\\n",
       "0         Media          IND                     10.00          India   \n",
       "1         Media          IND                      0.16          India   \n",
       "2         Media          USA                      5.00  United States   \n",
       "3         Media          USA                      0.65  United States   \n",
       "4         Media          USA                      0.75  United States   \n",
       "\n",
       "     main_sector  \n",
       "0  Entertainment  \n",
       "1  Entertainment  \n",
       "2  Entertainment  \n",
       "3  Entertainment  \n",
       "4  Entertainment  "
      ]
     },
     "execution_count": 467,
     "metadata": {},
     "output_type": "execute_result"
    }
   ],
   "source": [
    "top3 = pd.merge(left=top3,right=mapping,how='inner',on='category_list')\n",
    "top3.head(5)"
   ]
  },
  {
   "cell_type": "code",
   "execution_count": 468,
   "metadata": {},
   "outputs": [
    {
     "data": {
      "text/plain": [
       "array(['India', 'United States', 'United Kingdom'], dtype=object)"
      ]
     },
     "execution_count": 468,
     "metadata": {},
     "output_type": "execute_result"
    }
   ],
   "source": [
    "top3.Country.unique()"
   ]
  },
  {
   "cell_type": "code",
   "execution_count": 469,
   "metadata": {},
   "outputs": [
    {
     "data": {
      "text/plain": [
       "permalink                   0\n",
       "raised_amount_usd           0\n",
       "name                        0\n",
       "category_list               0\n",
       "country_code                0\n",
       "funding_amount_in_milion    0\n",
       "Country                     0\n",
       "main_sector                 0\n",
       "dtype: int64"
      ]
     },
     "execution_count": 469,
     "metadata": {},
     "output_type": "execute_result"
    }
   ],
   "source": [
    "top3.isnull().sum()"
   ]
  },
  {
   "cell_type": "markdown",
   "metadata": {},
   "source": [
    "# Checkpoint 5: Sector Analysis 2\n",
    "## Creating seperate dataframe for each country"
   ]
  },
  {
   "cell_type": "code",
   "execution_count": 470,
   "metadata": {},
   "outputs": [],
   "source": [
    "D1 = top3[(top3.country_code == 'USA') & (top3['funding_amount_in_milion'] >= 5) & (top3['funding_amount_in_milion'] <= 15)]"
   ]
  },
  {
   "cell_type": "code",
   "execution_count": 471,
   "metadata": {},
   "outputs": [
    {
     "data": {
      "text/html": [
       "<div>\n",
       "<style scoped>\n",
       "    .dataframe tbody tr th:only-of-type {\n",
       "        vertical-align: middle;\n",
       "    }\n",
       "\n",
       "    .dataframe tbody tr th {\n",
       "        vertical-align: top;\n",
       "    }\n",
       "\n",
       "    .dataframe thead th {\n",
       "        text-align: right;\n",
       "    }\n",
       "</style>\n",
       "<table border=\"1\" class=\"dataframe\">\n",
       "  <thead>\n",
       "    <tr style=\"text-align: right;\">\n",
       "      <th></th>\n",
       "      <th>permalink</th>\n",
       "      <th>raised_amount_usd</th>\n",
       "      <th>name</th>\n",
       "      <th>category_list</th>\n",
       "      <th>country_code</th>\n",
       "      <th>funding_amount_in_milion</th>\n",
       "      <th>Country</th>\n",
       "      <th>main_sector</th>\n",
       "      <th>Total Investment</th>\n",
       "      <th>Investment count</th>\n",
       "    </tr>\n",
       "  </thead>\n",
       "  <tbody>\n",
       "    <tr>\n",
       "      <th>0</th>\n",
       "      <td>/organization/all-def-digital</td>\n",
       "      <td>5000000.0</td>\n",
       "      <td>All Def Digital</td>\n",
       "      <td>Media</td>\n",
       "      <td>USA</td>\n",
       "      <td>5.0</td>\n",
       "      <td>United States</td>\n",
       "      <td>Entertainment</td>\n",
       "      <td>5.099198e+09</td>\n",
       "      <td>591</td>\n",
       "    </tr>\n",
       "    <tr>\n",
       "      <th>1</th>\n",
       "      <td>/organization/chefs-feed</td>\n",
       "      <td>5000000.0</td>\n",
       "      <td>ChefsFeed</td>\n",
       "      <td>Media</td>\n",
       "      <td>USA</td>\n",
       "      <td>5.0</td>\n",
       "      <td>United States</td>\n",
       "      <td>Entertainment</td>\n",
       "      <td>5.099198e+09</td>\n",
       "      <td>591</td>\n",
       "    </tr>\n",
       "    <tr>\n",
       "      <th>2</th>\n",
       "      <td>/organization/huffingtonpost</td>\n",
       "      <td>5000000.0</td>\n",
       "      <td>The Huffington Post</td>\n",
       "      <td>Media</td>\n",
       "      <td>USA</td>\n",
       "      <td>5.0</td>\n",
       "      <td>United States</td>\n",
       "      <td>Entertainment</td>\n",
       "      <td>5.099198e+09</td>\n",
       "      <td>591</td>\n",
       "    </tr>\n",
       "    <tr>\n",
       "      <th>3</th>\n",
       "      <td>/organization/huffingtonpost</td>\n",
       "      <td>5000000.0</td>\n",
       "      <td>The Huffington Post</td>\n",
       "      <td>Media</td>\n",
       "      <td>USA</td>\n",
       "      <td>5.0</td>\n",
       "      <td>United States</td>\n",
       "      <td>Entertainment</td>\n",
       "      <td>5.099198e+09</td>\n",
       "      <td>591</td>\n",
       "    </tr>\n",
       "    <tr>\n",
       "      <th>4</th>\n",
       "      <td>/organization/matchmine</td>\n",
       "      <td>10000000.0</td>\n",
       "      <td>MatchMine</td>\n",
       "      <td>Media</td>\n",
       "      <td>USA</td>\n",
       "      <td>10.0</td>\n",
       "      <td>United States</td>\n",
       "      <td>Entertainment</td>\n",
       "      <td>5.099198e+09</td>\n",
       "      <td>591</td>\n",
       "    </tr>\n",
       "  </tbody>\n",
       "</table>\n",
       "</div>"
      ],
      "text/plain": [
       "                       permalink  raised_amount_usd                 name  \\\n",
       "0  /organization/all-def-digital          5000000.0      All Def Digital   \n",
       "1       /organization/chefs-feed          5000000.0            ChefsFeed   \n",
       "2   /organization/huffingtonpost          5000000.0  The Huffington Post   \n",
       "3   /organization/huffingtonpost          5000000.0  The Huffington Post   \n",
       "4        /organization/matchmine         10000000.0            MatchMine   \n",
       "\n",
       "  category_list country_code  funding_amount_in_milion        Country  \\\n",
       "0         Media          USA                       5.0  United States   \n",
       "1         Media          USA                       5.0  United States   \n",
       "2         Media          USA                       5.0  United States   \n",
       "3         Media          USA                       5.0  United States   \n",
       "4         Media          USA                      10.0  United States   \n",
       "\n",
       "     main_sector  Total Investment  Investment count  \n",
       "0  Entertainment      5.099198e+09               591  \n",
       "1  Entertainment      5.099198e+09               591  \n",
       "2  Entertainment      5.099198e+09               591  \n",
       "3  Entertainment      5.099198e+09               591  \n",
       "4  Entertainment      5.099198e+09               591  "
      ]
     },
     "execution_count": 471,
     "metadata": {},
     "output_type": "execute_result"
    }
   ],
   "source": [
    "D1_agg = pd.DataFrame(D1.groupby('main_sector')['raised_amount_usd'].agg(['sum','count'])).reset_index().rename(columns={'sum':'Total Investment','count':'Investment count'})\n",
    "D1 = pd.merge(left=D1,right=D1_agg,how='inner',on='main_sector')\n",
    "D1.head(5)"
   ]
  },
  {
   "cell_type": "code",
   "execution_count": 472,
   "metadata": {},
   "outputs": [],
   "source": [
    "D2 =  top3[(top3.country_code == 'GBR') & (top3['funding_amount_in_milion'] >= 5) & (top3['funding_amount_in_milion'] <= 15)]"
   ]
  },
  {
   "cell_type": "code",
   "execution_count": 473,
   "metadata": {},
   "outputs": [
    {
     "data": {
      "text/html": [
       "<div>\n",
       "<style scoped>\n",
       "    .dataframe tbody tr th:only-of-type {\n",
       "        vertical-align: middle;\n",
       "    }\n",
       "\n",
       "    .dataframe tbody tr th {\n",
       "        vertical-align: top;\n",
       "    }\n",
       "\n",
       "    .dataframe thead th {\n",
       "        text-align: right;\n",
       "    }\n",
       "</style>\n",
       "<table border=\"1\" class=\"dataframe\">\n",
       "  <thead>\n",
       "    <tr style=\"text-align: right;\">\n",
       "      <th></th>\n",
       "      <th>permalink</th>\n",
       "      <th>raised_amount_usd</th>\n",
       "      <th>name</th>\n",
       "      <th>category_list</th>\n",
       "      <th>country_code</th>\n",
       "      <th>funding_amount_in_milion</th>\n",
       "      <th>Country</th>\n",
       "      <th>main_sector</th>\n",
       "      <th>Total Investment</th>\n",
       "      <th>Investment count</th>\n",
       "    </tr>\n",
       "  </thead>\n",
       "  <tbody>\n",
       "    <tr>\n",
       "      <th>0</th>\n",
       "      <td>/organization/90min</td>\n",
       "      <td>15000000.0</td>\n",
       "      <td>90min</td>\n",
       "      <td>Media</td>\n",
       "      <td>GBR</td>\n",
       "      <td>15.000000</td>\n",
       "      <td>United Kingdom</td>\n",
       "      <td>Entertainment</td>\n",
       "      <td>482784687.0</td>\n",
       "      <td>56</td>\n",
       "    </tr>\n",
       "    <tr>\n",
       "      <th>1</th>\n",
       "      <td>/organization/90min</td>\n",
       "      <td>5800000.0</td>\n",
       "      <td>90min</td>\n",
       "      <td>Media</td>\n",
       "      <td>GBR</td>\n",
       "      <td>5.800000</td>\n",
       "      <td>United Kingdom</td>\n",
       "      <td>Entertainment</td>\n",
       "      <td>482784687.0</td>\n",
       "      <td>56</td>\n",
       "    </tr>\n",
       "    <tr>\n",
       "      <th>2</th>\n",
       "      <td>/organization/amino-communications</td>\n",
       "      <td>8505908.0</td>\n",
       "      <td>Amino Communications</td>\n",
       "      <td>Entertainment</td>\n",
       "      <td>GBR</td>\n",
       "      <td>8.505908</td>\n",
       "      <td>United Kingdom</td>\n",
       "      <td>Entertainment</td>\n",
       "      <td>482784687.0</td>\n",
       "      <td>56</td>\n",
       "    </tr>\n",
       "    <tr>\n",
       "      <th>3</th>\n",
       "      <td>/organization/mubi</td>\n",
       "      <td>15000000.0</td>\n",
       "      <td>MUBI</td>\n",
       "      <td>Entertainment</td>\n",
       "      <td>GBR</td>\n",
       "      <td>15.000000</td>\n",
       "      <td>United Kingdom</td>\n",
       "      <td>Entertainment</td>\n",
       "      <td>482784687.0</td>\n",
       "      <td>56</td>\n",
       "    </tr>\n",
       "    <tr>\n",
       "      <th>4</th>\n",
       "      <td>/organization/mubi</td>\n",
       "      <td>5095630.0</td>\n",
       "      <td>MUBI</td>\n",
       "      <td>Entertainment</td>\n",
       "      <td>GBR</td>\n",
       "      <td>5.095630</td>\n",
       "      <td>United Kingdom</td>\n",
       "      <td>Entertainment</td>\n",
       "      <td>482784687.0</td>\n",
       "      <td>56</td>\n",
       "    </tr>\n",
       "  </tbody>\n",
       "</table>\n",
       "</div>"
      ],
      "text/plain": [
       "                            permalink  raised_amount_usd  \\\n",
       "0                 /organization/90min         15000000.0   \n",
       "1                 /organization/90min          5800000.0   \n",
       "2  /organization/amino-communications          8505908.0   \n",
       "3                  /organization/mubi         15000000.0   \n",
       "4                  /organization/mubi          5095630.0   \n",
       "\n",
       "                   name  category_list country_code  funding_amount_in_milion  \\\n",
       "0                 90min          Media          GBR                 15.000000   \n",
       "1                 90min          Media          GBR                  5.800000   \n",
       "2  Amino Communications  Entertainment          GBR                  8.505908   \n",
       "3                  MUBI  Entertainment          GBR                 15.000000   \n",
       "4                  MUBI  Entertainment          GBR                  5.095630   \n",
       "\n",
       "          Country    main_sector  Total Investment  Investment count  \n",
       "0  United Kingdom  Entertainment       482784687.0                56  \n",
       "1  United Kingdom  Entertainment       482784687.0                56  \n",
       "2  United Kingdom  Entertainment       482784687.0                56  \n",
       "3  United Kingdom  Entertainment       482784687.0                56  \n",
       "4  United Kingdom  Entertainment       482784687.0                56  "
      ]
     },
     "execution_count": 473,
     "metadata": {},
     "output_type": "execute_result"
    }
   ],
   "source": [
    "D2_agg = pd.DataFrame(D2.groupby('main_sector')['raised_amount_usd'].agg(['sum','count'])).reset_index().rename(columns={'sum':'Total Investment','count':'Investment count'})\n",
    "D2 = pd.merge(left=D2,right=D2_agg,how='inner',on='main_sector')\n",
    "D2.head(5)"
   ]
  },
  {
   "cell_type": "code",
   "execution_count": 474,
   "metadata": {},
   "outputs": [],
   "source": [
    "D3 =  top3[(top3.country_code == 'IND') & (top3['funding_amount_in_milion'] >= 5) & (top3['funding_amount_in_milion'] <= 15)]"
   ]
  },
  {
   "cell_type": "code",
   "execution_count": 475,
   "metadata": {},
   "outputs": [
    {
     "data": {
      "text/html": [
       "<div>\n",
       "<style scoped>\n",
       "    .dataframe tbody tr th:only-of-type {\n",
       "        vertical-align: middle;\n",
       "    }\n",
       "\n",
       "    .dataframe tbody tr th {\n",
       "        vertical-align: top;\n",
       "    }\n",
       "\n",
       "    .dataframe thead th {\n",
       "        text-align: right;\n",
       "    }\n",
       "</style>\n",
       "<table border=\"1\" class=\"dataframe\">\n",
       "  <thead>\n",
       "    <tr style=\"text-align: right;\">\n",
       "      <th></th>\n",
       "      <th>permalink</th>\n",
       "      <th>raised_amount_usd</th>\n",
       "      <th>name</th>\n",
       "      <th>category_list</th>\n",
       "      <th>country_code</th>\n",
       "      <th>funding_amount_in_milion</th>\n",
       "      <th>Country</th>\n",
       "      <th>main_sector</th>\n",
       "      <th>Total Investment</th>\n",
       "      <th>Investment count</th>\n",
       "    </tr>\n",
       "  </thead>\n",
       "  <tbody>\n",
       "    <tr>\n",
       "      <th>0</th>\n",
       "      <td>/organization/-fame</td>\n",
       "      <td>10000000.0</td>\n",
       "      <td>#fame</td>\n",
       "      <td>Media</td>\n",
       "      <td>IND</td>\n",
       "      <td>10.00</td>\n",
       "      <td>India</td>\n",
       "      <td>Entertainment</td>\n",
       "      <td>280830000.0</td>\n",
       "      <td>33</td>\n",
       "    </tr>\n",
       "    <tr>\n",
       "      <th>1</th>\n",
       "      <td>/organization/adlabs-imagica</td>\n",
       "      <td>8180000.0</td>\n",
       "      <td>Adlabs Imagica</td>\n",
       "      <td>Entertainment</td>\n",
       "      <td>IND</td>\n",
       "      <td>8.18</td>\n",
       "      <td>India</td>\n",
       "      <td>Entertainment</td>\n",
       "      <td>280830000.0</td>\n",
       "      <td>33</td>\n",
       "    </tr>\n",
       "    <tr>\n",
       "      <th>2</th>\n",
       "      <td>/organization/apalya</td>\n",
       "      <td>7500000.0</td>\n",
       "      <td>Apalya</td>\n",
       "      <td>Content</td>\n",
       "      <td>IND</td>\n",
       "      <td>7.50</td>\n",
       "      <td>India</td>\n",
       "      <td>Entertainment</td>\n",
       "      <td>280830000.0</td>\n",
       "      <td>33</td>\n",
       "    </tr>\n",
       "    <tr>\n",
       "      <th>3</th>\n",
       "      <td>/organization/apalya</td>\n",
       "      <td>8000000.0</td>\n",
       "      <td>Apalya</td>\n",
       "      <td>Content</td>\n",
       "      <td>IND</td>\n",
       "      <td>8.00</td>\n",
       "      <td>India</td>\n",
       "      <td>Entertainment</td>\n",
       "      <td>280830000.0</td>\n",
       "      <td>33</td>\n",
       "    </tr>\n",
       "    <tr>\n",
       "      <th>4</th>\n",
       "      <td>/organization/chef-s-basket</td>\n",
       "      <td>6000000.0</td>\n",
       "      <td>Chef's Basket</td>\n",
       "      <td>Restaurants</td>\n",
       "      <td>IND</td>\n",
       "      <td>6.00</td>\n",
       "      <td>India</td>\n",
       "      <td>Entertainment</td>\n",
       "      <td>280830000.0</td>\n",
       "      <td>33</td>\n",
       "    </tr>\n",
       "  </tbody>\n",
       "</table>\n",
       "</div>"
      ],
      "text/plain": [
       "                      permalink  raised_amount_usd            name  \\\n",
       "0           /organization/-fame         10000000.0           #fame   \n",
       "1  /organization/adlabs-imagica          8180000.0  Adlabs Imagica   \n",
       "2          /organization/apalya          7500000.0          Apalya   \n",
       "3          /organization/apalya          8000000.0          Apalya   \n",
       "4   /organization/chef-s-basket          6000000.0   Chef's Basket   \n",
       "\n",
       "   category_list country_code  funding_amount_in_milion Country  \\\n",
       "0          Media          IND                     10.00   India   \n",
       "1  Entertainment          IND                      8.18   India   \n",
       "2        Content          IND                      7.50   India   \n",
       "3        Content          IND                      8.00   India   \n",
       "4    Restaurants          IND                      6.00   India   \n",
       "\n",
       "     main_sector  Total Investment  Investment count  \n",
       "0  Entertainment       280830000.0                33  \n",
       "1  Entertainment       280830000.0                33  \n",
       "2  Entertainment       280830000.0                33  \n",
       "3  Entertainment       280830000.0                33  \n",
       "4  Entertainment       280830000.0                33  "
      ]
     },
     "execution_count": 475,
     "metadata": {},
     "output_type": "execute_result"
    }
   ],
   "source": [
    "D3_agg = pd.DataFrame(D3.groupby('main_sector')['raised_amount_usd'].agg(['sum','count'])).reset_index().rename(columns={'sum':'Total Investment','count':'Investment count'})\n",
    "D3 = pd.merge(left=D3,right=D3_agg,how='inner',on='main_sector')\n",
    "D3.head(5)"
   ]
  },
  {
   "cell_type": "markdown",
   "metadata": {},
   "source": [
    "<b> Let's find out total number of investments for each country"
   ]
  },
  {
   "cell_type": "code",
   "execution_count": 476,
   "metadata": {},
   "outputs": [
    {
     "data": {
      "text/plain": [
       "country_code\n",
       "USA    12012\n",
       "GBR      619\n",
       "IND      328\n",
       "Name: country_code, dtype: int64"
      ]
     },
     "execution_count": 476,
     "metadata": {},
     "output_type": "execute_result"
    }
   ],
   "source": [
    "top3[(top3.funding_amount_in_milion >= 5) & (top3.funding_amount_in_milion <=15)].groupby('country_code')['country_code'].count().sort_values(ascending=False)"
   ]
  },
  {
   "cell_type": "markdown",
   "metadata": {},
   "source": [
    "<b> Let's find out total amound of investment for each country </b>"
   ]
  },
  {
   "cell_type": "code",
   "execution_count": 477,
   "metadata": {},
   "outputs": [
    {
     "data": {
      "text/plain": [
       "country_code\n",
       "USA    1.073183e+11\n",
       "GBR    5.365228e+09\n",
       "IND    2.949544e+09\n",
       "Name: raised_amount_usd, dtype: float64"
      ]
     },
     "execution_count": 477,
     "metadata": {},
     "output_type": "execute_result"
    }
   ],
   "source": [
    "top3[(top3.funding_amount_in_milion >= 5) & (top3.funding_amount_in_milion <=15)].groupby('country_code')['raised_amount_usd'].sum().sort_values(ascending=False)[0:3]"
   ]
  },
  {
   "cell_type": "code",
   "execution_count": 478,
   "metadata": {},
   "outputs": [
    {
     "data": {
      "text/html": [
       "<div>\n",
       "<style scoped>\n",
       "    .dataframe tbody tr th:only-of-type {\n",
       "        vertical-align: middle;\n",
       "    }\n",
       "\n",
       "    .dataframe tbody tr th {\n",
       "        vertical-align: top;\n",
       "    }\n",
       "\n",
       "    .dataframe thead th {\n",
       "        text-align: right;\n",
       "    }\n",
       "</style>\n",
       "<table border=\"1\" class=\"dataframe\">\n",
       "  <thead>\n",
       "    <tr style=\"text-align: right;\">\n",
       "      <th></th>\n",
       "      <th>main_sector</th>\n",
       "      <th>Investment count</th>\n",
       "    </tr>\n",
       "  </thead>\n",
       "  <tbody>\n",
       "    <tr>\n",
       "      <th>591</th>\n",
       "      <td>Others</td>\n",
       "      <td>2950</td>\n",
       "    </tr>\n",
       "    <tr>\n",
       "      <th>4340</th>\n",
       "      <td>Social, Finance, Analytics, Advertising</td>\n",
       "      <td>2714</td>\n",
       "    </tr>\n",
       "    <tr>\n",
       "      <th>7054</th>\n",
       "      <td>Cleantech / Semiconductors</td>\n",
       "      <td>2300</td>\n",
       "    </tr>\n",
       "    <tr>\n",
       "      <th>9521</th>\n",
       "      <td>News, Search and Messaging</td>\n",
       "      <td>1582</td>\n",
       "    </tr>\n",
       "    <tr>\n",
       "      <th>11103</th>\n",
       "      <td>Health</td>\n",
       "      <td>909</td>\n",
       "    </tr>\n",
       "    <tr>\n",
       "      <th>3541</th>\n",
       "      <td>Manufacturing</td>\n",
       "      <td>799</td>\n",
       "    </tr>\n",
       "    <tr>\n",
       "      <th>0</th>\n",
       "      <td>Entertainment</td>\n",
       "      <td>591</td>\n",
       "    </tr>\n",
       "    <tr>\n",
       "      <th>9354</th>\n",
       "      <td>Automotive &amp; Sports</td>\n",
       "      <td>167</td>\n",
       "    </tr>\n",
       "  </tbody>\n",
       "</table>\n",
       "</div>"
      ],
      "text/plain": [
       "                                   main_sector  Investment count\n",
       "591                                     Others              2950\n",
       "4340   Social, Finance, Analytics, Advertising              2714\n",
       "7054                Cleantech / Semiconductors              2300\n",
       "9521                News, Search and Messaging              1582\n",
       "11103                                   Health               909\n",
       "3541                             Manufacturing               799\n",
       "0                                Entertainment               591\n",
       "9354                       Automotive & Sports               167"
      ]
     },
     "execution_count": 478,
     "metadata": {},
     "output_type": "execute_result"
    }
   ],
   "source": [
    "D1[['main_sector','Investment count']].drop_duplicates().sort_values(by='Investment count',ascending=False)"
   ]
  },
  {
   "cell_type": "code",
   "execution_count": 479,
   "metadata": {},
   "outputs": [
    {
     "data": {
      "text/html": [
       "<div>\n",
       "<style scoped>\n",
       "    .dataframe tbody tr th:only-of-type {\n",
       "        vertical-align: middle;\n",
       "    }\n",
       "\n",
       "    .dataframe tbody tr th {\n",
       "        vertical-align: top;\n",
       "    }\n",
       "\n",
       "    .dataframe thead th {\n",
       "        text-align: right;\n",
       "    }\n",
       "</style>\n",
       "<table border=\"1\" class=\"dataframe\">\n",
       "  <thead>\n",
       "    <tr style=\"text-align: right;\">\n",
       "      <th></th>\n",
       "      <th>main_sector</th>\n",
       "      <th>Investment count</th>\n",
       "    </tr>\n",
       "  </thead>\n",
       "  <tbody>\n",
       "    <tr>\n",
       "      <th>56</th>\n",
       "      <td>Others</td>\n",
       "      <td>147</td>\n",
       "    </tr>\n",
       "    <tr>\n",
       "      <th>245</th>\n",
       "      <td>Social, Finance, Analytics, Advertising</td>\n",
       "      <td>133</td>\n",
       "    </tr>\n",
       "    <tr>\n",
       "      <th>378</th>\n",
       "      <td>Cleantech / Semiconductors</td>\n",
       "      <td>128</td>\n",
       "    </tr>\n",
       "    <tr>\n",
       "      <th>522</th>\n",
       "      <td>News, Search and Messaging</td>\n",
       "      <td>73</td>\n",
       "    </tr>\n",
       "    <tr>\n",
       "      <th>0</th>\n",
       "      <td>Entertainment</td>\n",
       "      <td>56</td>\n",
       "    </tr>\n",
       "    <tr>\n",
       "      <th>203</th>\n",
       "      <td>Manufacturing</td>\n",
       "      <td>42</td>\n",
       "    </tr>\n",
       "    <tr>\n",
       "      <th>595</th>\n",
       "      <td>Health</td>\n",
       "      <td>24</td>\n",
       "    </tr>\n",
       "    <tr>\n",
       "      <th>506</th>\n",
       "      <td>Automotive &amp; Sports</td>\n",
       "      <td>16</td>\n",
       "    </tr>\n",
       "  </tbody>\n",
       "</table>\n",
       "</div>"
      ],
      "text/plain": [
       "                                 main_sector  Investment count\n",
       "56                                    Others               147\n",
       "245  Social, Finance, Analytics, Advertising               133\n",
       "378               Cleantech / Semiconductors               128\n",
       "522               News, Search and Messaging                73\n",
       "0                              Entertainment                56\n",
       "203                            Manufacturing                42\n",
       "595                                   Health                24\n",
       "506                      Automotive & Sports                16"
      ]
     },
     "execution_count": 479,
     "metadata": {},
     "output_type": "execute_result"
    }
   ],
   "source": [
    "D2[['main_sector','Investment count']].drop_duplicates().sort_values(by='Investment count',ascending=False)"
   ]
  },
  {
   "cell_type": "code",
   "execution_count": 480,
   "metadata": {},
   "outputs": [
    {
     "data": {
      "text/html": [
       "<div>\n",
       "<style scoped>\n",
       "    .dataframe tbody tr th:only-of-type {\n",
       "        vertical-align: middle;\n",
       "    }\n",
       "\n",
       "    .dataframe tbody tr th {\n",
       "        vertical-align: top;\n",
       "    }\n",
       "\n",
       "    .dataframe thead th {\n",
       "        text-align: right;\n",
       "    }\n",
       "</style>\n",
       "<table border=\"1\" class=\"dataframe\">\n",
       "  <thead>\n",
       "    <tr style=\"text-align: right;\">\n",
       "      <th></th>\n",
       "      <th>main_sector</th>\n",
       "      <th>Investment count</th>\n",
       "    </tr>\n",
       "  </thead>\n",
       "  <tbody>\n",
       "    <tr>\n",
       "      <th>33</th>\n",
       "      <td>Others</td>\n",
       "      <td>110</td>\n",
       "    </tr>\n",
       "    <tr>\n",
       "      <th>143</th>\n",
       "      <td>Social, Finance, Analytics, Advertising</td>\n",
       "      <td>60</td>\n",
       "    </tr>\n",
       "    <tr>\n",
       "      <th>257</th>\n",
       "      <td>News, Search and Messaging</td>\n",
       "      <td>52</td>\n",
       "    </tr>\n",
       "    <tr>\n",
       "      <th>0</th>\n",
       "      <td>Entertainment</td>\n",
       "      <td>33</td>\n",
       "    </tr>\n",
       "    <tr>\n",
       "      <th>216</th>\n",
       "      <td>Manufacturing</td>\n",
       "      <td>21</td>\n",
       "    </tr>\n",
       "    <tr>\n",
       "      <th>237</th>\n",
       "      <td>Cleantech / Semiconductors</td>\n",
       "      <td>20</td>\n",
       "    </tr>\n",
       "    <tr>\n",
       "      <th>309</th>\n",
       "      <td>Health</td>\n",
       "      <td>19</td>\n",
       "    </tr>\n",
       "    <tr>\n",
       "      <th>203</th>\n",
       "      <td>Automotive &amp; Sports</td>\n",
       "      <td>13</td>\n",
       "    </tr>\n",
       "  </tbody>\n",
       "</table>\n",
       "</div>"
      ],
      "text/plain": [
       "                                 main_sector  Investment count\n",
       "33                                    Others               110\n",
       "143  Social, Finance, Analytics, Advertising                60\n",
       "257               News, Search and Messaging                52\n",
       "0                              Entertainment                33\n",
       "216                            Manufacturing                21\n",
       "237               Cleantech / Semiconductors                20\n",
       "309                                   Health                19\n",
       "203                      Automotive & Sports                13"
      ]
     },
     "execution_count": 480,
     "metadata": {},
     "output_type": "execute_result"
    }
   ],
   "source": [
    "D3[['main_sector','Investment count']].drop_duplicates().sort_values(by='Investment count',ascending=False)"
   ]
  },
  {
   "cell_type": "code",
   "execution_count": 481,
   "metadata": {},
   "outputs": [
    {
     "data": {
      "text/plain": [
       "name\n",
       "Virtustream    64300000.0\n",
       "Name: raised_amount_usd, dtype: float64"
      ]
     },
     "execution_count": 481,
     "metadata": {},
     "output_type": "execute_result"
    }
   ],
   "source": [
    "D1[(D1.main_sector == 'Others')].groupby('name')['raised_amount_usd'].sum().sort_values(ascending=False)[:1]"
   ]
  },
  {
   "cell_type": "code",
   "execution_count": 482,
   "metadata": {},
   "outputs": [
    {
     "data": {
      "text/plain": [
       "name\n",
       "Electric Cloud    37000000.0\n",
       "Name: raised_amount_usd, dtype: float64"
      ]
     },
     "execution_count": 482,
     "metadata": {},
     "output_type": "execute_result"
    }
   ],
   "source": [
    "D2[D2.main_sector == 'Others'].groupby('name')['raised_amount_usd'].sum().sort_values(ascending=False)[:1]"
   ]
  },
  {
   "cell_type": "code",
   "execution_count": 483,
   "metadata": {},
   "outputs": [
    {
     "data": {
      "text/plain": [
       "name\n",
       "FirstCry.com    39000000.0\n",
       "Name: raised_amount_usd, dtype: float64"
      ]
     },
     "execution_count": 483,
     "metadata": {},
     "output_type": "execute_result"
    }
   ],
   "source": [
    "D3[D3.main_sector == 'Others'].groupby('name')['raised_amount_usd'].sum().sort_values(ascending=False)[:1]"
   ]
  },
  {
   "cell_type": "code",
   "execution_count": 484,
   "metadata": {},
   "outputs": [
    {
     "data": {
      "text/plain": [
       "name\n",
       "SST Inc. (Formerly ShotSpotter)    67933006.0\n",
       "Name: raised_amount_usd, dtype: float64"
      ]
     },
     "execution_count": 484,
     "metadata": {},
     "output_type": "execute_result"
    }
   ],
   "source": [
    "D1[D1.main_sector == 'Social, Finance, Analytics, Advertising'].groupby('name')['raised_amount_usd'].sum().sort_values(ascending=False)[:1]"
   ]
  },
  {
   "cell_type": "code",
   "execution_count": 485,
   "metadata": {},
   "outputs": [
    {
     "data": {
      "text/plain": [
       "name\n",
       "Celltick Technologies    37500000.0\n",
       "Name: raised_amount_usd, dtype: float64"
      ]
     },
     "execution_count": 485,
     "metadata": {},
     "output_type": "execute_result"
    }
   ],
   "source": [
    "D2[D2.main_sector == 'Social, Finance, Analytics, Advertising'].groupby('name')['raised_amount_usd'].sum().sort_values(ascending=False)[:1]"
   ]
  },
  {
   "cell_type": "code",
   "execution_count": 486,
   "metadata": {},
   "outputs": [
    {
     "data": {
      "text/plain": [
       "name\n",
       "Manthan Systems    50700000.0\n",
       "Name: raised_amount_usd, dtype: float64"
      ]
     },
     "execution_count": 486,
     "metadata": {},
     "output_type": "execute_result"
    }
   ],
   "source": [
    "D3[D3.main_sector == 'Social, Finance, Analytics, Advertising'].groupby('name')['raised_amount_usd'].sum().sort_values(ascending=False)[:1]"
   ]
  },
  {
   "cell_type": "markdown",
   "metadata": {},
   "source": [
    "# Checkpoint 6: Plots"
   ]
  },
  {
   "cell_type": "markdown",
   "metadata": {},
   "source": [
    "Two plots are placed at right location in the map"
   ]
  },
  {
   "cell_type": "code",
   "execution_count": 487,
   "metadata": {},
   "outputs": [],
   "source": [
    "data1 = [pd.DataFrame(D1.groupby(['country_code','main_sector'])['raised_amount_usd'].sum().sort_values(ascending = False)[0:3]),\n",
    "        pd.DataFrame(D2.groupby(['country_code','main_sector'])['raised_amount_usd'].sum().sort_values(ascending = False)[0:3]),\n",
    "        pd.DataFrame(D3.groupby(['country_code','main_sector'])['raised_amount_usd'].sum().sort_values(ascending = False)[0:3])]\n",
    "         "
   ]
  },
  {
   "cell_type": "code",
   "execution_count": 488,
   "metadata": {},
   "outputs": [],
   "source": [
    "data2 = pd.concat(data1)"
   ]
  },
  {
   "cell_type": "code",
   "execution_count": 489,
   "metadata": {},
   "outputs": [],
   "source": [
    "data2.reset_index(inplace=True)"
   ]
  },
  {
   "cell_type": "code",
   "execution_count": 498,
   "metadata": {},
   "outputs": [
    {
     "data": {
      "image/png": "[encoded data removed]",
      "text/plain": [
       "<Figure size 1440x720 with 1 Axes>"
      ]
     },
     "metadata": {
      "needs_background": "light"
     },
     "output_type": "display_data"
    }
   ],
   "source": [
    "plt.figure(figsize=(20,10))\n",
    "sns.barplot(x=\"country_code\", y=\"raised_amount_usd\", hue=\"main_sector\", data=data2)\n",
    "plt.xlabel(\"Country code\")\n",
    "plt.ylabel(\"Investment amount\")\n",
    "plt.legend() \n",
    "plt.show()"
   ]
  }
 ],
 "metadata": {
  "kernelspec": {
   "display_name": "Python 3",
   "language": "python",
   "name": "python3"
  },
  "language_info": {
   "codemirror_mode": {
    "name": "ipython",
    "version": 3
   },
   "file_extension": ".py",
   "mimetype": "text/x-python",
   "name": "python",
   "nbconvert_exporter": "python",
   "pygments_lexer": "ipython3",
   "version": "3.7.6"
  }
 },
 "nbformat": 4,
 "nbformat_minor": 4
}
