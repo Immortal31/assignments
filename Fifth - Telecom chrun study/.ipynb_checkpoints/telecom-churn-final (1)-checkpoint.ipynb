{
 "cells": [
  {
   "cell_type": "markdown",
   "metadata": {
    "id": "pV6mQ7QuFEzX"
   },
   "source": [
    "# Telecom churn case study"
   ]
  },
  {
   "cell_type": "markdown",
   "metadata": {
    "id": "QfbZYkbfFEzX"
   },
   "source": [
    "<b> Buisness problem:</b>\n",
    "In the telecom industry, customers are able to choose from multiple service providers and actively switch from one operator to another. In this highly competitive market, the telecommunications industry experiences an average of 15-25% annual churn rate. Given the fact that it costs 5-10 times more to acquire a new customer than to retain an existing one, customer retention has now become even more important than customer acquisition."
   ]
  },
  {
   "cell_type": "markdown",
   "metadata": {
    "id": "odTyUVzUFEzX"
   },
   "source": [
    "Our job is to identify customers who are propbable candidate for churn and for this case study primarily we have to concentrate on high value customers. High value customers are responsible for 80% of revenue. So it's very important to know what are the factors which are affecting the churn."
   ]
  },
  {
   "cell_type": "markdown",
   "metadata": {
    "id": "JtGwUh_BFEzX"
   },
   "source": [
    "We will approach this problem with following approach.\n",
    "\n",
    "Data Preparation\n",
    "The following data preparation steps are crucial for this problem:\n",
    " \n",
    "<b>1. Derive new features</b>\n",
    "This is one of the most important parts of data preparation since good features are often the differentiators between good and bad models. Use your business understanding to derive features you think could be important indicators of churn.\n",
    " \n",
    "<b>2. Filter high-value customers</b>\n",
    "As mentioned above, you need to predict churn only for the high-value customers. Define high-value customers as follows: Those who have recharged with an amount more than or equal to X, where X is the 70th percentile of the average recharge amount in the first two months (the good phase).\n",
    " \n",
    "After filtering the high-value customers, you should get about 29.9k rows.\n",
    " \n",
    "<b>3. Tag churners and remove attributes of the churn phase</b>\n",
    "Now tag the churned customers (churn=1, else 0) based on the fourth month as follows: Those who have not made any calls (either incoming or outgoing) AND have not used mobile internet even once in the churn phase. The attributes you need to use to tag churners are:\n",
    "total_ic_mou_9\n",
    "total_og_mou_9\n",
    "vol_2g_mb_9\n",
    "vol_3g_mb_9\n",
    "\n",
    "After tagging churners, remove all the attributes corresponding to the churn phase (all attributes having ‘ _9’, etc. in their names)."
   ]
  },
  {
   "cell_type": "markdown",
   "metadata": {
    "id": "MbRhw7SVFEzX"
   },
   "source": [
    "<b>Important points:-</b>\n",
    "<ul>\n",
    "    <li>We have data for June,july,Aug and Sep month. Out of which June and July are considered as good phase, Aug is considered as Action phase and Sep is considered as Churn phase. So our analysy will be based on 6,7 and 8th month.</li>\n",
    "    <li>We have to do analysis for only high value customers which will be determined by given logic\n",
    "</ul>"
   ]
  },
  {
   "cell_type": "code",
   "execution_count": 312,
   "metadata": {
    "id": "HCuxUWjcFEzX"
   },
   "outputs": [],
   "source": [
    "#importing all required libraries\n",
    "import pandas as pd\n",
    "import numpy as np\n",
    "import matplotlib.pyplot as plt\n",
    "import seaborn as sns\n",
    "from sklearn.svm import SVC\n",
    "from sklearn.metrics import confusion_matrix, precision_recall_curve, auc, roc_auc_score, roc_curve,f1_score, recall_score, classification_report\n",
    "from sklearn.model_selection import validation_curve\n",
    "from sklearn.model_selection import KFold\n",
    "from sklearn.model_selection import cross_val_score\n",
    "from sklearn.model_selection import GridSearchCV\n",
    "from sklearn.linear_model import LogisticRegression\n",
    "from sklearn.feature_selection import RFE\n",
    "from imblearn.over_sampling import SMOTE\n",
    "from sklearn.ensemble import RandomForestClassifier\n",
    "from sklearn.metrics import classification_report,confusion_matrix, accuracy_score\n",
    "import xgboost as xgb\n",
    "from xgboost import XGBClassifier\n",
    "from xgboost import plot_importance\n",
    "import warnings\n",
    "warnings.filterwarnings(\"ignore\")"
   ]
  },
  {
   "cell_type": "code",
   "execution_count": 315,
   "metadata": {
    "id": "kvSe2XsBFEzY"
   },
   "outputs": [],
   "source": [
    "#utility methods for analysis\n",
    "def model_attr(y_test,y_pred):\n",
    "    cp = confusion_matrix(y_test,y_pred)\n",
    "    print(cp)\n",
    "    \n",
    "    accuracy = round(accuracy_score(y_test,y_pred),2)\n",
    "    recall = round(recall_score(y_test,y_pred),2)\n",
    "    auc = round(roc_auc_score(y_test,y_pred),2)\n",
    "    f1 = round(f1_score(y_test,y_pred),2)\n",
    "    \n",
    "    data = [[accuracy,recall,auc,f1]] \n",
    "    df = pd.DataFrame(data, columns = ['Accuracy','Recall','AUC','F1'])\n",
    "    display(df) "
   ]
  },
  {
   "cell_type": "code",
   "execution_count": 129,
   "metadata": {
    "id": "nfGXDE6yFEzY"
   },
   "outputs": [],
   "source": [
    "#let's read the data \n",
    "telecom = pd.read_csv('../input/telecom-churn-data/telecom_churn_data.csv')"
   ]
  },
  {
   "cell_type": "code",
   "execution_count": 130,
   "metadata": {
    "id": "h30TKiAjFEzY",
    "outputId": "d706a6c2-a15b-4c74-c260-f0c5fedeabba"
   },
   "outputs": [
    {
     "data": {
      "text/plain": [
       "(99999, 226)"
      ]
     },
     "execution_count": 130,
     "metadata": {},
     "output_type": "execute_result"
    }
   ],
   "source": [
    "#shape of the data\n",
    "telecom.shape"
   ]
  },
  {
   "cell_type": "markdown",
   "metadata": {
    "id": "b6KF9ZpJFEza"
   },
   "source": [
    "So we have around 1L rows and 226 columns"
   ]
  },
  {
   "cell_type": "code",
   "execution_count": 131,
   "metadata": {
    "id": "eCvFl99cFEza",
    "outputId": "31a64eec-b075-4e79-dc94-6a6575e79a1c"
   },
   "outputs": [
    {
     "data": {
      "text/plain": [
       "loc_og_t2o_mou           1.02\n",
       "std_og_t2o_mou           1.02\n",
       "loc_ic_t2o_mou           1.02\n",
       "last_date_of_month_7     0.60\n",
       "last_date_of_month_8     1.10\n",
       "                        ...  \n",
       "night_pck_user_9        74.08\n",
       "fb_user_6               74.85\n",
       "fb_user_7               74.43\n",
       "fb_user_8               73.66\n",
       "fb_user_9               74.08\n",
       "Length: 166, dtype: float64"
      ]
     },
     "execution_count": 131,
     "metadata": {},
     "output_type": "execute_result"
    }
   ],
   "source": [
    "#let's analyse null values percentage per column\n",
    "null_values = round(((telecom.isnull().sum()[(telecom.isnull().sum()>0)])/telecom.shape[0])*100,2)\n",
    "null_values"
   ]
  },
  {
   "cell_type": "code",
   "execution_count": 132,
   "metadata": {
    "id": "WjbhENonFEza",
    "outputId": "d4cc3490-cae0-4a39-9409-1cb5959baa55"
   },
   "outputs": [
    {
     "data": {
      "text/plain": [
       "date_of_last_rech_data_6    74.85\n",
       "date_of_last_rech_data_7    74.43\n",
       "date_of_last_rech_data_8    73.66\n",
       "date_of_last_rech_data_9    74.08\n",
       "total_rech_data_6           74.85\n",
       "total_rech_data_7           74.43\n",
       "total_rech_data_8           73.66\n",
       "total_rech_data_9           74.08\n",
       "max_rech_data_6             74.85\n",
       "max_rech_data_7             74.43\n",
       "max_rech_data_8             73.66\n",
       "max_rech_data_9             74.08\n",
       "count_rech_2g_6             74.85\n",
       "count_rech_2g_7             74.43\n",
       "count_rech_2g_8             73.66\n",
       "count_rech_2g_9             74.08\n",
       "count_rech_3g_6             74.85\n",
       "count_rech_3g_7             74.43\n",
       "count_rech_3g_8             73.66\n",
       "count_rech_3g_9             74.08\n",
       "av_rech_amt_data_6          74.85\n",
       "av_rech_amt_data_7          74.43\n",
       "av_rech_amt_data_8          73.66\n",
       "av_rech_amt_data_9          74.08\n",
       "arpu_3g_6                   74.85\n",
       "arpu_3g_7                   74.43\n",
       "arpu_3g_8                   73.66\n",
       "arpu_3g_9                   74.08\n",
       "arpu_2g_6                   74.85\n",
       "arpu_2g_7                   74.43\n",
       "arpu_2g_8                   73.66\n",
       "arpu_2g_9                   74.08\n",
       "night_pck_user_6            74.85\n",
       "night_pck_user_7            74.43\n",
       "night_pck_user_8            73.66\n",
       "night_pck_user_9            74.08\n",
       "fb_user_6                   74.85\n",
       "fb_user_7                   74.43\n",
       "fb_user_8                   73.66\n",
       "fb_user_9                   74.08\n",
       "dtype: float64"
      ]
     },
     "execution_count": 132,
     "metadata": {},
     "output_type": "execute_result"
    }
   ],
   "source": [
    "#let's analyse those columns which have null values greater than 50%\n",
    "null_values[null_values > 50]"
   ]
  },
  {
   "cell_type": "markdown",
   "metadata": {
    "id": "eClqpnesFEzb"
   },
   "source": [
    "<b><font color='red'>[Observation]:</b> So now we can see there are plenty of number of columns which have null value percentage greater than 50. For being we're not gonna remove/impute null values."
   ]
  },
  {
   "cell_type": "markdown",
   "metadata": {
    "id": "f0fh3o6lFEzb"
   },
   "source": [
    "## 1. Deriving new features"
   ]
  },
  {
   "cell_type": "markdown",
   "metadata": {
    "id": "TZsFWqWSFEzb"
   },
   "source": [
    "If we analyse data dictionary then we can found that we have plenty of columns which have recharge related info (total recharge, total data recharge so from this we will compute total recharge amount paid by customer each month)"
   ]
  },
  {
   "cell_type": "code",
   "execution_count": 133,
   "metadata": {
    "id": "ovWWZqiPFEzb",
    "outputId": "b5999c21-9d3a-471d-da50-b7c52b94545f"
   },
   "outputs": [
    {
     "name": "stdout",
     "output_type": "stream",
     "text": [
      "Index(['total_rech_amt_6', 'total_rech_amt_7', 'total_rech_amt_8',\n",
      "       'total_rech_amt_9', 'max_rech_amt_6', 'max_rech_amt_7',\n",
      "       'max_rech_amt_8', 'max_rech_amt_9', 'date_of_last_rech_data_6',\n",
      "       'date_of_last_rech_data_7', 'date_of_last_rech_data_8',\n",
      "       'date_of_last_rech_data_9', 'total_rech_data_6', 'total_rech_data_7',\n",
      "       'total_rech_data_8', 'total_rech_data_9', 'max_rech_data_6',\n",
      "       'max_rech_data_7', 'max_rech_data_8', 'max_rech_data_9',\n",
      "       'av_rech_amt_data_6', 'av_rech_amt_data_7', 'av_rech_amt_data_8',\n",
      "       'av_rech_amt_data_9'],\n",
      "      dtype='object')\n"
     ]
    }
   ],
   "source": [
    "#amount related column list\n",
    "amt_col_list =  telecom.columns[telecom.columns.str.contains('rech_amt|rech_data')]\n",
    "print(amt_col_list)"
   ]
  },
  {
   "cell_type": "code",
   "execution_count": 134,
   "metadata": {
    "id": "3Gu9jHj4FEzb",
    "outputId": "a16bc548-4ce4-4dbe-ff8e-be083aeb0ddd"
   },
   "outputs": [
    {
     "data": {
      "text/html": [
       "<div>\n",
       "<style scoped>\n",
       "    .dataframe tbody tr th:only-of-type {\n",
       "        vertical-align: middle;\n",
       "    }\n",
       "\n",
       "    .dataframe tbody tr th {\n",
       "        vertical-align: top;\n",
       "    }\n",
       "\n",
       "    .dataframe thead th {\n",
       "        text-align: right;\n",
       "    }\n",
       "</style>\n",
       "<table border=\"1\" class=\"dataframe\">\n",
       "  <thead>\n",
       "    <tr style=\"text-align: right;\">\n",
       "      <th></th>\n",
       "      <th>total_rech_amt_6</th>\n",
       "      <th>total_rech_amt_7</th>\n",
       "      <th>total_rech_amt_8</th>\n",
       "      <th>total_rech_amt_9</th>\n",
       "      <th>max_rech_amt_6</th>\n",
       "      <th>max_rech_amt_7</th>\n",
       "      <th>max_rech_amt_8</th>\n",
       "      <th>max_rech_amt_9</th>\n",
       "      <th>total_rech_data_6</th>\n",
       "      <th>total_rech_data_7</th>\n",
       "      <th>total_rech_data_8</th>\n",
       "      <th>total_rech_data_9</th>\n",
       "      <th>max_rech_data_6</th>\n",
       "      <th>max_rech_data_7</th>\n",
       "      <th>max_rech_data_8</th>\n",
       "      <th>max_rech_data_9</th>\n",
       "      <th>av_rech_amt_data_6</th>\n",
       "      <th>av_rech_amt_data_7</th>\n",
       "      <th>av_rech_amt_data_8</th>\n",
       "      <th>av_rech_amt_data_9</th>\n",
       "    </tr>\n",
       "  </thead>\n",
       "  <tbody>\n",
       "    <tr>\n",
       "      <th>count</th>\n",
       "      <td>99999.000000</td>\n",
       "      <td>99999.000000</td>\n",
       "      <td>99999.000000</td>\n",
       "      <td>99999.000000</td>\n",
       "      <td>99999.000000</td>\n",
       "      <td>99999.000000</td>\n",
       "      <td>99999.000000</td>\n",
       "      <td>99999.000000</td>\n",
       "      <td>25153.000000</td>\n",
       "      <td>25571.000000</td>\n",
       "      <td>26339.000000</td>\n",
       "      <td>25922.000000</td>\n",
       "      <td>25153.000000</td>\n",
       "      <td>25571.000000</td>\n",
       "      <td>26339.000000</td>\n",
       "      <td>25922.00000</td>\n",
       "      <td>25153.000000</td>\n",
       "      <td>25571.000000</td>\n",
       "      <td>26339.000000</td>\n",
       "      <td>25922.000000</td>\n",
       "    </tr>\n",
       "    <tr>\n",
       "      <th>mean</th>\n",
       "      <td>327.514615</td>\n",
       "      <td>322.962970</td>\n",
       "      <td>324.157122</td>\n",
       "      <td>303.345673</td>\n",
       "      <td>104.637486</td>\n",
       "      <td>104.752398</td>\n",
       "      <td>107.728207</td>\n",
       "      <td>101.943889</td>\n",
       "      <td>2.463802</td>\n",
       "      <td>2.666419</td>\n",
       "      <td>2.651999</td>\n",
       "      <td>2.441170</td>\n",
       "      <td>126.393392</td>\n",
       "      <td>126.729459</td>\n",
       "      <td>125.717301</td>\n",
       "      <td>124.94144</td>\n",
       "      <td>192.600982</td>\n",
       "      <td>200.981292</td>\n",
       "      <td>197.526489</td>\n",
       "      <td>192.734315</td>\n",
       "    </tr>\n",
       "    <tr>\n",
       "      <th>std</th>\n",
       "      <td>398.019701</td>\n",
       "      <td>408.114237</td>\n",
       "      <td>416.540455</td>\n",
       "      <td>404.588583</td>\n",
       "      <td>120.614894</td>\n",
       "      <td>124.523970</td>\n",
       "      <td>126.902505</td>\n",
       "      <td>125.375109</td>\n",
       "      <td>2.789128</td>\n",
       "      <td>3.031593</td>\n",
       "      <td>3.074987</td>\n",
       "      <td>2.516339</td>\n",
       "      <td>108.477235</td>\n",
       "      <td>109.765267</td>\n",
       "      <td>109.437851</td>\n",
       "      <td>111.36376</td>\n",
       "      <td>192.646318</td>\n",
       "      <td>196.791224</td>\n",
       "      <td>191.301305</td>\n",
       "      <td>188.400286</td>\n",
       "    </tr>\n",
       "    <tr>\n",
       "      <th>min</th>\n",
       "      <td>0.000000</td>\n",
       "      <td>0.000000</td>\n",
       "      <td>0.000000</td>\n",
       "      <td>0.000000</td>\n",
       "      <td>0.000000</td>\n",
       "      <td>0.000000</td>\n",
       "      <td>0.000000</td>\n",
       "      <td>0.000000</td>\n",
       "      <td>1.000000</td>\n",
       "      <td>1.000000</td>\n",
       "      <td>1.000000</td>\n",
       "      <td>1.000000</td>\n",
       "      <td>1.000000</td>\n",
       "      <td>1.000000</td>\n",
       "      <td>1.000000</td>\n",
       "      <td>1.00000</td>\n",
       "      <td>1.000000</td>\n",
       "      <td>0.500000</td>\n",
       "      <td>0.500000</td>\n",
       "      <td>1.000000</td>\n",
       "    </tr>\n",
       "    <tr>\n",
       "      <th>25%</th>\n",
       "      <td>109.000000</td>\n",
       "      <td>100.000000</td>\n",
       "      <td>90.000000</td>\n",
       "      <td>52.000000</td>\n",
       "      <td>30.000000</td>\n",
       "      <td>30.000000</td>\n",
       "      <td>30.000000</td>\n",
       "      <td>28.000000</td>\n",
       "      <td>1.000000</td>\n",
       "      <td>1.000000</td>\n",
       "      <td>1.000000</td>\n",
       "      <td>1.000000</td>\n",
       "      <td>25.000000</td>\n",
       "      <td>25.000000</td>\n",
       "      <td>25.000000</td>\n",
       "      <td>25.00000</td>\n",
       "      <td>82.000000</td>\n",
       "      <td>92.000000</td>\n",
       "      <td>87.000000</td>\n",
       "      <td>69.000000</td>\n",
       "    </tr>\n",
       "    <tr>\n",
       "      <th>50%</th>\n",
       "      <td>230.000000</td>\n",
       "      <td>220.000000</td>\n",
       "      <td>225.000000</td>\n",
       "      <td>200.000000</td>\n",
       "      <td>110.000000</td>\n",
       "      <td>110.000000</td>\n",
       "      <td>98.000000</td>\n",
       "      <td>61.000000</td>\n",
       "      <td>1.000000</td>\n",
       "      <td>1.000000</td>\n",
       "      <td>1.000000</td>\n",
       "      <td>2.000000</td>\n",
       "      <td>145.000000</td>\n",
       "      <td>145.000000</td>\n",
       "      <td>145.000000</td>\n",
       "      <td>145.00000</td>\n",
       "      <td>154.000000</td>\n",
       "      <td>154.000000</td>\n",
       "      <td>154.000000</td>\n",
       "      <td>164.000000</td>\n",
       "    </tr>\n",
       "    <tr>\n",
       "      <th>75%</th>\n",
       "      <td>437.500000</td>\n",
       "      <td>428.000000</td>\n",
       "      <td>434.500000</td>\n",
       "      <td>415.000000</td>\n",
       "      <td>120.000000</td>\n",
       "      <td>128.000000</td>\n",
       "      <td>144.000000</td>\n",
       "      <td>144.000000</td>\n",
       "      <td>3.000000</td>\n",
       "      <td>3.000000</td>\n",
       "      <td>3.000000</td>\n",
       "      <td>3.000000</td>\n",
       "      <td>177.000000</td>\n",
       "      <td>177.000000</td>\n",
       "      <td>179.000000</td>\n",
       "      <td>179.00000</td>\n",
       "      <td>252.000000</td>\n",
       "      <td>252.000000</td>\n",
       "      <td>252.000000</td>\n",
       "      <td>252.000000</td>\n",
       "    </tr>\n",
       "    <tr>\n",
       "      <th>max</th>\n",
       "      <td>35190.000000</td>\n",
       "      <td>40335.000000</td>\n",
       "      <td>45320.000000</td>\n",
       "      <td>37235.000000</td>\n",
       "      <td>4010.000000</td>\n",
       "      <td>4010.000000</td>\n",
       "      <td>4449.000000</td>\n",
       "      <td>3399.000000</td>\n",
       "      <td>61.000000</td>\n",
       "      <td>54.000000</td>\n",
       "      <td>60.000000</td>\n",
       "      <td>84.000000</td>\n",
       "      <td>1555.000000</td>\n",
       "      <td>1555.000000</td>\n",
       "      <td>1555.000000</td>\n",
       "      <td>1555.00000</td>\n",
       "      <td>7546.000000</td>\n",
       "      <td>4365.000000</td>\n",
       "      <td>4076.000000</td>\n",
       "      <td>4061.000000</td>\n",
       "    </tr>\n",
       "  </tbody>\n",
       "</table>\n",
       "</div>"
      ],
      "text/plain": [
       "       total_rech_amt_6  total_rech_amt_7  total_rech_amt_8  total_rech_amt_9  \\\n",
       "count      99999.000000      99999.000000      99999.000000      99999.000000   \n",
       "mean         327.514615        322.962970        324.157122        303.345673   \n",
       "std          398.019701        408.114237        416.540455        404.588583   \n",
       "min            0.000000          0.000000          0.000000          0.000000   \n",
       "25%          109.000000        100.000000         90.000000         52.000000   \n",
       "50%          230.000000        220.000000        225.000000        200.000000   \n",
       "75%          437.500000        428.000000        434.500000        415.000000   \n",
       "max        35190.000000      40335.000000      45320.000000      37235.000000   \n",
       "\n",
       "       max_rech_amt_6  max_rech_amt_7  max_rech_amt_8  max_rech_amt_9  \\\n",
       "count    99999.000000    99999.000000    99999.000000    99999.000000   \n",
       "mean       104.637486      104.752398      107.728207      101.943889   \n",
       "std        120.614894      124.523970      126.902505      125.375109   \n",
       "min          0.000000        0.000000        0.000000        0.000000   \n",
       "25%         30.000000       30.000000       30.000000       28.000000   \n",
       "50%        110.000000      110.000000       98.000000       61.000000   \n",
       "75%        120.000000      128.000000      144.000000      144.000000   \n",
       "max       4010.000000     4010.000000     4449.000000     3399.000000   \n",
       "\n",
       "       total_rech_data_6  total_rech_data_7  total_rech_data_8  \\\n",
       "count       25153.000000       25571.000000       26339.000000   \n",
       "mean            2.463802           2.666419           2.651999   \n",
       "std             2.789128           3.031593           3.074987   \n",
       "min             1.000000           1.000000           1.000000   \n",
       "25%             1.000000           1.000000           1.000000   \n",
       "50%             1.000000           1.000000           1.000000   \n",
       "75%             3.000000           3.000000           3.000000   \n",
       "max            61.000000          54.000000          60.000000   \n",
       "\n",
       "       total_rech_data_9  max_rech_data_6  max_rech_data_7  max_rech_data_8  \\\n",
       "count       25922.000000     25153.000000     25571.000000     26339.000000   \n",
       "mean            2.441170       126.393392       126.729459       125.717301   \n",
       "std             2.516339       108.477235       109.765267       109.437851   \n",
       "min             1.000000         1.000000         1.000000         1.000000   \n",
       "25%             1.000000        25.000000        25.000000        25.000000   \n",
       "50%             2.000000       145.000000       145.000000       145.000000   \n",
       "75%             3.000000       177.000000       177.000000       179.000000   \n",
       "max            84.000000      1555.000000      1555.000000      1555.000000   \n",
       "\n",
       "       max_rech_data_9  av_rech_amt_data_6  av_rech_amt_data_7  \\\n",
       "count      25922.00000        25153.000000        25571.000000   \n",
       "mean         124.94144          192.600982          200.981292   \n",
       "std          111.36376          192.646318          196.791224   \n",
       "min            1.00000            1.000000            0.500000   \n",
       "25%           25.00000           82.000000           92.000000   \n",
       "50%          145.00000          154.000000          154.000000   \n",
       "75%          179.00000          252.000000          252.000000   \n",
       "max         1555.00000         7546.000000         4365.000000   \n",
       "\n",
       "       av_rech_amt_data_8  av_rech_amt_data_9  \n",
       "count        26339.000000        25922.000000  \n",
       "mean           197.526489          192.734315  \n",
       "std            191.301305          188.400286  \n",
       "min              0.500000            1.000000  \n",
       "25%             87.000000           69.000000  \n",
       "50%            154.000000          164.000000  \n",
       "75%            252.000000          252.000000  \n",
       "max           4076.000000         4061.000000  "
      ]
     },
     "execution_count": 134,
     "metadata": {},
     "output_type": "execute_result"
    }
   ],
   "source": [
    "#let's see descriptive analysis\n",
    "telecom.loc[:,amt_col_list].describe()"
   ]
  },
  {
   "cell_type": "code",
   "execution_count": 135,
   "metadata": {
    "id": "ozk4miEvFEzb",
    "outputId": "d8cf26fd-fa3f-46eb-bb4e-845465e79d99"
   },
   "outputs": [
    {
     "data": {
      "text/plain": [
       "total_rech_amt_6                0\n",
       "total_rech_amt_7                0\n",
       "total_rech_amt_8                0\n",
       "total_rech_amt_9                0\n",
       "max_rech_amt_6                  0\n",
       "max_rech_amt_7                  0\n",
       "max_rech_amt_8                  0\n",
       "max_rech_amt_9                  0\n",
       "date_of_last_rech_data_6    74846\n",
       "date_of_last_rech_data_7    74428\n",
       "date_of_last_rech_data_8    73660\n",
       "date_of_last_rech_data_9    74077\n",
       "total_rech_data_6           74846\n",
       "total_rech_data_7           74428\n",
       "total_rech_data_8           73660\n",
       "total_rech_data_9           74077\n",
       "max_rech_data_6             74846\n",
       "max_rech_data_7             74428\n",
       "max_rech_data_8             73660\n",
       "max_rech_data_9             74077\n",
       "av_rech_amt_data_6          74846\n",
       "av_rech_amt_data_7          74428\n",
       "av_rech_amt_data_8          73660\n",
       "av_rech_amt_data_9          74077\n",
       "dtype: int64"
      ]
     },
     "execution_count": 135,
     "metadata": {},
     "output_type": "execute_result"
    }
   ],
   "source": [
    "#let's see whether there are any null values present in these columns\n",
    "telecom[amt_col_list].isnull().sum()"
   ]
  },
  {
   "cell_type": "markdown",
   "metadata": {
    "id": "NOPCb7A4FEzb"
   },
   "source": [
    "<b><font color='red'>[Observation]:</b> There are columns which have null values"
   ]
  },
  {
   "cell_type": "code",
   "execution_count": 136,
   "metadata": {
    "id": "kLp4WT36FEzc"
   },
   "outputs": [],
   "source": [
    "#now we will assume wherever data is not present means recharge amount for data or recharge is 0. Replace nan with 0.\n",
    "#for our analysis we're considering only 6,7 and 8th month\n",
    "#we will date related column null values as it is\n",
    "telecom['total_rech_data_6'] = telecom['total_rech_data_6'].replace(np.NaN,0.0)\n",
    "telecom['total_rech_data_7'] = telecom['total_rech_data_7'].replace(np.NaN,0.0)\n",
    "telecom['total_rech_data_8'] = telecom['total_rech_data_8'].replace(np.NaN,0.0)\n",
    "telecom['av_rech_amt_data_6'] = telecom['av_rech_amt_data_6'].replace(np.NaN,0.0)\n",
    "telecom['av_rech_amt_data_7'] = telecom['av_rech_amt_data_7'].replace(np.NaN,0.0)\n",
    "telecom['av_rech_amt_data_8'] = telecom['av_rech_amt_data_8'].replace(np.NaN,0.0)\n",
    "telecom['total_rech_amt_data_6'] = telecom.av_rech_amt_data_6 * telecom.total_rech_data_6\n",
    "telecom['total_rech_amt_data_7'] = telecom.av_rech_amt_data_7 * telecom.total_rech_data_7\n",
    "telecom['total_rech_amt_data_8'] = telecom.av_rech_amt_data_8 * telecom.total_rech_data_8"
   ]
  },
  {
   "cell_type": "code",
   "execution_count": 137,
   "metadata": {
    "id": "bgGSDOwNFEzc"
   },
   "outputs": [],
   "source": [
    "#Derived variable 1 - average recharge done for each month (including data and normal recharge)\n",
    "#we'll consider only good phase as this will be require to determine high value customers\n",
    "telecom['avg_rech_per_month_good_phase'] = (telecom.total_rech_amt_6 + telecom.total_rech_amt_data_6 \\\n",
    "                                               + telecom.total_rech_amt_7+ telecom.total_rech_amt_data_7)/2"
   ]
  },
  {
   "cell_type": "code",
   "execution_count": 138,
   "metadata": {
    "id": "3peAr8RMFEzc"
   },
   "outputs": [],
   "source": [
    "#now we have to determine high value customers"
   ]
  },
  {
   "cell_type": "code",
   "execution_count": 139,
   "metadata": {
    "id": "0nmEnVO6FEzc"
   },
   "outputs": [],
   "source": [
    "#Defination - Those who have recharged with an amount more than or equal to X, where X is the 70th percentile of the average recharge amount in the first two months (the good phase)."
   ]
  },
  {
   "cell_type": "code",
   "execution_count": 140,
   "metadata": {
    "id": "AzRySCz4FEzc",
    "outputId": "5a547422-936d-41bd-890b-7f2fcd3c3b69"
   },
   "outputs": [
    {
     "data": {
      "text/plain": [
       "(29953, 230)"
      ]
     },
     "execution_count": 140,
     "metadata": {},
     "output_type": "execute_result"
    }
   ],
   "source": [
    "#as specified after filtering there needs to be 29.9k rows.\n",
    "high_condn_amount = telecom.avg_rech_per_month_good_phase.quantile(0.7)\n",
    "telecom = telecom[telecom.avg_rech_per_month_good_phase > high_condn_amount]\n",
    "telecom.shape"
   ]
  },
  {
   "cell_type": "markdown",
   "metadata": {
    "id": "m9cW-HXVFEzc"
   },
   "source": [
    "<b>Logic to identify churned customer </b><br>\n",
    "Those who have not made any calls (either incoming or outgoing) AND have not used mobile internet even once in the churn phase. The attributes you need to use to tag churners are:<br>\n",
    "total_ic_mou_9<br>\n",
    "total_og_mou_9<br>\n",
    "vol_2g_mb_9<br>\n",
    "vol_3g_mb_9<br>"
   ]
  },
  {
   "cell_type": "code",
   "execution_count": 141,
   "metadata": {
    "id": "Dm1VI69XFEzc"
   },
   "outputs": [],
   "source": [
    "#now we have to identify customers who have churned. For that we'll use logic given by buisness\n",
    "churn_col_list = ['total_ic_mou_9', 'total_og_mou_9', 'vol_2g_mb_9','vol_3g_mb_9']"
   ]
  },
  {
   "cell_type": "code",
   "execution_count": 142,
   "metadata": {
    "id": "7trQcQdmFEzc",
    "outputId": "7b9df464-70d7-4290-e1fb-ce2d8d2d4cae"
   },
   "outputs": [
    {
     "data": {
      "text/plain": [
       "total_ic_mou_9    0\n",
       "total_og_mou_9    0\n",
       "vol_2g_mb_9       0\n",
       "vol_3g_mb_9       0\n",
       "dtype: int64"
      ]
     },
     "execution_count": 142,
     "metadata": {},
     "output_type": "execute_result"
    }
   ],
   "source": [
    "#let's see whether these columns have any null values\n",
    "telecom[churn_col_list].isnull().sum()"
   ]
  },
  {
   "cell_type": "code",
   "execution_count": 143,
   "metadata": {
    "id": "FfVQXx8gFEzc"
   },
   "outputs": [],
   "source": [
    "# Initially set all the va9lues as 0\n",
    "telecom.loc[:,'churn']= 0"
   ]
  },
  {
   "cell_type": "code",
   "execution_count": 144,
   "metadata": {
    "id": "xGAH0UX6FEzc"
   },
   "outputs": [],
   "source": [
    "#logic to identify churned customer\n",
    "is_churned = (telecom.total_ic_mou_9 == 0) & \\\n",
    "             (telecom.total_og_mou_9 == 0) & \\\n",
    "             (telecom.vol_2g_mb_9 ==0) & \\\n",
    "             (telecom.vol_3g_mb_9 ==0)"
   ]
  },
  {
   "cell_type": "code",
   "execution_count": 145,
   "metadata": {
    "id": "uqISOJhZFEzc"
   },
   "outputs": [],
   "source": [
    "telecom.loc[is_churned,'churn']=1"
   ]
  },
  {
   "cell_type": "code",
   "execution_count": 146,
   "metadata": {
    "id": "uCo18ku0FEzc",
    "outputId": "f14e4d47-2407-4c9e-ea22-c0bfb1e3db71"
   },
   "outputs": [
    {
     "name": "stdout",
     "output_type": "stream",
     "text": [
      "Percentage of high value customers are churned 8.12\n"
     ]
    }
   ],
   "source": [
    "print(\"Percentage of high value customers are churned\",round(100*telecom.churn.sum()/len(telecom),2))"
   ]
  },
  {
   "cell_type": "code",
   "execution_count": 147,
   "metadata": {
    "id": "ZfhqyVkLFEzc"
   },
   "outputs": [],
   "source": [
    "#let's remove all other data for 9th month\n",
    "churn_month_columns =  telecom.columns[telecom.columns.str.contains('_9')]"
   ]
  },
  {
   "cell_type": "code",
   "execution_count": 148,
   "metadata": {
    "id": "qRjJffvNFEzd"
   },
   "outputs": [],
   "source": [
    "# drop all columns corresponding to the churn phase\n",
    "telecom.drop(churn_month_columns,axis=1,inplace=True)"
   ]
  },
  {
   "cell_type": "markdown",
   "metadata": {
    "id": "K7Pof0N1FEzd"
   },
   "source": [
    "This is the required data (data of high value customers). Now we'll remove unwanted columns."
   ]
  },
  {
   "cell_type": "markdown",
   "metadata": {
    "id": "7ANISC3xFEzd"
   },
   "source": [
    "# Removing unwanted columns"
   ]
  },
  {
   "cell_type": "markdown",
   "metadata": {
    "id": "hYeEuiksFEzd"
   },
   "source": [
    "Let's see which columns doesn't have variation in data (have  only 1 or 2 types of values)"
   ]
  },
  {
   "cell_type": "code",
   "execution_count": 149,
   "metadata": {
    "id": "AUGJk8A2FEzd"
   },
   "outputs": [],
   "source": [
    "#utility method to look for value count\n",
    "def value_count(telecom_meta):\n",
    "    telecom_meta = pd.DataFrame([])\n",
    "    telecom_meta['columns'] = telecom.columns\n",
    "    telecom_meta['dtypes'] = telecom.dtypes.values\n",
    "    i = 0\n",
    "    for col in telecom.columns:\n",
    "        telecom_meta.loc[i,'value_count'] = len(telecom[col].value_counts().index.values)\n",
    "        i+=1\n",
    "    return telecom_meta"
   ]
  },
  {
   "cell_type": "code",
   "execution_count": 150,
   "metadata": {
    "id": "nGJomKf_FEzd"
   },
   "outputs": [],
   "source": [
    "telecom_meta = value_count(telecom)"
   ]
  },
  {
   "cell_type": "code",
   "execution_count": 151,
   "metadata": {
    "id": "0oJP2jrfFEzd",
    "outputId": "5e45e924-de37-453d-ea76-75ec5f5f0b54"
   },
   "outputs": [
    {
     "data": {
      "text/html": [
       "<div>\n",
       "<style scoped>\n",
       "    .dataframe tbody tr th:only-of-type {\n",
       "        vertical-align: middle;\n",
       "    }\n",
       "\n",
       "    .dataframe tbody tr th {\n",
       "        vertical-align: top;\n",
       "    }\n",
       "\n",
       "    .dataframe thead th {\n",
       "        text-align: right;\n",
       "    }\n",
       "</style>\n",
       "<table border=\"1\" class=\"dataframe\">\n",
       "  <thead>\n",
       "    <tr style=\"text-align: right;\">\n",
       "      <th></th>\n",
       "      <th>columns</th>\n",
       "      <th>dtypes</th>\n",
       "      <th>value_count</th>\n",
       "    </tr>\n",
       "  </thead>\n",
       "  <tbody>\n",
       "    <tr>\n",
       "      <th>1</th>\n",
       "      <td>circle_id</td>\n",
       "      <td>int64</td>\n",
       "      <td>1.0</td>\n",
       "    </tr>\n",
       "    <tr>\n",
       "      <th>2</th>\n",
       "      <td>loc_og_t2o_mou</td>\n",
       "      <td>float64</td>\n",
       "      <td>1.0</td>\n",
       "    </tr>\n",
       "    <tr>\n",
       "      <th>3</th>\n",
       "      <td>std_og_t2o_mou</td>\n",
       "      <td>float64</td>\n",
       "      <td>1.0</td>\n",
       "    </tr>\n",
       "    <tr>\n",
       "      <th>4</th>\n",
       "      <td>loc_ic_t2o_mou</td>\n",
       "      <td>float64</td>\n",
       "      <td>1.0</td>\n",
       "    </tr>\n",
       "    <tr>\n",
       "      <th>5</th>\n",
       "      <td>last_date_of_month_6</td>\n",
       "      <td>object</td>\n",
       "      <td>1.0</td>\n",
       "    </tr>\n",
       "    <tr>\n",
       "      <th>6</th>\n",
       "      <td>last_date_of_month_7</td>\n",
       "      <td>object</td>\n",
       "      <td>1.0</td>\n",
       "    </tr>\n",
       "    <tr>\n",
       "      <th>7</th>\n",
       "      <td>last_date_of_month_8</td>\n",
       "      <td>object</td>\n",
       "      <td>1.0</td>\n",
       "    </tr>\n",
       "    <tr>\n",
       "      <th>47</th>\n",
       "      <td>std_og_t2c_mou_6</td>\n",
       "      <td>float64</td>\n",
       "      <td>1.0</td>\n",
       "    </tr>\n",
       "    <tr>\n",
       "      <th>48</th>\n",
       "      <td>std_og_t2c_mou_7</td>\n",
       "      <td>float64</td>\n",
       "      <td>1.0</td>\n",
       "    </tr>\n",
       "    <tr>\n",
       "      <th>49</th>\n",
       "      <td>std_og_t2c_mou_8</td>\n",
       "      <td>float64</td>\n",
       "      <td>1.0</td>\n",
       "    </tr>\n",
       "    <tr>\n",
       "      <th>86</th>\n",
       "      <td>std_ic_t2o_mou_6</td>\n",
       "      <td>float64</td>\n",
       "      <td>1.0</td>\n",
       "    </tr>\n",
       "    <tr>\n",
       "      <th>87</th>\n",
       "      <td>std_ic_t2o_mou_7</td>\n",
       "      <td>float64</td>\n",
       "      <td>1.0</td>\n",
       "    </tr>\n",
       "    <tr>\n",
       "      <th>88</th>\n",
       "      <td>std_ic_t2o_mou_8</td>\n",
       "      <td>float64</td>\n",
       "      <td>1.0</td>\n",
       "    </tr>\n",
       "  </tbody>\n",
       "</table>\n",
       "</div>"
      ],
      "text/plain": [
       "                 columns   dtypes  value_count\n",
       "1              circle_id    int64          1.0\n",
       "2         loc_og_t2o_mou  float64          1.0\n",
       "3         std_og_t2o_mou  float64          1.0\n",
       "4         loc_ic_t2o_mou  float64          1.0\n",
       "5   last_date_of_month_6   object          1.0\n",
       "6   last_date_of_month_7   object          1.0\n",
       "7   last_date_of_month_8   object          1.0\n",
       "47      std_og_t2c_mou_6  float64          1.0\n",
       "48      std_og_t2c_mou_7  float64          1.0\n",
       "49      std_og_t2c_mou_8  float64          1.0\n",
       "86      std_ic_t2o_mou_6  float64          1.0\n",
       "87      std_ic_t2o_mou_7  float64          1.0\n",
       "88      std_ic_t2o_mou_8  float64          1.0"
      ]
     },
     "execution_count": 151,
     "metadata": {},
     "output_type": "execute_result"
    }
   ],
   "source": [
    "telecom_meta[telecom_meta.value_count == 1]"
   ]
  },
  {
   "cell_type": "markdown",
   "metadata": {
    "id": "Awfi0QCtFEzd"
   },
   "source": [
    "<b><font color='red'>[Observation]:</b> We can see that there are multiple colums which have only 1 type of value hence we will remove this columns. Besides we will remove mobile_number column as well as it has all unique values."
   ]
  },
  {
   "cell_type": "code",
   "execution_count": 152,
   "metadata": {
    "id": "UxciCJZMFEzd"
   },
   "outputs": [],
   "source": [
    "telecom.drop(telecom_meta[telecom_meta.value_count == 1]['columns'].values,axis=1,inplace=True)\n",
    "telecom.drop(columns='mobile_number',axis=1,inplace=True)\n",
    "#we'll remove date related columns as well as they are not necessary for our analysis\n",
    "telecom.drop(telecom.columns[telecom.columns.str.contains('date')],axis=1,inplace=True)"
   ]
  },
  {
   "cell_type": "code",
   "execution_count": 153,
   "metadata": {
    "id": "_KlpIJNKFEzd",
    "outputId": "47cc1fec-f7d3-4c41-e33f-9f998b45805b"
   },
   "outputs": [
    {
     "data": {
      "text/html": [
       "<div>\n",
       "<style scoped>\n",
       "    .dataframe tbody tr th:only-of-type {\n",
       "        vertical-align: middle;\n",
       "    }\n",
       "\n",
       "    .dataframe tbody tr th {\n",
       "        vertical-align: top;\n",
       "    }\n",
       "\n",
       "    .dataframe thead th {\n",
       "        text-align: right;\n",
       "    }\n",
       "</style>\n",
       "<table border=\"1\" class=\"dataframe\">\n",
       "  <thead>\n",
       "    <tr style=\"text-align: right;\">\n",
       "      <th></th>\n",
       "      <th>arpu_6</th>\n",
       "      <th>arpu_7</th>\n",
       "      <th>arpu_8</th>\n",
       "      <th>onnet_mou_6</th>\n",
       "      <th>onnet_mou_7</th>\n",
       "      <th>onnet_mou_8</th>\n",
       "      <th>offnet_mou_6</th>\n",
       "      <th>offnet_mou_7</th>\n",
       "      <th>offnet_mou_8</th>\n",
       "      <th>roam_ic_mou_6</th>\n",
       "      <th>...</th>\n",
       "      <th>aon</th>\n",
       "      <th>aug_vbc_3g</th>\n",
       "      <th>jul_vbc_3g</th>\n",
       "      <th>jun_vbc_3g</th>\n",
       "      <th>sep_vbc_3g</th>\n",
       "      <th>total_rech_amt_data_6</th>\n",
       "      <th>total_rech_amt_data_7</th>\n",
       "      <th>total_rech_amt_data_8</th>\n",
       "      <th>avg_rech_per_month_good_phase</th>\n",
       "      <th>churn</th>\n",
       "    </tr>\n",
       "  </thead>\n",
       "  <tbody>\n",
       "    <tr>\n",
       "      <th>0</th>\n",
       "      <td>197.385</td>\n",
       "      <td>214.816</td>\n",
       "      <td>213.803</td>\n",
       "      <td>NaN</td>\n",
       "      <td>NaN</td>\n",
       "      <td>0.00</td>\n",
       "      <td>NaN</td>\n",
       "      <td>NaN</td>\n",
       "      <td>0.00</td>\n",
       "      <td>NaN</td>\n",
       "      <td>...</td>\n",
       "      <td>968</td>\n",
       "      <td>30.40</td>\n",
       "      <td>0.00</td>\n",
       "      <td>101.20</td>\n",
       "      <td>3.58</td>\n",
       "      <td>252.0</td>\n",
       "      <td>252.0</td>\n",
       "      <td>252.0</td>\n",
       "      <td>559.0</td>\n",
       "      <td>1</td>\n",
       "    </tr>\n",
       "    <tr>\n",
       "      <th>7</th>\n",
       "      <td>1069.180</td>\n",
       "      <td>1349.850</td>\n",
       "      <td>3171.480</td>\n",
       "      <td>57.84</td>\n",
       "      <td>54.68</td>\n",
       "      <td>52.29</td>\n",
       "      <td>453.43</td>\n",
       "      <td>567.16</td>\n",
       "      <td>325.91</td>\n",
       "      <td>16.23</td>\n",
       "      <td>...</td>\n",
       "      <td>802</td>\n",
       "      <td>57.74</td>\n",
       "      <td>19.38</td>\n",
       "      <td>18.74</td>\n",
       "      <td>0.00</td>\n",
       "      <td>0.0</td>\n",
       "      <td>0.0</td>\n",
       "      <td>0.0</td>\n",
       "      <td>1185.0</td>\n",
       "      <td>1</td>\n",
       "    </tr>\n",
       "    <tr>\n",
       "      <th>8</th>\n",
       "      <td>378.721</td>\n",
       "      <td>492.223</td>\n",
       "      <td>137.362</td>\n",
       "      <td>413.69</td>\n",
       "      <td>351.03</td>\n",
       "      <td>35.08</td>\n",
       "      <td>94.66</td>\n",
       "      <td>80.63</td>\n",
       "      <td>136.48</td>\n",
       "      <td>0.00</td>\n",
       "      <td>...</td>\n",
       "      <td>315</td>\n",
       "      <td>21.03</td>\n",
       "      <td>910.65</td>\n",
       "      <td>122.16</td>\n",
       "      <td>0.00</td>\n",
       "      <td>0.0</td>\n",
       "      <td>354.0</td>\n",
       "      <td>207.0</td>\n",
       "      <td>696.0</td>\n",
       "      <td>0</td>\n",
       "    </tr>\n",
       "    <tr>\n",
       "      <th>21</th>\n",
       "      <td>514.453</td>\n",
       "      <td>597.753</td>\n",
       "      <td>637.760</td>\n",
       "      <td>102.41</td>\n",
       "      <td>132.11</td>\n",
       "      <td>85.14</td>\n",
       "      <td>757.93</td>\n",
       "      <td>896.68</td>\n",
       "      <td>983.39</td>\n",
       "      <td>0.00</td>\n",
       "      <td>...</td>\n",
       "      <td>720</td>\n",
       "      <td>0.00</td>\n",
       "      <td>0.00</td>\n",
       "      <td>0.00</td>\n",
       "      <td>0.00</td>\n",
       "      <td>0.0</td>\n",
       "      <td>0.0</td>\n",
       "      <td>0.0</td>\n",
       "      <td>640.0</td>\n",
       "      <td>0</td>\n",
       "    </tr>\n",
       "    <tr>\n",
       "      <th>23</th>\n",
       "      <td>74.350</td>\n",
       "      <td>193.897</td>\n",
       "      <td>366.966</td>\n",
       "      <td>48.96</td>\n",
       "      <td>50.66</td>\n",
       "      <td>33.58</td>\n",
       "      <td>85.41</td>\n",
       "      <td>89.36</td>\n",
       "      <td>205.89</td>\n",
       "      <td>0.00</td>\n",
       "      <td>...</td>\n",
       "      <td>604</td>\n",
       "      <td>40.45</td>\n",
       "      <td>51.86</td>\n",
       "      <td>0.00</td>\n",
       "      <td>0.00</td>\n",
       "      <td>0.0</td>\n",
       "      <td>712.0</td>\n",
       "      <td>540.0</td>\n",
       "      <td>583.0</td>\n",
       "      <td>0</td>\n",
       "    </tr>\n",
       "    <tr>\n",
       "      <th>...</th>\n",
       "      <td>...</td>\n",
       "      <td>...</td>\n",
       "      <td>...</td>\n",
       "      <td>...</td>\n",
       "      <td>...</td>\n",
       "      <td>...</td>\n",
       "      <td>...</td>\n",
       "      <td>...</td>\n",
       "      <td>...</td>\n",
       "      <td>...</td>\n",
       "      <td>...</td>\n",
       "      <td>...</td>\n",
       "      <td>...</td>\n",
       "      <td>...</td>\n",
       "      <td>...</td>\n",
       "      <td>...</td>\n",
       "      <td>...</td>\n",
       "      <td>...</td>\n",
       "      <td>...</td>\n",
       "      <td>...</td>\n",
       "      <td>...</td>\n",
       "    </tr>\n",
       "    <tr>\n",
       "      <th>99981</th>\n",
       "      <td>384.316</td>\n",
       "      <td>255.405</td>\n",
       "      <td>393.474</td>\n",
       "      <td>78.68</td>\n",
       "      <td>29.04</td>\n",
       "      <td>103.24</td>\n",
       "      <td>56.13</td>\n",
       "      <td>28.09</td>\n",
       "      <td>61.44</td>\n",
       "      <td>0.00</td>\n",
       "      <td>...</td>\n",
       "      <td>473</td>\n",
       "      <td>1100.43</td>\n",
       "      <td>619.59</td>\n",
       "      <td>668.05</td>\n",
       "      <td>0.33</td>\n",
       "      <td>252.0</td>\n",
       "      <td>252.0</td>\n",
       "      <td>252.0</td>\n",
       "      <td>564.0</td>\n",
       "      <td>0</td>\n",
       "    </tr>\n",
       "    <tr>\n",
       "      <th>99984</th>\n",
       "      <td>328.594</td>\n",
       "      <td>202.966</td>\n",
       "      <td>118.707</td>\n",
       "      <td>423.99</td>\n",
       "      <td>181.83</td>\n",
       "      <td>5.71</td>\n",
       "      <td>39.51</td>\n",
       "      <td>39.81</td>\n",
       "      <td>18.26</td>\n",
       "      <td>0.00</td>\n",
       "      <td>...</td>\n",
       "      <td>820</td>\n",
       "      <td>0.00</td>\n",
       "      <td>0.00</td>\n",
       "      <td>0.00</td>\n",
       "      <td>0.00</td>\n",
       "      <td>154.0</td>\n",
       "      <td>484.0</td>\n",
       "      <td>585.0</td>\n",
       "      <td>618.5</td>\n",
       "      <td>0</td>\n",
       "    </tr>\n",
       "    <tr>\n",
       "      <th>99986</th>\n",
       "      <td>644.973</td>\n",
       "      <td>455.228</td>\n",
       "      <td>564.334</td>\n",
       "      <td>806.73</td>\n",
       "      <td>549.36</td>\n",
       "      <td>775.41</td>\n",
       "      <td>784.76</td>\n",
       "      <td>617.13</td>\n",
       "      <td>595.44</td>\n",
       "      <td>0.00</td>\n",
       "      <td>...</td>\n",
       "      <td>2696</td>\n",
       "      <td>497.45</td>\n",
       "      <td>598.67</td>\n",
       "      <td>604.08</td>\n",
       "      <td>0.00</td>\n",
       "      <td>17.0</td>\n",
       "      <td>14.0</td>\n",
       "      <td>25.0</td>\n",
       "      <td>864.0</td>\n",
       "      <td>0</td>\n",
       "    </tr>\n",
       "    <tr>\n",
       "      <th>99988</th>\n",
       "      <td>312.558</td>\n",
       "      <td>512.932</td>\n",
       "      <td>402.080</td>\n",
       "      <td>199.89</td>\n",
       "      <td>174.46</td>\n",
       "      <td>2.46</td>\n",
       "      <td>175.88</td>\n",
       "      <td>277.01</td>\n",
       "      <td>248.33</td>\n",
       "      <td>0.00</td>\n",
       "      <td>...</td>\n",
       "      <td>328</td>\n",
       "      <td>104.73</td>\n",
       "      <td>0.00</td>\n",
       "      <td>0.00</td>\n",
       "      <td>0.00</td>\n",
       "      <td>0.0</td>\n",
       "      <td>154.0</td>\n",
       "      <td>154.0</td>\n",
       "      <td>544.0</td>\n",
       "      <td>0</td>\n",
       "    </tr>\n",
       "    <tr>\n",
       "      <th>99997</th>\n",
       "      <td>322.991</td>\n",
       "      <td>303.386</td>\n",
       "      <td>606.817</td>\n",
       "      <td>0.00</td>\n",
       "      <td>0.00</td>\n",
       "      <td>0.00</td>\n",
       "      <td>0.00</td>\n",
       "      <td>0.00</td>\n",
       "      <td>0.00</td>\n",
       "      <td>0.00</td>\n",
       "      <td>...</td>\n",
       "      <td>478</td>\n",
       "      <td>1445.74</td>\n",
       "      <td>1151.03</td>\n",
       "      <td>1173.18</td>\n",
       "      <td>0.00</td>\n",
       "      <td>1749.0</td>\n",
       "      <td>716.0</td>\n",
       "      <td>2864.0</td>\n",
       "      <td>1602.0</td>\n",
       "      <td>0</td>\n",
       "    </tr>\n",
       "  </tbody>\n",
       "</table>\n",
       "<p>29953 rows × 157 columns</p>\n",
       "</div>"
      ],
      "text/plain": [
       "         arpu_6    arpu_7    arpu_8  onnet_mou_6  onnet_mou_7  onnet_mou_8  \\\n",
       "0       197.385   214.816   213.803          NaN          NaN         0.00   \n",
       "7      1069.180  1349.850  3171.480        57.84        54.68        52.29   \n",
       "8       378.721   492.223   137.362       413.69       351.03        35.08   \n",
       "21      514.453   597.753   637.760       102.41       132.11        85.14   \n",
       "23       74.350   193.897   366.966        48.96        50.66        33.58   \n",
       "...         ...       ...       ...          ...          ...          ...   \n",
       "99981   384.316   255.405   393.474        78.68        29.04       103.24   \n",
       "99984   328.594   202.966   118.707       423.99       181.83         5.71   \n",
       "99986   644.973   455.228   564.334       806.73       549.36       775.41   \n",
       "99988   312.558   512.932   402.080       199.89       174.46         2.46   \n",
       "99997   322.991   303.386   606.817         0.00         0.00         0.00   \n",
       "\n",
       "       offnet_mou_6  offnet_mou_7  offnet_mou_8  roam_ic_mou_6  ...   aon  \\\n",
       "0               NaN           NaN          0.00            NaN  ...   968   \n",
       "7            453.43        567.16        325.91          16.23  ...   802   \n",
       "8             94.66         80.63        136.48           0.00  ...   315   \n",
       "21           757.93        896.68        983.39           0.00  ...   720   \n",
       "23            85.41         89.36        205.89           0.00  ...   604   \n",
       "...             ...           ...           ...            ...  ...   ...   \n",
       "99981         56.13         28.09         61.44           0.00  ...   473   \n",
       "99984         39.51         39.81         18.26           0.00  ...   820   \n",
       "99986        784.76        617.13        595.44           0.00  ...  2696   \n",
       "99988        175.88        277.01        248.33           0.00  ...   328   \n",
       "99997          0.00          0.00          0.00           0.00  ...   478   \n",
       "\n",
       "       aug_vbc_3g  jul_vbc_3g  jun_vbc_3g  sep_vbc_3g  total_rech_amt_data_6  \\\n",
       "0           30.40        0.00      101.20        3.58                  252.0   \n",
       "7           57.74       19.38       18.74        0.00                    0.0   \n",
       "8           21.03      910.65      122.16        0.00                    0.0   \n",
       "21           0.00        0.00        0.00        0.00                    0.0   \n",
       "23          40.45       51.86        0.00        0.00                    0.0   \n",
       "...           ...         ...         ...         ...                    ...   \n",
       "99981     1100.43      619.59      668.05        0.33                  252.0   \n",
       "99984        0.00        0.00        0.00        0.00                  154.0   \n",
       "99986      497.45      598.67      604.08        0.00                   17.0   \n",
       "99988      104.73        0.00        0.00        0.00                    0.0   \n",
       "99997     1445.74     1151.03     1173.18        0.00                 1749.0   \n",
       "\n",
       "       total_rech_amt_data_7  total_rech_amt_data_8  \\\n",
       "0                      252.0                  252.0   \n",
       "7                        0.0                    0.0   \n",
       "8                      354.0                  207.0   \n",
       "21                       0.0                    0.0   \n",
       "23                     712.0                  540.0   \n",
       "...                      ...                    ...   \n",
       "99981                  252.0                  252.0   \n",
       "99984                  484.0                  585.0   \n",
       "99986                   14.0                   25.0   \n",
       "99988                  154.0                  154.0   \n",
       "99997                  716.0                 2864.0   \n",
       "\n",
       "       avg_rech_per_month_good_phase  churn  \n",
       "0                              559.0      1  \n",
       "7                             1185.0      1  \n",
       "8                              696.0      0  \n",
       "21                             640.0      0  \n",
       "23                             583.0      0  \n",
       "...                              ...    ...  \n",
       "99981                          564.0      0  \n",
       "99984                          618.5      0  \n",
       "99986                          864.0      0  \n",
       "99988                          544.0      0  \n",
       "99997                         1602.0      0  \n",
       "\n",
       "[29953 rows x 157 columns]"
      ]
     },
     "execution_count": 153,
     "metadata": {},
     "output_type": "execute_result"
    }
   ],
   "source": [
    "telecom"
   ]
  },
  {
   "cell_type": "markdown",
   "metadata": {
    "id": "uU4qNkaZFEzd"
   },
   "source": [
    "Now we have have dataframe which consits of required rows and columns. Let's dig deep to understand the data"
   ]
  },
  {
   "cell_type": "markdown",
   "metadata": {
    "id": "0PMeHWFfFEzd"
   },
   "source": [
    "# EDA"
   ]
  },
  {
   "cell_type": "code",
   "execution_count": 154,
   "metadata": {
    "id": "gahrQWhLFEzd"
   },
   "outputs": [],
   "source": [
    "#Let's deal with null values first\n",
    "#we'll deal with null values on the basis of their property\n",
    "def null_value(df,fil):\n",
    "    null_values = round((df.isnull().sum()[df.isnull().sum()>0]/len(df))*100,2)\n",
    "    if fil != 'All':\n",
    "        return (null_values[null_values.index.str.contains(fil,regex=True)])\n",
    "    else:\n",
    "        return (null_values)"
   ]
  },
  {
   "cell_type": "code",
   "execution_count": 155,
   "metadata": {
    "id": "DKE8pbooFEzd",
    "outputId": "d1414fcd-f92a-4dd5-a7e2-57b1d587a701"
   },
   "outputs": [
    {
     "data": {
      "text/plain": [
       "onnet_mou_6     1.81\n",
       "onnet_mou_7     1.79\n",
       "onnet_mou_8     3.91\n",
       "offnet_mou_6    1.81\n",
       "offnet_mou_7    1.79\n",
       "                ... \n",
       "spl_ic_mou_7    1.79\n",
       "spl_ic_mou_8    3.91\n",
       "isd_ic_mou_6    1.81\n",
       "isd_ic_mou_7    1.79\n",
       "isd_ic_mou_8    3.91\n",
       "Length: 75, dtype: float64"
      ]
     },
     "execution_count": 155,
     "metadata": {},
     "output_type": "execute_result"
    }
   ],
   "source": [
    "#first - minutes of usage related null values\n",
    "#null_values[null_values.index.str.contains('mou',regex=True)]\n",
    "null_value(telecom,'mou')"
   ]
  },
  {
   "cell_type": "code",
   "execution_count": 156,
   "metadata": {
    "id": "Fzy--CPdFEze"
   },
   "outputs": [],
   "source": [
    "#we are assuming that whenever minuts of usage is nan then user haven't called. Hence replace Nan with 0\n",
    "telecom[null_value(telecom,'mou').index] = telecom[null_value(telecom,'mou').index].replace(np.NaN,0.0)"
   ]
  },
  {
   "cell_type": "code",
   "execution_count": 157,
   "metadata": {
    "id": "yYtvJLIiFEze",
    "outputId": "6863f33a-7afa-4256-f086-ed2a0ea825b4"
   },
   "outputs": [
    {
     "data": {
      "text/plain": [
       "Series([], dtype: float64)"
      ]
     },
     "execution_count": 157,
     "metadata": {},
     "output_type": "execute_result"
    }
   ],
   "source": [
    "null_value(telecom,'mou')"
   ]
  },
  {
   "cell_type": "code",
   "execution_count": 158,
   "metadata": {
    "id": "QoB2285EFEze",
    "outputId": "0065c4b0-6da7-4ad4-e9b0-c30cf6668934"
   },
   "outputs": [
    {
     "data": {
      "text/plain": [
       "og_others_6          1.81\n",
       "og_others_7          1.79\n",
       "og_others_8          3.91\n",
       "ic_others_6          1.81\n",
       "ic_others_7          1.79\n",
       "ic_others_8          3.91\n",
       "max_rech_data_6     44.11\n",
       "max_rech_data_7     43.12\n",
       "max_rech_data_8     46.80\n",
       "count_rech_2g_6     44.11\n",
       "count_rech_2g_7     43.12\n",
       "count_rech_2g_8     46.80\n",
       "count_rech_3g_6     44.11\n",
       "count_rech_3g_7     43.12\n",
       "count_rech_3g_8     46.80\n",
       "arpu_3g_6           44.11\n",
       "arpu_3g_7           43.12\n",
       "arpu_3g_8           46.80\n",
       "arpu_2g_6           44.11\n",
       "arpu_2g_7           43.12\n",
       "arpu_2g_8           46.80\n",
       "night_pck_user_6    44.11\n",
       "night_pck_user_7    43.12\n",
       "night_pck_user_8    46.80\n",
       "fb_user_6           44.11\n",
       "fb_user_7           43.12\n",
       "fb_user_8           46.80\n",
       "dtype: float64"
      ]
     },
     "execution_count": 158,
     "metadata": {},
     "output_type": "execute_result"
    }
   ],
   "source": [
    "null_value(telecom,'All')"
   ]
  },
  {
   "cell_type": "code",
   "execution_count": 159,
   "metadata": {
    "id": "qIk0R9lcFEze",
    "outputId": "08a8fcb4-2a7a-4510-d762-fb5d6ff324b4"
   },
   "outputs": [
    {
     "data": {
      "text/html": [
       "<div>\n",
       "<style scoped>\n",
       "    .dataframe tbody tr th:only-of-type {\n",
       "        vertical-align: middle;\n",
       "    }\n",
       "\n",
       "    .dataframe tbody tr th {\n",
       "        vertical-align: top;\n",
       "    }\n",
       "\n",
       "    .dataframe thead th {\n",
       "        text-align: right;\n",
       "    }\n",
       "</style>\n",
       "<table border=\"1\" class=\"dataframe\">\n",
       "  <thead>\n",
       "    <tr style=\"text-align: right;\">\n",
       "      <th></th>\n",
       "      <th>og_others_6</th>\n",
       "      <th>og_others_7</th>\n",
       "      <th>og_others_8</th>\n",
       "      <th>ic_others_6</th>\n",
       "      <th>ic_others_7</th>\n",
       "      <th>ic_others_8</th>\n",
       "    </tr>\n",
       "  </thead>\n",
       "  <tbody>\n",
       "    <tr>\n",
       "      <th>count</th>\n",
       "      <td>29411.000000</td>\n",
       "      <td>29417.000000</td>\n",
       "      <td>28781.000000</td>\n",
       "      <td>29411.000000</td>\n",
       "      <td>29417.000000</td>\n",
       "      <td>28781.000000</td>\n",
       "    </tr>\n",
       "    <tr>\n",
       "      <th>mean</th>\n",
       "      <td>0.673738</td>\n",
       "      <td>0.043743</td>\n",
       "      <td>0.060043</td>\n",
       "      <td>1.176512</td>\n",
       "      <td>1.529164</td>\n",
       "      <td>1.276098</td>\n",
       "    </tr>\n",
       "    <tr>\n",
       "      <th>std</th>\n",
       "      <td>4.147630</td>\n",
       "      <td>2.703227</td>\n",
       "      <td>3.384640</td>\n",
       "      <td>14.124567</td>\n",
       "      <td>16.153401</td>\n",
       "      <td>13.048836</td>\n",
       "    </tr>\n",
       "    <tr>\n",
       "      <th>min</th>\n",
       "      <td>0.000000</td>\n",
       "      <td>0.000000</td>\n",
       "      <td>0.000000</td>\n",
       "      <td>0.000000</td>\n",
       "      <td>0.000000</td>\n",
       "      <td>0.000000</td>\n",
       "    </tr>\n",
       "    <tr>\n",
       "      <th>25%</th>\n",
       "      <td>0.000000</td>\n",
       "      <td>0.000000</td>\n",
       "      <td>0.000000</td>\n",
       "      <td>0.000000</td>\n",
       "      <td>0.000000</td>\n",
       "      <td>0.000000</td>\n",
       "    </tr>\n",
       "    <tr>\n",
       "      <th>50%</th>\n",
       "      <td>0.000000</td>\n",
       "      <td>0.000000</td>\n",
       "      <td>0.000000</td>\n",
       "      <td>0.000000</td>\n",
       "      <td>0.000000</td>\n",
       "      <td>0.000000</td>\n",
       "    </tr>\n",
       "    <tr>\n",
       "      <th>75%</th>\n",
       "      <td>0.000000</td>\n",
       "      <td>0.000000</td>\n",
       "      <td>0.000000</td>\n",
       "      <td>0.060000</td>\n",
       "      <td>0.000000</td>\n",
       "      <td>0.060000</td>\n",
       "    </tr>\n",
       "    <tr>\n",
       "      <th>max</th>\n",
       "      <td>609.810000</td>\n",
       "      <td>370.130000</td>\n",
       "      <td>394.930000</td>\n",
       "      <td>1344.140000</td>\n",
       "      <td>1495.940000</td>\n",
       "      <td>1209.860000</td>\n",
       "    </tr>\n",
       "  </tbody>\n",
       "</table>\n",
       "</div>"
      ],
      "text/plain": [
       "        og_others_6   og_others_7   og_others_8   ic_others_6   ic_others_7  \\\n",
       "count  29411.000000  29417.000000  28781.000000  29411.000000  29417.000000   \n",
       "mean       0.673738      0.043743      0.060043      1.176512      1.529164   \n",
       "std        4.147630      2.703227      3.384640     14.124567     16.153401   \n",
       "min        0.000000      0.000000      0.000000      0.000000      0.000000   \n",
       "25%        0.000000      0.000000      0.000000      0.000000      0.000000   \n",
       "50%        0.000000      0.000000      0.000000      0.000000      0.000000   \n",
       "75%        0.000000      0.000000      0.000000      0.060000      0.000000   \n",
       "max      609.810000    370.130000    394.930000   1344.140000   1495.940000   \n",
       "\n",
       "        ic_others_8  \n",
       "count  28781.000000  \n",
       "mean       1.276098  \n",
       "std       13.048836  \n",
       "min        0.000000  \n",
       "25%        0.000000  \n",
       "50%        0.000000  \n",
       "75%        0.060000  \n",
       "max     1209.860000  "
      ]
     },
     "execution_count": 159,
     "metadata": {},
     "output_type": "execute_result"
    }
   ],
   "source": [
    "telecom[['og_others_6','og_others_7','og_others_8','ic_others_6','ic_others_7','ic_others_8']].describe()"
   ]
  },
  {
   "cell_type": "code",
   "execution_count": 160,
   "metadata": {
    "id": "yC0EaNXRFEze"
   },
   "outputs": [],
   "source": [
    "#for 'og_others_6','og_others_7','og_others_8','ic_others_6','ic_others_7','ic_others_8' we'll replace Nan with 0. From data we can \n",
    "#conclude that these columns doesn't have enough info to help our analysis but we won't delete these columns, we will leave it to PCA\n",
    "telecom[['og_others_6','og_others_7','og_others_8','ic_others_6','ic_others_7','ic_others_8']]=telecom[['og_others_6','og_others_7','og_others_8','ic_others_6','ic_others_7','ic_others_8']].replace(np.NaN,0.0)"
   ]
  },
  {
   "cell_type": "code",
   "execution_count": 161,
   "metadata": {
    "id": "dpvql6ZaFEze",
    "outputId": "ae8b5995-0b29-4178-c11a-2e20644cdb64"
   },
   "outputs": [
    {
     "data": {
      "text/plain": [
       "max_rech_data_6     44.11\n",
       "max_rech_data_7     43.12\n",
       "max_rech_data_8     46.80\n",
       "count_rech_2g_6     44.11\n",
       "count_rech_2g_7     43.12\n",
       "count_rech_2g_8     46.80\n",
       "count_rech_3g_6     44.11\n",
       "count_rech_3g_7     43.12\n",
       "count_rech_3g_8     46.80\n",
       "arpu_3g_6           44.11\n",
       "arpu_3g_7           43.12\n",
       "arpu_3g_8           46.80\n",
       "arpu_2g_6           44.11\n",
       "arpu_2g_7           43.12\n",
       "arpu_2g_8           46.80\n",
       "night_pck_user_6    44.11\n",
       "night_pck_user_7    43.12\n",
       "night_pck_user_8    46.80\n",
       "fb_user_6           44.11\n",
       "fb_user_7           43.12\n",
       "fb_user_8           46.80\n",
       "dtype: float64"
      ]
     },
     "execution_count": 161,
     "metadata": {},
     "output_type": "execute_result"
    }
   ],
   "source": [
    "null_value(telecom,'All')"
   ]
  },
  {
   "cell_type": "code",
   "execution_count": 162,
   "metadata": {
    "id": "fTx1DVpSFEze"
   },
   "outputs": [],
   "source": [
    "#we will delete all columns which have null values greater than 40%\n",
    "telecom.drop(null_value(telecom,'All').index.values,axis=1,inplace=True)"
   ]
  },
  {
   "cell_type": "code",
   "execution_count": 163,
   "metadata": {
    "id": "KgpOlNsoFEze",
    "outputId": "94271d3b-9774-4e25-8dd6-c93f3ccee585"
   },
   "outputs": [
    {
     "data": {
      "text/plain": [
       "Series([], dtype: float64)"
      ]
     },
     "execution_count": 163,
     "metadata": {},
     "output_type": "execute_result"
    }
   ],
   "source": [
    "#we can see no null values now\n",
    "null_value(telecom,'All')"
   ]
  },
  {
   "cell_type": "code",
   "execution_count": 164,
   "metadata": {
    "id": "ftPFNFvVFEzf",
    "outputId": "448338e6-303b-4bc2-a354-eab6b48d81a4"
   },
   "outputs": [
    {
     "name": "stdout",
     "output_type": "stream",
     "text": [
      "(29953, 136)\n",
      "2433\n"
     ]
    }
   ],
   "source": [
    "print(telecom.shape)\n",
    "print(telecom['churn'][telecom.churn == 1].count())"
   ]
  },
  {
   "cell_type": "code",
   "execution_count": 165,
   "metadata": {
    "id": "f1nnBNvSFEzf",
    "outputId": "b2d07557-fc26-4e8e-b8ca-1e02214dff30"
   },
   "outputs": [
    {
     "data": {
      "text/html": [
       "<div>\n",
       "<style scoped>\n",
       "    .dataframe tbody tr th:only-of-type {\n",
       "        vertical-align: middle;\n",
       "    }\n",
       "\n",
       "    .dataframe tbody tr th {\n",
       "        vertical-align: top;\n",
       "    }\n",
       "\n",
       "    .dataframe thead th {\n",
       "        text-align: right;\n",
       "    }\n",
       "</style>\n",
       "<table border=\"1\" class=\"dataframe\">\n",
       "  <thead>\n",
       "    <tr style=\"text-align: right;\">\n",
       "      <th></th>\n",
       "      <th>arpu_6</th>\n",
       "      <th>arpu_7</th>\n",
       "      <th>arpu_8</th>\n",
       "      <th>onnet_mou_6</th>\n",
       "      <th>onnet_mou_7</th>\n",
       "      <th>onnet_mou_8</th>\n",
       "      <th>offnet_mou_6</th>\n",
       "      <th>offnet_mou_7</th>\n",
       "      <th>offnet_mou_8</th>\n",
       "      <th>roam_ic_mou_6</th>\n",
       "      <th>...</th>\n",
       "      <th>aon</th>\n",
       "      <th>aug_vbc_3g</th>\n",
       "      <th>jul_vbc_3g</th>\n",
       "      <th>jun_vbc_3g</th>\n",
       "      <th>sep_vbc_3g</th>\n",
       "      <th>total_rech_amt_data_6</th>\n",
       "      <th>total_rech_amt_data_7</th>\n",
       "      <th>total_rech_amt_data_8</th>\n",
       "      <th>avg_rech_per_month_good_phase</th>\n",
       "      <th>churn</th>\n",
       "    </tr>\n",
       "  </thead>\n",
       "  <tbody>\n",
       "    <tr>\n",
       "      <th>0</th>\n",
       "      <td>197.385</td>\n",
       "      <td>214.816</td>\n",
       "      <td>213.803</td>\n",
       "      <td>0.00</td>\n",
       "      <td>0.00</td>\n",
       "      <td>0.00</td>\n",
       "      <td>0.00</td>\n",
       "      <td>0.00</td>\n",
       "      <td>0.00</td>\n",
       "      <td>0.00</td>\n",
       "      <td>...</td>\n",
       "      <td>968</td>\n",
       "      <td>30.40</td>\n",
       "      <td>0.00</td>\n",
       "      <td>101.20</td>\n",
       "      <td>3.58</td>\n",
       "      <td>252.0</td>\n",
       "      <td>252.0</td>\n",
       "      <td>252.0</td>\n",
       "      <td>559.0</td>\n",
       "      <td>1</td>\n",
       "    </tr>\n",
       "    <tr>\n",
       "      <th>7</th>\n",
       "      <td>1069.180</td>\n",
       "      <td>1349.850</td>\n",
       "      <td>3171.480</td>\n",
       "      <td>57.84</td>\n",
       "      <td>54.68</td>\n",
       "      <td>52.29</td>\n",
       "      <td>453.43</td>\n",
       "      <td>567.16</td>\n",
       "      <td>325.91</td>\n",
       "      <td>16.23</td>\n",
       "      <td>...</td>\n",
       "      <td>802</td>\n",
       "      <td>57.74</td>\n",
       "      <td>19.38</td>\n",
       "      <td>18.74</td>\n",
       "      <td>0.00</td>\n",
       "      <td>0.0</td>\n",
       "      <td>0.0</td>\n",
       "      <td>0.0</td>\n",
       "      <td>1185.0</td>\n",
       "      <td>1</td>\n",
       "    </tr>\n",
       "    <tr>\n",
       "      <th>67</th>\n",
       "      <td>218.818</td>\n",
       "      <td>386.515</td>\n",
       "      <td>386.502</td>\n",
       "      <td>0.00</td>\n",
       "      <td>0.00</td>\n",
       "      <td>0.00</td>\n",
       "      <td>0.00</td>\n",
       "      <td>0.00</td>\n",
       "      <td>0.00</td>\n",
       "      <td>0.00</td>\n",
       "      <td>...</td>\n",
       "      <td>1158</td>\n",
       "      <td>126.21</td>\n",
       "      <td>745.73</td>\n",
       "      <td>1010.15</td>\n",
       "      <td>0.00</td>\n",
       "      <td>252.0</td>\n",
       "      <td>455.0</td>\n",
       "      <td>0.0</td>\n",
       "      <td>707.0</td>\n",
       "      <td>1</td>\n",
       "    </tr>\n",
       "    <tr>\n",
       "      <th>86</th>\n",
       "      <td>319.700</td>\n",
       "      <td>56.080</td>\n",
       "      <td>1.030</td>\n",
       "      <td>141.76</td>\n",
       "      <td>11.23</td>\n",
       "      <td>0.00</td>\n",
       "      <td>182.76</td>\n",
       "      <td>32.79</td>\n",
       "      <td>1.71</td>\n",
       "      <td>0.00</td>\n",
       "      <td>...</td>\n",
       "      <td>465</td>\n",
       "      <td>0.00</td>\n",
       "      <td>394.62</td>\n",
       "      <td>1526.51</td>\n",
       "      <td>0.00</td>\n",
       "      <td>616.0</td>\n",
       "      <td>0.0</td>\n",
       "      <td>0.0</td>\n",
       "      <td>528.0</td>\n",
       "      <td>1</td>\n",
       "    </tr>\n",
       "    <tr>\n",
       "      <th>111</th>\n",
       "      <td>596.301</td>\n",
       "      <td>146.073</td>\n",
       "      <td>0.000</td>\n",
       "      <td>55.19</td>\n",
       "      <td>3.26</td>\n",
       "      <td>0.00</td>\n",
       "      <td>45.51</td>\n",
       "      <td>12.34</td>\n",
       "      <td>0.00</td>\n",
       "      <td>0.00</td>\n",
       "      <td>...</td>\n",
       "      <td>332</td>\n",
       "      <td>0.00</td>\n",
       "      <td>0.00</td>\n",
       "      <td>0.00</td>\n",
       "      <td>0.00</td>\n",
       "      <td>406.0</td>\n",
       "      <td>0.0</td>\n",
       "      <td>0.0</td>\n",
       "      <td>644.0</td>\n",
       "      <td>1</td>\n",
       "    </tr>\n",
       "    <tr>\n",
       "      <th>...</th>\n",
       "      <td>...</td>\n",
       "      <td>...</td>\n",
       "      <td>...</td>\n",
       "      <td>...</td>\n",
       "      <td>...</td>\n",
       "      <td>...</td>\n",
       "      <td>...</td>\n",
       "      <td>...</td>\n",
       "      <td>...</td>\n",
       "      <td>...</td>\n",
       "      <td>...</td>\n",
       "      <td>...</td>\n",
       "      <td>...</td>\n",
       "      <td>...</td>\n",
       "      <td>...</td>\n",
       "      <td>...</td>\n",
       "      <td>...</td>\n",
       "      <td>...</td>\n",
       "      <td>...</td>\n",
       "      <td>...</td>\n",
       "      <td>...</td>\n",
       "    </tr>\n",
       "    <tr>\n",
       "      <th>99827</th>\n",
       "      <td>1053.035</td>\n",
       "      <td>20.060</td>\n",
       "      <td>0.000</td>\n",
       "      <td>1263.94</td>\n",
       "      <td>0.06</td>\n",
       "      <td>0.00</td>\n",
       "      <td>151.26</td>\n",
       "      <td>0.00</td>\n",
       "      <td>0.00</td>\n",
       "      <td>385.51</td>\n",
       "      <td>...</td>\n",
       "      <td>509</td>\n",
       "      <td>0.00</td>\n",
       "      <td>0.00</td>\n",
       "      <td>0.00</td>\n",
       "      <td>0.00</td>\n",
       "      <td>0.0</td>\n",
       "      <td>0.0</td>\n",
       "      <td>0.0</td>\n",
       "      <td>673.0</td>\n",
       "      <td>1</td>\n",
       "    </tr>\n",
       "    <tr>\n",
       "      <th>99851</th>\n",
       "      <td>446.574</td>\n",
       "      <td>0.000</td>\n",
       "      <td>0.000</td>\n",
       "      <td>11.29</td>\n",
       "      <td>0.00</td>\n",
       "      <td>0.00</td>\n",
       "      <td>280.88</td>\n",
       "      <td>0.00</td>\n",
       "      <td>0.00</td>\n",
       "      <td>0.00</td>\n",
       "      <td>...</td>\n",
       "      <td>709</td>\n",
       "      <td>0.00</td>\n",
       "      <td>0.00</td>\n",
       "      <td>287.90</td>\n",
       "      <td>0.00</td>\n",
       "      <td>2544.0</td>\n",
       "      <td>0.0</td>\n",
       "      <td>0.0</td>\n",
       "      <td>1531.0</td>\n",
       "      <td>1</td>\n",
       "    </tr>\n",
       "    <tr>\n",
       "      <th>99868</th>\n",
       "      <td>594.210</td>\n",
       "      <td>591.700</td>\n",
       "      <td>506.715</td>\n",
       "      <td>230.93</td>\n",
       "      <td>73.76</td>\n",
       "      <td>55.93</td>\n",
       "      <td>194.11</td>\n",
       "      <td>191.04</td>\n",
       "      <td>59.06</td>\n",
       "      <td>0.00</td>\n",
       "      <td>...</td>\n",
       "      <td>730</td>\n",
       "      <td>0.00</td>\n",
       "      <td>0.00</td>\n",
       "      <td>0.00</td>\n",
       "      <td>0.00</td>\n",
       "      <td>4147.0</td>\n",
       "      <td>5850.0</td>\n",
       "      <td>1614.0</td>\n",
       "      <td>5662.5</td>\n",
       "      <td>1</td>\n",
       "    </tr>\n",
       "    <tr>\n",
       "      <th>99885</th>\n",
       "      <td>456.151</td>\n",
       "      <td>486.175</td>\n",
       "      <td>526.636</td>\n",
       "      <td>741.94</td>\n",
       "      <td>931.84</td>\n",
       "      <td>966.33</td>\n",
       "      <td>63.53</td>\n",
       "      <td>27.08</td>\n",
       "      <td>50.06</td>\n",
       "      <td>0.00</td>\n",
       "      <td>...</td>\n",
       "      <td>529</td>\n",
       "      <td>0.00</td>\n",
       "      <td>0.00</td>\n",
       "      <td>0.00</td>\n",
       "      <td>0.00</td>\n",
       "      <td>0.0</td>\n",
       "      <td>0.0</td>\n",
       "      <td>0.0</td>\n",
       "      <td>532.0</td>\n",
       "      <td>1</td>\n",
       "    </tr>\n",
       "    <tr>\n",
       "      <th>99887</th>\n",
       "      <td>816.531</td>\n",
       "      <td>628.336</td>\n",
       "      <td>142.974</td>\n",
       "      <td>326.06</td>\n",
       "      <td>299.59</td>\n",
       "      <td>8.61</td>\n",
       "      <td>522.14</td>\n",
       "      <td>514.78</td>\n",
       "      <td>436.74</td>\n",
       "      <td>172.53</td>\n",
       "      <td>...</td>\n",
       "      <td>485</td>\n",
       "      <td>0.00</td>\n",
       "      <td>0.00</td>\n",
       "      <td>0.00</td>\n",
       "      <td>0.00</td>\n",
       "      <td>0.0</td>\n",
       "      <td>0.0</td>\n",
       "      <td>0.0</td>\n",
       "      <td>880.5</td>\n",
       "      <td>1</td>\n",
       "    </tr>\n",
       "  </tbody>\n",
       "</table>\n",
       "<p>2433 rows × 136 columns</p>\n",
       "</div>"
      ],
      "text/plain": [
       "         arpu_6    arpu_7    arpu_8  onnet_mou_6  onnet_mou_7  onnet_mou_8  \\\n",
       "0       197.385   214.816   213.803         0.00         0.00         0.00   \n",
       "7      1069.180  1349.850  3171.480        57.84        54.68        52.29   \n",
       "67      218.818   386.515   386.502         0.00         0.00         0.00   \n",
       "86      319.700    56.080     1.030       141.76        11.23         0.00   \n",
       "111     596.301   146.073     0.000        55.19         3.26         0.00   \n",
       "...         ...       ...       ...          ...          ...          ...   \n",
       "99827  1053.035    20.060     0.000      1263.94         0.06         0.00   \n",
       "99851   446.574     0.000     0.000        11.29         0.00         0.00   \n",
       "99868   594.210   591.700   506.715       230.93        73.76        55.93   \n",
       "99885   456.151   486.175   526.636       741.94       931.84       966.33   \n",
       "99887   816.531   628.336   142.974       326.06       299.59         8.61   \n",
       "\n",
       "       offnet_mou_6  offnet_mou_7  offnet_mou_8  roam_ic_mou_6  ...   aon  \\\n",
       "0              0.00          0.00          0.00           0.00  ...   968   \n",
       "7            453.43        567.16        325.91          16.23  ...   802   \n",
       "67             0.00          0.00          0.00           0.00  ...  1158   \n",
       "86           182.76         32.79          1.71           0.00  ...   465   \n",
       "111           45.51         12.34          0.00           0.00  ...   332   \n",
       "...             ...           ...           ...            ...  ...   ...   \n",
       "99827        151.26          0.00          0.00         385.51  ...   509   \n",
       "99851        280.88          0.00          0.00           0.00  ...   709   \n",
       "99868        194.11        191.04         59.06           0.00  ...   730   \n",
       "99885         63.53         27.08         50.06           0.00  ...   529   \n",
       "99887        522.14        514.78        436.74         172.53  ...   485   \n",
       "\n",
       "       aug_vbc_3g  jul_vbc_3g  jun_vbc_3g  sep_vbc_3g  total_rech_amt_data_6  \\\n",
       "0           30.40        0.00      101.20        3.58                  252.0   \n",
       "7           57.74       19.38       18.74        0.00                    0.0   \n",
       "67         126.21      745.73     1010.15        0.00                  252.0   \n",
       "86           0.00      394.62     1526.51        0.00                  616.0   \n",
       "111          0.00        0.00        0.00        0.00                  406.0   \n",
       "...           ...         ...         ...         ...                    ...   \n",
       "99827        0.00        0.00        0.00        0.00                    0.0   \n",
       "99851        0.00        0.00      287.90        0.00                 2544.0   \n",
       "99868        0.00        0.00        0.00        0.00                 4147.0   \n",
       "99885        0.00        0.00        0.00        0.00                    0.0   \n",
       "99887        0.00        0.00        0.00        0.00                    0.0   \n",
       "\n",
       "       total_rech_amt_data_7  total_rech_amt_data_8  \\\n",
       "0                      252.0                  252.0   \n",
       "7                        0.0                    0.0   \n",
       "67                     455.0                    0.0   \n",
       "86                       0.0                    0.0   \n",
       "111                      0.0                    0.0   \n",
       "...                      ...                    ...   \n",
       "99827                    0.0                    0.0   \n",
       "99851                    0.0                    0.0   \n",
       "99868                 5850.0                 1614.0   \n",
       "99885                    0.0                    0.0   \n",
       "99887                    0.0                    0.0   \n",
       "\n",
       "       avg_rech_per_month_good_phase  churn  \n",
       "0                              559.0      1  \n",
       "7                             1185.0      1  \n",
       "67                             707.0      1  \n",
       "86                             528.0      1  \n",
       "111                            644.0      1  \n",
       "...                              ...    ...  \n",
       "99827                          673.0      1  \n",
       "99851                         1531.0      1  \n",
       "99868                         5662.5      1  \n",
       "99885                          532.0      1  \n",
       "99887                          880.5      1  \n",
       "\n",
       "[2433 rows x 136 columns]"
      ]
     },
     "execution_count": 165,
     "metadata": {},
     "output_type": "execute_result"
    }
   ],
   "source": [
    "telecom[telecom.churn == 1]"
   ]
  },
  {
   "cell_type": "code",
   "execution_count": 166,
   "metadata": {
    "id": "T-jZKjhvFEzf"
   },
   "outputs": [],
   "source": [
    "#utility method to remove outliers\n",
    "def rm_outl(dtf, numl_list):\n",
    "    for j in numl_list:\n",
    "        Q1 = dtf[j].quantile(0.05)\n",
    "        Q3 = dtf[j].quantile(0.95)\n",
    "        IQR = Q3 - Q1      \n",
    "        dtf = dtf[(dtf[j] >= Q1-2.5*IQR) & (dtf[j] <= Q3+2.5*IQR)]\n",
    "    return dtf"
   ]
  },
  {
   "cell_type": "code",
   "execution_count": 167,
   "metadata": {
    "id": "YpsluO3ZFEzf"
   },
   "outputs": [],
   "source": [
    "#utility method to plot charts\n",
    "def box_plots(col):\n",
    "    plt.figure(figsize=(20,16))\n",
    "    df = rm_outl(telecom,[col+'_6',col+'_7',col+'_8'])\n",
    "    plt.subplot(2,3,1)\n",
    "    sns.boxplot(data=df, y=col+\"_6\",x=\"churn\",hue=\"churn\")\n",
    "    plt.subplot(2,3,2)\n",
    "    sns.boxplot(data=df, y=col+\"_7\",x=\"churn\",hue=\"churn\")\n",
    "    plt.subplot(2,3,3)\n",
    "    sns.boxplot(data=df, y=col+\"_8\",x=\"churn\",hue=\"churn\")\n",
    "    plt.show()"
   ]
  },
  {
   "cell_type": "markdown",
   "metadata": {
    "id": "6wpqQmeWFEzf"
   },
   "source": [
    "## Analysis"
   ]
  },
  {
   "cell_type": "code",
   "execution_count": 168,
   "metadata": {
    "id": "UMv0Qjt2FEzf",
    "outputId": "f3a13750-4ad4-4165-f8c7-9444003cd5ea"
   },
   "outputs": [
    {
     "name": "stdout",
     "output_type": "stream",
     "text": [
      "['total_rech_amt_6' 'total_rech_amt_7' 'total_rech_amt_8' 'max_rech_amt_6'\n",
      " 'max_rech_amt_7' 'max_rech_amt_8' 'av_rech_amt_data_6'\n",
      " 'av_rech_amt_data_7' 'av_rech_amt_data_8' 'total_rech_amt_data_6'\n",
      " 'total_rech_amt_data_7' 'total_rech_amt_data_8']\n"
     ]
    }
   ],
   "source": [
    "#Let's do univariate analysis of recharge related column first\n",
    "rech_col = telecom.columns[telecom.columns.str.contains('rech_amt')].values\n",
    "print(rech_col)"
   ]
  },
  {
   "cell_type": "code",
   "execution_count": 169,
   "metadata": {
    "id": "X2p_SdMSFEzf",
    "outputId": "9bb4d412-3f4b-40fe-ba2e-e1220ab9d69e"
   },
   "outputs": [
    {
     "name": "stdout",
     "output_type": "stream",
     "text": [
      "(29953, 136)\n",
      "2433\n"
     ]
    }
   ],
   "source": [
    "#first let's remove outliers\n",
    "#telecom = rm_outl(telecom,rech_col)\n",
    "#we've lost around 500 rows\n",
    "print(telecom.shape)\n",
    "print(telecom['churn'][telecom.churn == 1].count())"
   ]
  },
  {
   "cell_type": "code",
   "execution_count": 170,
   "metadata": {
    "id": "TP8NyRIjFEzf",
    "outputId": "2486f35f-e97b-4c5c-b561-4dff8da6f52f"
   },
   "outputs": [
    {
     "data": {
      "image/png": "[encoded data removed]",
      "text/plain": [
       "<Figure size 1440x1152 with 3 Axes>"
      ]
     },
     "metadata": {
      "needs_background": "light"
     },
     "output_type": "display_data"
    }
   ],
   "source": [
    "box_plots('total_rech_amt')"
   ]
  },
  {
   "cell_type": "markdown",
   "metadata": {
    "id": "YcthhqnGFEzg"
   },
   "source": [
    "<b><font color='red'>[Observation]:</b> We can see that in action phase total recharge amount is reduced for churn customers."
   ]
  },
  {
   "cell_type": "code",
   "execution_count": 171,
   "metadata": {
    "id": "Ax3Q2nPSFEzg",
    "outputId": "8a754cc6-e703-46a2-f1ee-e08ec8b30e72"
   },
   "outputs": [
    {
     "data": {
      "image/png": "[encoded data removed]",
      "text/plain": [
       "<Figure size 1440x1152 with 3 Axes>"
      ]
     },
     "metadata": {
      "needs_background": "light"
     },
     "output_type": "display_data"
    }
   ],
   "source": [
    "box_plots('max_rech_amt')"
   ]
  },
  {
   "cell_type": "markdown",
   "metadata": {
    "id": "Zf8EbNMXFEzg"
   },
   "source": [
    "<b><font color='red'>[Observation]:</b> We can see that in action phase total max recharge amount is reduced for churn customers."
   ]
  },
  {
   "cell_type": "code",
   "execution_count": 172,
   "metadata": {
    "id": "ojDTKEbaFEzg",
    "outputId": "6044edbd-affe-4cd3-da7a-b7863ea19e96"
   },
   "outputs": [
    {
     "data": {
      "image/png": "[encoded data removed]",
      "text/plain": [
       "<Figure size 1440x1152 with 3 Axes>"
      ]
     },
     "metadata": {
      "needs_background": "light"
     },
     "output_type": "display_data"
    }
   ],
   "source": [
    "box_plots('av_rech_amt_data')"
   ]
  },
  {
   "cell_type": "markdown",
   "metadata": {
    "id": "lJ1r2KcpFEzg"
   },
   "source": [
    "<b><font color='red'>[Observation]:</b> We can see that in action phase average recharge amount is reduced for churn customers."
   ]
  },
  {
   "cell_type": "code",
   "execution_count": 173,
   "metadata": {
    "id": "rQs3armBFEzg",
    "outputId": "54dfc7bc-2753-4610-cf01-70bb82e7e27f"
   },
   "outputs": [
    {
     "data": {
      "image/png": "[encoded data removed]",
      "text/plain": [
       "<Figure size 1440x1152 with 3 Axes>"
      ]
     },
     "metadata": {
      "needs_background": "light"
     },
     "output_type": "display_data"
    }
   ],
   "source": [
    "box_plots('total_rech_amt_data')"
   ]
  },
  {
   "cell_type": "markdown",
   "metadata": {
    "id": "fKkCoKFyFEzg"
   },
   "source": [
    "<b><font color='red'>[Observation]:</b> We can see that in action phase total rech amount data is reduced for churn customers."
   ]
  },
  {
   "cell_type": "code",
   "execution_count": 174,
   "metadata": {
    "id": "38XpqgG3FEzg"
   },
   "outputs": [],
   "source": [
    "#we've column which represents age on network which has unit as days, we'll convert that into months by dividing days/30\n",
    "telecom['Age_on_network'] = telecom.aon/30\n",
    "telecom.drop(columns='aon',inplace=True)"
   ]
  },
  {
   "cell_type": "code",
   "execution_count": 175,
   "metadata": {
    "id": "f0wgeb9jFEzg",
    "outputId": "48ed8aaa-ae03-42a6-de47-02ca32250551"
   },
   "outputs": [
    {
     "data": {
      "text/plain": [
       "<matplotlib.axes._subplots.AxesSubplot at 0x7fbbc0dfd710>"
      ]
     },
     "execution_count": 175,
     "metadata": {},
     "output_type": "execute_result"
    },
    {
     "data": {
      "image/png": "[encoded data removed]",
      "text/plain": [
       "<Figure size 432x288 with 1 Axes>"
      ]
     },
     "metadata": {
      "needs_background": "light"
     },
     "output_type": "display_data"
    }
   ],
   "source": [
    "sns.distplot(telecom['Age_on_network'],bins=20)"
   ]
  },
  {
   "cell_type": "markdown",
   "metadata": {
    "id": "UPP4oXODFEzg"
   },
   "source": [
    "<b><font color='red'>[Observation]:</b> Distribution is right skewed. Most of the customers are 1-50 months old."
   ]
  },
  {
   "cell_type": "code",
   "execution_count": 176,
   "metadata": {
    "id": "QEO6mMGVFEzg"
   },
   "outputs": [],
   "source": [
    "#Let's find out range so that we can determine age of the network which exerienced greater churn rate\n",
    "mn_range = [0, 6, 12, 24, 60, 61]\n",
    "mn_label = [ '0-6 Months', '6-12 Months', '1-2 Yrs', '2-5 Yrs', '5 Yrs and above']\n",
    "telecom['Age_range'] = pd.cut(telecom['Age_on_network'], mn_range, labels=mn_label)"
   ]
  },
  {
   "cell_type": "code",
   "execution_count": 177,
   "metadata": {
    "id": "PKeB7HxHFEzg",
    "outputId": "4ecfb8c1-73c5-4e01-cfe3-c0c79736bdac"
   },
   "outputs": [
    {
     "data": {
      "text/plain": [
       "<matplotlib.axes._subplots.AxesSubplot at 0x7fbbc0b1eb90>"
      ]
     },
     "execution_count": 177,
     "metadata": {},
     "output_type": "execute_result"
    },
    {
     "data": {
      "image/png": "[encoded data removed]",
      "text/plain": [
       "<Figure size 1008x576 with 1 Axes>"
      ]
     },
     "metadata": {
      "needs_background": "light"
     },
     "output_type": "display_data"
    }
   ],
   "source": [
    "plt.figure(figsize=(14,8))\n",
    "sns.countplot(x = 'Age_range', hue = 'churn',data = telecom)"
   ]
  },
  {
   "cell_type": "markdown",
   "metadata": {
    "id": "PDrN5s63FEzh"
   },
   "source": [
    "<b><font color='red'>[Observation]:</b> Count plot suggesting equal distribution of churn rate. Let's see percentage wise churn rate for each category."
   ]
  },
  {
   "cell_type": "code",
   "execution_count": 178,
   "metadata": {
    "id": "IwKIeDlCFEzh"
   },
   "outputs": [],
   "source": [
    "index = telecom.groupby('Age_range')['churn'].sum().index.values\n",
    "churn = telecom.groupby('Age_range')['churn'].sum().values\n",
    "total = telecom.groupby('Age_range')['Age_range'].count().values\n"
   ]
  },
  {
   "cell_type": "code",
   "execution_count": 179,
   "metadata": {
    "id": "2_bNDOq8FEzh",
    "outputId": "b1cf01f2-b663-43d6-8eca-24033f9a59f4"
   },
   "outputs": [
    {
     "data": {
      "text/html": [
       "<div>\n",
       "<style scoped>\n",
       "    .dataframe tbody tr th:only-of-type {\n",
       "        vertical-align: middle;\n",
       "    }\n",
       "\n",
       "    .dataframe tbody tr th {\n",
       "        vertical-align: top;\n",
       "    }\n",
       "\n",
       "    .dataframe thead th {\n",
       "        text-align: right;\n",
       "    }\n",
       "</style>\n",
       "<table border=\"1\" class=\"dataframe\">\n",
       "  <thead>\n",
       "    <tr style=\"text-align: right;\">\n",
       "      <th></th>\n",
       "      <th>range</th>\n",
       "      <th>churn</th>\n",
       "      <th>total</th>\n",
       "    </tr>\n",
       "  </thead>\n",
       "  <tbody>\n",
       "    <tr>\n",
       "      <th>0</th>\n",
       "      <td>0-6 Months</td>\n",
       "      <td>3</td>\n",
       "      <td>15</td>\n",
       "    </tr>\n",
       "    <tr>\n",
       "      <th>1</th>\n",
       "      <td>6-12 Months</td>\n",
       "      <td>618</td>\n",
       "      <td>5133</td>\n",
       "    </tr>\n",
       "    <tr>\n",
       "      <th>2</th>\n",
       "      <td>1-2 Yrs</td>\n",
       "      <td>801</td>\n",
       "      <td>7940</td>\n",
       "    </tr>\n",
       "    <tr>\n",
       "      <th>3</th>\n",
       "      <td>2-5 Yrs</td>\n",
       "      <td>744</td>\n",
       "      <td>9562</td>\n",
       "    </tr>\n",
       "    <tr>\n",
       "      <th>4</th>\n",
       "      <td>5 Yrs and above</td>\n",
       "      <td>6</td>\n",
       "      <td>139</td>\n",
       "    </tr>\n",
       "  </tbody>\n",
       "</table>\n",
       "</div>"
      ],
      "text/plain": [
       "             range  churn  total\n",
       "0       0-6 Months      3     15\n",
       "1      6-12 Months    618   5133\n",
       "2          1-2 Yrs    801   7940\n",
       "3          2-5 Yrs    744   9562\n",
       "4  5 Yrs and above      6    139"
      ]
     },
     "metadata": {},
     "output_type": "display_data"
    }
   ],
   "source": [
    "age_data = pd.DataFrame(data=[index,churn,total],columns=['range','churn','total'])\n",
    "display(age_data)"
   ]
  },
  {
   "cell_type": "code",
   "execution_count": 180,
   "metadata": {
    "id": "DixA4rgmFEzh"
   },
   "outputs": [],
   "source": [
    "age_data['perc'] = round((age_data.churn/age_data.total)*100)"
   ]
  },
  {
   "cell_type": "code",
   "execution_count": 181,
   "metadata": {
    "id": "aYVBUHiTFEzh",
    "outputId": "0d703dd3-ec14-4204-9e3c-5c062964c176"
   },
   "outputs": [
    {
     "data": {
      "text/html": [
       "<div>\n",
       "<style scoped>\n",
       "    .dataframe tbody tr th:only-of-type {\n",
       "        vertical-align: middle;\n",
       "    }\n",
       "\n",
       "    .dataframe tbody tr th {\n",
       "        vertical-align: top;\n",
       "    }\n",
       "\n",
       "    .dataframe thead th {\n",
       "        text-align: right;\n",
       "    }\n",
       "</style>\n",
       "<table border=\"1\" class=\"dataframe\">\n",
       "  <thead>\n",
       "    <tr style=\"text-align: right;\">\n",
       "      <th></th>\n",
       "      <th>range</th>\n",
       "      <th>churn</th>\n",
       "      <th>total</th>\n",
       "      <th>perc</th>\n",
       "    </tr>\n",
       "  </thead>\n",
       "  <tbody>\n",
       "    <tr>\n",
       "      <th>0</th>\n",
       "      <td>0-6 Months</td>\n",
       "      <td>3</td>\n",
       "      <td>15</td>\n",
       "      <td>20.0</td>\n",
       "    </tr>\n",
       "    <tr>\n",
       "      <th>1</th>\n",
       "      <td>6-12 Months</td>\n",
       "      <td>618</td>\n",
       "      <td>5133</td>\n",
       "      <td>12.0</td>\n",
       "    </tr>\n",
       "    <tr>\n",
       "      <th>2</th>\n",
       "      <td>1-2 Yrs</td>\n",
       "      <td>801</td>\n",
       "      <td>7940</td>\n",
       "      <td>10.0</td>\n",
       "    </tr>\n",
       "    <tr>\n",
       "      <th>3</th>\n",
       "      <td>2-5 Yrs</td>\n",
       "      <td>744</td>\n",
       "      <td>9562</td>\n",
       "      <td>8.0</td>\n",
       "    </tr>\n",
       "    <tr>\n",
       "      <th>4</th>\n",
       "      <td>5 Yrs and above</td>\n",
       "      <td>6</td>\n",
       "      <td>139</td>\n",
       "      <td>4.0</td>\n",
       "    </tr>\n",
       "  </tbody>\n",
       "</table>\n",
       "</div>"
      ],
      "text/plain": [
       "             range  churn  total  perc\n",
       "0       0-6 Months      3     15  20.0\n",
       "1      6-12 Months    618   5133  12.0\n",
       "2          1-2 Yrs    801   7940  10.0\n",
       "3          2-5 Yrs    744   9562   8.0\n",
       "4  5 Yrs and above      6    139   4.0"
      ]
     },
     "execution_count": 181,
     "metadata": {},
     "output_type": "execute_result"
    }
   ],
   "source": [
    "age_data"
   ]
  },
  {
   "cell_type": "markdown",
   "metadata": {
    "id": "QlZkkNaQFEzh"
   },
   "source": [
    "<b><font color='red'>[Observation]:</b> We have to ignore first range as data is not sufficient to comment. So churn rate is maximum for the customers who have spent 6-12 months on the network."
   ]
  },
  {
   "cell_type": "code",
   "execution_count": 182,
   "metadata": {
    "id": "h6LPfMIdFEzh"
   },
   "outputs": [],
   "source": [
    "#we'll drop Age_on_network\n",
    "telecom.drop(columns='Age_on_network',inplace=True)"
   ]
  },
  {
   "cell_type": "code",
   "execution_count": 183,
   "metadata": {
    "id": "HPeBhCq7hBHH"
   },
   "outputs": [
    {
     "data": {
      "text/html": [
       "<div>\n",
       "<style scoped>\n",
       "    .dataframe tbody tr th:only-of-type {\n",
       "        vertical-align: middle;\n",
       "    }\n",
       "\n",
       "    .dataframe tbody tr th {\n",
       "        vertical-align: top;\n",
       "    }\n",
       "\n",
       "    .dataframe thead th {\n",
       "        text-align: right;\n",
       "    }\n",
       "</style>\n",
       "<table border=\"1\" class=\"dataframe\">\n",
       "  <thead>\n",
       "    <tr style=\"text-align: right;\">\n",
       "      <th></th>\n",
       "      <th>arpu_6</th>\n",
       "      <th>arpu_7</th>\n",
       "      <th>arpu_8</th>\n",
       "    </tr>\n",
       "  </thead>\n",
       "  <tbody>\n",
       "    <tr>\n",
       "      <th>count</th>\n",
       "      <td>29953.000000</td>\n",
       "      <td>29953.000000</td>\n",
       "      <td>29953.000000</td>\n",
       "    </tr>\n",
       "    <tr>\n",
       "      <th>mean</th>\n",
       "      <td>558.820058</td>\n",
       "      <td>561.160547</td>\n",
       "      <td>508.890301</td>\n",
       "    </tr>\n",
       "    <tr>\n",
       "      <th>std</th>\n",
       "      <td>460.868223</td>\n",
       "      <td>480.028497</td>\n",
       "      <td>502.136278</td>\n",
       "    </tr>\n",
       "    <tr>\n",
       "      <th>min</th>\n",
       "      <td>-2258.709000</td>\n",
       "      <td>-2014.045000</td>\n",
       "      <td>-945.808000</td>\n",
       "    </tr>\n",
       "    <tr>\n",
       "      <th>25%</th>\n",
       "      <td>310.142000</td>\n",
       "      <td>310.071000</td>\n",
       "      <td>231.615000</td>\n",
       "    </tr>\n",
       "    <tr>\n",
       "      <th>50%</th>\n",
       "      <td>482.354000</td>\n",
       "      <td>481.496000</td>\n",
       "      <td>427.604000</td>\n",
       "    </tr>\n",
       "    <tr>\n",
       "      <th>75%</th>\n",
       "      <td>700.240000</td>\n",
       "      <td>698.829000</td>\n",
       "      <td>661.753000</td>\n",
       "    </tr>\n",
       "    <tr>\n",
       "      <th>max</th>\n",
       "      <td>27731.088000</td>\n",
       "      <td>35145.834000</td>\n",
       "      <td>33543.624000</td>\n",
       "    </tr>\n",
       "  </tbody>\n",
       "</table>\n",
       "</div>"
      ],
      "text/plain": [
       "             arpu_6        arpu_7        arpu_8\n",
       "count  29953.000000  29953.000000  29953.000000\n",
       "mean     558.820058    561.160547    508.890301\n",
       "std      460.868223    480.028497    502.136278\n",
       "min    -2258.709000  -2014.045000   -945.808000\n",
       "25%      310.142000    310.071000    231.615000\n",
       "50%      482.354000    481.496000    427.604000\n",
       "75%      700.240000    698.829000    661.753000\n",
       "max    27731.088000  35145.834000  33543.624000"
      ]
     },
     "execution_count": 183,
     "metadata": {},
     "output_type": "execute_result"
    }
   ],
   "source": [
    "telecom[['arpu_6','arpu_7','arpu_8']].describe()"
   ]
  },
  {
   "cell_type": "code",
   "execution_count": 184,
   "metadata": {
    "id": "F2vD_Gm9hDWn"
   },
   "outputs": [
    {
     "data": {
      "image/png": "[encoded data removed]",
      "text/plain": [
       "<Figure size 1440x1152 with 3 Axes>"
      ]
     },
     "metadata": {
      "needs_background": "light"
     },
     "output_type": "display_data"
    }
   ],
   "source": [
    "#let's see average revenue per customer for 6,7 and 8th phase\n",
    "box_plots('arpu')"
   ]
  },
  {
   "cell_type": "markdown",
   "metadata": {
    "id": "uaV391kihFr5"
   },
   "source": [
    "<b><font color='red'>[Observation]:</b> Average revenue per customer is less for 8th month as compare to 6 and 7th month"
   ]
  },
  {
   "cell_type": "code",
   "execution_count": 186,
   "metadata": {
    "id": "odSXpTR2hHxQ"
   },
   "outputs": [
    {
     "data": {
      "text/html": [
       "<div>\n",
       "<style scoped>\n",
       "    .dataframe tbody tr th:only-of-type {\n",
       "        vertical-align: middle;\n",
       "    }\n",
       "\n",
       "    .dataframe tbody tr th {\n",
       "        vertical-align: top;\n",
       "    }\n",
       "\n",
       "    .dataframe thead th {\n",
       "        text-align: right;\n",
       "    }\n",
       "</style>\n",
       "<table border=\"1\" class=\"dataframe\">\n",
       "  <thead>\n",
       "    <tr style=\"text-align: right;\">\n",
       "      <th></th>\n",
       "      <th>max_rech_amt_6</th>\n",
       "      <th>max_rech_amt_7</th>\n",
       "      <th>max_rech_amt_8</th>\n",
       "    </tr>\n",
       "  </thead>\n",
       "  <tbody>\n",
       "    <tr>\n",
       "      <th>count</th>\n",
       "      <td>29953.000000</td>\n",
       "      <td>29953.000000</td>\n",
       "      <td>29953.000000</td>\n",
       "    </tr>\n",
       "    <tr>\n",
       "      <th>mean</th>\n",
       "      <td>169.348145</td>\n",
       "      <td>172.281474</td>\n",
       "      <td>160.224351</td>\n",
       "    </tr>\n",
       "    <tr>\n",
       "      <th>std</th>\n",
       "      <td>175.421794</td>\n",
       "      <td>181.504312</td>\n",
       "      <td>173.298179</td>\n",
       "    </tr>\n",
       "    <tr>\n",
       "      <th>min</th>\n",
       "      <td>0.000000</td>\n",
       "      <td>0.000000</td>\n",
       "      <td>0.000000</td>\n",
       "    </tr>\n",
       "    <tr>\n",
       "      <th>25%</th>\n",
       "      <td>110.000000</td>\n",
       "      <td>110.000000</td>\n",
       "      <td>50.000000</td>\n",
       "    </tr>\n",
       "    <tr>\n",
       "      <th>50%</th>\n",
       "      <td>120.000000</td>\n",
       "      <td>128.000000</td>\n",
       "      <td>130.000000</td>\n",
       "    </tr>\n",
       "    <tr>\n",
       "      <th>75%</th>\n",
       "      <td>200.000000</td>\n",
       "      <td>200.000000</td>\n",
       "      <td>198.000000</td>\n",
       "    </tr>\n",
       "    <tr>\n",
       "      <th>max</th>\n",
       "      <td>4010.000000</td>\n",
       "      <td>4010.000000</td>\n",
       "      <td>4449.000000</td>\n",
       "    </tr>\n",
       "  </tbody>\n",
       "</table>\n",
       "</div>"
      ],
      "text/plain": [
       "       max_rech_amt_6  max_rech_amt_7  max_rech_amt_8\n",
       "count    29953.000000    29953.000000    29953.000000\n",
       "mean       169.348145      172.281474      160.224351\n",
       "std        175.421794      181.504312      173.298179\n",
       "min          0.000000        0.000000        0.000000\n",
       "25%        110.000000      110.000000       50.000000\n",
       "50%        120.000000      128.000000      130.000000\n",
       "75%        200.000000      200.000000      198.000000\n",
       "max       4010.000000     4010.000000     4449.000000"
      ]
     },
     "execution_count": 186,
     "metadata": {},
     "output_type": "execute_result"
    }
   ],
   "source": [
    "telecom[['max_rech_amt_6','max_rech_amt_7','max_rech_amt_8']].describe()"
   ]
  },
  {
   "cell_type": "markdown",
   "metadata": {
    "id": "SyKLOEsQhJ4d"
   },
   "source": [
    "<b><font color='red'>[Observation]:</b> Maximum recharge amount is not giving significant information "
   ]
  },
  {
   "cell_type": "markdown",
   "metadata": {
    "id": "z5bspw00FEzh"
   },
   "source": [
    "## Data preprocessing"
   ]
  },
  {
   "cell_type": "code",
   "execution_count": 188,
   "metadata": {
    "id": "3sN1EkZWFEzh",
    "scrolled": true
   },
   "outputs": [],
   "source": [
    "#let's do dummy encoding for categorical variable\n",
    "temp = pd.get_dummies(telecom.Age_range,drop_first=True)\n",
    "telecom.drop(columns='Age_range',axis=1,inplace=True)\n",
    "telecom = pd.concat([telecom,temp],axis=1)"
   ]
  },
  {
   "cell_type": "code",
   "execution_count": 189,
   "metadata": {
    "id": "uHrqh3DAFEzh"
   },
   "outputs": [],
   "source": [
    "#train test split\n",
    "from sklearn.model_selection import train_test_split,cross_val_score"
   ]
  },
  {
   "cell_type": "code",
   "execution_count": 190,
   "metadata": {
    "id": "RddTr_y-FEzh",
    "outputId": "b233518d-e8de-4f76-9b07-400e17c07a54"
   },
   "outputs": [
    {
     "data": {
      "text/html": [
       "<div>\n",
       "<style scoped>\n",
       "    .dataframe tbody tr th:only-of-type {\n",
       "        vertical-align: middle;\n",
       "    }\n",
       "\n",
       "    .dataframe tbody tr th {\n",
       "        vertical-align: top;\n",
       "    }\n",
       "\n",
       "    .dataframe thead th {\n",
       "        text-align: right;\n",
       "    }\n",
       "</style>\n",
       "<table border=\"1\" class=\"dataframe\">\n",
       "  <thead>\n",
       "    <tr style=\"text-align: right;\">\n",
       "      <th></th>\n",
       "      <th>arpu_6</th>\n",
       "      <th>arpu_7</th>\n",
       "      <th>arpu_8</th>\n",
       "      <th>onnet_mou_6</th>\n",
       "      <th>onnet_mou_7</th>\n",
       "      <th>onnet_mou_8</th>\n",
       "      <th>offnet_mou_6</th>\n",
       "      <th>offnet_mou_7</th>\n",
       "      <th>offnet_mou_8</th>\n",
       "      <th>roam_ic_mou_6</th>\n",
       "      <th>...</th>\n",
       "      <th>jun_vbc_3g</th>\n",
       "      <th>sep_vbc_3g</th>\n",
       "      <th>total_rech_amt_data_6</th>\n",
       "      <th>total_rech_amt_data_7</th>\n",
       "      <th>total_rech_amt_data_8</th>\n",
       "      <th>avg_rech_per_month_good_phase</th>\n",
       "      <th>6-12 Months</th>\n",
       "      <th>1-2 Yrs</th>\n",
       "      <th>2-5 Yrs</th>\n",
       "      <th>5 Yrs and above</th>\n",
       "    </tr>\n",
       "  </thead>\n",
       "  <tbody>\n",
       "    <tr>\n",
       "      <th>0</th>\n",
       "      <td>197.385</td>\n",
       "      <td>214.816</td>\n",
       "      <td>213.803</td>\n",
       "      <td>0.00</td>\n",
       "      <td>0.00</td>\n",
       "      <td>0.00</td>\n",
       "      <td>0.00</td>\n",
       "      <td>0.00</td>\n",
       "      <td>0.00</td>\n",
       "      <td>0.00</td>\n",
       "      <td>...</td>\n",
       "      <td>101.20</td>\n",
       "      <td>3.58</td>\n",
       "      <td>252.0</td>\n",
       "      <td>252.0</td>\n",
       "      <td>252.0</td>\n",
       "      <td>559.0</td>\n",
       "      <td>0</td>\n",
       "      <td>0</td>\n",
       "      <td>1</td>\n",
       "      <td>0</td>\n",
       "    </tr>\n",
       "    <tr>\n",
       "      <th>7</th>\n",
       "      <td>1069.180</td>\n",
       "      <td>1349.850</td>\n",
       "      <td>3171.480</td>\n",
       "      <td>57.84</td>\n",
       "      <td>54.68</td>\n",
       "      <td>52.29</td>\n",
       "      <td>453.43</td>\n",
       "      <td>567.16</td>\n",
       "      <td>325.91</td>\n",
       "      <td>16.23</td>\n",
       "      <td>...</td>\n",
       "      <td>18.74</td>\n",
       "      <td>0.00</td>\n",
       "      <td>0.0</td>\n",
       "      <td>0.0</td>\n",
       "      <td>0.0</td>\n",
       "      <td>1185.0</td>\n",
       "      <td>0</td>\n",
       "      <td>0</td>\n",
       "      <td>1</td>\n",
       "      <td>0</td>\n",
       "    </tr>\n",
       "    <tr>\n",
       "      <th>8</th>\n",
       "      <td>378.721</td>\n",
       "      <td>492.223</td>\n",
       "      <td>137.362</td>\n",
       "      <td>413.69</td>\n",
       "      <td>351.03</td>\n",
       "      <td>35.08</td>\n",
       "      <td>94.66</td>\n",
       "      <td>80.63</td>\n",
       "      <td>136.48</td>\n",
       "      <td>0.00</td>\n",
       "      <td>...</td>\n",
       "      <td>122.16</td>\n",
       "      <td>0.00</td>\n",
       "      <td>0.0</td>\n",
       "      <td>354.0</td>\n",
       "      <td>207.0</td>\n",
       "      <td>696.0</td>\n",
       "      <td>1</td>\n",
       "      <td>0</td>\n",
       "      <td>0</td>\n",
       "      <td>0</td>\n",
       "    </tr>\n",
       "    <tr>\n",
       "      <th>21</th>\n",
       "      <td>514.453</td>\n",
       "      <td>597.753</td>\n",
       "      <td>637.760</td>\n",
       "      <td>102.41</td>\n",
       "      <td>132.11</td>\n",
       "      <td>85.14</td>\n",
       "      <td>757.93</td>\n",
       "      <td>896.68</td>\n",
       "      <td>983.39</td>\n",
       "      <td>0.00</td>\n",
       "      <td>...</td>\n",
       "      <td>0.00</td>\n",
       "      <td>0.00</td>\n",
       "      <td>0.0</td>\n",
       "      <td>0.0</td>\n",
       "      <td>0.0</td>\n",
       "      <td>640.0</td>\n",
       "      <td>0</td>\n",
       "      <td>1</td>\n",
       "      <td>0</td>\n",
       "      <td>0</td>\n",
       "    </tr>\n",
       "    <tr>\n",
       "      <th>23</th>\n",
       "      <td>74.350</td>\n",
       "      <td>193.897</td>\n",
       "      <td>366.966</td>\n",
       "      <td>48.96</td>\n",
       "      <td>50.66</td>\n",
       "      <td>33.58</td>\n",
       "      <td>85.41</td>\n",
       "      <td>89.36</td>\n",
       "      <td>205.89</td>\n",
       "      <td>0.00</td>\n",
       "      <td>...</td>\n",
       "      <td>0.00</td>\n",
       "      <td>0.00</td>\n",
       "      <td>0.0</td>\n",
       "      <td>712.0</td>\n",
       "      <td>540.0</td>\n",
       "      <td>583.0</td>\n",
       "      <td>0</td>\n",
       "      <td>1</td>\n",
       "      <td>0</td>\n",
       "      <td>0</td>\n",
       "    </tr>\n",
       "  </tbody>\n",
       "</table>\n",
       "<p>5 rows × 138 columns</p>\n",
       "</div>"
      ],
      "text/plain": [
       "      arpu_6    arpu_7    arpu_8  onnet_mou_6  onnet_mou_7  onnet_mou_8  \\\n",
       "0    197.385   214.816   213.803         0.00         0.00         0.00   \n",
       "7   1069.180  1349.850  3171.480        57.84        54.68        52.29   \n",
       "8    378.721   492.223   137.362       413.69       351.03        35.08   \n",
       "21   514.453   597.753   637.760       102.41       132.11        85.14   \n",
       "23    74.350   193.897   366.966        48.96        50.66        33.58   \n",
       "\n",
       "    offnet_mou_6  offnet_mou_7  offnet_mou_8  roam_ic_mou_6  ...  jun_vbc_3g  \\\n",
       "0           0.00          0.00          0.00           0.00  ...      101.20   \n",
       "7         453.43        567.16        325.91          16.23  ...       18.74   \n",
       "8          94.66         80.63        136.48           0.00  ...      122.16   \n",
       "21        757.93        896.68        983.39           0.00  ...        0.00   \n",
       "23         85.41         89.36        205.89           0.00  ...        0.00   \n",
       "\n",
       "    sep_vbc_3g  total_rech_amt_data_6  total_rech_amt_data_7  \\\n",
       "0         3.58                  252.0                  252.0   \n",
       "7         0.00                    0.0                    0.0   \n",
       "8         0.00                    0.0                  354.0   \n",
       "21        0.00                    0.0                    0.0   \n",
       "23        0.00                    0.0                  712.0   \n",
       "\n",
       "    total_rech_amt_data_8  avg_rech_per_month_good_phase  6-12 Months  \\\n",
       "0                   252.0                          559.0            0   \n",
       "7                     0.0                         1185.0            0   \n",
       "8                   207.0                          696.0            1   \n",
       "21                    0.0                          640.0            0   \n",
       "23                  540.0                          583.0            0   \n",
       "\n",
       "    1-2 Yrs  2-5 Yrs  5 Yrs and above  \n",
       "0         0        1                0  \n",
       "7         0        1                0  \n",
       "8         0        0                0  \n",
       "21        1        0                0  \n",
       "23        1        0                0  \n",
       "\n",
       "[5 rows x 138 columns]"
      ]
     },
     "execution_count": 190,
     "metadata": {},
     "output_type": "execute_result"
    }
   ],
   "source": [
    "X = telecom.drop(['churn'],axis=1)\n",
    "X.head()"
   ]
  },
  {
   "cell_type": "code",
   "execution_count": 191,
   "metadata": {
    "id": "ftOGS5T-FEzh"
   },
   "outputs": [],
   "source": [
    "y = telecom['churn']"
   ]
  },
  {
   "cell_type": "code",
   "execution_count": 192,
   "metadata": {
    "id": "pj7_hnVUFEzh"
   },
   "outputs": [],
   "source": [
    "X_train, X_test, y_train, y_test = train_test_split(X, y , train_size = 0.7, random_state = 43)"
   ]
  },
  {
   "cell_type": "code",
   "execution_count": 193,
   "metadata": {
    "id": "T22Pw9R6FEzi"
   },
   "outputs": [],
   "source": [
    "from sklearn.preprocessing import StandardScaler"
   ]
  },
  {
   "cell_type": "code",
   "execution_count": 194,
   "metadata": {
    "id": "QVPtvBfoFEzi"
   },
   "outputs": [],
   "source": [
    "scalar = StandardScaler()\n"
   ]
  },
  {
   "cell_type": "code",
   "execution_count": 195,
   "metadata": {
    "id": "q1RZLVgvFEzi"
   },
   "outputs": [],
   "source": [
    "num_colms = ['arpu_6', 'arpu_7', 'arpu_8', 'onnet_mou_6', 'onnet_mou_7',\n",
    "       'onnet_mou_8', 'offnet_mou_6', 'offnet_mou_7', 'offnet_mou_8',\n",
    "       'roam_ic_mou_6', 'roam_ic_mou_7', 'roam_ic_mou_8', 'roam_og_mou_6',\n",
    "       'roam_og_mou_7', 'roam_og_mou_8', 'loc_og_t2t_mou_6',\n",
    "       'loc_og_t2t_mou_7', 'loc_og_t2t_mou_8', 'loc_og_t2m_mou_6',\n",
    "       'loc_og_t2m_mou_7', 'loc_og_t2m_mou_8', 'loc_og_t2f_mou_6',\n",
    "       'loc_og_t2f_mou_7', 'loc_og_t2f_mou_8', 'loc_og_t2c_mou_6',\n",
    "       'loc_og_t2c_mou_7', 'loc_og_t2c_mou_8', 'loc_og_mou_6',\n",
    "       'loc_og_mou_7', 'loc_og_mou_8', 'std_og_t2t_mou_6',\n",
    "       'std_og_t2t_mou_7', 'std_og_t2t_mou_8', 'std_og_t2m_mou_6',\n",
    "       'std_og_t2m_mou_7', 'std_og_t2m_mou_8', 'std_og_t2f_mou_6',\n",
    "       'std_og_t2f_mou_7', 'std_og_t2f_mou_8', 'std_og_mou_6',\n",
    "       'std_og_mou_7', 'std_og_mou_8', 'isd_og_mou_6', 'isd_og_mou_7',\n",
    "       'isd_og_mou_8', 'spl_og_mou_6', 'spl_og_mou_7', 'spl_og_mou_8',\n",
    "       'og_others_6', 'og_others_7', 'og_others_8', 'total_og_mou_6',\n",
    "       'total_og_mou_7', 'total_og_mou_8', 'loc_ic_t2t_mou_6',\n",
    "       'loc_ic_t2t_mou_7', 'loc_ic_t2t_mou_8', 'loc_ic_t2m_mou_6',\n",
    "       'loc_ic_t2m_mou_7', 'loc_ic_t2m_mou_8', 'loc_ic_t2f_mou_6',\n",
    "       'loc_ic_t2f_mou_7', 'loc_ic_t2f_mou_8', 'loc_ic_mou_6',\n",
    "       'loc_ic_mou_7', 'loc_ic_mou_8', 'std_ic_t2t_mou_6',\n",
    "       'std_ic_t2t_mou_7', 'std_ic_t2t_mou_8', 'std_ic_t2m_mou_6',\n",
    "       'std_ic_t2m_mou_7', 'std_ic_t2m_mou_8', 'std_ic_t2f_mou_6',\n",
    "       'std_ic_t2f_mou_7', 'std_ic_t2f_mou_8', 'std_ic_mou_6',\n",
    "       'std_ic_mou_7', 'std_ic_mou_8', 'total_ic_mou_6', 'total_ic_mou_7',\n",
    "       'total_ic_mou_8', 'spl_ic_mou_6', 'spl_ic_mou_7', 'spl_ic_mou_8',\n",
    "       'isd_ic_mou_6', 'isd_ic_mou_7', 'isd_ic_mou_8', 'ic_others_6',\n",
    "       'ic_others_7', 'ic_others_8', 'total_rech_num_6',\n",
    "       'total_rech_num_7', 'total_rech_num_8', 'total_rech_amt_6',\n",
    "       'total_rech_amt_7', 'total_rech_amt_8', 'max_rech_amt_6',\n",
    "       'max_rech_amt_7', 'max_rech_amt_8', 'last_day_rch_amt_6',\n",
    "       'last_day_rch_amt_7', 'last_day_rch_amt_8', 'total_rech_data_6',\n",
    "       'total_rech_data_7', 'total_rech_data_8', 'av_rech_amt_data_6',\n",
    "       'av_rech_amt_data_7', 'av_rech_amt_data_8', 'vol_2g_mb_6',\n",
    "       'vol_2g_mb_7', 'vol_2g_mb_8', 'vol_3g_mb_6', 'vol_3g_mb_7',\n",
    "       'vol_3g_mb_8', 'monthly_2g_6', 'monthly_2g_7', 'monthly_2g_8',\n",
    "       'sachet_2g_6', 'sachet_2g_7', 'sachet_2g_8', 'monthly_3g_6',\n",
    "       'monthly_3g_7', 'monthly_3g_8', 'sachet_3g_6', 'sachet_3g_7',\n",
    "       'sachet_3g_8', 'aug_vbc_3g', 'jul_vbc_3g', 'jun_vbc_3g',\n",
    "       'sep_vbc_3g', 'total_rech_amt_data_6', 'total_rech_amt_data_7',\n",
    "       'total_rech_amt_data_8', 'avg_rech_per_month_good_phase']\n",
    "#X_train[num_colms] = scalar.fit(X_train[num_colms]).transform(X_train[num_colms])\n",
    "X_scaler = StandardScaler().fit(X_train[num_colms])\n",
    "X_train[num_colms] = X_scaler.transform(X_train[num_colms])\n",
    "X_test[num_colms] = X_scaler.transform(X_test[num_colms])"
   ]
  },
  {
   "cell_type": "code",
   "execution_count": 196,
   "metadata": {
    "id": "5LjG7dmsFEzi",
    "outputId": "17db715d-45bf-4e8c-d438-23b76786ea96"
   },
   "outputs": [
    {
     "name": "stdout",
     "output_type": "stream",
     "text": [
      "Shape of train datatset after SMOTE : (38478, 138)\n"
     ]
    }
   ],
   "source": [
    "smote = SMOTE(sampling_strategy='auto', random_state=43)\n",
    "X_train_smote,y_train_smote = smote.fit_sample(X_train,y_train)\n",
    "print(\"Shape of train datatset after SMOTE : \"+str(X_train_smote.shape))\n",
    "\n",
    "X_train = pd.DataFrame(X_train_smote, columns=X_train.columns)\n",
    "y_train = pd.DataFrame(y_train_smote)\n"
   ]
  },
  {
   "cell_type": "code",
   "execution_count": 197,
   "metadata": {
    "id": "cxDRCF0lFEzi",
    "outputId": "28e49507-f4f5-4489-b9eb-4710dd2a23fb"
   },
   "outputs": [
    {
     "name": "stdout",
     "output_type": "stream",
     "text": [
      "Train churn rate -  churn    50.0\n",
      "dtype: float64\n",
      "Test churn rate -  7.85\n"
     ]
    }
   ],
   "source": [
    "#Let's see distribution of churn rate in train and test\n",
    "print(\"Train churn rate - \",round((y_train[y_train==1].sum()/len(y_train))*100,2))\n",
    "print(\"Test churn rate - \",round((y_test[y_test==1].sum()/len(y_test))*100,2))"
   ]
  },
  {
   "cell_type": "code",
   "execution_count": 198,
   "metadata": {
    "id": "QuAthNrwFEzi"
   },
   "outputs": [],
   "source": [
    "#so distribution is symmetrical"
   ]
  },
  {
   "cell_type": "code",
   "execution_count": 199,
   "metadata": {
    "id": "ahYDsM74FEzi",
    "outputId": "1087cce0-26bd-4e28-92f7-cc765c1e2456"
   },
   "outputs": [
    {
     "data": {
      "text/plain": [
       "<Figure size 1440x576 with 0 Axes>"
      ]
     },
     "execution_count": 199,
     "metadata": {},
     "output_type": "execute_result"
    },
    {
     "data": {
      "text/plain": [
       "<Figure size 1440x576 with 0 Axes>"
      ]
     },
     "metadata": {},
     "output_type": "display_data"
    }
   ],
   "source": [
    "plt.figure(figsize=(20,8))\n",
    "#sns.heatmap(X_train.corr())"
   ]
  },
  {
   "cell_type": "markdown",
   "metadata": {
    "id": "N3jqHrmAFEzi"
   },
   "source": [
    "<b><font color='red'>[Observation]:</b> We are not going to remove columns based on thier multicollinearity, we'll model decide which colmns are important using RFE or PCA."
   ]
  },
  {
   "cell_type": "markdown",
   "metadata": {
    "id": "iXAJuJ1mFEzi"
   },
   "source": [
    "## Modeling\n",
    "\n",
    "Before proceeding to modeling few points to note down.\n",
    "   <ul>\n",
    "    <li>This is the case of class imbalance which we have sorted out using SMOTE method.</li>\n",
    "    <li>We will be creating two type of models.</li>\n",
    "    <ul>\n",
    "        <li>Interpretable model - Will give us idea about which features are important for classification.</li>\n",
    "        <li>Deployable model - Will have high recall (as we've to increase our chances of predicting churn customer).\n",
    "    </ul>\n",
    "    <li>We will use RFE for interpretable model to identify important features and PCA to reduce dimentionality for deployable models.\n",
    "   <ul>"
   ]
  },
  {
   "cell_type": "markdown",
   "metadata": {
    "id": "2sFZ8chXFEzi"
   },
   "source": [
    "### 1) Plain Logistic regression\n",
    "Let's begain with plain logistic regression"
   ]
  },
  {
   "cell_type": "code",
   "execution_count": 200,
   "metadata": {
    "id": "XgDqGkL5FEzj"
   },
   "outputs": [],
   "source": [
    "import statsmodels.api as sm"
   ]
  },
  {
   "cell_type": "code",
   "execution_count": 201,
   "metadata": {
    "id": "4XgnT29dFEzj",
    "scrolled": false
   },
   "outputs": [],
   "source": [
    "#utility method for logistic regression\n",
    "def log_reg(df):\n",
    "    logml = sm.GLM(y_train,(sm.add_constant(df)),family=sm.families.Binomial())\n",
    "    return logml.fit()"
   ]
  },
  {
   "cell_type": "code",
   "execution_count": 202,
   "metadata": {
    "id": "QKZUhMPQFEzj",
    "outputId": "82a7847d-5289-4d10-f25c-a0b489907f0c"
   },
   "outputs": [
    {
     "data": {
      "text/html": [
       "<table class=\"simpletable\">\n",
       "<caption>Generalized Linear Model Regression Results</caption>\n",
       "<tr>\n",
       "  <th>Dep. Variable:</th>         <td>churn</td>      <th>  No. Observations:  </th>  <td> 38478</td> \n",
       "</tr>\n",
       "<tr>\n",
       "  <th>Model:</th>                  <td>GLM</td>       <th>  Df Residuals:      </th>  <td> 38343</td> \n",
       "</tr>\n",
       "<tr>\n",
       "  <th>Model Family:</th>        <td>Binomial</td>     <th>  Df Model:          </th>  <td>   134</td> \n",
       "</tr>\n",
       "<tr>\n",
       "  <th>Link Function:</th>         <td>logit</td>      <th>  Scale:             </th> <td>  1.0000</td>\n",
       "</tr>\n",
       "<tr>\n",
       "  <th>Method:</th>                <td>IRLS</td>       <th>  Log-Likelihood:    </th> <td>     nan</td>\n",
       "</tr>\n",
       "<tr>\n",
       "  <th>Date:</th>            <td>Mon, 23 Nov 2020</td> <th>  Deviance:          </th> <td>     nan</td>\n",
       "</tr>\n",
       "<tr>\n",
       "  <th>Time:</th>                <td>05:17:26</td>     <th>  Pearson chi2:      </th> <td>3.44e+19</td>\n",
       "</tr>\n",
       "<tr>\n",
       "  <th>No. Iterations:</th>         <td>100</td>       <th>                     </th>     <td> </td>   \n",
       "</tr>\n",
       "<tr>\n",
       "  <th>Covariance Type:</th>     <td>nonrobust</td>    <th>                     </th>     <td> </td>   \n",
       "</tr>\n",
       "</table>\n",
       "<table class=\"simpletable\">\n",
       "<tr>\n",
       "                <td></td>                   <th>coef</th>     <th>std err</th>      <th>z</th>      <th>P>|z|</th>  <th>[0.025</th>    <th>0.975]</th>  \n",
       "</tr>\n",
       "<tr>\n",
       "  <th>const</th>                         <td>-1.294e+14</td> <td> 6.08e+05</td> <td>-2.13e+08</td> <td> 0.000</td> <td>-1.29e+14</td> <td>-1.29e+14</td>\n",
       "</tr>\n",
       "<tr>\n",
       "  <th>arpu_6</th>                        <td>  3.58e+13</td> <td> 1.44e+06</td> <td> 2.49e+07</td> <td> 0.000</td> <td> 3.58e+13</td> <td> 3.58e+13</td>\n",
       "</tr>\n",
       "<tr>\n",
       "  <th>arpu_7</th>                        <td> 2.774e+13</td> <td> 1.72e+06</td> <td> 1.61e+07</td> <td> 0.000</td> <td> 2.77e+13</td> <td> 2.77e+13</td>\n",
       "</tr>\n",
       "<tr>\n",
       "  <th>arpu_8</th>                        <td> 2.163e+14</td> <td>  1.9e+06</td> <td> 1.14e+08</td> <td> 0.000</td> <td> 2.16e+14</td> <td> 2.16e+14</td>\n",
       "</tr>\n",
       "<tr>\n",
       "  <th>onnet_mou_6</th>                   <td> 6.033e+13</td> <td> 1.42e+07</td> <td> 4.25e+06</td> <td> 0.000</td> <td> 6.03e+13</td> <td> 6.03e+13</td>\n",
       "</tr>\n",
       "<tr>\n",
       "  <th>onnet_mou_7</th>                   <td>-8.759e+13</td> <td> 2.35e+07</td> <td>-3.73e+06</td> <td> 0.000</td> <td>-8.76e+13</td> <td>-8.76e+13</td>\n",
       "</tr>\n",
       "<tr>\n",
       "  <th>onnet_mou_8</th>                   <td>-1.897e+14</td> <td> 2.68e+07</td> <td>-7.08e+06</td> <td> 0.000</td> <td> -1.9e+14</td> <td> -1.9e+14</td>\n",
       "</tr>\n",
       "<tr>\n",
       "  <th>offnet_mou_6</th>                  <td> 5.658e+14</td> <td> 1.41e+07</td> <td> 4.01e+07</td> <td> 0.000</td> <td> 5.66e+14</td> <td> 5.66e+14</td>\n",
       "</tr>\n",
       "<tr>\n",
       "  <th>offnet_mou_7</th>                  <td> 4.869e+13</td> <td> 2.42e+07</td> <td> 2.01e+06</td> <td> 0.000</td> <td> 4.87e+13</td> <td> 4.87e+13</td>\n",
       "</tr>\n",
       "<tr>\n",
       "  <th>offnet_mou_8</th>                  <td>-9.975e+14</td> <td> 2.82e+07</td> <td>-3.54e+07</td> <td> 0.000</td> <td>-9.97e+14</td> <td>-9.97e+14</td>\n",
       "</tr>\n",
       "<tr>\n",
       "  <th>roam_ic_mou_6</th>                 <td> 1.196e+13</td> <td> 4.46e+05</td> <td> 2.68e+07</td> <td> 0.000</td> <td>  1.2e+13</td> <td>  1.2e+13</td>\n",
       "</tr>\n",
       "<tr>\n",
       "  <th>roam_ic_mou_7</th>                 <td> 3.116e+12</td> <td> 5.03e+05</td> <td>  6.2e+06</td> <td> 0.000</td> <td> 3.12e+12</td> <td> 3.12e+12</td>\n",
       "</tr>\n",
       "<tr>\n",
       "  <th>roam_ic_mou_8</th>                 <td>-1.924e+13</td> <td> 4.94e+05</td> <td> -3.9e+07</td> <td> 0.000</td> <td>-1.92e+13</td> <td>-1.92e+13</td>\n",
       "</tr>\n",
       "<tr>\n",
       "  <th>roam_og_mou_6</th>                 <td>-1.282e+14</td> <td> 3.29e+06</td> <td> -3.9e+07</td> <td> 0.000</td> <td>-1.28e+14</td> <td>-1.28e+14</td>\n",
       "</tr>\n",
       "<tr>\n",
       "  <th>roam_og_mou_7</th>                 <td>-2.955e+13</td> <td> 4.66e+06</td> <td>-6.34e+06</td> <td> 0.000</td> <td>-2.96e+13</td> <td>-2.96e+13</td>\n",
       "</tr>\n",
       "<tr>\n",
       "  <th>roam_og_mou_8</th>                 <td> 1.695e+14</td> <td>  6.2e+06</td> <td> 2.73e+07</td> <td> 0.000</td> <td>  1.7e+14</td> <td>  1.7e+14</td>\n",
       "</tr>\n",
       "<tr>\n",
       "  <th>loc_og_t2t_mou_6</th>              <td> 1.819e+18</td> <td> 1.59e+10</td> <td> 1.15e+08</td> <td> 0.000</td> <td> 1.82e+18</td> <td> 1.82e+18</td>\n",
       "</tr>\n",
       "<tr>\n",
       "  <th>loc_og_t2t_mou_7</th>              <td> 6.226e+17</td> <td> 1.61e+10</td> <td> 3.86e+07</td> <td> 0.000</td> <td> 6.23e+17</td> <td> 6.23e+17</td>\n",
       "</tr>\n",
       "<tr>\n",
       "  <th>loc_og_t2t_mou_8</th>              <td> 1.565e+18</td> <td> 1.62e+10</td> <td> 9.68e+07</td> <td> 0.000</td> <td> 1.57e+18</td> <td> 1.57e+18</td>\n",
       "</tr>\n",
       "<tr>\n",
       "  <th>loc_og_t2m_mou_6</th>              <td> 1.935e+18</td> <td> 1.69e+10</td> <td> 1.15e+08</td> <td> 0.000</td> <td> 1.94e+18</td> <td> 1.94e+18</td>\n",
       "</tr>\n",
       "<tr>\n",
       "  <th>loc_og_t2m_mou_7</th>              <td> 6.274e+17</td> <td> 1.63e+10</td> <td> 3.86e+07</td> <td> 0.000</td> <td> 6.27e+17</td> <td> 6.27e+17</td>\n",
       "</tr>\n",
       "<tr>\n",
       "  <th>loc_og_t2m_mou_8</th>              <td> 1.661e+18</td> <td> 1.72e+10</td> <td> 9.68e+07</td> <td> 0.000</td> <td> 1.66e+18</td> <td> 1.66e+18</td>\n",
       "</tr>\n",
       "<tr>\n",
       "  <th>loc_og_t2f_mou_6</th>              <td> 1.776e+17</td> <td> 1.55e+09</td> <td> 1.15e+08</td> <td> 0.000</td> <td> 1.78e+17</td> <td> 1.78e+17</td>\n",
       "</tr>\n",
       "<tr>\n",
       "  <th>loc_og_t2f_mou_7</th>              <td> 6.046e+16</td> <td> 1.57e+09</td> <td> 3.86e+07</td> <td> 0.000</td> <td> 6.05e+16</td> <td> 6.05e+16</td>\n",
       "</tr>\n",
       "<tr>\n",
       "  <th>loc_og_t2f_mou_8</th>              <td> 1.422e+17</td> <td> 1.47e+09</td> <td> 9.68e+07</td> <td> 0.000</td> <td> 1.42e+17</td> <td> 1.42e+17</td>\n",
       "</tr>\n",
       "<tr>\n",
       "  <th>loc_og_t2c_mou_6</th>              <td>-5.925e+13</td> <td> 4.95e+05</td> <td> -1.2e+08</td> <td> 0.000</td> <td>-5.93e+13</td> <td>-5.93e+13</td>\n",
       "</tr>\n",
       "<tr>\n",
       "  <th>loc_og_t2c_mou_7</th>              <td> 1.631e+13</td> <td> 5.94e+05</td> <td> 2.74e+07</td> <td> 0.000</td> <td> 1.63e+13</td> <td> 1.63e+13</td>\n",
       "</tr>\n",
       "<tr>\n",
       "  <th>loc_og_t2c_mou_8</th>              <td> 5.108e+13</td> <td> 6.02e+05</td> <td> 8.48e+07</td> <td> 0.000</td> <td> 5.11e+13</td> <td> 5.11e+13</td>\n",
       "</tr>\n",
       "<tr>\n",
       "  <th>loc_og_mou_6</th>                  <td>-2.315e+18</td> <td> 3.27e+10</td> <td>-7.09e+07</td> <td> 0.000</td> <td>-2.31e+18</td> <td>-2.31e+18</td>\n",
       "</tr>\n",
       "<tr>\n",
       "  <th>loc_og_mou_7</th>                  <td> 1.509e+17</td> <td> 3.33e+10</td> <td> 4.54e+06</td> <td> 0.000</td> <td> 1.51e+17</td> <td> 1.51e+17</td>\n",
       "</tr>\n",
       "<tr>\n",
       "  <th>loc_og_mou_8</th>                  <td>-4.537e+18</td> <td> 3.51e+10</td> <td>-1.29e+08</td> <td> 0.000</td> <td>-4.54e+18</td> <td>-4.54e+18</td>\n",
       "</tr>\n",
       "<tr>\n",
       "  <th>std_og_t2t_mou_6</th>              <td> 2.726e+18</td> <td> 3.41e+10</td> <td> 7.99e+07</td> <td> 0.000</td> <td> 2.73e+18</td> <td> 2.73e+18</td>\n",
       "</tr>\n",
       "<tr>\n",
       "  <th>std_og_t2t_mou_7</th>              <td> 2.987e+18</td> <td> 3.62e+10</td> <td> 8.24e+07</td> <td> 0.000</td> <td> 2.99e+18</td> <td> 2.99e+18</td>\n",
       "</tr>\n",
       "<tr>\n",
       "  <th>std_og_t2t_mou_8</th>              <td>-4.357e+18</td> <td> 3.82e+10</td> <td>-1.14e+08</td> <td> 0.000</td> <td>-4.36e+18</td> <td>-4.36e+18</td>\n",
       "</tr>\n",
       "<tr>\n",
       "  <th>std_og_t2m_mou_6</th>              <td>  2.83e+18</td> <td> 3.54e+10</td> <td> 7.98e+07</td> <td> 0.000</td> <td> 2.83e+18</td> <td> 2.83e+18</td>\n",
       "</tr>\n",
       "<tr>\n",
       "  <th>std_og_t2m_mou_7</th>              <td> 3.222e+18</td> <td> 3.91e+10</td> <td> 8.24e+07</td> <td> 0.000</td> <td> 3.22e+18</td> <td> 3.22e+18</td>\n",
       "</tr>\n",
       "<tr>\n",
       "  <th>std_og_t2m_mou_8</th>              <td>-4.563e+18</td> <td>    4e+10</td> <td>-1.14e+08</td> <td> 0.000</td> <td>-4.56e+18</td> <td>-4.56e+18</td>\n",
       "</tr>\n",
       "<tr>\n",
       "  <th>std_og_t2f_mou_6</th>              <td> 7.908e+16</td> <td> 9.91e+08</td> <td> 7.98e+07</td> <td> 0.000</td> <td> 7.91e+16</td> <td> 7.91e+16</td>\n",
       "</tr>\n",
       "<tr>\n",
       "  <th>std_og_t2f_mou_7</th>              <td> 9.047e+16</td> <td>  1.1e+09</td> <td> 8.24e+07</td> <td> 0.000</td> <td> 9.05e+16</td> <td> 9.05e+16</td>\n",
       "</tr>\n",
       "<tr>\n",
       "  <th>std_og_t2f_mou_8</th>              <td>-1.233e+17</td> <td> 1.08e+09</td> <td>-1.14e+08</td> <td> 0.000</td> <td>-1.23e+17</td> <td>-1.23e+17</td>\n",
       "</tr>\n",
       "<tr>\n",
       "  <th>std_og_mou_6</th>                  <td>-3.133e+18</td> <td> 6.16e+10</td> <td>-5.09e+07</td> <td> 0.000</td> <td>-3.13e+18</td> <td>-3.13e+18</td>\n",
       "</tr>\n",
       "<tr>\n",
       "  <th>std_og_mou_7</th>                  <td>-2.717e+18</td> <td> 6.81e+10</td> <td>-3.99e+07</td> <td> 0.000</td> <td>-2.72e+18</td> <td>-2.72e+18</td>\n",
       "</tr>\n",
       "<tr>\n",
       "  <th>std_og_mou_8</th>                  <td> 3.344e+18</td> <td> 7.12e+10</td> <td>  4.7e+07</td> <td> 0.000</td> <td> 3.34e+18</td> <td> 3.34e+18</td>\n",
       "</tr>\n",
       "<tr>\n",
       "  <th>isd_og_mou_6</th>                  <td> 9.074e+16</td> <td> 3.13e+09</td> <td>  2.9e+07</td> <td> 0.000</td> <td> 9.07e+16</td> <td> 9.07e+16</td>\n",
       "</tr>\n",
       "<tr>\n",
       "  <th>isd_og_mou_7</th>                  <td> 1.576e+17</td> <td> 3.43e+09</td> <td>  4.6e+07</td> <td> 0.000</td> <td> 1.58e+17</td> <td> 1.58e+17</td>\n",
       "</tr>\n",
       "<tr>\n",
       "  <th>isd_og_mou_8</th>                  <td>-2.899e+17</td> <td>  3.6e+09</td> <td>-8.05e+07</td> <td> 0.000</td> <td> -2.9e+17</td> <td> -2.9e+17</td>\n",
       "</tr>\n",
       "<tr>\n",
       "  <th>spl_og_mou_6</th>                  <td> 3.007e+16</td> <td> 1.04e+09</td> <td>  2.9e+07</td> <td> 0.000</td> <td> 3.01e+16</td> <td> 3.01e+16</td>\n",
       "</tr>\n",
       "<tr>\n",
       "  <th>spl_og_mou_7</th>                  <td> 6.552e+16</td> <td> 1.43e+09</td> <td> 4.59e+07</td> <td> 0.000</td> <td> 6.55e+16</td> <td> 6.55e+16</td>\n",
       "</tr>\n",
       "<tr>\n",
       "  <th>spl_og_mou_8</th>                  <td>-1.079e+17</td> <td> 1.34e+09</td> <td>-8.05e+07</td> <td> 0.000</td> <td>-1.08e+17</td> <td>-1.08e+17</td>\n",
       "</tr>\n",
       "<tr>\n",
       "  <th>og_others_6</th>                   <td> 3.581e+15</td> <td> 1.24e+08</td> <td>  2.9e+07</td> <td> 0.000</td> <td> 3.58e+15</td> <td> 3.58e+15</td>\n",
       "</tr>\n",
       "<tr>\n",
       "  <th>og_others_7</th>                   <td> 8.366e+15</td> <td> 1.82e+08</td> <td>  4.6e+07</td> <td> 0.000</td> <td> 8.37e+15</td> <td> 8.37e+15</td>\n",
       "</tr>\n",
       "<tr>\n",
       "  <th>og_others_8</th>                   <td>-2.183e+16</td> <td> 2.71e+08</td> <td>-8.05e+07</td> <td> 0.000</td> <td>-2.18e+16</td> <td>-2.18e+16</td>\n",
       "</tr>\n",
       "<tr>\n",
       "  <th>total_og_mou_6</th>                <td>-1.179e+18</td> <td> 4.06e+10</td> <td> -2.9e+07</td> <td> 0.000</td> <td>-1.18e+18</td> <td>-1.18e+18</td>\n",
       "</tr>\n",
       "<tr>\n",
       "  <th>total_og_mou_7</th>                <td>-2.165e+18</td> <td> 4.72e+10</td> <td>-4.59e+07</td> <td> 0.000</td> <td>-2.16e+18</td> <td>-2.16e+18</td>\n",
       "</tr>\n",
       "<tr>\n",
       "  <th>total_og_mou_8</th>                <td> 3.875e+18</td> <td> 4.82e+10</td> <td> 8.05e+07</td> <td> 0.000</td> <td> 3.87e+18</td> <td> 3.87e+18</td>\n",
       "</tr>\n",
       "<tr>\n",
       "  <th>loc_ic_t2t_mou_6</th>              <td> 1.018e+18</td> <td> 1.01e+10</td> <td> 1.01e+08</td> <td> 0.000</td> <td> 1.02e+18</td> <td> 1.02e+18</td>\n",
       "</tr>\n",
       "<tr>\n",
       "  <th>loc_ic_t2t_mou_7</th>              <td> 3.995e+18</td> <td> 1.07e+10</td> <td> 3.73e+08</td> <td> 0.000</td> <td> 3.99e+18</td> <td> 3.99e+18</td>\n",
       "</tr>\n",
       "<tr>\n",
       "  <th>loc_ic_t2t_mou_8</th>              <td> 1.955e+18</td> <td>  1.1e+10</td> <td> 1.79e+08</td> <td> 0.000</td> <td> 1.96e+18</td> <td> 1.96e+18</td>\n",
       "</tr>\n",
       "<tr>\n",
       "  <th>loc_ic_t2m_mou_6</th>              <td> 1.426e+18</td> <td> 1.41e+10</td> <td> 1.01e+08</td> <td> 0.000</td> <td> 1.43e+18</td> <td> 1.43e+18</td>\n",
       "</tr>\n",
       "<tr>\n",
       "  <th>loc_ic_t2m_mou_7</th>              <td> 5.266e+18</td> <td> 1.41e+10</td> <td> 3.73e+08</td> <td> 0.000</td> <td> 5.27e+18</td> <td> 5.27e+18</td>\n",
       "</tr>\n",
       "<tr>\n",
       "  <th>loc_ic_t2m_mou_8</th>              <td> 2.633e+18</td> <td> 1.47e+10</td> <td> 1.79e+08</td> <td> 0.000</td> <td> 2.63e+18</td> <td> 2.63e+18</td>\n",
       "</tr>\n",
       "<tr>\n",
       "  <th>loc_ic_t2f_mou_6</th>              <td> 3.042e+17</td> <td> 3.01e+09</td> <td> 1.01e+08</td> <td> 0.000</td> <td> 3.04e+17</td> <td> 3.04e+17</td>\n",
       "</tr>\n",
       "<tr>\n",
       "  <th>loc_ic_t2f_mou_7</th>              <td> 1.166e+18</td> <td> 3.12e+09</td> <td> 3.73e+08</td> <td> 0.000</td> <td> 1.17e+18</td> <td> 1.17e+18</td>\n",
       "</tr>\n",
       "<tr>\n",
       "  <th>loc_ic_t2f_mou_8</th>              <td> 5.266e+17</td> <td> 2.95e+09</td> <td> 1.79e+08</td> <td> 0.000</td> <td> 5.27e+17</td> <td> 5.27e+17</td>\n",
       "</tr>\n",
       "<tr>\n",
       "  <th>loc_ic_mou_6</th>                  <td> 2.287e+17</td> <td> 2.65e+10</td> <td> 8.64e+06</td> <td> 0.000</td> <td> 2.29e+17</td> <td> 2.29e+17</td>\n",
       "</tr>\n",
       "<tr>\n",
       "  <th>loc_ic_mou_7</th>                  <td>-7.313e+18</td> <td> 2.71e+10</td> <td> -2.7e+08</td> <td> 0.000</td> <td>-7.31e+18</td> <td>-7.31e+18</td>\n",
       "</tr>\n",
       "<tr>\n",
       "  <th>loc_ic_mou_8</th>                  <td>-1.999e+18</td> <td> 2.94e+10</td> <td>-6.79e+07</td> <td> 0.000</td> <td>   -2e+18</td> <td>   -2e+18</td>\n",
       "</tr>\n",
       "<tr>\n",
       "  <th>std_ic_t2t_mou_6</th>              <td>-5.244e+17</td> <td> 6.28e+09</td> <td>-8.35e+07</td> <td> 0.000</td> <td>-5.24e+17</td> <td>-5.24e+17</td>\n",
       "</tr>\n",
       "<tr>\n",
       "  <th>std_ic_t2t_mou_7</th>              <td>-5.048e+17</td> <td>  7.3e+09</td> <td>-6.91e+07</td> <td> 0.000</td> <td>-5.05e+17</td> <td>-5.05e+17</td>\n",
       "</tr>\n",
       "<tr>\n",
       "  <th>std_ic_t2t_mou_8</th>              <td>-8.709e+16</td> <td> 7.04e+09</td> <td>-1.24e+07</td> <td> 0.000</td> <td>-8.71e+16</td> <td>-8.71e+16</td>\n",
       "</tr>\n",
       "<tr>\n",
       "  <th>std_ic_t2m_mou_6</th>              <td>-6.628e+17</td> <td> 7.93e+09</td> <td>-8.35e+07</td> <td> 0.000</td> <td>-6.63e+17</td> <td>-6.63e+17</td>\n",
       "</tr>\n",
       "<tr>\n",
       "  <th>std_ic_t2m_mou_7</th>              <td>-6.219e+17</td> <td>    9e+09</td> <td>-6.91e+07</td> <td> 0.000</td> <td>-6.22e+17</td> <td>-6.22e+17</td>\n",
       "</tr>\n",
       "<tr>\n",
       "  <th>std_ic_t2m_mou_8</th>              <td> -1.24e+17</td> <td>    1e+10</td> <td>-1.23e+07</td> <td> 0.000</td> <td>-1.24e+17</td> <td>-1.24e+17</td>\n",
       "</tr>\n",
       "<tr>\n",
       "  <th>std_ic_t2f_mou_6</th>              <td>-1.332e+17</td> <td> 1.59e+09</td> <td>-8.35e+07</td> <td> 0.000</td> <td>-1.33e+17</td> <td>-1.33e+17</td>\n",
       "</tr>\n",
       "<tr>\n",
       "  <th>std_ic_t2f_mou_7</th>              <td>-1.136e+17</td> <td> 1.64e+09</td> <td>-6.91e+07</td> <td> 0.000</td> <td>-1.14e+17</td> <td>-1.14e+17</td>\n",
       "</tr>\n",
       "<tr>\n",
       "  <th>std_ic_t2f_mou_8</th>              <td>-2.425e+16</td> <td> 1.96e+09</td> <td>-1.23e+07</td> <td> 0.000</td> <td>-2.43e+16</td> <td>-2.43e+16</td>\n",
       "</tr>\n",
       "<tr>\n",
       "  <th>std_ic_mou_6</th>                  <td> 1.926e+18</td> <td> 1.34e+10</td> <td> 1.44e+08</td> <td> 0.000</td> <td> 1.93e+18</td> <td> 1.93e+18</td>\n",
       "</tr>\n",
       "<tr>\n",
       "  <th>std_ic_mou_7</th>                  <td> 1.021e+18</td> <td> 1.58e+10</td> <td> 6.47e+07</td> <td> 0.000</td> <td> 1.02e+18</td> <td> 1.02e+18</td>\n",
       "</tr>\n",
       "<tr>\n",
       "  <th>std_ic_mou_8</th>                  <td> 9.994e+17</td> <td> 1.65e+10</td> <td> 6.07e+07</td> <td> 0.000</td> <td> 9.99e+17</td> <td> 9.99e+17</td>\n",
       "</tr>\n",
       "<tr>\n",
       "  <th>total_ic_mou_6</th>                <td>-2.638e+18</td> <td> 2.23e+10</td> <td>-1.18e+08</td> <td> 0.000</td> <td>-2.64e+18</td> <td>-2.64e+18</td>\n",
       "</tr>\n",
       "<tr>\n",
       "  <th>total_ic_mou_7</th>                <td>  -3.3e+17</td> <td> 2.45e+10</td> <td>-1.35e+07</td> <td> 0.000</td> <td> -3.3e+17</td> <td> -3.3e+17</td>\n",
       "</tr>\n",
       "<tr>\n",
       "  <th>total_ic_mou_8</th>                <td>-2.094e+18</td> <td> 2.52e+10</td> <td>-8.31e+07</td> <td> 0.000</td> <td>-2.09e+18</td> <td>-2.09e+18</td>\n",
       "</tr>\n",
       "<tr>\n",
       "  <th>spl_ic_mou_6</th>                  <td> 1.145e+15</td> <td> 9.46e+06</td> <td> 1.21e+08</td> <td> 0.000</td> <td> 1.15e+15</td> <td> 1.15e+15</td>\n",
       "</tr>\n",
       "<tr>\n",
       "  <th>spl_ic_mou_7</th>                  <td> 3.298e+13</td> <td> 6.69e+06</td> <td> 4.93e+06</td> <td> 0.000</td> <td>  3.3e+13</td> <td>  3.3e+13</td>\n",
       "</tr>\n",
       "<tr>\n",
       "  <th>spl_ic_mou_8</th>                  <td> 5.009e+14</td> <td> 7.94e+06</td> <td> 6.31e+07</td> <td> 0.000</td> <td> 5.01e+14</td> <td> 5.01e+14</td>\n",
       "</tr>\n",
       "<tr>\n",
       "  <th>isd_ic_mou_6</th>                  <td> 6.001e+17</td> <td> 5.07e+09</td> <td> 1.18e+08</td> <td> 0.000</td> <td>    6e+17</td> <td>    6e+17</td>\n",
       "</tr>\n",
       "<tr>\n",
       "  <th>isd_ic_mou_7</th>                  <td> 7.417e+16</td> <td> 5.51e+09</td> <td> 1.35e+07</td> <td> 0.000</td> <td> 7.42e+16</td> <td> 7.42e+16</td>\n",
       "</tr>\n",
       "<tr>\n",
       "  <th>isd_ic_mou_8</th>                  <td> 4.163e+17</td> <td> 5.01e+09</td> <td> 8.31e+07</td> <td> 0.000</td> <td> 4.16e+17</td> <td> 4.16e+17</td>\n",
       "</tr>\n",
       "<tr>\n",
       "  <th>ic_others_6</th>                   <td>   8.8e+16</td> <td> 7.44e+08</td> <td> 1.18e+08</td> <td> 0.000</td> <td>  8.8e+16</td> <td>  8.8e+16</td>\n",
       "</tr>\n",
       "<tr>\n",
       "  <th>ic_others_7</th>                   <td> 1.234e+16</td> <td> 9.17e+08</td> <td> 1.35e+07</td> <td> 0.000</td> <td> 1.23e+16</td> <td> 1.23e+16</td>\n",
       "</tr>\n",
       "<tr>\n",
       "  <th>ic_others_8</th>                   <td> 5.992e+16</td> <td> 7.21e+08</td> <td> 8.31e+07</td> <td> 0.000</td> <td> 5.99e+16</td> <td> 5.99e+16</td>\n",
       "</tr>\n",
       "<tr>\n",
       "  <th>total_rech_num_6</th>              <td>-3.487e+13</td> <td> 6.21e+05</td> <td>-5.61e+07</td> <td> 0.000</td> <td>-3.49e+13</td> <td>-3.49e+13</td>\n",
       "</tr>\n",
       "<tr>\n",
       "  <th>total_rech_num_7</th>              <td> 4.751e+13</td> <td> 8.16e+05</td> <td> 5.82e+07</td> <td> 0.000</td> <td> 4.75e+13</td> <td> 4.75e+13</td>\n",
       "</tr>\n",
       "<tr>\n",
       "  <th>total_rech_num_8</th>              <td>-9.984e+13</td> <td> 8.03e+05</td> <td>-1.24e+08</td> <td> 0.000</td> <td>-9.98e+13</td> <td>-9.98e+13</td>\n",
       "</tr>\n",
       "<tr>\n",
       "  <th>total_rech_amt_6</th>              <td> 6.783e+13</td> <td> 1.54e+06</td> <td>  4.4e+07</td> <td> 0.000</td> <td> 6.78e+13</td> <td> 6.78e+13</td>\n",
       "</tr>\n",
       "<tr>\n",
       "  <th>total_rech_amt_7</th>              <td>-6.032e+13</td> <td> 1.73e+06</td> <td>-3.49e+07</td> <td> 0.000</td> <td>-6.03e+13</td> <td>-6.03e+13</td>\n",
       "</tr>\n",
       "<tr>\n",
       "  <th>total_rech_amt_8</th>              <td>-1.332e+14</td> <td> 1.96e+06</td> <td> -6.8e+07</td> <td> 0.000</td> <td>-1.33e+14</td> <td>-1.33e+14</td>\n",
       "</tr>\n",
       "<tr>\n",
       "  <th>max_rech_amt_6</th>                <td>-3.325e+13</td> <td>  7.1e+05</td> <td>-4.68e+07</td> <td> 0.000</td> <td>-3.32e+13</td> <td>-3.32e+13</td>\n",
       "</tr>\n",
       "<tr>\n",
       "  <th>max_rech_amt_7</th>                <td> 7.544e+12</td> <td>  6.3e+05</td> <td>  1.2e+07</td> <td> 0.000</td> <td> 7.54e+12</td> <td> 7.54e+12</td>\n",
       "</tr>\n",
       "<tr>\n",
       "  <th>max_rech_amt_8</th>                <td> 1.861e+14</td> <td> 7.32e+05</td> <td> 2.54e+08</td> <td> 0.000</td> <td> 1.86e+14</td> <td> 1.86e+14</td>\n",
       "</tr>\n",
       "<tr>\n",
       "  <th>last_day_rch_amt_6</th>            <td>-3.477e+13</td> <td> 5.45e+05</td> <td>-6.38e+07</td> <td> 0.000</td> <td>-3.48e+13</td> <td>-3.48e+13</td>\n",
       "</tr>\n",
       "<tr>\n",
       "  <th>last_day_rch_amt_7</th>            <td>-5.005e+12</td> <td> 5.09e+05</td> <td>-9.84e+06</td> <td> 0.000</td> <td>   -5e+12</td> <td>   -5e+12</td>\n",
       "</tr>\n",
       "<tr>\n",
       "  <th>last_day_rch_amt_8</th>            <td>-2.669e+14</td> <td> 5.74e+05</td> <td>-4.65e+08</td> <td> 0.000</td> <td>-2.67e+14</td> <td>-2.67e+14</td>\n",
       "</tr>\n",
       "<tr>\n",
       "  <th>total_rech_data_6</th>             <td> 2.629e+13</td> <td>  3.8e+05</td> <td> 6.93e+07</td> <td> 0.000</td> <td> 2.63e+13</td> <td> 2.63e+13</td>\n",
       "</tr>\n",
       "<tr>\n",
       "  <th>total_rech_data_7</th>             <td> 3.045e+13</td> <td>  4.8e+05</td> <td> 6.35e+07</td> <td> 0.000</td> <td> 3.04e+13</td> <td> 3.04e+13</td>\n",
       "</tr>\n",
       "<tr>\n",
       "  <th>total_rech_data_8</th>             <td>-1.838e+14</td> <td> 4.74e+05</td> <td>-3.87e+08</td> <td> 0.000</td> <td>-1.84e+14</td> <td>-1.84e+14</td>\n",
       "</tr>\n",
       "<tr>\n",
       "  <th>av_rech_amt_data_6</th>            <td> 4.811e+13</td> <td>  1.1e+06</td> <td> 4.36e+07</td> <td> 0.000</td> <td> 4.81e+13</td> <td> 4.81e+13</td>\n",
       "</tr>\n",
       "<tr>\n",
       "  <th>av_rech_amt_data_7</th>            <td> -1.58e+13</td> <td> 1.11e+06</td> <td>-1.42e+07</td> <td> 0.000</td> <td>-1.58e+13</td> <td>-1.58e+13</td>\n",
       "</tr>\n",
       "<tr>\n",
       "  <th>av_rech_amt_data_8</th>            <td>-2.454e+14</td> <td> 1.22e+06</td> <td>-2.01e+08</td> <td> 0.000</td> <td>-2.45e+14</td> <td>-2.45e+14</td>\n",
       "</tr>\n",
       "<tr>\n",
       "  <th>vol_2g_mb_6</th>                   <td> 3.805e+11</td> <td> 5.33e+05</td> <td> 7.14e+05</td> <td> 0.000</td> <td>  3.8e+11</td> <td>  3.8e+11</td>\n",
       "</tr>\n",
       "<tr>\n",
       "  <th>vol_2g_mb_7</th>                   <td> 7.406e+13</td> <td> 5.81e+05</td> <td> 1.27e+08</td> <td> 0.000</td> <td> 7.41e+13</td> <td> 7.41e+13</td>\n",
       "</tr>\n",
       "<tr>\n",
       "  <th>vol_2g_mb_8</th>                   <td>-1.693e+14</td> <td>  6.3e+05</td> <td>-2.69e+08</td> <td> 0.000</td> <td>-1.69e+14</td> <td>-1.69e+14</td>\n",
       "</tr>\n",
       "<tr>\n",
       "  <th>vol_3g_mb_6</th>                   <td>-2.925e+13</td> <td>  8.7e+05</td> <td>-3.36e+07</td> <td> 0.000</td> <td>-2.92e+13</td> <td>-2.92e+13</td>\n",
       "</tr>\n",
       "<tr>\n",
       "  <th>vol_3g_mb_7</th>                   <td> 5.716e+13</td> <td> 9.99e+05</td> <td> 5.72e+07</td> <td> 0.000</td> <td> 5.72e+13</td> <td> 5.72e+13</td>\n",
       "</tr>\n",
       "<tr>\n",
       "  <th>vol_3g_mb_8</th>                   <td> 3.661e+12</td> <td> 1.04e+06</td> <td> 3.53e+06</td> <td> 0.000</td> <td> 3.66e+12</td> <td> 3.66e+12</td>\n",
       "</tr>\n",
       "<tr>\n",
       "  <th>monthly_2g_6</th>                  <td>-4.128e+13</td> <td>  5.6e+05</td> <td>-7.38e+07</td> <td> 0.000</td> <td>-4.13e+13</td> <td>-4.13e+13</td>\n",
       "</tr>\n",
       "<tr>\n",
       "  <th>monthly_2g_7</th>                  <td>-9.597e+13</td> <td> 6.17e+05</td> <td>-1.55e+08</td> <td> 0.000</td> <td> -9.6e+13</td> <td> -9.6e+13</td>\n",
       "</tr>\n",
       "<tr>\n",
       "  <th>monthly_2g_8</th>                  <td> -9.93e+13</td> <td> 6.39e+05</td> <td>-1.55e+08</td> <td> 0.000</td> <td>-9.93e+13</td> <td>-9.93e+13</td>\n",
       "</tr>\n",
       "<tr>\n",
       "  <th>sachet_2g_6</th>                   <td> 3.081e+13</td> <td> 3.66e+05</td> <td> 8.42e+07</td> <td> 0.000</td> <td> 3.08e+13</td> <td> 3.08e+13</td>\n",
       "</tr>\n",
       "<tr>\n",
       "  <th>sachet_2g_7</th>                   <td> 2.951e+13</td> <td> 4.64e+05</td> <td> 6.36e+07</td> <td> 0.000</td> <td> 2.95e+13</td> <td> 2.95e+13</td>\n",
       "</tr>\n",
       "<tr>\n",
       "  <th>sachet_2g_8</th>                   <td>-1.661e+14</td> <td> 4.74e+05</td> <td>-3.51e+08</td> <td> 0.000</td> <td>-1.66e+14</td> <td>-1.66e+14</td>\n",
       "</tr>\n",
       "<tr>\n",
       "  <th>monthly_3g_6</th>                  <td>-1.241e+12</td> <td> 7.82e+05</td> <td>-1.59e+06</td> <td> 0.000</td> <td>-1.24e+12</td> <td>-1.24e+12</td>\n",
       "</tr>\n",
       "<tr>\n",
       "  <th>monthly_3g_7</th>                  <td> 3.772e+13</td> <td> 8.73e+05</td> <td> 4.32e+07</td> <td> 0.000</td> <td> 3.77e+13</td> <td> 3.77e+13</td>\n",
       "</tr>\n",
       "<tr>\n",
       "  <th>monthly_3g_8</th>                  <td>-9.671e+13</td> <td> 9.37e+05</td> <td>-1.03e+08</td> <td> 0.000</td> <td>-9.67e+13</td> <td>-9.67e+13</td>\n",
       "</tr>\n",
       "<tr>\n",
       "  <th>sachet_3g_6</th>                   <td> 1.621e+13</td> <td> 4.98e+05</td> <td> 3.25e+07</td> <td> 0.000</td> <td> 1.62e+13</td> <td> 1.62e+13</td>\n",
       "</tr>\n",
       "<tr>\n",
       "  <th>sachet_3g_7</th>                   <td> 2.928e+13</td> <td> 6.28e+05</td> <td> 4.66e+07</td> <td> 0.000</td> <td> 2.93e+13</td> <td> 2.93e+13</td>\n",
       "</tr>\n",
       "<tr>\n",
       "  <th>sachet_3g_8</th>                   <td>-2.435e+13</td> <td> 6.37e+05</td> <td>-3.82e+07</td> <td> 0.000</td> <td>-2.44e+13</td> <td>-2.44e+13</td>\n",
       "</tr>\n",
       "<tr>\n",
       "  <th>aug_vbc_3g</th>                    <td>-7.139e+13</td> <td> 7.42e+05</td> <td>-9.62e+07</td> <td> 0.000</td> <td>-7.14e+13</td> <td>-7.14e+13</td>\n",
       "</tr>\n",
       "<tr>\n",
       "  <th>jul_vbc_3g</th>                    <td>-1.893e+13</td> <td> 7.72e+05</td> <td>-2.45e+07</td> <td> 0.000</td> <td>-1.89e+13</td> <td>-1.89e+13</td>\n",
       "</tr>\n",
       "<tr>\n",
       "  <th>jun_vbc_3g</th>                    <td> 2.745e+13</td> <td> 6.51e+05</td> <td> 4.22e+07</td> <td> 0.000</td> <td> 2.74e+13</td> <td> 2.74e+13</td>\n",
       "</tr>\n",
       "<tr>\n",
       "  <th>sep_vbc_3g</th>                    <td>-8.208e+14</td> <td>  4.8e+05</td> <td>-1.71e+09</td> <td> 0.000</td> <td>-8.21e+14</td> <td>-8.21e+14</td>\n",
       "</tr>\n",
       "<tr>\n",
       "  <th>total_rech_amt_data_6</th>         <td>-6.591e+13</td> <td>  7.2e+05</td> <td>-9.15e+07</td> <td> 0.000</td> <td>-6.59e+13</td> <td>-6.59e+13</td>\n",
       "</tr>\n",
       "<tr>\n",
       "  <th>total_rech_amt_data_7</th>         <td> 1.834e+12</td> <td> 8.05e+05</td> <td> 2.28e+06</td> <td> 0.000</td> <td> 1.83e+12</td> <td> 1.83e+12</td>\n",
       "</tr>\n",
       "<tr>\n",
       "  <th>total_rech_amt_data_8</th>         <td> 1.868e+14</td> <td> 8.47e+05</td> <td> 2.21e+08</td> <td> 0.000</td> <td> 1.87e+14</td> <td> 1.87e+14</td>\n",
       "</tr>\n",
       "<tr>\n",
       "  <th>avg_rech_per_month_good_phase</th> <td>-3.361e+13</td> <td> 4.41e+05</td> <td>-7.63e+07</td> <td> 0.000</td> <td>-3.36e+13</td> <td>-3.36e+13</td>\n",
       "</tr>\n",
       "<tr>\n",
       "  <th>6-12 Months</th>                   <td>-9.331e+13</td> <td>  1.1e+06</td> <td> -8.5e+07</td> <td> 0.000</td> <td>-9.33e+13</td> <td>-9.33e+13</td>\n",
       "</tr>\n",
       "<tr>\n",
       "  <th>1-2 Yrs</th>                       <td>-2.653e+14</td> <td> 9.38e+05</td> <td>-2.83e+08</td> <td> 0.000</td> <td>-2.65e+14</td> <td>-2.65e+14</td>\n",
       "</tr>\n",
       "<tr>\n",
       "  <th>2-5 Yrs</th>                       <td>-5.667e+14</td> <td> 9.18e+05</td> <td>-6.17e+08</td> <td> 0.000</td> <td>-5.67e+14</td> <td>-5.67e+14</td>\n",
       "</tr>\n",
       "<tr>\n",
       "  <th>5 Yrs and above</th>               <td>-1.042e+15</td> <td> 6.89e+06</td> <td>-1.51e+08</td> <td> 0.000</td> <td>-1.04e+15</td> <td>-1.04e+15</td>\n",
       "</tr>\n",
       "</table>"
      ],
      "text/plain": [
       "<class 'statsmodels.iolib.summary.Summary'>\n",
       "\"\"\"\n",
       "                 Generalized Linear Model Regression Results                  \n",
       "==============================================================================\n",
       "Dep. Variable:                  churn   No. Observations:                38478\n",
       "Model:                            GLM   Df Residuals:                    38343\n",
       "Model Family:                Binomial   Df Model:                          134\n",
       "Link Function:                  logit   Scale:                          1.0000\n",
       "Method:                          IRLS   Log-Likelihood:                    nan\n",
       "Date:                Mon, 23 Nov 2020   Deviance:                          nan\n",
       "Time:                        05:17:26   Pearson chi2:                 3.44e+19\n",
       "No. Iterations:                   100                                         \n",
       "Covariance Type:            nonrobust                                         \n",
       "=================================================================================================\n",
       "                                    coef    std err          z      P>|z|      [0.025      0.975]\n",
       "-------------------------------------------------------------------------------------------------\n",
       "const                         -1.294e+14   6.08e+05  -2.13e+08      0.000   -1.29e+14   -1.29e+14\n",
       "arpu_6                          3.58e+13   1.44e+06   2.49e+07      0.000    3.58e+13    3.58e+13\n",
       "arpu_7                         2.774e+13   1.72e+06   1.61e+07      0.000    2.77e+13    2.77e+13\n",
       "arpu_8                         2.163e+14    1.9e+06   1.14e+08      0.000    2.16e+14    2.16e+14\n",
       "onnet_mou_6                    6.033e+13   1.42e+07   4.25e+06      0.000    6.03e+13    6.03e+13\n",
       "onnet_mou_7                   -8.759e+13   2.35e+07  -3.73e+06      0.000   -8.76e+13   -8.76e+13\n",
       "onnet_mou_8                   -1.897e+14   2.68e+07  -7.08e+06      0.000    -1.9e+14    -1.9e+14\n",
       "offnet_mou_6                   5.658e+14   1.41e+07   4.01e+07      0.000    5.66e+14    5.66e+14\n",
       "offnet_mou_7                   4.869e+13   2.42e+07   2.01e+06      0.000    4.87e+13    4.87e+13\n",
       "offnet_mou_8                  -9.975e+14   2.82e+07  -3.54e+07      0.000   -9.97e+14   -9.97e+14\n",
       "roam_ic_mou_6                  1.196e+13   4.46e+05   2.68e+07      0.000     1.2e+13     1.2e+13\n",
       "roam_ic_mou_7                  3.116e+12   5.03e+05    6.2e+06      0.000    3.12e+12    3.12e+12\n",
       "roam_ic_mou_8                 -1.924e+13   4.94e+05   -3.9e+07      0.000   -1.92e+13   -1.92e+13\n",
       "roam_og_mou_6                 -1.282e+14   3.29e+06   -3.9e+07      0.000   -1.28e+14   -1.28e+14\n",
       "roam_og_mou_7                 -2.955e+13   4.66e+06  -6.34e+06      0.000   -2.96e+13   -2.96e+13\n",
       "roam_og_mou_8                  1.695e+14    6.2e+06   2.73e+07      0.000     1.7e+14     1.7e+14\n",
       "loc_og_t2t_mou_6               1.819e+18   1.59e+10   1.15e+08      0.000    1.82e+18    1.82e+18\n",
       "loc_og_t2t_mou_7               6.226e+17   1.61e+10   3.86e+07      0.000    6.23e+17    6.23e+17\n",
       "loc_og_t2t_mou_8               1.565e+18   1.62e+10   9.68e+07      0.000    1.57e+18    1.57e+18\n",
       "loc_og_t2m_mou_6               1.935e+18   1.69e+10   1.15e+08      0.000    1.94e+18    1.94e+18\n",
       "loc_og_t2m_mou_7               6.274e+17   1.63e+10   3.86e+07      0.000    6.27e+17    6.27e+17\n",
       "loc_og_t2m_mou_8               1.661e+18   1.72e+10   9.68e+07      0.000    1.66e+18    1.66e+18\n",
       "loc_og_t2f_mou_6               1.776e+17   1.55e+09   1.15e+08      0.000    1.78e+17    1.78e+17\n",
       "loc_og_t2f_mou_7               6.046e+16   1.57e+09   3.86e+07      0.000    6.05e+16    6.05e+16\n",
       "loc_og_t2f_mou_8               1.422e+17   1.47e+09   9.68e+07      0.000    1.42e+17    1.42e+17\n",
       "loc_og_t2c_mou_6              -5.925e+13   4.95e+05   -1.2e+08      0.000   -5.93e+13   -5.93e+13\n",
       "loc_og_t2c_mou_7               1.631e+13   5.94e+05   2.74e+07      0.000    1.63e+13    1.63e+13\n",
       "loc_og_t2c_mou_8               5.108e+13   6.02e+05   8.48e+07      0.000    5.11e+13    5.11e+13\n",
       "loc_og_mou_6                  -2.315e+18   3.27e+10  -7.09e+07      0.000   -2.31e+18   -2.31e+18\n",
       "loc_og_mou_7                   1.509e+17   3.33e+10   4.54e+06      0.000    1.51e+17    1.51e+17\n",
       "loc_og_mou_8                  -4.537e+18   3.51e+10  -1.29e+08      0.000   -4.54e+18   -4.54e+18\n",
       "std_og_t2t_mou_6               2.726e+18   3.41e+10   7.99e+07      0.000    2.73e+18    2.73e+18\n",
       "std_og_t2t_mou_7               2.987e+18   3.62e+10   8.24e+07      0.000    2.99e+18    2.99e+18\n",
       "std_og_t2t_mou_8              -4.357e+18   3.82e+10  -1.14e+08      0.000   -4.36e+18   -4.36e+18\n",
       "std_og_t2m_mou_6                2.83e+18   3.54e+10   7.98e+07      0.000    2.83e+18    2.83e+18\n",
       "std_og_t2m_mou_7               3.222e+18   3.91e+10   8.24e+07      0.000    3.22e+18    3.22e+18\n",
       "std_og_t2m_mou_8              -4.563e+18      4e+10  -1.14e+08      0.000   -4.56e+18   -4.56e+18\n",
       "std_og_t2f_mou_6               7.908e+16   9.91e+08   7.98e+07      0.000    7.91e+16    7.91e+16\n",
       "std_og_t2f_mou_7               9.047e+16    1.1e+09   8.24e+07      0.000    9.05e+16    9.05e+16\n",
       "std_og_t2f_mou_8              -1.233e+17   1.08e+09  -1.14e+08      0.000   -1.23e+17   -1.23e+17\n",
       "std_og_mou_6                  -3.133e+18   6.16e+10  -5.09e+07      0.000   -3.13e+18   -3.13e+18\n",
       "std_og_mou_7                  -2.717e+18   6.81e+10  -3.99e+07      0.000   -2.72e+18   -2.72e+18\n",
       "std_og_mou_8                   3.344e+18   7.12e+10    4.7e+07      0.000    3.34e+18    3.34e+18\n",
       "isd_og_mou_6                   9.074e+16   3.13e+09    2.9e+07      0.000    9.07e+16    9.07e+16\n",
       "isd_og_mou_7                   1.576e+17   3.43e+09    4.6e+07      0.000    1.58e+17    1.58e+17\n",
       "isd_og_mou_8                  -2.899e+17    3.6e+09  -8.05e+07      0.000    -2.9e+17    -2.9e+17\n",
       "spl_og_mou_6                   3.007e+16   1.04e+09    2.9e+07      0.000    3.01e+16    3.01e+16\n",
       "spl_og_mou_7                   6.552e+16   1.43e+09   4.59e+07      0.000    6.55e+16    6.55e+16\n",
       "spl_og_mou_8                  -1.079e+17   1.34e+09  -8.05e+07      0.000   -1.08e+17   -1.08e+17\n",
       "og_others_6                    3.581e+15   1.24e+08    2.9e+07      0.000    3.58e+15    3.58e+15\n",
       "og_others_7                    8.366e+15   1.82e+08    4.6e+07      0.000    8.37e+15    8.37e+15\n",
       "og_others_8                   -2.183e+16   2.71e+08  -8.05e+07      0.000   -2.18e+16   -2.18e+16\n",
       "total_og_mou_6                -1.179e+18   4.06e+10   -2.9e+07      0.000   -1.18e+18   -1.18e+18\n",
       "total_og_mou_7                -2.165e+18   4.72e+10  -4.59e+07      0.000   -2.16e+18   -2.16e+18\n",
       "total_og_mou_8                 3.875e+18   4.82e+10   8.05e+07      0.000    3.87e+18    3.87e+18\n",
       "loc_ic_t2t_mou_6               1.018e+18   1.01e+10   1.01e+08      0.000    1.02e+18    1.02e+18\n",
       "loc_ic_t2t_mou_7               3.995e+18   1.07e+10   3.73e+08      0.000    3.99e+18    3.99e+18\n",
       "loc_ic_t2t_mou_8               1.955e+18    1.1e+10   1.79e+08      0.000    1.96e+18    1.96e+18\n",
       "loc_ic_t2m_mou_6               1.426e+18   1.41e+10   1.01e+08      0.000    1.43e+18    1.43e+18\n",
       "loc_ic_t2m_mou_7               5.266e+18   1.41e+10   3.73e+08      0.000    5.27e+18    5.27e+18\n",
       "loc_ic_t2m_mou_8               2.633e+18   1.47e+10   1.79e+08      0.000    2.63e+18    2.63e+18\n",
       "loc_ic_t2f_mou_6               3.042e+17   3.01e+09   1.01e+08      0.000    3.04e+17    3.04e+17\n",
       "loc_ic_t2f_mou_7               1.166e+18   3.12e+09   3.73e+08      0.000    1.17e+18    1.17e+18\n",
       "loc_ic_t2f_mou_8               5.266e+17   2.95e+09   1.79e+08      0.000    5.27e+17    5.27e+17\n",
       "loc_ic_mou_6                   2.287e+17   2.65e+10   8.64e+06      0.000    2.29e+17    2.29e+17\n",
       "loc_ic_mou_7                  -7.313e+18   2.71e+10   -2.7e+08      0.000   -7.31e+18   -7.31e+18\n",
       "loc_ic_mou_8                  -1.999e+18   2.94e+10  -6.79e+07      0.000      -2e+18      -2e+18\n",
       "std_ic_t2t_mou_6              -5.244e+17   6.28e+09  -8.35e+07      0.000   -5.24e+17   -5.24e+17\n",
       "std_ic_t2t_mou_7              -5.048e+17    7.3e+09  -6.91e+07      0.000   -5.05e+17   -5.05e+17\n",
       "std_ic_t2t_mou_8              -8.709e+16   7.04e+09  -1.24e+07      0.000   -8.71e+16   -8.71e+16\n",
       "std_ic_t2m_mou_6              -6.628e+17   7.93e+09  -8.35e+07      0.000   -6.63e+17   -6.63e+17\n",
       "std_ic_t2m_mou_7              -6.219e+17      9e+09  -6.91e+07      0.000   -6.22e+17   -6.22e+17\n",
       "std_ic_t2m_mou_8               -1.24e+17      1e+10  -1.23e+07      0.000   -1.24e+17   -1.24e+17\n",
       "std_ic_t2f_mou_6              -1.332e+17   1.59e+09  -8.35e+07      0.000   -1.33e+17   -1.33e+17\n",
       "std_ic_t2f_mou_7              -1.136e+17   1.64e+09  -6.91e+07      0.000   -1.14e+17   -1.14e+17\n",
       "std_ic_t2f_mou_8              -2.425e+16   1.96e+09  -1.23e+07      0.000   -2.43e+16   -2.43e+16\n",
       "std_ic_mou_6                   1.926e+18   1.34e+10   1.44e+08      0.000    1.93e+18    1.93e+18\n",
       "std_ic_mou_7                   1.021e+18   1.58e+10   6.47e+07      0.000    1.02e+18    1.02e+18\n",
       "std_ic_mou_8                   9.994e+17   1.65e+10   6.07e+07      0.000    9.99e+17    9.99e+17\n",
       "total_ic_mou_6                -2.638e+18   2.23e+10  -1.18e+08      0.000   -2.64e+18   -2.64e+18\n",
       "total_ic_mou_7                  -3.3e+17   2.45e+10  -1.35e+07      0.000    -3.3e+17    -3.3e+17\n",
       "total_ic_mou_8                -2.094e+18   2.52e+10  -8.31e+07      0.000   -2.09e+18   -2.09e+18\n",
       "spl_ic_mou_6                   1.145e+15   9.46e+06   1.21e+08      0.000    1.15e+15    1.15e+15\n",
       "spl_ic_mou_7                   3.298e+13   6.69e+06   4.93e+06      0.000     3.3e+13     3.3e+13\n",
       "spl_ic_mou_8                   5.009e+14   7.94e+06   6.31e+07      0.000    5.01e+14    5.01e+14\n",
       "isd_ic_mou_6                   6.001e+17   5.07e+09   1.18e+08      0.000       6e+17       6e+17\n",
       "isd_ic_mou_7                   7.417e+16   5.51e+09   1.35e+07      0.000    7.42e+16    7.42e+16\n",
       "isd_ic_mou_8                   4.163e+17   5.01e+09   8.31e+07      0.000    4.16e+17    4.16e+17\n",
       "ic_others_6                      8.8e+16   7.44e+08   1.18e+08      0.000     8.8e+16     8.8e+16\n",
       "ic_others_7                    1.234e+16   9.17e+08   1.35e+07      0.000    1.23e+16    1.23e+16\n",
       "ic_others_8                    5.992e+16   7.21e+08   8.31e+07      0.000    5.99e+16    5.99e+16\n",
       "total_rech_num_6              -3.487e+13   6.21e+05  -5.61e+07      0.000   -3.49e+13   -3.49e+13\n",
       "total_rech_num_7               4.751e+13   8.16e+05   5.82e+07      0.000    4.75e+13    4.75e+13\n",
       "total_rech_num_8              -9.984e+13   8.03e+05  -1.24e+08      0.000   -9.98e+13   -9.98e+13\n",
       "total_rech_amt_6               6.783e+13   1.54e+06    4.4e+07      0.000    6.78e+13    6.78e+13\n",
       "total_rech_amt_7              -6.032e+13   1.73e+06  -3.49e+07      0.000   -6.03e+13   -6.03e+13\n",
       "total_rech_amt_8              -1.332e+14   1.96e+06   -6.8e+07      0.000   -1.33e+14   -1.33e+14\n",
       "max_rech_amt_6                -3.325e+13    7.1e+05  -4.68e+07      0.000   -3.32e+13   -3.32e+13\n",
       "max_rech_amt_7                 7.544e+12    6.3e+05    1.2e+07      0.000    7.54e+12    7.54e+12\n",
       "max_rech_amt_8                 1.861e+14   7.32e+05   2.54e+08      0.000    1.86e+14    1.86e+14\n",
       "last_day_rch_amt_6            -3.477e+13   5.45e+05  -6.38e+07      0.000   -3.48e+13   -3.48e+13\n",
       "last_day_rch_amt_7            -5.005e+12   5.09e+05  -9.84e+06      0.000      -5e+12      -5e+12\n",
       "last_day_rch_amt_8            -2.669e+14   5.74e+05  -4.65e+08      0.000   -2.67e+14   -2.67e+14\n",
       "total_rech_data_6              2.629e+13    3.8e+05   6.93e+07      0.000    2.63e+13    2.63e+13\n",
       "total_rech_data_7              3.045e+13    4.8e+05   6.35e+07      0.000    3.04e+13    3.04e+13\n",
       "total_rech_data_8             -1.838e+14   4.74e+05  -3.87e+08      0.000   -1.84e+14   -1.84e+14\n",
       "av_rech_amt_data_6             4.811e+13    1.1e+06   4.36e+07      0.000    4.81e+13    4.81e+13\n",
       "av_rech_amt_data_7             -1.58e+13   1.11e+06  -1.42e+07      0.000   -1.58e+13   -1.58e+13\n",
       "av_rech_amt_data_8            -2.454e+14   1.22e+06  -2.01e+08      0.000   -2.45e+14   -2.45e+14\n",
       "vol_2g_mb_6                    3.805e+11   5.33e+05   7.14e+05      0.000     3.8e+11     3.8e+11\n",
       "vol_2g_mb_7                    7.406e+13   5.81e+05   1.27e+08      0.000    7.41e+13    7.41e+13\n",
       "vol_2g_mb_8                   -1.693e+14    6.3e+05  -2.69e+08      0.000   -1.69e+14   -1.69e+14\n",
       "vol_3g_mb_6                   -2.925e+13    8.7e+05  -3.36e+07      0.000   -2.92e+13   -2.92e+13\n",
       "vol_3g_mb_7                    5.716e+13   9.99e+05   5.72e+07      0.000    5.72e+13    5.72e+13\n",
       "vol_3g_mb_8                    3.661e+12   1.04e+06   3.53e+06      0.000    3.66e+12    3.66e+12\n",
       "monthly_2g_6                  -4.128e+13    5.6e+05  -7.38e+07      0.000   -4.13e+13   -4.13e+13\n",
       "monthly_2g_7                  -9.597e+13   6.17e+05  -1.55e+08      0.000    -9.6e+13    -9.6e+13\n",
       "monthly_2g_8                   -9.93e+13   6.39e+05  -1.55e+08      0.000   -9.93e+13   -9.93e+13\n",
       "sachet_2g_6                    3.081e+13   3.66e+05   8.42e+07      0.000    3.08e+13    3.08e+13\n",
       "sachet_2g_7                    2.951e+13   4.64e+05   6.36e+07      0.000    2.95e+13    2.95e+13\n",
       "sachet_2g_8                   -1.661e+14   4.74e+05  -3.51e+08      0.000   -1.66e+14   -1.66e+14\n",
       "monthly_3g_6                  -1.241e+12   7.82e+05  -1.59e+06      0.000   -1.24e+12   -1.24e+12\n",
       "monthly_3g_7                   3.772e+13   8.73e+05   4.32e+07      0.000    3.77e+13    3.77e+13\n",
       "monthly_3g_8                  -9.671e+13   9.37e+05  -1.03e+08      0.000   -9.67e+13   -9.67e+13\n",
       "sachet_3g_6                    1.621e+13   4.98e+05   3.25e+07      0.000    1.62e+13    1.62e+13\n",
       "sachet_3g_7                    2.928e+13   6.28e+05   4.66e+07      0.000    2.93e+13    2.93e+13\n",
       "sachet_3g_8                   -2.435e+13   6.37e+05  -3.82e+07      0.000   -2.44e+13   -2.44e+13\n",
       "aug_vbc_3g                    -7.139e+13   7.42e+05  -9.62e+07      0.000   -7.14e+13   -7.14e+13\n",
       "jul_vbc_3g                    -1.893e+13   7.72e+05  -2.45e+07      0.000   -1.89e+13   -1.89e+13\n",
       "jun_vbc_3g                     2.745e+13   6.51e+05   4.22e+07      0.000    2.74e+13    2.74e+13\n",
       "sep_vbc_3g                    -8.208e+14    4.8e+05  -1.71e+09      0.000   -8.21e+14   -8.21e+14\n",
       "total_rech_amt_data_6         -6.591e+13    7.2e+05  -9.15e+07      0.000   -6.59e+13   -6.59e+13\n",
       "total_rech_amt_data_7          1.834e+12   8.05e+05   2.28e+06      0.000    1.83e+12    1.83e+12\n",
       "total_rech_amt_data_8          1.868e+14   8.47e+05   2.21e+08      0.000    1.87e+14    1.87e+14\n",
       "avg_rech_per_month_good_phase -3.361e+13   4.41e+05  -7.63e+07      0.000   -3.36e+13   -3.36e+13\n",
       "6-12 Months                   -9.331e+13    1.1e+06   -8.5e+07      0.000   -9.33e+13   -9.33e+13\n",
       "1-2 Yrs                       -2.653e+14   9.38e+05  -2.83e+08      0.000   -2.65e+14   -2.65e+14\n",
       "2-5 Yrs                       -5.667e+14   9.18e+05  -6.17e+08      0.000   -5.67e+14   -5.67e+14\n",
       "5 Yrs and above               -1.042e+15   6.89e+06  -1.51e+08      0.000   -1.04e+15   -1.04e+15\n",
       "=================================================================================================\n",
       "\"\"\""
      ]
     },
     "execution_count": 202,
     "metadata": {},
     "output_type": "execute_result"
    }
   ],
   "source": [
    "op = log_reg(X_train)\n",
    "op.summary()"
   ]
  },
  {
   "cell_type": "markdown",
   "metadata": {
    "id": "_BLl66_qFEzj"
   },
   "source": [
    "<b><font color='red'>[Observation]:</b> We can see that there are too many features which are insignificant but we won't go and dump them manually rather use RFE to find the importnat features."
   ]
  },
  {
   "cell_type": "markdown",
   "metadata": {
    "id": "7Kjw30xMFEzj"
   },
   "source": [
    "### 2) Logistic regression using RFE - Interpretable model\n",
    "We will use 20 important features then will decide which one to select base on p value and VIF."
   ]
  },
  {
   "cell_type": "code",
   "execution_count": 203,
   "metadata": {
    "id": "IGqLLGQ-FEzj"
   },
   "outputs": [],
   "source": [
    "logreg = LogisticRegression()\n",
    "\n",
    "\n",
    "rfe = RFE(logreg, 20)            \n",
    "rfe = rfe.fit(X_train, y_train)"
   ]
  },
  {
   "cell_type": "code",
   "execution_count": 204,
   "metadata": {
    "id": "4VBnbOxlFEzj",
    "outputId": "9ad64d07-ee68-44c6-c360-5c606a0a155b"
   },
   "outputs": [
    {
     "data": {
      "text/plain": [
       "[('arpu_6', False, 27),\n",
       " ('arpu_7', False, 2),\n",
       " ('arpu_8', False, 44),\n",
       " ('onnet_mou_6', False, 9),\n",
       " ('onnet_mou_7', True, 1),\n",
       " ('onnet_mou_8', True, 1),\n",
       " ('offnet_mou_6', False, 12),\n",
       " ('offnet_mou_7', False, 80),\n",
       " ('offnet_mou_8', False, 5),\n",
       " ('roam_ic_mou_6', False, 69),\n",
       " ('roam_ic_mou_7', False, 90),\n",
       " ('roam_ic_mou_8', False, 70),\n",
       " ('roam_og_mou_6', False, 68),\n",
       " ('roam_og_mou_7', False, 43),\n",
       " ('roam_og_mou_8', False, 67),\n",
       " ('loc_og_t2t_mou_6', False, 11),\n",
       " ('loc_og_t2t_mou_7', False, 57),\n",
       " ('loc_og_t2t_mou_8', True, 1),\n",
       " ('loc_og_t2m_mou_6', False, 13),\n",
       " ('loc_og_t2m_mou_7', False, 56),\n",
       " ('loc_og_t2m_mou_8', False, 103),\n",
       " ('loc_og_t2f_mou_6', False, 45),\n",
       " ('loc_og_t2f_mou_7', False, 50),\n",
       " ('loc_og_t2f_mou_8', False, 115),\n",
       " ('loc_og_t2c_mou_6', False, 40),\n",
       " ('loc_og_t2c_mou_7', False, 91),\n",
       " ('loc_og_t2c_mou_8', False, 41),\n",
       " ('loc_og_mou_6', False, 99),\n",
       " ('loc_og_mou_7', False, 42),\n",
       " ('loc_og_mou_8', False, 29),\n",
       " ('std_og_t2t_mou_6', False, 10),\n",
       " ('std_og_t2t_mou_7', True, 1),\n",
       " ('std_og_t2t_mou_8', False, 28),\n",
       " ('std_og_t2m_mou_6', False, 14),\n",
       " ('std_og_t2m_mou_7', False, 79),\n",
       " ('std_og_t2m_mou_8', True, 1),\n",
       " ('std_og_t2f_mou_6', False, 105),\n",
       " ('std_og_t2f_mou_7', False, 113),\n",
       " ('std_og_t2f_mou_8', False, 21),\n",
       " ('std_og_mou_6', False, 102),\n",
       " ('std_og_mou_7', False, 104),\n",
       " ('std_og_mou_8', False, 108),\n",
       " ('isd_og_mou_6', False, 26),\n",
       " ('isd_og_mou_7', False, 25),\n",
       " ('isd_og_mou_8', False, 31),\n",
       " ('spl_og_mou_6', False, 89),\n",
       " ('spl_og_mou_7', False, 119),\n",
       " ('spl_og_mou_8', False, 30),\n",
       " ('og_others_6', False, 62),\n",
       " ('og_others_7', False, 46),\n",
       " ('og_others_8', False, 94),\n",
       " ('total_og_mou_6', False, 114),\n",
       " ('total_og_mou_7', False, 16),\n",
       " ('total_og_mou_8', True, 1),\n",
       " ('loc_ic_t2t_mou_6', False, 65),\n",
       " ('loc_ic_t2t_mou_7', False, 101),\n",
       " ('loc_ic_t2t_mou_8', False, 118),\n",
       " ('loc_ic_t2m_mou_6', False, 6),\n",
       " ('loc_ic_t2m_mou_7', True, 1),\n",
       " ('loc_ic_t2m_mou_8', True, 1),\n",
       " ('loc_ic_t2f_mou_6', False, 64),\n",
       " ('loc_ic_t2f_mou_7', False, 35),\n",
       " ('loc_ic_t2f_mou_8', True, 1),\n",
       " ('loc_ic_mou_6', False, 93),\n",
       " ('loc_ic_mou_7', False, 82),\n",
       " ('loc_ic_mou_8', True, 1),\n",
       " ('std_ic_t2t_mou_6', False, 23),\n",
       " ('std_ic_t2t_mou_7', False, 81),\n",
       " ('std_ic_t2t_mou_8', False, 22),\n",
       " ('std_ic_t2m_mou_6', False, 117),\n",
       " ('std_ic_t2m_mou_7', False, 38),\n",
       " ('std_ic_t2m_mou_8', False, 36),\n",
       " ('std_ic_t2f_mou_6', False, 63),\n",
       " ('std_ic_t2f_mou_7', False, 75),\n",
       " ('std_ic_t2f_mou_8', False, 76),\n",
       " ('std_ic_mou_6', False, 110),\n",
       " ('std_ic_mou_7', False, 112),\n",
       " ('std_ic_mou_8', False, 98),\n",
       " ('total_ic_mou_6', False, 58),\n",
       " ('total_ic_mou_7', False, 37),\n",
       " ('total_ic_mou_8', True, 1),\n",
       " ('spl_ic_mou_6', False, 78),\n",
       " ('spl_ic_mou_7', False, 71),\n",
       " ('spl_ic_mou_8', False, 7),\n",
       " ('isd_ic_mou_6', False, 111),\n",
       " ('isd_ic_mou_7', False, 83),\n",
       " ('isd_ic_mou_8', False, 84),\n",
       " ('ic_others_6', False, 51),\n",
       " ('ic_others_7', False, 59),\n",
       " ('ic_others_8', False, 60),\n",
       " ('total_rech_num_6', False, 116),\n",
       " ('total_rech_num_7', False, 33),\n",
       " ('total_rech_num_8', False, 3),\n",
       " ('total_rech_amt_6', False, 96),\n",
       " ('total_rech_amt_7', False, 32),\n",
       " ('total_rech_amt_8', False, 72),\n",
       " ('max_rech_amt_6', False, 97),\n",
       " ('max_rech_amt_7', False, 34),\n",
       " ('max_rech_amt_8', False, 73),\n",
       " ('last_day_rch_amt_6', False, 106),\n",
       " ('last_day_rch_amt_7', False, 77),\n",
       " ('last_day_rch_amt_8', True, 1),\n",
       " ('total_rech_data_6', False, 19),\n",
       " ('total_rech_data_7', False, 47),\n",
       " ('total_rech_data_8', False, 18),\n",
       " ('av_rech_amt_data_6', False, 109),\n",
       " ('av_rech_amt_data_7', False, 49),\n",
       " ('av_rech_amt_data_8', True, 1),\n",
       " ('vol_2g_mb_6', False, 92),\n",
       " ('vol_2g_mb_7', False, 24),\n",
       " ('vol_2g_mb_8', False, 4),\n",
       " ('vol_3g_mb_6', False, 53),\n",
       " ('vol_3g_mb_7', False, 48),\n",
       " ('vol_3g_mb_8', False, 54),\n",
       " ('monthly_2g_6', False, 39),\n",
       " ('monthly_2g_7', False, 15),\n",
       " ('monthly_2g_8', True, 1),\n",
       " ('sachet_2g_6', False, 85),\n",
       " ('sachet_2g_7', False, 88),\n",
       " ('sachet_2g_8', True, 1),\n",
       " ('monthly_3g_6', False, 66),\n",
       " ('monthly_3g_7', False, 86),\n",
       " ('monthly_3g_8', False, 20),\n",
       " ('sachet_3g_6', False, 55),\n",
       " ('sachet_3g_7', False, 87),\n",
       " ('sachet_3g_8', False, 74),\n",
       " ('aug_vbc_3g', False, 8),\n",
       " ('jul_vbc_3g', False, 100),\n",
       " ('jun_vbc_3g', False, 52),\n",
       " ('sep_vbc_3g', True, 1),\n",
       " ('total_rech_amt_data_6', False, 61),\n",
       " ('total_rech_amt_data_7', False, 107),\n",
       " ('total_rech_amt_data_8', False, 17),\n",
       " ('avg_rech_per_month_good_phase', False, 95),\n",
       " ('6-12 Months', True, 1),\n",
       " ('1-2 Yrs', True, 1),\n",
       " ('2-5 Yrs', True, 1),\n",
       " ('5 Yrs and above', True, 1)]"
      ]
     },
     "execution_count": 204,
     "metadata": {},
     "output_type": "execute_result"
    }
   ],
   "source": [
    "list(zip(X_train.columns, rfe.support_, rfe.ranking_))"
   ]
  },
  {
   "cell_type": "code",
   "execution_count": 205,
   "metadata": {
    "id": "0j-fJozLFEzj"
   },
   "outputs": [],
   "source": [
    "#selecting column selected by RFE\n",
    "col = X_train.columns[rfe.support_]"
   ]
  },
  {
   "cell_type": "code",
   "execution_count": 206,
   "metadata": {
    "id": "9Ay_Kl48FEzj",
    "outputId": "663b288f-5edb-440d-f5e9-06bd9c513bae",
    "scrolled": false
   },
   "outputs": [
    {
     "data": {
      "text/html": [
       "<table class=\"simpletable\">\n",
       "<caption>Generalized Linear Model Regression Results</caption>\n",
       "<tr>\n",
       "  <th>Dep. Variable:</th>         <td>churn</td>      <th>  No. Observations:  </th>  <td> 38478</td> \n",
       "</tr>\n",
       "<tr>\n",
       "  <th>Model:</th>                  <td>GLM</td>       <th>  Df Residuals:      </th>  <td> 38457</td> \n",
       "</tr>\n",
       "<tr>\n",
       "  <th>Model Family:</th>        <td>Binomial</td>     <th>  Df Model:          </th>  <td>    20</td> \n",
       "</tr>\n",
       "<tr>\n",
       "  <th>Link Function:</th>         <td>logit</td>      <th>  Scale:             </th> <td>  1.0000</td>\n",
       "</tr>\n",
       "<tr>\n",
       "  <th>Method:</th>                <td>IRLS</td>       <th>  Log-Likelihood:    </th> <td> -13731.</td>\n",
       "</tr>\n",
       "<tr>\n",
       "  <th>Date:</th>            <td>Mon, 23 Nov 2020</td> <th>  Deviance:          </th> <td>  27461.</td>\n",
       "</tr>\n",
       "<tr>\n",
       "  <th>Time:</th>                <td>05:18:42</td>     <th>  Pearson chi2:      </th> <td>1.95e+05</td>\n",
       "</tr>\n",
       "<tr>\n",
       "  <th>No. Iterations:</th>         <td>10</td>        <th>                     </th>     <td> </td>   \n",
       "</tr>\n",
       "<tr>\n",
       "  <th>Covariance Type:</th>     <td>nonrobust</td>    <th>                     </th>     <td> </td>   \n",
       "</tr>\n",
       "</table>\n",
       "<table class=\"simpletable\">\n",
       "<tr>\n",
       "           <td></td>             <th>coef</th>     <th>std err</th>      <th>z</th>      <th>P>|z|</th>  <th>[0.025</th>    <th>0.975]</th>  \n",
       "</tr>\n",
       "<tr>\n",
       "  <th>const</th>              <td>   -1.3386</td> <td>    0.057</td> <td>  -23.514</td> <td> 0.000</td> <td>   -1.450</td> <td>   -1.227</td>\n",
       "</tr>\n",
       "<tr>\n",
       "  <th>onnet_mou_7</th>        <td>    1.2125</td> <td>    0.082</td> <td>   14.855</td> <td> 0.000</td> <td>    1.053</td> <td>    1.373</td>\n",
       "</tr>\n",
       "<tr>\n",
       "  <th>onnet_mou_8</th>        <td>    0.5859</td> <td>    0.072</td> <td>    8.090</td> <td> 0.000</td> <td>    0.444</td> <td>    0.728</td>\n",
       "</tr>\n",
       "<tr>\n",
       "  <th>loc_og_t2t_mou_8</th>   <td>   -0.7565</td> <td>    0.074</td> <td>  -10.186</td> <td> 0.000</td> <td>   -0.902</td> <td>   -0.611</td>\n",
       "</tr>\n",
       "<tr>\n",
       "  <th>std_og_t2t_mou_7</th>   <td>   -0.7936</td> <td>    0.073</td> <td>  -10.804</td> <td> 0.000</td> <td>   -0.938</td> <td>   -0.650</td>\n",
       "</tr>\n",
       "<tr>\n",
       "  <th>std_og_t2m_mou_8</th>   <td>    0.9189</td> <td>    0.067</td> <td>   13.652</td> <td> 0.000</td> <td>    0.787</td> <td>    1.051</td>\n",
       "</tr>\n",
       "<tr>\n",
       "  <th>total_og_mou_8</th>     <td>   -1.8572</td> <td>    0.108</td> <td>  -17.272</td> <td> 0.000</td> <td>   -2.068</td> <td>   -1.646</td>\n",
       "</tr>\n",
       "<tr>\n",
       "  <th>loc_ic_t2m_mou_7</th>   <td>    0.9074</td> <td>    0.048</td> <td>   18.921</td> <td> 0.000</td> <td>    0.813</td> <td>    1.001</td>\n",
       "</tr>\n",
       "<tr>\n",
       "  <th>loc_ic_t2m_mou_8</th>   <td>   -1.7543</td> <td>    0.137</td> <td>  -12.795</td> <td> 0.000</td> <td>   -2.023</td> <td>   -1.486</td>\n",
       "</tr>\n",
       "<tr>\n",
       "  <th>loc_ic_t2f_mou_8</th>   <td>   -0.5108</td> <td>    0.063</td> <td>   -8.061</td> <td> 0.000</td> <td>   -0.635</td> <td>   -0.387</td>\n",
       "</tr>\n",
       "<tr>\n",
       "  <th>loc_ic_mou_8</th>       <td>   -0.8679</td> <td>    0.146</td> <td>   -5.954</td> <td> 0.000</td> <td>   -1.154</td> <td>   -0.582</td>\n",
       "</tr>\n",
       "<tr>\n",
       "  <th>total_ic_mou_8</th>     <td>   -0.4455</td> <td>    0.067</td> <td>   -6.606</td> <td> 0.000</td> <td>   -0.578</td> <td>   -0.313</td>\n",
       "</tr>\n",
       "<tr>\n",
       "  <th>last_day_rch_amt_8</th> <td>   -0.5737</td> <td>    0.025</td> <td>  -22.622</td> <td> 0.000</td> <td>   -0.623</td> <td>   -0.524</td>\n",
       "</tr>\n",
       "<tr>\n",
       "  <th>av_rech_amt_data_8</th> <td>   -0.5643</td> <td>    0.027</td> <td>  -20.938</td> <td> 0.000</td> <td>   -0.617</td> <td>   -0.511</td>\n",
       "</tr>\n",
       "<tr>\n",
       "  <th>monthly_2g_8</th>       <td>   -0.6393</td> <td>    0.031</td> <td>  -20.738</td> <td> 0.000</td> <td>   -0.700</td> <td>   -0.579</td>\n",
       "</tr>\n",
       "<tr>\n",
       "  <th>sachet_2g_8</th>        <td>   -0.7713</td> <td>    0.032</td> <td>  -23.923</td> <td> 0.000</td> <td>   -0.834</td> <td>   -0.708</td>\n",
       "</tr>\n",
       "<tr>\n",
       "  <th>sep_vbc_3g</th>         <td>   -3.5271</td> <td>    0.327</td> <td>  -10.775</td> <td> 0.000</td> <td>   -4.169</td> <td>   -2.885</td>\n",
       "</tr>\n",
       "<tr>\n",
       "  <th>6-12 Months</th>        <td>   -1.9109</td> <td>    0.047</td> <td>  -40.398</td> <td> 0.000</td> <td>   -2.004</td> <td>   -1.818</td>\n",
       "</tr>\n",
       "<tr>\n",
       "  <th>1-2 Yrs</th>            <td>   -1.9057</td> <td>    0.042</td> <td>  -45.339</td> <td> 0.000</td> <td>   -1.988</td> <td>   -1.823</td>\n",
       "</tr>\n",
       "<tr>\n",
       "  <th>2-5 Yrs</th>            <td>   -2.1054</td> <td>    0.043</td> <td>  -49.296</td> <td> 0.000</td> <td>   -2.189</td> <td>   -2.022</td>\n",
       "</tr>\n",
       "<tr>\n",
       "  <th>5 Yrs and above</th>    <td>   -3.8743</td> <td>    0.505</td> <td>   -7.673</td> <td> 0.000</td> <td>   -4.864</td> <td>   -2.885</td>\n",
       "</tr>\n",
       "</table>"
      ],
      "text/plain": [
       "<class 'statsmodels.iolib.summary.Summary'>\n",
       "\"\"\"\n",
       "                 Generalized Linear Model Regression Results                  \n",
       "==============================================================================\n",
       "Dep. Variable:                  churn   No. Observations:                38478\n",
       "Model:                            GLM   Df Residuals:                    38457\n",
       "Model Family:                Binomial   Df Model:                           20\n",
       "Link Function:                  logit   Scale:                          1.0000\n",
       "Method:                          IRLS   Log-Likelihood:                -13731.\n",
       "Date:                Mon, 23 Nov 2020   Deviance:                       27461.\n",
       "Time:                        05:18:42   Pearson chi2:                 1.95e+05\n",
       "No. Iterations:                    10                                         \n",
       "Covariance Type:            nonrobust                                         \n",
       "======================================================================================\n",
       "                         coef    std err          z      P>|z|      [0.025      0.975]\n",
       "--------------------------------------------------------------------------------------\n",
       "const                 -1.3386      0.057    -23.514      0.000      -1.450      -1.227\n",
       "onnet_mou_7            1.2125      0.082     14.855      0.000       1.053       1.373\n",
       "onnet_mou_8            0.5859      0.072      8.090      0.000       0.444       0.728\n",
       "loc_og_t2t_mou_8      -0.7565      0.074    -10.186      0.000      -0.902      -0.611\n",
       "std_og_t2t_mou_7      -0.7936      0.073    -10.804      0.000      -0.938      -0.650\n",
       "std_og_t2m_mou_8       0.9189      0.067     13.652      0.000       0.787       1.051\n",
       "total_og_mou_8        -1.8572      0.108    -17.272      0.000      -2.068      -1.646\n",
       "loc_ic_t2m_mou_7       0.9074      0.048     18.921      0.000       0.813       1.001\n",
       "loc_ic_t2m_mou_8      -1.7543      0.137    -12.795      0.000      -2.023      -1.486\n",
       "loc_ic_t2f_mou_8      -0.5108      0.063     -8.061      0.000      -0.635      -0.387\n",
       "loc_ic_mou_8          -0.8679      0.146     -5.954      0.000      -1.154      -0.582\n",
       "total_ic_mou_8        -0.4455      0.067     -6.606      0.000      -0.578      -0.313\n",
       "last_day_rch_amt_8    -0.5737      0.025    -22.622      0.000      -0.623      -0.524\n",
       "av_rech_amt_data_8    -0.5643      0.027    -20.938      0.000      -0.617      -0.511\n",
       "monthly_2g_8          -0.6393      0.031    -20.738      0.000      -0.700      -0.579\n",
       "sachet_2g_8           -0.7713      0.032    -23.923      0.000      -0.834      -0.708\n",
       "sep_vbc_3g            -3.5271      0.327    -10.775      0.000      -4.169      -2.885\n",
       "6-12 Months           -1.9109      0.047    -40.398      0.000      -2.004      -1.818\n",
       "1-2 Yrs               -1.9057      0.042    -45.339      0.000      -1.988      -1.823\n",
       "2-5 Yrs               -2.1054      0.043    -49.296      0.000      -2.189      -2.022\n",
       "5 Yrs and above       -3.8743      0.505     -7.673      0.000      -4.864      -2.885\n",
       "======================================================================================\n",
       "\"\"\""
      ]
     },
     "execution_count": 206,
     "metadata": {},
     "output_type": "execute_result"
    }
   ],
   "source": [
    "#now we will use only those columns which are selected by RFE and will create model and then will tune manually\n",
    "op = log_reg(X_train[col])\n",
    "op.summary()"
   ]
  },
  {
   "cell_type": "markdown",
   "metadata": {
    "id": "rk7XahvKFEzk"
   },
   "source": [
    "<b><font color='red'>[Observation]:</b> All selected variables are significant, But we've not checked for multicolinearity we'll do it using VIF.\n",
    "   "
   ]
  },
  {
   "cell_type": "code",
   "execution_count": 207,
   "metadata": {
    "id": "HXHtfqdkFEzk"
   },
   "outputs": [],
   "source": [
    "col = list(col)"
   ]
  },
  {
   "cell_type": "code",
   "execution_count": 208,
   "metadata": {
    "id": "dJEylZXYFEzk",
    "outputId": "b4b6cd29-26d6-4723-fc1c-14dcdacae6ba"
   },
   "outputs": [
    {
     "data": {
      "text/html": [
       "<div>\n",
       "<style scoped>\n",
       "    .dataframe tbody tr th:only-of-type {\n",
       "        vertical-align: middle;\n",
       "    }\n",
       "\n",
       "    .dataframe tbody tr th {\n",
       "        vertical-align: top;\n",
       "    }\n",
       "\n",
       "    .dataframe thead th {\n",
       "        text-align: right;\n",
       "    }\n",
       "</style>\n",
       "<table border=\"1\" class=\"dataframe\">\n",
       "  <thead>\n",
       "    <tr style=\"text-align: right;\">\n",
       "      <th></th>\n",
       "      <th>Features</th>\n",
       "      <th>VIF</th>\n",
       "    </tr>\n",
       "  </thead>\n",
       "  <tbody>\n",
       "    <tr>\n",
       "      <th>5</th>\n",
       "      <td>total_og_mou_8</td>\n",
       "      <td>12.72</td>\n",
       "    </tr>\n",
       "    <tr>\n",
       "      <th>0</th>\n",
       "      <td>onnet_mou_7</td>\n",
       "      <td>12.35</td>\n",
       "    </tr>\n",
       "    <tr>\n",
       "      <th>3</th>\n",
       "      <td>std_og_t2t_mou_7</td>\n",
       "      <td>11.61</td>\n",
       "    </tr>\n",
       "    <tr>\n",
       "      <th>9</th>\n",
       "      <td>loc_ic_mou_8</td>\n",
       "      <td>10.23</td>\n",
       "    </tr>\n",
       "    <tr>\n",
       "      <th>1</th>\n",
       "      <td>onnet_mou_8</td>\n",
       "      <td>6.99</td>\n",
       "    </tr>\n",
       "    <tr>\n",
       "      <th>7</th>\n",
       "      <td>loc_ic_t2m_mou_8</td>\n",
       "      <td>6.34</td>\n",
       "    </tr>\n",
       "    <tr>\n",
       "      <th>10</th>\n",
       "      <td>total_ic_mou_8</td>\n",
       "      <td>6.21</td>\n",
       "    </tr>\n",
       "    <tr>\n",
       "      <th>4</th>\n",
       "      <td>std_og_t2m_mou_8</td>\n",
       "      <td>5.20</td>\n",
       "    </tr>\n",
       "    <tr>\n",
       "      <th>2</th>\n",
       "      <td>loc_og_t2t_mou_8</td>\n",
       "      <td>3.16</td>\n",
       "    </tr>\n",
       "    <tr>\n",
       "      <th>6</th>\n",
       "      <td>loc_ic_t2m_mou_7</td>\n",
       "      <td>2.44</td>\n",
       "    </tr>\n",
       "    <tr>\n",
       "      <th>12</th>\n",
       "      <td>av_rech_amt_data_8</td>\n",
       "      <td>1.37</td>\n",
       "    </tr>\n",
       "    <tr>\n",
       "      <th>8</th>\n",
       "      <td>loc_ic_t2f_mou_8</td>\n",
       "      <td>1.29</td>\n",
       "    </tr>\n",
       "    <tr>\n",
       "      <th>11</th>\n",
       "      <td>last_day_rch_amt_8</td>\n",
       "      <td>1.25</td>\n",
       "    </tr>\n",
       "    <tr>\n",
       "      <th>13</th>\n",
       "      <td>monthly_2g_8</td>\n",
       "      <td>1.15</td>\n",
       "    </tr>\n",
       "    <tr>\n",
       "      <th>14</th>\n",
       "      <td>sachet_2g_8</td>\n",
       "      <td>1.13</td>\n",
       "    </tr>\n",
       "    <tr>\n",
       "      <th>17</th>\n",
       "      <td>1-2 Yrs</td>\n",
       "      <td>1.05</td>\n",
       "    </tr>\n",
       "    <tr>\n",
       "      <th>15</th>\n",
       "      <td>sep_vbc_3g</td>\n",
       "      <td>1.03</td>\n",
       "    </tr>\n",
       "    <tr>\n",
       "      <th>16</th>\n",
       "      <td>6-12 Months</td>\n",
       "      <td>1.03</td>\n",
       "    </tr>\n",
       "    <tr>\n",
       "      <th>18</th>\n",
       "      <td>2-5 Yrs</td>\n",
       "      <td>1.02</td>\n",
       "    </tr>\n",
       "    <tr>\n",
       "      <th>19</th>\n",
       "      <td>5 Yrs and above</td>\n",
       "      <td>1.00</td>\n",
       "    </tr>\n",
       "  </tbody>\n",
       "</table>\n",
       "</div>"
      ],
      "text/plain": [
       "              Features    VIF\n",
       "5       total_og_mou_8  12.72\n",
       "0          onnet_mou_7  12.35\n",
       "3     std_og_t2t_mou_7  11.61\n",
       "9         loc_ic_mou_8  10.23\n",
       "1          onnet_mou_8   6.99\n",
       "7     loc_ic_t2m_mou_8   6.34\n",
       "10      total_ic_mou_8   6.21\n",
       "4     std_og_t2m_mou_8   5.20\n",
       "2     loc_og_t2t_mou_8   3.16\n",
       "6     loc_ic_t2m_mou_7   2.44\n",
       "12  av_rech_amt_data_8   1.37\n",
       "8     loc_ic_t2f_mou_8   1.29\n",
       "11  last_day_rch_amt_8   1.25\n",
       "13        monthly_2g_8   1.15\n",
       "14         sachet_2g_8   1.13\n",
       "17             1-2 Yrs   1.05\n",
       "15          sep_vbc_3g   1.03\n",
       "16         6-12 Months   1.03\n",
       "18             2-5 Yrs   1.02\n",
       "19     5 Yrs and above   1.00"
      ]
     },
     "metadata": {},
     "output_type": "display_data"
    }
   ],
   "source": [
    "#let's see if there any multicolinearity exists\n",
    "from statsmodels.stats.outliers_influence import variance_inflation_factor\n",
    "def VIF(df):\n",
    "    vif = pd.DataFrame()\n",
    "    vif['Features'] = df.columns\n",
    "    vif['VIF'] = [variance_inflation_factor(df.values, i) for i in range(df.shape[1])]\n",
    "    vif['VIF'] = round(vif['VIF'], 2)\n",
    "    vif = vif.sort_values(by = \"VIF\", ascending = False)\n",
    "    display(vif)\n",
    "VIF(X_train[col])\n",
    "    "
   ]
  },
  {
   "cell_type": "markdown",
   "metadata": {
    "id": "X1m1RoqIFEzk"
   },
   "source": [
    "<b><font color='red'>[Observation]:</b> total_og_mou_8 has higher VIF which suggest multi collinrarity we will remove it."
   ]
  },
  {
   "cell_type": "code",
   "execution_count": 209,
   "metadata": {
    "id": "shVD9K-VFEzk",
    "outputId": "082b1cb4-4066-42b3-9fbf-ea73f4a4a672"
   },
   "outputs": [
    {
     "data": {
      "text/html": [
       "<div>\n",
       "<style scoped>\n",
       "    .dataframe tbody tr th:only-of-type {\n",
       "        vertical-align: middle;\n",
       "    }\n",
       "\n",
       "    .dataframe tbody tr th {\n",
       "        vertical-align: top;\n",
       "    }\n",
       "\n",
       "    .dataframe thead th {\n",
       "        text-align: right;\n",
       "    }\n",
       "</style>\n",
       "<table border=\"1\" class=\"dataframe\">\n",
       "  <thead>\n",
       "    <tr style=\"text-align: right;\">\n",
       "      <th></th>\n",
       "      <th>Features</th>\n",
       "      <th>VIF</th>\n",
       "    </tr>\n",
       "  </thead>\n",
       "  <tbody>\n",
       "    <tr>\n",
       "      <th>0</th>\n",
       "      <td>onnet_mou_7</td>\n",
       "      <td>12.04</td>\n",
       "    </tr>\n",
       "    <tr>\n",
       "      <th>3</th>\n",
       "      <td>std_og_t2t_mou_7</td>\n",
       "      <td>11.33</td>\n",
       "    </tr>\n",
       "    <tr>\n",
       "      <th>8</th>\n",
       "      <td>loc_ic_mou_8</td>\n",
       "      <td>10.23</td>\n",
       "    </tr>\n",
       "    <tr>\n",
       "      <th>9</th>\n",
       "      <td>total_ic_mou_8</td>\n",
       "      <td>6.20</td>\n",
       "    </tr>\n",
       "    <tr>\n",
       "      <th>6</th>\n",
       "      <td>loc_ic_t2m_mou_8</td>\n",
       "      <td>6.07</td>\n",
       "    </tr>\n",
       "    <tr>\n",
       "      <th>2</th>\n",
       "      <td>loc_og_t2t_mou_8</td>\n",
       "      <td>2.99</td>\n",
       "    </tr>\n",
       "    <tr>\n",
       "      <th>1</th>\n",
       "      <td>onnet_mou_8</td>\n",
       "      <td>2.60</td>\n",
       "    </tr>\n",
       "    <tr>\n",
       "      <th>5</th>\n",
       "      <td>loc_ic_t2m_mou_7</td>\n",
       "      <td>2.42</td>\n",
       "    </tr>\n",
       "    <tr>\n",
       "      <th>11</th>\n",
       "      <td>av_rech_amt_data_8</td>\n",
       "      <td>1.37</td>\n",
       "    </tr>\n",
       "    <tr>\n",
       "      <th>7</th>\n",
       "      <td>loc_ic_t2f_mou_8</td>\n",
       "      <td>1.28</td>\n",
       "    </tr>\n",
       "    <tr>\n",
       "      <th>10</th>\n",
       "      <td>last_day_rch_amt_8</td>\n",
       "      <td>1.25</td>\n",
       "    </tr>\n",
       "    <tr>\n",
       "      <th>12</th>\n",
       "      <td>monthly_2g_8</td>\n",
       "      <td>1.15</td>\n",
       "    </tr>\n",
       "    <tr>\n",
       "      <th>13</th>\n",
       "      <td>sachet_2g_8</td>\n",
       "      <td>1.13</td>\n",
       "    </tr>\n",
       "    <tr>\n",
       "      <th>4</th>\n",
       "      <td>std_og_t2m_mou_8</td>\n",
       "      <td>1.06</td>\n",
       "    </tr>\n",
       "    <tr>\n",
       "      <th>16</th>\n",
       "      <td>1-2 Yrs</td>\n",
       "      <td>1.05</td>\n",
       "    </tr>\n",
       "    <tr>\n",
       "      <th>14</th>\n",
       "      <td>sep_vbc_3g</td>\n",
       "      <td>1.03</td>\n",
       "    </tr>\n",
       "    <tr>\n",
       "      <th>15</th>\n",
       "      <td>6-12 Months</td>\n",
       "      <td>1.03</td>\n",
       "    </tr>\n",
       "    <tr>\n",
       "      <th>17</th>\n",
       "      <td>2-5 Yrs</td>\n",
       "      <td>1.01</td>\n",
       "    </tr>\n",
       "    <tr>\n",
       "      <th>18</th>\n",
       "      <td>5 Yrs and above</td>\n",
       "      <td>1.00</td>\n",
       "    </tr>\n",
       "  </tbody>\n",
       "</table>\n",
       "</div>"
      ],
      "text/plain": [
       "              Features    VIF\n",
       "0          onnet_mou_7  12.04\n",
       "3     std_og_t2t_mou_7  11.33\n",
       "8         loc_ic_mou_8  10.23\n",
       "9       total_ic_mou_8   6.20\n",
       "6     loc_ic_t2m_mou_8   6.07\n",
       "2     loc_og_t2t_mou_8   2.99\n",
       "1          onnet_mou_8   2.60\n",
       "5     loc_ic_t2m_mou_7   2.42\n",
       "11  av_rech_amt_data_8   1.37\n",
       "7     loc_ic_t2f_mou_8   1.28\n",
       "10  last_day_rch_amt_8   1.25\n",
       "12        monthly_2g_8   1.15\n",
       "13         sachet_2g_8   1.13\n",
       "4     std_og_t2m_mou_8   1.06\n",
       "16             1-2 Yrs   1.05\n",
       "14          sep_vbc_3g   1.03\n",
       "15         6-12 Months   1.03\n",
       "17             2-5 Yrs   1.01\n",
       "18     5 Yrs and above   1.00"
      ]
     },
     "metadata": {},
     "output_type": "display_data"
    }
   ],
   "source": [
    "col.remove('total_og_mou_8')\n",
    "VIF(X_train[col])"
   ]
  },
  {
   "cell_type": "markdown",
   "metadata": {},
   "source": [
    "<b><font color='red'>[Observation]:</b> onnet_mou_7 has higher VI, we will remove it."
   ]
  },
  {
   "cell_type": "code",
   "execution_count": 210,
   "metadata": {
    "id": "DpbsbzT3FEzk",
    "outputId": "b8bfb7dc-85c8-456b-f7ca-4465250c7459",
    "scrolled": true
   },
   "outputs": [
    {
     "data": {
      "text/html": [
       "<div>\n",
       "<style scoped>\n",
       "    .dataframe tbody tr th:only-of-type {\n",
       "        vertical-align: middle;\n",
       "    }\n",
       "\n",
       "    .dataframe tbody tr th {\n",
       "        vertical-align: top;\n",
       "    }\n",
       "\n",
       "    .dataframe thead th {\n",
       "        text-align: right;\n",
       "    }\n",
       "</style>\n",
       "<table border=\"1\" class=\"dataframe\">\n",
       "  <thead>\n",
       "    <tr style=\"text-align: right;\">\n",
       "      <th></th>\n",
       "      <th>Features</th>\n",
       "      <th>VIF</th>\n",
       "    </tr>\n",
       "  </thead>\n",
       "  <tbody>\n",
       "    <tr>\n",
       "      <th>7</th>\n",
       "      <td>loc_ic_mou_8</td>\n",
       "      <td>10.23</td>\n",
       "    </tr>\n",
       "    <tr>\n",
       "      <th>8</th>\n",
       "      <td>total_ic_mou_8</td>\n",
       "      <td>6.20</td>\n",
       "    </tr>\n",
       "    <tr>\n",
       "      <th>5</th>\n",
       "      <td>loc_ic_t2m_mou_8</td>\n",
       "      <td>6.04</td>\n",
       "    </tr>\n",
       "    <tr>\n",
       "      <th>0</th>\n",
       "      <td>onnet_mou_8</td>\n",
       "      <td>2.58</td>\n",
       "    </tr>\n",
       "    <tr>\n",
       "      <th>4</th>\n",
       "      <td>loc_ic_t2m_mou_7</td>\n",
       "      <td>2.41</td>\n",
       "    </tr>\n",
       "    <tr>\n",
       "      <th>2</th>\n",
       "      <td>std_og_t2t_mou_7</td>\n",
       "      <td>1.99</td>\n",
       "    </tr>\n",
       "    <tr>\n",
       "      <th>1</th>\n",
       "      <td>loc_og_t2t_mou_8</td>\n",
       "      <td>1.70</td>\n",
       "    </tr>\n",
       "    <tr>\n",
       "      <th>10</th>\n",
       "      <td>av_rech_amt_data_8</td>\n",
       "      <td>1.37</td>\n",
       "    </tr>\n",
       "    <tr>\n",
       "      <th>6</th>\n",
       "      <td>loc_ic_t2f_mou_8</td>\n",
       "      <td>1.28</td>\n",
       "    </tr>\n",
       "    <tr>\n",
       "      <th>9</th>\n",
       "      <td>last_day_rch_amt_8</td>\n",
       "      <td>1.24</td>\n",
       "    </tr>\n",
       "    <tr>\n",
       "      <th>11</th>\n",
       "      <td>monthly_2g_8</td>\n",
       "      <td>1.15</td>\n",
       "    </tr>\n",
       "    <tr>\n",
       "      <th>12</th>\n",
       "      <td>sachet_2g_8</td>\n",
       "      <td>1.13</td>\n",
       "    </tr>\n",
       "    <tr>\n",
       "      <th>3</th>\n",
       "      <td>std_og_t2m_mou_8</td>\n",
       "      <td>1.05</td>\n",
       "    </tr>\n",
       "    <tr>\n",
       "      <th>15</th>\n",
       "      <td>1-2 Yrs</td>\n",
       "      <td>1.05</td>\n",
       "    </tr>\n",
       "    <tr>\n",
       "      <th>13</th>\n",
       "      <td>sep_vbc_3g</td>\n",
       "      <td>1.03</td>\n",
       "    </tr>\n",
       "    <tr>\n",
       "      <th>14</th>\n",
       "      <td>6-12 Months</td>\n",
       "      <td>1.03</td>\n",
       "    </tr>\n",
       "    <tr>\n",
       "      <th>16</th>\n",
       "      <td>2-5 Yrs</td>\n",
       "      <td>1.01</td>\n",
       "    </tr>\n",
       "    <tr>\n",
       "      <th>17</th>\n",
       "      <td>5 Yrs and above</td>\n",
       "      <td>1.00</td>\n",
       "    </tr>\n",
       "  </tbody>\n",
       "</table>\n",
       "</div>"
      ],
      "text/plain": [
       "              Features    VIF\n",
       "7         loc_ic_mou_8  10.23\n",
       "8       total_ic_mou_8   6.20\n",
       "5     loc_ic_t2m_mou_8   6.04\n",
       "0          onnet_mou_8   2.58\n",
       "4     loc_ic_t2m_mou_7   2.41\n",
       "2     std_og_t2t_mou_7   1.99\n",
       "1     loc_og_t2t_mou_8   1.70\n",
       "10  av_rech_amt_data_8   1.37\n",
       "6     loc_ic_t2f_mou_8   1.28\n",
       "9   last_day_rch_amt_8   1.24\n",
       "11        monthly_2g_8   1.15\n",
       "12         sachet_2g_8   1.13\n",
       "3     std_og_t2m_mou_8   1.05\n",
       "15             1-2 Yrs   1.05\n",
       "13          sep_vbc_3g   1.03\n",
       "14         6-12 Months   1.03\n",
       "16             2-5 Yrs   1.01\n",
       "17     5 Yrs and above   1.00"
      ]
     },
     "metadata": {},
     "output_type": "display_data"
    }
   ],
   "source": [
    "col.remove('onnet_mou_7')\n",
    "VIF(X_train[col])"
   ]
  },
  {
   "cell_type": "markdown",
   "metadata": {},
   "source": [
    "<b><font color='red'>[Observation]:</b> loc_ic_mou_8 has higher VI, we will remove it."
   ]
  },
  {
   "cell_type": "code",
   "execution_count": 211,
   "metadata": {
    "id": "RMyMC0Z_FEzk",
    "outputId": "80072be7-f3be-41bf-f877-db16e0be11a6"
   },
   "outputs": [
    {
     "data": {
      "text/html": [
       "<div>\n",
       "<style scoped>\n",
       "    .dataframe tbody tr th:only-of-type {\n",
       "        vertical-align: middle;\n",
       "    }\n",
       "\n",
       "    .dataframe tbody tr th {\n",
       "        vertical-align: top;\n",
       "    }\n",
       "\n",
       "    .dataframe thead th {\n",
       "        text-align: right;\n",
       "    }\n",
       "</style>\n",
       "<table border=\"1\" class=\"dataframe\">\n",
       "  <thead>\n",
       "    <tr style=\"text-align: right;\">\n",
       "      <th></th>\n",
       "      <th>Features</th>\n",
       "      <th>VIF</th>\n",
       "    </tr>\n",
       "  </thead>\n",
       "  <tbody>\n",
       "    <tr>\n",
       "      <th>5</th>\n",
       "      <td>loc_ic_t2m_mou_8</td>\n",
       "      <td>4.38</td>\n",
       "    </tr>\n",
       "    <tr>\n",
       "      <th>7</th>\n",
       "      <td>total_ic_mou_8</td>\n",
       "      <td>3.40</td>\n",
       "    </tr>\n",
       "    <tr>\n",
       "      <th>0</th>\n",
       "      <td>onnet_mou_8</td>\n",
       "      <td>2.58</td>\n",
       "    </tr>\n",
       "    <tr>\n",
       "      <th>4</th>\n",
       "      <td>loc_ic_t2m_mou_7</td>\n",
       "      <td>2.41</td>\n",
       "    </tr>\n",
       "    <tr>\n",
       "      <th>2</th>\n",
       "      <td>std_og_t2t_mou_7</td>\n",
       "      <td>1.99</td>\n",
       "    </tr>\n",
       "    <tr>\n",
       "      <th>1</th>\n",
       "      <td>loc_og_t2t_mou_8</td>\n",
       "      <td>1.64</td>\n",
       "    </tr>\n",
       "    <tr>\n",
       "      <th>9</th>\n",
       "      <td>av_rech_amt_data_8</td>\n",
       "      <td>1.37</td>\n",
       "    </tr>\n",
       "    <tr>\n",
       "      <th>8</th>\n",
       "      <td>last_day_rch_amt_8</td>\n",
       "      <td>1.24</td>\n",
       "    </tr>\n",
       "    <tr>\n",
       "      <th>6</th>\n",
       "      <td>loc_ic_t2f_mou_8</td>\n",
       "      <td>1.21</td>\n",
       "    </tr>\n",
       "    <tr>\n",
       "      <th>10</th>\n",
       "      <td>monthly_2g_8</td>\n",
       "      <td>1.15</td>\n",
       "    </tr>\n",
       "    <tr>\n",
       "      <th>11</th>\n",
       "      <td>sachet_2g_8</td>\n",
       "      <td>1.13</td>\n",
       "    </tr>\n",
       "    <tr>\n",
       "      <th>3</th>\n",
       "      <td>std_og_t2m_mou_8</td>\n",
       "      <td>1.05</td>\n",
       "    </tr>\n",
       "    <tr>\n",
       "      <th>14</th>\n",
       "      <td>1-2 Yrs</td>\n",
       "      <td>1.05</td>\n",
       "    </tr>\n",
       "    <tr>\n",
       "      <th>12</th>\n",
       "      <td>sep_vbc_3g</td>\n",
       "      <td>1.03</td>\n",
       "    </tr>\n",
       "    <tr>\n",
       "      <th>13</th>\n",
       "      <td>6-12 Months</td>\n",
       "      <td>1.03</td>\n",
       "    </tr>\n",
       "    <tr>\n",
       "      <th>15</th>\n",
       "      <td>2-5 Yrs</td>\n",
       "      <td>1.01</td>\n",
       "    </tr>\n",
       "    <tr>\n",
       "      <th>16</th>\n",
       "      <td>5 Yrs and above</td>\n",
       "      <td>1.00</td>\n",
       "    </tr>\n",
       "  </tbody>\n",
       "</table>\n",
       "</div>"
      ],
      "text/plain": [
       "              Features   VIF\n",
       "5     loc_ic_t2m_mou_8  4.38\n",
       "7       total_ic_mou_8  3.40\n",
       "0          onnet_mou_8  2.58\n",
       "4     loc_ic_t2m_mou_7  2.41\n",
       "2     std_og_t2t_mou_7  1.99\n",
       "1     loc_og_t2t_mou_8  1.64\n",
       "9   av_rech_amt_data_8  1.37\n",
       "8   last_day_rch_amt_8  1.24\n",
       "6     loc_ic_t2f_mou_8  1.21\n",
       "10        monthly_2g_8  1.15\n",
       "11         sachet_2g_8  1.13\n",
       "3     std_og_t2m_mou_8  1.05\n",
       "14             1-2 Yrs  1.05\n",
       "12          sep_vbc_3g  1.03\n",
       "13         6-12 Months  1.03\n",
       "15             2-5 Yrs  1.01\n",
       "16     5 Yrs and above  1.00"
      ]
     },
     "metadata": {},
     "output_type": "display_data"
    }
   ],
   "source": [
    "col.remove('loc_ic_mou_8')\n",
    "VIF(X_train[col])"
   ]
  },
  {
   "cell_type": "code",
   "execution_count": 212,
   "metadata": {
    "id": "TlWuXIPWFEzl",
    "outputId": "4b3be1c0-3c1e-48f9-dc98-d53bbb53cd61"
   },
   "outputs": [
    {
     "data": {
      "text/html": [
       "<table class=\"simpletable\">\n",
       "<caption>Generalized Linear Model Regression Results</caption>\n",
       "<tr>\n",
       "  <th>Dep. Variable:</th>         <td>churn</td>      <th>  No. Observations:  </th>  <td> 38478</td> \n",
       "</tr>\n",
       "<tr>\n",
       "  <th>Model:</th>                  <td>GLM</td>       <th>  Df Residuals:      </th>  <td> 38460</td> \n",
       "</tr>\n",
       "<tr>\n",
       "  <th>Model Family:</th>        <td>Binomial</td>     <th>  Df Model:          </th>  <td>    17</td> \n",
       "</tr>\n",
       "<tr>\n",
       "  <th>Link Function:</th>         <td>logit</td>      <th>  Scale:             </th> <td>  1.0000</td>\n",
       "</tr>\n",
       "<tr>\n",
       "  <th>Method:</th>                <td>IRLS</td>       <th>  Log-Likelihood:    </th> <td> -14174.</td>\n",
       "</tr>\n",
       "<tr>\n",
       "  <th>Date:</th>            <td>Mon, 23 Nov 2020</td> <th>  Deviance:          </th> <td>  28348.</td>\n",
       "</tr>\n",
       "<tr>\n",
       "  <th>Time:</th>                <td>05:18:45</td>     <th>  Pearson chi2:      </th> <td>2.70e+06</td>\n",
       "</tr>\n",
       "<tr>\n",
       "  <th>No. Iterations:</th>         <td>10</td>        <th>                     </th>     <td> </td>   \n",
       "</tr>\n",
       "<tr>\n",
       "  <th>Covariance Type:</th>     <td>nonrobust</td>    <th>                     </th>     <td> </td>   \n",
       "</tr>\n",
       "</table>\n",
       "<table class=\"simpletable\">\n",
       "<tr>\n",
       "           <td></td>             <th>coef</th>     <th>std err</th>      <th>z</th>      <th>P>|z|</th>  <th>[0.025</th>    <th>0.975]</th>  \n",
       "</tr>\n",
       "<tr>\n",
       "  <th>const</th>              <td>   -1.3336</td> <td>    0.057</td> <td>  -23.562</td> <td> 0.000</td> <td>   -1.445</td> <td>   -1.223</td>\n",
       "</tr>\n",
       "<tr>\n",
       "  <th>onnet_mou_8</th>        <td>   -0.4505</td> <td>    0.032</td> <td>  -14.031</td> <td> 0.000</td> <td>   -0.513</td> <td>   -0.388</td>\n",
       "</tr>\n",
       "<tr>\n",
       "  <th>loc_og_t2t_mou_8</th>   <td>   -0.2202</td> <td>    0.044</td> <td>   -5.003</td> <td> 0.000</td> <td>   -0.306</td> <td>   -0.134</td>\n",
       "</tr>\n",
       "<tr>\n",
       "  <th>std_og_t2t_mou_7</th>   <td>    0.1946</td> <td>    0.023</td> <td>    8.601</td> <td> 0.000</td> <td>    0.150</td> <td>    0.239</td>\n",
       "</tr>\n",
       "<tr>\n",
       "  <th>std_og_t2m_mou_8</th>   <td>   -0.2161</td> <td>    0.019</td> <td>  -11.279</td> <td> 0.000</td> <td>   -0.254</td> <td>   -0.179</td>\n",
       "</tr>\n",
       "<tr>\n",
       "  <th>loc_ic_t2m_mou_7</th>   <td>    0.9962</td> <td>    0.046</td> <td>   21.746</td> <td> 0.000</td> <td>    0.906</td> <td>    1.086</td>\n",
       "</tr>\n",
       "<tr>\n",
       "  <th>loc_ic_t2m_mou_8</th>   <td>   -3.0644</td> <td>    0.093</td> <td>  -33.049</td> <td> 0.000</td> <td>   -3.246</td> <td>   -2.883</td>\n",
       "</tr>\n",
       "<tr>\n",
       "  <th>loc_ic_t2f_mou_8</th>   <td>   -0.7125</td> <td>    0.062</td> <td>  -11.522</td> <td> 0.000</td> <td>   -0.834</td> <td>   -0.591</td>\n",
       "</tr>\n",
       "<tr>\n",
       "  <th>total_ic_mou_8</th>     <td>   -0.7107</td> <td>    0.063</td> <td>  -11.349</td> <td> 0.000</td> <td>   -0.833</td> <td>   -0.588</td>\n",
       "</tr>\n",
       "<tr>\n",
       "  <th>last_day_rch_amt_8</th> <td>   -0.4924</td> <td>    0.026</td> <td>  -19.300</td> <td> 0.000</td> <td>   -0.542</td> <td>   -0.442</td>\n",
       "</tr>\n",
       "<tr>\n",
       "  <th>av_rech_amt_data_8</th> <td>   -0.5864</td> <td>    0.027</td> <td>  -21.909</td> <td> 0.000</td> <td>   -0.639</td> <td>   -0.534</td>\n",
       "</tr>\n",
       "<tr>\n",
       "  <th>monthly_2g_8</th>       <td>   -0.6448</td> <td>    0.031</td> <td>  -21.081</td> <td> 0.000</td> <td>   -0.705</td> <td>   -0.585</td>\n",
       "</tr>\n",
       "<tr>\n",
       "  <th>sachet_2g_8</th>        <td>   -0.7694</td> <td>    0.032</td> <td>  -23.954</td> <td> 0.000</td> <td>   -0.832</td> <td>   -0.706</td>\n",
       "</tr>\n",
       "<tr>\n",
       "  <th>sep_vbc_3g</th>         <td>   -3.5209</td> <td>    0.325</td> <td>  -10.822</td> <td> 0.000</td> <td>   -4.159</td> <td>   -2.883</td>\n",
       "</tr>\n",
       "<tr>\n",
       "  <th>6-12 Months</th>        <td>   -1.8857</td> <td>    0.046</td> <td>  -40.598</td> <td> 0.000</td> <td>   -1.977</td> <td>   -1.795</td>\n",
       "</tr>\n",
       "<tr>\n",
       "  <th>1-2 Yrs</th>            <td>   -1.8779</td> <td>    0.041</td> <td>  -45.526</td> <td> 0.000</td> <td>   -1.959</td> <td>   -1.797</td>\n",
       "</tr>\n",
       "<tr>\n",
       "  <th>2-5 Yrs</th>            <td>   -2.0644</td> <td>    0.042</td> <td>  -49.591</td> <td> 0.000</td> <td>   -2.146</td> <td>   -1.983</td>\n",
       "</tr>\n",
       "<tr>\n",
       "  <th>5 Yrs and above</th>    <td>   -3.8831</td> <td>    0.495</td> <td>   -7.842</td> <td> 0.000</td> <td>   -4.854</td> <td>   -2.913</td>\n",
       "</tr>\n",
       "</table>"
      ],
      "text/plain": [
       "<class 'statsmodels.iolib.summary.Summary'>\n",
       "\"\"\"\n",
       "                 Generalized Linear Model Regression Results                  \n",
       "==============================================================================\n",
       "Dep. Variable:                  churn   No. Observations:                38478\n",
       "Model:                            GLM   Df Residuals:                    38460\n",
       "Model Family:                Binomial   Df Model:                           17\n",
       "Link Function:                  logit   Scale:                          1.0000\n",
       "Method:                          IRLS   Log-Likelihood:                -14174.\n",
       "Date:                Mon, 23 Nov 2020   Deviance:                       28348.\n",
       "Time:                        05:18:45   Pearson chi2:                 2.70e+06\n",
       "No. Iterations:                    10                                         \n",
       "Covariance Type:            nonrobust                                         \n",
       "======================================================================================\n",
       "                         coef    std err          z      P>|z|      [0.025      0.975]\n",
       "--------------------------------------------------------------------------------------\n",
       "const                 -1.3336      0.057    -23.562      0.000      -1.445      -1.223\n",
       "onnet_mou_8           -0.4505      0.032    -14.031      0.000      -0.513      -0.388\n",
       "loc_og_t2t_mou_8      -0.2202      0.044     -5.003      0.000      -0.306      -0.134\n",
       "std_og_t2t_mou_7       0.1946      0.023      8.601      0.000       0.150       0.239\n",
       "std_og_t2m_mou_8      -0.2161      0.019    -11.279      0.000      -0.254      -0.179\n",
       "loc_ic_t2m_mou_7       0.9962      0.046     21.746      0.000       0.906       1.086\n",
       "loc_ic_t2m_mou_8      -3.0644      0.093    -33.049      0.000      -3.246      -2.883\n",
       "loc_ic_t2f_mou_8      -0.7125      0.062    -11.522      0.000      -0.834      -0.591\n",
       "total_ic_mou_8        -0.7107      0.063    -11.349      0.000      -0.833      -0.588\n",
       "last_day_rch_amt_8    -0.4924      0.026    -19.300      0.000      -0.542      -0.442\n",
       "av_rech_amt_data_8    -0.5864      0.027    -21.909      0.000      -0.639      -0.534\n",
       "monthly_2g_8          -0.6448      0.031    -21.081      0.000      -0.705      -0.585\n",
       "sachet_2g_8           -0.7694      0.032    -23.954      0.000      -0.832      -0.706\n",
       "sep_vbc_3g            -3.5209      0.325    -10.822      0.000      -4.159      -2.883\n",
       "6-12 Months           -1.8857      0.046    -40.598      0.000      -1.977      -1.795\n",
       "1-2 Yrs               -1.8779      0.041    -45.526      0.000      -1.959      -1.797\n",
       "2-5 Yrs               -2.0644      0.042    -49.591      0.000      -2.146      -1.983\n",
       "5 Yrs and above       -3.8831      0.495     -7.842      0.000      -4.854      -2.913\n",
       "======================================================================================\n",
       "\"\"\""
      ]
     },
     "execution_count": 212,
     "metadata": {},
     "output_type": "execute_result"
    }
   ],
   "source": [
    "op = log_reg(X_train[col])\n",
    "op.summary()"
   ]
  },
  {
   "cell_type": "markdown",
   "metadata": {},
   "source": [
    "<b><font color='red'>[Observation]:</b> So now we've total 16 important significant features selected by Interpretable model."
   ]
  },
  {
   "cell_type": "code",
   "execution_count": 295,
   "metadata": {
    "id": "kbDPYQYwFEzl",
    "outputId": "f7a10f3c-c634-427d-f339-f43630409cdb"
   },
   "outputs": [
    {
     "name": "stdout",
     "output_type": "stream",
     "text": [
      "[[6743 1538]\n",
      " [ 148  557]]\n"
     ]
    },
    {
     "data": {
      "text/html": [
       "<div>\n",
       "<style scoped>\n",
       "    .dataframe tbody tr th:only-of-type {\n",
       "        vertical-align: middle;\n",
       "    }\n",
       "\n",
       "    .dataframe tbody tr th {\n",
       "        vertical-align: top;\n",
       "    }\n",
       "\n",
       "    .dataframe thead th {\n",
       "        text-align: right;\n",
       "    }\n",
       "</style>\n",
       "<table border=\"1\" class=\"dataframe\">\n",
       "  <thead>\n",
       "    <tr style=\"text-align: right;\">\n",
       "      <th></th>\n",
       "      <th>Accuracy</th>\n",
       "      <th>Precision</th>\n",
       "      <th>Recall</th>\n",
       "      <th>AUC</th>\n",
       "      <th>F1</th>\n",
       "    </tr>\n",
       "  </thead>\n",
       "  <tbody>\n",
       "    <tr>\n",
       "      <th>0</th>\n",
       "      <td>0.81</td>\n",
       "      <td>0.27</td>\n",
       "      <td>0.79</td>\n",
       "      <td>0.8</td>\n",
       "      <td>0.4</td>\n",
       "    </tr>\n",
       "  </tbody>\n",
       "</table>\n",
       "</div>"
      ],
      "text/plain": [
       "   Accuracy  Precision  Recall  AUC   F1\n",
       "0      0.81       0.27    0.79  0.8  0.4"
      ]
     },
     "metadata": {},
     "output_type": "display_data"
    }
   ],
   "source": [
    "from sklearn import metrics\n",
    "op = LogisticRegression()\n",
    "op.fit(X_train[col], y_train)\n",
    "y_pred = op.predict(X_test[col])\n",
    "y_pred_proba = op.predict_proba(X_test[col])[:, 1]\n",
    "confusion = metrics.confusion_matrix(y_test, y_pred )\n",
    "model_attr(y_test,y_pred)"
   ]
  },
  {
   "cell_type": "code",
   "execution_count": 214,
   "metadata": {
    "id": "m5TZ5t0sFEzl",
    "outputId": "cfbb4733-6d4a-4cdb-ac9d-b786537ffc31"
   },
   "outputs": [
    {
     "data": {
      "text/plain": [
       "0.0    8986\n",
       "0.1    5113\n",
       "0.2    4055\n",
       "0.3    3298\n",
       "0.4    2636\n",
       "0.5    2095\n",
       "0.6    1521\n",
       "0.7    1054\n",
       "0.8     450\n",
       "0.9     164\n",
       "dtype: int64"
      ]
     },
     "execution_count": 214,
     "metadata": {},
     "output_type": "execute_result"
    }
   ],
   "source": [
    "# Let's create columns with different probability cutoffs \n",
    "numbers = [float(x)/10 for x in range(10)]\n",
    "y_train_pred_final = pd.DataFrame([])\n",
    "for i in numbers:\n",
    "    y_train_pred_final[i]= pd.Series(y_pred_proba).map(lambda x: 1 if x > i else 0)\n",
    "y_train_pred_final.sum()"
   ]
  },
  {
   "cell_type": "code",
   "execution_count": 215,
   "metadata": {
    "id": "BGQamySiFEzl",
    "outputId": "6a375712-750e-422d-e332-af01af471fca"
   },
   "outputs": [
    {
     "name": "stdout",
     "output_type": "stream",
     "text": [
      "     prob  accuracy     sensi     speci\n",
      "0.0   0.0  0.078455  1.000000  0.000000\n",
      "0.1   0.1  0.498331  0.929078  0.461659\n",
      "0.2   0.2  0.612063  0.903546  0.587248\n",
      "0.3   0.3  0.691409  0.872340  0.676005\n",
      "0.4   0.4  0.759292  0.835461  0.752808\n",
      "0.5   0.5  0.812375  0.790071  0.814274\n",
      "0.6   0.6  0.865124  0.719149  0.877551\n",
      "0.7   0.7  0.898175  0.598582  0.923681\n",
      "0.8   0.8  0.905742  0.218440  0.964256\n",
      "0.9   0.9  0.917984  0.093617  0.988166\n"
     ]
    }
   ],
   "source": [
    "# Now let's calculate accuracy sensitivity and specificity for various probability cutoffs.\n",
    "cutoff_df = pd.DataFrame( columns = ['prob','accuracy','sensi','speci'])\n",
    "from sklearn.metrics import confusion_matrix\n",
    "\n",
    "# TP = confusion[1,1] # true positive \n",
    "# TN = confusion[0,0] # true negatives\n",
    "# FP = confusion[0,1] # false positives\n",
    "# FN = confusion[1,0] # false negatives\n",
    "\n",
    "num = [0.0,0.1,0.2,0.3,0.4,0.5,0.6,0.7,0.8,0.9]\n",
    "for i in num:\n",
    "    cm1 = metrics.confusion_matrix(y_test, y_train_pred_final[i] )\n",
    "    total1=sum(sum(cm1))\n",
    "    accuracy = (cm1[0,0]+cm1[1,1])/total1\n",
    "    \n",
    "    speci = cm1[0,0]/(cm1[0,0]+cm1[0,1])\n",
    "    sensi = cm1[1,1]/(cm1[1,0]+cm1[1,1])\n",
    "    cutoff_df.loc[i] =[ i ,accuracy,sensi,speci]\n",
    "print(cutoff_df)"
   ]
  },
  {
   "cell_type": "markdown",
   "metadata": {},
   "source": [
    "<b><font color='red'>[Observation]:</b> We can see that for 50% probablity we've all three parameters symmetrical."
   ]
  },
  {
   "cell_type": "markdown",
   "metadata": {},
   "source": [
    "Let's visualise it by plotting."
   ]
  },
  {
   "cell_type": "code",
   "execution_count": 296,
   "metadata": {
    "id": "z9U0XDjuFEzm",
    "outputId": "d900e954-0cfd-4396-a07a-7daf69df74f4"
   },
   "outputs": [
    {
     "data": {
      "image/png": "[encoded data removed]",
      "text/plain": [
       "<Figure size 432x288 with 1 Axes>"
      ]
     },
     "metadata": {
      "needs_background": "light"
     },
     "output_type": "display_data"
    }
   ],
   "source": [
    "cutoff_df.plot.line(x='prob', y=['accuracy','sensi','speci'])\n",
    "plt.show()"
   ]
  },
  {
   "cell_type": "markdown",
   "metadata": {},
   "source": [
    "<b><font color='red'>[Observation]:</b> \n",
    "    <b>Logistic regression output - </b><br>\n",
    "    <b> Accuracy 0.812375 </b><br>\n",
    "    <b> Sensitivity 0.790071 </b><br>\n",
    "    <b> Specificity 0.814274 </b><br>    "
   ]
  },
  {
   "cell_type": "code",
   "execution_count": 304,
   "metadata": {},
   "outputs": [
    {
     "data": {
      "text/html": [
       "<style  type=\"text/css\" >\n",
       "</style><table id=\"T_a8e85872_2d66_11eb_8ebe_0242ac130202\" ><thead>    <tr>        <th class=\"col_heading level0 col0\" >Accuracy</th>        <th class=\"col_heading level0 col1\" >Sensitivity/Recall</th>        <th class=\"col_heading level0 col2\" >Specificity</th>    </tr></thead><tbody>\n",
       "                <tr>\n",
       "                                <td id=\"T_a8e85872_2d66_11eb_8ebe_0242ac130202row0_col0\" class=\"data row0 col0\" >0.812375</td>\n",
       "                        <td id=\"T_a8e85872_2d66_11eb_8ebe_0242ac130202row0_col1\" class=\"data row0 col1\" >0.790071</td>\n",
       "                        <td id=\"T_a8e85872_2d66_11eb_8ebe_0242ac130202row0_col2\" class=\"data row0 col2\" >0.814274</td>\n",
       "            </tr>\n",
       "    </tbody></table>"
      ],
      "text/plain": [
       "<pandas.io.formats.style.Styler at 0x7fbb6035f2d0>"
      ]
     },
     "metadata": {},
     "output_type": "display_data"
    }
   ],
   "source": [
    "Logistic = [['0.812375','0.790071','0.814274']]\n",
    "display(pd.DataFrame(data=Logistic,columns=['Accuracy','Sensitivity/Recall','Specificity']).style.hide_index())"
   ]
  },
  {
   "cell_type": "markdown",
   "metadata": {},
   "source": [
    "### Dimensionality reduction - let's use pca for dimention reductionality"
   ]
  },
  {
   "cell_type": "markdown",
   "metadata": {
    "id": "hf6e2yzyFEzm"
   },
   "source": [
    "### PCA "
   ]
  },
  {
   "cell_type": "code",
   "execution_count": 220,
   "metadata": {
    "id": "Hz4-vRYdFEzm",
    "outputId": "77ae1437-3c13-4950-f641-36e768ab1d53"
   },
   "outputs": [
    {
     "data": {
      "text/plain": [
       "PCA(random_state=42)"
      ]
     },
     "execution_count": 220,
     "metadata": {},
     "output_type": "execute_result"
    }
   ],
   "source": [
    "from sklearn.decomposition import PCA\n",
    "pca = PCA(random_state=42)\n",
    "pca.fit(X_train)"
   ]
  },
  {
   "cell_type": "code",
   "execution_count": 221,
   "metadata": {
    "id": "LJJQmAvqFEzm",
    "outputId": "76d2a02d-6787-4739-e44f-671072b8fe3d"
   },
   "outputs": [
    {
     "data": {
      "text/plain": [
       "array([[ 1.09279034e-01,  2.09580683e-01, -9.17153463e-02,\n",
       "         3.50536372e-02,  4.82202741e-01,  5.06432103e-01,\n",
       "         2.52632963e-01,  5.11587439e-01,  2.58851399e-01,\n",
       "         1.73219480e-01,  1.27170560e-01,  3.70948552e-02,\n",
       "         6.17392290e-02, -8.77625091e-03, -1.30427798e-02,\n",
       "         3.65847266e-02,  8.72815937e-04],\n",
       "       [ 5.93188730e-01,  1.61329087e-01,  7.44405584e-01,\n",
       "         1.57181002e-01, -3.15195260e-02, -1.27279069e-02,\n",
       "        -1.68876365e-02,  3.36872053e-02,  5.53283870e-02,\n",
       "        -1.48226425e-01, -8.82501442e-02, -8.15528169e-02,\n",
       "        -2.95716995e-02, -2.36612170e-03,  1.44025084e-02,\n",
       "         1.09627186e-02, -2.55665507e-04],\n",
       "       [ 1.46714760e-01,  8.59165920e-02,  1.33992421e-02,\n",
       "        -1.27283749e-02, -3.17401656e-01, -2.04361055e-01,\n",
       "        -7.20310682e-03, -1.33309508e-01,  4.85086539e-01,\n",
       "         6.27656240e-01,  3.24269758e-01,  2.17869009e-01,\n",
       "         1.65989281e-01,  1.93047114e-02,  1.53010010e-02,\n",
       "         1.95579444e-02,  4.13652876e-04],\n",
       "       [-2.31937899e-02,  7.94699108e-02, -2.68145465e-01,\n",
       "         4.90458700e-01, -1.23511613e-01, -9.66473549e-02,\n",
       "         4.70707389e-02, -3.68730639e-02,  5.40720296e-01,\n",
       "        -2.58462327e-01, -7.37623175e-02, -5.24431174e-01,\n",
       "        -1.10585748e-01, -7.13389992e-03, -2.26890044e-02,\n",
       "        -8.85536218e-03,  5.39229301e-04],\n",
       "       [ 4.24394723e-02,  1.20203221e-01, -1.54716288e-01,\n",
       "         7.71661461e-01, -5.36390411e-02,  1.23406138e-02,\n",
       "        -1.26838269e-01,  6.68503978e-02, -2.87932282e-01,\n",
       "         8.48733119e-02, -1.34901945e-01,  4.69976609e-01,\n",
       "         8.95319577e-02,  2.02227427e-02,  4.58132522e-02,\n",
       "         3.24997819e-02, -3.61876493e-04],\n",
       "       [ 2.96766663e-01,  7.69871333e-01, -3.76503070e-01,\n",
       "        -2.91730958e-01, -1.47279427e-01, -1.13617731e-01,\n",
       "        -2.25267760e-02, -2.15419511e-02, -1.24809502e-01,\n",
       "        -1.21705147e-01, -1.16024121e-01,  4.81558824e-02,\n",
       "        -1.01625869e-01, -4.90814194e-04, -1.39258180e-02,\n",
       "        -1.01139736e-02,  1.25877486e-04],\n",
       "       [-3.16360369e-02, -1.20250619e-01,  1.74231844e-03,\n",
       "        -1.76279482e-01,  9.50091419e-03,  3.33697268e-03,\n",
       "         8.68567363e-02, -2.67372780e-02,  4.25438311e-01,\n",
       "        -6.24047049e-02, -7.77303434e-01,  3.84815612e-01,\n",
       "         8.83001872e-02, -4.16216640e-03, -1.01552175e-02,\n",
       "         2.79424695e-03, -3.31939974e-04],\n",
       "       [ 1.18602511e-02,  7.63541859e-02, -3.05684171e-02,\n",
       "        -3.42340560e-02,  3.84962357e-02,  6.73828155e-03,\n",
       "        -1.82627278e-01, -1.58095853e-02, -4.61152503e-02,\n",
       "        -1.16661212e-01, -3.85213558e-02, -2.14447328e-01,\n",
       "         9.45252131e-01, -2.96354216e-03, -7.71275058e-03,\n",
       "        -3.81396301e-03,  7.29164769e-04],\n",
       "       [-2.33277975e-02, -1.98194831e-02,  2.44866114e-02,\n",
       "         5.19076743e-02, -2.69095800e-01, -1.41278966e-01,\n",
       "         9.08539193e-01,  4.40855267e-02, -1.68331572e-01,\n",
       "        -1.06552502e-01,  4.37671681e-02,  3.67452700e-02,\n",
       "         1.81499777e-01, -8.64402094e-03, -5.48124279e-03,\n",
       "         2.82328855e-03,  2.62541216e-04],\n",
       "       [-2.93463335e-02,  6.21123012e-02,  3.81773564e-02,\n",
       "         5.36327316e-02, -3.06749651e-03, -4.49874702e-03,\n",
       "         7.02328885e-02,  4.16290479e-02, -2.85368328e-01,\n",
       "         6.56227680e-01, -4.73512255e-01, -4.93681556e-01,\n",
       "        -5.13566088e-02,  6.59317415e-03,  7.06390522e-03,\n",
       "        -3.89250806e-02, -6.10546471e-04],\n",
       "       [-3.98720312e-03, -1.52504056e-01, -2.10617430e-02,\n",
       "        -1.04041552e-01, -6.72830040e-01,  2.06835884e-01,\n",
       "        -2.00917825e-01,  6.46383815e-01, -2.40525425e-02,\n",
       "        -6.56007201e-02, -3.44513289e-02, -3.93072080e-02,\n",
       "        -1.33926759e-02,  3.91089700e-02,  4.20775745e-02,\n",
       "        -2.65250026e-02, -3.39517088e-04],\n",
       "       [ 1.95432907e-02,  3.17150810e-03, -1.58986255e-02,\n",
       "         7.61839755e-05,  4.52019686e-02,  1.38430640e-02,\n",
       "         2.50034026e-02, -2.29914606e-02,  2.91703675e-02,\n",
       "        -1.42876919e-02,  1.64611162e-02,  1.45135264e-02,\n",
       "         7.73733643e-03,  2.03827295e-02,  6.75805682e-01,\n",
       "        -7.32967200e-01,  6.21031877e-04],\n",
       "       [ 6.94681312e-01, -4.88590441e-01, -4.30432307e-01,\n",
       "        -5.01388559e-02,  4.41495296e-02,  4.57860913e-02,\n",
       "         3.28235001e-02, -8.94551282e-02, -9.31108668e-02,\n",
       "         2.58641838e-02, -1.48587224e-02, -5.48765647e-02,\n",
       "         4.51290948e-03, -1.60298841e-01,  1.34007184e-01,\n",
       "         1.46769354e-01,  4.11631832e-04],\n",
       "       [ 1.92211159e-01, -1.28541618e-01, -9.99423835e-02,\n",
       "         9.37061659e-03,  3.38611461e-02,  9.85520830e-03,\n",
       "         1.53929988e-02, -1.87946834e-02, -2.45855700e-02,\n",
       "         5.04271803e-03,  8.42141619e-03,  1.53447531e-02,\n",
       "         5.62693793e-03,  6.80579910e-01, -5.18251512e-01,\n",
       "        -4.49304847e-01,  2.30984109e-03],\n",
       "       [ 3.04495676e-02, -7.64729467e-02, -2.68172100e-02,\n",
       "        -2.29834792e-02,  3.05266830e-01, -7.83427967e-01,\n",
       "        -5.53930451e-02,  5.30403101e-01,  8.38575417e-03,\n",
       "         1.72382546e-04,  4.75051655e-03,  1.72965210e-02,\n",
       "        -2.69114603e-05, -1.20354970e-02,  8.24369037e-03,\n",
       "        -5.39221466e-03, -5.26839627e-04],\n",
       "       [-2.91569012e-02,  1.73445136e-02,  2.02885786e-03,\n",
       "        -3.18313860e-02,  2.99743963e-02, -1.53723508e-02,\n",
       "         1.94828270e-02, -2.03591207e-02,  9.78715673e-03,\n",
       "        -2.36386311e-02, -1.41645180e-02, -4.28593542e-02,\n",
       "        -4.26645933e-03,  7.12688548e-01,  5.01202315e-01,\n",
       "         4.83674977e-01, -1.10587597e-02],\n",
       "       [-1.09473512e-03,  2.69873401e-04,  8.59689871e-04,\n",
       "        -3.48604441e-04, -4.86427839e-05, -8.22097132e-04,\n",
       "        -2.70492720e-04,  4.87819783e-05, -5.66241183e-04,\n",
       "        -6.73517035e-05, -9.82113053e-04, -2.23595817e-04,\n",
       "        -8.35685224e-04,  6.38747236e-03,  6.33124824e-03,\n",
       "         6.72983549e-03,  9.99934448e-01]])"
      ]
     },
     "execution_count": 221,
     "metadata": {},
     "output_type": "execute_result"
    }
   ],
   "source": [
    "pca.components_"
   ]
  },
  {
   "cell_type": "code",
   "execution_count": 222,
   "metadata": {
    "id": "zSysT-HCFEzm",
    "outputId": "b497d0c4-9871-40af-d0ba-4aec50d47fe6"
   },
   "outputs": [
    {
     "data": {
      "text/plain": [
       "array([0.20822016, 0.16223193, 0.10041797, 0.07730053, 0.07214821,\n",
       "       0.06897978, 0.06083316, 0.05507867, 0.05242754, 0.03845842,\n",
       "       0.02664278, 0.02293903, 0.01818534, 0.0168643 , 0.01129449,\n",
       "       0.0077196 , 0.00025808])"
      ]
     },
     "execution_count": 222,
     "metadata": {},
     "output_type": "execute_result"
    }
   ],
   "source": [
    "pca.explained_variance_ratio_"
   ]
  },
  {
   "cell_type": "code",
   "execution_count": 223,
   "metadata": {
    "id": "oVSBKu42FEzn"
   },
   "outputs": [],
   "source": [
    "var_cumu = np.cumsum(pca.explained_variance_ratio_)"
   ]
  },
  {
   "cell_type": "code",
   "execution_count": 224,
   "metadata": {
    "id": "zrkw_2hOFEzn",
    "outputId": "57d7bf6d-1269-4bd5-d487-357a9498282e"
   },
   "outputs": [
    {
     "data": {
      "text/plain": [
       "[<matplotlib.lines.Line2D at 0x7fbbc074f6d0>]"
      ]
     },
     "execution_count": 224,
     "metadata": {},
     "output_type": "execute_result"
    },
    {
     "data": {
      "image/png": "[encoded data removed]",
      "text/plain": [
       "<Figure size 432x288 with 1 Axes>"
      ]
     },
     "metadata": {
      "needs_background": "light"
     },
     "output_type": "display_data"
    }
   ],
   "source": [
    "plt.plot(range(1,len(var_cumu)+1), var_cumu)"
   ]
  },
  {
   "cell_type": "markdown",
   "metadata": {},
   "source": [
    "<b><font color='red'>[Observation]:</b> 60 features are explaining 90% variation in target variable"
   ]
  },
  {
   "cell_type": "code",
   "execution_count": 225,
   "metadata": {
    "id": "4o9HUhJTFEzn"
   },
   "outputs": [],
   "source": [
    "pc2 = PCA(n_components=60, random_state=42)"
   ]
  },
  {
   "cell_type": "code",
   "execution_count": 226,
   "metadata": {
    "id": "rApq8_dLFEzn"
   },
   "outputs": [],
   "source": [
    "X_train_pca = pc2.fit_transform(X_train)"
   ]
  },
  {
   "cell_type": "code",
   "execution_count": 227,
   "metadata": {
    "id": "6FM3B6H4FEzn"
   },
   "outputs": [],
   "source": [
    "X_test_pca = pc2.transform(X_test)"
   ]
  },
  {
   "cell_type": "code",
   "execution_count": 228,
   "metadata": {
    "id": "qLSFeiRfFEzn",
    "outputId": "a50cf47c-a7e3-4ff6-eebb-2ad17cdfe15e"
   },
   "outputs": [
    {
     "data": {
      "text/plain": [
       "(38478, 14)"
      ]
     },
     "execution_count": 228,
     "metadata": {},
     "output_type": "execute_result"
    }
   ],
   "source": [
    "X_train_pca.shape"
   ]
  },
  {
   "cell_type": "markdown",
   "metadata": {},
   "source": [
    "### PCA with Logistic Regression"
   ]
  },
  {
   "cell_type": "code",
   "execution_count": 316,
   "metadata": {
    "id": "tG84E6aXFEzn",
    "outputId": "ede14c41-767c-41c5-c389-a2f7ed2258d5"
   },
   "outputs": [
    {
     "name": "stdout",
     "output_type": "stream",
     "text": [
      "Logistic regression accuracy\n",
      "[[6442 1839]\n",
      " [ 111  594]]\n"
     ]
    },
    {
     "data": {
      "text/html": [
       "<div>\n",
       "<style scoped>\n",
       "    .dataframe tbody tr th:only-of-type {\n",
       "        vertical-align: middle;\n",
       "    }\n",
       "\n",
       "    .dataframe tbody tr th {\n",
       "        vertical-align: top;\n",
       "    }\n",
       "\n",
       "    .dataframe thead th {\n",
       "        text-align: right;\n",
       "    }\n",
       "</style>\n",
       "<table border=\"1\" class=\"dataframe\">\n",
       "  <thead>\n",
       "    <tr style=\"text-align: right;\">\n",
       "      <th></th>\n",
       "      <th>Accuracy</th>\n",
       "      <th>Recall</th>\n",
       "      <th>AUC</th>\n",
       "      <th>F1</th>\n",
       "    </tr>\n",
       "  </thead>\n",
       "  <tbody>\n",
       "    <tr>\n",
       "      <th>0</th>\n",
       "      <td>0.78</td>\n",
       "      <td>0.84</td>\n",
       "      <td>0.81</td>\n",
       "      <td>0.38</td>\n",
       "    </tr>\n",
       "  </tbody>\n",
       "</table>\n",
       "</div>"
      ],
      "text/plain": [
       "   Accuracy  Recall   AUC    F1\n",
       "0      0.78    0.84  0.81  0.38"
      ]
     },
     "metadata": {},
     "output_type": "display_data"
    }
   ],
   "source": [
    "lr = LogisticRegression()\n",
    "model = lr.fit(X_train_pca ,y_train)\n",
    "#Making prediction on the test data\n",
    "pred_probs_test = model.predict_proba(X_test_pca )[:,1]\n",
    "print(\"Logistic regression accuracy\".format(metrics.roc_auc_score(y_test, pred_probs_test)))\n",
    "y_pred = lr.predict(X_test_pca )\n",
    "model_attr(y_test,y_pred)"
   ]
  },
  {
   "cell_type": "code",
   "execution_count": 231,
   "metadata": {
    "id": "vXdlyCqaFEzn",
    "outputId": "84015dde-e7da-4bc6-fa11-c73bd7577693"
   },
   "outputs": [
    {
     "name": "stdout",
     "output_type": "stream",
     "text": [
      "     prob  accuracy     sensi     speci\n",
      "0.0   0.0  0.078455  1.000000  0.000000\n",
      "0.1   0.1  0.457378  0.944681  0.415892\n",
      "0.2   0.2  0.566548  0.923404  0.536167\n",
      "0.3   0.3  0.647897  0.896454  0.626736\n",
      "0.4   0.4  0.717561  0.872340  0.704384\n",
      "0.5   0.5  0.782996  0.842553  0.777925\n",
      "0.6   0.6  0.838860  0.800000  0.842169\n",
      "0.7   0.7  0.886268  0.706383  0.901582\n",
      "0.8   0.8  0.920320  0.507801  0.955440\n",
      "0.9   0.9  0.926441  0.126241  0.994566\n"
     ]
    }
   ],
   "source": [
    "# Let's create columns with different probability cutoffs \n",
    "numbers = [float(x)/10 for x in range(10)]\n",
    "y_train_pred_final = pd.DataFrame([])\n",
    "for i in numbers:\n",
    "    y_train_pred_final[i]= pd.Series(y_pred_proba).map(lambda x: 1 if x > i else 0)\n",
    "# Now let's calculate accuracy sensitivity and specificity for various probability cutoffs.\n",
    "cutoff_df = pd.DataFrame( columns = ['prob','accuracy','sensi','speci'])\n",
    "from sklearn.metrics import confusion_matrix\n",
    "\n",
    "# TP = confusion[1,1] # true positive \n",
    "# TN = confusion[0,0] # true negatives\n",
    "# FP = confusion[0,1] # false positives\n",
    "# FN = confusion[1,0] # false negatives\n",
    "\n",
    "num = [0.0,0.1,0.2,0.3,0.4,0.5,0.6,0.7,0.8,0.9]\n",
    "for i in num:\n",
    "    cm1 = metrics.confusion_matrix(y_test, y_train_pred_final[i] )\n",
    "    total1=sum(sum(cm1))\n",
    "    accuracy = (cm1[0,0]+cm1[1,1])/total1\n",
    "    \n",
    "    speci = cm1[0,0]/(cm1[0,0]+cm1[0,1])\n",
    "    sensi = cm1[1,1]/(cm1[1,0]+cm1[1,1])\n",
    "    cutoff_df.loc[i] =[ i ,accuracy,sensi,speci]\n",
    "print(cutoff_df)"
   ]
  },
  {
   "cell_type": "markdown",
   "metadata": {
    "id": "Wo1ch2luFEzn"
   },
   "source": [
    "### 3) Random forest classifier (default)\n",
    "we will use PCA for non interpretable models."
   ]
  },
  {
   "cell_type": "code",
   "execution_count": 232,
   "metadata": {
    "id": "dUyG5pUoFEzo",
    "outputId": "a58cd4b7-b9a1-4aaf-dfb8-13a8ee752e43"
   },
   "outputs": [
    {
     "data": {
      "text/plain": [
       "RandomForestClassifier()"
      ]
     },
     "execution_count": 232,
     "metadata": {},
     "output_type": "execute_result"
    }
   ],
   "source": [
    "#for non interpretable models we will use X_train_pca to achieve highest performance\n",
    "rfc = RandomForestClassifier()\n",
    "rfc.fit(X_train_pca,y_train)"
   ]
  },
  {
   "cell_type": "code",
   "execution_count": 233,
   "metadata": {
    "id": "3JLyrT_FFEzo"
   },
   "outputs": [],
   "source": [
    "y_pred = rfc.predict(X_test_pca)"
   ]
  },
  {
   "cell_type": "code",
   "execution_count": 234,
   "metadata": {
    "id": "Rj31_tp_FEzo",
    "outputId": "061d718e-762d-4aad-88a1-4fd56ced84ff"
   },
   "outputs": [
    {
     "name": "stdout",
     "output_type": "stream",
     "text": [
      "[[7686  595]\n",
      " [ 261  444]]\n"
     ]
    }
   ],
   "source": [
    "confusion = metrics.confusion_matrix(y_test, y_pred )\n",
    "print(confusion)"
   ]
  },
  {
   "cell_type": "code",
   "execution_count": 235,
   "metadata": {
    "id": "JsxZVl6-FEzo",
    "outputId": "1e24015c-0c16-432c-b1df-5567373b1fc6"
   },
   "outputs": [
    {
     "name": "stdout",
     "output_type": "stream",
     "text": [
      "[[7686  595]\n",
      " [ 261  444]]\n"
     ]
    },
    {
     "data": {
      "text/html": [
       "<div>\n",
       "<style scoped>\n",
       "    .dataframe tbody tr th:only-of-type {\n",
       "        vertical-align: middle;\n",
       "    }\n",
       "\n",
       "    .dataframe tbody tr th {\n",
       "        vertical-align: top;\n",
       "    }\n",
       "\n",
       "    .dataframe thead th {\n",
       "        text-align: right;\n",
       "    }\n",
       "</style>\n",
       "<table border=\"1\" class=\"dataframe\">\n",
       "  <thead>\n",
       "    <tr style=\"text-align: right;\">\n",
       "      <th></th>\n",
       "      <th>Accuracy</th>\n",
       "      <th>Precision</th>\n",
       "      <th>Recall</th>\n",
       "      <th>AUC</th>\n",
       "      <th>F1</th>\n",
       "    </tr>\n",
       "  </thead>\n",
       "  <tbody>\n",
       "    <tr>\n",
       "      <th>0</th>\n",
       "      <td>0.9</td>\n",
       "      <td>0.43</td>\n",
       "      <td>0.63</td>\n",
       "      <td>0.78</td>\n",
       "      <td>0.51</td>\n",
       "    </tr>\n",
       "  </tbody>\n",
       "</table>\n",
       "</div>"
      ],
      "text/plain": [
       "   Accuracy  Precision  Recall   AUC    F1\n",
       "0       0.9       0.43    0.63  0.78  0.51"
      ]
     },
     "metadata": {},
     "output_type": "display_data"
    }
   ],
   "source": [
    "model_attr(y_test, y_pred)"
   ]
  },
  {
   "cell_type": "code",
   "execution_count": 236,
   "metadata": {
    "id": "zzW6G72NFEzo"
   },
   "outputs": [],
   "source": [
    "#utility for tunning random forest\n",
    "def random_tunning(parameters,X_train,y_train,n_folds = 5,max_depth=0):\n",
    "    \n",
    "\n",
    "    rf = RandomForestClassifier(max_depth=max_depth)\n",
    "    \n",
    "    rf = GridSearchCV(rf, parameters, cv=n_folds,n_jobs = -1, scoring=\"accuracy\",return_train_score=True)\n",
    "    rf.fit(X_train, y_train)\n",
    "    scores = rf.cv_results_\n",
    "\n",
    "    for key in parameters.keys():\n",
    "        hyperparameters = key\n",
    "        break\n",
    "\n",
    "    # plotting accuracies for parameters\n",
    "    plt.figure(figsize=(16,5))\n",
    "    plt.plot(scores[\"param_\"+hyperparameters], scores[\"mean_train_score\"], label=\"Train_precision\")\n",
    "    plt.plot(scores[\"param_\"+hyperparameters], scores[\"mean_test_score\"], label=\"Test_precision\")\n",
    "    plt.xlabel(hyperparameters)\n",
    "    plt.ylabel(\"Accuracy\")\n",
    "    plt.legend()\n",
    "    plt.show()"
   ]
  },
  {
   "cell_type": "code",
   "execution_count": 237,
   "metadata": {
    "id": "DJDuXOcTFEzo",
    "outputId": "5c701d8f-f711-4b95-9c8b-b30183fdd35e"
   },
   "outputs": [
    {
     "data": {
      "image/png": "[encoded data removed]",
      "text/plain": [
       "<Figure size 1152x360 with 1 Axes>"
      ]
     },
     "metadata": {
      "needs_background": "light"
     },
     "output_type": "display_data"
    }
   ],
   "source": [
    "# parameters to build the model on\n",
    "parameters = {'max_depth': range(2, 25, 5)}\n",
    "random_tunning(parameters,X_train_pca,y_train)"
   ]
  },
  {
   "cell_type": "markdown",
   "metadata": {
    "id": "FhQ9R6LhFEzo"
   },
   "source": [
    "<b><font color='red'>[Observation]:</b> For max depth 15 we can obtain max precision."
   ]
  },
  {
   "cell_type": "code",
   "execution_count": 238,
   "metadata": {
    "id": "z4zjowdPFEzo",
    "outputId": "0395da34-9cc6-4b4b-d989-3462f13cfe94"
   },
   "outputs": [
    {
     "data": {
      "image/png": "[encoded data removed]",
      "text/plain": [
       "<Figure size 1152x360 with 1 Axes>"
      ]
     },
     "metadata": {
      "needs_background": "light"
     },
     "output_type": "display_data"
    }
   ],
   "source": [
    "# parameters to build the model on\n",
    "parameters = {'n_estimators': range(100, 300, 100)}\n",
    "random_tunning(parameters,X_train_pca,y_train,5,16)"
   ]
  },
  {
   "cell_type": "markdown",
   "metadata": {},
   "source": [
    "<b><font color='red'>[Observation]:</b> We can see that accuracy is maintaing across all values."
   ]
  },
  {
   "cell_type": "code",
   "execution_count": 239,
   "metadata": {
    "id": "nzUs8JqxFEzo",
    "outputId": "179afa65-086b-43a3-b566-def29c06be5b"
   },
   "outputs": [
    {
     "data": {
      "image/png": "[encoded data removed]",
      "text/plain": [
       "<Figure size 1152x360 with 1 Axes>"
      ]
     },
     "metadata": {
      "needs_background": "light"
     },
     "output_type": "display_data"
    }
   ],
   "source": [
    "# parameters to build the model on\n",
    "parameters = {'max_features': [3,5,8,11,14]}\n",
    "random_tunning(parameters,X_train_pca,y_train,5,16)"
   ]
  },
  {
   "cell_type": "markdown",
   "metadata": {},
   "source": [
    "<b><font color='red'>[Observation]:</b> "
   ]
  },
  {
   "cell_type": "code",
   "execution_count": 240,
   "metadata": {
    "id": "5bbJCWGhFEzp",
    "outputId": "a89a3f13-bf6a-4324-fe28-22dda1a3d877"
   },
   "outputs": [
    {
     "data": {
      "image/png": "[encoded data removed]",
      "text/plain": [
       "<Figure size 1152x360 with 1 Axes>"
      ]
     },
     "metadata": {
      "needs_background": "light"
     },
     "output_type": "display_data"
    }
   ],
   "source": [
    "# parameters to build the model on\n",
    "parameters = {'min_samples_leaf': range(1, 50, 10)}\n",
    "random_tunning(parameters,X_train_pca,y_train,5,16)"
   ]
  },
  {
   "cell_type": "markdown",
   "metadata": {},
   "source": [
    "<b><font color='red'>[Observation]:</b> For max depth 15 we can obtain max precision."
   ]
  },
  {
   "cell_type": "code",
   "execution_count": 241,
   "metadata": {
    "id": "KKAtePVEFEzp",
    "outputId": "e07b4e2d-a661-4cef-d1ba-11e5be6b9e02"
   },
   "outputs": [
    {
     "data": {
      "image/png": "[encoded data removed]",
      "text/plain": [
       "<Figure size 1152x360 with 1 Axes>"
      ]
     },
     "metadata": {
      "needs_background": "light"
     },
     "output_type": "display_data"
    }
   ],
   "source": [
    "# parameters to build the model on\n",
    "parameters = {'min_samples_split': range(10, 100, 10)}\n",
    "random_tunning(parameters,X_train_pca,y_train,5,16)"
   ]
  },
  {
   "cell_type": "markdown",
   "metadata": {},
   "source": [
    "<b><font color='red'>[Observation]:</b> For max depth 15 we can obtain max precision."
   ]
  },
  {
   "cell_type": "markdown",
   "metadata": {},
   "source": [
    "4) Random forest classifier (tuned)"
   ]
  },
  {
   "cell_type": "code",
   "execution_count": 248,
   "metadata": {
    "id": "XLz3Y88MFEzp",
    "outputId": "b35d63c0-7a2e-432e-ebf3-8f1b328dbb3a"
   },
   "outputs": [
    {
     "data": {
      "text/plain": [
       "RandomForestClassifier(max_depth=16, max_features=14, min_samples_leaf=7,\n",
       "                       min_samples_split=15, n_estimators=200, n_jobs=-1)"
      ]
     },
     "execution_count": 248,
     "metadata": {},
     "output_type": "execute_result"
    }
   ],
   "source": [
    "rfc = RandomForestClassifier(max_depth=18,\n",
    "                             max_features=50,\n",
    "                             min_samples_leaf=10,\n",
    "                             min_samples_split=20,\n",
    "                             n_estimators=200,\n",
    "                             n_jobs = -1)\n",
    "rfc.fit(X_train_pca,y_train)"
   ]
  },
  {
   "cell_type": "code",
   "execution_count": 249,
   "metadata": {
    "id": "yNujK6EeFEzp",
    "outputId": "ac5abf2c-296a-41b8-aa3b-50519ea6361d"
   },
   "outputs": [
    {
     "name": "stdout",
     "output_type": "stream",
     "text": [
      "[[7527  754]\n",
      " [ 242  463]]\n"
     ]
    },
    {
     "data": {
      "text/html": [
       "<div>\n",
       "<style scoped>\n",
       "    .dataframe tbody tr th:only-of-type {\n",
       "        vertical-align: middle;\n",
       "    }\n",
       "\n",
       "    .dataframe tbody tr th {\n",
       "        vertical-align: top;\n",
       "    }\n",
       "\n",
       "    .dataframe thead th {\n",
       "        text-align: right;\n",
       "    }\n",
       "</style>\n",
       "<table border=\"1\" class=\"dataframe\">\n",
       "  <thead>\n",
       "    <tr style=\"text-align: right;\">\n",
       "      <th></th>\n",
       "      <th>Accuracy</th>\n",
       "      <th>Precision</th>\n",
       "      <th>Recall</th>\n",
       "      <th>AUC</th>\n",
       "      <th>F1</th>\n",
       "    </tr>\n",
       "  </thead>\n",
       "  <tbody>\n",
       "    <tr>\n",
       "      <th>0</th>\n",
       "      <td>0.89</td>\n",
       "      <td>0.38</td>\n",
       "      <td>0.66</td>\n",
       "      <td>0.78</td>\n",
       "      <td>0.48</td>\n",
       "    </tr>\n",
       "  </tbody>\n",
       "</table>\n",
       "</div>"
      ],
      "text/plain": [
       "   Accuracy  Precision  Recall   AUC    F1\n",
       "0      0.89       0.38    0.66  0.78  0.48"
      ]
     },
     "metadata": {},
     "output_type": "display_data"
    }
   ],
   "source": [
    "y_pred = rfc.predict(X_test_pca)\n",
    "model_attr(y_test, y_pred)"
   ]
  },
  {
   "cell_type": "markdown",
   "metadata": {},
   "source": [
    "### 5) XGBoosting (Default)"
   ]
  },
  {
   "cell_type": "code",
   "execution_count": 250,
   "metadata": {
    "id": "BNyXMcjWFEzp",
    "outputId": "9ce8c605-f857-4216-de8a-8e67cf5d3289"
   },
   "outputs": [
    {
     "data": {
      "text/plain": [
       "XGBClassifier(base_score=0.5, booster='gbtree', colsample_bylevel=1,\n",
       "              colsample_bynode=1, colsample_bytree=1, gamma=0, gpu_id=-1,\n",
       "              importance_type='gain', interaction_constraints='',\n",
       "              learning_rate=0.300000012, max_delta_step=0, max_depth=6,\n",
       "              min_child_weight=1, missing=nan, monotone_constraints='()',\n",
       "              n_estimators=100, n_jobs=0, num_parallel_tree=1, random_state=0,\n",
       "              reg_alpha=0, reg_lambda=1, scale_pos_weight=1, subsample=1,\n",
       "              tree_method='exact', validate_parameters=1, verbosity=None)"
      ]
     },
     "execution_count": 250,
     "metadata": {},
     "output_type": "execute_result"
    }
   ],
   "source": [
    "### XGBoosting\n",
    "model = XGBClassifier()\n",
    "model.fit(X_train_pca, y_train)"
   ]
  },
  {
   "cell_type": "code",
   "execution_count": 251,
   "metadata": {
    "id": "RdUHs3F1bMMm",
    "outputId": "658449e6-a43c-4a44-9473-76eb06726d83"
   },
   "outputs": [
    {
     "name": "stdout",
     "output_type": "stream",
     "text": [
      "[[7471  810]\n",
      " [ 230  475]]\n"
     ]
    },
    {
     "data": {
      "text/html": [
       "<div>\n",
       "<style scoped>\n",
       "    .dataframe tbody tr th:only-of-type {\n",
       "        vertical-align: middle;\n",
       "    }\n",
       "\n",
       "    .dataframe tbody tr th {\n",
       "        vertical-align: top;\n",
       "    }\n",
       "\n",
       "    .dataframe thead th {\n",
       "        text-align: right;\n",
       "    }\n",
       "</style>\n",
       "<table border=\"1\" class=\"dataframe\">\n",
       "  <thead>\n",
       "    <tr style=\"text-align: right;\">\n",
       "      <th></th>\n",
       "      <th>Accuracy</th>\n",
       "      <th>Precision</th>\n",
       "      <th>Recall</th>\n",
       "      <th>AUC</th>\n",
       "      <th>F1</th>\n",
       "    </tr>\n",
       "  </thead>\n",
       "  <tbody>\n",
       "    <tr>\n",
       "      <th>0</th>\n",
       "      <td>0.88</td>\n",
       "      <td>0.37</td>\n",
       "      <td>0.67</td>\n",
       "      <td>0.79</td>\n",
       "      <td>0.48</td>\n",
       "    </tr>\n",
       "  </tbody>\n",
       "</table>\n",
       "</div>"
      ],
      "text/plain": [
       "   Accuracy  Precision  Recall   AUC    F1\n",
       "0      0.88       0.37    0.67  0.79  0.48"
      ]
     },
     "metadata": {},
     "output_type": "display_data"
    }
   ],
   "source": [
    "y_pred = model.predict(X_test_pca)\n",
    "model_attr(y_test, y_pred)"
   ]
  },
  {
   "cell_type": "markdown",
   "metadata": {},
   "source": [
    " 6) XGBoosting (tuned)"
   ]
  },
  {
   "cell_type": "code",
   "execution_count": 253,
   "metadata": {
    "id": "U7VG1WbxbM3g"
   },
   "outputs": [],
   "source": [
    "folds = 5\n",
    "\n",
    "# specify range of hyperparameters\n",
    "param_grid = {'learning_rate': [0.1,0.2,0.3], \n",
    "             'subsample': [0.3,0.4,0.5]}          \n",
    "\n",
    "\n",
    "# specify model\n",
    "xgb_model = XGBClassifier(max_depth=2, n_estimators=200)\n",
    "\n",
    "# set up GridSearchCV()\n",
    "model_cv = GridSearchCV(estimator = xgb_model, \n",
    "                        param_grid = param_grid, \n",
    "                        scoring= 'accuracy', # accuracy\n",
    "                        cv = folds, \n",
    "                        n_jobs = -1,\n",
    "                        verbose = 1,\n",
    "                        return_train_score=True)   "
   ]
  },
  {
   "cell_type": "code",
   "execution_count": 254,
   "metadata": {
    "id": "t7NKzZkIbNYB",
    "outputId": "8dc20609-ad23-434d-e793-14f90abb45d4"
   },
   "outputs": [
    {
     "name": "stdout",
     "output_type": "stream",
     "text": [
      "Fitting 5 folds for each of 9 candidates, totalling 45 fits\n"
     ]
    },
    {
     "name": "stderr",
     "output_type": "stream",
     "text": [
      "[Parallel(n_jobs=-1)]: Using backend LokyBackend with 2 concurrent workers.\n",
      "[Parallel(n_jobs=-1)]: Done  45 out of  45 | elapsed:  2.4min finished\n"
     ]
    },
    {
     "data": {
      "text/plain": [
       "GridSearchCV(cv=5,\n",
       "             estimator=XGBClassifier(base_score=None, booster=None,\n",
       "                                     colsample_bylevel=None,\n",
       "                                     colsample_bynode=None,\n",
       "                                     colsample_bytree=None, gamma=None,\n",
       "                                     gpu_id=None, importance_type='gain',\n",
       "                                     interaction_constraints=None,\n",
       "                                     learning_rate=None, max_delta_step=None,\n",
       "                                     max_depth=2, min_child_weight=None,\n",
       "                                     missing=nan, monotone_constraints=None,\n",
       "                                     n_estimators=200, n_jobs=None,\n",
       "                                     num_parallel_tree=None, random_state=None,\n",
       "                                     reg_alpha=None, reg_lambda=None,\n",
       "                                     scale_pos_weight=None, subsample=None,\n",
       "                                     tree_method=None, validate_parameters=None,\n",
       "                                     verbosity=None),\n",
       "             n_jobs=-1,\n",
       "             param_grid={'learning_rate': [0.1, 0.2, 0.3],\n",
       "                         'subsample': [0.3, 0.4, 0.5]},\n",
       "             return_train_score=True, scoring='accuracy', verbose=1)"
      ]
     },
     "execution_count": 254,
     "metadata": {},
     "output_type": "execute_result"
    }
   ],
   "source": [
    "model_cv.fit(X_train_pca, y_train) "
   ]
  },
  {
   "cell_type": "code",
   "execution_count": 255,
   "metadata": {
    "id": "0IKSp-3ubMKv",
    "outputId": "d96156fd-efcd-4b35-abc4-6fccc2cc82da"
   },
   "outputs": [
    {
     "name": "stdout",
     "output_type": "stream",
     "text": [
      "Best scores for model are0.88** using {'learning_rate': 0.3, 'subsample': 0.5}\n"
     ]
    }
   ],
   "source": [
    "print('Best scores for model are'+str(round(model_cv.best_score_,2))+'** using '+str(model_cv.best_params_))"
   ]
  },
  {
   "cell_type": "code",
   "execution_count": 256,
   "metadata": {
    "id": "lugq-1QVcb75",
    "outputId": "1f50107d-8cd7-439e-9a38-b3203f488512"
   },
   "outputs": [
    {
     "name": "stdout",
     "output_type": "stream",
     "text": [
      "[06:25:54] WARNING: ../src/learner.cc:516: \n",
      "Parameters: { params } might not be used.\n",
      "\n",
      "  This may not be accurate due to some parameters are only used in language bindings but\n",
      "  passed down to XGBoost core.  Or some parameters are not used but slip through this\n",
      "  verification. Please open an issue if you find above cases.\n",
      "\n",
      "\n"
     ]
    },
    {
     "data": {
      "text/plain": [
       "XGBClassifier(base_score=0.5, booster='gbtree', colsample_bylevel=1,\n",
       "              colsample_bynode=1, colsample_bytree=1, gamma=0, gpu_id=-1,\n",
       "              importance_type='gain', interaction_constraints='',\n",
       "              learning_rate=0.300000012, max_delta_step=0, max_depth=2,\n",
       "              min_child_weight=1, missing=nan, monotone_constraints='()',\n",
       "              n_estimators=200, n_jobs=0, num_parallel_tree=1,\n",
       "              params={'learning_rate': 0.3, 'max_depth': 2, 'n_estimators': 200,\n",
       "                      'objective': 'binary:logistic', 'subsample': 0.5},\n",
       "              random_state=0, reg_alpha=0, reg_lambda=1, scale_pos_weight=1,\n",
       "              subsample=1, tree_method='exact', validate_parameters=1,\n",
       "              verbosity=None)"
      ]
     },
     "execution_count": 256,
     "metadata": {},
     "output_type": "execute_result"
    }
   ],
   "source": [
    "params = {'learning_rate': 0.3,\n",
    "          'max_depth': 2, \n",
    "          'n_estimators':200,\n",
    "          'subsample':0.5,\n",
    "         'objective':'binary:logistic'}\n",
    "\n",
    "# fit model on training data\n",
    "model = XGBClassifier(params = params,max_depth=2, n_estimators=200)\n",
    "model.fit(X_train_pca, y_train)"
   ]
  },
  {
   "cell_type": "code",
   "execution_count": 257,
   "metadata": {
    "id": "_QnlZRDncpdZ"
   },
   "outputs": [],
   "source": [
    "# predict\n",
    "y_pred = model.predict(X_test_pca)"
   ]
  },
  {
   "cell_type": "code",
   "execution_count": 258,
   "metadata": {
    "id": "zq7qkpnbcv4R",
    "outputId": "13bc97c2-7967-40d9-e996-5373f826c865"
   },
   "outputs": [
    {
     "name": "stdout",
     "output_type": "stream",
     "text": [
      "[[7287  994]\n",
      " [ 202  503]]\n"
     ]
    },
    {
     "data": {
      "text/html": [
       "<div>\n",
       "<style scoped>\n",
       "    .dataframe tbody tr th:only-of-type {\n",
       "        vertical-align: middle;\n",
       "    }\n",
       "\n",
       "    .dataframe tbody tr th {\n",
       "        vertical-align: top;\n",
       "    }\n",
       "\n",
       "    .dataframe thead th {\n",
       "        text-align: right;\n",
       "    }\n",
       "</style>\n",
       "<table border=\"1\" class=\"dataframe\">\n",
       "  <thead>\n",
       "    <tr style=\"text-align: right;\">\n",
       "      <th></th>\n",
       "      <th>Accuracy</th>\n",
       "      <th>Precision</th>\n",
       "      <th>Recall</th>\n",
       "      <th>AUC</th>\n",
       "      <th>F1</th>\n",
       "    </tr>\n",
       "  </thead>\n",
       "  <tbody>\n",
       "    <tr>\n",
       "      <th>0</th>\n",
       "      <td>0.87</td>\n",
       "      <td>0.34</td>\n",
       "      <td>0.71</td>\n",
       "      <td>0.8</td>\n",
       "      <td>0.46</td>\n",
       "    </tr>\n",
       "  </tbody>\n",
       "</table>\n",
       "</div>"
      ],
      "text/plain": [
       "   Accuracy  Precision  Recall  AUC    F1\n",
       "0      0.87       0.34    0.71  0.8  0.46"
      ]
     },
     "metadata": {},
     "output_type": "display_data"
    }
   ],
   "source": [
    "#model parameters XGBoosting\n",
    "model_attr(y_test,y_pred)"
   ]
  },
  {
   "cell_type": "markdown",
   "metadata": {},
   "source": [
    " 7) Support Vector Machine (Default)"
   ]
  },
  {
   "cell_type": "code",
   "execution_count": 268,
   "metadata": {
    "id": "FlwyPLiaFEzp"
   },
   "outputs": [],
   "source": [
    "#Let's go with default parameters\n",
    "svc = SVC(C=1)\n",
    "\n",
    "\n",
    "svc.fit(X_train_pca, y_train)\n",
    "\n",
    "# predict\n",
    "y_pred = svc.predict(X_test_pca)"
   ]
  },
  {
   "cell_type": "code",
   "execution_count": 269,
   "metadata": {
    "id": "UMfaJcJJFEzp"
   },
   "outputs": [
    {
     "name": "stdout",
     "output_type": "stream",
     "text": [
      "[[7319  962]\n",
      " [ 181  524]]\n"
     ]
    },
    {
     "data": {
      "text/html": [
       "<div>\n",
       "<style scoped>\n",
       "    .dataframe tbody tr th:only-of-type {\n",
       "        vertical-align: middle;\n",
       "    }\n",
       "\n",
       "    .dataframe tbody tr th {\n",
       "        vertical-align: top;\n",
       "    }\n",
       "\n",
       "    .dataframe thead th {\n",
       "        text-align: right;\n",
       "    }\n",
       "</style>\n",
       "<table border=\"1\" class=\"dataframe\">\n",
       "  <thead>\n",
       "    <tr style=\"text-align: right;\">\n",
       "      <th></th>\n",
       "      <th>Accuracy</th>\n",
       "      <th>Precision</th>\n",
       "      <th>Recall</th>\n",
       "      <th>AUC</th>\n",
       "      <th>F1</th>\n",
       "    </tr>\n",
       "  </thead>\n",
       "  <tbody>\n",
       "    <tr>\n",
       "      <th>0</th>\n",
       "      <td>0.87</td>\n",
       "      <td>0.35</td>\n",
       "      <td>0.74</td>\n",
       "      <td>0.81</td>\n",
       "      <td>0.48</td>\n",
       "    </tr>\n",
       "  </tbody>\n",
       "</table>\n",
       "</div>"
      ],
      "text/plain": [
       "   Accuracy  Precision  Recall   AUC    F1\n",
       "0      0.87       0.35    0.74  0.81  0.48"
      ]
     },
     "metadata": {},
     "output_type": "display_data"
    }
   ],
   "source": [
    "model_attr(y_test, y_pred)"
   ]
  },
  {
   "cell_type": "markdown",
   "metadata": {},
   "source": [
    " 7) Support Vector Machine (tuned)"
   ]
  },
  {
   "cell_type": "code",
   "execution_count": 272,
   "metadata": {},
   "outputs": [],
   "source": [
    "# specify range of parameters (C) as a list\n",
    "params = {\"C\": [0.1, 1, 5,10,15]}\n",
    "\n",
    "model = SVC()\n",
    "\n",
    "# set up grid search scheme\n",
    "# note that we are still using the 5 fold CV scheme we set up earlier\n",
    "model_cv = GridSearchCV(estimator = model, param_grid = params, \n",
    "                        scoring= 'accuracy', \n",
    "                        cv = folds, \n",
    "                        verbose = 1,\n",
    "                       return_train_score=True)   "
   ]
  },
  {
   "cell_type": "code",
   "execution_count": 273,
   "metadata": {},
   "outputs": [
    {
     "name": "stdout",
     "output_type": "stream",
     "text": [
      "Fitting 5 folds for each of 5 candidates, totalling 25 fits\n"
     ]
    },
    {
     "name": "stderr",
     "output_type": "stream",
     "text": [
      "[Parallel(n_jobs=1)]: Using backend SequentialBackend with 1 concurrent workers.\n",
      "[Parallel(n_jobs=1)]: Done  25 out of  25 | elapsed: 14.1min finished\n"
     ]
    },
    {
     "data": {
      "text/plain": [
       "GridSearchCV(cv=5, estimator=SVC(), param_grid={'C': [0.1, 1, 5, 10, 15]},\n",
       "             return_train_score=True, scoring='recall', verbose=1)"
      ]
     },
     "execution_count": 273,
     "metadata": {},
     "output_type": "execute_result"
    }
   ],
   "source": [
    "model_cv.fit(X_train_pca, y_train)  "
   ]
  },
  {
   "cell_type": "code",
   "execution_count": 275,
   "metadata": {},
   "outputs": [
    {
     "data": {
      "text/html": [
       "<div>\n",
       "<style scoped>\n",
       "    .dataframe tbody tr th:only-of-type {\n",
       "        vertical-align: middle;\n",
       "    }\n",
       "\n",
       "    .dataframe tbody tr th {\n",
       "        vertical-align: top;\n",
       "    }\n",
       "\n",
       "    .dataframe thead th {\n",
       "        text-align: right;\n",
       "    }\n",
       "</style>\n",
       "<table border=\"1\" class=\"dataframe\">\n",
       "  <thead>\n",
       "    <tr style=\"text-align: right;\">\n",
       "      <th></th>\n",
       "      <th>mean_fit_time</th>\n",
       "      <th>std_fit_time</th>\n",
       "      <th>mean_score_time</th>\n",
       "      <th>std_score_time</th>\n",
       "      <th>param_C</th>\n",
       "      <th>params</th>\n",
       "      <th>split0_test_score</th>\n",
       "      <th>split1_test_score</th>\n",
       "      <th>split2_test_score</th>\n",
       "      <th>split3_test_score</th>\n",
       "      <th>...</th>\n",
       "      <th>mean_test_score</th>\n",
       "      <th>std_test_score</th>\n",
       "      <th>rank_test_score</th>\n",
       "      <th>split0_train_score</th>\n",
       "      <th>split1_train_score</th>\n",
       "      <th>split2_train_score</th>\n",
       "      <th>split3_train_score</th>\n",
       "      <th>split4_train_score</th>\n",
       "      <th>mean_train_score</th>\n",
       "      <th>std_train_score</th>\n",
       "    </tr>\n",
       "  </thead>\n",
       "  <tbody>\n",
       "    <tr>\n",
       "      <th>0</th>\n",
       "      <td>21.067211</td>\n",
       "      <td>0.502878</td>\n",
       "      <td>3.413353</td>\n",
       "      <td>0.326168</td>\n",
       "      <td>0.1</td>\n",
       "      <td>{'C': 0.1}</td>\n",
       "      <td>0.786383</td>\n",
       "      <td>0.818347</td>\n",
       "      <td>0.820946</td>\n",
       "      <td>0.821159</td>\n",
       "      <td>...</td>\n",
       "      <td>0.812153</td>\n",
       "      <td>0.013146</td>\n",
       "      <td>5</td>\n",
       "      <td>0.820480</td>\n",
       "      <td>0.815477</td>\n",
       "      <td>0.811448</td>\n",
       "      <td>0.810551</td>\n",
       "      <td>0.814112</td>\n",
       "      <td>0.814413</td>\n",
       "      <td>0.003514</td>\n",
       "    </tr>\n",
       "    <tr>\n",
       "      <th>1</th>\n",
       "      <td>18.766879</td>\n",
       "      <td>0.409345</td>\n",
       "      <td>2.791531</td>\n",
       "      <td>0.105422</td>\n",
       "      <td>1</td>\n",
       "      <td>{'C': 1}</td>\n",
       "      <td>0.813929</td>\n",
       "      <td>0.863825</td>\n",
       "      <td>0.863046</td>\n",
       "      <td>0.873408</td>\n",
       "      <td>...</td>\n",
       "      <td>0.855087</td>\n",
       "      <td>0.021010</td>\n",
       "      <td>4</td>\n",
       "      <td>0.870054</td>\n",
       "      <td>0.857319</td>\n",
       "      <td>0.856085</td>\n",
       "      <td>0.855509</td>\n",
       "      <td>0.858749</td>\n",
       "      <td>0.859543</td>\n",
       "      <td>0.005372</td>\n",
       "    </tr>\n",
       "    <tr>\n",
       "      <th>2</th>\n",
       "      <td>19.041578</td>\n",
       "      <td>0.378913</td>\n",
       "      <td>2.498853</td>\n",
       "      <td>0.072659</td>\n",
       "      <td>5</td>\n",
       "      <td>{'C': 5}</td>\n",
       "      <td>0.822245</td>\n",
       "      <td>0.888514</td>\n",
       "      <td>0.887214</td>\n",
       "      <td>0.889264</td>\n",
       "      <td>...</td>\n",
       "      <td>0.874578</td>\n",
       "      <td>0.026195</td>\n",
       "      <td>3</td>\n",
       "      <td>0.889741</td>\n",
       "      <td>0.880060</td>\n",
       "      <td>0.879150</td>\n",
       "      <td>0.876494</td>\n",
       "      <td>0.877071</td>\n",
       "      <td>0.880503</td>\n",
       "      <td>0.004800</td>\n",
       "    </tr>\n",
       "    <tr>\n",
       "      <th>3</th>\n",
       "      <td>20.175654</td>\n",
       "      <td>0.258552</td>\n",
       "      <td>2.449502</td>\n",
       "      <td>0.108577</td>\n",
       "      <td>10</td>\n",
       "      <td>{'C': 10}</td>\n",
       "      <td>0.832121</td>\n",
       "      <td>0.896830</td>\n",
       "      <td>0.893191</td>\n",
       "      <td>0.896543</td>\n",
       "      <td>...</td>\n",
       "      <td>0.882531</td>\n",
       "      <td>0.025245</td>\n",
       "      <td>2</td>\n",
       "      <td>0.898577</td>\n",
       "      <td>0.888831</td>\n",
       "      <td>0.886817</td>\n",
       "      <td>0.885655</td>\n",
       "      <td>0.886687</td>\n",
       "      <td>0.889313</td>\n",
       "      <td>0.004745</td>\n",
       "    </tr>\n",
       "    <tr>\n",
       "      <th>4</th>\n",
       "      <td>21.311531</td>\n",
       "      <td>0.808099</td>\n",
       "      <td>2.561697</td>\n",
       "      <td>0.179982</td>\n",
       "      <td>15</td>\n",
       "      <td>{'C': 15}</td>\n",
       "      <td>0.838877</td>\n",
       "      <td>0.902807</td>\n",
       "      <td>0.897349</td>\n",
       "      <td>0.901222</td>\n",
       "      <td>...</td>\n",
       "      <td>0.887937</td>\n",
       "      <td>0.024597</td>\n",
       "      <td>1</td>\n",
       "      <td>0.904295</td>\n",
       "      <td>0.894419</td>\n",
       "      <td>0.892859</td>\n",
       "      <td>0.891957</td>\n",
       "      <td>0.893574</td>\n",
       "      <td>0.895421</td>\n",
       "      <td>0.004510</td>\n",
       "    </tr>\n",
       "  </tbody>\n",
       "</table>\n",
       "<p>5 rows × 21 columns</p>\n",
       "</div>"
      ],
      "text/plain": [
       "   mean_fit_time  std_fit_time  mean_score_time  std_score_time param_C  \\\n",
       "0      21.067211      0.502878         3.413353        0.326168     0.1   \n",
       "1      18.766879      0.409345         2.791531        0.105422       1   \n",
       "2      19.041578      0.378913         2.498853        0.072659       5   \n",
       "3      20.175654      0.258552         2.449502        0.108577      10   \n",
       "4      21.311531      0.808099         2.561697        0.179982      15   \n",
       "\n",
       "       params  split0_test_score  split1_test_score  split2_test_score  \\\n",
       "0  {'C': 0.1}           0.786383           0.818347           0.820946   \n",
       "1    {'C': 1}           0.813929           0.863825           0.863046   \n",
       "2    {'C': 5}           0.822245           0.888514           0.887214   \n",
       "3   {'C': 10}           0.832121           0.896830           0.893191   \n",
       "4   {'C': 15}           0.838877           0.902807           0.897349   \n",
       "\n",
       "   split3_test_score  ...  mean_test_score  std_test_score  rank_test_score  \\\n",
       "0           0.821159  ...         0.812153        0.013146                5   \n",
       "1           0.873408  ...         0.855087        0.021010                4   \n",
       "2           0.889264  ...         0.874578        0.026195                3   \n",
       "3           0.896543  ...         0.882531        0.025245                2   \n",
       "4           0.901222  ...         0.887937        0.024597                1   \n",
       "\n",
       "   split0_train_score  split1_train_score  split2_train_score  \\\n",
       "0            0.820480            0.815477            0.811448   \n",
       "1            0.870054            0.857319            0.856085   \n",
       "2            0.889741            0.880060            0.879150   \n",
       "3            0.898577            0.888831            0.886817   \n",
       "4            0.904295            0.894419            0.892859   \n",
       "\n",
       "   split3_train_score  split4_train_score  mean_train_score  std_train_score  \n",
       "0            0.810551            0.814112          0.814413         0.003514  \n",
       "1            0.855509            0.858749          0.859543         0.005372  \n",
       "2            0.876494            0.877071          0.880503         0.004800  \n",
       "3            0.885655            0.886687          0.889313         0.004745  \n",
       "4            0.891957            0.893574          0.895421         0.004510  \n",
       "\n",
       "[5 rows x 21 columns]"
      ]
     },
     "execution_count": 275,
     "metadata": {},
     "output_type": "execute_result"
    }
   ],
   "source": [
    "cv_results = pd.DataFrame(model_cv.cv_results_)\n",
    "cv_results"
   ]
  },
  {
   "cell_type": "code",
   "execution_count": 276,
   "metadata": {},
   "outputs": [
    {
     "data": {
      "image/png": "[encoded data removed]",
      "text/plain": [
       "<Figure size 576x432 with 1 Axes>"
      ]
     },
     "metadata": {
      "needs_background": "light"
     },
     "output_type": "display_data"
    }
   ],
   "source": [
    "# plot of C versus train and test scores\n",
    "\n",
    "plt.figure(figsize=(8, 6))\n",
    "plt.plot(cv_results['param_C'], cv_results['mean_test_score'])\n",
    "plt.plot(cv_results['param_C'], cv_results['mean_train_score'])\n",
    "plt.xlabel('C')\n",
    "plt.ylabel('Accuracy')\n",
    "plt.legend(['test accuracy', 'train accuracy'], loc='upper left')\n",
    "plt.xscale('log')"
   ]
  },
  {
   "cell_type": "code",
   "execution_count": 277,
   "metadata": {},
   "outputs": [
    {
     "name": "stdout",
     "output_type": "stream",
     "text": [
      " The highest test accuracy is 0.8879366539361341 at C = 15\n"
     ]
    }
   ],
   "source": [
    "best_score = model_cv.best_score_\n",
    "best_C = model_cv.best_params_['C']\n",
    "\n",
    "print(\" The highest test accuracy is {0} at C = {1}\".format(best_score, best_C))"
   ]
  },
  {
   "cell_type": "code",
   "execution_count": 278,
   "metadata": {},
   "outputs": [
    {
     "name": "stdout",
     "output_type": "stream",
     "text": [
      "[[7321  960]\n",
      " [ 192  513]]\n"
     ]
    },
    {
     "data": {
      "text/html": [
       "<div>\n",
       "<style scoped>\n",
       "    .dataframe tbody tr th:only-of-type {\n",
       "        vertical-align: middle;\n",
       "    }\n",
       "\n",
       "    .dataframe tbody tr th {\n",
       "        vertical-align: top;\n",
       "    }\n",
       "\n",
       "    .dataframe thead th {\n",
       "        text-align: right;\n",
       "    }\n",
       "</style>\n",
       "<table border=\"1\" class=\"dataframe\">\n",
       "  <thead>\n",
       "    <tr style=\"text-align: right;\">\n",
       "      <th></th>\n",
       "      <th>Accuracy</th>\n",
       "      <th>Precision</th>\n",
       "      <th>Recall</th>\n",
       "      <th>AUC</th>\n",
       "      <th>F1</th>\n",
       "    </tr>\n",
       "  </thead>\n",
       "  <tbody>\n",
       "    <tr>\n",
       "      <th>0</th>\n",
       "      <td>0.87</td>\n",
       "      <td>0.35</td>\n",
       "      <td>0.73</td>\n",
       "      <td>0.81</td>\n",
       "      <td>0.47</td>\n",
       "    </tr>\n",
       "  </tbody>\n",
       "</table>\n",
       "</div>"
      ],
      "text/plain": [
       "   Accuracy  Precision  Recall   AUC    F1\n",
       "0      0.87       0.35    0.73  0.81  0.47"
      ]
     },
     "metadata": {},
     "output_type": "display_data"
    }
   ],
   "source": [
    "model = SVC(C=best_C)\n",
    "\n",
    "# fit\n",
    "model.fit(X_train_pca, y_train)\n",
    "\n",
    "# predict\n",
    "y_pred = model.predict(X_test_pca)\n",
    "model_attr(y_test,y_pred)"
   ]
  },
  {
   "cell_type": "code",
   "execution_count": null,
   "metadata": {},
   "outputs": [],
   "source": [
    "#After analysing all the models we can see following results\n"
   ]
  },
  {
   "cell_type": "markdown",
   "metadata": {},
   "source": [
    "## Results :-\n",
    "<ul>\n",
    "    <li>Customers who've spent around 6-24 Month on the network have the highest probablity of churn.</li>\n",
    "    <li>Average revenue earned per customers drops in 8th Month (Action phase). Which is sign of possible churn</li>\n",
    "    <li>Amount of data used and amount of data rechage for 8th month drops as compared to 6 and 7 th, which is an indication of possible churn.\n",
    "</ul>"
   ]
  }
 ],
 "metadata": {
  "kernelspec": {
   "display_name": "Python 3",
   "language": "python",
   "name": "python3"
  },
  "language_info": {
   "codemirror_mode": {
    "name": "ipython",
    "version": 3
   },
   "file_extension": ".py",
   "mimetype": "text/x-python",
   "name": "python",
   "nbconvert_exporter": "python",
   "pygments_lexer": "ipython3",
   "version": "3.7.6"
  }
 },
 "nbformat": 4,
 "nbformat_minor": 4
}
