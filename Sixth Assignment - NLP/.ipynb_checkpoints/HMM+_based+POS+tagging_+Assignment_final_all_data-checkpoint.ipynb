{
 "cells": [
  {
   "cell_type": "markdown",
   "metadata": {
    "id": "ZRYsitA0S-vN"
   },
   "source": [
    "## POS tagging using modified Viterbi"
   ]
  },
  {
   "cell_type": "markdown",
   "metadata": {
    "id": "LA1w21KsS-vN"
   },
   "source": [
    "#### Flowchart of the solution -\n",
    "\n",
    "<ul>\n",
    "    <li>EDA to understand training corpus.</li>\n",
    "    <li>Plain vanilla model building.</li>\n",
    "    <li>Test plain vanilla model on test set and understand the problem.</li>\n",
    "    <li>Refining viterbi model using other pos tagging technique</li>\n",
    "</ul>"
   ]
  },
  {
   "cell_type": "markdown",
   "metadata": {
    "id": "OjUnyCJSS-vN"
   },
   "source": [
    "### Data Preparation"
   ]
  },
  {
   "cell_type": "code",
   "execution_count": 1,
   "metadata": {
    "colab": {
     "base_uri": "https://localhost:8080/"
    },
    "id": "YiyJ9u9GTJZH",
    "outputId": "27d644a9-c678-4993-913f-0d7052c12741"
   },
   "outputs": [
    {
     "name": "stdout",
     "output_type": "stream",
     "text": [
      "[nltk_data] Downloading package treebank to /root/nltk_data...\n",
      "[nltk_data]   Unzipping corpora/treebank.zip.\n",
      "[nltk_data] Downloading package universal_tagset to /root/nltk_data...\n",
      "[nltk_data]   Unzipping taggers/universal_tagset.zip.\n",
      "[nltk_data] Downloading package punkt to /root/nltk_data...\n",
      "[nltk_data]   Unzipping tokenizers/punkt.zip.\n"
     ]
    },
    {
     "data": {
      "text/plain": [
       "True"
      ]
     },
     "execution_count": 1,
     "metadata": {
      "tags": []
     },
     "output_type": "execute_result"
    }
   ],
   "source": [
    "import nltk\n",
    "nltk.download('treebank')\n",
    "import nltk\n",
    "nltk.download('universal_tagset')\n",
    "import nltk\n",
    "nltk.download('punkt')"
   ]
  },
  {
   "cell_type": "code",
   "execution_count": 2,
   "metadata": {
    "id": "DK32jKZCS-vN"
   },
   "outputs": [],
   "source": [
    "#Importing libraries\n",
    "#Importing libraries\n",
    "import re\n",
    "import nltk, re, pprint\n",
    "import numpy as np\n",
    "import pandas as pd\n",
    "import requests\n",
    "import matplotlib.pyplot as plt\n",
    "import seaborn as sns\n",
    "import pprint, time\n",
    "import random\n",
    "from sklearn.model_selection import train_test_split\n",
    "from nltk.tokenize import word_tokenize"
   ]
  },
  {
   "cell_type": "code",
   "execution_count": 3,
   "metadata": {
    "id": "vzwGndTDS-vO"
   },
   "outputs": [],
   "source": [
    "# reading the Treebank tagged sentences\n",
    "nltk_data = list(nltk.corpus.treebank.tagged_sents(tagset='universal'))"
   ]
  },
  {
   "cell_type": "code",
   "execution_count": 4,
   "metadata": {
    "colab": {
     "base_uri": "https://localhost:8080/"
    },
    "id": "kwc6f2YzS-vO",
    "outputId": "8845f36f-00fe-4c8f-b2b3-689c1dfe5ac1"
   },
   "outputs": [
    {
     "name": "stdout",
     "output_type": "stream",
     "text": [
      "3718\n",
      "196\n"
     ]
    }
   ],
   "source": [
    "# Splitting into train and test\n",
    "random.seed(1234)\n",
    "train_set, test_set = train_test_split(nltk_data,test_size=0.05)\n",
    "\n",
    "print(len(train_set))\n",
    "print(len(test_set))\n"
   ]
  },
  {
   "cell_type": "code",
   "execution_count": 5,
   "metadata": {
    "colab": {
     "base_uri": "https://localhost:8080/"
    },
    "id": "79LsDK6qS-vP",
    "outputId": "b2bd6a1f-e268-432c-d85d-37c4590215fd"
   },
   "outputs": [
    {
     "data": {
      "text/plain": [
       "95691"
      ]
     },
     "execution_count": 5,
     "metadata": {
      "tags": []
     },
     "output_type": "execute_result"
    }
   ],
   "source": [
    "# Getting list of tagged words\n",
    "train_tagged_words = [tup for sent in train_set for tup in sent]\n",
    "len(train_tagged_words)"
   ]
  },
  {
   "cell_type": "code",
   "execution_count": 6,
   "metadata": {
    "id": "SS1cHgnAS-vP"
   },
   "outputs": [],
   "source": [
    "#no of tagged words available in dataset - 95790"
   ]
  },
  {
   "cell_type": "code",
   "execution_count": 7,
   "metadata": {
    "colab": {
     "base_uri": "https://localhost:8080/"
    },
    "id": "GQOm5tOUS-vP",
    "outputId": "efe0e9ac-721a-4e0d-fd8e-9e3a22f5a266"
   },
   "outputs": [
    {
     "name": "stdout",
     "output_type": "stream",
     "text": [
      "12\n",
      "{'.', 'X', 'NOUN', 'ADP', 'PRON', 'PRT', 'NUM', 'DET', 'ADV', 'CONJ', 'ADJ', 'VERB'}\n"
     ]
    }
   ],
   "source": [
    "#Let's see how many unique tags we have in our dataset\n",
    "tags = [tup[1]  for sen in nltk_data for tup in sen]\n",
    "print(len(set(tags)))\n",
    "print(set(tags))\n"
   ]
  },
  {
   "cell_type": "code",
   "execution_count": 8,
   "metadata": {
    "colab": {
     "base_uri": "https://localhost:8080/"
    },
    "id": "sUGKKchGS-vQ",
    "outputId": "e93f3f38-9720-489a-858e-9288516af3f1"
   },
   "outputs": [
    {
     "name": "stdout",
     "output_type": "stream",
     "text": [
      "100676\n"
     ]
    }
   ],
   "source": [
    "#we can see that universal dataset has only 12 tags\n",
    "#Let's see how many unique word dataset has\n",
    "voc = [tup[0]  for sen in nltk_data for tup in sen]\n",
    "print(len(voc))\n",
    "#total no. words present in dataset (including duplicate) "
   ]
  },
  {
   "cell_type": "code",
   "execution_count": 9,
   "metadata": {
    "id": "O467aujzS-vQ"
   },
   "outputs": [],
   "source": [
    "tags = set(tags)\n",
    "voc = set(voc)"
   ]
  },
  {
   "cell_type": "code",
   "execution_count": 10,
   "metadata": {
    "colab": {
     "base_uri": "https://localhost:8080/"
    },
    "id": "XF36Dp6VS-vQ",
    "outputId": "739543a7-f8a8-440c-ef2e-18e552669449"
   },
   "outputs": [
    {
     "name": "stdout",
     "output_type": "stream",
     "text": [
      "{'.', 'X', 'NOUN', 'ADP', 'PRON', 'PRT', 'NUM', 'DET', 'ADV', 'CONJ', 'ADJ', 'VERB'}\n"
     ]
    }
   ],
   "source": [
    "#print all the available tags\n",
    "print(tags)"
   ]
  },
  {
   "cell_type": "code",
   "execution_count": 11,
   "metadata": {
    "id": "T6SWwYqiS-vQ"
   },
   "outputs": [],
   "source": [
    "#this method we'll use to understand incorrect tags\n",
    "def plot_cnt_words(word):\n",
    "    l_words = []\n",
    "    for tag in tags:\n",
    "        c = 0\n",
    "        for w,t in train_tagged_words:\n",
    "            if (w==word)&(t==tag):\n",
    "                    c += 1\n",
    "        if c > 0:\n",
    "            l_words.append((tag,c))\n",
    "    print(l_words)\n",
    "        "
   ]
  },
  {
   "cell_type": "code",
   "execution_count": 12,
   "metadata": {
    "colab": {
     "base_uri": "https://localhost:8080/"
    },
    "id": "Lq-rirOHS-vQ",
    "outputId": "949893b8-aabf-4a98-a3f9-6a66db995cfb"
   },
   "outputs": [
    {
     "name": "stdout",
     "output_type": "stream",
     "text": [
      "[('PRON', 69)]\n"
     ]
    }
   ],
   "source": [
    "#demo\n",
    "plot_cnt_words(\"He\")"
   ]
  },
  {
   "cell_type": "markdown",
   "metadata": {
    "id": "43QVfq1AS-vQ"
   },
   "source": [
    "### Build the vanilla Viterbi based POS tagger\n",
    "Let's build HMM viterbi model."
   ]
  },
  {
   "cell_type": "code",
   "execution_count": 13,
   "metadata": {
    "id": "EWEfuMMfS-vQ"
   },
   "outputs": [],
   "source": [
    "#first step is to find emission and transition probablities\n",
    "t = len(tags)\n",
    "v = len(voc)\n",
    "w_given_t = np.zeros((t, v))"
   ]
  },
  {
   "cell_type": "code",
   "execution_count": 14,
   "metadata": {
    "colab": {
     "base_uri": "https://localhost:8080/"
    },
    "id": "Uqpgf42hS-vQ",
    "outputId": "9b5d427d-c967-4b9c-8d79-58954c06cc12"
   },
   "outputs": [
    {
     "data": {
      "text/plain": [
       "(12, 12408)"
      ]
     },
     "execution_count": 14,
     "metadata": {
      "tags": []
     },
     "output_type": "execute_result"
    }
   ],
   "source": [
    "w_given_t.shape"
   ]
  },
  {
   "cell_type": "code",
   "execution_count": 15,
   "metadata": {
    "id": "s3yytG4QS-vQ"
   },
   "outputs": [],
   "source": [
    "# compute word given tag: Emission Probability\n",
    "def word_given_tag(word, tag, train_bag = train_tagged_words):\n",
    "    tag_list = [pair for pair in train_bag if pair[1]==tag]\n",
    "    count_tag = len(tag_list)\n",
    "    w_given_tag_list = [pair[0] for pair in tag_list if pair[0]==word]\n",
    "    count_w_given_tag = len(w_given_tag_list)\n",
    "    \n",
    "    return (count_w_given_tag, count_tag)"
   ]
  },
  {
   "cell_type": "code",
   "execution_count": 16,
   "metadata": {
    "colab": {
     "base_uri": "https://localhost:8080/"
    },
    "id": "svn5wXzdS-vQ",
    "outputId": "95e5d8f6-28e5-47e1-857b-2e559cb509f1"
   },
   "outputs": [
    {
     "name": "stdout",
     "output_type": "stream",
     "text": [
      "(83, 12887)\n",
      "(47, 12887)\n",
      "(0, 27434) \n",
      "\n"
     ]
    }
   ],
   "source": [
    "# let's check w\n",
    "print(word_given_tag('do', 'VERB'))\n",
    "print(word_given_tag('does', 'VERB'))\n",
    "print(word_given_tag('flight', 'NOUN'), \"\\n\")\n",
    "#flight word is not present in the dictionary"
   ]
  },
  {
   "cell_type": "code",
   "execution_count": 17,
   "metadata": {
    "id": "aJDyOccpS-vR"
   },
   "outputs": [],
   "source": [
    "# compute tag given tag: tag2(t2) given tag1 (t1), i.e. Transition Probability\n",
    "\n",
    "def t2_given_t1(t2, t1, train_bag = train_tagged_words):\n",
    "    tags = [pair[1] for pair in train_bag]\n",
    "    count_t1 = len([t for t in tags if t==t1])\n",
    "    count_t2_t1 = 0\n",
    "    for index in range(len(tags)-1):\n",
    "        if tags[index]==t1 and tags[index+1] == t2:\n",
    "            count_t2_t1 += 1\n",
    "    return (count_t2_t1, count_t1)"
   ]
  },
  {
   "cell_type": "code",
   "execution_count": 18,
   "metadata": {
    "colab": {
     "base_uri": "https://localhost:8080/"
    },
    "id": "AcvWBvmTS-vR",
    "outputId": "e892c5a9-fbc1-49dd-e915-741f66ceecd0"
   },
   "outputs": [
    {
     "name": "stdout",
     "output_type": "stream",
     "text": [
      "(99, 3022)\n"
     ]
    }
   ],
   "source": [
    "# examples\n",
    "print(t2_given_t1(t2='NOUN', t1='ADV'))"
   ]
  },
  {
   "cell_type": "code",
   "execution_count": 19,
   "metadata": {
    "id": "5tX_j7SlS-vR"
   },
   "outputs": [],
   "source": [
    "# creating t x t transition matrix of tags\n",
    "# each column is t2, each row is t1\n",
    "# thus M(i, j) represents P(tj given ti)\n",
    "\n",
    "tags_matrix = np.zeros((len(tags), len(tags)), dtype='float32')\n",
    "for i, t1 in enumerate(list(tags)):\n",
    "    for j, t2 in enumerate(list(tags)): \n",
    "        tags_matrix[i, j] = t2_given_t1(t2, t1)[0]/t2_given_t1(t2, t1)[1]"
   ]
  },
  {
   "cell_type": "code",
   "execution_count": 20,
   "metadata": {
    "colab": {
     "base_uri": "https://localhost:8080/"
    },
    "id": "Y9mOwz2bS-vR",
    "outputId": "db6a1053-6ae8-412b-de0b-2b56c223c169"
   },
   "outputs": [
    {
     "data": {
      "text/plain": [
       "array([[9.35006738e-02, 2.70730611e-02, 2.22501114e-01, 9.17974040e-02,\n",
       "        6.61586747e-02, 2.42043915e-03, 7.98744932e-02, 1.73375174e-01,\n",
       "        5.26221432e-02, 5.73733747e-02, 4.36575525e-02, 8.95562544e-02],\n",
       "       [1.64685369e-01, 7.51307681e-02, 6.19749576e-02, 1.42811850e-01,\n",
       "        5.48422895e-02, 1.85132354e-01, 2.85306713e-03, 5.50007932e-02,\n",
       "        2.59946100e-02, 1.03027420e-02, 1.74354091e-02, 2.03835785e-01],\n",
       "       [2.40176424e-01, 2.91244444e-02, 2.64963180e-01, 1.75876647e-01,\n",
       "        4.62929206e-03, 4.41787578e-02, 9.25858412e-03, 1.35233654e-02,\n",
       "        1.69497710e-02, 4.22468483e-02, 1.22111253e-02, 1.46861553e-01],\n",
       "       [3.97775881e-02, 3.50727104e-02, 3.21535498e-01, 1.68947820e-02,\n",
       "        6.84345588e-02, 1.49700604e-03, 6.24465346e-02, 3.25919598e-01,\n",
       "        1.35799833e-02, 8.55432008e-04, 1.05538920e-01, 8.44739098e-03],\n",
       "       [3.96001525e-02, 9.34256092e-02, 2.09534794e-01, 2.30680499e-02,\n",
       "        7.68935028e-03, 1.15340250e-02, 7.68935028e-03, 9.22721997e-03,\n",
       "        3.34486738e-02, 4.99807764e-03, 7.49711618e-02, 4.84813541e-01],\n",
       "       [4.32661027e-02, 1.30123617e-02, 2.48861417e-01, 2.14703977e-02,\n",
       "        1.75666884e-02, 1.62654521e-03, 5.59531562e-02, 1.02147043e-01,\n",
       "        1.00845806e-02, 1.95185421e-03, 8.36044252e-02, 4.00455445e-01],\n",
       "       [1.16258219e-01, 2.13090256e-01, 3.49970102e-01, 3.61625813e-02,\n",
       "        1.49432162e-03, 2.71966532e-02, 1.83801547e-01, 3.88523610e-03,\n",
       "        2.98864325e-03, 1.40466224e-02, 3.31739374e-02, 1.79318581e-02],\n",
       "       [1.79000478e-02, 4.58913967e-02, 6.38995647e-01, 9.49062966e-03,\n",
       "        3.60403652e-03, 2.40269103e-04, 2.23450270e-02, 5.52618923e-03,\n",
       "        1.26141282e-02, 4.80538205e-04, 2.04108596e-01, 3.88034582e-02],\n",
       "       [1.37988091e-01, 2.38252804e-02, 3.27597633e-02, 1.18133686e-01,\n",
       "        1.58835202e-02, 1.32362675e-02, 2.94506941e-02, 7.01522157e-02,\n",
       "        7.94176012e-02, 7.27994693e-03, 1.27729982e-01, 3.44142944e-01],\n",
       "       [3.50959301e-02, 7.95507710e-03, 3.50491345e-01, 5.14740273e-02,\n",
       "        5.94291054e-02, 4.21151146e-03, 4.21151146e-02, 1.19794101e-01,\n",
       "        5.66214323e-02, 4.67945705e-04, 1.15114644e-01, 1.57229766e-01],\n",
       "       [6.42975196e-02, 2.11570244e-02, 6.98677659e-01, 7.78512433e-02,\n",
       "        6.61157013e-04, 1.12396693e-02, 2.09917352e-02, 4.79338830e-03,\n",
       "        4.95867757e-03, 1.71900820e-02, 6.66115731e-02, 1.15702478e-02],\n",
       "       [3.54620926e-02, 2.18126789e-01, 1.09412588e-01, 9.15651396e-02,\n",
       "        3.58500816e-02, 3.16598117e-02, 2.32792739e-02, 1.34243816e-01,\n",
       "        8.17878470e-02, 5.27663529e-03, 6.47163838e-02, 1.68619543e-01]],\n",
       "      dtype=float32)"
      ]
     },
     "execution_count": 20,
     "metadata": {
      "tags": []
     },
     "output_type": "execute_result"
    }
   ],
   "source": [
    "tags_matrix"
   ]
  },
  {
   "cell_type": "code",
   "execution_count": 21,
   "metadata": {
    "id": "-zwTamWMS-vR"
   },
   "outputs": [],
   "source": [
    "# convert the matrix to a df for better readability\n",
    "tags_df = pd.DataFrame(tags_matrix, columns = list(tags), index=list(tags))"
   ]
  },
  {
   "cell_type": "code",
   "execution_count": 22,
   "metadata": {
    "colab": {
     "base_uri": "https://localhost:8080/",
     "height": 421
    },
    "id": "aP8xyanwS-vR",
    "outputId": "1f60552a-496e-41e2-8c1b-38781cafc008"
   },
   "outputs": [
    {
     "data": {
      "text/html": [
       "<div>\n",
       "<style scoped>\n",
       "    .dataframe tbody tr th:only-of-type {\n",
       "        vertical-align: middle;\n",
       "    }\n",
       "\n",
       "    .dataframe tbody tr th {\n",
       "        vertical-align: top;\n",
       "    }\n",
       "\n",
       "    .dataframe thead th {\n",
       "        text-align: right;\n",
       "    }\n",
       "</style>\n",
       "<table border=\"1\" class=\"dataframe\">\n",
       "  <thead>\n",
       "    <tr style=\"text-align: right;\">\n",
       "      <th></th>\n",
       "      <th>.</th>\n",
       "      <th>X</th>\n",
       "      <th>NOUN</th>\n",
       "      <th>ADP</th>\n",
       "      <th>PRON</th>\n",
       "      <th>PRT</th>\n",
       "      <th>NUM</th>\n",
       "      <th>DET</th>\n",
       "      <th>ADV</th>\n",
       "      <th>CONJ</th>\n",
       "      <th>ADJ</th>\n",
       "      <th>VERB</th>\n",
       "    </tr>\n",
       "  </thead>\n",
       "  <tbody>\n",
       "    <tr>\n",
       "      <th>.</th>\n",
       "      <td>0.093501</td>\n",
       "      <td>0.027073</td>\n",
       "      <td>0.222501</td>\n",
       "      <td>0.091797</td>\n",
       "      <td>0.066159</td>\n",
       "      <td>0.002420</td>\n",
       "      <td>0.079874</td>\n",
       "      <td>0.173375</td>\n",
       "      <td>0.052622</td>\n",
       "      <td>0.057373</td>\n",
       "      <td>0.043658</td>\n",
       "      <td>0.089556</td>\n",
       "    </tr>\n",
       "    <tr>\n",
       "      <th>X</th>\n",
       "      <td>0.164685</td>\n",
       "      <td>0.075131</td>\n",
       "      <td>0.061975</td>\n",
       "      <td>0.142812</td>\n",
       "      <td>0.054842</td>\n",
       "      <td>0.185132</td>\n",
       "      <td>0.002853</td>\n",
       "      <td>0.055001</td>\n",
       "      <td>0.025995</td>\n",
       "      <td>0.010303</td>\n",
       "      <td>0.017435</td>\n",
       "      <td>0.203836</td>\n",
       "    </tr>\n",
       "    <tr>\n",
       "      <th>NOUN</th>\n",
       "      <td>0.240176</td>\n",
       "      <td>0.029124</td>\n",
       "      <td>0.264963</td>\n",
       "      <td>0.175877</td>\n",
       "      <td>0.004629</td>\n",
       "      <td>0.044179</td>\n",
       "      <td>0.009259</td>\n",
       "      <td>0.013523</td>\n",
       "      <td>0.016950</td>\n",
       "      <td>0.042247</td>\n",
       "      <td>0.012211</td>\n",
       "      <td>0.146862</td>\n",
       "    </tr>\n",
       "    <tr>\n",
       "      <th>ADP</th>\n",
       "      <td>0.039778</td>\n",
       "      <td>0.035073</td>\n",
       "      <td>0.321535</td>\n",
       "      <td>0.016895</td>\n",
       "      <td>0.068435</td>\n",
       "      <td>0.001497</td>\n",
       "      <td>0.062447</td>\n",
       "      <td>0.325920</td>\n",
       "      <td>0.013580</td>\n",
       "      <td>0.000855</td>\n",
       "      <td>0.105539</td>\n",
       "      <td>0.008447</td>\n",
       "    </tr>\n",
       "    <tr>\n",
       "      <th>PRON</th>\n",
       "      <td>0.039600</td>\n",
       "      <td>0.093426</td>\n",
       "      <td>0.209535</td>\n",
       "      <td>0.023068</td>\n",
       "      <td>0.007689</td>\n",
       "      <td>0.011534</td>\n",
       "      <td>0.007689</td>\n",
       "      <td>0.009227</td>\n",
       "      <td>0.033449</td>\n",
       "      <td>0.004998</td>\n",
       "      <td>0.074971</td>\n",
       "      <td>0.484814</td>\n",
       "    </tr>\n",
       "    <tr>\n",
       "      <th>PRT</th>\n",
       "      <td>0.043266</td>\n",
       "      <td>0.013012</td>\n",
       "      <td>0.248861</td>\n",
       "      <td>0.021470</td>\n",
       "      <td>0.017567</td>\n",
       "      <td>0.001627</td>\n",
       "      <td>0.055953</td>\n",
       "      <td>0.102147</td>\n",
       "      <td>0.010085</td>\n",
       "      <td>0.001952</td>\n",
       "      <td>0.083604</td>\n",
       "      <td>0.400455</td>\n",
       "    </tr>\n",
       "    <tr>\n",
       "      <th>NUM</th>\n",
       "      <td>0.116258</td>\n",
       "      <td>0.213090</td>\n",
       "      <td>0.349970</td>\n",
       "      <td>0.036163</td>\n",
       "      <td>0.001494</td>\n",
       "      <td>0.027197</td>\n",
       "      <td>0.183802</td>\n",
       "      <td>0.003885</td>\n",
       "      <td>0.002989</td>\n",
       "      <td>0.014047</td>\n",
       "      <td>0.033174</td>\n",
       "      <td>0.017932</td>\n",
       "    </tr>\n",
       "    <tr>\n",
       "      <th>DET</th>\n",
       "      <td>0.017900</td>\n",
       "      <td>0.045891</td>\n",
       "      <td>0.638996</td>\n",
       "      <td>0.009491</td>\n",
       "      <td>0.003604</td>\n",
       "      <td>0.000240</td>\n",
       "      <td>0.022345</td>\n",
       "      <td>0.005526</td>\n",
       "      <td>0.012614</td>\n",
       "      <td>0.000481</td>\n",
       "      <td>0.204109</td>\n",
       "      <td>0.038803</td>\n",
       "    </tr>\n",
       "    <tr>\n",
       "      <th>ADV</th>\n",
       "      <td>0.137988</td>\n",
       "      <td>0.023825</td>\n",
       "      <td>0.032760</td>\n",
       "      <td>0.118134</td>\n",
       "      <td>0.015884</td>\n",
       "      <td>0.013236</td>\n",
       "      <td>0.029451</td>\n",
       "      <td>0.070152</td>\n",
       "      <td>0.079418</td>\n",
       "      <td>0.007280</td>\n",
       "      <td>0.127730</td>\n",
       "      <td>0.344143</td>\n",
       "    </tr>\n",
       "    <tr>\n",
       "      <th>CONJ</th>\n",
       "      <td>0.035096</td>\n",
       "      <td>0.007955</td>\n",
       "      <td>0.350491</td>\n",
       "      <td>0.051474</td>\n",
       "      <td>0.059429</td>\n",
       "      <td>0.004212</td>\n",
       "      <td>0.042115</td>\n",
       "      <td>0.119794</td>\n",
       "      <td>0.056621</td>\n",
       "      <td>0.000468</td>\n",
       "      <td>0.115115</td>\n",
       "      <td>0.157230</td>\n",
       "    </tr>\n",
       "    <tr>\n",
       "      <th>ADJ</th>\n",
       "      <td>0.064298</td>\n",
       "      <td>0.021157</td>\n",
       "      <td>0.698678</td>\n",
       "      <td>0.077851</td>\n",
       "      <td>0.000661</td>\n",
       "      <td>0.011240</td>\n",
       "      <td>0.020992</td>\n",
       "      <td>0.004793</td>\n",
       "      <td>0.004959</td>\n",
       "      <td>0.017190</td>\n",
       "      <td>0.066612</td>\n",
       "      <td>0.011570</td>\n",
       "    </tr>\n",
       "    <tr>\n",
       "      <th>VERB</th>\n",
       "      <td>0.035462</td>\n",
       "      <td>0.218127</td>\n",
       "      <td>0.109413</td>\n",
       "      <td>0.091565</td>\n",
       "      <td>0.035850</td>\n",
       "      <td>0.031660</td>\n",
       "      <td>0.023279</td>\n",
       "      <td>0.134244</td>\n",
       "      <td>0.081788</td>\n",
       "      <td>0.005277</td>\n",
       "      <td>0.064716</td>\n",
       "      <td>0.168620</td>\n",
       "    </tr>\n",
       "  </tbody>\n",
       "</table>\n",
       "</div>"
      ],
      "text/plain": [
       "             .         X      NOUN  ...      CONJ       ADJ      VERB\n",
       ".     0.093501  0.027073  0.222501  ...  0.057373  0.043658  0.089556\n",
       "X     0.164685  0.075131  0.061975  ...  0.010303  0.017435  0.203836\n",
       "NOUN  0.240176  0.029124  0.264963  ...  0.042247  0.012211  0.146862\n",
       "ADP   0.039778  0.035073  0.321535  ...  0.000855  0.105539  0.008447\n",
       "PRON  0.039600  0.093426  0.209535  ...  0.004998  0.074971  0.484814\n",
       "PRT   0.043266  0.013012  0.248861  ...  0.001952  0.083604  0.400455\n",
       "NUM   0.116258  0.213090  0.349970  ...  0.014047  0.033174  0.017932\n",
       "DET   0.017900  0.045891  0.638996  ...  0.000481  0.204109  0.038803\n",
       "ADV   0.137988  0.023825  0.032760  ...  0.007280  0.127730  0.344143\n",
       "CONJ  0.035096  0.007955  0.350491  ...  0.000468  0.115115  0.157230\n",
       "ADJ   0.064298  0.021157  0.698678  ...  0.017190  0.066612  0.011570\n",
       "VERB  0.035462  0.218127  0.109413  ...  0.005277  0.064716  0.168620\n",
       "\n",
       "[12 rows x 12 columns]"
      ]
     },
     "execution_count": 22,
     "metadata": {
      "tags": []
     },
     "output_type": "execute_result"
    }
   ],
   "source": [
    "#this dataframe is usefull to calculate tag probablities\n",
    "tags_df"
   ]
  },
  {
   "cell_type": "markdown",
   "metadata": {
    "id": "f5R1-l7qS-vR"
   },
   "source": [
    "## Viterbi Algorithm - Simple"
   ]
  },
  {
   "cell_type": "code",
   "execution_count": 23,
   "metadata": {
    "colab": {
     "base_uri": "https://localhost:8080/"
    },
    "id": "-xOWnI58S-vR",
    "outputId": "4b20994e-25eb-4852-832d-7632b3d6699f"
   },
   "outputs": [
    {
     "data": {
      "text/plain": [
       "95691"
      ]
     },
     "execution_count": 23,
     "metadata": {
      "tags": []
     },
     "output_type": "execute_result"
    }
   ],
   "source": [
    "len(train_tagged_words)"
   ]
  },
  {
   "cell_type": "code",
   "execution_count": 24,
   "metadata": {
    "id": "9U9WhWB4S-vR"
   },
   "outputs": [],
   "source": [
    "# Viterbi Heuristic\n",
    "def Viterbi(words, train_bag = train_tagged_words):\n",
    "    state = []\n",
    "    T = list(set([pair[1] for pair in train_bag]))\n",
    "    \n",
    "    for key, word in enumerate(words):\n",
    "        #initialise list of probability column for a given observation\n",
    "        p = [] \n",
    "        for tag in T:\n",
    "            if key == 0:\n",
    "                transition_p = tags_df.loc['.', tag]\n",
    "            else:\n",
    "                transition_p = tags_df.loc[state[-1], tag]\n",
    "                \n",
    "            # compute emission and state probabilities\n",
    "            emission_p = word_given_tag(words[key], tag)[0]/word_given_tag(words[key], tag)[1]\n",
    "            state_probability = emission_p * transition_p    \n",
    "            p.append(state_probability)\n",
    "            \n",
    "        pmax = max(p)\n",
    "        # getting state for which probability is maximum\n",
    "        state_max = T[p.index(pmax)] \n",
    "        state.append(state_max)\n",
    "    return list(zip(words, state))"
   ]
  },
  {
   "cell_type": "code",
   "execution_count": 25,
   "metadata": {
    "id": "E1MCnS8AS-vR"
   },
   "outputs": [],
   "source": [
    "# Running on entire test dataset would take more than 3-4hrs. \n",
    "# Let's test our Viterbi algorithm on a few sample sentences of test dataset\n",
    "\n",
    "random.seed(1234)\n",
    "\n",
    "# choose random 5 sents\n",
    "rndom = [random.randint(1,len(test_set)) for x in range(5)]\n",
    "\n",
    "# list of sents\n",
    "#test_run = [test_set[i] for i in rndom]\n",
    "#we'll consider all the dataset\n",
    "test_run = test_set\n",
    "\n",
    "# list of tagged words\n",
    "test_run_base = [tup for sent in test_run for tup in sent]\n",
    "\n",
    "# list of untagged words\n",
    "test_tagged_words = [tup[0] for sent in test_run for tup in sent]\n",
    "#test_run"
   ]
  },
  {
   "cell_type": "code",
   "execution_count": 26,
   "metadata": {
    "id": "AfXEdxqtS-vR"
   },
   "outputs": [],
   "source": [
    "# tagging the test sentences\n",
    "start = time.time()\n",
    "tagged_seq = Viterbi(test_tagged_words)\n",
    "end = time.time()\n",
    "difference = end-start"
   ]
  },
  {
   "cell_type": "code",
   "execution_count": 27,
   "metadata": {
    "colab": {
     "base_uri": "https://localhost:8080/"
    },
    "id": "2YosVHhgS-vR",
    "outputId": "cfa6cf53-3bbb-467c-bd23-d5ddb7364cca"
   },
   "outputs": [
    {
     "name": "stdout",
     "output_type": "stream",
     "text": [
      "Time taken in seconds:  825.341646194458\n"
     ]
    }
   ],
   "source": [
    "print(\"Time taken in seconds: \", difference)\n",
    "#print(tagged_seq)\n",
    "#print(test_run_base)"
   ]
  },
  {
   "cell_type": "code",
   "execution_count": 28,
   "metadata": {
    "id": "F2MHMAKyS-vS"
   },
   "outputs": [],
   "source": [
    "# check accuracy of the model\n",
    "def accuracy(tagged_seq,test_run_base = test_run_base):\n",
    "    check = [i for i, j in zip(tagged_seq, test_run_base) if i == j] \n",
    "    accuracy = len(check)/len(tagged_seq)\n",
    "    return accuracy\n",
    "plain_viterbi = accuracy(tagged_seq)"
   ]
  },
  {
   "cell_type": "code",
   "execution_count": 29,
   "metadata": {
    "colab": {
     "base_uri": "https://localhost:8080/"
    },
    "id": "BciNn42zS-vS",
    "outputId": "a5259d74-0b76-48d8-c0df-b43d25a45ead"
   },
   "outputs": [
    {
     "name": "stdout",
     "output_type": "stream",
     "text": [
      "Accuracy of the plain veribii model -  0.9115346038114343\n"
     ]
    }
   ],
   "source": [
    "print(\"Accuracy of the plain veribii model - \", plain_viterbi )"
   ]
  },
  {
   "cell_type": "code",
   "execution_count": 30,
   "metadata": {
    "id": "TC9GK95NB_ql"
   },
   "outputs": [],
   "source": [
    "#Above is the accuracy that we got for plain vanilla viterbi algorithm"
   ]
  },
  {
   "cell_type": "code",
   "execution_count": 31,
   "metadata": {
    "id": "FQw-Bz8gS-vS"
   },
   "outputs": [],
   "source": [
    "incorrect_tagged_cases = [[test_run_base[i-1],j] for i, j in enumerate(zip(tagged_seq, test_run_base)) if j[0]!=j[1]]"
   ]
  },
  {
   "cell_type": "code",
   "execution_count": 32,
   "metadata": {
    "colab": {
     "base_uri": "https://localhost:8080/"
    },
    "id": "AdequgYRS-vS",
    "outputId": "45840248-f2e3-4f35-bfe9-d1dae2080aa4"
   },
   "outputs": [
    {
     "data": {
      "text/plain": [
       "[[('to', 'PRT'), (('double', 'ADJ'), ('double', 'VERB'))],\n",
       " [('U.S.', 'NOUN'), (('affiliates', '.'), ('affiliates', 'NOUN'))],\n",
       " [('the', 'DET'), (('heated', 'ADJ'), ('heated', 'VERB'))],\n",
       " [('about', 'ADP'), (('much', 'ADJ'), ('much', 'ADV'))],\n",
       " [('up', 'ADV'), (('0.95', '.'), ('0.95', 'NUM'))],\n",
       " [('up', 'ADV'), (('0.0085', '.'), ('0.0085', 'NUM'))],\n",
       " [('.', '.'), (('Payments', '.'), ('Payments', 'NOUN'))],\n",
       " [('to', 'PRT'), (('range', 'NOUN'), ('range', 'VERB'))],\n",
       " [('.', '.'), (('Gunmen', '.'), ('Gunmen', 'NOUN'))],\n",
       " [('in', 'ADP'), (('Lebanon', '.'), ('Lebanon', 'NOUN'))],\n",
       " [('Lebanon', 'NOUN'), (('assassinated', '.'), ('assassinated', 'VERB'))],\n",
       " [('Saudi', 'NOUN'), (('Arabian', '.'), ('Arabian', 'NOUN'))],\n",
       " [('the', 'DET'), (('pro-Iranian', '.'), ('pro-Iranian', 'ADJ'))],\n",
       " [('pro-Iranian', 'ADJ'), (('Islamic', '.'), ('Islamic', 'NOUN'))],\n",
       " [('the', 'DET'), (('slaying', '.'), ('slaying', 'NOUN'))],\n",
       " [('to', 'PRT'), (('avenge', '.'), ('avenge', 'VERB'))],\n",
       " [('the', 'DET'), (('beheading', '.'), ('beheading', 'NOUN'))],\n",
       " [('16', 'NUM'), (('terrorists', '.'), ('terrorists', 'NOUN'))],\n",
       " [('by', 'ADP'), (('Riyadh', '.'), ('Riyadh', 'NOUN'))],\n",
       " [('Riyadh', 'NOUN'), ((\"'s\", 'VERB'), (\"'s\", 'PRT'))],\n",
       " [('trading', 'NOUN'), (('focus', 'VERB'), ('focus', 'NOUN'))],\n",
       " [('no', 'DET'), (('secret', '.'), ('secret', 'NOUN'))],\n",
       " [(',', '.'), (('sociology', '.'), ('sociology', 'NOUN'))],\n",
       " [('is', 'VERB'), (('sparking', '.'), ('sparking', 'VERB'))],\n",
       " [('and', 'CONJ'), (('posing', '.'), ('posing', 'VERB'))],\n",
       " [('stone', 'NOUN'), (('tablets', '.'), ('tablets', 'NOUN'))],\n",
       " [('the', 'DET'), (('future', 'ADJ'), ('future', 'NOUN'))],\n",
       " [('a', 'DET'), (('much', 'ADJ'), ('much', 'ADV'))],\n",
       " [('much', 'ADV'), (('more', 'ADJ'), ('more', 'ADV'))],\n",
       " [('currently', 'ADV'), (('possess', '.'), ('possess', 'VERB'))],\n",
       " [('understanding', 'NOUN'), (('that', 'ADP'), ('that', 'DET'))],\n",
       " [('have', 'VERB'), (('more', 'ADV'), ('more', 'ADJ'))],\n",
       " [('also', 'ADV'), (('helps', '.'), ('helps', 'VERB'))],\n",
       " [('the', 'DET'), (('reluctance', '.'), ('reluctance', 'NOUN'))],\n",
       " [('farm', 'NOUN'), (('lobbies', '.'), ('lobbies', 'NOUN'))],\n",
       " [('That', 'DET'), (('designation', '.'), ('designation', 'NOUN'))],\n",
       " [('more', 'ADV'), (('generous', '.'), ('generous', 'ADJ'))],\n",
       " [('could', 'VERB'), (('purchase', 'NOUN'), ('purchase', 'VERB'))],\n",
       " [('and', 'CONJ'), (('train', 'NOUN'), ('train', 'VERB'))],\n",
       " [('the', 'DET'), (('buck', '.'), ('buck', 'NOUN'))],\n",
       " [('many', 'ADJ'), (('academics', '.'), ('academics', 'NOUN'))],\n",
       " [('the', 'DET'), (('middle', 'ADJ'), ('middle', 'NOUN'))],\n",
       " [('the', 'DET'), (('evil', 'ADJ'), ('evil', 'NOUN'))],\n",
       " [('driving', 'VERB'), (('force', 'VERB'), ('force', 'NOUN'))],\n",
       " [('.', '.'), (('Citizens', '.'), ('Citizens', 'NOUN'))],\n",
       " [('in', 'ADP'), (('Peninsula', '.'), ('Peninsula', 'NOUN'))],\n",
       " [(\"'s\", 'PRT'), (('floral', '.'), ('floral', 'ADJ'))],\n",
       " [('selling', 'VERB'), (('non-core', '.'), ('non-core', 'ADJ'))],\n",
       " [('Ringers', 'NOUN'), (('memorize', '.'), ('memorize', 'VERB'))],\n",
       " [('which', 'DET'), (('*T*-224', '.'), ('*T*-224', 'X'))],\n",
       " [('have', 'VERB'), (('odd-sounding', '.'), ('odd-sounding', 'ADJ'))],\n",
       " [('Kent', 'NOUN'), (('Treble', '.'), ('Treble', 'NOUN'))],\n",
       " [('or', 'CONJ'), (('Grandsire', '.'), ('Grandsire', 'NOUN'))],\n",
       " [('Grandsire', 'NOUN'), (('Caters', '.'), ('Caters', 'NOUN'))],\n",
       " [('also', 'ADV'), (('fetching', '.'), ('fetching', 'VERB'))],\n",
       " [('*T*-1', 'X'), (('Miles', '.'), ('Miles', 'NOUN'))],\n",
       " [('Miles', 'NOUN'), (('Barth', '.'), ('Barth', 'NOUN'))],\n",
       " [('of', 'ADP'), (('Photography', '.'), ('Photography', 'NOUN'))],\n",
       " [('center', 'NOUN'), (('commercial', 'NOUN'), ('commercial', 'ADJ'))],\n",
       " [('other', 'ADJ'), (('new-car', '.'), ('new-car', 'NOUN'))],\n",
       " [('those', 'DET'), (('that', 'ADP'), ('that', 'DET'))],\n",
       " [('Mercury', 'NOUN'), (('Cougar', '.'), ('Cougar', 'NOUN'))],\n",
       " [('you', 'PRON'), (('bothered', '.'), ('bothered', 'VERB'))],\n",
       " [('the', 'DET'), (('inverse', '.'), ('inverse', 'NOUN'))],\n",
       " [(',', '.'), (('that', 'DET'), ('that', 'ADP'))],\n",
       " [('a', 'DET'), (('raise', 'VERB'), ('raise', 'NOUN'))],\n",
       " [('bone', 'NOUN'), (('marrow', '.'), ('marrow', 'NOUN'))],\n",
       " [('other', 'ADJ'), (('blood-cell', '.'), ('blood-cell', 'NOUN'))],\n",
       " [('to', 'PRT'), (('13.1', '.'), ('13.1', 'NUM'))],\n",
       " [('auctioned', 'VERB'), (('*-108', '.'), ('*-108', 'X'))],\n",
       " [('their', 'PRON'), (('winter', '.'), ('winter', 'NOUN'))],\n",
       " [('of', 'ADP'), (('fronts', '.'), ('fronts', 'NOUN'))],\n",
       " [('the', 'DET'), (('scams', '.'), ('scams', 'NOUN'))],\n",
       " [('scams', 'NOUN'), (('show', 'NOUN'), ('show', 'VERB'))],\n",
       " [('show', 'VERB'), (('much', 'ADV'), ('much', 'ADJ'))],\n",
       " [('much', 'ADJ'), (('ingenuity', '.'), ('ingenuity', 'NOUN'))],\n",
       " [(':', '.'), (('Auditors', '.'), ('Auditors', 'NOUN'))],\n",
       " [('found', 'VERB'), (('crookery', '.'), ('crookery', 'NOUN'))],\n",
       " [('$', '.'), (('81.8', '.'), ('81.8', 'NUM'))],\n",
       " [('of', 'ADP'), (('7.20', '.'), ('7.20', 'NUM'))],\n",
       " [('bells', 'NOUN'), (('sound', 'NOUN'), ('sound', 'VERB'))],\n",
       " [('*', 'X'), (('altering', '.'), ('altering', 'VERB'))],\n",
       " [('Business', 'NOUN'), (('Journals', '.'), ('Journals', 'NOUN'))],\n",
       " [('will', 'VERB'), (('resign', '.'), ('resign', 'VERB'))],\n",
       " [('than', 'ADP'), (('relocate', '.'), ('relocate', 'NOUN'))],\n",
       " [('year', 'NOUN'), (('earlier', 'ADV'), ('earlier', 'ADJ'))],\n",
       " [('is', 'VERB'), (('unworkable', '.'), ('unworkable', 'ADJ'))],\n",
       " [('branch', 'NOUN'), (('unfunded', '.'), ('unfunded', 'ADJ'))],\n",
       " [('could', 'VERB'), (('sign', 'NOUN'), ('sign', 'VERB'))],\n",
       " [('and', 'CONJ'), (('assert', '.'), ('assert', 'VERB'))],\n",
       " [('rider', 'NOUN'), (('restricting', '.'), ('restricting', 'VERB'))],\n",
       " [('to', 'PRT'), (('falsify', '.'), ('falsify', 'VERB'))],\n",
       " [('*T*-1', 'X'), (('co-founded', '.'), ('co-founded', 'VERB'))],\n",
       " [(',', '.'), (('Mo.-based', '.'), ('Mo.-based', 'ADJ'))],\n",
       " [('a', 'DET'), (('sprawling', '.'), ('sprawling', 'ADJ'))],\n",
       " [(',', '.'), (('balkanized', '.'), ('balkanized', 'ADJ'))],\n",
       " [('the', 'DET'), (('mammoth', '.'), ('mammoth', 'ADJ'))],\n",
       " [('Finland', 'NOUN'), (('that', 'ADP'), ('that', 'DET'))],\n",
       " [('carry', 'VERB'), (('on', 'ADP'), ('on', 'PRT'))],\n",
       " [('to', 'PRT'), (('speak', '.'), ('speak', 'VERB'))],\n",
       " [('at', 'ADP'), (('theological', '.'), ('theological', 'ADJ'))],\n",
       " [('theological', 'ADJ'), (('colleges', '.'), ('colleges', 'NOUN'))],\n",
       " [('the', 'DET'), (('joys', '.'), ('joys', 'NOUN'))],\n",
       " [('bell', 'NOUN'), (('ringing', 'VERB'), ('ringing', 'NOUN'))],\n",
       " [('a', 'DET'), (('booklet', '.'), ('booklet', 'NOUN'))],\n",
       " [('country', 'NOUN'), (('entitled', '.'), ('entitled', 'VERB'))],\n",
       " [('The', 'DET'), (('Bells', '.'), ('Bells', 'NOUN'))],\n",
       " [('master', 'NOUN'), (('appointed', '.'), ('appointed', 'VERB'))],\n",
       " [('*-1', 'X'), (('commenting', '.'), ('commenting', 'VERB'))],\n",
       " [('a', 'DET'), (('wheel-loader', '.'), ('wheel-loader', 'ADJ'))],\n",
       " [('in', 'ADP'), (('Heidelberg', '.'), ('Heidelberg', 'NOUN'))],\n",
       " [('are', 'VERB'), (('all', 'DET'), ('all', 'ADV'))],\n",
       " [('a', 'DET'), (('vast', '.'), ('vast', 'ADJ'))],\n",
       " [('the', 'DET'), (('hysteria', '.'), ('hysteria', 'NOUN'))],\n",
       " [('and', 'CONJ'), (('restructuring', 'NOUN'), ('restructuring', 'VERB'))],\n",
       " [('included', 'VERB'), (('Woolworth', '.'), ('Woolworth', 'NOUN'))],\n",
       " [('Avon', 'NOUN'), (('Products', '.'), ('Products', 'NOUN'))],\n",
       " [(';', '.'), (('Paramount', '.'), ('Paramount', 'NOUN'))],\n",
       " [('and', 'CONJ'), (('Ferro', '.'), ('Ferro', 'NOUN'))],\n",
       " [('Service', 'NOUN'), (('Fracturing', '.'), ('Fracturing', 'NOUN'))],\n",
       " [('proposed', 'VERB'), (('offering', 'VERB'), ('offering', 'NOUN'))],\n",
       " [('via', 'ADP'), (('Lovett', '.'), ('Lovett', 'NOUN'))],\n",
       " [('Lovett', 'NOUN'), (('Mitchell', '.'), ('Mitchell', 'NOUN'))],\n",
       " [('Mitchell', 'NOUN'), (('Webb', '.'), ('Webb', 'NOUN'))],\n",
       " [('&', 'CONJ'), (('Garrison', '.'), ('Garrison', 'NOUN'))],\n",
       " [('and', 'CONJ'), (('Blunt', '.'), ('Blunt', 'NOUN'))],\n",
       " [('Blunt', 'NOUN'), (('Ellis', '.'), ('Ellis', 'NOUN'))],\n",
       " [('&', 'CONJ'), (('Loewi', '.'), ('Loewi', 'NOUN'))],\n",
       " [('to', 'PRT'), (('Moon', '.'), ('Moon', 'NOUN'))],\n",
       " [('Moon', 'NOUN'), (('Landrieu', '.'), ('Landrieu', 'NOUN'))],\n",
       " [('build', 'VERB'), (('that', 'ADP'), ('that', 'DET'))],\n",
       " [(\"'s\", 'PRT'), (('cavernous', '.'), ('cavernous', 'ADJ'))],\n",
       " [(',', '.'), (('money-losing', '.'), ('money-losing', 'ADJ'))],\n",
       " [('*T*-2', 'X'), (('benefits', 'NOUN'), ('benefits', 'VERB'))],\n",
       " [('little', 'ADJ'), (('relevance', '.'), ('relevance', 'NOUN'))],\n",
       " [(\"'s\", 'PRT'), (('estimates', 'VERB'), ('estimates', 'NOUN'))],\n",
       " [('$', '.'), (('225.6', '.'), ('225.6', 'NUM'))],\n",
       " [('*-4', 'X'), (('referring', '.'), ('referring', 'VERB'))],\n",
       " [('``', '.'), (('queers', '.'), ('queers', 'NOUN'))],\n",
       " [('been', 'VERB'), (('cruising', '.'), ('cruising', 'VERB'))],\n",
       " [('*-3', 'X'), (('picking', '.'), ('picking', 'VERB'))],\n",
       " [('picking', 'VERB'), (('up', 'ADV'), ('up', 'PRT'))],\n",
       " [('up', 'PRT'), (('teenage', '.'), ('teenage', 'ADJ'))],\n",
       " [('Series', 'NOUN'), (('A-D', '.'), ('A-D', 'NOUN'))],\n",
       " [('due', 'ADJ'), (('1991-1999', '.'), ('1991-1999', 'NUM'))],\n",
       " [('9', 'NUM'), (('page-one', 'ADJ'), ('page-one', 'NOUN'))],\n",
       " [('``', '.'), (('Barbara', '.'), ('Barbara', 'NOUN'))],\n",
       " [('Bush', 'NOUN'), (('Earns', '.'), ('Earns', 'VERB'))],\n",
       " [('Higher', 'ADJ'), (('Ratings', '.'), ('Ratings', 'NOUN'))],\n",
       " [('Ratings', 'NOUN'), (('Than', '.'), ('Than', 'ADP'))],\n",
       " [('is', 'VERB'), (('regrettable', '.'), ('regrettable', 'ADJ'))],\n",
       " [('regrettable', 'ADJ'), (('that', 'DET'), ('that', 'ADP'))],\n",
       " [('our', 'PRON'), (('negatives', '.'), ('negatives', 'NOUN'))],\n",
       " [('Among', 'ADP'), (('liberals', '.'), ('liberals', 'NOUN'))],\n",
       " [('adding', 'VERB'), (('more', 'ADV'), ('more', 'ADJ'))],\n",
       " [('House', 'NOUN'), (('waived', '.'), ('waived', 'VERB'))],\n",
       " [('in', 'ADP'), (('supplemental', '.'), ('supplemental', 'ADJ'))],\n",
       " [('and', 'CONJ'), (('anti-drug', '.'), ('anti-drug', 'ADJ'))],\n",
       " [('FEDERAL', 'NOUN'), (('FUNDS', '.'), ('FUNDS', 'NOUN'))],\n",
       " [('followed', 'VERB'), (('year-to-year', '.'), ('year-to-year', 'ADJ'))],\n",
       " [('clause', 'NOUN'), (('states', 'NOUN'), ('states', 'VERB'))],\n",
       " [('in', 'ADP'), (('Consequence', '.'), ('Consequence', 'NOUN'))],\n",
       " [('increasing', 'VERB'), (('trade', 'VERB'), ('trade', 'NOUN'))],\n",
       " [('trade', 'NOUN'), (('flows', 'VERB'), ('flows', 'NOUN'))],\n",
       " [('C$', '.'), (('9.625', '.'), ('9.625', 'NUM'))],\n",
       " [('The', 'DET'), (('Soviet', 'ADJ'), ('Soviet', 'NOUN'))],\n",
       " [('wants', 'VERB'), (('much', 'ADV'), ('much', 'ADJ'))],\n",
       " [('a', 'DET'), (('strain', '.'), ('strain', 'NOUN'))],\n",
       " [('a', 'DET'), (('lower-priority', '.'), ('lower-priority', 'ADJ'))],\n",
       " [('list', 'NOUN'), (('that', 'ADP'), ('that', 'DET'))],\n",
       " [('and', 'CONJ'), (('chief', 'NOUN'), ('chief', 'ADJ'))],\n",
       " [('.', '.'), (('AN', '.'), ('AN', 'DET'))],\n",
       " [('AN', 'DET'), (('EXCHANGE', '.'), ('EXCHANGE', 'NOUN'))],\n",
       " [('promises', 'VERB'), (('change', 'VERB'), ('change', 'NOUN'))],\n",
       " [('congressional', 'ADJ'), (('Republicans', '.'), ('Republicans', 'NOUN'))],\n",
       " [('to', 'PRT'), (('bend', '.'), ('bend', 'VERB'))],\n",
       " [('to', 'PRT'), (('compromise', 'NOUN'), ('compromise', 'VERB'))],\n",
       " [('*-1', 'X'), (('single-A', '.'), ('single-A', 'ADJ'))],\n",
       " [(':', '.'), (('High-grade', '.'), ('High-grade', 'ADJ'))],\n",
       " [('in', 'ADP'), (('multiples', '.'), ('multiples', 'NOUN'))],\n",
       " [(':', '.'), (('8.65', '.'), ('8.65', 'NUM'))],\n",
       " [(';', '.'), (('8.575', '.'), ('8.575', 'NUM'))],\n",
       " [('.', '.'), (('MERRILL', '.'), ('MERRILL', 'NOUN'))],\n",
       " [('MERRILL', 'NOUN'), (('LYNCH', '.'), ('LYNCH', 'NOUN'))],\n",
       " [('LYNCH', 'NOUN'), (('READY', '.'), ('READY', 'NOUN'))],\n",
       " [('READY', 'NOUN'), (('ASSETS', '.'), ('ASSETS', 'NOUN'))],\n",
       " [('ASSETS', 'NOUN'), (('TRUST', '.'), ('TRUST', 'NOUN'))],\n",
       " [(':', '.'), (('8.64', '.'), ('8.64', 'NUM'))],\n",
       " [('Richard', 'NOUN'), (('Breeden', '.'), ('Breeden', 'NOUN'))],\n",
       " [('circuit', 'NOUN'), (('breakers', '.'), ('breakers', 'NOUN'))],\n",
       " [('that', 'DET'), (('*T*-215', '.'), ('*T*-215', 'X'))],\n",
       " [('preset', 'ADJ'), (('trigger', '.'), ('trigger', 'NOUN'))],\n",
       " [(\"'s\", 'VERB'), (('imaginative', '.'), ('imaginative', 'ADJ'))],\n",
       " [('I', 'PRON'), (('visited', '.'), ('visited', 'VERB'))],\n",
       " [('employed', 'VERB'), (('*-149', '.'), ('*-149', 'X'))],\n",
       " [('.', '.'), (('Too', '.'), ('Too', 'ADV'))],\n",
       " [(',', '.'), (('less', 'ADJ'), ('less', 'ADV'))],\n",
       " [('less', 'ADV'), (('compelling', '.'), ('compelling', 'ADJ'))],\n",
       " [('forced', 'VERB'), (('*-158', '.'), ('*-158', 'X'))],\n",
       " [('registered', 'VERB'), (('reps', '.'), ('reps', 'NOUN'))],\n",
       " [('and', 'CONJ'), (('security-type', '.'), ('security-type', 'ADJ'))],\n",
       " [('training', 'NOUN'), (('so', 'ADV'), ('so', 'ADP'))],\n",
       " [('stupid', 'ADJ'), (('mistakes', '.'), ('mistakes', 'NOUN'))],\n",
       " [('of', 'ADP'), (('Landor', '.'), ('Landor', 'NOUN'))],\n",
       " [('Francisco', 'NOUN'),\n",
       "  (('identity-management', '.'), ('identity-management', 'NOUN'))],\n",
       " [('.', '.'), (('EVERYONE', '.'), ('EVERYONE', 'NOUN'))],\n",
       " [('EVERYONE', 'NOUN'), (('AGREES', '.'), ('AGREES', 'VERB'))],\n",
       " [('AGREES', 'VERB'), (('that', 'DET'), ('that', 'ADP'))],\n",
       " [('be', 'VERB'), (('repaired', '.'), ('repaired', 'VERB'))],\n",
       " [('Hills', 'NOUN'), (('lauded', '.'), ('lauded', 'VERB'))],\n",
       " [('police', 'NOUN'), (('officers', '.'), ('officers', 'NOUN'))],\n",
       " [('book', 'NOUN'), (('pirates', '.'), ('pirates', 'NOUN'))],\n",
       " [('Gulf', 'NOUN'), (('rebuffed', '.'), ('rebuffed', 'VERB'))],\n",
       " [('would', 'VERB'), (('study', 'NOUN'), ('study', 'VERB'))],\n",
       " [('former', 'ADJ'), (('ratepayers', '.'), ('ratepayers', 'NOUN'))],\n",
       " [('cost', 'NOUN'), (('overruns', '.'), ('overruns', 'NOUN'))],\n",
       " [('it', 'PRON'), (('more', 'ADJ'), ('more', 'ADV'))],\n",
       " [('sizable', 'ADJ'), (('West', 'NOUN'), ('West', 'ADJ'))],\n",
       " [('West', 'ADJ'), (('German', 'NOUN'), ('German', 'ADJ'))],\n",
       " [('German', 'ADJ'), (('refinery', '.'), ('refinery', 'NOUN'))],\n",
       " [('*', 'X'), (('tightening', '.'), ('tightening', 'VERB'))],\n",
       " [('$', '.'), (('300-a-share', '.'), ('300-a-share', 'ADJ'))],\n",
       " [('face', 'VERB'), (('accelerated', 'VERB'), ('accelerated', 'ADJ'))],\n",
       " [('accelerated', 'ADJ'), (('unfair-trade', '.'), ('unfair-trade', 'ADJ'))],\n",
       " [('unfair-trade', 'ADJ'),\n",
       "  (('investigations', '.'), ('investigations', 'NOUN'))],\n",
       " [('If', 'ADP'), (('spreads', '.'), ('spreads', 'NOUN'))],\n",
       " [('sizable', 'ADJ'), (('mutual-fund', '.'), ('mutual-fund', 'NOUN'))],\n",
       " [('could', 'VERB'), (('profit', 'NOUN'), ('profit', 'VERB'))],\n",
       " [('company', 'NOUN'), (('acknowledges', '.'), ('acknowledges', 'VERB'))],\n",
       " [('and', 'CONJ'), (('that', 'DET'), ('that', 'ADP'))],\n",
       " [('the', 'DET'), (('187', '.'), ('187', 'NUM'))],\n",
       " [('network', 'NOUN'), (('affiliates', '.'), ('affiliates', 'NOUN'))],\n",
       " [('stations', 'NOUN'), (('that', 'ADP'), ('that', 'DET'))],\n",
       " [('that', 'DET'), (('*T*-150', '.'), ('*T*-150', 'X'))],\n",
       " [('*T*-150', 'X'), (('air', 'NOUN'), ('air', 'VERB'))],\n",
       " [('a', 'DET'), (('nationwide', '.'), ('nationwide', 'ADJ'))],\n",
       " [('year', 'NOUN'), (('ago', 'ADP'), ('ago', 'ADV'))],\n",
       " [('are', 'VERB'), (('no', 'DET'), ('no', 'ADV'))],\n",
       " [('no', 'ADV'), (('longer', 'ADJ'), ('longer', 'ADV'))],\n",
       " [('on', 'ADP'), (('Sundays', '.'), ('Sundays', 'NOUN'))],\n",
       " [('are', 'VERB'), (('forcing', 'ADJ'), ('forcing', 'VERB'))],\n",
       " [('overseas', 'ADJ'), (('sites', '.'), ('sites', 'NOUN'))],\n",
       " [('for', 'ADP'), (('labor-intensive', '.'), ('labor-intensive', 'ADJ'))],\n",
       " [('.', '.'), (('Activity', '.'), ('Activity', 'NOUN'))],\n",
       " [('in', 'ADP'), (('derivative', '.'), ('derivative', 'ADJ'))],\n",
       " [('Peter', 'NOUN'), (('Holland', '.'), ('Holland', 'NOUN'))],\n",
       " [(',', '.'), (('deputy', 'NOUN'), ('deputy', 'ADJ'))],\n",
       " [(\"'s\", 'PRT'), (('move', 'VERB'), ('move', 'NOUN'))],\n",
       " [('``', '.'), (('pre-emptive', '.'), ('pre-emptive', 'ADJ'))],\n",
       " [('to', 'PRT'), (('drop', 'NOUN'), ('drop', 'VERB'))],\n",
       " [('not', 'ADV'), (('prescribe', '.'), ('prescribe', 'VERB'))],\n",
       " [('to', 'PRT'), (('assure', '.'), ('assure', 'VERB'))],\n",
       " [('for', 'ADP'), (('alleged', 'ADJ'), ('alleged', 'VERB'))],\n",
       " [('alleged', 'VERB'), (('workplace', '.'), ('workplace', 'NOUN'))],\n",
       " [('What', 'PRON'), (('*T*-102', '.'), ('*T*-102', 'X'))],\n",
       " [(\"'s\", 'VERB'), (('more', 'ADV'), ('more', 'ADJ'))],\n",
       " [('Maxwell', 'NOUN'), (('Communication', '.'), ('Communication', 'NOUN'))],\n",
       " [('LONDON', 'NOUN'), (('INTERBANK', '.'), ('INTERBANK', 'NOUN'))],\n",
       " [('INTERBANK', 'NOUN'), (('OFFERED', '.'), ('OFFERED', 'VERB'))],\n",
       " [('-LRB-', '.'), (('LIBOR', '.'), ('LIBOR', 'NOUN'))],\n",
       " [('the', 'DET'), (('upper', '.'), ('upper', 'ADJ'))],\n",
       " [('already', 'ADV'), (('trimming', '.'), ('trimming', 'VERB'))],\n",
       " [('their', 'PRON'), (('tows', '.'), ('tows', 'NOUN'))],\n",
       " [('involve', 'VERB'), (('anybody', '.'), ('anybody', 'NOUN'))],\n",
       " [('anybody', 'NOUN'), ((\"'s\", 'VERB'), (\"'s\", 'PRT'))],\n",
       " [('$', '.'), (('963', '.'), ('963', 'NUM'))],\n",
       " [('that', 'ADP'), (('net', 'ADJ'), ('net', 'NOUN'))],\n",
       " [(\"'s\", 'PRT'), (('net', 'ADJ'), ('net', 'NOUN'))],\n",
       " [('$', '.'), (('2.19', '.'), ('2.19', 'NUM'))],\n",
       " [('its', 'PRON'), (('Fax', '.'), ('Fax', 'NOUN'))],\n",
       " [('to', 'PRT'), (('Ogilvy', '.'), ('Ogilvy', 'NOUN'))],\n",
       " [('&', 'CONJ'), (('Mather', '.'), ('Mather', 'NOUN'))],\n",
       " [('a', 'DET'), (('WPP', '.'), ('WPP', 'NOUN'))],\n",
       " [('trade', 'NOUN'), (('publishing', 'NOUN'), ('publishing', 'VERB'))],\n",
       " [('would', 'VERB'), (('destroy', '.'), ('destroy', 'VERB'))],\n",
       " [('pricing', 'NOUN'), (('efficiency', '.'), ('efficiency', 'NOUN'))],\n",
       " [('*', 'X'), (('Filling', '.'), ('Filling', 'VERB'))],\n",
       " [('Filling', 'VERB'), (('out', 'ADP'), ('out', 'PRT'))],\n",
       " [('would', 'VERB'), (('tip', '.'), ('tip', 'VERB'))],\n",
       " [('Many', 'ADJ'), (('Asians', '.'), ('Asians', 'NOUN'))],\n",
       " [('desirable', 'ADJ'), (('counterweight', '.'), ('counterweight', 'NOUN'))],\n",
       " [(\"''\", '.'), (('N.V', '.'), ('N.V', 'NOUN'))],\n",
       " [('$', '.'), (('3.20', '.'), ('3.20', 'NUM'))],\n",
       " [('$', '.'), (('377.60', '.'), ('377.60', 'NUM'))],\n",
       " [('Michael', 'NOUN'), (('Derchin', '.'), ('Derchin', 'NOUN'))],\n",
       " [('$', '.'), (('300-a-share', '.'), ('300-a-share', 'ADJ'))],\n",
       " [('*U*', 'X'), (('offer', 'VERB'), ('offer', 'NOUN'))],\n",
       " [('.', '.'), (('Voters', '.'), ('Voters', 'NOUN'))],\n",
       " [('new', 'ADJ'), (('mega-stadium', '.'), ('mega-stadium', 'NOUN'))],\n",
       " [('.', '.'), (('Leon', '.'), ('Leon', 'NOUN'))],\n",
       " [('J.', 'NOUN'), (('Level', '.'), ('Level', 'NOUN'))],\n",
       " [('Warren', 'NOUN'), (('McFarlan', '.'), ('McFarlan', 'NOUN'))],\n",
       " [('final', 'ADJ'), (('modification', '.'), ('modification', 'NOUN'))],\n",
       " [('made', 'VERB'), (('*-130', '.'), ('*-130', 'X'))],\n",
       " [('five-point', 'ADJ'), (('opening', 'NOUN'), ('opening', 'VERB'))],\n",
       " [('U.S.', 'NOUN'), (('diplomats', '.'), ('diplomats', 'NOUN'))],\n",
       " [('and', 'CONJ'), (('clicked', '.'), ('clicked', 'VERB'))],\n",
       " [('the', 'DET'), (('trigger', '.'), ('trigger', 'NOUN'))],\n",
       " [('Wilder', 'NOUN'), (('talks', 'NOUN'), ('talks', 'VERB'))],\n",
       " [('adds', 'VERB'), (('up', 'ADV'), ('up', 'PRT'))],\n",
       " [('to', 'PRT'), (('American-style', '.'), ('American-style', 'ADJ'))],\n",
       " [('the', 'DET'), (('most', 'ADJ'), ('most', 'ADV'))],\n",
       " [('trading', 'NOUN'), (('that', 'ADP'), ('that', 'DET'))],\n",
       " [('that', 'DET'), (('*T*-253', '.'), ('*T*-253', 'X'))],\n",
       " [('to', 'PRT'), (('exploit', '.'), ('exploit', 'VERB'))],\n",
       " [('day', 'NOUN'), (('up', 'PRT'), ('up', 'ADV'))],\n",
       " [('-LRB-', '.'), (('56', '.'), ('56', 'NUM'))],\n",
       " [('to', 'PRT'), (('1,880', '.'), ('1,880', 'NUM'))],\n",
       " [('$', '.'), (('13.15', '.'), ('13.15', 'NUM'))],\n",
       " [('seen', 'VERB'), (('so', 'ADV'), ('so', 'ADP'))],\n",
       " [('people', 'NOUN'), (('crying', '.'), ('crying', 'VERB'))],\n",
       " [('an', 'DET'), (('assistant', 'NOUN'), ('assistant', 'ADJ'))],\n",
       " [('A', 'DET'), (('50-state', '.'), ('50-state', 'ADJ'))],\n",
       " [(',', '.'), (('school-research', '.'), ('school-research', 'ADJ'))],\n",
       " [(\"''\", '.'), (('BRAMALEA', '.'), ('BRAMALEA', 'NOUN'))],\n",
       " [('to', 'PRT'), (('issue', 'NOUN'), ('issue', 'VERB'))],\n",
       " [('US$', '.'), (('85.1', '.'), ('85.1', 'NUM'))],\n",
       " [('of', 'ADP'), (('10.5', '.'), ('10.5', 'NUM'))],\n",
       " [('as', 'ADP'), (('long', 'ADJ'), ('long', 'ADV'))],\n",
       " [('.', '.'), (('Second', 'NOUN'), ('Second', 'ADJ'))],\n",
       " [('they', 'PRON'), (('channel', '.'), ('channel', 'VERB'))],\n",
       " [('*-1', 'X'), (('Funded', '.'), ('Funded', 'VERB'))],\n",
       " [('from', 'ADP'), (('Tokio', '.'), ('Tokio', 'NOUN'))],\n",
       " [('medical', 'ADJ'), (('protocols', '.'), ('protocols', 'NOUN'))],\n",
       " [('on', 'ADP'), (('preventative', '.'), ('preventative', 'ADJ'))],\n",
       " [('a', 'DET'), (('worst-case', '.'), ('worst-case', 'ADJ'))],\n",
       " [('Donald', 'NOUN'), (('Anderson', '.'), ('Anderson', 'NOUN'))],\n",
       " [('a', 'DET'), (('59-year-old', '.'), ('59-year-old', 'ADJ'))],\n",
       " [('``', '.'), (('fluctuations', '.'), ('fluctuations', 'NOUN'))],\n",
       " [('the', 'DET'), (('heebie-jeebies', '.'), ('heebie-jeebies', 'NOUN'))],\n",
       " [('see', 'VERB'), (('much', 'ADV'), ('much', 'ADJ'))],\n",
       " [('much', 'ADJ'), (('point', 'VERB'), ('point', 'NOUN'))],\n",
       " [('*', 'X'), (('outlawing', '.'), ('outlawing', 'VERB'))],\n",
       " [('has', 'VERB'), (('engineered', '.'), ('engineered', 'VERB'))],\n",
       " [('.', '.'), (('Occidental', '.'), ('Occidental', 'NOUN'))],\n",
       " [(',', '.'), (('shelf', '.'), ('shelf', 'NOUN'))],\n",
       " [('J.', 'NOUN'), (('Lezovich', '.'), ('Lezovich', 'NOUN'))],\n",
       " [('in', 'ADP'), (('summons', '.'), ('summons', 'NOUN'))],\n",
       " [('being', 'VERB'), (('initiated', '.'), ('initiated', 'VERB'))],\n",
       " [('have', 'VERB'), (('more', 'ADV'), ('more', 'ADJ'))],\n",
       " [('that', 'DET'), (('permits', '.'), ('permits', 'VERB'))],\n",
       " [('be', 'VERB'), (('twinned', '.'), ('twinned', 'VERB'))],\n",
       " [('nearly', 'ADV'), (('complete', 'VERB'), ('complete', 'ADJ'))],\n",
       " [('miles', 'NOUN'), (('upstream', '.'), ('upstream', 'ADV'))],\n",
       " [('We', 'PRON'), (('flat', 'ADJ'), ('flat', 'ADV'))],\n",
       " [('ran', 'VERB'), (('out', 'PRT'), ('out', 'ADP'))],\n",
       " [('several', 'ADJ'), (('manufacturing', 'NOUN'), ('manufacturing', 'VERB'))],\n",
       " [('operations', 'NOUN'), (('as', 'ADP'), ('as', 'ADV'))],\n",
       " [('The', 'DET'), (('parishioners', '.'), ('parishioners', 'NOUN'))],\n",
       " [('All', 'DET'), (('Angels', '.'), ('Angels', 'NOUN'))],\n",
       " [('to', 'PRT'), (('chat', '.'), ('chat', 'VERB'))],\n",
       " [('picture', 'NOUN'), (('tubes', '.'), ('tubes', 'NOUN'))],\n",
       " [(',', '.'), (('assemble', '.'), ('assemble', 'VERB'))],\n",
       " [('and', 'CONJ'), (('export', 'NOUN'), ('export', 'VERB'))],\n",
       " [('The', 'DET'), (('official', 'NOUN'), ('official', 'ADJ'))],\n",
       " [('agency', 'NOUN'), (('PAP', '.'), ('PAP', 'NOUN'))],\n",
       " [('bring', 'VERB'), (('unrealistically', '.'), ('unrealistically', 'ADV'))],\n",
       " [('and', 'CONJ'), (('that', 'DET'), ('that', 'ADP'))],\n",
       " [('could', 'VERB'), (('emerge', '.'), ('emerge', 'VERB'))],\n",
       " [('for', 'ADP'), (('more', 'ADJ'), ('more', 'ADV'))],\n",
       " [('fully', 'ADV'), (('operational', '.'), ('operational', 'ADJ'))],\n",
       " [('operational', 'ADJ'), (('prototype', '.'), ('prototype', 'NOUN'))],\n",
       " [('were', 'VERB'), (('more', 'ADV'), ('more', 'ADJ'))],\n",
       " [('point', 'NOUN'), (('off', 'PRT'), ('off', 'ADP'))],\n",
       " [('advertised', 'VERB'), (('finance', 'VERB'), ('finance', 'NOUN'))],\n",
       " [('prices', 'NOUN'), (('soaring', '.'), ('soaring', 'VERB'))],\n",
       " [('the', 'DET'), (('reclaimed', '.'), ('reclaimed', 'VERB'))],\n",
       " [(\"'s\", 'PRT'), (('240-page', '.'), ('240-page', 'ADJ'))],\n",
       " [('.', '.'), (('Brisk', '.'), ('Brisk', 'ADJ'))],\n",
       " [('pushed', 'VERB'), (('up', 'ADV'), ('up', 'PRT'))],\n",
       " [(\"'\", 'PRT'), (('binders', '.'), ('binders', 'NOUN'))],\n",
       " [('of', 'ADP'), (('therapies', '.'), ('therapies', 'NOUN'))],\n",
       " [('in', 'ADP'), (('abortions', '.'), ('abortions', 'NOUN'))],\n",
       " [('GAF', 'NOUN'), (('TRIAL', '.'), ('TRIAL', 'NOUN'))],\n",
       " [('was', 'VERB'), (('appropriated', '.'), ('appropriated', 'VERB'))],\n",
       " [('is', 'VERB'), (('forecasting', '.'), ('forecasting', 'VERB'))],\n",
       " [(',', '.'), (('down', 'ADV'), ('down', 'ADP'))],\n",
       " [('the', 'DET'), (('diverse', '.'), ('diverse', 'ADJ'))],\n",
       " [('diverse', 'ADJ'), (('showing', 'VERB'), ('showing', 'NOUN'))],\n",
       " [('only', 'ADV'), (('enhances', '.'), ('enhances', 'VERB'))],\n",
       " [('the', 'DET'), (('importance', '.'), ('importance', 'NOUN'))],\n",
       " [('*', 'X'), (('DIALING', '.'), ('DIALING', 'VERB'))],\n",
       " [('.', '.'), (('Too', '.'), ('Too', 'ADV'))],\n",
       " [('Too', 'ADV'), (('much', 'ADV'), ('much', 'ADJ'))],\n",
       " [('give', 'VERB'), (('up', 'ADV'), ('up', 'ADP'))],\n",
       " [('get', 'VERB'), (('out', 'PRT'), ('out', 'ADP'))],\n",
       " [('Media', 'NOUN'), (('preferred', 'VERB'), ('preferred', 'ADJ'))],\n",
       " [('stock', 'NOUN'), (('that', 'ADP'), ('that', 'DET'))],\n",
       " [('that', 'DET'), (('*T*-122', '.'), ('*T*-122', 'X'))],\n",
       " [(\"'s\", 'PRT'), (('common', 'ADJ'), ('common', 'NOUN'))],\n",
       " [('*-1', 'X'), (('sketching', '.'), ('sketching', 'VERB'))],\n",
       " [('sketching', 'VERB'), (('passers-by', '.'), ('passers-by', 'NOUN'))],\n",
       " [('And', 'CONJ'), (('unlike', 'ADJ'), ('unlike', 'ADP'))],\n",
       " [('two', 'NUM'), (('ancillary', '.'), ('ancillary', 'ADJ'))],\n",
       " [('Moody', 'NOUN'), ((\"'s\", 'PRT'), (\"'s\", 'VERB'))],\n",
       " [('move', 'NOUN'), (('that', 'ADP'), ('that', 'DET'))],\n",
       " [('its', 'PRON'), (('borrowings', '.'), ('borrowings', 'NOUN'))],\n",
       " [('and', 'CONJ'), (('signal', 'NOUN'), ('signal', 'VERB'))],\n",
       " [('.', '.'), (('Big', 'NOUN'), ('Big', 'ADJ'))],\n",
       " [('Big', 'ADJ'), (('mainframe', '.'), ('mainframe', 'NOUN'))],\n",
       " [('failed', 'VERB'),\n",
       "  (('labor-management', 'NOUN'), ('labor-management', 'ADJ'))],\n",
       " [('the', 'DET'), (('sensational', '.'), ('sensational', 'ADJ'))],\n",
       " [('the', 'DET'), (('revelations', '.'), ('revelations', 'NOUN'))],\n",
       " [('the', 'DET'), (('breezy', '.'), ('breezy', 'ADJ'))],\n",
       " [(',', '.'), (('easy-to-read', '.'), ('easy-to-read', 'ADJ'))],\n",
       " [('tabloid', 'ADJ'), (('writing', 'VERB'), ('writing', 'NOUN'))],\n",
       " [('of', 'ADP'), (('gripping', '.'), ('gripping', 'ADJ'))],\n",
       " [('.', '.'), (('Later', '.'), ('Later', 'ADJ'))],\n",
       " [('Massachusetts', 'NOUN'), (('senate', '.'), ('senate', 'NOUN'))],\n",
       " [('*', 'X'), (('beginning', 'VERB'), ('beginning', 'NOUN'))],\n",
       " [('standard', 'ADJ'), (('passbook', '.'), ('passbook', 'NOUN'))],\n",
       " [(',', '.'), (('certificates', '.'), ('certificates', 'NOUN'))],\n",
       " [('and', 'CONJ'), (('interest-bearing', '.'), ('interest-bearing', 'ADJ'))],\n",
       " [('and', 'CONJ'), (('staggering', '.'), ('staggering', 'ADJ'))],\n",
       " [('the', 'DET'), (('removal', '.'), ('removal', 'NOUN'))],\n",
       " [('it', 'PRON'), (('perceives', '.'), ('perceives', 'VERB'))],\n",
       " [('perceives', 'VERB'), (('*T*-183', '.'), ('*T*-183', 'X'))],\n",
       " [('are', 'VERB'), (('queuing', '.'), ('queuing', 'VERB'))],\n",
       " [('the', 'DET'), (('working', 'NOUN'), ('working', 'VERB'))],\n",
       " [('very', 'ADV'), (('unsympathetic', '.'), ('unsympathetic', 'ADJ'))],\n",
       " [('II', 'NOUN'), (('places', 'NOUN'), ('places', 'VERB'))],\n",
       " [('the', 'DET'), (('Advice', '.'), ('Advice', 'NOUN'))],\n",
       " [('and', 'CONJ'), (('Consent', '.'), ('Consent', 'NOUN'))],\n",
       " [(\"''\", '.'), (('appoint', '.'), ('appoint', 'VERB'))],\n",
       " [(',', '.'), (('ambassadors', '.'), ('ambassadors', 'NOUN'))],\n",
       " [('other', 'ADJ'), (('officers', '.'), ('officers', 'NOUN'))],\n",
       " [('might', 'VERB'), (('resonate', '.'), ('resonate', 'VERB'))],\n",
       " [('had', 'VERB'), (('as', 'ADP'), ('as', 'ADV'))],\n",
       " [('the', 'DET'), (('camera', '.'), ('camera', 'NOUN'))],\n",
       " [('.', '.'), (('Recently', '.'), ('Recently', 'ADV'))],\n",
       " [('Drexel', 'NOUN'), (('circulated', '.'), ('circulated', 'VERB'))],\n",
       " [('To', 'PRT'), (('profit', 'NOUN'), ('profit', 'VERB'))],\n",
       " [('.', '.'), (('Perpetual', '.'), ('Perpetual', 'ADJ'))],\n",
       " [(\"n't\", 'ADV'), (('retractable', '.'), ('retractable', 'ADJ'))],\n",
       " [('a', 'DET'), (('liquidation', '.'), ('liquidation', 'NOUN'))],\n",
       " [('.', '.'), (('Demand', '.'), ('Demand', 'NOUN'))],\n",
       " [('but', 'CONJ'), (('due', 'ADJ'), ('due', 'ADV'))],\n",
       " [(',', '.'), (('overseas', 'ADV'), ('overseas', 'ADJ'))],\n",
       " [('a', 'DET'), (('tall', '.'), ('tall', 'ADJ'))],\n",
       " [('spent', 'VERB'), (('much', 'ADV'), ('much', 'ADJ'))],\n",
       " [('*U*', 'X'), (('face', 'VERB'), ('face', 'NOUN'))]]"
      ]
     },
     "execution_count": 32,
     "metadata": {
      "tags": []
     },
     "output_type": "execute_result"
    }
   ],
   "source": [
    "#Let's find out incorrect tags\n",
    "incorrect_tagged_cases"
   ]
  },
  {
   "cell_type": "code",
   "execution_count": 33,
   "metadata": {
    "id": "Ikt-jGMXS-vS"
   },
   "outputs": [],
   "source": [
    "#Now let's test this model on test sentences which contains words which are not present in the training dataset."
   ]
  },
  {
   "cell_type": "markdown",
   "metadata": {
    "id": "1UiGyGeuP1YF"
   },
   "source": [
    "## 4. Evaluating on Test Set\n",
    "\n",
    "We will going to test this model on test sentences."
   ]
  },
  {
   "cell_type": "code",
   "execution_count": 34,
   "metadata": {
    "id": "3f_CFrncS-vS"
   },
   "outputs": [],
   "source": [
    "## Testing of unknown word\n",
    "\n",
    "def test_vertibi_simple(sentence):\n",
    "    words = word_tokenize(sentence)\n",
    "    tagged_seq = Viterbi(words)\n",
    "    return tagged_seq"
   ]
  },
  {
   "cell_type": "code",
   "execution_count": 35,
   "metadata": {
    "colab": {
     "base_uri": "https://localhost:8080/"
    },
    "id": "GJaRLr2mS-vS",
    "outputId": "827db5a5-e0f7-47aa-d724-0c0143f50fab"
   },
   "outputs": [
    {
     "data": {
      "text/plain": [
       "[('Android', '.'),\n",
       " ('has', 'VERB'),\n",
       " ('been', 'VERB'),\n",
       " ('the', 'DET'),\n",
       " ('best-selling', 'ADJ'),\n",
       " ('OS', '.'),\n",
       " ('worldwide', '.'),\n",
       " ('on', 'ADP'),\n",
       " ('smartphones', '.'),\n",
       " ('since', 'ADP'),\n",
       " ('2011', '.'),\n",
       " ('and', 'CONJ'),\n",
       " ('on', 'ADP'),\n",
       " ('tablets', '.'),\n",
       " ('since', 'ADP'),\n",
       " ('2013', '.'),\n",
       " ('.', '.')]"
      ]
     },
     "execution_count": 35,
     "metadata": {
      "tags": []
     },
     "output_type": "execute_result"
    }
   ],
   "source": [
    "test_vertibi_simple(\"Android has been the best-selling OS worldwide on smartphones since 2011 and on tablets since 2013.\")"
   ]
  },
  {
   "cell_type": "markdown",
   "metadata": {
    "id": "kLqw7R5YS-vS"
   },
   "source": [
    "<font color = 'red'>[Observation]:</font> Android,OS,smartphones are nouns but incorrectly tagged, as emission probs will be 0 and hence it will assign tag which has o value. Let's see two more exaples."
   ]
  },
  {
   "cell_type": "code",
   "execution_count": 36,
   "metadata": {
    "colab": {
     "base_uri": "https://localhost:8080/"
    },
    "id": "DneC5PnVS-vS",
    "outputId": "4c13e0aa-ecd8-4013-893a-eb413ae5981f"
   },
   "outputs": [
    {
     "data": {
      "text/plain": [
       "[('Google', '.'),\n",
       " ('and', 'CONJ'),\n",
       " ('Twitter', '.'),\n",
       " ('made', 'VERB'),\n",
       " ('a', 'DET'),\n",
       " ('deal', 'NOUN'),\n",
       " ('in', 'ADP'),\n",
       " ('2015', '.'),\n",
       " ('that', 'DET'),\n",
       " ('gave', 'VERB'),\n",
       " ('Google', '.'),\n",
       " ('access', 'NOUN'),\n",
       " ('to', 'PRT'),\n",
       " ('Twitter', '.'),\n",
       " (\"'s\", 'VERB'),\n",
       " ('firehose', '.'),\n",
       " ('.', '.')]"
      ]
     },
     "execution_count": 36,
     "metadata": {
      "tags": []
     },
     "output_type": "execute_result"
    }
   ],
   "source": [
    "test_vertibi_simple(\"Google and Twitter made a deal in 2015 that gave Google access to Twitter's firehose.\")"
   ]
  },
  {
   "cell_type": "markdown",
   "metadata": {
    "id": "m0gCP60JS-vS"
   },
   "source": [
    "<font color = 'red'>[Observation]:</font> Google and Twitter are nouns but incorrectly tagged, as emission probs for Android will be 0 and hence it will assign tag which has o value. Let's see two more exaples."
   ]
  },
  {
   "cell_type": "code",
   "execution_count": 37,
   "metadata": {
    "colab": {
     "base_uri": "https://localhost:8080/"
    },
    "id": "JO4yr_0YS-vS",
    "outputId": "65010dff-0621-40c9-a697-7962bdd6e52b"
   },
   "outputs": [
    {
     "data": {
      "text/plain": [
       "[('NASA', '.'),\n",
       " ('invited', '.'),\n",
       " ('social', 'ADJ'),\n",
       " ('media', 'NOUN'),\n",
       " ('users', 'NOUN'),\n",
       " ('to', 'PRT'),\n",
       " ('experience', 'NOUN'),\n",
       " ('the', 'DET'),\n",
       " ('launch', 'NOUN'),\n",
       " ('of', 'ADP'),\n",
       " ('ICESAT-2', '.'),\n",
       " ('Satellite', '.'),\n",
       " ('.', '.')]"
      ]
     },
     "execution_count": 37,
     "metadata": {
      "tags": []
     },
     "output_type": "execute_result"
    }
   ],
   "source": [
    "test_vertibi_simple(\"NASA invited social media users to experience the launch of ICESAT-2 Satellite.\")"
   ]
  },
  {
   "cell_type": "markdown",
   "metadata": {
    "id": "hUhONc-FS-vS"
   },
   "source": [
    "<font color = 'red'>[Observation]:</font> Same problem."
   ]
  },
  {
   "cell_type": "markdown",
   "metadata": {},
   "source": [
    "### Problems with Plain Viterbii algorithm - "
   ]
  },
  {
   "cell_type": "markdown",
   "metadata": {},
   "source": [
    "1) It's unable to tag unknown words correctly.\n",
    "2) It's unable to tag numbers properly.\n",
    "\n",
    "Why it's happening?\n",
    "\n",
    "When we encounter unknow word then we will get emission probablity for that word is 0 as word_given_tag will have 0 for word count.\n",
    "Hence all state probabls will be 0, then we'll get default tag as op for unknow words. <br>\n",
    "\n",
    "We've to find ways by which we can solve this problem. We can see that most of the words which are unknown are nouns, and there are some ed words as well. So we can create a model which will assign noun tag to unknown (non-ed) words. <br>\n",
    "\n",
    "Let's explore this possibility."
   ]
  },
  {
   "cell_type": "markdown",
   "metadata": {
    "id": "S6ZAbiwxP1YH"
   },
   "source": [
    "### Now we will find ways by which we can correct these incorrect tags."
   ]
  },
  {
   "cell_type": "code",
   "execution_count": 38,
   "metadata": {
    "colab": {
     "base_uri": "https://localhost:8080/"
    },
    "id": "bGBWMQSp7LoH",
    "outputId": "f8f310b5-723d-4fa2-f34f-500a05910451"
   },
   "outputs": [
    {
     "name": "stdout",
     "output_type": "stream",
     "text": [
      "Total gerunds =  2397\n",
      "Total noun gerunds =  783\n",
      "Total verb gerunds =  1397\n"
     ]
    }
   ],
   "source": [
    "#Let's do some analysis for gerunds\n",
    "gerund = [(w, t) for w,t in train_tagged_words if re.search('.*ing$',w)]\n",
    "print(\"Total gerunds = \",len(gerund))\n",
    "noun = [(w,t) for w,t in gerund if t =='NOUN'  ]\n",
    "print(\"Total noun gerunds = \",len(noun))\n",
    "verb = [(w,t) for w,t in gerund if t =='VERB'  ]\n",
    "print(\"Total verb gerunds = \",len(verb))\n",
    "#So we have gerunds which are coming as verb and noun pos tag"
   ]
  },
  {
   "cell_type": "code",
   "execution_count": 39,
   "metadata": {
    "colab": {
     "base_uri": "https://localhost:8080/",
     "height": 187
    },
    "id": "cSpgYLJR-W_R",
    "outputId": "0216f6dc-d643-453c-b38b-903a73b0e465"
   },
   "outputs": [
    {
     "data": {
      "text/plain": [
       "[('painting', 'NOUN'),\n",
       " ('programming', 'NOUN'),\n",
       " ('advertising', 'NOUN'),\n",
       " ('handling', 'NOUN'),\n",
       " ('buying', 'NOUN')]"
      ]
     },
     "metadata": {
      "tags": []
     },
     "output_type": "display_data"
    },
    {
     "data": {
      "text/plain": [
       "[('making', 'VERB'),\n",
       " ('providing', 'VERB'),\n",
       " ('managing', 'VERB'),\n",
       " ('regarding', 'VERB'),\n",
       " ('sleeping', 'VERB')]"
      ]
     },
     "metadata": {
      "tags": []
     },
     "output_type": "display_data"
    }
   ],
   "source": [
    "#Let's see some of them\n",
    "display(noun[0:5])\n",
    "display(verb[0:5])"
   ]
  },
  {
   "cell_type": "markdown",
   "metadata": {
    "id": "boPOLL2I-3Mp"
   },
   "source": [
    "<font color = 'red'>[Observation]:</font>  Above analysis suggests that we should tag unknow gerund as VERB as probablity of it being VERB will be higher than noun"
   ]
  },
  {
   "cell_type": "code",
   "execution_count": 40,
   "metadata": {
    "colab": {
     "base_uri": "https://localhost:8080/"
    },
    "id": "EMp9SeN9_Ymu",
    "outputId": "76fc996c-42b7-4d94-90d1-2509452a79c1"
   },
   "outputs": [
    {
     "name": "stdout",
     "output_type": "stream",
     "text": [
      "Total verb_ed  = 3051\n",
      "Total noun verb_ed =  72\n",
      "Total verb verb_ed =  2672\n"
     ]
    }
   ],
   "source": [
    "#Let's do same analysis for ed verbs\n",
    "verb_ed = [(w, t) for w,t in train_tagged_words if re.search('.*ed$',w)]\n",
    "print(\"Total verb_ed  =\",len(verb_ed))\n",
    "noun = [(w,t) for w,t in verb_ed if t =='NOUN'  ]\n",
    "print(\"Total noun verb_ed = \",len(noun))\n",
    "verb = [(w,t) for w,t in verb_ed if t =='VERB'  ]\n",
    "print(\"Total verb verb_ed = \",len(verb))\n",
    "#so unknown ed should be attach to VERB\n"
   ]
  },
  {
   "cell_type": "markdown",
   "metadata": {
    "id": "iBzJAJxqP1YJ"
   },
   "source": [
    "<font color = 'red'>[Observation]:</font>  Above analysis suggests that we should tag unknow ed words as VERB as probablity of it being VERB will be higher than noun"
   ]
  },
  {
   "cell_type": "code",
   "execution_count": 41,
   "metadata": {
    "id": "DR8_TrQES-vS"
   },
   "outputs": [],
   "source": [
    "#So we need to use other techniques to rectify this issue"
   ]
  },
  {
   "cell_type": "markdown",
   "metadata": {
    "id": "bRVEWM3hS-vS"
   },
   "source": [
    "### Solve the problem of unknown words\n",
    "1) First we will use Rule based POS to solve the problem of unknown words. <br>\n",
    "2) Then we'll modify viterbii algorithm to consider only state probablities when emission probablity will be 0"
   ]
  },
  {
   "cell_type": "markdown",
   "metadata": {
    "id": "rOo6IgeLP1YL"
   },
   "source": [
    "#### Technique 1:"
   ]
  },
  {
   "cell_type": "code",
   "execution_count": 42,
   "metadata": {
    "id": "6KzTvFPHXV11"
   },
   "outputs": [],
   "source": [
    "#Let's define Rule base tagger\n",
    "patterns = [\n",
    "    (r'.*ing$', 'VERB'),              # gerund\n",
    "    (r'.*ed$', 'VERB'),               # past tense\n",
    "    (r'([A-z]|\\*)*\\*+', 'X'),                # plural nouns\n",
    "    (r'^-?[1-9]+(.[1-9]+)?$', 'NUM'), # cardinal numbers\n",
    "    (r'.*', 'NOUN')                    # nouns\n",
    "]\n",
    "\n",
    "regexp_tagger = nltk.RegexpTagger(patterns)"
   ]
  },
  {
   "cell_type": "code",
   "execution_count": 43,
   "metadata": {
    "id": "54fMP9DUS-vS"
   },
   "outputs": [],
   "source": [
    "# Viterbi Heuristic algorithm after making changes \n",
    "def Viterbi_adv(words, train_bag = train_tagged_words):\n",
    "    state = []\n",
    "    T = list(set([pair[1] for pair in train_bag]))\n",
    "    \n",
    "    for key, word in enumerate(words):\n",
    "        #initialise list of probability column for a given observation\n",
    "        p = [] \n",
    "        for tag in T:\n",
    "            if key == 0:\n",
    "                transition_p = tags_df.loc['.', tag]\n",
    "            else:\n",
    "                transition_p = tags_df.loc[state[-1], tag]\n",
    "                \n",
    "            # compute emission and state probabilities\n",
    "            emission_p = word_given_tag(words[key], tag)[0]/word_given_tag(words[key], tag)[1]\n",
    "            state_probability = emission_p * transition_p    \n",
    "            p.append(state_probability)\n",
    "            \n",
    "        pmax = max(p)\n",
    "        # getting state for which probability is maximum\n",
    "        state_max = T[p.index(pmax)] \n",
    "        if max(p) == 0 :\n",
    "            word = word.replace(',','').replace('.','')\n",
    "            state_max = regexp_tagger.tag([word])[0][1]\n",
    "        if word.isnumeric() & (word != '0'):\n",
    "            state_max = 'NUM'\n",
    "        state.append(state_max)\n",
    "    return list(zip(words, state))"
   ]
  },
  {
   "cell_type": "code",
   "execution_count": 44,
   "metadata": {
    "id": "4m3ZwdKtXsxl"
   },
   "outputs": [],
   "source": [
    "def test_vertibi_simple_adv(sentence):\n",
    "    words = word_tokenize(sentence)\n",
    "    tagged_seq = Viterbi_adv(words)\n",
    "    return tagged_seq"
   ]
  },
  {
   "cell_type": "code",
   "execution_count": 45,
   "metadata": {
    "id": "rcHM8joQS-vS"
   },
   "outputs": [],
   "source": [
    "# tagging the test sentences\n",
    "start = time.time()\n",
    "tagged_seq = Viterbi_adv(test_tagged_words)\n",
    "end = time.time()\n",
    "difference = end-start\n",
    "adv_viterbi = accuracy(tagged_seq)"
   ]
  },
  {
   "cell_type": "markdown",
   "metadata": {
    "id": "6fruzc22P1YM"
   },
   "source": [
    "#### Evaluating tagging accuracy"
   ]
  },
  {
   "cell_type": "code",
   "execution_count": 46,
   "metadata": {
    "colab": {
     "base_uri": "https://localhost:8080/"
    },
    "id": "cArIvGbrP1YM",
    "outputId": "a20e2a8f-e393-4870-f9fa-1d45c0bdf9be"
   },
   "outputs": [
    {
     "name": "stdout",
     "output_type": "stream",
     "text": [
      "Accuracy of the veribii model (Tech1)-  0.9558676028084253\n"
     ]
    }
   ],
   "source": [
    "#we can see that tagging accuracy increase dramatically \n",
    "print(\"Accuracy of the veribii model (Tech1)- \",adv_viterbi )"
   ]
  },
  {
   "cell_type": "code",
   "execution_count": 47,
   "metadata": {
    "colab": {
     "base_uri": "https://localhost:8080/"
    },
    "id": "Xo5epqETP1YN",
    "outputId": "dcb706e9-2d7c-42c1-b5f4-cc60ae1a661f"
   },
   "outputs": [
    {
     "data": {
      "text/plain": [
       "[[('to', 'PRT'), (('double', 'ADJ'), ('double', 'VERB'))],\n",
       " [('the', 'DET'), (('heated', 'ADJ'), ('heated', 'VERB'))],\n",
       " [('about', 'ADP'), (('much', 'ADJ'), ('much', 'ADV'))],\n",
       " [('to', 'PRT'), (('range', 'NOUN'), ('range', 'VERB'))],\n",
       " [('the', 'DET'), (('pro-Iranian', 'NOUN'), ('pro-Iranian', 'ADJ'))],\n",
       " [('the', 'DET'), (('slaying', 'VERB'), ('slaying', 'NOUN'))],\n",
       " [('to', 'PRT'), (('avenge', 'NOUN'), ('avenge', 'VERB'))],\n",
       " [('the', 'DET'), (('beheading', 'VERB'), ('beheading', 'NOUN'))],\n",
       " [('trading', 'NOUN'), (('focus', 'VERB'), ('focus', 'NOUN'))],\n",
       " [('the', 'DET'), (('future', 'ADJ'), ('future', 'NOUN'))],\n",
       " [('a', 'DET'), (('much', 'ADJ'), ('much', 'ADV'))],\n",
       " [('much', 'ADV'), (('more', 'ADJ'), ('more', 'ADV'))],\n",
       " [('currently', 'ADV'), (('possess', 'NOUN'), ('possess', 'VERB'))],\n",
       " [('understanding', 'NOUN'), (('that', 'ADP'), ('that', 'DET'))],\n",
       " [('have', 'VERB'), (('more', 'ADV'), ('more', 'ADJ'))],\n",
       " [('also', 'ADV'), (('helps', 'NOUN'), ('helps', 'VERB'))],\n",
       " [('more', 'ADV'), (('generous', 'NOUN'), ('generous', 'ADJ'))],\n",
       " [('could', 'VERB'), (('purchase', 'NOUN'), ('purchase', 'VERB'))],\n",
       " [('and', 'CONJ'), (('train', 'NOUN'), ('train', 'VERB'))],\n",
       " [('the', 'DET'), (('middle', 'ADJ'), ('middle', 'NOUN'))],\n",
       " [('the', 'DET'), (('evil', 'ADJ'), ('evil', 'NOUN'))],\n",
       " [('driving', 'VERB'), (('force', 'VERB'), ('force', 'NOUN'))],\n",
       " [(\"'s\", 'PRT'), (('floral', 'NOUN'), ('floral', 'ADJ'))],\n",
       " [('selling', 'VERB'), (('non-core', 'NOUN'), ('non-core', 'ADJ'))],\n",
       " [('Ringers', 'NOUN'), (('memorize', 'NOUN'), ('memorize', 'VERB'))],\n",
       " [('have', 'VERB'), (('odd-sounding', 'VERB'), ('odd-sounding', 'ADJ'))],\n",
       " [('center', 'NOUN'), (('commercial', 'NOUN'), ('commercial', 'ADJ'))],\n",
       " [('those', 'DET'), (('that', 'ADP'), ('that', 'DET'))],\n",
       " [(',', '.'), (('that', 'DET'), ('that', 'ADP'))],\n",
       " [('a', 'DET'), (('raise', 'VERB'), ('raise', 'NOUN'))],\n",
       " [('scams', 'NOUN'), (('show', 'NOUN'), ('show', 'VERB'))],\n",
       " [('show', 'VERB'), (('much', 'ADV'), ('much', 'ADJ'))],\n",
       " [('bells', 'NOUN'), (('sound', 'NOUN'), ('sound', 'VERB'))],\n",
       " [('will', 'VERB'), (('resign', 'NOUN'), ('resign', 'VERB'))],\n",
       " [('year', 'NOUN'), (('earlier', 'ADV'), ('earlier', 'ADJ'))],\n",
       " [('is', 'VERB'), (('unworkable', 'NOUN'), ('unworkable', 'ADJ'))],\n",
       " [('branch', 'NOUN'), (('unfunded', 'VERB'), ('unfunded', 'ADJ'))],\n",
       " [('could', 'VERB'), (('sign', 'NOUN'), ('sign', 'VERB'))],\n",
       " [('and', 'CONJ'), (('assert', 'NOUN'), ('assert', 'VERB'))],\n",
       " [('to', 'PRT'), (('falsify', 'NOUN'), ('falsify', 'VERB'))],\n",
       " [(',', '.'), (('Mo.-based', 'VERB'), ('Mo.-based', 'ADJ'))],\n",
       " [('a', 'DET'), (('sprawling', 'VERB'), ('sprawling', 'ADJ'))],\n",
       " [(',', '.'), (('balkanized', 'VERB'), ('balkanized', 'ADJ'))],\n",
       " [('the', 'DET'), (('mammoth', 'NOUN'), ('mammoth', 'ADJ'))],\n",
       " [('Finland', 'NOUN'), (('that', 'ADP'), ('that', 'DET'))],\n",
       " [('carry', 'VERB'), (('on', 'ADP'), ('on', 'PRT'))],\n",
       " [('to', 'PRT'), (('speak', 'NOUN'), ('speak', 'VERB'))],\n",
       " [('at', 'ADP'), (('theological', 'NOUN'), ('theological', 'ADJ'))],\n",
       " [('bell', 'NOUN'), (('ringing', 'VERB'), ('ringing', 'NOUN'))],\n",
       " [('a', 'DET'), (('wheel-loader', 'NOUN'), ('wheel-loader', 'ADJ'))],\n",
       " [('are', 'VERB'), (('all', 'DET'), ('all', 'ADV'))],\n",
       " [('a', 'DET'), (('vast', 'NOUN'), ('vast', 'ADJ'))],\n",
       " [('and', 'CONJ'), (('restructuring', 'NOUN'), ('restructuring', 'VERB'))],\n",
       " [('Service', 'NOUN'), (('Fracturing', 'VERB'), ('Fracturing', 'NOUN'))],\n",
       " [('proposed', 'VERB'), (('offering', 'VERB'), ('offering', 'NOUN'))],\n",
       " [('build', 'VERB'), (('that', 'ADP'), ('that', 'DET'))],\n",
       " [(\"'s\", 'PRT'), (('cavernous', 'NOUN'), ('cavernous', 'ADJ'))],\n",
       " [(',', '.'), (('money-losing', 'VERB'), ('money-losing', 'ADJ'))],\n",
       " [('*T*-2', 'X'), (('benefits', 'NOUN'), ('benefits', 'VERB'))],\n",
       " [(\"'s\", 'PRT'), (('estimates', 'VERB'), ('estimates', 'NOUN'))],\n",
       " [('picking', 'VERB'), (('up', 'ADV'), ('up', 'PRT'))],\n",
       " [('up', 'PRT'), (('teenage', 'NOUN'), ('teenage', 'ADJ'))],\n",
       " [('9', 'NUM'), (('page-one', 'ADJ'), ('page-one', 'NOUN'))],\n",
       " [('Bush', 'NOUN'), (('Earns', 'NOUN'), ('Earns', 'VERB'))],\n",
       " [('Ratings', 'NOUN'), (('Than', 'NOUN'), ('Than', 'ADP'))],\n",
       " [('is', 'VERB'), (('regrettable', 'NOUN'), ('regrettable', 'ADJ'))],\n",
       " [('adding', 'VERB'), (('more', 'ADV'), ('more', 'ADJ'))],\n",
       " [('in', 'ADP'), (('supplemental', 'NOUN'), ('supplemental', 'ADJ'))],\n",
       " [('and', 'CONJ'), (('anti-drug', 'NOUN'), ('anti-drug', 'ADJ'))],\n",
       " [('followed', 'VERB'), (('year-to-year', 'NOUN'), ('year-to-year', 'ADJ'))],\n",
       " [('clause', 'NOUN'), (('states', 'NOUN'), ('states', 'VERB'))],\n",
       " [('increasing', 'VERB'), (('trade', 'VERB'), ('trade', 'NOUN'))],\n",
       " [('trade', 'NOUN'), (('flows', 'VERB'), ('flows', 'NOUN'))],\n",
       " [('The', 'DET'), (('Soviet', 'ADJ'), ('Soviet', 'NOUN'))],\n",
       " [('wants', 'VERB'), (('much', 'ADV'), ('much', 'ADJ'))],\n",
       " [('a', 'DET'), (('lower-priority', 'NOUN'), ('lower-priority', 'ADJ'))],\n",
       " [('list', 'NOUN'), (('that', 'ADP'), ('that', 'DET'))],\n",
       " [('and', 'CONJ'), (('chief', 'NOUN'), ('chief', 'ADJ'))],\n",
       " [('.', '.'), (('AN', 'NOUN'), ('AN', 'DET'))],\n",
       " [('promises', 'VERB'), (('change', 'VERB'), ('change', 'NOUN'))],\n",
       " [('to', 'PRT'), (('bend', 'NOUN'), ('bend', 'VERB'))],\n",
       " [('to', 'PRT'), (('compromise', 'NOUN'), ('compromise', 'VERB'))],\n",
       " [('*-1', 'X'), (('single-A', 'NOUN'), ('single-A', 'ADJ'))],\n",
       " [(':', '.'), (('High-grade', 'NOUN'), ('High-grade', 'ADJ'))],\n",
       " [('breakers', 'NOUN'), (('that', 'ADP'), ('that', 'DET'))],\n",
       " [(\"'s\", 'VERB'), (('imaginative', 'NOUN'), ('imaginative', 'ADJ'))],\n",
       " [('.', '.'), (('Too', 'NOUN'), ('Too', 'ADV'))],\n",
       " [(',', '.'), (('less', 'ADJ'), ('less', 'ADV'))],\n",
       " [('less', 'ADV'), (('compelling', 'VERB'), ('compelling', 'ADJ'))],\n",
       " [('and', 'CONJ'), (('security-type', 'NOUN'), ('security-type', 'ADJ'))],\n",
       " [('training', 'NOUN'), (('so', 'ADV'), ('so', 'ADP'))],\n",
       " [('EVERYONE', 'NOUN'), (('AGREES', 'NOUN'), ('AGREES', 'VERB'))],\n",
       " [('rebuffed', 'VERB'), (('that', 'ADP'), ('that', 'DET'))],\n",
       " [('would', 'VERB'), (('study', 'NOUN'), ('study', 'VERB'))],\n",
       " [('it', 'PRON'), (('more', 'ADJ'), ('more', 'ADV'))],\n",
       " [('sizable', 'ADJ'), (('West', 'NOUN'), ('West', 'ADJ'))],\n",
       " [('West', 'ADJ'), (('German', 'NOUN'), ('German', 'ADJ'))],\n",
       " [('$', '.'), (('300-a-share', 'NOUN'), ('300-a-share', 'ADJ'))],\n",
       " [('face', 'VERB'), (('accelerated', 'VERB'), ('accelerated', 'ADJ'))],\n",
       " [('accelerated', 'ADJ'), (('unfair-trade', 'NOUN'), ('unfair-trade', 'ADJ'))],\n",
       " [('could', 'VERB'), (('profit', 'NOUN'), ('profit', 'VERB'))],\n",
       " [('company', 'NOUN'), (('acknowledges', 'NOUN'), ('acknowledges', 'VERB'))],\n",
       " [('and', 'CONJ'), (('that', 'DET'), ('that', 'ADP'))],\n",
       " [('stations', 'NOUN'), (('that', 'ADP'), ('that', 'DET'))],\n",
       " [('*T*-150', 'X'), (('air', 'NOUN'), ('air', 'VERB'))],\n",
       " [('a', 'DET'), (('nationwide', 'NOUN'), ('nationwide', 'ADJ'))],\n",
       " [('year', 'NOUN'), (('ago', 'ADP'), ('ago', 'ADV'))],\n",
       " [('are', 'VERB'), (('no', 'DET'), ('no', 'ADV'))],\n",
       " [('no', 'ADV'), (('longer', 'ADJ'), ('longer', 'ADV'))],\n",
       " [('are', 'VERB'), (('forcing', 'ADJ'), ('forcing', 'VERB'))],\n",
       " [('for', 'ADP'), (('labor-intensive', 'NOUN'), ('labor-intensive', 'ADJ'))],\n",
       " [('in', 'ADP'), (('derivative', 'NOUN'), ('derivative', 'ADJ'))],\n",
       " [(',', '.'), (('deputy', 'NOUN'), ('deputy', 'ADJ'))],\n",
       " [(\"'s\", 'PRT'), (('move', 'VERB'), ('move', 'NOUN'))],\n",
       " [('``', '.'), (('pre-emptive', 'NOUN'), ('pre-emptive', 'ADJ'))],\n",
       " [('to', 'PRT'), (('drop', 'NOUN'), ('drop', 'VERB'))],\n",
       " [('not', 'ADV'), (('prescribe', 'NOUN'), ('prescribe', 'VERB'))],\n",
       " [('to', 'PRT'), (('assure', 'NOUN'), ('assure', 'VERB'))],\n",
       " [('for', 'ADP'), (('alleged', 'ADJ'), ('alleged', 'VERB'))],\n",
       " [('*T*-102', 'X'), ((\"'s\", 'PRT'), (\"'s\", 'VERB'))],\n",
       " [('INTERBANK', 'NOUN'), (('OFFERED', 'NOUN'), ('OFFERED', 'VERB'))],\n",
       " [('the', 'DET'), (('upper', 'NOUN'), ('upper', 'ADJ'))],\n",
       " [('that', 'ADP'), (('net', 'ADJ'), ('net', 'NOUN'))],\n",
       " [(\"'s\", 'PRT'), (('net', 'ADJ'), ('net', 'NOUN'))],\n",
       " [('trade', 'NOUN'), (('publishing', 'NOUN'), ('publishing', 'VERB'))],\n",
       " [('would', 'VERB'), (('destroy', 'NOUN'), ('destroy', 'VERB'))],\n",
       " [('out', 'PRT'), (('detailed', 'VERB'), ('detailed', 'ADJ'))],\n",
       " [('would', 'VERB'), (('tip', 'NOUN'), ('tip', 'VERB'))],\n",
       " [('$', '.'), (('300-a-share', 'NOUN'), ('300-a-share', 'ADJ'))],\n",
       " [('*U*', 'X'), (('offer', 'VERB'), ('offer', 'NOUN'))],\n",
       " [('five-point', 'ADJ'), (('opening', 'NOUN'), ('opening', 'VERB'))],\n",
       " [('Wilder', 'NOUN'), (('talks', 'NOUN'), ('talks', 'VERB'))],\n",
       " [('adds', 'VERB'), (('up', 'ADV'), ('up', 'PRT'))],\n",
       " [('to', 'PRT'), (('American-style', 'NOUN'), ('American-style', 'ADJ'))],\n",
       " [('the', 'DET'), (('most', 'ADJ'), ('most', 'ADV'))],\n",
       " [('trading', 'NOUN'), (('that', 'ADP'), ('that', 'DET'))],\n",
       " [('to', 'PRT'), (('exploit', 'NOUN'), ('exploit', 'VERB'))],\n",
       " [('exploit', 'VERB'), (('brief', 'VERB'), ('brief', 'ADJ'))],\n",
       " [('day', 'NOUN'), (('up', 'PRT'), ('up', 'ADV'))],\n",
       " [('seen', 'VERB'), (('so', 'ADV'), ('so', 'ADP'))],\n",
       " [('an', 'DET'), (('assistant', 'NOUN'), ('assistant', 'ADJ'))],\n",
       " [('A', 'DET'), (('50-state', 'NOUN'), ('50-state', 'ADJ'))],\n",
       " [(',', '.'), (('school-research', 'NOUN'), ('school-research', 'ADJ'))],\n",
       " [('to', 'PRT'), (('issue', 'NOUN'), ('issue', 'VERB'))],\n",
       " [('as', 'ADP'), (('long', 'ADJ'), ('long', 'ADV'))],\n",
       " [('.', '.'), (('Second', 'NOUN'), ('Second', 'ADJ'))],\n",
       " [('they', 'PRON'), (('channel', 'NOUN'), ('channel', 'VERB'))],\n",
       " [('on', 'ADP'), (('preventative', 'NOUN'), ('preventative', 'ADJ'))],\n",
       " [('a', 'DET'), (('worst-case', 'NOUN'), ('worst-case', 'ADJ'))],\n",
       " [('a', 'DET'), (('59-year-old', 'NOUN'), ('59-year-old', 'ADJ'))],\n",
       " [('see', 'VERB'), (('much', 'ADV'), ('much', 'ADJ'))],\n",
       " [('much', 'ADJ'), (('point', 'VERB'), ('point', 'NOUN'))],\n",
       " [('have', 'VERB'), (('more', 'ADV'), ('more', 'ADJ'))],\n",
       " [('that', 'DET'), (('permits', 'NOUN'), ('permits', 'VERB'))],\n",
       " [('nearly', 'ADV'), (('complete', 'VERB'), ('complete', 'ADJ'))],\n",
       " [('miles', 'NOUN'), (('upstream', 'NOUN'), ('upstream', 'ADV'))],\n",
       " [('We', 'PRON'), (('flat', 'ADJ'), ('flat', 'ADV'))],\n",
       " [('ran', 'VERB'), (('out', 'PRT'), ('out', 'ADP'))],\n",
       " [('several', 'ADJ'), (('manufacturing', 'NOUN'), ('manufacturing', 'VERB'))],\n",
       " [('operations', 'NOUN'), (('as', 'ADP'), ('as', 'ADV'))],\n",
       " [('to', 'PRT'), (('chat', 'NOUN'), ('chat', 'VERB'))],\n",
       " [(',', '.'), (('assemble', 'NOUN'), ('assemble', 'VERB'))],\n",
       " [('and', 'CONJ'), (('export', 'NOUN'), ('export', 'VERB'))],\n",
       " [('The', 'DET'), (('official', 'NOUN'), ('official', 'ADJ'))],\n",
       " [('bring', 'VERB'),\n",
       "  (('unrealistically', 'NOUN'), ('unrealistically', 'ADV'))],\n",
       " [('and', 'CONJ'), (('that', 'DET'), ('that', 'ADP'))],\n",
       " [('could', 'VERB'), (('emerge', 'NOUN'), ('emerge', 'VERB'))],\n",
       " [('for', 'ADP'), (('more', 'ADJ'), ('more', 'ADV'))],\n",
       " [('fully', 'ADV'), (('operational', 'NOUN'), ('operational', 'ADJ'))],\n",
       " [('were', 'VERB'), (('more', 'ADV'), ('more', 'ADJ'))],\n",
       " [('point', 'NOUN'), (('off', 'PRT'), ('off', 'ADP'))],\n",
       " [('advertised', 'VERB'), (('finance', 'VERB'), ('finance', 'NOUN'))],\n",
       " [(\"'s\", 'PRT'), (('240-page', 'NOUN'), ('240-page', 'ADJ'))],\n",
       " [('.', '.'), (('Brisk', 'NOUN'), ('Brisk', 'ADJ'))],\n",
       " [('pushed', 'VERB'), (('up', 'ADV'), ('up', 'PRT'))],\n",
       " [(',', '.'), (('down', 'ADV'), ('down', 'ADP'))],\n",
       " [('the', 'DET'), (('diverse', 'NOUN'), ('diverse', 'ADJ'))],\n",
       " [('diverse', 'ADJ'), (('showing', 'VERB'), ('showing', 'NOUN'))],\n",
       " [('only', 'ADV'), (('enhances', 'NOUN'), ('enhances', 'VERB'))],\n",
       " [('*', 'X'), (('DIALING', 'NOUN'), ('DIALING', 'VERB'))],\n",
       " [('.', '.'), (('Too', 'NOUN'), ('Too', 'ADV'))],\n",
       " [('Too', 'ADV'), (('much', 'ADV'), ('much', 'ADJ'))],\n",
       " [('give', 'VERB'), (('up', 'ADV'), ('up', 'ADP'))],\n",
       " [('get', 'VERB'), (('out', 'PRT'), ('out', 'ADP'))],\n",
       " [('Media', 'NOUN'), (('preferred', 'VERB'), ('preferred', 'ADJ'))],\n",
       " [('stock', 'NOUN'), (('that', 'ADP'), ('that', 'DET'))],\n",
       " [(\"'s\", 'PRT'), (('common', 'ADJ'), ('common', 'NOUN'))],\n",
       " [('And', 'CONJ'), (('unlike', 'ADJ'), ('unlike', 'ADP'))],\n",
       " [('two', 'NUM'), (('ancillary', 'NOUN'), ('ancillary', 'ADJ'))],\n",
       " [('Moody', 'NOUN'), ((\"'s\", 'PRT'), (\"'s\", 'VERB'))],\n",
       " [('move', 'NOUN'), (('that', 'ADP'), ('that', 'DET'))],\n",
       " [('and', 'CONJ'), (('signal', 'NOUN'), ('signal', 'VERB'))],\n",
       " [('.', '.'), (('Big', 'NOUN'), ('Big', 'ADJ'))],\n",
       " [('failed', 'VERB'),\n",
       "  (('labor-management', 'NOUN'), ('labor-management', 'ADJ'))],\n",
       " [('the', 'DET'), (('sensational', 'NOUN'), ('sensational', 'ADJ'))],\n",
       " [('the', 'DET'), (('breezy', 'NOUN'), ('breezy', 'ADJ'))],\n",
       " [(',', '.'), (('easy-to-read', 'NOUN'), ('easy-to-read', 'ADJ'))],\n",
       " [('tabloid', 'ADJ'), (('writing', 'VERB'), ('writing', 'NOUN'))],\n",
       " [('of', 'ADP'), (('gripping', 'VERB'), ('gripping', 'ADJ'))],\n",
       " [('.', '.'), (('Later', 'NOUN'), ('Later', 'ADJ'))],\n",
       " [('*', 'X'), (('beginning', 'VERB'), ('beginning', 'NOUN'))],\n",
       " [('and', 'CONJ'),\n",
       "  (('interest-bearing', 'VERB'), ('interest-bearing', 'ADJ'))],\n",
       " [('interest-bearing', 'ADJ'), (('checking', 'VERB'), ('checking', 'NOUN'))],\n",
       " [('and', 'CONJ'), (('staggering', 'VERB'), ('staggering', 'ADJ'))],\n",
       " [('it', 'PRON'), (('perceives', 'NOUN'), ('perceives', 'VERB'))],\n",
       " [('the', 'DET'), (('working', 'NOUN'), ('working', 'VERB'))],\n",
       " [('very', 'ADV'), (('unsympathetic', 'NOUN'), ('unsympathetic', 'ADJ'))],\n",
       " [('II', 'NOUN'), (('places', 'NOUN'), ('places', 'VERB'))],\n",
       " [(\"''\", '.'), (('appoint', 'NOUN'), ('appoint', 'VERB'))],\n",
       " [('might', 'VERB'), (('resonate', 'NOUN'), ('resonate', 'VERB'))],\n",
       " [('had', 'VERB'), (('as', 'ADP'), ('as', 'ADV'))],\n",
       " [('.', '.'), (('Recently', 'NOUN'), ('Recently', 'ADV'))],\n",
       " [('To', 'PRT'), (('profit', 'NOUN'), ('profit', 'VERB'))],\n",
       " [('.', '.'), (('Perpetual', 'NOUN'), ('Perpetual', 'ADJ'))],\n",
       " [(\"n't\", 'ADV'), (('retractable', 'NOUN'), ('retractable', 'ADJ'))],\n",
       " [('but', 'CONJ'), (('due', 'ADJ'), ('due', 'ADV'))],\n",
       " [(',', '.'), (('overseas', 'ADV'), ('overseas', 'ADJ'))],\n",
       " [('a', 'DET'), (('tall', 'NOUN'), ('tall', 'ADJ'))],\n",
       " [('spent', 'VERB'), (('much', 'ADV'), ('much', 'ADJ'))],\n",
       " [('*U*', 'X'), (('face', 'VERB'), ('face', 'NOUN'))]]"
      ]
     },
     "execution_count": 47,
     "metadata": {
      "tags": []
     },
     "output_type": "execute_result"
    }
   ],
   "source": [
    "#words which were tagged incorrectly\n",
    "incorrect_tagged_cases = [[test_run_base[i-1],j] for i, j in enumerate(zip(tagged_seq, test_run_base)) if j[0]!=j[1]]\n",
    "incorrect_tagged_cases"
   ]
  },
  {
   "cell_type": "code",
   "execution_count": 48,
   "metadata": {
    "colab": {
     "base_uri": "https://localhost:8080/"
    },
    "id": "08w9GjzGP1YN",
    "outputId": "71bd2855-277a-4d12-91d4-75b6d74c9911"
   },
   "outputs": [
    {
     "data": {
      "text/plain": [
       "[('Android', 'NOUN'),\n",
       " ('has', 'VERB'),\n",
       " ('been', 'VERB'),\n",
       " ('the', 'DET'),\n",
       " ('best-selling', 'ADJ'),\n",
       " ('OS', 'NOUN'),\n",
       " ('worldwide', 'NOUN'),\n",
       " ('on', 'ADP'),\n",
       " ('smartphones', 'NOUN'),\n",
       " ('since', 'ADP'),\n",
       " ('2011', 'NUM'),\n",
       " ('and', 'CONJ'),\n",
       " ('on', 'ADP'),\n",
       " ('tablets', 'NOUN'),\n",
       " ('since', 'ADP'),\n",
       " ('2013', 'NUM'),\n",
       " ('.', '.')]"
      ]
     },
     "execution_count": 48,
     "metadata": {
      "tags": []
     },
     "output_type": "execute_result"
    }
   ],
   "source": [
    "#we'll test our model on random statements from  testing data set that we've\n",
    "test_vertibi_simple_adv(\"Android has been the best-selling OS worldwide on smartphones since 2011 and on tablets since 2013.\")"
   ]
  },
  {
   "cell_type": "code",
   "execution_count": 49,
   "metadata": {
    "colab": {
     "base_uri": "https://localhost:8080/"
    },
    "id": "K95wRNq5P1YO",
    "outputId": "9adbf7d0-8245-4fc8-95b1-3e3b8ab25f04"
   },
   "outputs": [
    {
     "data": {
      "text/plain": [
       "[('NASA', 'NOUN'),\n",
       " ('invited', 'VERB'),\n",
       " ('social', 'ADJ'),\n",
       " ('media', 'NOUN'),\n",
       " ('users', 'NOUN'),\n",
       " ('to', 'PRT'),\n",
       " ('experience', 'NOUN'),\n",
       " ('the', 'DET'),\n",
       " ('launch', 'NOUN'),\n",
       " ('of', 'ADP'),\n",
       " ('ICESAT-2', 'NOUN'),\n",
       " ('Satellite', 'NOUN'),\n",
       " ('.', '.')]"
      ]
     },
     "execution_count": 49,
     "metadata": {
      "tags": []
     },
     "output_type": "execute_result"
    }
   ],
   "source": [
    "test_vertibi_simple_adv(\"NASA invited social media users to experience the launch of ICESAT-2 Satellite.\")"
   ]
  },
  {
   "cell_type": "markdown",
   "metadata": {},
   "source": [
    "<font color = 'red'>[Observation]:</font>  Words like NASA, Android which are unknown words are tagged as NOUN. Besides yers are correctly tagged as numbers"
   ]
  },
  {
   "cell_type": "markdown",
   "metadata": {
    "id": "7sUEuc5DP1YO"
   },
   "source": [
    "#### Technique 2:\n",
    "\n",
    "Let's build algorithm using second technique (cosidering only state probablity for unknown words)"
   ]
  },
  {
   "cell_type": "code",
   "execution_count": 50,
   "metadata": {
    "id": "ou_q8-iLP1YO"
   },
   "outputs": [],
   "source": [
    "# Viterbi Heuristic\n",
    "def Viterbi_adv_tech2(words, train_bag = train_tagged_words):\n",
    "    state = []\n",
    "    T = list(set([pair[1] for pair in train_bag]))\n",
    "    \n",
    "    for key, word in enumerate(words):\n",
    "        #initialise list of probability column for a given observation\n",
    "        p = [] \n",
    "        p1 = []\n",
    "        for tag in T:\n",
    "            if key == 0:\n",
    "                transition_p = tags_df.loc['.', tag]\n",
    "            else:\n",
    "                transition_p = tags_df.loc[state[-1], tag]\n",
    "                \n",
    "            # compute emission and state probabilities\n",
    "            emission_p = word_given_tag(words[key], tag)[0]/word_given_tag(words[key], tag)[1]\n",
    "            state_probability = emission_p * transition_p    \n",
    "            p.append(state_probability)\n",
    "            p1.append(transition_p)\n",
    "            \n",
    "                \n",
    "        pmax = max(p)\n",
    "        \n",
    "        # getting state for which probability is maximum\n",
    "        state_max = T[p.index(pmax)] \n",
    "        if (pmax == 0):\n",
    "                pmax = max(p1)\n",
    "                state_max = T[p1.index(pmax)] \n",
    "        if word.isnumeric() & (word != '0'):\n",
    "            state_max = 'NUM'\n",
    "        if 'ed' in word:\n",
    "            state_max = 'VERB'\n",
    "        state.append(state_max)\n",
    "    return list(zip(words, state))"
   ]
  },
  {
   "cell_type": "code",
   "execution_count": 51,
   "metadata": {
    "id": "yKd-SvuJP1YP"
   },
   "outputs": [],
   "source": [
    "def test_vertibi_simple_adv_tech2(sentence):\n",
    "    words = word_tokenize(sentence)\n",
    "    tagged_seq = Viterbi_adv_tech2(words)\n",
    "    return tagged_seq"
   ]
  },
  {
   "cell_type": "code",
   "execution_count": 52,
   "metadata": {
    "id": "ONX7yq8kP1YP"
   },
   "outputs": [],
   "source": [
    "# tagging the test sentences\n",
    "start = time.time()\n",
    "tagged_seq = Viterbi_adv_tech2(test_tagged_words)\n",
    "end = time.time()\n",
    "difference = end-start\n",
    "adv_viterbi_tech2 = accuracy(tagged_seq)"
   ]
  },
  {
   "cell_type": "markdown",
   "metadata": {
    "id": "VUfkAzjCS-vS"
   },
   "source": [
    "#### Evaluating tagging accuracy"
   ]
  },
  {
   "cell_type": "code",
   "execution_count": 53,
   "metadata": {
    "colab": {
     "base_uri": "https://localhost:8080/"
    },
    "id": "hcdqZTarS-vT",
    "outputId": "1029e3e9-904f-4a38-fc9e-31266029081b"
   },
   "outputs": [
    {
     "name": "stdout",
     "output_type": "stream",
     "text": [
      "Accuracy of the veribii model (Tech2)- -  0.9406218655967904\n"
     ]
    }
   ],
   "source": [
    "print(\"Accuracy of the veribii model (Tech2)- - \",adv_viterbi_tech2 )\n"
   ]
  },
  {
   "cell_type": "code",
   "execution_count": 54,
   "metadata": {
    "colab": {
     "base_uri": "https://localhost:8080/"
    },
    "id": "YJx5jNmtS-vT",
    "outputId": "af27519e-33fd-4075-bc5b-87b58d3828a9"
   },
   "outputs": [
    {
     "data": {
      "text/plain": [
       "[[('to', 'PRT'), (('double', 'ADJ'), ('double', 'VERB'))],\n",
       " [('about', 'ADP'), (('much', 'ADJ'), ('much', 'ADV'))],\n",
       " [('up', 'ADV'), (('0.95', 'VERB'), ('0.95', 'NUM'))],\n",
       " [('up', 'ADV'), (('0.0085', 'VERB'), ('0.0085', 'NUM'))],\n",
       " [('to', 'PRT'), (('range', 'NOUN'), ('range', 'VERB'))],\n",
       " [('in', 'ADP'), (('Lebanon', 'DET'), ('Lebanon', 'NOUN'))],\n",
       " [('the', 'DET'), (('pro-Iranian', 'NOUN'), ('pro-Iranian', 'ADJ'))],\n",
       " [('by', 'ADP'), (('Riyadh', 'DET'), ('Riyadh', 'NOUN'))],\n",
       " [('Riyadh', 'NOUN'), ((\"'s\", 'VERB'), (\"'s\", 'PRT'))],\n",
       " [('trading', 'NOUN'), (('focus', 'VERB'), ('focus', 'NOUN'))],\n",
       " [('is', 'VERB'), (('sparking', 'X'), ('sparking', 'VERB'))],\n",
       " [('and', 'CONJ'), (('posing', 'NOUN'), ('posing', 'VERB'))],\n",
       " [('the', 'DET'), (('future', 'ADJ'), ('future', 'NOUN'))],\n",
       " [('a', 'DET'), (('much', 'ADJ'), ('much', 'ADV'))],\n",
       " [('much', 'ADV'), (('more', 'ADJ'), ('more', 'ADV'))],\n",
       " [('more', 'ADV'), (('sophisticated', 'VERB'), ('sophisticated', 'ADJ'))],\n",
       " [('understanding', 'NOUN'), (('that', 'ADP'), ('that', 'DET'))],\n",
       " [('have', 'VERB'), (('more', 'ADV'), ('more', 'ADJ'))],\n",
       " [('more', 'ADV'), (('generous', 'VERB'), ('generous', 'ADJ'))],\n",
       " [('generous', 'ADJ'), (('credit', 'VERB'), ('credit', 'NOUN'))],\n",
       " [('could', 'VERB'), (('purchase', 'NOUN'), ('purchase', 'VERB'))],\n",
       " [('and', 'CONJ'), (('train', 'NOUN'), ('train', 'VERB'))],\n",
       " [('the', 'DET'), (('middle', 'ADJ'), ('middle', 'NOUN'))],\n",
       " [('the', 'DET'), (('evil', 'ADJ'), ('evil', 'NOUN'))],\n",
       " [('driving', 'VERB'), (('force', 'VERB'), ('force', 'NOUN'))],\n",
       " [('in', 'ADP'), (('Peninsula', 'DET'), ('Peninsula', 'NOUN'))],\n",
       " [(\"'s\", 'PRT'), (('floral', 'VERB'), ('floral', 'ADJ'))],\n",
       " [('selling', 'VERB'), (('non-core', 'X'), ('non-core', 'ADJ'))],\n",
       " [('Ringers', 'NOUN'), (('memorize', 'NOUN'), ('memorize', 'VERB'))],\n",
       " [('which', 'DET'), (('*T*-224', 'NOUN'), ('*T*-224', 'X'))],\n",
       " [('have', 'VERB'), (('odd-sounding', 'X'), ('odd-sounding', 'ADJ'))],\n",
       " [('*T*-1', 'X'), (('Miles', 'VERB'), ('Miles', 'NOUN'))],\n",
       " [('Miles', 'NOUN'), (('Barth', 'X'), ('Barth', 'NOUN'))],\n",
       " [('of', 'ADP'), (('Photography', 'DET'), ('Photography', 'NOUN'))],\n",
       " [('center', 'NOUN'), (('commercial', 'NOUN'), ('commercial', 'ADJ'))],\n",
       " [('those', 'DET'), (('that', 'ADP'), ('that', 'DET'))],\n",
       " [(',', '.'), (('that', 'DET'), ('that', 'ADP'))],\n",
       " [('give', 'VERB'), (('federal', 'VERB'), ('federal', 'ADJ'))],\n",
       " [('a', 'DET'), (('raise', 'VERB'), ('raise', 'NOUN'))],\n",
       " [('to', 'PRT'), (('13.1', 'VERB'), ('13.1', 'NUM'))],\n",
       " [('their', 'PRON'), (('winter', 'VERB'), ('winter', 'NOUN'))],\n",
       " [(',', '.'), (('federal', 'VERB'), ('federal', 'ADJ'))],\n",
       " [('of', 'ADP'), (('fronts', 'DET'), ('fronts', 'NOUN'))],\n",
       " [('scams', 'NOUN'), (('show', 'NOUN'), ('show', 'VERB'))],\n",
       " [('show', 'VERB'), (('much', 'ADV'), ('much', 'ADJ'))],\n",
       " [('much', 'ADJ'), (('ingenuity', 'VERB'), ('ingenuity', 'NOUN'))],\n",
       " [('found', 'VERB'), (('crookery', 'X'), ('crookery', 'NOUN'))],\n",
       " [('$', '.'), (('81.8', 'NOUN'), ('81.8', 'NUM'))],\n",
       " [('of', 'ADP'), (('7.20', 'DET'), ('7.20', 'NUM'))],\n",
       " [('bells', 'NOUN'), (('sound', 'NOUN'), ('sound', 'VERB'))],\n",
       " [('Valley', 'NOUN'), (('Federal', 'VERB'), ('Federal', 'NOUN'))],\n",
       " [('will', 'VERB'), (('resign', 'X'), ('resign', 'VERB'))],\n",
       " [('than', 'ADP'), (('relocate', 'DET'), ('relocate', 'NOUN'))],\n",
       " [('.', '.'), (('Reed', 'VERB'), ('Reed', 'NOUN'))],\n",
       " [('year', 'NOUN'), (('earlier', 'ADV'), ('earlier', 'ADJ'))],\n",
       " [('is', 'VERB'), (('unworkable', 'X'), ('unworkable', 'ADJ'))],\n",
       " [('branch', 'NOUN'), (('unfunded', 'VERB'), ('unfunded', 'ADJ'))],\n",
       " [('could', 'VERB'), (('sign', 'NOUN'), ('sign', 'VERB'))],\n",
       " [('and', 'CONJ'), (('assert', 'NOUN'), ('assert', 'VERB'))],\n",
       " [('rider', 'NOUN'), (('restricting', 'NOUN'), ('restricting', 'VERB'))],\n",
       " [(',', '.'), (('Mo.-based', 'VERB'), ('Mo.-based', 'ADJ'))],\n",
       " [('a', 'DET'), (('sprawling', 'NOUN'), ('sprawling', 'ADJ'))],\n",
       " [(',', '.'), (('balkanized', 'VERB'), ('balkanized', 'ADJ'))],\n",
       " [('the', 'DET'), (('mammoth', 'NOUN'), ('mammoth', 'ADJ'))],\n",
       " [('Finland', 'NOUN'), (('that', 'ADP'), ('that', 'DET'))],\n",
       " [('carry', 'VERB'), (('on', 'ADP'), ('on', 'PRT'))],\n",
       " [('at', 'ADP'), (('theological', 'DET'), ('theological', 'ADJ'))],\n",
       " [('bell', 'NOUN'), (('ringing', 'VERB'), ('ringing', 'NOUN'))],\n",
       " [('a', 'DET'), (('wheel-loader', 'NOUN'), ('wheel-loader', 'ADJ'))],\n",
       " [('in', 'ADP'), (('Heidelberg', 'DET'), ('Heidelberg', 'NOUN'))],\n",
       " [('are', 'VERB'), (('all', 'DET'), ('all', 'ADV'))],\n",
       " [('a', 'DET'), (('vast', 'NOUN'), ('vast', 'ADJ'))],\n",
       " [('and', 'CONJ'), (('restructuring', 'NOUN'), ('restructuring', 'VERB'))],\n",
       " [('included', 'VERB'), (('Woolworth', 'X'), ('Woolworth', 'NOUN'))],\n",
       " [('proposed', 'VERB'), (('offering', 'VERB'), ('offering', 'NOUN'))],\n",
       " [('via', 'ADP'), (('Lovett', 'DET'), ('Lovett', 'NOUN'))],\n",
       " [('to', 'PRT'), (('Moon', 'VERB'), ('Moon', 'NOUN'))],\n",
       " [('Moon', 'NOUN'), (('Landrieu', 'X'), ('Landrieu', 'NOUN'))],\n",
       " [('build', 'VERB'), (('that', 'ADP'), ('that', 'DET'))],\n",
       " [(\"'s\", 'PRT'), (('cavernous', 'VERB'), ('cavernous', 'ADJ'))],\n",
       " [(',', '.'), (('money-losing', 'NOUN'), ('money-losing', 'ADJ'))],\n",
       " [('*T*-2', 'X'), (('benefits', 'NOUN'), ('benefits', 'VERB'))],\n",
       " [(\"'s\", 'PRT'), (('estimates', 'VERB'), ('estimates', 'NOUN'))],\n",
       " [('$', '.'), (('225.6', 'NOUN'), ('225.6', 'NUM'))],\n",
       " [('been', 'VERB'), (('cruising', 'X'), ('cruising', 'VERB'))],\n",
       " [('picking', 'VERB'), (('up', 'ADV'), ('up', 'PRT'))],\n",
       " [('up', 'PRT'), (('teenage', 'VERB'), ('teenage', 'ADJ'))],\n",
       " [('high-tech', 'ADJ'), (('medical', 'VERB'), ('medical', 'ADJ'))],\n",
       " [('due', 'ADJ'), (('1991-1999', 'NOUN'), ('1991-1999', 'NUM'))],\n",
       " [('9', 'NUM'), (('page-one', 'ADJ'), ('page-one', 'NOUN'))],\n",
       " [('Bush', 'NOUN'), (('Earns', 'NOUN'), ('Earns', 'VERB'))],\n",
       " [('Ratings', 'NOUN'), (('Than', 'NOUN'), ('Than', 'ADP'))],\n",
       " [('is', 'VERB'), (('regrettable', 'X'), ('regrettable', 'ADJ'))],\n",
       " [('our', 'PRON'), (('negatives', 'VERB'), ('negatives', 'NOUN'))],\n",
       " [('Among', 'ADP'), (('liberals', 'DET'), ('liberals', 'NOUN'))],\n",
       " [('adding', 'VERB'), (('more', 'ADV'), ('more', 'ADJ'))],\n",
       " [('in', 'ADP'), (('supplemental', 'DET'), ('supplemental', 'ADJ'))],\n",
       " [('and', 'CONJ'), (('anti-drug', 'NOUN'), ('anti-drug', 'ADJ'))],\n",
       " [('followed', 'VERB'), (('year-to-year', 'X'), ('year-to-year', 'ADJ'))],\n",
       " [('year-to-year', 'ADJ'), (('increases', 'VERB'), ('increases', 'NOUN'))],\n",
       " [('clause', 'NOUN'), (('states', 'NOUN'), ('states', 'VERB'))],\n",
       " [('in', 'ADP'), (('Consequence', 'DET'), ('Consequence', 'NOUN'))],\n",
       " [('much', 'ADV'), (('interested', 'VERB'), ('interested', 'ADJ'))],\n",
       " [('increasing', 'VERB'), (('trade', 'VERB'), ('trade', 'NOUN'))],\n",
       " [('trade', 'NOUN'), (('flows', 'VERB'), ('flows', 'NOUN'))],\n",
       " [('The', 'DET'), (('federal', 'VERB'), ('federal', 'ADJ'))],\n",
       " [('C$', '.'), (('9.625', 'NOUN'), ('9.625', 'NUM'))],\n",
       " [('The', 'DET'), (('Soviet', 'ADJ'), ('Soviet', 'NOUN'))],\n",
       " [('wants', 'VERB'), (('much', 'ADV'), ('much', 'ADJ'))],\n",
       " [('a', 'DET'), (('lower-priority', 'NOUN'), ('lower-priority', 'ADJ'))],\n",
       " [('list', 'NOUN'), (('that', 'ADP'), ('that', 'DET'))],\n",
       " [('and', 'CONJ'), (('chief', 'NOUN'), ('chief', 'ADJ'))],\n",
       " [('.', '.'), (('AN', 'NOUN'), ('AN', 'DET'))],\n",
       " [('promises', 'VERB'), (('change', 'VERB'), ('change', 'NOUN'))],\n",
       " [('to', 'PRT'), (('compromise', 'NOUN'), ('compromise', 'VERB'))],\n",
       " [('*-1', 'X'), (('single-A', 'VERB'), ('single-A', 'ADJ'))],\n",
       " [(':', '.'), (('High-grade', 'NOUN'), ('High-grade', 'ADJ'))],\n",
       " [('High-grade', 'ADJ'), (('unsecured', 'VERB'), ('unsecured', 'ADJ'))],\n",
       " [('in', 'ADP'), (('multiples', 'DET'), ('multiples', 'NOUN'))],\n",
       " [(':', '.'), (('8.65', 'NOUN'), ('8.65', 'NUM'))],\n",
       " [(';', '.'), (('8.575', 'NOUN'), ('8.575', 'NUM'))],\n",
       " [(':', '.'), (('8.64', 'NOUN'), ('8.64', 'NUM'))],\n",
       " [('Richard', 'NOUN'), (('Breeden', 'VERB'), ('Breeden', 'NOUN'))],\n",
       " [('breakers', 'NOUN'), (('that', 'ADP'), ('that', 'DET'))],\n",
       " [('that', 'DET'), (('*T*-215', 'DET'), ('*T*-215', 'X'))],\n",
       " [(\"'s\", 'VERB'), (('imaginative', 'X'), ('imaginative', 'ADJ'))],\n",
       " [('.', '.'), (('Too', 'NOUN'), ('Too', 'ADV'))],\n",
       " [('the', 'DET'), (('precedent', 'VERB'), ('precedent', 'NOUN'))],\n",
       " [(',', '.'), (('less', 'ADJ'), ('less', 'ADV'))],\n",
       " [('less', 'ADV'), (('compelling', 'NOUN'), ('compelling', 'ADJ'))],\n",
       " [('registered', 'VERB'), (('reps', 'X'), ('reps', 'NOUN'))],\n",
       " [('and', 'CONJ'), (('security-type', 'NOUN'), ('security-type', 'ADJ'))],\n",
       " [('training', 'NOUN'), (('so', 'ADV'), ('so', 'ADP'))],\n",
       " [('of', 'ADP'), (('Landor', 'DET'), ('Landor', 'NOUN'))],\n",
       " [('EVERYONE', 'NOUN'), (('AGREES', 'NOUN'), ('AGREES', 'VERB'))],\n",
       " [('rebuffed', 'VERB'), (('that', 'ADP'), ('that', 'DET'))],\n",
       " [('would', 'VERB'), (('study', 'NOUN'), ('study', 'VERB'))],\n",
       " [('it', 'PRON'), (('more', 'ADJ'), ('more', 'ADV'))],\n",
       " [('sizable', 'ADJ'), (('West', 'NOUN'), ('West', 'ADJ'))],\n",
       " [('West', 'ADJ'), (('German', 'NOUN'), ('German', 'ADJ'))],\n",
       " [('$', '.'), (('300-a-share', 'NOUN'), ('300-a-share', 'ADJ'))],\n",
       " [('face', 'VERB'), (('accelerated', 'VERB'), ('accelerated', 'ADJ'))],\n",
       " [('accelerated', 'ADJ'), (('unfair-trade', 'X'), ('unfair-trade', 'ADJ'))],\n",
       " [('unfair-trade', 'ADJ'),\n",
       "  (('investigations', 'VERB'), ('investigations', 'NOUN'))],\n",
       " [('If', 'ADP'), (('spreads', 'DET'), ('spreads', 'NOUN'))],\n",
       " [('could', 'VERB'), (('profit', 'NOUN'), ('profit', 'VERB'))],\n",
       " [('and', 'CONJ'), (('that', 'DET'), ('that', 'ADP'))],\n",
       " [('until', 'ADP'), (('Wednesday', 'VERB'), ('Wednesday', 'NOUN'))],\n",
       " [('stations', 'NOUN'), (('that', 'ADP'), ('that', 'DET'))],\n",
       " [('that', 'DET'), (('*T*-150', 'DET'), ('*T*-150', 'X'))],\n",
       " [('*T*-150', 'X'), (('air', 'NOUN'), ('air', 'VERB'))],\n",
       " [('a', 'DET'), (('nationwide', 'NOUN'), ('nationwide', 'ADJ'))],\n",
       " [('year', 'NOUN'), (('ago', 'ADP'), ('ago', 'ADV'))],\n",
       " [('are', 'VERB'), (('no', 'DET'), ('no', 'ADV'))],\n",
       " [('no', 'ADV'), (('longer', 'ADJ'), ('longer', 'ADV'))],\n",
       " [('on', 'ADP'), (('Sundays', 'DET'), ('Sundays', 'NOUN'))],\n",
       " [('are', 'VERB'), (('forcing', 'ADJ'), ('forcing', 'VERB'))],\n",
       " [('for', 'ADP'), (('labor-intensive', 'DET'), ('labor-intensive', 'ADJ'))],\n",
       " [('in', 'ADP'), (('derivative', 'DET'), ('derivative', 'ADJ'))],\n",
       " [(',', '.'), (('deputy', 'NOUN'), ('deputy', 'ADJ'))],\n",
       " [(\"'s\", 'PRT'), (('move', 'VERB'), ('move', 'NOUN'))],\n",
       " [('``', '.'), (('pre-emptive', 'NOUN'), ('pre-emptive', 'ADJ'))],\n",
       " [('to', 'PRT'), (('drop', 'NOUN'), ('drop', 'VERB'))],\n",
       " [('alleged', 'VERB'), (('workplace', 'X'), ('workplace', 'NOUN'))],\n",
       " [('What', 'PRON'), (('*T*-102', 'VERB'), ('*T*-102', 'X'))],\n",
       " [('*T*-102', 'X'), ((\"'s\", 'PRT'), (\"'s\", 'VERB'))],\n",
       " [('INTERBANK', 'NOUN'), (('OFFERED', 'NOUN'), ('OFFERED', 'VERB'))],\n",
       " [('the', 'DET'), (('upper', 'NOUN'), ('upper', 'ADJ'))],\n",
       " [('their', 'PRON'), (('tows', 'VERB'), ('tows', 'NOUN'))],\n",
       " [('involve', 'VERB'), (('anybody', 'X'), ('anybody', 'NOUN'))],\n",
       " [('that', 'ADP'), (('net', 'ADJ'), ('net', 'NOUN'))],\n",
       " [(\"'s\", 'PRT'), (('net', 'ADJ'), ('net', 'NOUN'))],\n",
       " [('$', '.'), (('2.19', 'NOUN'), ('2.19', 'NUM'))],\n",
       " [('its', 'PRON'), (('Fax', 'VERB'), ('Fax', 'NOUN'))],\n",
       " [('to', 'PRT'), (('Ogilvy', 'VERB'), ('Ogilvy', 'NOUN'))],\n",
       " [('trade', 'NOUN'), (('publishing', 'NOUN'), ('publishing', 'VERB'))],\n",
       " [('would', 'VERB'), (('destroy', 'X'), ('destroy', 'VERB'))],\n",
       " [('out', 'PRT'), (('detailed', 'VERB'), ('detailed', 'ADJ'))],\n",
       " [('would', 'VERB'), (('tip', 'X'), ('tip', 'VERB'))],\n",
       " [('$', '.'), (('3.20', 'NOUN'), ('3.20', 'NUM'))],\n",
       " [('$', '.'), (('377.60', 'NOUN'), ('377.60', 'NUM'))],\n",
       " [('of', 'ADP'), (('United', 'VERB'), ('United', 'NOUN'))],\n",
       " [('$', '.'), (('300-a-share', 'NOUN'), ('300-a-share', 'ADJ'))],\n",
       " [('*U*', 'X'), (('offer', 'VERB'), ('offer', 'NOUN'))],\n",
       " [('five-point', 'ADJ'), (('opening', 'NOUN'), ('opening', 'VERB'))],\n",
       " [('Wilder', 'NOUN'), (('talks', 'NOUN'), ('talks', 'VERB'))],\n",
       " [('adds', 'VERB'), (('up', 'ADV'), ('up', 'PRT'))],\n",
       " [('to', 'PRT'), (('American-style', 'VERB'), ('American-style', 'ADJ'))],\n",
       " [('the', 'DET'), (('most', 'ADJ'), ('most', 'ADV'))],\n",
       " [('trading', 'NOUN'), (('that', 'ADP'), ('that', 'DET'))],\n",
       " [('that', 'DET'), (('*T*-253', 'DET'), ('*T*-253', 'X'))],\n",
       " [('day', 'NOUN'), (('up', 'PRT'), ('up', 'ADV'))],\n",
       " [('to', 'PRT'), (('1,880', 'VERB'), ('1,880', 'NUM'))],\n",
       " [('$', '.'), (('13.15', 'NOUN'), ('13.15', 'NUM'))],\n",
       " [('seen', 'VERB'), (('so', 'ADV'), ('so', 'ADP'))],\n",
       " [('people', 'NOUN'), (('crying', 'NOUN'), ('crying', 'VERB'))],\n",
       " [('an', 'DET'), (('assistant', 'NOUN'), ('assistant', 'ADJ'))],\n",
       " [('city', 'NOUN'), (('editor', 'VERB'), ('editor', 'NOUN'))],\n",
       " [('A', 'DET'), (('50-state', 'NOUN'), ('50-state', 'ADJ'))],\n",
       " [(',', '.'), (('school-research', 'NOUN'), ('school-research', 'ADJ'))],\n",
       " [('American', 'ADJ'), (('educators', 'VERB'), ('educators', 'NOUN'))],\n",
       " [('to', 'PRT'), (('issue', 'NOUN'), ('issue', 'VERB'))],\n",
       " [('US$', '.'), (('85.1', 'NOUN'), ('85.1', 'NUM'))],\n",
       " [('of', 'ADP'), (('10.5', 'DET'), ('10.5', 'NUM'))],\n",
       " [('as', 'ADP'), (('long', 'ADJ'), ('long', 'ADV'))],\n",
       " [('.', '.'), (('Second', 'NOUN'), ('Second', 'ADJ'))],\n",
       " [('from', 'ADP'), (('Tokio', 'DET'), ('Tokio', 'NOUN'))],\n",
       " [('Japanese', 'ADJ'), (('medical', 'VERB'), ('medical', 'ADJ'))],\n",
       " [('medical', 'ADJ'), (('protocols', 'X'), ('protocols', 'NOUN'))],\n",
       " [('on', 'ADP'), (('preventative', 'DET'), ('preventative', 'ADJ'))],\n",
       " [('preventative', 'ADJ'), (('medicine', 'VERB'), ('medicine', 'NOUN'))],\n",
       " [('a', 'DET'), (('worst-case', 'NOUN'), ('worst-case', 'ADJ'))],\n",
       " [('a', 'DET'), (('59-year-old', 'NOUN'), ('59-year-old', 'ADJ'))],\n",
       " [('see', 'VERB'), (('much', 'ADV'), ('much', 'ADJ'))],\n",
       " [('much', 'ADJ'), (('point', 'VERB'), ('point', 'NOUN'))],\n",
       " [('in', 'ADP'), (('summons', 'DET'), ('summons', 'NOUN'))],\n",
       " [('have', 'VERB'), (('more', 'ADV'), ('more', 'ADJ'))],\n",
       " [('that', 'DET'), (('permits', 'NOUN'), ('permits', 'VERB'))],\n",
       " [('nearly', 'ADV'), (('complete', 'VERB'), ('complete', 'ADJ'))],\n",
       " [('miles', 'NOUN'), (('upstream', 'NOUN'), ('upstream', 'ADV'))],\n",
       " [('We', 'PRON'), (('flat', 'ADJ'), ('flat', 'ADV'))],\n",
       " [('ran', 'VERB'), (('out', 'PRT'), ('out', 'ADP'))],\n",
       " [('several', 'ADJ'), (('manufacturing', 'NOUN'), ('manufacturing', 'VERB'))],\n",
       " [('operations', 'NOUN'), (('as', 'ADP'), ('as', 'ADV'))],\n",
       " [(',', '.'), (('assemble', 'NOUN'), ('assemble', 'VERB'))],\n",
       " [('and', 'CONJ'), (('export', 'NOUN'), ('export', 'VERB'))],\n",
       " [('The', 'DET'), (('official', 'NOUN'), ('official', 'ADJ'))],\n",
       " [('bring', 'VERB'), (('unrealistically', 'X'), ('unrealistically', 'ADV'))],\n",
       " [('and', 'CONJ'), (('that', 'DET'), ('that', 'ADP'))],\n",
       " [('that', 'ADP'), (('knowledge', 'VERB'), ('knowledge', 'NOUN'))],\n",
       " [('could', 'VERB'), (('emerge', 'X'), ('emerge', 'VERB'))],\n",
       " [('for', 'ADP'), (('more', 'ADJ'), ('more', 'ADV'))],\n",
       " [('fully', 'ADV'), (('operational', 'VERB'), ('operational', 'ADJ'))],\n",
       " [('operational', 'ADJ'), (('prototype', 'X'), ('prototype', 'NOUN'))],\n",
       " [('were', 'VERB'), (('more', 'ADV'), ('more', 'ADJ'))],\n",
       " [('point', 'NOUN'), (('off', 'PRT'), ('off', 'ADP'))],\n",
       " [('advertised', 'VERB'), (('finance', 'VERB'), ('finance', 'NOUN'))],\n",
       " [('prices', 'NOUN'), (('soaring', 'NOUN'), ('soaring', 'VERB'))],\n",
       " [(\"'s\", 'PRT'), (('240-page', 'VERB'), ('240-page', 'ADJ'))],\n",
       " [('.', '.'), (('Brisk', 'NOUN'), ('Brisk', 'ADJ'))],\n",
       " [('pushed', 'VERB'), (('up', 'ADV'), ('up', 'PRT'))],\n",
       " [(\"'\", 'PRT'), (('binders', 'VERB'), ('binders', 'NOUN'))],\n",
       " [('of', 'ADP'), (('therapies', 'DET'), ('therapies', 'NOUN'))],\n",
       " [('in', 'ADP'), (('abortions', 'DET'), ('abortions', 'NOUN'))],\n",
       " [('is', 'VERB'), (('forecasting', 'X'), ('forecasting', 'VERB'))],\n",
       " [(',', '.'), (('down', 'ADV'), ('down', 'ADP'))],\n",
       " [('the', 'DET'), (('diverse', 'NOUN'), ('diverse', 'ADJ'))],\n",
       " [('diverse', 'ADJ'), (('showing', 'VERB'), ('showing', 'NOUN'))],\n",
       " [('.', '.'), (('Too', 'NOUN'), ('Too', 'ADV'))],\n",
       " [('Too', 'ADV'), (('much', 'ADV'), ('much', 'ADJ'))],\n",
       " [('give', 'VERB'), (('up', 'ADV'), ('up', 'ADP'))],\n",
       " [('get', 'VERB'), (('out', 'PRT'), ('out', 'ADP'))],\n",
       " [('Heritage', 'NOUN'), (('Media', 'VERB'), ('Media', 'NOUN'))],\n",
       " [('Heritage', 'NOUN'), (('Media', 'VERB'), ('Media', 'NOUN'))],\n",
       " [('Media', 'NOUN'), (('preferred', 'VERB'), ('preferred', 'ADJ'))],\n",
       " [('stock', 'NOUN'), (('that', 'ADP'), ('that', 'DET'))],\n",
       " [('that', 'DET'), (('*T*-122', 'DET'), ('*T*-122', 'X'))],\n",
       " [('Heritage', 'NOUN'), (('Media', 'VERB'), ('Media', 'NOUN'))],\n",
       " [(\"'s\", 'PRT'), (('common', 'ADJ'), ('common', 'NOUN'))],\n",
       " [('sketching', 'VERB'), (('passers-by', 'X'), ('passers-by', 'NOUN'))],\n",
       " [('And', 'CONJ'), (('unlike', 'ADJ'), ('unlike', 'ADP'))],\n",
       " [('two', 'NUM'), (('ancillary', 'NOUN'), ('ancillary', 'ADJ'))],\n",
       " [('Moody', 'NOUN'), ((\"'s\", 'PRT'), (\"'s\", 'VERB'))],\n",
       " [('move', 'NOUN'), (('that', 'ADP'), ('that', 'DET'))],\n",
       " [('its', 'PRON'), (('borrowings', 'VERB'), ('borrowings', 'NOUN'))],\n",
       " [('and', 'CONJ'), (('signal', 'NOUN'), ('signal', 'VERB'))],\n",
       " [('.', '.'), (('Big', 'NOUN'), ('Big', 'ADJ'))],\n",
       " [('failed', 'VERB'),\n",
       "  (('labor-management', 'NOUN'), ('labor-management', 'ADJ'))],\n",
       " [('the', 'DET'), (('sensational', 'NOUN'), ('sensational', 'ADJ'))],\n",
       " [('the', 'DET'), (('breezy', 'NOUN'), ('breezy', 'ADJ'))],\n",
       " [(',', '.'), (('easy-to-read', 'NOUN'), ('easy-to-read', 'ADJ'))],\n",
       " [('tabloid', 'ADJ'), (('writing', 'VERB'), ('writing', 'NOUN'))],\n",
       " [('``', '.'), (('Feeding', 'VERB'), ('Feeding', 'NOUN'))],\n",
       " [('of', 'ADP'), (('gripping', 'DET'), ('gripping', 'ADJ'))],\n",
       " [('.', '.'), (('Later', 'NOUN'), ('Later', 'ADJ'))],\n",
       " [('*', 'X'), (('beginning', 'VERB'), ('beginning', 'NOUN'))],\n",
       " [('and', 'CONJ'),\n",
       "  (('interest-bearing', 'NOUN'), ('interest-bearing', 'ADJ'))],\n",
       " [('interest-bearing', 'ADJ'), (('checking', 'VERB'), ('checking', 'NOUN'))],\n",
       " [('and', 'CONJ'), (('staggering', 'NOUN'), ('staggering', 'ADJ'))],\n",
       " [('are', 'VERB'), (('queuing', 'X'), ('queuing', 'VERB'))],\n",
       " [('the', 'DET'), (('working', 'NOUN'), ('working', 'VERB'))],\n",
       " [('very', 'ADV'), (('unsympathetic', 'VERB'), ('unsympathetic', 'ADJ'))],\n",
       " [('II', 'NOUN'), (('places', 'NOUN'), ('places', 'VERB'))],\n",
       " [(\"''\", '.'), (('appoint', 'NOUN'), ('appoint', 'VERB'))],\n",
       " [('might', 'VERB'), (('resonate', 'X'), ('resonate', 'VERB'))],\n",
       " [('had', 'VERB'), (('as', 'ADP'), ('as', 'ADV'))],\n",
       " [('.', '.'), (('Recently', 'NOUN'), ('Recently', 'ADV'))],\n",
       " [('To', 'PRT'), (('profit', 'NOUN'), ('profit', 'VERB'))],\n",
       " [('.', '.'), (('Perpetual', 'NOUN'), ('Perpetual', 'ADJ'))],\n",
       " [(\"n't\", 'ADV'), (('retractable', 'VERB'), ('retractable', 'ADJ'))],\n",
       " [('new', 'ADJ'), (('preferred', 'VERB'), ('preferred', 'ADJ'))],\n",
       " [('but', 'CONJ'), (('due', 'ADJ'), ('due', 'ADV'))],\n",
       " [(',', '.'), (('overseas', 'ADV'), ('overseas', 'ADJ'))],\n",
       " [('a', 'DET'), (('tall', 'NOUN'), ('tall', 'ADJ'))],\n",
       " [('spent', 'VERB'), (('much', 'ADV'), ('much', 'ADJ'))],\n",
       " [('*U*', 'X'), (('face', 'VERB'), ('face', 'NOUN'))]]"
      ]
     },
     "execution_count": 54,
     "metadata": {
      "tags": []
     },
     "output_type": "execute_result"
    }
   ],
   "source": [
    "#words which were tagged incorrectly\n",
    "incorrect_tagged_cases = [[test_run_base[i-1],j] for i, j in enumerate(zip(tagged_seq, test_run_base)) if j[0]!=j[1]]\n",
    "incorrect_tagged_cases"
   ]
  },
  {
   "cell_type": "code",
   "execution_count": 55,
   "metadata": {
    "colab": {
     "base_uri": "https://localhost:8080/"
    },
    "id": "MgvEVSo1beTv",
    "outputId": "0f641d29-ece7-4355-ab80-0185208a5d86"
   },
   "outputs": [
    {
     "data": {
      "text/plain": [
       "[('Android', 'NOUN'),\n",
       " ('has', 'VERB'),\n",
       " ('been', 'VERB'),\n",
       " ('the', 'DET'),\n",
       " ('best-selling', 'ADJ'),\n",
       " ('OS', 'NOUN'),\n",
       " ('worldwide', 'NOUN'),\n",
       " ('on', 'ADP'),\n",
       " ('smartphones', 'DET'),\n",
       " ('since', 'ADP'),\n",
       " ('2011', 'NUM'),\n",
       " ('and', 'CONJ'),\n",
       " ('on', 'ADP'),\n",
       " ('tablets', 'DET'),\n",
       " ('since', 'ADP'),\n",
       " ('2013', 'NUM'),\n",
       " ('.', '.')]"
      ]
     },
     "execution_count": 55,
     "metadata": {
      "tags": []
     },
     "output_type": "execute_result"
    }
   ],
   "source": [
    "test_vertibi_simple_adv_tech2('Android has been the best-selling OS worldwide on smartphones since 2011 and on tablets since 2013.')"
   ]
  },
  {
   "cell_type": "code",
   "execution_count": 56,
   "metadata": {
    "colab": {
     "base_uri": "https://localhost:8080/"
    },
    "id": "7qPXkLdRP1YQ",
    "outputId": "6fa04c54-e834-4836-9061-04103b8ce319"
   },
   "outputs": [
    {
     "data": {
      "text/plain": [
       "[('Google', 'NOUN'),\n",
       " ('and', 'CONJ'),\n",
       " ('Twitter', 'NOUN'),\n",
       " ('made', 'VERB'),\n",
       " ('a', 'DET'),\n",
       " ('deal', 'NOUN'),\n",
       " ('in', 'ADP'),\n",
       " ('2015', 'NUM'),\n",
       " ('that', 'ADP'),\n",
       " ('gave', 'VERB'),\n",
       " ('Google', 'X'),\n",
       " ('access', 'NOUN'),\n",
       " ('to', 'PRT'),\n",
       " ('Twitter', 'VERB'),\n",
       " (\"'s\", 'PRT'),\n",
       " ('firehose', 'VERB'),\n",
       " ('.', '.')]"
      ]
     },
     "execution_count": 56,
     "metadata": {
      "tags": []
     },
     "output_type": "execute_result"
    }
   ],
   "source": [
    "test_vertibi_simple_adv_tech2(\"Google and Twitter made a deal in 2015 that gave Google access to Twitter's firehose.\")"
   ]
  },
  {
   "cell_type": "markdown",
   "metadata": {},
   "source": [
    "<font color = 'red'>[Observation]:</font> Our second technique is working well as well."
   ]
  },
  {
   "cell_type": "markdown",
   "metadata": {
    "id": "dSqUB-4fS-vT"
   },
   "source": [
    "### Compare the tagging accuracies of the modifications with the vanilla Viterbi algorithm"
   ]
  },
  {
   "cell_type": "code",
   "execution_count": 57,
   "metadata": {
    "colab": {
     "base_uri": "https://localhost:8080/"
    },
    "id": "XyCuCQGMS-vT",
    "outputId": "6b18c3a7-e703-47f0-ff1c-7cd7f69f6117"
   },
   "outputs": [
    {
     "name": "stdout",
     "output_type": "stream",
     "text": [
      "Tagging accuracy of plain Viterbi algorith -  0.9115346038114343\n",
      "Tech1 - Tagging accuracy of Viterbi algorith after modification -  0.9558676028084253\n",
      "Tech2 - Tagging accuracy of Viterbi algorith after modification -  0.9406218655967904\n"
     ]
    }
   ],
   "source": [
    "print(\"Tagging accuracy of plain Viterbi algorith - \",plain_viterbi)\n",
    "print(\"Tech1 - Tagging accuracy of Viterbi algorith after modification - \",adv_viterbi)\n",
    "print(\"Tech2 - Tagging accuracy of Viterbi algorith after modification - \",adv_viterbi_tech2)"
   ]
  },
  {
   "cell_type": "markdown",
   "metadata": {
    "id": "i4tlb2IvS-vT"
   },
   "source": [
    "### List down cases which were incorrectly tagged by original POS tagger and got corrected by your modifications"
   ]
  },
  {
   "cell_type": "code",
   "execution_count": 58,
   "metadata": {
    "colab": {
     "base_uri": "https://localhost:8080/"
    },
    "id": "SzecfTsOS-vT",
    "outputId": "a89c41d3-278c-4ef2-9aa0-0abc5b2a2e3d"
   },
   "outputs": [
    {
     "data": {
      "text/plain": [
       "[('Android', 'NOUN'),\n",
       " ('has', 'VERB'),\n",
       " ('been', 'VERB'),\n",
       " ('the', 'DET'),\n",
       " ('best-selling', 'ADJ'),\n",
       " ('OS', 'NOUN'),\n",
       " ('worldwide', 'NOUN'),\n",
       " ('on', 'ADP'),\n",
       " ('smartphones', 'NOUN'),\n",
       " ('since', 'ADP'),\n",
       " ('2011', 'NUM'),\n",
       " ('and', 'CONJ'),\n",
       " ('on', 'ADP'),\n",
       " ('tablets', 'NOUN'),\n",
       " ('since', 'ADP'),\n",
       " ('2013', 'NUM'),\n",
       " ('.', '.')]"
      ]
     },
     "execution_count": 58,
     "metadata": {
      "tags": []
     },
     "output_type": "execute_result"
    }
   ],
   "source": [
    "test_vertibi_simple_adv(\"Android has been the best-selling OS worldwide on smartphones since 2011 and on tablets since 2013.\")"
   ]
  },
  {
   "cell_type": "markdown",
   "metadata": {
    "id": "8_eWYepaS-vT"
   },
   "source": [
    "<font color = 'red'>[Observation]:</font>  After modification Android and OS have correctly tagged as nouns."
   ]
  },
  {
   "cell_type": "code",
   "execution_count": 59,
   "metadata": {
    "colab": {
     "base_uri": "https://localhost:8080/"
    },
    "id": "nwsCcyzDWwiY",
    "outputId": "9c6eafdd-b10a-4e91-e081-435ae827c29f"
   },
   "outputs": [
    {
     "data": {
      "text/plain": [
       "[('NASA', 'NOUN'),\n",
       " ('invited', 'VERB'),\n",
       " ('social', 'ADJ'),\n",
       " ('media', 'NOUN'),\n",
       " ('users', 'NOUN'),\n",
       " ('to', 'PRT'),\n",
       " ('experience', 'NOUN'),\n",
       " ('the', 'DET'),\n",
       " ('launch', 'NOUN'),\n",
       " ('of', 'ADP'),\n",
       " ('ICESAT-2', 'NOUN'),\n",
       " ('Satellite', 'NOUN'),\n",
       " ('.', '.')]"
      ]
     },
     "execution_count": 59,
     "metadata": {
      "tags": []
     },
     "output_type": "execute_result"
    }
   ],
   "source": [
    "test_vertibi_simple_adv(\"NASA invited social media users to experience the launch of ICESAT-2 Satellite.\")"
   ]
  },
  {
   "cell_type": "markdown",
   "metadata": {
    "id": "1PGsZClBP1YS"
   },
   "source": [
    "<font color = 'red'>[Observation]:</font>  Same for above statement"
   ]
  },
  {
   "cell_type": "code",
   "execution_count": 1,
   "metadata": {},
   "outputs": [
    {
     "ename": "NameError",
     "evalue": "name 'test_vertibi_simple_adv_tech2' is not defined",
     "output_type": "error",
     "traceback": [
      "\u001b[1;31m---------------------------------------------------------------------------\u001b[0m",
      "\u001b[1;31mNameError\u001b[0m                                 Traceback (most recent call last)",
      "\u001b[1;32m<ipython-input-1-2d7664b5cc4b>\u001b[0m in \u001b[0;36m<module>\u001b[1;34m\u001b[0m\n\u001b[1;32m----> 1\u001b[1;33m \u001b[0mtest_vertibi_simple_adv_tech2\u001b[0m\u001b[1;33m(\u001b[0m\u001b[1;34m\"Android has been the best-selling OS worldwide on smartphones since 2011 and on tablets since 2013.\"\u001b[0m\u001b[1;33m)\u001b[0m\u001b[1;33m\u001b[0m\u001b[1;33m\u001b[0m\u001b[0m\n\u001b[0m",
      "\u001b[1;31mNameError\u001b[0m: name 'test_vertibi_simple_adv_tech2' is not defined"
     ]
    }
   ],
   "source": [
    "test_vertibi_simple_adv_tech2(\"Android has been the best-selling OS worldwide on smartphones since 2011 and on tablets since 2013.\")"
   ]
  },
  {
   "cell_type": "code",
   "execution_count": null,
   "metadata": {},
   "outputs": [],
   "source": [
    "test_vertibi_simple_adv_tech2(\"NASA invited social media users to experience the launch of ICESAT-2 Satellite.\")"
   ]
  },
  {
   "cell_type": "markdown",
   "metadata": {},
   "source": [
    "<font color = 'red'>[Observation]:</font> So we modified algorithms and achieved desired ouput."
   ]
  }
 ],
 "metadata": {
  "colab": {
   "collapsed_sections": [],
   "name": "HMM+_based+POS+tagging_+Assignment_final.ipynb",
   "provenance": []
  },
  "kernelspec": {
   "display_name": "Python 3",
   "language": "python",
   "name": "python3"
  },
  "language_info": {
   "codemirror_mode": {
    "name": "ipython",
    "version": 3
   },
   "file_extension": ".py",
   "mimetype": "text/x-python",
   "name": "python",
   "nbconvert_exporter": "python",
   "pygments_lexer": "ipython3",
   "version": "3.7.6"
  }
 },
 "nbformat": 4,
 "nbformat_minor": 1
}
