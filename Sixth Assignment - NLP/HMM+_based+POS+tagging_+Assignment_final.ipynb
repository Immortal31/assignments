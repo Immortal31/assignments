{
 "cells": [
  {
   "cell_type": "markdown",
   "metadata": {
    "id": "ZRYsitA0S-vN"
   },
   "source": [
    "## POS tagging using modified Viterbi"
   ]
  },
  {
   "cell_type": "markdown",
   "metadata": {
    "id": "LA1w21KsS-vN"
   },
   "source": [
    "#### Flowchart of the solution -\n",
    "\n",
    "<ul>\n",
    "    <li>EDA to understand training corpus.</li>\n",
    "    <li>Plain vanilla model building.</li>\n",
    "    <li>Test plain vanilla model on test set and understand the problem.</li>\n",
    "    <li>Refining viterbi model using other pos tagging technique</li>\n",
    "</ul>"
   ]
  },
  {
   "cell_type": "markdown",
   "metadata": {
    "id": "OjUnyCJSS-vN"
   },
   "source": [
    "### Data Preparation"
   ]
  },
  {
   "cell_type": "code",
   "execution_count": 315,
   "metadata": {
    "colab": {
     "base_uri": "https://localhost:8080/"
    },
    "id": "YiyJ9u9GTJZH",
    "outputId": "79c32dbb-4502-4eaf-d1df-d774dde5cc72"
   },
   "outputs": [
    {
     "name": "stderr",
     "output_type": "stream",
     "text": [
      "[nltk_data] Downloading package treebank to\n",
      "[nltk_data]     C:\\Users\\abc\\AppData\\Roaming\\nltk_data...\n",
      "[nltk_data]   Package treebank is already up-to-date!\n",
      "[nltk_data] Downloading package universal_tagset to\n",
      "[nltk_data]     C:\\Users\\abc\\AppData\\Roaming\\nltk_data...\n",
      "[nltk_data]   Package universal_tagset is already up-to-date!\n",
      "[nltk_data] Downloading package punkt to\n",
      "[nltk_data]     C:\\Users\\abc\\AppData\\Roaming\\nltk_data...\n",
      "[nltk_data]   Package punkt is already up-to-date!\n"
     ]
    },
    {
     "data": {
      "text/plain": [
       "True"
      ]
     },
     "execution_count": 315,
     "metadata": {},
     "output_type": "execute_result"
    }
   ],
   "source": [
    "import nltk\n",
    "nltk.download('treebank')\n",
    "import nltk\n",
    "nltk.download('universal_tagset')\n",
    "import nltk\n",
    "nltk.download('punkt')"
   ]
  },
  {
   "cell_type": "code",
   "execution_count": 316,
   "metadata": {
    "id": "DK32jKZCS-vN"
   },
   "outputs": [],
   "source": [
    "#Importing libraries\n",
    "#Importing libraries\n",
    "import re\n",
    "import nltk, re, pprint\n",
    "import numpy as np\n",
    "import pandas as pd\n",
    "import requests\n",
    "import matplotlib.pyplot as plt\n",
    "import seaborn as sns\n",
    "import pprint, time\n",
    "import random\n",
    "from sklearn.model_selection import train_test_split\n",
    "from nltk.tokenize import word_tokenize"
   ]
  },
  {
   "cell_type": "code",
   "execution_count": 317,
   "metadata": {
    "id": "vzwGndTDS-vO"
   },
   "outputs": [],
   "source": [
    "# reading the Treebank tagged sentences\n",
    "nltk_data = list(nltk.corpus.treebank.tagged_sents(tagset='universal'))"
   ]
  },
  {
   "cell_type": "code",
   "execution_count": 318,
   "metadata": {
    "colab": {
     "base_uri": "https://localhost:8080/"
    },
    "id": "kwc6f2YzS-vO",
    "outputId": "07fbfd87-29ed-4890-cfad-8195fc5468bd"
   },
   "outputs": [
    {
     "name": "stdout",
     "output_type": "stream",
     "text": [
      "3718\n",
      "196\n"
     ]
    }
   ],
   "source": [
    "# Splitting into train and test\n",
    "random.seed(1234)\n",
    "train_set, test_set = train_test_split(nltk_data,test_size=0.05)\n",
    "\n",
    "print(len(train_set))\n",
    "print(len(test_set))\n"
   ]
  },
  {
   "cell_type": "code",
   "execution_count": 319,
   "metadata": {
    "colab": {
     "base_uri": "https://localhost:8080/"
    },
    "id": "79LsDK6qS-vP",
    "outputId": "0c902dc3-273f-4dea-e9be-2d8db8a78ad9"
   },
   "outputs": [
    {
     "data": {
      "text/plain": [
       "95730"
      ]
     },
     "execution_count": 319,
     "metadata": {},
     "output_type": "execute_result"
    }
   ],
   "source": [
    "# Getting list of tagged words\n",
    "train_tagged_words = [tup for sent in train_set for tup in sent]\n",
    "len(train_tagged_words)"
   ]
  },
  {
   "cell_type": "code",
   "execution_count": 320,
   "metadata": {
    "id": "SS1cHgnAS-vP"
   },
   "outputs": [],
   "source": [
    "#no of tagged words available in dataset - 95790"
   ]
  },
  {
   "cell_type": "code",
   "execution_count": 321,
   "metadata": {
    "colab": {
     "base_uri": "https://localhost:8080/"
    },
    "id": "GQOm5tOUS-vP",
    "outputId": "9c94f062-88a4-4454-da84-f2576efe0ce2"
   },
   "outputs": [
    {
     "name": "stdout",
     "output_type": "stream",
     "text": [
      "12\n",
      "{'ADJ', 'ADP', 'CONJ', 'X', 'NOUN', '.', 'NUM', 'DET', 'PRON', 'PRT', 'VERB', 'ADV'}\n"
     ]
    }
   ],
   "source": [
    "#Let's see how many unique tags we have in our dataset\n",
    "tags = [tup[1]  for sen in nltk_data for tup in sen]\n",
    "print(len(set(tags)))\n",
    "print(set(tags))\n"
   ]
  },
  {
   "cell_type": "code",
   "execution_count": 322,
   "metadata": {
    "colab": {
     "base_uri": "https://localhost:8080/"
    },
    "id": "sUGKKchGS-vQ",
    "outputId": "f15939a7-c81c-4e0a-d392-e1e61e2a70ae"
   },
   "outputs": [
    {
     "name": "stdout",
     "output_type": "stream",
     "text": [
      "100676\n"
     ]
    }
   ],
   "source": [
    "#we can see that universal dataset has only 12 tags\n",
    "#Let's see how many unique word dataset has\n",
    "voc = [tup[0]  for sen in nltk_data for tup in sen]\n",
    "print(len(voc))\n",
    "#total no. words present in dataset (including duplicate) "
   ]
  },
  {
   "cell_type": "code",
   "execution_count": 323,
   "metadata": {
    "id": "O467aujzS-vQ"
   },
   "outputs": [],
   "source": [
    "tags = set(tags)\n",
    "voc = set(voc)"
   ]
  },
  {
   "cell_type": "code",
   "execution_count": 324,
   "metadata": {
    "colab": {
     "base_uri": "https://localhost:8080/"
    },
    "id": "XF36Dp6VS-vQ",
    "outputId": "6f863086-4bda-4ad5-ab60-1bfd35469fba"
   },
   "outputs": [
    {
     "name": "stdout",
     "output_type": "stream",
     "text": [
      "{'ADJ', 'ADP', 'CONJ', 'X', 'NOUN', '.', 'NUM', 'DET', 'PRON', 'PRT', 'VERB', 'ADV'}\n"
     ]
    }
   ],
   "source": [
    "#print all the available tags\n",
    "print(tags)"
   ]
  },
  {
   "cell_type": "code",
   "execution_count": 325,
   "metadata": {
    "id": "T6SWwYqiS-vQ"
   },
   "outputs": [],
   "source": [
    "#this method we'll use to understand incorrect tags\n",
    "def plot_cnt_words(word):\n",
    "    l_words = []\n",
    "    for tag in tags:\n",
    "        c = 0\n",
    "        for w,t in train_tagged_words:\n",
    "            if (w==word)&(t==tag):\n",
    "                    c += 1\n",
    "        if c > 0:\n",
    "            l_words.append((tag,c))\n",
    "    print(l_words)\n",
    "        "
   ]
  },
  {
   "cell_type": "code",
   "execution_count": 326,
   "metadata": {
    "colab": {
     "base_uri": "https://localhost:8080/"
    },
    "id": "Lq-rirOHS-vQ",
    "outputId": "4c061cd5-6fcd-49d5-f0a3-08a664f1e586"
   },
   "outputs": [
    {
     "name": "stdout",
     "output_type": "stream",
     "text": [
      "[('PRON', 72)]\n"
     ]
    }
   ],
   "source": [
    "#demo\n",
    "plot_cnt_words(\"He\")"
   ]
  },
  {
   "cell_type": "markdown",
   "metadata": {
    "id": "43QVfq1AS-vQ"
   },
   "source": [
    "### Build the vanilla Viterbi based POS tagger\n",
    "Let's build HMM viterbi model."
   ]
  },
  {
   "cell_type": "code",
   "execution_count": 327,
   "metadata": {
    "id": "EWEfuMMfS-vQ"
   },
   "outputs": [],
   "source": [
    "#first step is to find emission and transition probablities\n",
    "t = len(tags)\n",
    "v = len(voc)\n",
    "w_given_t = np.zeros((t, v))"
   ]
  },
  {
   "cell_type": "code",
   "execution_count": 328,
   "metadata": {
    "colab": {
     "base_uri": "https://localhost:8080/"
    },
    "id": "Uqpgf42hS-vQ",
    "outputId": "70b8a85b-6ad8-495f-c14b-cc5d7ec49778"
   },
   "outputs": [
    {
     "data": {
      "text/plain": [
       "(12, 12408)"
      ]
     },
     "execution_count": 328,
     "metadata": {},
     "output_type": "execute_result"
    }
   ],
   "source": [
    "w_given_t.shape"
   ]
  },
  {
   "cell_type": "code",
   "execution_count": 329,
   "metadata": {
    "id": "s3yytG4QS-vQ"
   },
   "outputs": [],
   "source": [
    "# compute word given tag: Emission Probability\n",
    "def word_given_tag(word, tag, train_bag = train_tagged_words):\n",
    "    tag_list = [pair for pair in train_bag if pair[1]==tag]\n",
    "    count_tag = len(tag_list)\n",
    "    w_given_tag_list = [pair[0] for pair in tag_list if pair[0]==word]\n",
    "    count_w_given_tag = len(w_given_tag_list)\n",
    "    \n",
    "    return (count_w_given_tag, count_tag)"
   ]
  },
  {
   "cell_type": "code",
   "execution_count": 330,
   "metadata": {
    "colab": {
     "base_uri": "https://localhost:8080/"
    },
    "id": "svn5wXzdS-vQ",
    "outputId": "14af3b06-905e-4c57-c66e-2502e1cdda24"
   },
   "outputs": [
    {
     "name": "stdout",
     "output_type": "stream",
     "text": [
      "(81, 12895)\n",
      "(52, 12895)\n",
      "(0, 27433) \n",
      "\n"
     ]
    }
   ],
   "source": [
    "# let's check w\n",
    "print(word_given_tag('do', 'VERB'))\n",
    "print(word_given_tag('does', 'VERB'))\n",
    "print(word_given_tag('flight', 'NOUN'), \"\\n\")\n",
    "#flight word is not present in the dictionary"
   ]
  },
  {
   "cell_type": "code",
   "execution_count": 331,
   "metadata": {
    "id": "aJDyOccpS-vR"
   },
   "outputs": [],
   "source": [
    "# compute tag given tag: tag2(t2) given tag1 (t1), i.e. Transition Probability\n",
    "\n",
    "def t2_given_t1(t2, t1, train_bag = train_tagged_words):\n",
    "    tags = [pair[1] for pair in train_bag]\n",
    "    count_t1 = len([t for t in tags if t==t1])\n",
    "    count_t2_t1 = 0\n",
    "    for index in range(len(tags)-1):\n",
    "        if tags[index]==t1 and tags[index+1] == t2:\n",
    "            count_t2_t1 += 1\n",
    "    return (count_t2_t1, count_t1)"
   ]
  },
  {
   "cell_type": "code",
   "execution_count": 332,
   "metadata": {
    "colab": {
     "base_uri": "https://localhost:8080/"
    },
    "id": "AcvWBvmTS-vR",
    "outputId": "669e0a5f-8e4a-4306-8d20-7e0a535a8377"
   },
   "outputs": [
    {
     "name": "stdout",
     "output_type": "stream",
     "text": [
      "(96, 3011)\n"
     ]
    }
   ],
   "source": [
    "# examples\n",
    "print(t2_given_t1(t2='NOUN', t1='ADV'))"
   ]
  },
  {
   "cell_type": "code",
   "execution_count": 333,
   "metadata": {
    "id": "5tX_j7SlS-vR"
   },
   "outputs": [],
   "source": [
    "# creating t x t transition matrix of tags\n",
    "# each column is t2, each row is t1\n",
    "# thus M(i, j) represents P(tj given ti)\n",
    "\n",
    "tags_matrix = np.zeros((len(tags), len(tags)), dtype='float32')\n",
    "for i, t1 in enumerate(list(tags)):\n",
    "    for j, t2 in enumerate(list(tags)): \n",
    "        tags_matrix[i, j] = t2_given_t1(t2, t1)[0]/t2_given_t1(t2, t1)[1]"
   ]
  },
  {
   "cell_type": "code",
   "execution_count": 334,
   "metadata": {
    "colab": {
     "base_uri": "https://localhost:8080/"
    },
    "id": "Y9mOwz2bS-vR",
    "outputId": "f3b6f6d0-4b98-472f-a18a-2ff3da03a5ca"
   },
   "outputs": [
    {
     "data": {
      "text/plain": [
       "array([[6.66776150e-02, 7.76810646e-02, 1.74084418e-02, 2.13499758e-02,\n",
       "        6.97487295e-01, 6.53637722e-02, 2.08572838e-02, 4.92691761e-03,\n",
       "        4.92691761e-04, 1.06749879e-02, 1.21530630e-02, 4.92691761e-03],\n",
       "       [1.06167309e-01, 1.71788298e-02, 9.60307312e-04, 3.51045653e-02,\n",
       "        3.21916342e-01, 3.96926999e-02, 6.35936856e-02, 3.23730260e-01,\n",
       "        6.83952197e-02, 1.38711056e-03, 8.42936430e-03, 1.34443026e-02],\n",
       "       [1.19796485e-01, 5.27289547e-02, 4.62534692e-04, 8.78815912e-03,\n",
       "        3.44125807e-01, 3.46901007e-02, 4.20906581e-02, 1.20721556e-01,\n",
       "        5.96669763e-02, 5.08788181e-03, 1.56799257e-01, 5.50416298e-02],\n",
       "       [1.73511617e-02, 1.45813435e-01, 1.03470236e-02, 7.33842701e-02,\n",
       "        6.28780648e-02, 1.62687048e-01, 2.70614447e-03, 5.44412620e-02,\n",
       "        5.53963706e-02, 1.84972942e-01, 2.04393506e-01, 2.56287809e-02],\n",
       "       [1.22115696e-02, 1.76612109e-01, 4.23212908e-02, 2.87245288e-02,\n",
       "        2.65045762e-01, 2.40841329e-01, 9.25892219e-03, 1.31593337e-02,\n",
       "        4.48365090e-03, 4.37429361e-02, 1.46429479e-01, 1.71691030e-02],\n",
       "       [4.42731678e-02, 9.05180126e-02, 5.89711405e-02, 2.69761607e-02,\n",
       "        2.21634701e-01, 9.23104510e-02, 8.11973438e-02, 1.72521964e-01,\n",
       "        6.59616441e-02, 2.33016675e-03, 9.00699049e-02, 5.31457253e-02],\n",
       "       [3.41678932e-02, 3.53460982e-02, 1.32547868e-02, 2.10603833e-01,\n",
       "        3.52282763e-01, 1.16642118e-01, 1.87039763e-01, 3.53460968e-03,\n",
       "        1.47275405e-03, 2.53313705e-02, 1.79675985e-02, 2.35640653e-03],\n",
       "       [2.05140576e-01, 9.53300390e-03, 3.62012797e-04, 4.57342826e-02,\n",
       "        6.37383878e-01, 1.81006398e-02, 2.25654636e-02, 5.79220476e-03,\n",
       "        3.74079891e-03, 2.41341855e-04, 3.89767103e-02, 1.24291060e-02],\n",
       "       [7.36598521e-02, 2.19822600e-02, 5.39915171e-03, 9.25568864e-02,\n",
       "        2.07481682e-01, 4.12649438e-02, 7.32742017e-03, 9.64134187e-03,\n",
       "        7.71307386e-03, 1.31122256e-02, 4.85537976e-01, 3.43231782e-02],\n",
       "       [8.61447752e-02, 2.16180813e-02, 2.29282677e-03, 1.31018674e-02,\n",
       "        2.44022280e-01, 4.42188010e-02, 5.53553887e-02, 1.02194563e-01,\n",
       "        1.70324277e-02, 1.63773343e-03, 4.03209955e-01, 9.17130709e-03],\n",
       "       [6.49864301e-02, 9.12756845e-02, 5.58355963e-03, 2.17758819e-01,\n",
       "        1.10818148e-01, 3.52074429e-02, 2.31097322e-02, 1.34470731e-01,\n",
       "        3.55951935e-02, 3.14850733e-02, 1.68514922e-01, 8.11942592e-02],\n",
       "       [1.27200261e-01, 1.17568918e-01, 6.97442703e-03, 2.39123218e-02,\n",
       "        3.18830945e-02, 1.36499509e-01, 3.18830945e-02, 6.74194619e-02,\n",
       "        1.52773168e-02, 1.42809702e-02, 3.48721355e-01, 7.83792734e-02]],\n",
       "      dtype=float32)"
      ]
     },
     "execution_count": 334,
     "metadata": {},
     "output_type": "execute_result"
    }
   ],
   "source": [
    "tags_matrix"
   ]
  },
  {
   "cell_type": "code",
   "execution_count": 335,
   "metadata": {
    "id": "-zwTamWMS-vR"
   },
   "outputs": [],
   "source": [
    "# convert the matrix to a df for better readability\n",
    "tags_df = pd.DataFrame(tags_matrix, columns = list(tags), index=list(tags))"
   ]
  },
  {
   "cell_type": "code",
   "execution_count": 336,
   "metadata": {
    "colab": {
     "base_uri": "https://localhost:8080/",
     "height": 421
    },
    "id": "aP8xyanwS-vR",
    "outputId": "8996b047-db17-4f28-cd4a-e6e13b08c57f"
   },
   "outputs": [
    {
     "data": {
      "text/html": [
       "<div>\n",
       "<style scoped>\n",
       "    .dataframe tbody tr th:only-of-type {\n",
       "        vertical-align: middle;\n",
       "    }\n",
       "\n",
       "    .dataframe tbody tr th {\n",
       "        vertical-align: top;\n",
       "    }\n",
       "\n",
       "    .dataframe thead th {\n",
       "        text-align: right;\n",
       "    }\n",
       "</style>\n",
       "<table border=\"1\" class=\"dataframe\">\n",
       "  <thead>\n",
       "    <tr style=\"text-align: right;\">\n",
       "      <th></th>\n",
       "      <th>ADJ</th>\n",
       "      <th>ADP</th>\n",
       "      <th>CONJ</th>\n",
       "      <th>X</th>\n",
       "      <th>NOUN</th>\n",
       "      <th>.</th>\n",
       "      <th>NUM</th>\n",
       "      <th>DET</th>\n",
       "      <th>PRON</th>\n",
       "      <th>PRT</th>\n",
       "      <th>VERB</th>\n",
       "      <th>ADV</th>\n",
       "    </tr>\n",
       "  </thead>\n",
       "  <tbody>\n",
       "    <tr>\n",
       "      <th>ADJ</th>\n",
       "      <td>0.066678</td>\n",
       "      <td>0.077681</td>\n",
       "      <td>0.017408</td>\n",
       "      <td>0.021350</td>\n",
       "      <td>0.697487</td>\n",
       "      <td>0.065364</td>\n",
       "      <td>0.020857</td>\n",
       "      <td>0.004927</td>\n",
       "      <td>0.000493</td>\n",
       "      <td>0.010675</td>\n",
       "      <td>0.012153</td>\n",
       "      <td>0.004927</td>\n",
       "    </tr>\n",
       "    <tr>\n",
       "      <th>ADP</th>\n",
       "      <td>0.106167</td>\n",
       "      <td>0.017179</td>\n",
       "      <td>0.000960</td>\n",
       "      <td>0.035105</td>\n",
       "      <td>0.321916</td>\n",
       "      <td>0.039693</td>\n",
       "      <td>0.063594</td>\n",
       "      <td>0.323730</td>\n",
       "      <td>0.068395</td>\n",
       "      <td>0.001387</td>\n",
       "      <td>0.008429</td>\n",
       "      <td>0.013444</td>\n",
       "    </tr>\n",
       "    <tr>\n",
       "      <th>CONJ</th>\n",
       "      <td>0.119796</td>\n",
       "      <td>0.052729</td>\n",
       "      <td>0.000463</td>\n",
       "      <td>0.008788</td>\n",
       "      <td>0.344126</td>\n",
       "      <td>0.034690</td>\n",
       "      <td>0.042091</td>\n",
       "      <td>0.120722</td>\n",
       "      <td>0.059667</td>\n",
       "      <td>0.005088</td>\n",
       "      <td>0.156799</td>\n",
       "      <td>0.055042</td>\n",
       "    </tr>\n",
       "    <tr>\n",
       "      <th>X</th>\n",
       "      <td>0.017351</td>\n",
       "      <td>0.145813</td>\n",
       "      <td>0.010347</td>\n",
       "      <td>0.073384</td>\n",
       "      <td>0.062878</td>\n",
       "      <td>0.162687</td>\n",
       "      <td>0.002706</td>\n",
       "      <td>0.054441</td>\n",
       "      <td>0.055396</td>\n",
       "      <td>0.184973</td>\n",
       "      <td>0.204394</td>\n",
       "      <td>0.025629</td>\n",
       "    </tr>\n",
       "    <tr>\n",
       "      <th>NOUN</th>\n",
       "      <td>0.012212</td>\n",
       "      <td>0.176612</td>\n",
       "      <td>0.042321</td>\n",
       "      <td>0.028725</td>\n",
       "      <td>0.265046</td>\n",
       "      <td>0.240841</td>\n",
       "      <td>0.009259</td>\n",
       "      <td>0.013159</td>\n",
       "      <td>0.004484</td>\n",
       "      <td>0.043743</td>\n",
       "      <td>0.146429</td>\n",
       "      <td>0.017169</td>\n",
       "    </tr>\n",
       "    <tr>\n",
       "      <th>.</th>\n",
       "      <td>0.044273</td>\n",
       "      <td>0.090518</td>\n",
       "      <td>0.058971</td>\n",
       "      <td>0.026976</td>\n",
       "      <td>0.221635</td>\n",
       "      <td>0.092310</td>\n",
       "      <td>0.081197</td>\n",
       "      <td>0.172522</td>\n",
       "      <td>0.065962</td>\n",
       "      <td>0.002330</td>\n",
       "      <td>0.090070</td>\n",
       "      <td>0.053146</td>\n",
       "    </tr>\n",
       "    <tr>\n",
       "      <th>NUM</th>\n",
       "      <td>0.034168</td>\n",
       "      <td>0.035346</td>\n",
       "      <td>0.013255</td>\n",
       "      <td>0.210604</td>\n",
       "      <td>0.352283</td>\n",
       "      <td>0.116642</td>\n",
       "      <td>0.187040</td>\n",
       "      <td>0.003535</td>\n",
       "      <td>0.001473</td>\n",
       "      <td>0.025331</td>\n",
       "      <td>0.017968</td>\n",
       "      <td>0.002356</td>\n",
       "    </tr>\n",
       "    <tr>\n",
       "      <th>DET</th>\n",
       "      <td>0.205141</td>\n",
       "      <td>0.009533</td>\n",
       "      <td>0.000362</td>\n",
       "      <td>0.045734</td>\n",
       "      <td>0.637384</td>\n",
       "      <td>0.018101</td>\n",
       "      <td>0.022565</td>\n",
       "      <td>0.005792</td>\n",
       "      <td>0.003741</td>\n",
       "      <td>0.000241</td>\n",
       "      <td>0.038977</td>\n",
       "      <td>0.012429</td>\n",
       "    </tr>\n",
       "    <tr>\n",
       "      <th>PRON</th>\n",
       "      <td>0.073660</td>\n",
       "      <td>0.021982</td>\n",
       "      <td>0.005399</td>\n",
       "      <td>0.092557</td>\n",
       "      <td>0.207482</td>\n",
       "      <td>0.041265</td>\n",
       "      <td>0.007327</td>\n",
       "      <td>0.009641</td>\n",
       "      <td>0.007713</td>\n",
       "      <td>0.013112</td>\n",
       "      <td>0.485538</td>\n",
       "      <td>0.034323</td>\n",
       "    </tr>\n",
       "    <tr>\n",
       "      <th>PRT</th>\n",
       "      <td>0.086145</td>\n",
       "      <td>0.021618</td>\n",
       "      <td>0.002293</td>\n",
       "      <td>0.013102</td>\n",
       "      <td>0.244022</td>\n",
       "      <td>0.044219</td>\n",
       "      <td>0.055355</td>\n",
       "      <td>0.102195</td>\n",
       "      <td>0.017032</td>\n",
       "      <td>0.001638</td>\n",
       "      <td>0.403210</td>\n",
       "      <td>0.009171</td>\n",
       "    </tr>\n",
       "    <tr>\n",
       "      <th>VERB</th>\n",
       "      <td>0.064986</td>\n",
       "      <td>0.091276</td>\n",
       "      <td>0.005584</td>\n",
       "      <td>0.217759</td>\n",
       "      <td>0.110818</td>\n",
       "      <td>0.035207</td>\n",
       "      <td>0.023110</td>\n",
       "      <td>0.134471</td>\n",
       "      <td>0.035595</td>\n",
       "      <td>0.031485</td>\n",
       "      <td>0.168515</td>\n",
       "      <td>0.081194</td>\n",
       "    </tr>\n",
       "    <tr>\n",
       "      <th>ADV</th>\n",
       "      <td>0.127200</td>\n",
       "      <td>0.117569</td>\n",
       "      <td>0.006974</td>\n",
       "      <td>0.023912</td>\n",
       "      <td>0.031883</td>\n",
       "      <td>0.136500</td>\n",
       "      <td>0.031883</td>\n",
       "      <td>0.067419</td>\n",
       "      <td>0.015277</td>\n",
       "      <td>0.014281</td>\n",
       "      <td>0.348721</td>\n",
       "      <td>0.078379</td>\n",
       "    </tr>\n",
       "  </tbody>\n",
       "</table>\n",
       "</div>"
      ],
      "text/plain": [
       "           ADJ       ADP      CONJ         X      NOUN         .       NUM  \\\n",
       "ADJ   0.066678  0.077681  0.017408  0.021350  0.697487  0.065364  0.020857   \n",
       "ADP   0.106167  0.017179  0.000960  0.035105  0.321916  0.039693  0.063594   \n",
       "CONJ  0.119796  0.052729  0.000463  0.008788  0.344126  0.034690  0.042091   \n",
       "X     0.017351  0.145813  0.010347  0.073384  0.062878  0.162687  0.002706   \n",
       "NOUN  0.012212  0.176612  0.042321  0.028725  0.265046  0.240841  0.009259   \n",
       ".     0.044273  0.090518  0.058971  0.026976  0.221635  0.092310  0.081197   \n",
       "NUM   0.034168  0.035346  0.013255  0.210604  0.352283  0.116642  0.187040   \n",
       "DET   0.205141  0.009533  0.000362  0.045734  0.637384  0.018101  0.022565   \n",
       "PRON  0.073660  0.021982  0.005399  0.092557  0.207482  0.041265  0.007327   \n",
       "PRT   0.086145  0.021618  0.002293  0.013102  0.244022  0.044219  0.055355   \n",
       "VERB  0.064986  0.091276  0.005584  0.217759  0.110818  0.035207  0.023110   \n",
       "ADV   0.127200  0.117569  0.006974  0.023912  0.031883  0.136500  0.031883   \n",
       "\n",
       "           DET      PRON       PRT      VERB       ADV  \n",
       "ADJ   0.004927  0.000493  0.010675  0.012153  0.004927  \n",
       "ADP   0.323730  0.068395  0.001387  0.008429  0.013444  \n",
       "CONJ  0.120722  0.059667  0.005088  0.156799  0.055042  \n",
       "X     0.054441  0.055396  0.184973  0.204394  0.025629  \n",
       "NOUN  0.013159  0.004484  0.043743  0.146429  0.017169  \n",
       ".     0.172522  0.065962  0.002330  0.090070  0.053146  \n",
       "NUM   0.003535  0.001473  0.025331  0.017968  0.002356  \n",
       "DET   0.005792  0.003741  0.000241  0.038977  0.012429  \n",
       "PRON  0.009641  0.007713  0.013112  0.485538  0.034323  \n",
       "PRT   0.102195  0.017032  0.001638  0.403210  0.009171  \n",
       "VERB  0.134471  0.035595  0.031485  0.168515  0.081194  \n",
       "ADV   0.067419  0.015277  0.014281  0.348721  0.078379  "
      ]
     },
     "execution_count": 336,
     "metadata": {},
     "output_type": "execute_result"
    }
   ],
   "source": [
    "#this dataframe is usefull to calculate tag probablities\n",
    "tags_df"
   ]
  },
  {
   "cell_type": "markdown",
   "metadata": {
    "id": "f5R1-l7qS-vR"
   },
   "source": [
    "## Viterbi Algorithm - Simple"
   ]
  },
  {
   "cell_type": "code",
   "execution_count": 337,
   "metadata": {
    "colab": {
     "base_uri": "https://localhost:8080/"
    },
    "id": "-xOWnI58S-vR",
    "outputId": "5451d14d-a31e-4753-e6e1-a9f4bfa2411d"
   },
   "outputs": [
    {
     "data": {
      "text/plain": [
       "95730"
      ]
     },
     "execution_count": 337,
     "metadata": {},
     "output_type": "execute_result"
    }
   ],
   "source": [
    "len(train_tagged_words)"
   ]
  },
  {
   "cell_type": "code",
   "execution_count": 338,
   "metadata": {
    "id": "9U9WhWB4S-vR"
   },
   "outputs": [],
   "source": [
    "# Viterbi Heuristic\n",
    "def Viterbi(words, train_bag = train_tagged_words):\n",
    "    state = []\n",
    "    T = list(set([pair[1] for pair in train_bag]))\n",
    "    \n",
    "    for key, word in enumerate(words):\n",
    "        #initialise list of probability column for a given observation\n",
    "        p = [] \n",
    "        for tag in T:\n",
    "            if key == 0:\n",
    "                transition_p = tags_df.loc['.', tag]\n",
    "            else:\n",
    "                transition_p = tags_df.loc[state[-1], tag]\n",
    "                \n",
    "            # compute emission and state probabilities\n",
    "            emission_p = word_given_tag(words[key], tag)[0]/word_given_tag(words[key], tag)[1]\n",
    "            state_probability = emission_p * transition_p    \n",
    "            p.append(state_probability)\n",
    "            \n",
    "        pmax = max(p)\n",
    "        # getting state for which probability is maximum\n",
    "        state_max = T[p.index(pmax)] \n",
    "        state.append(state_max)\n",
    "    return list(zip(words, state))"
   ]
  },
  {
   "cell_type": "code",
   "execution_count": 339,
   "metadata": {
    "id": "E1MCnS8AS-vR"
   },
   "outputs": [],
   "source": [
    "# Running on entire test dataset would take more than 3-4hrs. \n",
    "# Let's test our Viterbi algorithm on a few sample sentences of test dataset\n",
    "\n",
    "random.seed(1234)\n",
    "\n",
    "# choose random 5 sents\n",
    "rndom = [random.randint(1,len(test_set)) for x in range(5)]\n",
    "\n",
    "# list of sents\n",
    "test_run = [test_set[i] for i in rndom]\n",
    "#test_run = test_set\n",
    "\n",
    "# list of tagged words\n",
    "test_run_base = [tup for sent in test_run for tup in sent]\n",
    "\n",
    "# list of untagged words\n",
    "test_tagged_words = [tup[0] for sent in test_run for tup in sent]\n",
    "#test_run"
   ]
  },
  {
   "cell_type": "code",
   "execution_count": 340,
   "metadata": {
    "id": "AfXEdxqtS-vR"
   },
   "outputs": [],
   "source": [
    "# tagging the test sentences\n",
    "start = time.time()\n",
    "tagged_seq = Viterbi(test_tagged_words)\n",
    "end = time.time()\n",
    "difference = end-start"
   ]
  },
  {
   "cell_type": "code",
   "execution_count": 341,
   "metadata": {
    "colab": {
     "base_uri": "https://localhost:8080/"
    },
    "id": "2YosVHhgS-vR",
    "outputId": "9b361e2b-b623-4e50-b564-b1c19063f1bc"
   },
   "outputs": [
    {
     "name": "stdout",
     "output_type": "stream",
     "text": [
      "Time taken in seconds:  26.41718316078186\n"
     ]
    }
   ],
   "source": [
    "print(\"Time taken in seconds: \", difference)\n",
    "#print(tagged_seq)\n",
    "#print(test_run_base)"
   ]
  },
  {
   "cell_type": "code",
   "execution_count": 342,
   "metadata": {
    "id": "F2MHMAKyS-vS"
   },
   "outputs": [],
   "source": [
    "# check accuracy of the model\n",
    "def accuracy(tagged_seq,test_run_base = test_run_base):\n",
    "    check = [i for i, j in zip(tagged_seq, test_run_base) if i == j] \n",
    "    accuracy = len(check)/len(tagged_seq)\n",
    "    return accuracy\n",
    "plain_viterbi = accuracy(tagged_seq)"
   ]
  },
  {
   "cell_type": "code",
   "execution_count": 343,
   "metadata": {
    "id": "BciNn42zS-vS"
   },
   "outputs": [
    {
     "name": "stdout",
     "output_type": "stream",
     "text": [
      "Accuracy of the plain veribii model -  0.8782608695652174\n"
     ]
    }
   ],
   "source": [
    "print(\"Accuracy of the plain veribii model - \", plain_viterbi )"
   ]
  },
  {
   "cell_type": "code",
   "execution_count": 344,
   "metadata": {
    "id": "TC9GK95NB_ql"
   },
   "outputs": [],
   "source": [
    "#Above is the accuracy that we got for plain vanilla viterbi algorithm"
   ]
  },
  {
   "cell_type": "code",
   "execution_count": 345,
   "metadata": {
    "id": "FQw-Bz8gS-vS"
   },
   "outputs": [],
   "source": [
    "incorrect_tagged_cases = [[test_run_base[i-1],j] for i, j in enumerate(zip(tagged_seq, test_run_base)) if j[0]!=j[1]]"
   ]
  },
  {
   "cell_type": "code",
   "execution_count": 346,
   "metadata": {
    "id": "AdequgYRS-vS"
   },
   "outputs": [
    {
     "data": {
      "text/plain": [
       "[[('.', '.'), (('Packaging', 'ADJ'), ('Packaging', 'NOUN'))],\n",
       " [('some', 'DET'), (('drawbacks', 'ADJ'), ('drawbacks', 'NOUN'))],\n",
       " [('.', '.'), (('Periods', 'ADJ'), ('Periods', 'NOUN'))],\n",
       " [('the', 'DET'), (('advent', 'ADJ'), ('advent', 'NOUN'))],\n",
       " [('often', 'ADV'), (('more', 'ADJ'), ('more', 'ADV'))],\n",
       " [('were', 'VERB'), (('undergoing', 'ADJ'), ('undergoing', 'VERB'))],\n",
       " [('-LRB-', '.'), (('1973-75', 'ADJ'), ('1973-75', 'NUM'))],\n",
       " [(',', '.'), (('1937-40', 'ADJ'), ('1937-40', 'NUM'))],\n",
       " [('and', 'CONJ'), (('1928-33', 'ADJ'), ('1928-33', 'NUM'))],\n",
       " [('company', 'NOUN'), (('that', 'ADP'), ('that', 'DET'))],\n",
       " [('that', 'DET'), (('*T*-146', 'ADJ'), ('*T*-146', 'X'))],\n",
       " [('Michael', 'NOUN'), (('Stark', 'ADJ'), ('Stark', 'NOUN'))],\n",
       " [('at', 'ADP'), (('Robertson', 'ADJ'), ('Robertson', 'NOUN'))],\n",
       " [(',', '.'), (('Stephens', 'ADJ'), ('Stephens', 'NOUN'))]]"
      ]
     },
     "execution_count": 346,
     "metadata": {},
     "output_type": "execute_result"
    }
   ],
   "source": [
    "#Let's find out incorrect tags\n",
    "incorrect_tagged_cases"
   ]
  },
  {
   "cell_type": "code",
   "execution_count": 347,
   "metadata": {
    "id": "Ikt-jGMXS-vS"
   },
   "outputs": [],
   "source": [
    "#Now let's test this model on test sentences which contains words which are not present in the training dataset."
   ]
  },
  {
   "cell_type": "markdown",
   "metadata": {},
   "source": [
    "## 4. Evaluating on Test Set\n",
    "\n",
    "We will going to test this model on test sentences."
   ]
  },
  {
   "cell_type": "code",
   "execution_count": 348,
   "metadata": {
    "id": "3f_CFrncS-vS"
   },
   "outputs": [],
   "source": [
    "## Testing of unknown word\n",
    "\n",
    "def test_vertibi_simple(sentence):\n",
    "    words = word_tokenize(sentence)\n",
    "    tagged_seq = Viterbi(words)\n",
    "    return tagged_seq"
   ]
  },
  {
   "cell_type": "code",
   "execution_count": 349,
   "metadata": {
    "colab": {
     "base_uri": "https://localhost:8080/"
    },
    "id": "GJaRLr2mS-vS",
    "outputId": "dd47d1f8-47d8-48ea-e574-cbb6766226bd"
   },
   "outputs": [
    {
     "data": {
      "text/plain": [
       "[('Android', 'ADJ'),\n",
       " ('has', 'VERB'),\n",
       " ('been', 'VERB'),\n",
       " ('the', 'DET'),\n",
       " ('best-selling', 'ADJ'),\n",
       " ('OS', 'ADJ'),\n",
       " ('worldwide', 'ADJ'),\n",
       " ('on', 'ADP'),\n",
       " ('smartphones', 'ADJ'),\n",
       " ('since', 'ADP'),\n",
       " ('2011', 'ADJ'),\n",
       " ('and', 'CONJ'),\n",
       " ('on', 'ADP'),\n",
       " ('tablets', 'NOUN'),\n",
       " ('since', 'ADP'),\n",
       " ('2013', 'ADJ'),\n",
       " ('.', '.')]"
      ]
     },
     "execution_count": 349,
     "metadata": {},
     "output_type": "execute_result"
    }
   ],
   "source": [
    "test_vertibi_simple(\"Android has been the best-selling OS worldwide on smartphones since 2011 and on tablets since 2013.\")"
   ]
  },
  {
   "cell_type": "markdown",
   "metadata": {
    "id": "kLqw7R5YS-vS"
   },
   "source": [
    "<font color = 'red'>[Observation]:</font> Android,OS,smartphones are nouns but incorrectly tagged, as emission probs will be 0 and hence it will assign tag which has o value. Let's see two more exaples."
   ]
  },
  {
   "cell_type": "code",
   "execution_count": 350,
   "metadata": {
    "colab": {
     "base_uri": "https://localhost:8080/"
    },
    "id": "DneC5PnVS-vS",
    "outputId": "f2c87567-da13-47d5-812d-2af990087e68"
   },
   "outputs": [
    {
     "data": {
      "text/plain": [
       "[('Google', 'ADJ'),\n",
       " ('and', 'CONJ'),\n",
       " ('Twitter', 'ADJ'),\n",
       " ('made', 'VERB'),\n",
       " ('a', 'DET'),\n",
       " ('deal', 'NOUN'),\n",
       " ('in', 'ADP'),\n",
       " ('2015', 'ADJ'),\n",
       " ('that', 'ADP'),\n",
       " ('gave', 'VERB'),\n",
       " ('Google', 'ADJ'),\n",
       " ('access', 'NOUN'),\n",
       " ('to', 'PRT'),\n",
       " ('Twitter', 'ADJ'),\n",
       " (\"'s\", 'PRT'),\n",
       " ('firehose', 'ADJ'),\n",
       " ('.', '.')]"
      ]
     },
     "execution_count": 350,
     "metadata": {},
     "output_type": "execute_result"
    }
   ],
   "source": [
    "test_vertibi_simple(\"Google and Twitter made a deal in 2015 that gave Google access to Twitter's firehose.\")"
   ]
  },
  {
   "cell_type": "markdown",
   "metadata": {
    "id": "m0gCP60JS-vS"
   },
   "source": [
    "<font color = 'red'>[Observation]:</font> Google and Twitter are nouns but incorrectly tagged, as emission probs for Android will be 0 and hence it will assign tag which has o value. Let's see two more exaples."
   ]
  },
  {
   "cell_type": "code",
   "execution_count": 351,
   "metadata": {
    "colab": {
     "base_uri": "https://localhost:8080/"
    },
    "id": "JO4yr_0YS-vS",
    "outputId": "cabca03c-4862-48ac-cbfe-207874a74865"
   },
   "outputs": [
    {
     "data": {
      "text/plain": [
       "[('NASA', 'ADJ'),\n",
       " ('invited', 'ADJ'),\n",
       " ('social', 'ADJ'),\n",
       " ('media', 'NOUN'),\n",
       " ('users', 'NOUN'),\n",
       " ('to', 'PRT'),\n",
       " ('experience', 'NOUN'),\n",
       " ('the', 'DET'),\n",
       " ('launch', 'NOUN'),\n",
       " ('of', 'ADP'),\n",
       " ('ICESAT-2', 'ADJ'),\n",
       " ('Satellite', 'ADJ'),\n",
       " ('.', '.')]"
      ]
     },
     "execution_count": 351,
     "metadata": {},
     "output_type": "execute_result"
    }
   ],
   "source": [
    "test_vertibi_simple(\"NASA invited social media users to experience the launch of ICESAT-2 Satellite.\")"
   ]
  },
  {
   "cell_type": "markdown",
   "metadata": {
    "id": "hUhONc-FS-vS"
   },
   "source": [
    "<font color = 'red'>[Observation]:</font> Same problem."
   ]
  },
  {
   "cell_type": "markdown",
   "metadata": {},
   "source": [
    "### Now we will find ways by which we can correct these incorrect tags."
   ]
  },
  {
   "cell_type": "code",
   "execution_count": 352,
   "metadata": {
    "colab": {
     "base_uri": "https://localhost:8080/"
    },
    "id": "bGBWMQSp7LoH",
    "outputId": "7a759cee-8e29-48d4-b00d-261c9f322de2"
   },
   "outputs": [
    {
     "name": "stdout",
     "output_type": "stream",
     "text": [
      "Total gerunds =  2402\n",
      "Total noun gerunds =  779\n",
      "Total verb gerunds =  1402\n"
     ]
    }
   ],
   "source": [
    "#Let's do some analysis for gerunds\n",
    "gerund = [(w, t) for w,t in train_tagged_words if re.search('.*ing$',w)]\n",
    "print(\"Total gerunds = \",len(gerund))\n",
    "noun = [(w,t) for w,t in gerund if t =='NOUN'  ]\n",
    "print(\"Total noun gerunds = \",len(noun))\n",
    "verb = [(w,t) for w,t in gerund if t =='VERB'  ]\n",
    "print(\"Total verb gerunds = \",len(verb))\n",
    "#So we have gerunds which are coming as verb and noun pos tag"
   ]
  },
  {
   "cell_type": "code",
   "execution_count": 353,
   "metadata": {
    "colab": {
     "base_uri": "https://localhost:8080/",
     "height": 187
    },
    "id": "cSpgYLJR-W_R",
    "outputId": "6b08f172-13a0-4bb0-bf86-1a14ebfa271d"
   },
   "outputs": [
    {
     "data": {
      "text/plain": [
       "[('consulting', 'NOUN'),\n",
       " ('something', 'NOUN'),\n",
       " ('trading', 'NOUN'),\n",
       " ('manufacturing', 'NOUN'),\n",
       " ('spring', 'NOUN')]"
      ]
     },
     "metadata": {},
     "output_type": "display_data"
    },
    {
     "data": {
      "text/plain": [
       "[('trying', 'VERB'),\n",
       " ('bundling', 'VERB'),\n",
       " ('targeting', 'VERB'),\n",
       " ('regulating', 'VERB'),\n",
       " ('having', 'VERB')]"
      ]
     },
     "metadata": {},
     "output_type": "display_data"
    }
   ],
   "source": [
    "#Let's see some of them\n",
    "display(noun[0:5])\n",
    "display(verb[0:5])"
   ]
  },
  {
   "cell_type": "markdown",
   "metadata": {
    "id": "boPOLL2I-3Mp"
   },
   "source": [
    "<font color = 'red'>[Observation]:</font>  Above analysis suggests that we should tag unknow gerund as VERB as probablity of it being VERB will be higher than noun"
   ]
  },
  {
   "cell_type": "code",
   "execution_count": 354,
   "metadata": {
    "colab": {
     "base_uri": "https://localhost:8080/"
    },
    "id": "EMp9SeN9_Ymu",
    "outputId": "f924ca6b-9517-4cdf-89a3-5ea63e346c99"
   },
   "outputs": [
    {
     "name": "stdout",
     "output_type": "stream",
     "text": [
      "Total verb_ed  = 3040\n",
      "Total noun verb_ed =  72\n",
      "Total verb verb_ed =  2659\n"
     ]
    }
   ],
   "source": [
    "#Let's do same analysis for ed verbs\n",
    "verb_ed = [(w, t) for w,t in train_tagged_words if re.search('.*ed$',w)]\n",
    "print(\"Total verb_ed  =\",len(verb_ed))\n",
    "noun = [(w,t) for w,t in verb_ed if t =='NOUN'  ]\n",
    "print(\"Total noun verb_ed = \",len(noun))\n",
    "verb = [(w,t) for w,t in verb_ed if t =='VERB'  ]\n",
    "print(\"Total verb verb_ed = \",len(verb))\n",
    "#so unknown ed should be attach to VERB\n"
   ]
  },
  {
   "cell_type": "markdown",
   "metadata": {},
   "source": [
    "<font color = 'red'>[Observation]:</font>  Above analysis suggests that we should tag unknow ed words as VERB as probablity of it being VERB will be higher than noun"
   ]
  },
  {
   "cell_type": "code",
   "execution_count": null,
   "metadata": {},
   "outputs": [],
   "source": []
  },
  {
   "cell_type": "markdown",
   "metadata": {
    "id": "aYs5lvw66pIz"
   },
   "source": [
    "<b> Here are some of the observation that we've seen. </b>\n",
    "<ul>\n",
    "  <li>Unkown words are getting default tag.</li>\n",
    "  <li></li>\n",
    "</ul>"
   ]
  },
  {
   "cell_type": "code",
   "execution_count": 355,
   "metadata": {
    "id": "DR8_TrQES-vS"
   },
   "outputs": [],
   "source": [
    "#So we need to use other techni#sameques to rectify this issue"
   ]
  },
  {
   "cell_type": "markdown",
   "metadata": {
    "id": "bRVEWM3hS-vS"
   },
   "source": [
    "### Solve the problem of unknown words\n",
    "We will use Rule based POS to solve the problem of unknown words"
   ]
  },
  {
   "cell_type": "markdown",
   "metadata": {},
   "source": [
    "#### Technique 1:"
   ]
  },
  {
   "cell_type": "code",
   "execution_count": 356,
   "metadata": {
    "id": "6KzTvFPHXV11"
   },
   "outputs": [],
   "source": [
    "#Let's define Rule base tagger\n",
    "patterns = [\n",
    "    (r'.*ing$', 'VERB'),              # gerund\n",
    "    (r'.*ed$', 'VERB'),               # past tense\n",
    "    #(r'.*es$', 'VBZ'),               # 3rd singular present\n",
    "    #(r'.*ould$', 'MD'),              # modals\n",
    "    #(r'.*\\'s$', 'NN$'),              # possessive nouns\n",
    "    (r'([A-z]|\\*)*\\*+', 'X'),                # plural nouns\n",
    "    (r'^-?[1-9]+(.[1-9]+)?$', 'NUM'), # cardinal numbers\n",
    "    (r'.*', 'NOUN')                    # nouns\n",
    "]\n",
    "\n",
    "regexp_tagger = nltk.RegexpTagger(patterns)"
   ]
  },
  {
   "cell_type": "code",
   "execution_count": 357,
   "metadata": {
    "id": "54fMP9DUS-vS"
   },
   "outputs": [],
   "source": [
    "# Viterbi Heuristic algorithm after making changes \n",
    "def Viterbi_adv(words, train_bag = train_tagged_words):\n",
    "    state = []\n",
    "    T = list(set([pair[1] for pair in train_bag]))\n",
    "    \n",
    "    for key, word in enumerate(words):\n",
    "        #initialise list of probability column for a given observation\n",
    "        p = [] \n",
    "        for tag in T:\n",
    "            if key == 0:\n",
    "                transition_p = tags_df.loc['.', tag]\n",
    "            else:\n",
    "                transition_p = tags_df.loc[state[-1], tag]\n",
    "                \n",
    "            # compute emission and state probabilities\n",
    "            emission_p = word_given_tag(words[key], tag)[0]/word_given_tag(words[key], tag)[1]\n",
    "            state_probability = emission_p * transition_p    \n",
    "            p.append(state_probability)\n",
    "            \n",
    "        pmax = max(p)\n",
    "        # getting state for which probability is maximum\n",
    "        state_max = T[p.index(pmax)] \n",
    "        if max(p) == 0 :\n",
    "            word = word.replace(',','').replace('.','')\n",
    "            state_max = regexp_tagger.tag([word])[0][1]\n",
    "        if word.isnumeric() & (word != '0'):\n",
    "            state_max = 'NUM'\n",
    "        state.append(state_max)\n",
    "    return list(zip(words, state))"
   ]
  },
  {
   "cell_type": "code",
   "execution_count": 358,
   "metadata": {
    "id": "4m3ZwdKtXsxl"
   },
   "outputs": [],
   "source": [
    "def test_vertibi_simple_adv(sentence):\n",
    "    words = word_tokenize(sentence)\n",
    "    tagged_seq = Viterbi_adv(words)\n",
    "    return tagged_seq"
   ]
  },
  {
   "cell_type": "code",
   "execution_count": 359,
   "metadata": {
    "id": "rcHM8joQS-vS"
   },
   "outputs": [],
   "source": [
    "# tagging the test sentences\n",
    "start = time.time()\n",
    "tagged_seq = Viterbi_adv(test_tagged_words)\n",
    "end = time.time()\n",
    "difference = end-start\n",
    "adv_viterbi = accuracy(tagged_seq)"
   ]
  },
  {
   "cell_type": "markdown",
   "metadata": {},
   "source": [
    "#### Evaluating tagging accuracy"
   ]
  },
  {
   "cell_type": "code",
   "execution_count": 360,
   "metadata": {},
   "outputs": [
    {
     "name": "stdout",
     "output_type": "stream",
     "text": [
      "Accuracy of the veribii model (Tech1)-  0.9391304347826087\n"
     ]
    }
   ],
   "source": [
    "print(\"Accuracy of the veribii model (Tech1)- \",adv_viterbi )"
   ]
  },
  {
   "cell_type": "code",
   "execution_count": 361,
   "metadata": {},
   "outputs": [
    {
     "data": {
      "text/plain": [
       "[[('of', 'ADP'), (('major-league', 'NOUN'), ('major-league', 'ADJ'))],\n",
       " [('.', '.'), (('Packaging', 'VERB'), ('Packaging', 'NOUN'))],\n",
       " [('.', '.'), (('Pro-forma', 'NOUN'), ('Pro-forma', 'ADJ'))],\n",
       " [('often', 'ADV'), (('more', 'ADJ'), ('more', 'ADV'))],\n",
       " [('undergoing', 'VERB'), (('change', 'VERB'), ('change', 'NOUN'))],\n",
       " [(',', '.'), (('1937-40', 'NOUN'), ('1937-40', 'NUM'))],\n",
       " [('company', 'NOUN'), (('that', 'ADP'), ('that', 'DET'))]]"
      ]
     },
     "execution_count": 361,
     "metadata": {},
     "output_type": "execute_result"
    }
   ],
   "source": [
    "#words which were tagged incorrectly\n",
    "incorrect_tagged_cases = [[test_run_base[i-1],j] for i, j in enumerate(zip(tagged_seq, test_run_base)) if j[0]!=j[1]]\n",
    "incorrect_tagged_cases"
   ]
  },
  {
   "cell_type": "code",
   "execution_count": 362,
   "metadata": {},
   "outputs": [
    {
     "data": {
      "text/plain": [
       "[('Android', 'NOUN'),\n",
       " ('has', 'VERB'),\n",
       " ('been', 'VERB'),\n",
       " ('the', 'DET'),\n",
       " ('best-selling', 'ADJ'),\n",
       " ('OS', 'NOUN'),\n",
       " ('worldwide', 'NOUN'),\n",
       " ('on', 'ADP'),\n",
       " ('smartphones', 'NOUN'),\n",
       " ('since', 'ADP'),\n",
       " ('2011', 'NUM'),\n",
       " ('and', 'CONJ'),\n",
       " ('on', 'ADP'),\n",
       " ('tablets', 'NOUN'),\n",
       " ('since', 'ADP'),\n",
       " ('2013', 'NUM'),\n",
       " ('.', '.')]"
      ]
     },
     "execution_count": 362,
     "metadata": {},
     "output_type": "execute_result"
    }
   ],
   "source": [
    "test_vertibi_simple_adv(\"Android has been the best-selling OS worldwide on smartphones since 2011 and on tablets since 2013.\")"
   ]
  },
  {
   "cell_type": "code",
   "execution_count": 363,
   "metadata": {},
   "outputs": [
    {
     "data": {
      "text/plain": [
       "[('NASA', 'NOUN'),\n",
       " ('invited', 'VERB'),\n",
       " ('social', 'ADJ'),\n",
       " ('media', 'NOUN'),\n",
       " ('users', 'NOUN'),\n",
       " ('to', 'PRT'),\n",
       " ('experience', 'NOUN'),\n",
       " ('the', 'DET'),\n",
       " ('launch', 'NOUN'),\n",
       " ('of', 'ADP'),\n",
       " ('ICESAT-2', 'NOUN'),\n",
       " ('Satellite', 'NOUN'),\n",
       " ('.', '.')]"
      ]
     },
     "execution_count": 363,
     "metadata": {},
     "output_type": "execute_result"
    }
   ],
   "source": [
    "test_vertibi_simple_adv(\"NASA invited social media users to experience the launch of ICESAT-2 Satellite.\")"
   ]
  },
  {
   "cell_type": "markdown",
   "metadata": {},
   "source": [
    "#### Technique 2:"
   ]
  },
  {
   "cell_type": "code",
   "execution_count": 364,
   "metadata": {},
   "outputs": [],
   "source": [
    "# Viterbi Heuristic\n",
    "def Viterbi_adv_tech2(words, train_bag = train_tagged_words):\n",
    "    state = []\n",
    "    T = list(set([pair[1] for pair in train_bag]))\n",
    "    \n",
    "    for key, word in enumerate(words):\n",
    "        #initialise list of probability column for a given observation\n",
    "        p = [] \n",
    "        p1 = []\n",
    "        for tag in T:\n",
    "            if key == 0:\n",
    "                transition_p = tags_df.loc['.', tag]\n",
    "            else:\n",
    "                transition_p = tags_df.loc[state[-1], tag]\n",
    "                \n",
    "            # compute emission and state probabilities\n",
    "            emission_p = word_given_tag(words[key], tag)[0]/word_given_tag(words[key], tag)[1]\n",
    "            state_probability = emission_p * transition_p    \n",
    "            p.append(state_probability)\n",
    "            p1.append(transition_p)\n",
    "            \n",
    "                \n",
    "        pmax = max(p)\n",
    "        \n",
    "        # getting state for which probability is maximum\n",
    "        state_max = T[p.index(pmax)] \n",
    "        if (pmax == 0):\n",
    "                pmax = max(p1)\n",
    "                state_max = T[p1.index(pmax)] \n",
    "        if word.isnumeric() & (word != '0'):\n",
    "            state_max = 'NUM'\n",
    "        if 'ed' in word:\n",
    "            state_max = 'VERB'\n",
    "        state.append(state_max)\n",
    "    return list(zip(words, state))"
   ]
  },
  {
   "cell_type": "code",
   "execution_count": 365,
   "metadata": {},
   "outputs": [],
   "source": [
    "def test_vertibi_simple_adv_tech2(sentence):\n",
    "    words = word_tokenize(sentence)\n",
    "    tagged_seq = Viterbi_adv_tech2(words)\n",
    "    return tagged_seq"
   ]
  },
  {
   "cell_type": "code",
   "execution_count": 366,
   "metadata": {},
   "outputs": [],
   "source": [
    "# tagging the test sentences\n",
    "start = time.time()\n",
    "tagged_seq = Viterbi_adv_tech2(test_tagged_words)\n",
    "end = time.time()\n",
    "difference = end-start\n",
    "adv_viterbi_tech2 = accuracy(tagged_seq)"
   ]
  },
  {
   "cell_type": "markdown",
   "metadata": {
    "id": "VUfkAzjCS-vS"
   },
   "source": [
    "#### Evaluating tagging accuracy"
   ]
  },
  {
   "cell_type": "code",
   "execution_count": 367,
   "metadata": {
    "colab": {
     "base_uri": "https://localhost:8080/"
    },
    "id": "hcdqZTarS-vT",
    "outputId": "121c467c-9250-488c-fcd6-ecc86c0eb4f7"
   },
   "outputs": [
    {
     "name": "stdout",
     "output_type": "stream",
     "text": [
      "Accuracy of the veribii model (Tech2)- -  0.9043478260869565\n"
     ]
    }
   ],
   "source": [
    "print(\"Accuracy of the veribii model (Tech2)- - \",adv_viterbi_tech2 )\n"
   ]
  },
  {
   "cell_type": "code",
   "execution_count": 368,
   "metadata": {
    "colab": {
     "base_uri": "https://localhost:8080/"
    },
    "id": "YJx5jNmtS-vT",
    "outputId": "c7d4bc6d-bd99-44f8-c531-24a7977a1e12"
   },
   "outputs": [
    {
     "data": {
      "text/plain": [
       "[[('of', 'ADP'), (('major-league', 'DET'), ('major-league', 'ADJ'))],\n",
       " [('.', '.'), (('Pro-forma', 'NOUN'), ('Pro-forma', 'ADJ'))],\n",
       " [('often', 'ADV'), (('more', 'ADJ'), ('more', 'ADV'))],\n",
       " [('were', 'VERB'), (('undergoing', 'X'), ('undergoing', 'VERB'))],\n",
       " [('undergoing', 'VERB'), (('change', 'VERB'), ('change', 'NOUN'))],\n",
       " [('-LRB-', '.'), (('1973-75', 'NOUN'), ('1973-75', 'NUM'))],\n",
       " [(',', '.'), (('1937-40', 'NOUN'), ('1937-40', 'NUM'))],\n",
       " [('and', 'CONJ'), (('1928-33', 'NOUN'), ('1928-33', 'NUM'))],\n",
       " [('company', 'NOUN'), (('that', 'ADP'), ('that', 'DET'))],\n",
       " [('that', 'DET'), (('*T*-146', 'DET'), ('*T*-146', 'X'))],\n",
       " [('at', 'ADP'), (('Robertson', 'DET'), ('Robertson', 'NOUN'))]]"
      ]
     },
     "execution_count": 368,
     "metadata": {},
     "output_type": "execute_result"
    }
   ],
   "source": [
    "#words which were tagged incorrectly\n",
    "incorrect_tagged_cases = [[test_run_base[i-1],j] for i, j in enumerate(zip(tagged_seq, test_run_base)) if j[0]!=j[1]]\n",
    "incorrect_tagged_cases"
   ]
  },
  {
   "cell_type": "code",
   "execution_count": 369,
   "metadata": {
    "colab": {
     "base_uri": "https://localhost:8080/"
    },
    "id": "MgvEVSo1beTv",
    "outputId": "48255eec-2fb2-46bb-fd26-62aed4ea6bec"
   },
   "outputs": [
    {
     "data": {
      "text/plain": [
       "[('Android', 'NOUN'),\n",
       " ('has', 'VERB'),\n",
       " ('been', 'VERB'),\n",
       " ('the', 'DET'),\n",
       " ('best-selling', 'ADJ'),\n",
       " ('OS', 'NOUN'),\n",
       " ('worldwide', 'NOUN'),\n",
       " ('on', 'ADP'),\n",
       " ('smartphones', 'DET'),\n",
       " ('since', 'ADP'),\n",
       " ('2011', 'NUM'),\n",
       " ('and', 'CONJ'),\n",
       " ('on', 'ADP'),\n",
       " ('tablets', 'NOUN'),\n",
       " ('since', 'ADP'),\n",
       " ('2013', 'NUM'),\n",
       " ('.', '.')]"
      ]
     },
     "execution_count": 369,
     "metadata": {},
     "output_type": "execute_result"
    }
   ],
   "source": [
    "test_vertibi_simple_adv_tech2('Android has been the best-selling OS worldwide on smartphones since 2011 and on tablets since 2013.')"
   ]
  },
  {
   "cell_type": "code",
   "execution_count": 370,
   "metadata": {},
   "outputs": [
    {
     "data": {
      "text/plain": [
       "[('Google', 'NOUN'),\n",
       " ('and', 'CONJ'),\n",
       " ('Twitter', 'NOUN'),\n",
       " ('made', 'VERB'),\n",
       " ('a', 'DET'),\n",
       " ('deal', 'NOUN'),\n",
       " ('in', 'ADP'),\n",
       " ('2015', 'NUM'),\n",
       " ('that', 'ADP'),\n",
       " ('gave', 'VERB'),\n",
       " ('Google', 'X'),\n",
       " ('access', 'NOUN'),\n",
       " ('to', 'PRT'),\n",
       " ('Twitter', 'VERB'),\n",
       " (\"'s\", 'PRT'),\n",
       " ('firehose', 'VERB'),\n",
       " ('.', '.')]"
      ]
     },
     "execution_count": 370,
     "metadata": {},
     "output_type": "execute_result"
    }
   ],
   "source": [
    "test_vertibi_simple_adv_tech2(\"Google and Twitter made a deal in 2015 that gave Google access to Twitter's firehose.\")"
   ]
  },
  {
   "cell_type": "markdown",
   "metadata": {
    "id": "dSqUB-4fS-vT"
   },
   "source": [
    "### Compare the tagging accuracies of the modifications with the vanilla Viterbi algorithm"
   ]
  },
  {
   "cell_type": "code",
   "execution_count": 371,
   "metadata": {
    "colab": {
     "base_uri": "https://localhost:8080/",
     "height": 35
    },
    "id": "XyCuCQGMS-vT",
    "outputId": "94631697-c7ae-4b3a-825d-e1b61faa00ba"
   },
   "outputs": [
    {
     "name": "stdout",
     "output_type": "stream",
     "text": [
      "Tagging accuracy of plain Viterbi algorith -  0.8782608695652174\n",
      "Tech1 - Tagging accuracy of Viterbi algorith after modification -  0.9391304347826087\n",
      "Tech2 - Tagging accuracy of Viterbi algorith after modification -  0.9043478260869565\n"
     ]
    }
   ],
   "source": [
    "print(\"Tagging accuracy of plain Viterbi algorith - \",plain_viterbi)\n",
    "print(\"Tech1 - Tagging accuracy of Viterbi algorith after modification - \",adv_viterbi)\n",
    "print(\"Tech2 - Tagging accuracy of Viterbi algorith after modification - \",adv_viterbi_tech2)"
   ]
  },
  {
   "cell_type": "markdown",
   "metadata": {
    "id": "i4tlb2IvS-vT"
   },
   "source": [
    "### List down cases which were incorrectly tagged by original POS tagger and got corrected by your modifications"
   ]
  },
  {
   "cell_type": "code",
   "execution_count": 372,
   "metadata": {
    "id": "SzecfTsOS-vT"
   },
   "outputs": [
    {
     "data": {
      "text/plain": [
       "[('Android', 'NOUN'),\n",
       " ('has', 'VERB'),\n",
       " ('been', 'VERB'),\n",
       " ('the', 'DET'),\n",
       " ('best-selling', 'ADJ'),\n",
       " ('OS', 'NOUN'),\n",
       " ('worldwide', 'NOUN'),\n",
       " ('on', 'ADP'),\n",
       " ('smartphones', 'NOUN'),\n",
       " ('since', 'ADP'),\n",
       " ('2011', 'NUM'),\n",
       " ('and', 'CONJ'),\n",
       " ('on', 'ADP'),\n",
       " ('tablets', 'NOUN'),\n",
       " ('since', 'ADP'),\n",
       " ('2013', 'NUM'),\n",
       " ('.', '.')]"
      ]
     },
     "execution_count": 372,
     "metadata": {},
     "output_type": "execute_result"
    }
   ],
   "source": [
    "test_vertibi_simple_adv(\"Android has been the best-selling OS worldwide on smartphones since 2011 and on tablets since 2013.\")"
   ]
  },
  {
   "cell_type": "markdown",
   "metadata": {
    "id": "8_eWYepaS-vT"
   },
   "source": [
    "<font color = 'red'>[Observation]:</font>  After modification Android and OS have correctly tagged as nouns."
   ]
  },
  {
   "cell_type": "code",
   "execution_count": 373,
   "metadata": {
    "id": "nwsCcyzDWwiY"
   },
   "outputs": [
    {
     "data": {
      "text/plain": [
       "[('NASA', 'NOUN'),\n",
       " ('invited', 'VERB'),\n",
       " ('social', 'ADJ'),\n",
       " ('media', 'NOUN'),\n",
       " ('users', 'NOUN'),\n",
       " ('to', 'PRT'),\n",
       " ('experience', 'NOUN'),\n",
       " ('the', 'DET'),\n",
       " ('launch', 'NOUN'),\n",
       " ('of', 'ADP'),\n",
       " ('ICESAT-2', 'NOUN'),\n",
       " ('Satellite', 'NOUN'),\n",
       " ('.', '.')]"
      ]
     },
     "execution_count": 373,
     "metadata": {},
     "output_type": "execute_result"
    }
   ],
   "source": [
    "test_vertibi_simple_adv(\"NASA invited social media users to experience the launch of ICESAT-2 Satellite.\")"
   ]
  },
  {
   "cell_type": "markdown",
   "metadata": {},
   "source": [
    "<font color = 'red'>[Observation]:</font>  Same for above statement"
   ]
  },
  {
   "cell_type": "code",
   "execution_count": 386,
   "metadata": {},
   "outputs": [
    {
     "name": "stdout",
     "output_type": "stream",
     "text": [
      "2.4279835224151612.427983522415161\n",
      "\n",
      "5.00863790512085\n",
      "Done!\n"
     ]
    }
   ],
   "source": [
    "import threading \n",
    "def first(): \n",
    "    start = time.time()\n",
    "    tagged_seq = Viterbi(test_tagged_words)\n",
    "    end = time.time()\n",
    "    difference = end-start\n",
    "    plain = accuracy(tagged_seq)\n",
    "    print(plain)\n",
    "    print(difference)\n",
    "  \n",
    "def second():\n",
    "    start = time.time()\n",
    "    tagged_seq2 = Viterbi_adv(test_tagged_words)\n",
    "    end = time.time()\n",
    "    difference = end-start\n",
    "    adv_viterbi = accuracy(tagged_seq)\n",
    "    print(adv_viterbi)\n",
    "    print(difference)\n",
    "        \n",
    "        \n",
    "if __name__ == \"__main__\": \n",
    "    # creating thread \n",
    "    start1 = time.time()\n",
    "    t1 = threading.Thread(target=first) \n",
    "    t2 = threading.Thread(target=second) \n",
    "  \n",
    "    # starting thread 1 \n",
    "    t1.start() \n",
    "    # starting thread 2 \n",
    "    t2.start() \n",
    "  \n",
    "    # wait until thread 1 is completely executed \n",
    "    t1.join() \n",
    "    # wait until thread 2 is completely executed \n",
    "    t2.join() \n",
    "    end1 = time.time()\n",
    "    difference = end1-start1\n",
    "    print(difference)\n",
    "    # both threads completely executed \n",
    "    print(\"Done!\") "
   ]
  },
  {
   "cell_type": "code",
   "execution_count": 383,
   "metadata": {},
   "outputs": [
    {
     "name": "stdout",
     "output_type": "stream",
     "text": [
      "0.8782608695652174\n",
      "26.043259859085083\n"
     ]
    }
   ],
   "source": [
    "start = time.time()\n",
    "tagged_seq = Viterbi(test_tagged_words)\n",
    "end = time.time()\n",
    "difference = end-start\n",
    "plain = accuracy(tagged_seq)\n",
    "print(plain)\n",
    "print(difference)"
   ]
  },
  {
   "cell_type": "code",
   "execution_count": null,
   "metadata": {},
   "outputs": [],
   "source": []
  }
 ],
 "metadata": {
  "colab": {
   "collapsed_sections": [],
   "name": "HMM+-based+POS+tagging-+Assignment.ipynb",
   "provenance": []
  },
  "kernelspec": {
   "display_name": "Python 3",
   "language": "python",
   "name": "python3"
  },
  "language_info": {
   "codemirror_mode": {
    "name": "ipython",
    "version": 3
   },
   "file_extension": ".py",
   "mimetype": "text/x-python",
   "name": "python",
   "nbconvert_exporter": "python",
   "pygments_lexer": "ipython3",
   "version": "3.7.6"
  }
 },
 "nbformat": 4,
 "nbformat_minor": 1
}
