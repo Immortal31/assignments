{
  "nbformat": 4,
  "nbformat_minor": 0,
  "metadata": {
    "colab": {
      "name": "HMM+_based+POS+tagging_+Assignment_final_all_data.ipynb",
      "provenance": [],
      "collapsed_sections": []
    },
    "kernelspec": {
      "display_name": "Python 3",
      "language": "python",
      "name": "python3"
    },
    "language_info": {
      "codemirror_mode": {
        "name": "ipython",
        "version": 3
      },
      "file_extension": ".py",
      "mimetype": "text/x-python",
      "name": "python",
      "nbconvert_exporter": "python",
      "pygments_lexer": "ipython3",
      "version": "3.7.6"
    }
  },
  "cells": [
    {
      "cell_type": "markdown",
      "metadata": {
        "id": "ZRYsitA0S-vN"
      },
      "source": [
        "## POS tagging using modified Viterbi"
      ]
    },
    {
      "cell_type": "markdown",
      "metadata": {
        "id": "LA1w21KsS-vN"
      },
      "source": [
        "#### Flowchart of the solution -\n",
        "\n",
        "<ul>\n",
        "    <li>EDA to understand training corpus.</li>\n",
        "    <li>Plain vanilla model building.</li>\n",
        "    <li>Test plain vanilla model on test set and understand the problem.</li>\n",
        "    <li>Refining viterbi model using other pos tagging technique</li>\n",
        "</ul>"
      ]
    },
    {
      "cell_type": "markdown",
      "metadata": {
        "id": "OjUnyCJSS-vN"
      },
      "source": [
        "### Data Preparation"
      ]
    },
    {
      "cell_type": "code",
      "metadata": {
        "colab": {
          "base_uri": "https://localhost:8080/"
        },
        "id": "YiyJ9u9GTJZH",
        "outputId": "c3bb7abc-ec30-4fb3-ebf2-57c29b8bbfdc"
      },
      "source": [
        "import nltk\n",
        "nltk.download('treebank')\n",
        "import nltk\n",
        "nltk.download('universal_tagset')\n",
        "import nltk\n",
        "nltk.download('punkt')"
      ],
      "execution_count": 1,
      "outputs": [
        {
          "output_type": "stream",
          "text": [
            "[nltk_data] Downloading package treebank to /root/nltk_data...\n",
            "[nltk_data]   Unzipping corpora/treebank.zip.\n",
            "[nltk_data] Downloading package universal_tagset to /root/nltk_data...\n",
            "[nltk_data]   Unzipping taggers/universal_tagset.zip.\n",
            "[nltk_data] Downloading package punkt to /root/nltk_data...\n",
            "[nltk_data]   Unzipping tokenizers/punkt.zip.\n"
          ],
          "name": "stdout"
        },
        {
          "output_type": "execute_result",
          "data": {
            "text/plain": [
              "True"
            ]
          },
          "metadata": {
            "tags": []
          },
          "execution_count": 1
        }
      ]
    },
    {
      "cell_type": "code",
      "metadata": {
        "id": "DK32jKZCS-vN"
      },
      "source": [
        "#Importing libraries\n",
        "#Importing libraries\n",
        "import re\n",
        "import nltk, re, pprint\n",
        "import numpy as np\n",
        "import pandas as pd\n",
        "import requests\n",
        "import matplotlib.pyplot as plt\n",
        "import seaborn as sns\n",
        "import pprint, time\n",
        "import random\n",
        "from sklearn.model_selection import train_test_split\n",
        "from nltk.tokenize import word_tokenize"
      ],
      "execution_count": 2,
      "outputs": []
    },
    {
      "cell_type": "code",
      "metadata": {
        "id": "vzwGndTDS-vO"
      },
      "source": [
        "# reading the Treebank tagged sentences\n",
        "nltk_data = list(nltk.corpus.treebank.tagged_sents(tagset='universal'))"
      ],
      "execution_count": 3,
      "outputs": []
    },
    {
      "cell_type": "code",
      "metadata": {
        "colab": {
          "base_uri": "https://localhost:8080/"
        },
        "id": "kwc6f2YzS-vO",
        "outputId": "5f60d138-dcce-48c9-9ed2-506884b3839d"
      },
      "source": [
        "# Splitting into train and test\n",
        "random.seed(1234)\n",
        "train_set, test_set = train_test_split(nltk_data,test_size=0.05)\n",
        "\n",
        "print(len(train_set))\n",
        "print(len(test_set))\n"
      ],
      "execution_count": 4,
      "outputs": [
        {
          "output_type": "stream",
          "text": [
            "3718\n",
            "196\n"
          ],
          "name": "stdout"
        }
      ]
    },
    {
      "cell_type": "code",
      "metadata": {
        "colab": {
          "base_uri": "https://localhost:8080/"
        },
        "id": "79LsDK6qS-vP",
        "outputId": "5fa33e56-25ee-4f26-eb73-a9cf53822d58"
      },
      "source": [
        "# Getting list of tagged words\n",
        "train_tagged_words = [tup for sent in train_set for tup in sent]\n",
        "len(train_tagged_words)"
      ],
      "execution_count": 5,
      "outputs": [
        {
          "output_type": "execute_result",
          "data": {
            "text/plain": [
              "95504"
            ]
          },
          "metadata": {
            "tags": []
          },
          "execution_count": 5
        }
      ]
    },
    {
      "cell_type": "code",
      "metadata": {
        "id": "SS1cHgnAS-vP"
      },
      "source": [
        "#no of tagged words available in dataset - 95790"
      ],
      "execution_count": 6,
      "outputs": []
    },
    {
      "cell_type": "code",
      "metadata": {
        "colab": {
          "base_uri": "https://localhost:8080/"
        },
        "id": "GQOm5tOUS-vP",
        "outputId": "39c62337-4bb9-43f2-eb88-0cdb3593659c"
      },
      "source": [
        "#Let's see how many unique tags we have in our dataset\n",
        "tags = [tup[1]  for sen in nltk_data for tup in sen]\n",
        "print(len(set(tags)))\n",
        "print(set(tags))\n"
      ],
      "execution_count": 7,
      "outputs": [
        {
          "output_type": "stream",
          "text": [
            "12\n",
            "{'ADJ', '.', 'NUM', 'VERB', 'X', 'ADV', 'PRON', 'DET', 'PRT', 'ADP', 'CONJ', 'NOUN'}\n"
          ],
          "name": "stdout"
        }
      ]
    },
    {
      "cell_type": "code",
      "metadata": {
        "colab": {
          "base_uri": "https://localhost:8080/"
        },
        "id": "sUGKKchGS-vQ",
        "outputId": "d9c2fc84-2caa-46bb-d907-4ca205e2d237"
      },
      "source": [
        "#we can see that universal dataset has only 12 tags\n",
        "#Let's see how many unique word dataset has\n",
        "voc = [tup[0]  for sen in nltk_data for tup in sen]\n",
        "print(len(voc))\n",
        "#total no. words present in dataset (including duplicate) "
      ],
      "execution_count": 8,
      "outputs": [
        {
          "output_type": "stream",
          "text": [
            "100676\n"
          ],
          "name": "stdout"
        }
      ]
    },
    {
      "cell_type": "code",
      "metadata": {
        "id": "O467aujzS-vQ"
      },
      "source": [
        "tags = set(tags)\n",
        "voc = set(voc)"
      ],
      "execution_count": 9,
      "outputs": []
    },
    {
      "cell_type": "code",
      "metadata": {
        "colab": {
          "base_uri": "https://localhost:8080/"
        },
        "id": "XF36Dp6VS-vQ",
        "outputId": "099609f4-013a-4951-a3b3-f2064494dfca"
      },
      "source": [
        "#print all the available tags\n",
        "print(tags)"
      ],
      "execution_count": 10,
      "outputs": [
        {
          "output_type": "stream",
          "text": [
            "{'ADJ', '.', 'NUM', 'VERB', 'X', 'ADV', 'PRON', 'DET', 'PRT', 'ADP', 'CONJ', 'NOUN'}\n"
          ],
          "name": "stdout"
        }
      ]
    },
    {
      "cell_type": "code",
      "metadata": {
        "id": "T6SWwYqiS-vQ"
      },
      "source": [
        "#this method we'll use to understand incorrect tags\n",
        "def plot_cnt_words(word):\n",
        "    l_words = []\n",
        "    for tag in tags:\n",
        "        c = 0\n",
        "        for w,t in train_tagged_words:\n",
        "            if (w==word)&(t==tag):\n",
        "                    c += 1\n",
        "        if c > 0:\n",
        "            l_words.append((tag,c))\n",
        "    print(l_words)\n",
        "        "
      ],
      "execution_count": 11,
      "outputs": []
    },
    {
      "cell_type": "code",
      "metadata": {
        "colab": {
          "base_uri": "https://localhost:8080/"
        },
        "id": "Lq-rirOHS-vQ",
        "outputId": "65fc92b0-9587-47cf-8254-bc898b7f2c71"
      },
      "source": [
        "#demo\n",
        "plot_cnt_words(\"He\")"
      ],
      "execution_count": 12,
      "outputs": [
        {
          "output_type": "stream",
          "text": [
            "[('PRON', 63)]\n"
          ],
          "name": "stdout"
        }
      ]
    },
    {
      "cell_type": "markdown",
      "metadata": {
        "id": "43QVfq1AS-vQ"
      },
      "source": [
        "### Build the vanilla Viterbi based POS tagger\n",
        "Let's build HMM viterbi model."
      ]
    },
    {
      "cell_type": "code",
      "metadata": {
        "id": "EWEfuMMfS-vQ"
      },
      "source": [
        "#first step is to find emission and transition probablities\n",
        "t = len(tags)\n",
        "v = len(voc)\n",
        "w_given_t = np.zeros((t, v))"
      ],
      "execution_count": 13,
      "outputs": []
    },
    {
      "cell_type": "code",
      "metadata": {
        "colab": {
          "base_uri": "https://localhost:8080/"
        },
        "id": "Uqpgf42hS-vQ",
        "outputId": "8830356c-0fad-49de-ef0a-6c83799931b5"
      },
      "source": [
        "w_given_t.shape"
      ],
      "execution_count": 14,
      "outputs": [
        {
          "output_type": "execute_result",
          "data": {
            "text/plain": [
              "(12, 12408)"
            ]
          },
          "metadata": {
            "tags": []
          },
          "execution_count": 14
        }
      ]
    },
    {
      "cell_type": "code",
      "metadata": {
        "id": "s3yytG4QS-vQ"
      },
      "source": [
        "# compute word given tag: Emission Probability\n",
        "def word_given_tag(word, tag, train_bag = train_tagged_words):\n",
        "    tag_list = [pair for pair in train_bag if pair[1]==tag]\n",
        "    count_tag = len(tag_list)\n",
        "    w_given_tag_list = [pair[0] for pair in tag_list if pair[0]==word]\n",
        "    count_w_given_tag = len(w_given_tag_list)\n",
        "    \n",
        "    return (count_w_given_tag, count_tag)"
      ],
      "execution_count": 15,
      "outputs": []
    },
    {
      "cell_type": "code",
      "metadata": {
        "colab": {
          "base_uri": "https://localhost:8080/"
        },
        "id": "svn5wXzdS-vQ",
        "outputId": "7ca1bfb9-ae47-452a-9664-6a547d79e358"
      },
      "source": [
        "# let's check w\n",
        "print(word_given_tag('do', 'VERB'))\n",
        "print(word_given_tag('does', 'VERB'))\n",
        "print(word_given_tag('flight', 'NOUN'), \"\\n\")\n",
        "#flight word is not present in the dictionary"
      ],
      "execution_count": 16,
      "outputs": [
        {
          "output_type": "stream",
          "text": [
            "(84, 12888)\n",
            "(53, 12888)\n",
            "(0, 27335) \n",
            "\n"
          ],
          "name": "stdout"
        }
      ]
    },
    {
      "cell_type": "code",
      "metadata": {
        "id": "aJDyOccpS-vR"
      },
      "source": [
        "# compute tag given tag: tag2(t2) given tag1 (t1), i.e. Transition Probability\n",
        "\n",
        "def t2_given_t1(t2, t1, train_bag = train_tagged_words):\n",
        "    tags = [pair[1] for pair in train_bag]\n",
        "    count_t1 = len([t for t in tags if t==t1])\n",
        "    count_t2_t1 = 0\n",
        "    for index in range(len(tags)-1):\n",
        "        if tags[index]==t1 and tags[index+1] == t2:\n",
        "            count_t2_t1 += 1\n",
        "    return (count_t2_t1, count_t1)"
      ],
      "execution_count": 17,
      "outputs": []
    },
    {
      "cell_type": "code",
      "metadata": {
        "colab": {
          "base_uri": "https://localhost:8080/"
        },
        "id": "AcvWBvmTS-vR",
        "outputId": "db2c017b-7204-4a0f-e6b3-c122978cb49b"
      },
      "source": [
        "# examples\n",
        "print(t2_given_t1(t2='NOUN', t1='ADV'))"
      ],
      "execution_count": 18,
      "outputs": [
        {
          "output_type": "stream",
          "text": [
            "(95, 3033)\n"
          ],
          "name": "stdout"
        }
      ]
    },
    {
      "cell_type": "code",
      "metadata": {
        "id": "5tX_j7SlS-vR"
      },
      "source": [
        "# creating t x t transition matrix of tags\n",
        "# each column is t2, each row is t1\n",
        "# thus M(i, j) represents P(tj given ti)\n",
        "\n",
        "tags_matrix = np.zeros((len(tags), len(tags)), dtype='float32')\n",
        "for i, t1 in enumerate(list(tags)):\n",
        "    for j, t2 in enumerate(list(tags)): \n",
        "        tags_matrix[i, j] = t2_given_t1(t2, t1)[0]/t2_given_t1(t2, t1)[1]"
      ],
      "execution_count": 19,
      "outputs": []
    },
    {
      "cell_type": "code",
      "metadata": {
        "colab": {
          "base_uri": "https://localhost:8080/"
        },
        "id": "Y9mOwz2bS-vR",
        "outputId": "dd98b48a-bb87-4772-85a3-97ceb6862330"
      },
      "source": [
        "tags_matrix"
      ],
      "execution_count": 20,
      "outputs": [
        {
          "output_type": "execute_result",
          "data": {
            "text/plain": [
              "array([[6.55818507e-02, 6.54174909e-02, 2.10387912e-02, 1.23274159e-02,\n",
              "        2.08744239e-02, 4.43786988e-03, 4.93096653e-04, 4.60223528e-03,\n",
              "        1.10124918e-02, 7.74161741e-02, 1.75871141e-02, 6.99211061e-01],\n",
              "       [4.50701676e-02, 9.25692692e-02, 8.13242197e-02, 8.94206539e-02,\n",
              "        2.68082041e-02, 5.22670038e-02, 6.53112605e-02, 1.74253330e-01,\n",
              "        2.51889159e-03, 9.12198648e-02, 5.77545874e-02, 2.21392587e-01],\n",
              "       [3.42182890e-02, 1.16224192e-01, 1.85840711e-01, 1.74041297e-02,\n",
              "        2.09439531e-01, 3.24483775e-03, 1.17994100e-03, 2.94985250e-03,\n",
              "        2.74336282e-02, 3.39233056e-02, 1.35693215e-02, 3.54572266e-01],\n",
              "       [6.49441332e-02, 3.51489745e-02, 2.33550593e-02, 1.69149593e-01,\n",
              "        2.17256367e-01, 8.31005573e-02, 3.54593433e-02, 1.33224711e-01,\n",
              "        3.12693976e-02, 9.15580392e-02, 5.50900074e-03, 1.10024832e-01],\n",
              "       [1.65869221e-02, 1.64114833e-01, 2.71132379e-03, 2.04784691e-01,\n",
              "        7.57575780e-02, 2.61563007e-02, 5.53429015e-02, 5.58213703e-02,\n",
              "        1.82934612e-01, 1.44178629e-01, 1.02073364e-02, 6.14035092e-02],\n",
              "       [1.30234092e-01, 1.36498511e-01, 3.13221216e-02, 3.45862180e-01,\n",
              "        2.27497518e-02, 7.91295767e-02, 1.45070888e-02, 6.95680827e-02,\n",
              "        1.45070888e-02, 1.17045827e-01, 7.25354441e-03, 3.13221216e-02],\n",
              "       [7.45461583e-02, 4.17149477e-02, 7.72499014e-03, 4.81653154e-01,\n",
              "        9.26998854e-02, 3.39899585e-02, 7.72499014e-03, 1.00424876e-02,\n",
              "        1.27462344e-02, 2.31749713e-02, 5.02124382e-03, 2.08960995e-01],\n",
              "       [2.03972861e-01, 1.78052317e-02, 2.14389544e-02, 3.90019380e-02,\n",
              "        4.59060073e-02, 1.32025192e-02, 3.63372103e-03, 5.57170529e-03,\n",
              "        2.42248061e-04, 9.32655018e-03, 4.84496122e-04, 6.39413774e-01],\n",
              "       [8.52105767e-02, 4.37479578e-02, 5.74600063e-02, 3.98628801e-01,\n",
              "        1.33855697e-02, 9.79431905e-03, 1.86092071e-02, 1.00555010e-01,\n",
              "        1.95886381e-03, 2.08945479e-02, 2.28534127e-03, 2.47469798e-01],\n",
              "       [1.07656017e-01, 4.05318476e-02, 6.36929050e-02, 8.25648755e-03,\n",
              "        3.50632630e-02, 1.38322972e-02, 6.88398033e-02, 3.22110236e-01,\n",
              "        1.39395241e-03, 1.68346558e-02, 8.57816834e-04, 3.20930719e-01],\n",
              "       [1.18384399e-01, 3.62116992e-02, 4.22469825e-02, 1.59238622e-01,\n",
              "        8.35654605e-03, 5.52460551e-02, 5.89600727e-02, 1.18384399e-01,\n",
              "        4.64252569e-03, 5.43175489e-02, 4.64252545e-04, 3.43546897e-01],\n",
              "       [1.22187668e-02, 2.39765868e-01, 9.40186530e-03, 1.47686124e-01,\n",
              "        2.87543442e-02, 1.69745740e-02, 4.82897367e-03, 1.33162616e-02,\n",
              "        4.45216745e-02, 1.76038042e-01, 4.27656844e-02, 2.63727814e-01]],\n",
              "      dtype=float32)"
            ]
          },
          "metadata": {
            "tags": []
          },
          "execution_count": 20
        }
      ]
    },
    {
      "cell_type": "code",
      "metadata": {
        "id": "-zwTamWMS-vR"
      },
      "source": [
        "# convert the matrix to a df for better readability\n",
        "tags_df = pd.DataFrame(tags_matrix, columns = list(tags), index=list(tags))"
      ],
      "execution_count": 21,
      "outputs": []
    },
    {
      "cell_type": "code",
      "metadata": {
        "colab": {
          "base_uri": "https://localhost:8080/",
          "height": 421
        },
        "id": "aP8xyanwS-vR",
        "outputId": "d36bb01d-3da8-47c7-e502-912778f69281"
      },
      "source": [
        "#this dataframe is usefull to calculate tag probablities\n",
        "tags_df"
      ],
      "execution_count": 22,
      "outputs": [
        {
          "output_type": "execute_result",
          "data": {
            "text/html": [
              "<div>\n",
              "<style scoped>\n",
              "    .dataframe tbody tr th:only-of-type {\n",
              "        vertical-align: middle;\n",
              "    }\n",
              "\n",
              "    .dataframe tbody tr th {\n",
              "        vertical-align: top;\n",
              "    }\n",
              "\n",
              "    .dataframe thead th {\n",
              "        text-align: right;\n",
              "    }\n",
              "</style>\n",
              "<table border=\"1\" class=\"dataframe\">\n",
              "  <thead>\n",
              "    <tr style=\"text-align: right;\">\n",
              "      <th></th>\n",
              "      <th>ADJ</th>\n",
              "      <th>.</th>\n",
              "      <th>NUM</th>\n",
              "      <th>VERB</th>\n",
              "      <th>X</th>\n",
              "      <th>ADV</th>\n",
              "      <th>PRON</th>\n",
              "      <th>DET</th>\n",
              "      <th>PRT</th>\n",
              "      <th>ADP</th>\n",
              "      <th>CONJ</th>\n",
              "      <th>NOUN</th>\n",
              "    </tr>\n",
              "  </thead>\n",
              "  <tbody>\n",
              "    <tr>\n",
              "      <th>ADJ</th>\n",
              "      <td>0.065582</td>\n",
              "      <td>0.065417</td>\n",
              "      <td>0.021039</td>\n",
              "      <td>0.012327</td>\n",
              "      <td>0.020874</td>\n",
              "      <td>0.004438</td>\n",
              "      <td>0.000493</td>\n",
              "      <td>0.004602</td>\n",
              "      <td>0.011012</td>\n",
              "      <td>0.077416</td>\n",
              "      <td>0.017587</td>\n",
              "      <td>0.699211</td>\n",
              "    </tr>\n",
              "    <tr>\n",
              "      <th>.</th>\n",
              "      <td>0.045070</td>\n",
              "      <td>0.092569</td>\n",
              "      <td>0.081324</td>\n",
              "      <td>0.089421</td>\n",
              "      <td>0.026808</td>\n",
              "      <td>0.052267</td>\n",
              "      <td>0.065311</td>\n",
              "      <td>0.174253</td>\n",
              "      <td>0.002519</td>\n",
              "      <td>0.091220</td>\n",
              "      <td>0.057755</td>\n",
              "      <td>0.221393</td>\n",
              "    </tr>\n",
              "    <tr>\n",
              "      <th>NUM</th>\n",
              "      <td>0.034218</td>\n",
              "      <td>0.116224</td>\n",
              "      <td>0.185841</td>\n",
              "      <td>0.017404</td>\n",
              "      <td>0.209440</td>\n",
              "      <td>0.003245</td>\n",
              "      <td>0.001180</td>\n",
              "      <td>0.002950</td>\n",
              "      <td>0.027434</td>\n",
              "      <td>0.033923</td>\n",
              "      <td>0.013569</td>\n",
              "      <td>0.354572</td>\n",
              "    </tr>\n",
              "    <tr>\n",
              "      <th>VERB</th>\n",
              "      <td>0.064944</td>\n",
              "      <td>0.035149</td>\n",
              "      <td>0.023355</td>\n",
              "      <td>0.169150</td>\n",
              "      <td>0.217256</td>\n",
              "      <td>0.083101</td>\n",
              "      <td>0.035459</td>\n",
              "      <td>0.133225</td>\n",
              "      <td>0.031269</td>\n",
              "      <td>0.091558</td>\n",
              "      <td>0.005509</td>\n",
              "      <td>0.110025</td>\n",
              "    </tr>\n",
              "    <tr>\n",
              "      <th>X</th>\n",
              "      <td>0.016587</td>\n",
              "      <td>0.164115</td>\n",
              "      <td>0.002711</td>\n",
              "      <td>0.204785</td>\n",
              "      <td>0.075758</td>\n",
              "      <td>0.026156</td>\n",
              "      <td>0.055343</td>\n",
              "      <td>0.055821</td>\n",
              "      <td>0.182935</td>\n",
              "      <td>0.144179</td>\n",
              "      <td>0.010207</td>\n",
              "      <td>0.061404</td>\n",
              "    </tr>\n",
              "    <tr>\n",
              "      <th>ADV</th>\n",
              "      <td>0.130234</td>\n",
              "      <td>0.136499</td>\n",
              "      <td>0.031322</td>\n",
              "      <td>0.345862</td>\n",
              "      <td>0.022750</td>\n",
              "      <td>0.079130</td>\n",
              "      <td>0.014507</td>\n",
              "      <td>0.069568</td>\n",
              "      <td>0.014507</td>\n",
              "      <td>0.117046</td>\n",
              "      <td>0.007254</td>\n",
              "      <td>0.031322</td>\n",
              "    </tr>\n",
              "    <tr>\n",
              "      <th>PRON</th>\n",
              "      <td>0.074546</td>\n",
              "      <td>0.041715</td>\n",
              "      <td>0.007725</td>\n",
              "      <td>0.481653</td>\n",
              "      <td>0.092700</td>\n",
              "      <td>0.033990</td>\n",
              "      <td>0.007725</td>\n",
              "      <td>0.010042</td>\n",
              "      <td>0.012746</td>\n",
              "      <td>0.023175</td>\n",
              "      <td>0.005021</td>\n",
              "      <td>0.208961</td>\n",
              "    </tr>\n",
              "    <tr>\n",
              "      <th>DET</th>\n",
              "      <td>0.203973</td>\n",
              "      <td>0.017805</td>\n",
              "      <td>0.021439</td>\n",
              "      <td>0.039002</td>\n",
              "      <td>0.045906</td>\n",
              "      <td>0.013203</td>\n",
              "      <td>0.003634</td>\n",
              "      <td>0.005572</td>\n",
              "      <td>0.000242</td>\n",
              "      <td>0.009327</td>\n",
              "      <td>0.000484</td>\n",
              "      <td>0.639414</td>\n",
              "    </tr>\n",
              "    <tr>\n",
              "      <th>PRT</th>\n",
              "      <td>0.085211</td>\n",
              "      <td>0.043748</td>\n",
              "      <td>0.057460</td>\n",
              "      <td>0.398629</td>\n",
              "      <td>0.013386</td>\n",
              "      <td>0.009794</td>\n",
              "      <td>0.018609</td>\n",
              "      <td>0.100555</td>\n",
              "      <td>0.001959</td>\n",
              "      <td>0.020895</td>\n",
              "      <td>0.002285</td>\n",
              "      <td>0.247470</td>\n",
              "    </tr>\n",
              "    <tr>\n",
              "      <th>ADP</th>\n",
              "      <td>0.107656</td>\n",
              "      <td>0.040532</td>\n",
              "      <td>0.063693</td>\n",
              "      <td>0.008256</td>\n",
              "      <td>0.035063</td>\n",
              "      <td>0.013832</td>\n",
              "      <td>0.068840</td>\n",
              "      <td>0.322110</td>\n",
              "      <td>0.001394</td>\n",
              "      <td>0.016835</td>\n",
              "      <td>0.000858</td>\n",
              "      <td>0.320931</td>\n",
              "    </tr>\n",
              "    <tr>\n",
              "      <th>CONJ</th>\n",
              "      <td>0.118384</td>\n",
              "      <td>0.036212</td>\n",
              "      <td>0.042247</td>\n",
              "      <td>0.159239</td>\n",
              "      <td>0.008357</td>\n",
              "      <td>0.055246</td>\n",
              "      <td>0.058960</td>\n",
              "      <td>0.118384</td>\n",
              "      <td>0.004643</td>\n",
              "      <td>0.054318</td>\n",
              "      <td>0.000464</td>\n",
              "      <td>0.343547</td>\n",
              "    </tr>\n",
              "    <tr>\n",
              "      <th>NOUN</th>\n",
              "      <td>0.012219</td>\n",
              "      <td>0.239766</td>\n",
              "      <td>0.009402</td>\n",
              "      <td>0.147686</td>\n",
              "      <td>0.028754</td>\n",
              "      <td>0.016975</td>\n",
              "      <td>0.004829</td>\n",
              "      <td>0.013316</td>\n",
              "      <td>0.044522</td>\n",
              "      <td>0.176038</td>\n",
              "      <td>0.042766</td>\n",
              "      <td>0.263728</td>\n",
              "    </tr>\n",
              "  </tbody>\n",
              "</table>\n",
              "</div>"
            ],
            "text/plain": [
              "           ADJ         .       NUM  ...       ADP      CONJ      NOUN\n",
              "ADJ   0.065582  0.065417  0.021039  ...  0.077416  0.017587  0.699211\n",
              ".     0.045070  0.092569  0.081324  ...  0.091220  0.057755  0.221393\n",
              "NUM   0.034218  0.116224  0.185841  ...  0.033923  0.013569  0.354572\n",
              "VERB  0.064944  0.035149  0.023355  ...  0.091558  0.005509  0.110025\n",
              "X     0.016587  0.164115  0.002711  ...  0.144179  0.010207  0.061404\n",
              "ADV   0.130234  0.136499  0.031322  ...  0.117046  0.007254  0.031322\n",
              "PRON  0.074546  0.041715  0.007725  ...  0.023175  0.005021  0.208961\n",
              "DET   0.203973  0.017805  0.021439  ...  0.009327  0.000484  0.639414\n",
              "PRT   0.085211  0.043748  0.057460  ...  0.020895  0.002285  0.247470\n",
              "ADP   0.107656  0.040532  0.063693  ...  0.016835  0.000858  0.320931\n",
              "CONJ  0.118384  0.036212  0.042247  ...  0.054318  0.000464  0.343547\n",
              "NOUN  0.012219  0.239766  0.009402  ...  0.176038  0.042766  0.263728\n",
              "\n",
              "[12 rows x 12 columns]"
            ]
          },
          "metadata": {
            "tags": []
          },
          "execution_count": 22
        }
      ]
    },
    {
      "cell_type": "markdown",
      "metadata": {
        "id": "f5R1-l7qS-vR"
      },
      "source": [
        "## Viterbi Algorithm - Simple"
      ]
    },
    {
      "cell_type": "code",
      "metadata": {
        "colab": {
          "base_uri": "https://localhost:8080/"
        },
        "id": "-xOWnI58S-vR",
        "outputId": "935283a2-a7f9-4033-e99c-3c70312f5230"
      },
      "source": [
        "len(train_tagged_words)"
      ],
      "execution_count": 23,
      "outputs": [
        {
          "output_type": "execute_result",
          "data": {
            "text/plain": [
              "95504"
            ]
          },
          "metadata": {
            "tags": []
          },
          "execution_count": 23
        }
      ]
    },
    {
      "cell_type": "code",
      "metadata": {
        "id": "9U9WhWB4S-vR"
      },
      "source": [
        "# Viterbi Heuristic\n",
        "def Viterbi(words, train_bag = train_tagged_words):\n",
        "    state = []\n",
        "    T = list(set([pair[1] for pair in train_bag]))\n",
        "    \n",
        "    for key, word in enumerate(words):\n",
        "        #initialise list of probability column for a given observation\n",
        "        p = [] \n",
        "        for tag in T:\n",
        "            if key == 0:\n",
        "                transition_p = tags_df.loc['.', tag]\n",
        "            else:\n",
        "                transition_p = tags_df.loc[state[-1], tag]\n",
        "                \n",
        "            # compute emission and state probabilities\n",
        "            emission_p = word_given_tag(words[key], tag)[0]/word_given_tag(words[key], tag)[1]\n",
        "            state_probability = emission_p * transition_p    \n",
        "            p.append(state_probability)\n",
        "            \n",
        "        pmax = max(p)\n",
        "        # getting state for which probability is maximum\n",
        "        state_max = T[p.index(pmax)] \n",
        "        state.append(state_max)\n",
        "    return list(zip(words, state))"
      ],
      "execution_count": 24,
      "outputs": []
    },
    {
      "cell_type": "code",
      "metadata": {
        "id": "E1MCnS8AS-vR"
      },
      "source": [
        "# Running on entire test dataset would take more than 3-4hrs. \n",
        "# Let's test our Viterbi algorithm on a few sample sentences of test dataset\n",
        "\n",
        "random.seed(1234)\n",
        "\n",
        "# choose random 5 sents\n",
        "rndom = [random.randint(1,len(test_set)) for x in range(5)]\n",
        "\n",
        "# list of sents\n",
        "#test_run = [test_set[i] for i in rndom]\n",
        "#we'll consider all the dataset\n",
        "test_run = test_set\n",
        "\n",
        "# list of tagged words\n",
        "test_run_base = [tup for sent in test_run for tup in sent]\n",
        "\n",
        "# list of untagged words\n",
        "test_tagged_words = [tup[0] for sent in test_run for tup in sent]\n",
        "#test_run"
      ],
      "execution_count": 25,
      "outputs": []
    },
    {
      "cell_type": "code",
      "metadata": {
        "id": "AfXEdxqtS-vR"
      },
      "source": [
        "# tagging the test sentences\n",
        "start = time.time()\n",
        "tagged_seq = Viterbi(test_tagged_words)\n",
        "end = time.time()\n",
        "difference = end-start"
      ],
      "execution_count": 26,
      "outputs": []
    },
    {
      "cell_type": "code",
      "metadata": {
        "colab": {
          "base_uri": "https://localhost:8080/"
        },
        "id": "2YosVHhgS-vR",
        "outputId": "95af3bc2-695e-4da3-844a-a3574d7b84b4"
      },
      "source": [
        "print(\"Time taken in seconds: \", difference)\n",
        "#print(tagged_seq)\n",
        "#print(test_run_base)"
      ],
      "execution_count": 27,
      "outputs": [
        {
          "output_type": "stream",
          "text": [
            "Time taken in seconds:  1004.2994711399078\n"
          ],
          "name": "stdout"
        }
      ]
    },
    {
      "cell_type": "code",
      "metadata": {
        "id": "F2MHMAKyS-vS"
      },
      "source": [
        "# check accuracy of the model\n",
        "def accuracy(tagged_seq,test_run_base = test_run_base):\n",
        "    check = [i for i, j in zip(tagged_seq, test_run_base) if i == j] \n",
        "    accuracy = len(check)/len(tagged_seq)\n",
        "    return accuracy\n",
        "plain_viterbi = accuracy(tagged_seq)"
      ],
      "execution_count": 28,
      "outputs": []
    },
    {
      "cell_type": "code",
      "metadata": {
        "colab": {
          "base_uri": "https://localhost:8080/"
        },
        "id": "BciNn42zS-vS",
        "outputId": "fefef555-8e4d-4156-de06-ccd782b54624"
      },
      "source": [
        "print(\"Accuracy of the plain veribii model - \", plain_viterbi )"
      ],
      "execution_count": 29,
      "outputs": [
        {
          "output_type": "stream",
          "text": [
            "Accuracy of the plain veribii model -  0.9155065738592421\n"
          ],
          "name": "stdout"
        }
      ]
    },
    {
      "cell_type": "code",
      "metadata": {
        "id": "TC9GK95NB_ql"
      },
      "source": [
        "#Above is the accuracy that we got for plain vanilla viterbi algorithm"
      ],
      "execution_count": 30,
      "outputs": []
    },
    {
      "cell_type": "code",
      "metadata": {
        "id": "FQw-Bz8gS-vS"
      },
      "source": [
        "incorrect_tagged_cases = [[test_run_base[i-1],j] for i, j in enumerate(zip(tagged_seq, test_run_base)) if j[0]!=j[1]]"
      ],
      "execution_count": 31,
      "outputs": []
    },
    {
      "cell_type": "code",
      "metadata": {
        "colab": {
          "base_uri": "https://localhost:8080/"
        },
        "id": "AdequgYRS-vS",
        "outputId": "36ac2a4b-0561-4d45-bba0-31f6eca0dafd"
      },
      "source": [
        "#Let's find out incorrect tags\n",
        "incorrect_tagged_cases"
      ],
      "execution_count": 32,
      "outputs": [
        {
          "output_type": "execute_result",
          "data": {
            "text/plain": [
              "[[('guests', 'NOUN'), (('more', 'ADV'), ('more', 'ADJ'))],\n",
              " [('like', 'ADP'), (('royalty', 'ADJ'), ('royalty', 'NOUN'))],\n",
              " [('or', 'CONJ'), (('rock', 'ADJ'), ('rock', 'NOUN'))],\n",
              " [('to', 'PRT'), (('scrape', 'ADJ'), ('scrape', 'VERB'))],\n",
              " [('retired', 'VERB'),\n",
              "  (('water-authority', 'ADJ'), ('water-authority', 'NOUN'))],\n",
              " [('its', 'PRON'), (('finance', 'VERB'), ('finance', 'NOUN'))],\n",
              " [('corn-buying', 'ADJ'), (('binge', 'ADJ'), ('binge', 'NOUN'))],\n",
              " [('the', 'DET'), (('Soviet', 'ADJ'), ('Soviet', 'NOUN'))],\n",
              " [('serious', 'ADJ'), (('bottlenecks', 'ADJ'), ('bottlenecks', 'NOUN'))],\n",
              " [('grain', 'NOUN'), (('pipeline', 'ADJ'), ('pipeline', 'NOUN'))],\n",
              " [('share', 'NOUN'), (('that', 'ADP'), ('that', 'DET'))],\n",
              " [('that', 'DET'), (('*T*-119', 'ADJ'), ('*T*-119', 'X'))],\n",
              " [('*T*-119', 'X'), (('expires', 'ADJ'), ('expires', 'VERB'))],\n",
              " [('.', '.'), (('Use', 'ADJ'), ('Use', 'NOUN'))],\n",
              " [(\"n't\", 'ADV'), (('as', 'ADP'), ('as', 'ADV'))],\n",
              " [('D.', 'NOUN'), (('Phipps', 'ADJ'), ('Phipps', 'NOUN'))],\n",
              " [('Phipps', 'NOUN'), (('Sr.', 'ADJ'), ('Sr.', 'NOUN'))],\n",
              " [('Scott', 'NOUN'), (('Rankin', 'ADJ'), ('Rankin', 'NOUN'))],\n",
              " [(',', '.'), (('Mo.', 'ADJ'), ('Mo.', 'NOUN'))],\n",
              " [(';', '.'), (('Leigh', 'ADJ'), ('Leigh', 'NOUN'))],\n",
              " [('A.', 'NOUN'), (('Sanderoff', 'ADJ'), ('Sanderoff', 'NOUN'))],\n",
              " [(',', '.'), (('Gaithersburg', 'ADJ'), ('Gaithersburg', 'NOUN'))],\n",
              " [(',', '.'), (('Md.', 'ADJ'), ('Md.', 'NOUN'))],\n",
              " [('$', '.'), (('12,252', 'ADJ'), ('12,252', 'NUM'))],\n",
              " [(';', '.'), (('Sandra', 'ADJ'), ('Sandra', 'NOUN'))],\n",
              " [(',', '.'), (('Ridgefield', 'ADJ'), ('Ridgefield', 'NOUN'))],\n",
              " [('G.', 'NOUN'), (('Spence', 'ADJ'), ('Spence', 'NOUN'))],\n",
              " [(',', '.'), (('Aloha', 'ADJ'), ('Aloha', 'NOUN'))],\n",
              " [(';', '.'), (('Mona', 'ADJ'), ('Mona', 'NOUN'))],\n",
              " [('Jamaica', 'NOUN'), (('Estates', 'ADJ'), ('Estates', 'NOUN'))],\n",
              " [('William', 'NOUN'), (('Swearingen', 'ADJ'), ('Swearingen', 'NOUN'))],\n",
              " [('John', 'NOUN'), (('Bew', 'ADJ'), ('Bew', 'NOUN'))],\n",
              " [('Bew', 'NOUN'), (('Wong', 'ADJ'), ('Wong', 'NOUN'))],\n",
              " [(';', '.'), (('Rabia', 'ADJ'), ('Rabia', 'NOUN'))],\n",
              " [('M.', 'NOUN'), (('Zayed', 'ADJ'), ('Zayed', 'NOUN'))],\n",
              " [(\"''\", '.'), (('DOT', 'ADJ'), ('DOT', 'NOUN'))],\n",
              " [('``', '.'), (('Designated', 'ADJ'), ('Designated', 'NOUN'))],\n",
              " [('Designated', 'NOUN'), (('Order', 'ADJ'), ('Order', 'NOUN'))],\n",
              " [('Order', 'NOUN'), (('Turnaround', 'ADJ'), ('Turnaround', 'NOUN'))],\n",
              " [('to', 'PRT'), (('offer', 'NOUN'), ('offer', 'VERB'))],\n",
              " [('*-1', 'X'), (('Citing', 'ADJ'), ('Citing', 'VERB'))],\n",
              " [('no', 'DET'), (('one', 'NUM'), ('one', 'NOUN'))],\n",
              " [('could', 'VERB'), (('sign', 'NOUN'), ('sign', 'VERB'))],\n",
              " [('and', 'CONJ'), (('assert', 'ADJ'), ('assert', 'VERB'))],\n",
              " [('rider', 'NOUN'), (('restricting', 'ADJ'), ('restricting', 'VERB'))],\n",
              " [('of', 'ADP'), (('Elsevier', 'ADJ'), ('Elsevier', 'NOUN'))],\n",
              " [('the', 'DET'), (('Dutch', 'ADJ'), ('Dutch', 'NOUN'))],\n",
              " [('Dutch', 'NOUN'), (('publishing', 'NOUN'), ('publishing', 'VERB'))],\n",
              " [('is', 'VERB'), (('imposing', 'ADJ'), ('imposing', 'VERB'))],\n",
              " [('programs', 'NOUN'), (('that', 'ADP'), ('that', 'DET'))],\n",
              " [('that', 'DET'), (('*T*-136', 'ADJ'), ('*T*-136', 'X'))],\n",
              " [('*-1', 'X'), (('obtaining', 'ADJ'), ('obtaining', 'VERB'))],\n",
              " [('and', 'CONJ'), (('referrals', 'ADJ'), ('referrals', 'NOUN'))],\n",
              " [('company', 'NOUN'), (('forecast', 'NOUN'), ('forecast', 'VERB'))],\n",
              " [('year', 'NOUN'), (('earlier', 'ADV'), ('earlier', 'ADJ'))],\n",
              " [('magazine', 'NOUN'), (('combines', 'NOUN'), ('combines', 'VERB'))],\n",
              " [('how-to', 'ADJ'), (('pieces', 'ADJ'), ('pieces', 'NOUN'))],\n",
              " [('like', 'ADP'), (('backyard', 'ADJ'), ('backyard', 'NOUN'))],\n",
              " [('backyard', 'NOUN'), (('composting', 'ADJ'), ('composting', 'NOUN'))],\n",
              " [('explanatory', 'ADJ'), (('essays', 'ADJ'), ('essays', 'NOUN'))],\n",
              " [('*T*-1', 'X'), (('happens', 'ADJ'), ('happens', 'VERB'))],\n",
              " [('you', 'PRON'), (('flush', 'ADJ'), ('flush', 'VERB'))],\n",
              " [('your', 'PRON'), (('toilet', 'ADJ'), ('toilet', 'NOUN'))],\n",
              " [('hard-hitting', 'ADJ'), (('pieces', 'ADJ'), ('pieces', 'NOUN'))],\n",
              " [('``', '.'), (('so', 'ADV'), ('so', 'ADP'))],\n",
              " [('this', 'DET'), (('flim-flammery', 'ADJ'), ('flim-flammery', 'NOUN'))],\n",
              " [('company', 'NOUN'), (('distributed', 'ADJ'), ('distributed', 'VERB'))],\n",
              " [(\"'s\", 'PRT'), (('unitholders', 'ADJ'), ('unitholders', 'NOUN'))],\n",
              " [('been', 'VERB'), (('obsessed', 'ADJ'), ('obsessed', 'VERB'))],\n",
              " [('*', 'X'), (('refitting', 'ADJ'), ('refitting', 'VERB'))],\n",
              " [(\"'s\", 'PRT'), (('Little', 'ADJ'), ('Little', 'NOUN'))],\n",
              " [(',', '.'), (('as', 'ADP'), ('as', 'ADV'))],\n",
              " [('possible', 'ADJ'), (('white', 'NOUN'), ('white', 'ADJ'))],\n",
              " [('white', 'ADJ'), (('knight', 'ADJ'), ('knight', 'NOUN'))],\n",
              " [('for', 'ADP'), (('Great', 'NOUN'), ('Great', 'ADJ'))],\n",
              " [('.', '.'), (('Zenith', 'ADJ'), ('Zenith', 'NOUN'))],\n",
              " [('of', 'ADP'), (('Zenith', 'ADJ'), ('Zenith', 'NOUN'))],\n",
              " [('$', '.'), (('534', 'ADJ'), ('534', 'NUM'))],\n",
              " [('of', 'ADP'), (('microcomputers', 'ADJ'), ('microcomputers', 'NOUN'))],\n",
              " [('visiting', 'VERB'), (('about', 'ADP'), ('about', 'ADV'))],\n",
              " [('about', 'ADV'), (('26,000', 'ADJ'), ('26,000', 'NUM'))],\n",
              " [('cigarette', 'NOUN'), (('stalls', 'ADJ'), ('stalls', 'NOUN'))],\n",
              " [('illegal', 'ADJ'), (('posters', 'ADJ'), ('posters', 'NOUN'))],\n",
              " [('and', 'CONJ'), (('signboards', 'ADJ'), ('signboards', 'NOUN'))],\n",
              " [('signboards', 'NOUN'), (('advertising', 'NOUN'), ('advertising', 'VERB'))],\n",
              " [('*-1', 'X'), (('sticking', 'ADJ'), ('sticking', 'VERB'))],\n",
              " [('its', 'PRON'), (('vow', 'ADJ'), ('vow', 'NOUN'))],\n",
              " [('*', 'X'), (('avoiding', 'ADJ'), ('avoiding', 'VERB'))],\n",
              " [('has', 'VERB'), (('staunchly', 'ADJ'), ('staunchly', 'ADV'))],\n",
              " [('opposed', 'VERB'), (('cost-sharing', 'ADJ'), ('cost-sharing', 'NOUN'))],\n",
              " [('unfounded', 'ADJ'), (('interrogation', 'ADJ'), ('interrogation', 'NOUN'))],\n",
              " [('are', 'VERB'), (('derisively', 'ADJ'), ('derisively', 'ADV'))],\n",
              " [('derisively', 'ADV'), (('known', 'ADJ'), ('known', 'VERB'))],\n",
              " [('computer', 'NOUN'), (('jockeys', 'ADJ'), ('jockeys', 'NOUN'))],\n",
              " [('active', 'ADJ'), (('55-year-old', 'ADJ'), ('55-year-old', 'NOUN'))],\n",
              " [('about', 'ADP'), (('Senior', 'ADJ'), ('Senior', 'NOUN'))],\n",
              " [('a', 'DET'), (('75-year-old', 'ADJ'), ('75-year-old', 'NUM'))],\n",
              " [('The', 'DET'), (('Soviet', 'ADJ'), ('Soviet', 'NOUN'))],\n",
              " [('wants', 'VERB'), (('much', 'ADV'), ('much', 'ADJ'))],\n",
              " [('a', 'DET'), (('strain', 'ADJ'), ('strain', 'NOUN'))],\n",
              " [('provision', 'NOUN'), (('amounts', 'NOUN'), ('amounts', 'VERB'))],\n",
              " [('nor', 'CONJ'), (('presentation', 'ADJ'), ('presentation', 'NOUN'))],\n",
              " [('his', 'PRON'), (('signature', 'ADJ'), ('signature', 'NOUN'))],\n",
              " [('.', '.'), (('Inventor', 'ADJ'), ('Inventor', 'NOUN'))],\n",
              " [('Inventor', 'NOUN'), (('Claire', 'ADJ'), ('Claire', 'NOUN'))],\n",
              " [('his', 'PRON'), (('design', 'VERB'), ('design', 'NOUN'))],\n",
              " [('eliminates', 'VERB'), (('spilling', 'ADJ'), ('spilling', 'NOUN'))],\n",
              " [('.', '.'), (('Weatherly', 'ADJ'), ('Weatherly', 'NOUN'))],\n",
              " [('Eugene', 'NOUN'), (('Keehn', 'ADJ'), ('Keehn', 'NOUN'))],\n",
              " [('William', 'NOUN'), (('Northy', 'ADJ'), ('Northy', 'NOUN'))],\n",
              " [('Northy', 'NOUN'), (('Prater', 'ADJ'), ('Prater', 'NOUN'))],\n",
              " [('of', 'ADP'), (('Mercer', 'ADJ'), ('Mercer', 'NOUN'))],\n",
              " [(',', '.'), (('Wash.', 'ADJ'), ('Wash.', 'NOUN'))],\n",
              " [('running', 'VERB'), (('up', 'ADV'), ('up', 'PRT'))],\n",
              " [('up', 'PRT'), (('record', 'VERB'), ('record', 'ADJ'))],\n",
              " [('by', 'ADP'), (('organized', 'ADJ'), ('organized', 'VERB'))],\n",
              " [('trained', 'VERB'), (('bellringers', 'ADJ'), ('bellringers', 'NOUN'))],\n",
              " [('only', 'ADV'), (('40,000', 'ADJ'), ('40,000', 'NUM'))],\n",
              " [('Per-share', 'ADJ'), (('net', 'ADJ'), ('net', 'NOUN'))],\n",
              " [('to', 'PRT'), (('7.84', 'ADJ'), ('7.84', 'NUM'))],\n",
              " [('from', 'ADP'), (('6.53', 'ADJ'), ('6.53', 'NUM'))],\n",
              " [('a', 'DET'), (('Helsinki', 'ADJ'), ('Helsinki', 'NOUN'))],\n",
              " [('annually', 'ADV'), (('total', 'ADJ'), ('total', 'VERB'))],\n",
              " [('$', '.'), (('38.3', 'ADJ'), ('38.3', 'NUM'))],\n",
              " [(\"'s\", 'PRT'), (('dislike', 'VERB'), ('dislike', 'NOUN'))],\n",
              " [('is', 'VERB'), (('echoed', 'ADJ'), ('echoed', 'VERB'))],\n",
              " [('U.S.', 'NOUN'), (('encourages', 'ADJ'), ('encourages', 'VERB'))],\n",
              " [('to', 'PRT'), (('share', 'NOUN'), ('share', 'VERB'))],\n",
              " [('economic', 'ADJ'), (('burdens', 'ADJ'), ('burdens', 'NOUN'))],\n",
              " [('a', 'DET'), (('cosmetic', 'NOUN'), ('cosmetic', 'ADJ'))],\n",
              " [('S.', 'NOUN'), (('Gelles', 'ADJ'), ('Gelles', 'NOUN'))],\n",
              " [('of', 'ADP'), (('Wertheim', 'ADJ'), ('Wertheim', 'NOUN'))],\n",
              " [('Wertheim', 'NOUN'), (('Schroder', 'ADJ'), ('Schroder', 'NOUN'))],\n",
              " [('.', '.'), (('Shortly', 'ADJ'), ('Shortly', 'ADV'))],\n",
              " [('Shortly', 'ADV'), (('afterwards', 'ADJ'), ('afterwards', 'ADV'))],\n",
              " [('be', 'VERB'), (('codified', 'ADJ'), ('codified', 'VERB'))],\n",
              " [('codified', 'VERB'), (('*-147', 'ADJ'), ('*-147', 'X'))],\n",
              " [('.', '.'), (('F.H.', 'ADJ'), ('F.H.', 'NOUN'))],\n",
              " [('been', 'VERB'), (('exceeding', 'ADJ'), ('exceeding', 'VERB'))],\n",
              " [('In', 'ADP'), (('Arizona', 'ADJ'), ('Arizona', 'NOUN'))],\n",
              " [(',', '.'), (('Louisiana', 'ADJ'), ('Louisiana', 'NOUN'))],\n",
              " [('classroom', 'NOUN'), (('tools', 'ADJ'), ('tools', 'NOUN'))],\n",
              " [('$', '.'), (('3.80', 'ADJ'), ('3.80', 'NUM'))],\n",
              " [('the', 'DET'), (('Hoosier', 'ADJ'), ('Hoosier', 'NOUN'))],\n",
              " [('its', 'PRON'), (('fall', 'VERB'), ('fall', 'NOUN'))],\n",
              " [('Preliminary', 'ADJ'), (('tallies', 'ADJ'), ('tallies', 'NOUN'))],\n",
              " [('a', 'DET'), (('cloud', 'ADJ'), ('cloud', 'NOUN'))],\n",
              " [('by', 'ADP'), (('about', 'ADP'), ('about', 'ADV'))],\n",
              " [('to', 'PRT'), (('8.75', 'ADJ'), ('8.75', 'NUM'))],\n",
              " [('has', 'VERB'), (('shown', 'ADJ'), ('shown', 'VERB'))],\n",
              " [('where', 'ADV'), (('most', 'ADJ'), ('most', 'ADV'))],\n",
              " [('to', 'PRT'), (('acknowledge', 'ADJ'), ('acknowledge', 'VERB'))],\n",
              " [('acknowledge', 'VERB'), (('that', 'ADP'), ('that', 'DET'))],\n",
              " [('the', 'DET'), (('infusion', 'ADJ'), ('infusion', 'NOUN'))],\n",
              " [('might', 'VERB'), (('gyrate', 'ADJ'), ('gyrate', 'VERB'))],\n",
              " [('exporters', 'NOUN'), (('scrounge', 'ADJ'), ('scrounge', 'VERB'))],\n",
              " [('congressional', 'ADJ'), (('Republicans', 'ADJ'), ('Republicans', 'NOUN'))],\n",
              " [('to', 'PRT'), (('bend', 'ADJ'), ('bend', 'VERB'))],\n",
              " [('to', 'PRT'), (('compromise', 'NOUN'), ('compromise', 'VERB'))],\n",
              " [('on', 'ADP'), (('64.5', 'ADJ'), ('64.5', 'NUM'))],\n",
              " [('to', 'PRT'), (('last', 'ADJ'), ('last', 'VERB'))],\n",
              " [(\"''\", '.'), (('evolve', 'ADJ'), ('evolve', 'VERB'))],\n",
              " [('evil', 'ADJ'), (('creature', 'ADJ'), ('creature', 'NOUN'))],\n",
              " [('creature', 'NOUN'), (('that', 'ADP'), ('that', 'DET'))],\n",
              " [('is', 'VERB'), (('evoking', 'ADJ'), ('evoking', 'VERB'))],\n",
              " [('the', 'DET'), (('curses', 'ADJ'), ('curses', 'NOUN'))],\n",
              " [('*-1', 'X'), (('Observing', 'ADJ'), ('Observing', 'VERB'))],\n",
              " [('never', 'ADV'), (('exhibited', 'ADJ'), ('exhibited', 'VERB'))],\n",
              " [('or', 'CONJ'), (('prejudice', 'ADJ'), ('prejudice', 'NOUN'))],\n",
              " [('a', 'DET'), (('homosexual', 'ADJ'), ('homosexual', 'NOUN'))],\n",
              " [('or', 'CONJ'), (('prostitute', 'ADJ'), ('prostitute', 'NOUN'))],\n",
              " [('has', 'VERB'), (('cultivated', 'ADJ'), ('cultivated', 'VERB'))],\n",
              " [('a', 'DET'), (('much', 'ADJ'), ('much', 'ADV'))],\n",
              " [('``', '.'), (('increases', 'NOUN'), ('increases', 'VERB'))],\n",
              " [('income', 'NOUN'), (('confirms', 'ADJ'), ('confirms', 'VERB'))],\n",
              " [(\"'s\", 'PRT'), (('rebound', 'VERB'), ('rebound', 'NOUN'))],\n",
              " [('agricultural', 'ADJ'), (('depression', 'ADJ'), ('depression', 'NOUN'))],\n",
              " [('early', 'ADJ'), (('1980s', 'NOUN'), ('1980s', 'NUM'))],\n",
              " [('proposed', 'VERB'), (('pact', 'ADJ'), ('pact', 'NOUN'))],\n",
              " [('was', 'VERB'), (('230-215', 'ADJ'), ('230-215', 'NUM'))],\n",
              " [('Energy', 'NOUN'), (('Regulatory', 'ADJ'), ('Regulatory', 'NOUN'))],\n",
              " [('turned', 'VERB'), (('down', 'ADV'), ('down', 'PRT'))],\n",
              " [('would', 'VERB'), (('like', 'ADP'), ('like', 'VERB'))],\n",
              " [('to', 'PRT'), (('apologize', 'ADJ'), ('apologize', 'VERB'))],\n",
              " [('lobbyists', 'NOUN'), (('as', 'ADP'), ('as', 'ADV'))],\n",
              " [('The', 'DET'), (('truck', 'ADJ'), ('truck', 'NOUN'))],\n",
              " [('.', '.'), (('NCNB', 'ADJ'), ('NCNB', 'NOUN'))],\n",
              " [('Financial', 'NOUN'), (('Connections', 'ADJ'), ('Connections', 'NOUN'))],\n",
              " [('young', 'ADJ'), (('adults', 'ADJ'), ('adults', 'NOUN'))],\n",
              " [('my', 'PRON'), (('estimation', 'ADJ'), ('estimation', 'NOUN'))],\n",
              " [('than', 'ADP'), (('700', 'ADJ'), ('700', 'NUM'))],\n",
              " [('of', 'ADP'), (('New', 'NOUN'), ('New', 'ADJ'))],\n",
              " [('New', 'ADJ'), (('York-based', 'NOUN'), ('York-based', 'ADJ'))],\n",
              " [('and', 'CONJ'), (('Broken', 'ADJ'), ('Broken', 'NOUN'))],\n",
              " [('Hill', 'NOUN'), (('Pty.', 'ADJ'), ('Pty.', 'NOUN'))],\n",
              " [('$', '.'), (('9.3', 'ADJ'), ('9.3', 'NUM'))],\n",
              " [('House', 'NOUN'), (('Majority', 'ADJ'), ('Majority', 'NOUN'))],\n",
              " [('Majority', 'NOUN'), (('Whip', 'ADJ'), ('Whip', 'NOUN'))],\n",
              " [(',', '.'), (('Pa', 'ADJ'), ('Pa', 'NOUN'))],\n",
              " [('and', 'CONJ'), (('Barbados', 'ADJ'), ('Barbados', 'NOUN'))],\n",
              " [('What', 'PRON'), (('*T*-234', 'ADJ'), ('*T*-234', 'X'))],\n",
              " [('growth', 'NOUN'), (('next', 'ADP'), ('next', 'ADJ'))],\n",
              " [('?', '.'), (('Manila', 'ADJ'), ('Manila', 'NOUN'))],\n",
              " [('the', 'DET'), (('Scholastic', 'ADJ'), ('Scholastic', 'NOUN'))],\n",
              " [('Scholastic', 'NOUN'), (('Aptitude', 'ADJ'), ('Aptitude', 'NOUN'))],\n",
              " [('still', 'ADV'), (('posts', 'NOUN'), ('posts', 'VERB'))],\n",
              " [('lowest', 'ADJ'), (('average', 'NOUN'), ('average', 'ADJ'))],\n",
              " [('who', 'PRON'), (('*T*-87', 'ADJ'), ('*T*-87', 'X'))],\n",
              " [('*T*-87', 'X'), (('use', 'NOUN'), ('use', 'VERB'))],\n",
              " [('the', 'DET'), (('SAT', 'ADJ'), ('SAT', 'NOUN'))],\n",
              " [('college', 'NOUN'), (('entrance', 'ADJ'), ('entrance', 'NOUN'))],\n",
              " [('.', '.'), (('Grain', 'ADJ'), ('Grain', 'NOUN'))],\n",
              " [('the', 'DET'), (('1920s', 'NOUN'), ('1920s', 'NUM'))],\n",
              " [('and', 'CONJ'), ((\"'30s\", 'ADJ'), (\"'30s\", 'NUM'))],\n",
              " [('concrete', 'ADJ'), (('walls', 'ADJ'), ('walls', 'NOUN'))],\n",
              " [('shape', 'NOUN'), (('that', 'ADP'), ('that', 'DET'))],\n",
              " [('semicircular', 'ADJ'), (('cells', 'ADJ'), ('cells', 'NOUN'))],\n",
              " [('the', 'DET'), (('middle', 'ADJ'), ('middle', 'NOUN'))],\n",
              " [('The', 'DET'), (('record', 'NOUN'), ('record', 'ADJ'))],\n",
              " [('$', '.'), (('550,000', 'ADJ'), ('550,000', 'NUM'))],\n",
              " [('.', '.'), (('Common', 'NOUN'), ('Common', 'ADJ'))],\n",
              " [('a', 'DET'), (('weakening', 'ADJ'), ('weakening', 'NOUN'))],\n",
              " [('has', 'VERB'), (('engineered', 'ADJ'), ('engineered', 'VERB'))],\n",
              " [('Consolidated', 'NOUN'), (('Rail', 'ADJ'), ('Rail', 'NOUN'))],\n",
              " [('1,000', 'NUM'), (('enclosed', 'ADJ'), ('enclosed', 'VERB'))],\n",
              " [('*', 'X'), (('transporting', 'ADJ'), ('transporting', 'VERB'))],\n",
              " [('transporting', 'VERB'), (('autos', 'ADJ'), ('autos', 'NOUN'))],\n",
              " [('the', 'DET'), (('resumption', 'ADJ'), ('resumption', 'NOUN'))],\n",
              " [('space', 'NOUN'), (('shuttle', 'ADJ'), ('shuttle', 'NOUN'))],\n",
              " [('expendable', 'ADJ'),\n",
              "  (('launch-vehicle', 'ADJ'), ('launch-vehicle', 'NOUN'))],\n",
              " [('launch-vehicle', 'NOUN'), (('engines', 'ADJ'), ('engines', 'NOUN'))],\n",
              " [('a', 'DET'), (('tenth', 'ADJ'), ('tenth', 'NOUN'))],\n",
              " [('may', 'VERB'), (('no', 'DET'), ('no', 'ADV'))],\n",
              " [('no', 'ADV'), (('longer', 'ADJ'), ('longer', 'ADV'))],\n",
              " [('have', 'VERB'), (('as', 'ADP'), ('as', 'ADV'))],\n",
              " [('to', 'PRT'), (('export', 'NOUN'), ('export', 'VERB'))],\n",
              " [('the', 'DET'), (('1990-91', 'ADJ'), ('1990-91', 'NUM'))],\n",
              " [('season', 'NOUN'), (('so', 'ADV'), ('so', 'ADP'))],\n",
              " [('for', 'ADP'), (('automobile', 'ADJ'), ('automobile', 'NOUN'))],\n",
              " [('broad', 'ADJ'), (('enough', 'ADJ'), ('enough', 'ADV'))],\n",
              " [('The', 'DET'), (('Japanese', 'ADJ'), ('Japanese', 'NOUN'))],\n",
              " [('Japanese', 'NOUN'), (('retort', 'ADJ'), ('retort', 'NOUN'))],\n",
              " [('make', 'VERB'), (('concessions', 'ADJ'), ('concessions', 'NOUN'))],\n",
              " [('18', 'NUM'), (('categories', 'ADJ'), ('categories', 'NOUN'))],\n",
              " [('turned', 'VERB'), (('down', 'ADV'), ('down', 'PRT'))],\n",
              " [('``', '.'), (('because', 'ADP'), ('because', 'ADV'))],\n",
              " [('the', 'DET'), (('potential', 'ADJ'), ('potential', 'NOUN'))],\n",
              " [('material', 'NOUN'), (('injury', 'ADJ'), ('injury', 'NOUN'))],\n",
              " [('a', 'DET'), (('one-upsmanship', 'ADJ'), ('one-upsmanship', 'NOUN'))],\n",
              " [('*ICH*-1', 'X'), (('silicon', 'ADJ'), ('silicon', 'NOUN'))],\n",
              " [('silicon', 'NOUN'), (('wafers', 'ADJ'), ('wafers', 'NOUN'))],\n",
              " [('to', 'PRT'), (('fabricate', 'ADJ'), ('fabricate', 'VERB'))],\n",
              " [('circulation', 'NOUN'), (('exceeding', 'ADJ'), ('exceeding', 'VERB'))],\n",
              " [('exceeding', 'VERB'), (('700,000', 'ADJ'), ('700,000', 'NUM'))],\n",
              " [('some', 'DET'), (('senses', 'ADJ'), ('senses', 'NOUN'))],\n",
              " [('corrupt', 'ADJ'), (('scheme', 'ADJ'), ('scheme', 'NOUN'))],\n",
              " [('a', 'DET'), (('bag', 'ADJ'), ('bag', 'NOUN'))],\n",
              " [('a', 'DET'), (('blank', 'ADJ'), ('blank', 'NOUN'))],\n",
              " [('no', 'DET'), (('guarantee', 'VERB'), ('guarantee', 'NOUN'))],\n",
              " [('that', 'ADP'), (('vendors', 'ADJ'), ('vendors', 'NOUN'))],\n",
              " [('were', 'VERB'), (('delivering', 'ADJ'), ('delivering', 'VERB'))],\n",
              " [('to', 'PRT'), (('report', 'NOUN'), ('report', 'VERB'))],\n",
              " [('Donald', 'NOUN'), (('Pardus', 'ADJ'), ('Pardus', 'NOUN'))],\n",
              " [('*T*-67', 'X'), ((\"'s\", 'PRT'), (\"'s\", 'VERB'))],\n",
              " [('getting', 'VERB'), (('out', 'PRT'), ('out', 'ADP'))],\n",
              " [('they', 'PRON'), (('waited', 'ADJ'), ('waited', 'VERB'))],\n",
              " [('then', 'ADV'), (('sneaked', 'ADJ'), ('sneaked', 'VERB'))],\n",
              " [('sneaked', 'VERB'), (('back', 'NOUN'), ('back', 'ADV'))],\n",
              " [('*T*-51', 'X'), (('import', 'NOUN'), ('import', 'VERB'))],\n",
              " [('*U*', 'X'), (('pretax', 'NOUN'), ('pretax', 'ADJ'))],\n",
              " [('citing', 'VERB'), (('extended', 'VERB'), ('extended', 'ADJ'))],\n",
              " [('market', 'NOUN'), (('as', 'ADP'), ('as', 'ADV'))],\n",
              " [('to', 'PRT'), (('switch', 'NOUN'), ('switch', 'VERB'))],\n",
              " [('a', 'DET'), (('mailing', 'VERB'), ('mailing', 'NOUN'))],\n",
              " [('would', 'VERB'), (('like', 'ADP'), ('like', 'VERB'))],\n",
              " [('possible', 'ADJ'), (('future', 'NOUN'), ('future', 'ADJ'))],\n",
              " [('came', 'VERB'), (('in', 'ADP'), ('in', 'PRT'))],\n",
              " [('the', 'DET'), (('top', 'ADJ'), ('top', 'NOUN'))],\n",
              " [('stepped', 'VERB'), (('down', 'ADV'), ('down', 'PRT'))],\n",
              " [('be', 'VERB'), (('worth', 'ADP'), ('worth', 'ADJ'))],\n",
              " [('worth', 'ADJ'), (('more', 'ADJ'), ('more', 'ADV'))],\n",
              " [('broken', 'VERB'), (('up', 'ADV'), ('up', 'PRT'))],\n",
              " [('Motor', 'NOUN'), (('Inns', 'ADJ'), ('Inns', 'NOUN'))],\n",
              " [('of', 'ADP'), (('up', 'ADV'), ('up', 'ADP'))],\n",
              " [('*U*', 'X'), (('zero', 'ADJ'), ('zero', 'NUM'))],\n",
              " [('and', 'CONJ'), (('Montgomery', 'ADJ'), ('Montgomery', 'NOUN'))],\n",
              " [('of', 'ADP'), (('index-options', 'ADJ'), ('index-options', 'NOUN'))],\n",
              " [('the', 'DET'), (('underlying', 'ADJ'), ('underlying', 'VERB'))],\n",
              " [('Genel', 'NOUN'), (('warns', 'ADJ'), ('warns', 'VERB'))],\n",
              " [('may', 'VERB'), (('discourage', 'ADJ'), ('discourage', 'VERB'))],\n",
              " [('$', '.'), (('13.625', 'ADJ'), ('13.625', 'NUM'))],\n",
              " [('.', '.'), (('Yet', 'CONJ'), ('Yet', 'ADV'))],\n",
              " [('P.', 'NOUN'), (('Smaby', 'ADJ'), ('Smaby', 'NOUN'))],\n",
              " [('of', 'ADP'), (('Smaby', 'ADJ'), ('Smaby', 'NOUN'))],\n",
              " [('%', 'NOUN'), (('Eurobonds', 'ADJ'), ('Eurobonds', 'NOUN'))],\n",
              " [('yield', 'VERB'), (('6.03', 'ADJ'), ('6.03', 'NUM'))],\n",
              " [('is', 'VERB'), (('finalized', 'ADJ'), ('finalized', 'VERB'))],\n",
              " [('will', 'VERB'), (('open', 'ADJ'), ('open', 'VERB'))],\n",
              " [('state-appointed', 'ADJ'), (('receivers', 'ADJ'), ('receivers', 'NOUN'))],\n",
              " [('or', 'CONJ'), (('lease', 'ADJ'), ('lease', 'VERB'))],\n",
              " [('.', '.'), (('Scientists', 'ADJ'), ('Scientists', 'NOUN'))],\n",
              " [('of', 'ADP'), (('current', 'ADJ'), ('current', 'NOUN'))],\n",
              " [('resistance', 'NOUN'), (('standard', 'ADJ'), ('standard', 'NOUN'))],\n",
              " [(',', '.'), (('Brent', 'ADJ'), ('Brent', 'NOUN'))],\n",
              " [('Brent', 'NOUN'), (('Scowcroft', 'ADJ'), ('Scowcroft', 'NOUN'))],\n",
              " [('on', 'ADP'), (('Saturday', 'ADJ'), ('Saturday', 'NOUN'))],\n",
              " [('was', 'VERB'), (('down', 'ADV'), ('down', 'ADP'))],\n",
              " [('$', '.'), (('5.70', 'ADJ'), ('5.70', 'NUM'))],\n",
              " [('$', '.'), (('494.50', 'ADJ'), ('494.50', 'NUM'))],\n",
              " [('were', 'VERB'), (('preapproved', 'ADJ'), ('preapproved', 'VERB'))],\n",
              " [('no', 'DET'), (('culprit', 'ADJ'), ('culprit', 'NOUN'))],\n",
              " [(',', '.'), (('speeches', 'ADJ'), ('speeches', 'NOUN'))],\n",
              " [(',', '.'), (('briefings', 'ADJ'), ('briefings', 'NOUN'))],\n",
              " [('of', 'ADP'), (('sorts', 'ADJ'), ('sorts', 'NOUN'))],\n",
              " [('to', 'PRT'), (('investigate', 'ADJ'), ('investigate', 'VERB'))],\n",
              " [('U.S.', 'NOUN'), (('sweater', 'ADJ'), ('sweater', 'NOUN'))],\n",
              " [('trading', 'NOUN'), (('focus', 'VERB'), ('focus', 'NOUN'))],\n",
              " [('which', 'DET'), (('flows', 'NOUN'), ('flows', 'VERB'))],\n",
              " [('*T*-1', 'X'), (('much', 'ADV'), ('much', 'ADJ'))],\n",
              " [('corn', 'NOUN'), (('that', 'ADP'), ('that', 'DET'))],\n",
              " [('simply', 'ADV'), (('transfers', 'NOUN'), ('transfers', 'VERB'))],\n",
              " [('his', 'PRON'), (('selling', 'VERB'), ('selling', 'NOUN'))],\n",
              " [('*-1', 'X'), (('functioning', 'ADJ'), ('functioning', 'VERB'))],\n",
              " [(',', '.'), (('T-shirts', 'ADJ'), ('T-shirts', 'NOUN'))],\n",
              " [('the', 'DET'), (('corridors', 'ADJ'), ('corridors', 'NOUN'))],\n",
              " [('corridors', 'NOUN'), (('that', 'ADP'), ('that', 'DET'))],\n",
              " [('red-and-white', 'ADJ'), (('GHS', 'ADJ'), ('GHS', 'NOUN'))],\n",
              " [('GHS', 'NOUN'), (('logo', 'ADJ'), ('logo', 'NOUN'))],\n",
              " [('of', 'ADP'), (('Eurobonds', 'ADJ'), ('Eurobonds', 'NOUN'))],\n",
              " [('take', 'VERB'), (('away', 'ADV'), ('away', 'PRT'))],\n",
              " [('and', 'CONJ'), (('incest', 'ADJ'), ('incest', 'NOUN'))],\n",
              " [('*-3', 'X'), (('transforming', 'ADJ'), ('transforming', 'VERB'))],\n",
              " [('Paul', 'NOUN'), (('Sandifer', 'ADJ'), ('Sandifer', 'NOUN'))],\n",
              " [('are', 'VERB'), (('purely', 'ADJ'), ('purely', 'ADV'))],\n",
              " [('without', 'ADP'), (('foundation', 'ADJ'), ('foundation', 'NOUN'))],\n",
              " [('unfair', 'ADJ'), (('inferences', 'ADJ'), ('inferences', 'NOUN'))],\n",
              " [('would', 'VERB'), (('like', 'ADP'), ('like', 'VERB'))],\n",
              " [('$', '.'), (('405', 'ADJ'), ('405', 'NUM'))],\n",
              " [('.', '.'), (('Modifications', 'ADJ'), ('Modifications', 'NOUN'))],\n",
              " [('was', 'VERB'), (('portrayed', 'ADJ'), ('portrayed', 'VERB'))],\n",
              " [(\"''\", '.'), (('ROGERS', 'ADJ'), ('ROGERS', 'NOUN'))],\n",
              " [('ROGERS', 'NOUN'), (('COMMUNICATIONS', 'ADJ'), ('COMMUNICATIONS', 'NOUN'))],\n",
              " [('US$', '.'), (('148.9', 'ADJ'), ('148.9', 'NUM'))],\n",
              " [('$', '.'), (('153.3', 'ADJ'), ('153.3', 'NUM'))],\n",
              " [('perpetual', 'ADJ'), (('preferred', 'ADJ'), ('preferred', 'VERB'))],\n",
              " [('to', 'PRT'), (('waive', 'ADJ'), ('waive', 'VERB'))],\n",
              " [('Assuming', 'VERB'), (('that', 'ADP'), ('that', 'DET'))],\n",
              " [('in', 'ADP'), (('universities', 'ADJ'), ('universities', 'NOUN'))],\n",
              " [('H.', 'NOUN'), (('Strother', 'ADJ'), ('Strother', 'NOUN'))],\n",
              " [('is', 'VERB'), (('researching', 'ADJ'), ('researching', 'VERB'))],\n",
              " [('can', 'VERB'), (('catch', 'NOUN'), ('catch', 'VERB'))],\n",
              " [(\"'s\", 'PRT'), (('fancy', 'ADJ'), ('fancy', 'NOUN'))],\n",
              " [('0', 'X'), (('early', 'ADV'), ('early', 'ADJ'))],\n",
              " [('became', 'VERB'), (('impatient', 'ADJ'), ('impatient', 'NOUN'))],\n",
              " [('.', '.'), (('Kalamazoo', 'ADJ'), ('Kalamazoo', 'NOUN'))],\n",
              " [('the', 'DET'), (('impending', 'VERB'), ('impending', 'ADJ'))],\n",
              " [('impending', 'ADJ'), (('attack', 'VERB'), ('attack', 'NOUN'))],\n",
              " [('market', 'NOUN'), (('manipulators', 'ADJ'), ('manipulators', 'NOUN'))],\n",
              " [('a', 'DET'), (('shambles', 'ADJ'), ('shambles', 'NOUN'))],\n",
              " [(\"'s\", 'PRT'), (('free-enterprise', 'ADJ'), ('free-enterprise', 'NOUN'))],\n",
              " [('big', 'ADJ'), (('gambling', 'ADJ'), ('gambling', 'NOUN'))],\n",
              " [('gambling', 'NOUN'), (('den', 'ADJ'), ('den', 'NOUN'))],\n",
              " [('the', 'DET'), (('odds', 'ADJ'), ('odds', 'NOUN'))],\n",
              " [('heavily', 'ADV'), (('stacked', 'ADJ'), ('stacked', 'VERB'))],\n",
              " [('A', 'DET'), (('total', 'ADJ'), ('total', 'NOUN'))],\n",
              " [('of', 'ADP'), (('139', 'ADJ'), ('139', 'NUM'))],\n",
              " [('from', 'ADP'), (('138', 'ADJ'), ('138', 'NUM'))],\n",
              " [('year', 'NOUN'), (('ago', 'ADP'), ('ago', 'ADV'))],\n",
              " [('the', 'DET'), (('Purchase', 'ADJ'), ('Purchase', 'NOUN'))],\n",
              " [('Purchase', 'NOUN'), (('campus', 'ADJ'), ('campus', 'NOUN'))],\n",
              " [('Lane', 'NOUN'), (('shot', 'NOUN'), ('shot', 'VERB'))],\n",
              " [('A', 'DET'), (('Place', 'ADJ'), ('Place', 'NOUN'))],\n",
              " [('.', '.'), (('3', 'NUM'), ('3', 'X'))],\n",
              " [('*', 'X'), (('Send', 'ADJ'), ('Send', 'VERB'))],\n",
              " [('my', 'PRON'), (('wine-making', 'ADJ'), ('wine-making', 'NOUN'))],\n",
              " [('to', 'PRT'), (('single', 'ADJ'), ('single', 'VERB'))],\n",
              " [('out', 'PRT'), (('as', 'ADP'), ('as', 'ADV'))],\n",
              " [('.', '.'), (('Items', 'ADJ'), ('Items', 'NOUN'))],\n",
              " [('supply', 'NOUN'), (('numbered', 'ADJ'), ('numbered', 'VERB'))],\n",
              " [('numbered', 'VERB'), (('only', 'ADJ'), ('only', 'ADV'))],\n",
              " [('only', 'ADV'), (('about', 'ADP'), ('about', 'ADV'))],\n",
              " [('one', 'NUM'), (('newcomer', 'ADJ'), ('newcomer', 'NOUN'))],\n",
              " [('milk', 'NOUN'), (('powder', 'ADJ'), ('powder', 'NOUN'))],\n",
              " [('``', '.'), (('Ideas', 'ADJ'), ('Ideas', 'NOUN'))],\n",
              " [('over', 'ADP'), (('borders', 'ADJ'), ('borders', 'NOUN'))],\n",
              " [('no', 'DET'), (('SDI', 'ADJ'), ('SDI', 'NOUN'))],\n",
              " [('ideological', 'ADJ'), (('weapon', 'ADJ'), ('weapon', 'NOUN'))],\n",
              " [('weapon', 'NOUN'), (('that', 'ADP'), ('that', 'DET'))],\n",
              " [('that', 'DET'), (('*T*-245', 'ADJ'), ('*T*-245', 'X'))],\n",
              " [('can', 'VERB'), (('shoot', 'ADJ'), ('shoot', 'VERB'))],\n",
              " [('them', 'PRON'), (('down', 'ADV'), ('down', 'ADP'))],\n",
              " [('give', 'VERB'), (('only', 'ADV'), ('only', 'ADJ'))],\n",
              " [('when', 'ADV'), (('everybody', 'ADJ'), ('everybody', 'NOUN'))],\n",
              " [('everybody', 'NOUN'), (('aces', 'ADJ'), ('aces', 'VERB'))],\n",
              " [(',', '.'), (('psychiatrist', 'ADJ'), ('psychiatrist', 'NOUN'))],\n",
              " [('which', 'DET'), (('*T*-105', 'ADJ'), ('*T*-105', 'X'))],\n",
              " [('.', '.'), (('GRAINS', 'ADJ'), ('GRAINS', 'NOUN'))],\n",
              " [('GRAINS', 'NOUN'), (('AND', 'ADJ'), ('AND', 'NOUN'))],\n",
              " [('AND', 'NOUN'), (('SOYBEANS', 'ADJ'), ('SOYBEANS', 'NOUN'))],\n",
              " [('would', 'VERB'), (('assess', 'ADJ'), ('assess', 'VERB'))],\n",
              " [('and', 'CONJ'), (('apparel', 'ADJ'), ('apparel', 'NOUN'))],\n",
              " [('trade', 'NOUN'), (('agreements', 'ADJ'), ('agreements', 'NOUN'))],\n",
              " [('and', 'CONJ'), (('prosecuted', 'ADJ'), ('prosecuted', 'VERB'))],\n",
              " [('law', 'NOUN'), (('that', 'ADP'), ('that', 'DET'))],\n",
              " [('since', 'ADP'), (('tightened', 'ADJ'), ('tightened', 'VERB'))],\n",
              " [('to', 'PRT'), (('rule', 'NOUN'), ('rule', 'VERB'))],\n",
              " [('The', 'DET'), (('morbidity', 'ADJ'), ('morbidity', 'NOUN'))],\n",
              " [('which', 'DET'), (('*T*-237', 'ADJ'), ('*T*-237', 'X'))],\n",
              " [('it', 'PRON'), (('lacked', 'ADJ'), ('lacked', 'VERB'))],\n",
              " [('Series', 'NOUN'), (('A', 'DET'), ('A', 'NOUN'))],\n",
              " [('convertible', 'ADJ'), (('preferred', 'ADJ'), ('preferred', 'VERB'))],\n",
              " [('*-1', 'X'), (('Concerned', 'ADJ'), ('Concerned', 'VERB'))],\n",
              " [('about', 'ADP'), (('shrinking', 'ADJ'), ('shrinking', 'VERB'))],\n",
              " [('shrinking', 'VERB'), (('landfills', 'ADJ'), ('landfills', 'NOUN'))],\n",
              " [('super-absorbent', 'ADJ'),\n",
              "  (('disposables', 'ADJ'), ('disposables', 'NOUN'))],\n",
              " [('the', 'DET'), (('PhacoFlex', 'ADJ'), ('PhacoFlex', 'NOUN'))],\n",
              " [('foldable', 'ADJ'), (('silicone', 'ADJ'), ('silicone', 'NOUN'))],\n",
              " [('finding', 'NOUN'), (('marks', 'NOUN'), ('marks', 'VERB'))],\n",
              " [('in', 'ADP'), (('wires', 'ADJ'), ('wires', 'NOUN'))],\n",
              " [('for', 'ADP'), (('motors', 'ADJ'), ('motors', 'NOUN'))],\n",
              " [(',', '.'), (('magnets', 'ADJ'), ('magnets', 'NOUN'))],\n",
              " [(',', '.'), (('generators', 'ADJ'), ('generators', 'NOUN'))],\n",
              " [('.', '.'), (('Sumitomo', 'ADJ'), ('Sumitomo', 'NOUN'))],\n",
              " [('Sumitomo', 'NOUN'), (('Metal', 'ADJ'), ('Metal', 'NOUN'))],\n",
              " [('to', 'PRT'), (('692', 'ADJ'), ('692', 'NUM'))],\n",
              " [('to', 'PRT'), (('960', 'ADJ'), ('960', 'NUM'))],\n",
              " [('general', 'ADJ'), (('softening', 'VERB'), ('softening', 'NOUN'))],\n",
              " [('$', '.'), (('415.6', 'ADJ'), ('415.6', 'NUM'))],\n",
              " [('$', '.'), (('415.8', 'ADJ'), ('415.8', 'NUM'))],\n",
              " [('paltry', 'ADJ'), (('sum', 'ADJ'), ('sum', 'NOUN'))],\n",
              " [('compound', 'NOUN'), (('yield', 'VERB'), ('yield', 'NOUN'))],\n",
              " [('funds', 'NOUN'), (('tracked', 'ADJ'), ('tracked', 'VERB'))],\n",
              " [('by', 'ADP'), (('IBC', 'ADJ'), ('IBC', 'NOUN'))],\n",
              " [('a', 'DET'), (('fraction', 'ADJ'), ('fraction', 'NOUN'))],\n",
              " [('rejected', 'VERB'), (('nominee', 'ADJ'), ('nominee', 'NOUN'))],\n",
              " [('*-55', 'X'), (('funding', 'NOUN'), ('funding', 'VERB'))],\n",
              " [('pay', 'VERB'), (('that', 'ADP'), ('that', 'DET'))]]"
            ]
          },
          "metadata": {
            "tags": []
          },
          "execution_count": 32
        }
      ]
    },
    {
      "cell_type": "code",
      "metadata": {
        "id": "Ikt-jGMXS-vS"
      },
      "source": [
        "#Now let's test this model on test sentences which contains words which are not present in the training dataset."
      ],
      "execution_count": 33,
      "outputs": []
    },
    {
      "cell_type": "markdown",
      "metadata": {
        "id": "1UiGyGeuP1YF"
      },
      "source": [
        "## 4. Evaluating on Test Set\n",
        "\n",
        "We will going to test this model on test sentences."
      ]
    },
    {
      "cell_type": "code",
      "metadata": {
        "id": "3f_CFrncS-vS"
      },
      "source": [
        "## Testing of unknown word\n",
        "\n",
        "def test_vertibi_simple(sentence):\n",
        "    words = word_tokenize(sentence)\n",
        "    tagged_seq = Viterbi(words)\n",
        "    return tagged_seq"
      ],
      "execution_count": 34,
      "outputs": []
    },
    {
      "cell_type": "code",
      "metadata": {
        "colab": {
          "base_uri": "https://localhost:8080/"
        },
        "id": "GJaRLr2mS-vS",
        "outputId": "764cabc2-63a7-4625-bd78-917fe3504bbb"
      },
      "source": [
        "test_vertibi_simple(\"Android has been the best-selling OS worldwide on smartphones since 2011 and on tablets since 2013.\")"
      ],
      "execution_count": 35,
      "outputs": [
        {
          "output_type": "execute_result",
          "data": {
            "text/plain": [
              "[('Android', 'ADJ'),\n",
              " ('has', 'VERB'),\n",
              " ('been', 'VERB'),\n",
              " ('the', 'DET'),\n",
              " ('best-selling', 'ADJ'),\n",
              " ('OS', 'ADJ'),\n",
              " ('worldwide', 'ADJ'),\n",
              " ('on', 'ADP'),\n",
              " ('smartphones', 'ADJ'),\n",
              " ('since', 'ADP'),\n",
              " ('2011', 'ADJ'),\n",
              " ('and', 'CONJ'),\n",
              " ('on', 'ADP'),\n",
              " ('tablets', 'NOUN'),\n",
              " ('since', 'ADP'),\n",
              " ('2013', 'ADJ'),\n",
              " ('.', '.')]"
            ]
          },
          "metadata": {
            "tags": []
          },
          "execution_count": 35
        }
      ]
    },
    {
      "cell_type": "markdown",
      "metadata": {
        "id": "kLqw7R5YS-vS"
      },
      "source": [
        "<font color = 'red'>[Observation]:</font> Android,OS,smartphones are nouns but incorrectly tagged, as emission probs will be 0 and hence it will assign tag which has o value. Let's see two more exaples."
      ]
    },
    {
      "cell_type": "code",
      "metadata": {
        "colab": {
          "base_uri": "https://localhost:8080/"
        },
        "id": "DneC5PnVS-vS",
        "outputId": "f6d34004-c2ef-4e27-bb67-ccb495b732f2"
      },
      "source": [
        "test_vertibi_simple(\"Google and Twitter made a deal in 2015 that gave Google access to Twitter's firehose.\")"
      ],
      "execution_count": 36,
      "outputs": [
        {
          "output_type": "execute_result",
          "data": {
            "text/plain": [
              "[('Google', 'ADJ'),\n",
              " ('and', 'CONJ'),\n",
              " ('Twitter', 'ADJ'),\n",
              " ('made', 'VERB'),\n",
              " ('a', 'DET'),\n",
              " ('deal', 'NOUN'),\n",
              " ('in', 'ADP'),\n",
              " ('2015', 'ADJ'),\n",
              " ('that', 'ADP'),\n",
              " ('gave', 'VERB'),\n",
              " ('Google', 'ADJ'),\n",
              " ('access', 'NOUN'),\n",
              " ('to', 'PRT'),\n",
              " ('Twitter', 'ADJ'),\n",
              " (\"'s\", 'PRT'),\n",
              " ('firehose', 'ADJ'),\n",
              " ('.', '.')]"
            ]
          },
          "metadata": {
            "tags": []
          },
          "execution_count": 36
        }
      ]
    },
    {
      "cell_type": "markdown",
      "metadata": {
        "id": "m0gCP60JS-vS"
      },
      "source": [
        "<font color = 'red'>[Observation]:</font> Google and Twitter are nouns but incorrectly tagged, as emission probs for Android will be 0 and hence it will assign tag which has o value. Let's see two more exaples."
      ]
    },
    {
      "cell_type": "code",
      "metadata": {
        "colab": {
          "base_uri": "https://localhost:8080/"
        },
        "id": "JO4yr_0YS-vS",
        "outputId": "5ebfb43c-604f-4508-fbce-34c271490e43"
      },
      "source": [
        "test_vertibi_simple(\"NASA invited social media users to experience the launch of ICESAT-2 Satellite.\")"
      ],
      "execution_count": 37,
      "outputs": [
        {
          "output_type": "execute_result",
          "data": {
            "text/plain": [
              "[('NASA', 'ADJ'),\n",
              " ('invited', 'ADJ'),\n",
              " ('social', 'ADJ'),\n",
              " ('media', 'NOUN'),\n",
              " ('users', 'NOUN'),\n",
              " ('to', 'PRT'),\n",
              " ('experience', 'NOUN'),\n",
              " ('the', 'DET'),\n",
              " ('launch', 'NOUN'),\n",
              " ('of', 'ADP'),\n",
              " ('ICESAT-2', 'ADJ'),\n",
              " ('Satellite', 'ADJ'),\n",
              " ('.', '.')]"
            ]
          },
          "metadata": {
            "tags": []
          },
          "execution_count": 37
        }
      ]
    },
    {
      "cell_type": "markdown",
      "metadata": {
        "id": "hUhONc-FS-vS"
      },
      "source": [
        "<font color = 'red'>[Observation]:</font> Same problem."
      ]
    },
    {
      "cell_type": "markdown",
      "metadata": {
        "id": "E6PKzqjXhR8s"
      },
      "source": [
        "### Problems with Plain Viterbii algorithm - "
      ]
    },
    {
      "cell_type": "markdown",
      "metadata": {
        "id": "N-xFR34PhR8s"
      },
      "source": [
        "1) It's unable to tag unknown words correctly.\n",
        "2) It's unable to tag numbers properly.\n",
        "\n",
        "Why it's happening?\n",
        "\n",
        "When we encounter unknow word then we will get emission probablity for that word is 0 as word_given_tag will have 0 for word count.\n",
        "Hence all state probabls will be 0, then we'll get default tag as op for unknow words. <br>\n",
        "\n",
        "We've to find ways by which we can solve this problem. We can see that most of the words which are unknown are nouns, and there are some ed words as well. So we can create a model which will assign noun tag to unknown (non-ed) words. <br>\n",
        "\n",
        "Let's explore this possibility."
      ]
    },
    {
      "cell_type": "markdown",
      "metadata": {
        "id": "S6ZAbiwxP1YH"
      },
      "source": [
        "### Now we will find ways by which we can correct these incorrect tags."
      ]
    },
    {
      "cell_type": "code",
      "metadata": {
        "colab": {
          "base_uri": "https://localhost:8080/"
        },
        "id": "bGBWMQSp7LoH",
        "outputId": "683bd623-0ee0-4aab-dead-61308f6de798"
      },
      "source": [
        "#Let's do some analysis for gerunds\n",
        "gerund = [(w, t) for w,t in train_tagged_words if re.search('.*ing$',w)]\n",
        "print(\"Total gerunds = \",len(gerund))\n",
        "noun = [(w,t) for w,t in gerund if t =='NOUN'  ]\n",
        "print(\"Total noun gerunds = \",len(noun))\n",
        "verb = [(w,t) for w,t in gerund if t =='VERB'  ]\n",
        "print(\"Total verb gerunds = \",len(verb))\n",
        "#So we have gerunds which are coming as verb and noun pos tag"
      ],
      "execution_count": 38,
      "outputs": [
        {
          "output_type": "stream",
          "text": [
            "Total gerunds =  2404\n",
            "Total noun gerunds =  780\n",
            "Total verb gerunds =  1406\n"
          ],
          "name": "stdout"
        }
      ]
    },
    {
      "cell_type": "code",
      "metadata": {
        "colab": {
          "base_uri": "https://localhost:8080/",
          "height": 187
        },
        "id": "cSpgYLJR-W_R",
        "outputId": "cef5272e-58e7-4f4e-cbe7-59a4a169ab11"
      },
      "source": [
        "#Let's see some of them\n",
        "display(noun[0:5])\n",
        "display(verb[0:5])"
      ],
      "execution_count": 39,
      "outputs": [
        {
          "output_type": "display_data",
          "data": {
            "text/plain": [
              "[('filing', 'NOUN'),\n",
              " ('nothing', 'NOUN'),\n",
              " ('trading', 'NOUN'),\n",
              " ('trading', 'NOUN'),\n",
              " ('meeting', 'NOUN')]"
            ]
          },
          "metadata": {
            "tags": []
          }
        },
        {
          "output_type": "display_data",
          "data": {
            "text/plain": [
              "[('sacrificing', 'VERB'),\n",
              " ('manufacturing', 'VERB'),\n",
              " ('attracting', 'VERB'),\n",
              " ('keeping', 'VERB'),\n",
              " ('operating', 'VERB')]"
            ]
          },
          "metadata": {
            "tags": []
          }
        }
      ]
    },
    {
      "cell_type": "markdown",
      "metadata": {
        "id": "boPOLL2I-3Mp"
      },
      "source": [
        "<font color = 'red'>[Observation]:</font>  Above analysis suggests that we should tag unknow gerund as VERB as probablity of it being VERB will be higher than noun"
      ]
    },
    {
      "cell_type": "code",
      "metadata": {
        "colab": {
          "base_uri": "https://localhost:8080/"
        },
        "id": "EMp9SeN9_Ymu",
        "outputId": "e5b8b005-2a11-4cc5-f053-df5612b72e67"
      },
      "source": [
        "#Let's do same analysis for ed verbs\n",
        "verb_ed = [(w, t) for w,t in train_tagged_words if re.search('.*ed$',w)]\n",
        "print(\"Total verb_ed  =\",len(verb_ed))\n",
        "noun = [(w,t) for w,t in verb_ed if t =='NOUN'  ]\n",
        "print(\"Total noun verb_ed = \",len(noun))\n",
        "verb = [(w,t) for w,t in verb_ed if t =='VERB'  ]\n",
        "print(\"Total verb verb_ed = \",len(verb))\n",
        "#so unknown ed should be attach to VERB\n"
      ],
      "execution_count": 40,
      "outputs": [
        {
          "output_type": "stream",
          "text": [
            "Total verb_ed  = 3021\n",
            "Total noun verb_ed =  68\n",
            "Total verb verb_ed =  2654\n"
          ],
          "name": "stdout"
        }
      ]
    },
    {
      "cell_type": "markdown",
      "metadata": {
        "id": "iBzJAJxqP1YJ"
      },
      "source": [
        "<font color = 'red'>[Observation]:</font>  Above analysis suggests that we should tag unknow ed words as VERB as probablity of it being VERB will be higher than noun"
      ]
    },
    {
      "cell_type": "code",
      "metadata": {
        "id": "DR8_TrQES-vS"
      },
      "source": [
        "#So we need to use other techniques to rectify this issue"
      ],
      "execution_count": 41,
      "outputs": []
    },
    {
      "cell_type": "markdown",
      "metadata": {
        "id": "bRVEWM3hS-vS"
      },
      "source": [
        "### Solve the problem of unknown words\n",
        "1) First we will use Rule based POS to solve the problem of unknown words. <br>\n",
        "2) Then we'll modify viterbii algorithm to consider only state probablities when emission probablity will be 0"
      ]
    },
    {
      "cell_type": "markdown",
      "metadata": {
        "id": "rOo6IgeLP1YL"
      },
      "source": [
        "#### Technique 1:"
      ]
    },
    {
      "cell_type": "code",
      "metadata": {
        "id": "6KzTvFPHXV11"
      },
      "source": [
        "#Let's define Rule base tagger\n",
        "patterns = [\n",
        "    (r'.*ing$', 'VERB'),              # gerund\n",
        "    (r'.*ed$', 'VERB'),               # past tense\n",
        "    (r'([A-z]|\\*)*\\*+', 'X'),                # plural nouns\n",
        "    (r'^-?[1-9]+(.[1-9]+)?$', 'NUM'), # cardinal numbers\n",
        "    (r'.*', 'NOUN')                    # nouns\n",
        "]\n",
        "\n",
        "regexp_tagger = nltk.RegexpTagger(patterns)"
      ],
      "execution_count": 42,
      "outputs": []
    },
    {
      "cell_type": "code",
      "metadata": {
        "id": "54fMP9DUS-vS"
      },
      "source": [
        "# Viterbi Heuristic algorithm after making changes \n",
        "def Viterbi_adv(words, train_bag = train_tagged_words):\n",
        "    state = []\n",
        "    T = list(set([pair[1] for pair in train_bag]))\n",
        "    \n",
        "    for key, word in enumerate(words):\n",
        "        #initialise list of probability column for a given observation\n",
        "        p = [] \n",
        "        for tag in T:\n",
        "            if key == 0:\n",
        "                transition_p = tags_df.loc['.', tag]\n",
        "            else:\n",
        "                transition_p = tags_df.loc[state[-1], tag]\n",
        "                \n",
        "            # compute emission and state probabilities\n",
        "            emission_p = word_given_tag(words[key], tag)[0]/word_given_tag(words[key], tag)[1]\n",
        "            state_probability = emission_p * transition_p    \n",
        "            p.append(state_probability)\n",
        "            \n",
        "        pmax = max(p)\n",
        "        # getting state for which probability is maximum\n",
        "        state_max = T[p.index(pmax)] \n",
        "        if max(p) == 0 :\n",
        "            word = word.replace(',','').replace('.','')\n",
        "            state_max = regexp_tagger.tag([word])[0][1]\n",
        "        if word.isnumeric() & (word != '0'):\n",
        "            state_max = 'NUM'\n",
        "        state.append(state_max)\n",
        "    return list(zip(words, state))"
      ],
      "execution_count": 43,
      "outputs": []
    },
    {
      "cell_type": "code",
      "metadata": {
        "id": "4m3ZwdKtXsxl"
      },
      "source": [
        "def test_vertibi_simple_adv(sentence):\n",
        "    words = word_tokenize(sentence)\n",
        "    tagged_seq = Viterbi_adv(words)\n",
        "    return tagged_seq"
      ],
      "execution_count": 44,
      "outputs": []
    },
    {
      "cell_type": "code",
      "metadata": {
        "id": "rcHM8joQS-vS"
      },
      "source": [
        "# tagging the test sentences\n",
        "start = time.time()\n",
        "tagged_seq = Viterbi_adv(test_tagged_words)\n",
        "end = time.time()\n",
        "difference = end-start\n",
        "adv_viterbi = accuracy(tagged_seq)"
      ],
      "execution_count": 45,
      "outputs": []
    },
    {
      "cell_type": "markdown",
      "metadata": {
        "id": "6fruzc22P1YM"
      },
      "source": [
        "#### Evaluating tagging accuracy"
      ]
    },
    {
      "cell_type": "code",
      "metadata": {
        "colab": {
          "base_uri": "https://localhost:8080/"
        },
        "id": "cArIvGbrP1YM",
        "outputId": "d60560f8-a6b2-4c0c-ea13-bbe98367ccc8"
      },
      "source": [
        "#we can see that tagging accuracy increase dramatically \n",
        "print(\"Accuracy of the veribii model (Tech1)- \",adv_viterbi )"
      ],
      "execution_count": 46,
      "outputs": [
        {
          "output_type": "stream",
          "text": [
            "Accuracy of the veribii model (Tech1)-  0.9555297757153906\n"
          ],
          "name": "stdout"
        }
      ]
    },
    {
      "cell_type": "code",
      "metadata": {
        "colab": {
          "base_uri": "https://localhost:8080/"
        },
        "id": "Xo5epqETP1YN",
        "outputId": "0cb05cfa-2146-4524-a1b0-f7b8b931f6a2"
      },
      "source": [
        "#words which were tagged incorrectly\n",
        "incorrect_tagged_cases = [[test_run_base[i-1],j] for i, j in enumerate(zip(tagged_seq, test_run_base)) if j[0]!=j[1]]\n",
        "incorrect_tagged_cases"
      ],
      "execution_count": 47,
      "outputs": [
        {
          "output_type": "execute_result",
          "data": {
            "text/plain": [
              "[[('guests', 'NOUN'), (('more', 'ADV'), ('more', 'ADJ'))],\n",
              " [('to', 'PRT'), (('scrape', 'NOUN'), ('scrape', 'VERB'))],\n",
              " [('its', 'PRON'), (('finance', 'VERB'), ('finance', 'NOUN'))],\n",
              " [('record', 'NOUN'), (('corn-buying', 'VERB'), ('corn-buying', 'ADJ'))],\n",
              " [('the', 'DET'), (('Soviet', 'ADJ'), ('Soviet', 'NOUN'))],\n",
              " [('share', 'NOUN'), (('that', 'ADP'), ('that', 'DET'))],\n",
              " [('*T*-119', 'X'), (('expires', 'NOUN'), ('expires', 'VERB'))],\n",
              " [('expires', 'VERB'), (('next', 'ADP'), ('next', 'ADJ'))],\n",
              " [(\"n't\", 'ADV'), (('as', 'ADP'), ('as', 'ADV'))],\n",
              " [('as', 'ADV'), (('troublesome', 'NOUN'), ('troublesome', 'ADJ'))],\n",
              " [('M.', 'NOUN'), (('Zayed', 'VERB'), ('Zayed', 'NOUN'))],\n",
              " [('of', 'ADP'), (('American-made', 'NOUN'), ('American-made', 'ADJ'))],\n",
              " [('``', '.'), (('Designated', 'VERB'), ('Designated', 'NOUN'))],\n",
              " [('to', 'PRT'), (('offer', 'NOUN'), ('offer', 'VERB'))],\n",
              " [(',', '.'), (('high-speed', 'VERB'), ('high-speed', 'ADJ'))],\n",
              " [('no', 'DET'), (('one', 'NUM'), ('one', 'NOUN'))],\n",
              " [('is', 'VERB'), (('unworkable', 'NOUN'), ('unworkable', 'ADJ'))],\n",
              " [('branch', 'NOUN'), (('unfunded', 'VERB'), ('unfunded', 'ADJ'))],\n",
              " [('could', 'VERB'), (('sign', 'NOUN'), ('sign', 'VERB'))],\n",
              " [('and', 'CONJ'), (('assert', 'NOUN'), ('assert', 'VERB'))],\n",
              " [('the', 'DET'), (('Dutch', 'ADJ'), ('Dutch', 'NOUN'))],\n",
              " [('Dutch', 'NOUN'), (('publishing', 'NOUN'), ('publishing', 'VERB'))],\n",
              " [('new', 'ADJ'), (('ideological', 'NOUN'), ('ideological', 'ADJ'))],\n",
              " [('programs', 'NOUN'), (('that', 'ADP'), ('that', 'DET'))],\n",
              " [('company', 'NOUN'), (('forecast', 'NOUN'), ('forecast', 'VERB'))],\n",
              " [('year', 'NOUN'), (('earlier', 'ADV'), ('earlier', 'ADJ'))],\n",
              " [('magazine', 'NOUN'), (('combines', 'NOUN'), ('combines', 'VERB'))],\n",
              " [('combines', 'VERB'), (('how-to', 'NOUN'), ('how-to', 'ADJ'))],\n",
              " [('backyard', 'NOUN'), (('composting', 'VERB'), ('composting', 'NOUN'))],\n",
              " [(',', '.'), (('explanatory', 'NOUN'), ('explanatory', 'ADJ'))],\n",
              " [('*T*-1', 'X'), (('happens', 'NOUN'), ('happens', 'VERB'))],\n",
              " [('you', 'PRON'), (('flush', 'NOUN'), ('flush', 'VERB'))],\n",
              " [('and', 'CONJ'), (('hard-hitting', 'VERB'), ('hard-hitting', 'ADJ'))],\n",
              " [('are', 'VERB'), (('unneeded', 'VERB'), ('unneeded', 'ADJ'))],\n",
              " [('even', 'ADV'), (('harmful', 'NOUN'), ('harmful', 'ADJ'))],\n",
              " [('``', '.'), (('so', 'ADV'), ('so', 'ADP'))],\n",
              " [(\"'s\", 'PRT'), (('Little', 'ADJ'), ('Little', 'NOUN'))],\n",
              " [(',', '.'), (('as', 'ADP'), ('as', 'ADV'))],\n",
              " [('possible', 'ADJ'), (('white', 'NOUN'), ('white', 'ADJ'))],\n",
              " [('an', 'DET'), (('undisclosed', 'VERB'), ('undisclosed', 'ADJ'))],\n",
              " [('for', 'ADP'), (('Great', 'NOUN'), ('Great', 'ADJ'))],\n",
              " [('an', 'DET'), (('84-month', 'NOUN'), ('84-month', 'ADJ'))],\n",
              " [('visiting', 'VERB'), (('about', 'ADP'), ('about', 'ADV'))],\n",
              " [('signboards', 'NOUN'), (('advertising', 'NOUN'), ('advertising', 'VERB'))],\n",
              " [('has', 'VERB'), (('staunchly', 'NOUN'), ('staunchly', 'ADV'))],\n",
              " [('opposed', 'VERB'), (('cost-sharing', 'ADJ'), ('cost-sharing', 'NOUN'))],\n",
              " [('from', 'ADP'), (('unfounded', 'VERB'), ('unfounded', 'ADJ'))],\n",
              " [('are', 'VERB'), (('derisively', 'NOUN'), ('derisively', 'ADV'))],\n",
              " [('a', 'DET'), (('75-year-old', 'NOUN'), ('75-year-old', 'NUM'))],\n",
              " [('The', 'DET'), (('Soviet', 'ADJ'), ('Soviet', 'NOUN'))],\n",
              " [('wants', 'VERB'), (('much', 'ADV'), ('much', 'ADJ'))],\n",
              " [('provision', 'NOUN'), (('amounts', 'NOUN'), ('amounts', 'VERB'))],\n",
              " [('a', 'DET'), (('one-house', 'NOUN'), ('one-house', 'ADJ'))],\n",
              " [('neither', 'DET'), (('bicameral', 'NOUN'), ('bicameral', 'ADJ'))],\n",
              " [('his', 'PRON'), (('design', 'VERB'), ('design', 'NOUN'))],\n",
              " [('eliminates', 'VERB'), (('spilling', 'VERB'), ('spilling', 'NOUN'))],\n",
              " [('running', 'VERB'), (('up', 'ADV'), ('up', 'PRT'))],\n",
              " [('up', 'PRT'), (('record', 'VERB'), ('record', 'ADJ'))],\n",
              " [('by', 'ADP'), (('organized', 'ADJ'), ('organized', 'VERB'))],\n",
              " [('.', '.'), (('Per-share', 'NOUN'), ('Per-share', 'ADJ'))],\n",
              " [('annually', 'ADV'), (('total', 'ADJ'), ('total', 'VERB'))],\n",
              " [(\"'s\", 'PRT'), (('dislike', 'VERB'), ('dislike', 'NOUN'))],\n",
              " [('U.S.', 'NOUN'), (('encourages', 'NOUN'), ('encourages', 'VERB'))],\n",
              " [('to', 'PRT'), (('share', 'NOUN'), ('share', 'VERB'))],\n",
              " [('a', 'DET'), (('cosmetic', 'NOUN'), ('cosmetic', 'ADJ'))],\n",
              " [('.', '.'), (('Shortly', 'NOUN'), ('Shortly', 'ADV'))],\n",
              " [('Shortly', 'ADV'), (('afterwards', 'NOUN'), ('afterwards', 'ADV'))],\n",
              " [('of', 'ADP'), (('anti-China', 'NOUN'), ('anti-China', 'ADJ'))],\n",
              " [('most', 'ADJ'), (('high-level', 'NOUN'), ('high-level', 'ADJ'))],\n",
              " [('its', 'PRON'), (('fall', 'VERB'), ('fall', 'NOUN'))],\n",
              " [('.', '.'), (('Preliminary', 'NOUN'), ('Preliminary', 'ADJ'))],\n",
              " [(\"'s\", 'PRT'), (('export-oriented', 'VERB'), ('export-oriented', 'ADJ'))],\n",
              " [('by', 'ADP'), (('about', 'ADP'), ('about', 'ADV'))],\n",
              " [('has', 'VERB'), (('shown', 'NOUN'), ('shown', 'VERB'))],\n",
              " [('where', 'ADV'), (('most', 'ADJ'), ('most', 'ADV'))],\n",
              " [('to', 'PRT'), (('acknowledge', 'NOUN'), ('acknowledge', 'VERB'))],\n",
              " [('acknowledge', 'VERB'), (('that', 'ADP'), ('that', 'DET'))],\n",
              " [('might', 'VERB'), (('gyrate', 'NOUN'), ('gyrate', 'VERB'))],\n",
              " [('exporters', 'NOUN'), (('scrounge', 'NOUN'), ('scrounge', 'VERB'))],\n",
              " [('to', 'PRT'), (('bend', 'NOUN'), ('bend', 'VERB'))],\n",
              " [('to', 'PRT'), (('compromise', 'NOUN'), ('compromise', 'VERB'))],\n",
              " [('to', 'PRT'), (('last', 'ADJ'), ('last', 'VERB'))],\n",
              " [(\"''\", '.'), (('evolve', 'NOUN'), ('evolve', 'VERB'))],\n",
              " [('creature', 'NOUN'), (('that', 'ADP'), ('that', 'DET'))],\n",
              " [('be', 'VERB'), (('impartial', 'NOUN'), ('impartial', 'ADJ'))],\n",
              " [('a', 'DET'), (('homosexual', 'ADJ'), ('homosexual', 'NOUN'))],\n",
              " [('a', 'DET'), (('much', 'ADJ'), ('much', 'ADV'))],\n",
              " [('much', 'ADV'), (('savvier', 'NOUN'), ('savvier', 'ADJ'))],\n",
              " [('``', '.'), (('increases', 'NOUN'), ('increases', 'VERB'))],\n",
              " [('income', 'NOUN'), (('confirms', 'NOUN'), ('confirms', 'VERB'))],\n",
              " [(\"'s\", 'PRT'), (('rebound', 'VERB'), ('rebound', 'NOUN'))],\n",
              " [('early', 'ADJ'), (('1980s', 'NOUN'), ('1980s', 'NUM'))],\n",
              " [('was', 'VERB'), (('230-215', 'NOUN'), ('230-215', 'NUM'))],\n",
              " [('turned', 'VERB'), (('down', 'ADV'), ('down', 'PRT'))],\n",
              " [('would', 'VERB'), (('like', 'ADP'), ('like', 'VERB'))],\n",
              " [('to', 'PRT'), (('apologize', 'NOUN'), ('apologize', 'VERB'))],\n",
              " [('a', 'DET'), (('packed', 'VERB'), ('packed', 'ADJ'))],\n",
              " [('lobbyists', 'NOUN'), (('as', 'ADP'), ('as', 'ADV'))],\n",
              " [('of', 'ADP'), (('New', 'NOUN'), ('New', 'ADJ'))],\n",
              " [('New', 'ADJ'), (('York-based', 'NOUN'), ('York-based', 'ADJ'))],\n",
              " [('to', 'PRT'), (('English-speaking', 'VERB'), ('English-speaking', 'ADJ'))],\n",
              " [('growth', 'NOUN'), (('next', 'ADP'), ('next', 'ADJ'))],\n",
              " [('still', 'ADV'), (('posts', 'NOUN'), ('posts', 'VERB'))],\n",
              " [('lowest', 'ADJ'), (('average', 'NOUN'), ('average', 'ADJ'))],\n",
              " [('the', 'DET'), (('1920s', 'NOUN'), ('1920s', 'NUM'))],\n",
              " [('and', 'CONJ'), ((\"'30s\", 'NOUN'), (\"'30s\", 'NUM'))],\n",
              " [('have', 'VERB'), (('six-inch', 'NOUN'), ('six-inch', 'ADJ'))],\n",
              " [('shape', 'NOUN'), (('that', 'ADP'), ('that', 'DET'))],\n",
              " [('contain', 'VERB'), (('semicircular', 'NOUN'), ('semicircular', 'ADJ'))],\n",
              " [('the', 'DET'), (('middle', 'ADJ'), ('middle', 'NOUN'))],\n",
              " [('The', 'DET'), (('record', 'NOUN'), ('record', 'ADJ'))],\n",
              " [('.', '.'), (('Common', 'NOUN'), ('Common', 'ADJ'))],\n",
              " [('a', 'DET'), (('single-digit', 'NOUN'), ('single-digit', 'ADJ'))],\n",
              " [('a', 'DET'), (('weakening', 'VERB'), ('weakening', 'NOUN'))],\n",
              " [('the', 'DET'), (('three-lawyer', 'NOUN'), ('three-lawyer', 'ADJ'))],\n",
              " [('the', 'DET'), (('520-lawyer', 'NOUN'), ('520-lawyer', 'ADJ'))],\n",
              " [('for', 'ADP'), (('expendable', 'NOUN'), ('expendable', 'ADJ'))],\n",
              " [('may', 'VERB'), (('no', 'DET'), ('no', 'ADV'))],\n",
              " [('no', 'ADV'), (('longer', 'ADJ'), ('longer', 'ADV'))],\n",
              " [('have', 'VERB'), (('as', 'ADP'), ('as', 'ADV'))],\n",
              " [('to', 'PRT'), (('export', 'NOUN'), ('export', 'VERB'))],\n",
              " [('the', 'DET'), (('1990-91', 'NOUN'), ('1990-91', 'NUM'))],\n",
              " [('season', 'NOUN'), (('so', 'ADV'), ('so', 'ADP'))],\n",
              " [('broad', 'ADJ'), (('enough', 'ADJ'), ('enough', 'ADV'))],\n",
              " [('The', 'DET'), (('Japanese', 'ADJ'), ('Japanese', 'NOUN'))],\n",
              " [('turned', 'VERB'), (('down', 'ADV'), ('down', 'PRT'))],\n",
              " [('``', '.'), (('because', 'ADP'), ('because', 'ADV'))],\n",
              " [('the', 'DET'), (('potential', 'ADJ'), ('potential', 'NOUN'))],\n",
              " [('a', 'DET'), (('sprawling', 'VERB'), ('sprawling', 'ADJ'))],\n",
              " [(',', '.'), (('balkanized', 'VERB'), ('balkanized', 'ADJ'))],\n",
              " [('the', 'DET'), (('mammoth', 'NOUN'), ('mammoth', 'ADJ'))],\n",
              " [('older', 'ADJ'), (('five-inch', 'NOUN'), ('five-inch', 'ADJ'))],\n",
              " [('to', 'PRT'), (('more-efficient', 'NOUN'), ('more-efficient', 'ADJ'))],\n",
              " [('more-efficient', 'ADJ'), (('six-inch', 'NOUN'), ('six-inch', 'ADJ'))],\n",
              " [('to', 'PRT'), (('fabricate', 'NOUN'), ('fabricate', 'VERB'))],\n",
              " [('the', 'DET'),\n",
              "  (('238,000-circulation', 'NOUN'), ('238,000-circulation', 'ADJ'))],\n",
              " [('a', 'DET'), (('one-newspaper', 'NOUN'), ('one-newspaper', 'ADJ'))],\n",
              " [('a', 'DET'), (('corrupt', 'NOUN'), ('corrupt', 'ADJ'))],\n",
              " [('no', 'DET'), (('guarantee', 'VERB'), ('guarantee', 'NOUN'))],\n",
              " [('to', 'PRT'), (('report', 'NOUN'), ('report', 'VERB'))],\n",
              " [('*T*-67', 'X'), ((\"'s\", 'PRT'), (\"'s\", 'VERB'))],\n",
              " [('getting', 'VERB'), (('out', 'PRT'), ('out', 'ADP'))],\n",
              " [('*T*-51', 'X'), (('import', 'NOUN'), ('import', 'VERB'))],\n",
              " [('*U*', 'X'), (('pretax', 'NOUN'), ('pretax', 'ADJ'))],\n",
              " [('citing', 'VERB'), (('extended', 'VERB'), ('extended', 'ADJ'))],\n",
              " [('market', 'NOUN'), (('as', 'ADP'), ('as', 'ADV'))],\n",
              " [('to', 'PRT'), (('switch', 'NOUN'), ('switch', 'VERB'))],\n",
              " [('more', 'ADJ'), (('economical', 'NOUN'), ('economical', 'ADJ'))],\n",
              " [('a', 'DET'), (('mailing', 'VERB'), ('mailing', 'NOUN'))],\n",
              " [('would', 'VERB'), (('like', 'ADP'), ('like', 'VERB'))],\n",
              " [('possible', 'ADJ'), (('future', 'NOUN'), ('future', 'ADJ'))],\n",
              " [('came', 'VERB'), (('in', 'ADP'), ('in', 'PRT'))],\n",
              " [('the', 'DET'), (('top', 'ADJ'), ('top', 'NOUN'))],\n",
              " [('stepped', 'VERB'), (('down', 'ADV'), ('down', 'PRT'))],\n",
              " [('be', 'VERB'), (('worth', 'ADP'), ('worth', 'ADJ'))],\n",
              " [('worth', 'ADJ'), (('more', 'ADJ'), ('more', 'ADV'))],\n",
              " [('broken', 'VERB'), (('up', 'ADV'), ('up', 'PRT'))],\n",
              " [('of', 'ADP'), (('up', 'ADV'), ('up', 'ADP'))],\n",
              " [('*U*', 'X'), (('zero', 'NOUN'), ('zero', 'NUM'))],\n",
              " [('the', 'DET'), (('underlying', 'ADJ'), ('underlying', 'VERB'))],\n",
              " [('Genel', 'NOUN'), (('warns', 'NOUN'), ('warns', 'VERB'))],\n",
              " [('may', 'VERB'), (('discourage', 'NOUN'), ('discourage', 'VERB'))],\n",
              " [('.', '.'), (('Yet', 'CONJ'), ('Yet', 'ADV'))],\n",
              " [('will', 'VERB'), (('open', 'ADJ'), ('open', 'VERB'))],\n",
              " [('with', 'ADP'), (('state-appointed', 'VERB'), ('state-appointed', 'ADJ'))],\n",
              " [('or', 'CONJ'), (('lease', 'NOUN'), ('lease', 'VERB'))],\n",
              " [('of', 'ADP'), (('current', 'ADJ'), ('current', 'NOUN'))],\n",
              " [('resistance', 'NOUN'), (('standard', 'ADJ'), ('standard', 'NOUN'))],\n",
              " [('was', 'VERB'), (('down', 'ADV'), ('down', 'ADP'))],\n",
              " [('to', 'PRT'), (('investigate', 'NOUN'), ('investigate', 'VERB'))],\n",
              " [('trading', 'NOUN'), (('focus', 'VERB'), ('focus', 'NOUN'))],\n",
              " [('which', 'DET'), (('flows', 'NOUN'), ('flows', 'VERB'))],\n",
              " [('*T*-1', 'X'), (('much', 'ADV'), ('much', 'ADJ'))],\n",
              " [('corn', 'NOUN'), (('that', 'ADP'), ('that', 'DET'))],\n",
              " [('simply', 'ADV'), (('transfers', 'NOUN'), ('transfers', 'VERB'))],\n",
              " [('his', 'PRON'), (('selling', 'VERB'), ('selling', 'NOUN'))],\n",
              " [('corridors', 'NOUN'), (('that', 'ADP'), ('that', 'DET'))],\n",
              " [('familiar', 'ADJ'), (('red-and-white', 'NOUN'), ('red-and-white', 'ADJ'))],\n",
              " [('with', 'ADP'), (('equity-purchase', 'NOUN'), ('equity-purchase', 'ADJ'))],\n",
              " [('take', 'VERB'), (('away', 'ADV'), ('away', 'PRT'))],\n",
              " [('are', 'VERB'), (('purely', 'NOUN'), ('purely', 'ADV'))],\n",
              " [('would', 'VERB'), (('like', 'ADP'), ('like', 'VERB'))],\n",
              " [('of', 'ADP'), (('manmade-fiber', 'NOUN'), ('manmade-fiber', 'ADJ'))],\n",
              " [('of', 'ADP'), (('perpetual', 'NOUN'), ('perpetual', 'ADJ'))],\n",
              " [('to', 'PRT'), (('waive', 'NOUN'), ('waive', 'VERB'))],\n",
              " [('its', 'PRON'), (('protective', 'NOUN'), ('protective', 'ADJ'))],\n",
              " [('``', '.'), (('golden', 'NOUN'), ('golden', 'ADJ'))],\n",
              " [('Assuming', 'VERB'), (('that', 'ADP'), ('that', 'DET'))],\n",
              " [('a', 'DET'), (('low-tech', 'NOUN'), ('low-tech', 'ADJ'))],\n",
              " [('can', 'VERB'), (('catch', 'NOUN'), ('catch', 'VERB'))],\n",
              " [('a', 'DET'), (('strategic', 'NOUN'), ('strategic', 'ADJ'))],\n",
              " [('0', 'X'), (('early', 'ADV'), ('early', 'ADJ'))],\n",
              " [(',', '.'), (('Mich.-based', 'VERB'), ('Mich.-based', 'ADJ'))],\n",
              " [('the', 'DET'), (('impending', 'VERB'), ('impending', 'ADJ'))],\n",
              " [('impending', 'ADJ'), (('attack', 'VERB'), ('attack', 'NOUN'))],\n",
              " [('0', 'X'), (('greedy', 'NOUN'), ('greedy', 'ADJ'))],\n",
              " [('big', 'ADJ'), (('gambling', 'VERB'), ('gambling', 'NOUN'))],\n",
              " [('A', 'DET'), (('total', 'ADJ'), ('total', 'NOUN'))],\n",
              " [('year', 'NOUN'), (('ago', 'ADP'), ('ago', 'ADV'))],\n",
              " [('achieve', 'VERB'), (('near-record', 'NOUN'), ('near-record', 'ADJ'))],\n",
              " [('Lane', 'NOUN'), (('shot', 'NOUN'), ('shot', 'VERB'))],\n",
              " [('a', 'DET'), (('36-minute', 'NOUN'), ('36-minute', 'ADJ'))],\n",
              " [('36-minute', 'ADJ'),\n",
              "  (('black-and-white', 'NOUN'), ('black-and-white', 'ADJ'))],\n",
              " [('.', '.'), (('3', 'NUM'), ('3', 'X'))],\n",
              " [('*', 'X'), (('Send', 'NOUN'), ('Send', 'VERB'))],\n",
              " [('my', 'PRON'), (('wine-making', 'VERB'), ('wine-making', 'NOUN'))],\n",
              " [('to', 'PRT'), (('single', 'ADJ'), ('single', 'VERB'))],\n",
              " [('out', 'PRT'), (('as', 'ADP'), ('as', 'ADV'))],\n",
              " [('only', 'ADV'), (('about', 'ADP'), ('about', 'ADV'))],\n",
              " [('SDI', 'NOUN'), (('ideological', 'NOUN'), ('ideological', 'ADJ'))],\n",
              " [('weapon', 'NOUN'), (('that', 'ADP'), ('that', 'DET'))],\n",
              " [('can', 'VERB'), (('shoot', 'NOUN'), ('shoot', 'VERB'))],\n",
              " [('them', 'PRON'), (('down', 'ADV'), ('down', 'ADP'))],\n",
              " [('give', 'VERB'), (('only', 'ADV'), ('only', 'ADJ'))],\n",
              " [('everybody', 'NOUN'), (('aces', 'NOUN'), ('aces', 'VERB'))],\n",
              " [('would', 'VERB'), (('assess', 'NOUN'), ('assess', 'VERB'))],\n",
              " [('law', 'NOUN'), (('that', 'ADP'), ('that', 'DET'))],\n",
              " [('tightened', 'VERB'), (('controls', 'VERB'), ('controls', 'NOUN'))],\n",
              " [('on', 'ADP'), (('index-related', 'VERB'), ('index-related', 'ADJ'))],\n",
              " [('to', 'PRT'), (('rule', 'NOUN'), ('rule', 'VERB'))],\n",
              " [('Series', 'NOUN'), (('A', 'DET'), ('A', 'NOUN'))],\n",
              " [('convertible', 'ADJ'), (('preferred', 'ADJ'), ('preferred', 'VERB'))],\n",
              " [('in', 'ADP'), (('super-absorbent', 'NOUN'), ('super-absorbent', 'ADJ'))],\n",
              " [('PhacoFlex', 'NOUN'), (('intraocular', 'NOUN'), ('intraocular', 'ADJ'))],\n",
              " [('first', 'ADJ'), (('foldable', 'NOUN'), ('foldable', 'ADJ'))],\n",
              " [('finding', 'NOUN'), (('marks', 'NOUN'), ('marks', 'VERB'))],\n",
              " [('general', 'ADJ'), (('softening', 'VERB'), ('softening', 'NOUN'))],\n",
              " [('compound', 'NOUN'), (('yield', 'VERB'), ('yield', 'NOUN'))],\n",
              " [('*-55', 'X'), (('funding', 'NOUN'), ('funding', 'VERB'))],\n",
              " [('pay', 'VERB'), (('that', 'ADP'), ('that', 'DET'))]]"
            ]
          },
          "metadata": {
            "tags": []
          },
          "execution_count": 47
        }
      ]
    },
    {
      "cell_type": "code",
      "metadata": {
        "colab": {
          "base_uri": "https://localhost:8080/"
        },
        "id": "08w9GjzGP1YN",
        "outputId": "28b4adff-a352-46c4-efa4-c6ae2b59ae71"
      },
      "source": [
        "#we'll test our model on random statements from  testing data set that we've\n",
        "test_vertibi_simple_adv(\"Android has been the best-selling OS worldwide on smartphones since 2011 and on tablets since 2013.\")"
      ],
      "execution_count": 48,
      "outputs": [
        {
          "output_type": "execute_result",
          "data": {
            "text/plain": [
              "[('Android', 'NOUN'),\n",
              " ('has', 'VERB'),\n",
              " ('been', 'VERB'),\n",
              " ('the', 'DET'),\n",
              " ('best-selling', 'ADJ'),\n",
              " ('OS', 'NOUN'),\n",
              " ('worldwide', 'NOUN'),\n",
              " ('on', 'ADP'),\n",
              " ('smartphones', 'NOUN'),\n",
              " ('since', 'ADP'),\n",
              " ('2011', 'NUM'),\n",
              " ('and', 'CONJ'),\n",
              " ('on', 'ADP'),\n",
              " ('tablets', 'NOUN'),\n",
              " ('since', 'ADP'),\n",
              " ('2013', 'NUM'),\n",
              " ('.', '.')]"
            ]
          },
          "metadata": {
            "tags": []
          },
          "execution_count": 48
        }
      ]
    },
    {
      "cell_type": "code",
      "metadata": {
        "colab": {
          "base_uri": "https://localhost:8080/"
        },
        "id": "K95wRNq5P1YO",
        "outputId": "64785fd2-5348-4b62-d516-b4d8f9236201"
      },
      "source": [
        "test_vertibi_simple_adv(\"NASA invited social media users to experience the launch of ICESAT-2 Satellite.\")"
      ],
      "execution_count": 49,
      "outputs": [
        {
          "output_type": "execute_result",
          "data": {
            "text/plain": [
              "[('NASA', 'NOUN'),\n",
              " ('invited', 'VERB'),\n",
              " ('social', 'ADJ'),\n",
              " ('media', 'NOUN'),\n",
              " ('users', 'NOUN'),\n",
              " ('to', 'PRT'),\n",
              " ('experience', 'NOUN'),\n",
              " ('the', 'DET'),\n",
              " ('launch', 'NOUN'),\n",
              " ('of', 'ADP'),\n",
              " ('ICESAT-2', 'NOUN'),\n",
              " ('Satellite', 'NOUN'),\n",
              " ('.', '.')]"
            ]
          },
          "metadata": {
            "tags": []
          },
          "execution_count": 49
        }
      ]
    },
    {
      "cell_type": "markdown",
      "metadata": {
        "id": "FLpfdHgyhR8y"
      },
      "source": [
        "<font color = 'red'>[Observation]:</font>  Words like NASA, Android which are unknown words are tagged as NOUN. Besides yers are correctly tagged as numbers"
      ]
    },
    {
      "cell_type": "markdown",
      "metadata": {
        "id": "7sUEuc5DP1YO"
      },
      "source": [
        "#### Technique 2:\n",
        "\n",
        "Let's build algorithm using second technique (cosidering only state probablity for unknown words)"
      ]
    },
    {
      "cell_type": "code",
      "metadata": {
        "id": "ou_q8-iLP1YO"
      },
      "source": [
        "# Viterbi Heuristic\n",
        "def Viterbi_adv_tech2(words, train_bag = train_tagged_words):\n",
        "    state = []\n",
        "    T = list(set([pair[1] for pair in train_bag]))\n",
        "    \n",
        "    for key, word in enumerate(words):\n",
        "        #initialise list of probability column for a given observation\n",
        "        p = [] \n",
        "        p1 = []\n",
        "        for tag in T:\n",
        "            if key == 0:\n",
        "                transition_p = tags_df.loc['.', tag]\n",
        "            else:\n",
        "                transition_p = tags_df.loc[state[-1], tag]\n",
        "                \n",
        "            # compute emission and state probabilities\n",
        "            emission_p = word_given_tag(words[key], tag)[0]/word_given_tag(words[key], tag)[1]\n",
        "            state_probability = emission_p * transition_p    \n",
        "            p.append(state_probability)\n",
        "            p1.append(transition_p)\n",
        "            \n",
        "                \n",
        "        pmax = max(p)\n",
        "        \n",
        "        # getting state for which probability is maximum\n",
        "        state_max = T[p.index(pmax)] \n",
        "        if (pmax == 0):\n",
        "                pmax = max(p1)\n",
        "                state_max = T[p1.index(pmax)] \n",
        "        if word.isnumeric() & (word != '0'):\n",
        "            state_max = 'NUM'\n",
        "        if 'ed' in word:\n",
        "            state_max = 'VERB'\n",
        "        state.append(state_max)\n",
        "    return list(zip(words, state))"
      ],
      "execution_count": 50,
      "outputs": []
    },
    {
      "cell_type": "code",
      "metadata": {
        "id": "yKd-SvuJP1YP"
      },
      "source": [
        "def test_vertibi_simple_adv_tech2(sentence):\n",
        "    words = word_tokenize(sentence)\n",
        "    tagged_seq = Viterbi_adv_tech2(words)\n",
        "    return tagged_seq"
      ],
      "execution_count": 51,
      "outputs": []
    },
    {
      "cell_type": "code",
      "metadata": {
        "id": "ONX7yq8kP1YP"
      },
      "source": [
        "# tagging the test sentences\n",
        "start = time.time()\n",
        "tagged_seq = Viterbi_adv_tech2(test_tagged_words)\n",
        "end = time.time()\n",
        "difference = end-start\n",
        "adv_viterbi_tech2 = accuracy(tagged_seq)"
      ],
      "execution_count": 52,
      "outputs": []
    },
    {
      "cell_type": "markdown",
      "metadata": {
        "id": "VUfkAzjCS-vS"
      },
      "source": [
        "#### Evaluating tagging accuracy"
      ]
    },
    {
      "cell_type": "code",
      "metadata": {
        "colab": {
          "base_uri": "https://localhost:8080/"
        },
        "id": "hcdqZTarS-vT",
        "outputId": "63c5a869-b880-431f-a0d5-bd68e28ffe6d"
      },
      "source": [
        "print(\"Accuracy of the veribii model (Tech2)- - \",adv_viterbi_tech2 )\n"
      ],
      "execution_count": 53,
      "outputs": [
        {
          "output_type": "stream",
          "text": [
            "Accuracy of the veribii model (Tech2)- -  0.9385150812064965\n"
          ],
          "name": "stdout"
        }
      ]
    },
    {
      "cell_type": "code",
      "metadata": {
        "colab": {
          "base_uri": "https://localhost:8080/"
        },
        "id": "YJx5jNmtS-vT",
        "outputId": "ba6a49e0-b30b-44c3-afb6-ea105d022b97"
      },
      "source": [
        "#words which were tagged incorrectly\n",
        "incorrect_tagged_cases = [[test_run_base[i-1],j] for i, j in enumerate(zip(tagged_seq, test_run_base)) if j[0]!=j[1]]\n",
        "incorrect_tagged_cases"
      ],
      "execution_count": 54,
      "outputs": [
        {
          "output_type": "execute_result",
          "data": {
            "text/plain": [
              "[[('guests', 'NOUN'), (('more', 'ADV'), ('more', 'ADJ'))],\n",
              " [('like', 'ADP'), (('royalty', 'DET'), ('royalty', 'NOUN'))],\n",
              " [('retired', 'VERB'),\n",
              "  (('water-authority', 'X'), ('water-authority', 'NOUN'))],\n",
              " [('its', 'PRON'), (('finance', 'VERB'), ('finance', 'NOUN'))],\n",
              " [('record', 'NOUN'), (('corn-buying', 'NOUN'), ('corn-buying', 'ADJ'))],\n",
              " [('the', 'DET'), (('Soviet', 'ADJ'), ('Soviet', 'NOUN'))],\n",
              " [('share', 'NOUN'), (('that', 'ADP'), ('that', 'DET'))],\n",
              " [('that', 'DET'), (('*T*-119', 'DET'), ('*T*-119', 'X'))],\n",
              " [('*T*-119', 'X'), (('expires', 'NOUN'), ('expires', 'VERB'))],\n",
              " [('expires', 'VERB'), (('next', 'ADP'), ('next', 'ADJ'))],\n",
              " [(\"n't\", 'ADV'), (('as', 'ADP'), ('as', 'ADV'))],\n",
              " [('as', 'ADV'), (('troublesome', 'DET'), ('troublesome', 'ADJ'))],\n",
              " [('$', '.'), (('12,252', 'NOUN'), ('12,252', 'NUM'))],\n",
              " [('M.', 'NOUN'), (('Zayed', 'VERB'), ('Zayed', 'NOUN'))],\n",
              " [('of', 'ADP'), (('American-made', 'DET'), ('American-made', 'ADJ'))],\n",
              " [('``', '.'), (('Designated', 'VERB'), ('Designated', 'NOUN'))],\n",
              " [('Designated', 'NOUN'), (('Order', 'X'), ('Order', 'NOUN'))],\n",
              " [('Order', 'NOUN'), (('Turnaround', 'VERB'), ('Turnaround', 'NOUN'))],\n",
              " [('to', 'PRT'), (('offer', 'NOUN'), ('offer', 'VERB'))],\n",
              " [(',', '.'), (('high-speed', 'VERB'), ('high-speed', 'ADJ'))],\n",
              " [('no', 'DET'), (('one', 'NUM'), ('one', 'NOUN'))],\n",
              " [('is', 'VERB'), (('unworkable', 'X'), ('unworkable', 'ADJ'))],\n",
              " [('branch', 'NOUN'), (('unfunded', 'VERB'), ('unfunded', 'ADJ'))],\n",
              " [('could', 'VERB'), (('sign', 'NOUN'), ('sign', 'VERB'))],\n",
              " [('and', 'CONJ'), (('assert', 'NOUN'), ('assert', 'VERB'))],\n",
              " [('rider', 'NOUN'), (('restricting', 'NOUN'), ('restricting', 'VERB'))],\n",
              " [('of', 'ADP'), (('Elsevier', 'DET'), ('Elsevier', 'NOUN'))],\n",
              " [('the', 'DET'), (('Dutch', 'ADJ'), ('Dutch', 'NOUN'))],\n",
              " [('Dutch', 'NOUN'), (('publishing', 'NOUN'), ('publishing', 'VERB'))],\n",
              " [('is', 'VERB'), (('imposing', 'X'), ('imposing', 'VERB'))],\n",
              " [('new', 'ADJ'), (('ideological', 'NOUN'), ('ideological', 'ADJ'))],\n",
              " [('of', 'ADP'), (('so-called', 'VERB'), ('so-called', 'ADJ'))],\n",
              " [('programs', 'NOUN'), (('that', 'ADP'), ('that', 'DET'))],\n",
              " [('that', 'DET'), (('*T*-136', 'DET'), ('*T*-136', 'X'))],\n",
              " [('company', 'NOUN'), (('forecast', 'NOUN'), ('forecast', 'VERB'))],\n",
              " [('year', 'NOUN'), (('earlier', 'ADV'), ('earlier', 'ADJ'))],\n",
              " [('magazine', 'NOUN'), (('combines', 'NOUN'), ('combines', 'VERB'))],\n",
              " [('combines', 'VERB'), (('how-to', 'NOUN'), ('how-to', 'ADJ'))],\n",
              " [('like', 'ADP'), (('backyard', 'DET'), ('backyard', 'NOUN'))],\n",
              " [(',', '.'), (('explanatory', 'NOUN'), ('explanatory', 'ADJ'))],\n",
              " [('your', 'PRON'), (('toilet', 'VERB'), ('toilet', 'NOUN'))],\n",
              " [('and', 'CONJ'), (('hard-hitting', 'NOUN'), ('hard-hitting', 'ADJ'))],\n",
              " [('on', 'ADP'), (('alleged', 'VERB'), ('alleged', 'ADJ'))],\n",
              " [('are', 'VERB'), (('unneeded', 'VERB'), ('unneeded', 'ADJ'))],\n",
              " [('even', 'ADV'), (('harmful', 'VERB'), ('harmful', 'ADJ'))],\n",
              " [('``', '.'), (('so', 'ADV'), ('so', 'ADP'))],\n",
              " [(\"'s\", 'PRT'), (('unitholders', 'VERB'), ('unitholders', 'NOUN'))],\n",
              " [(\"'s\", 'PRT'), (('Little', 'ADJ'), ('Little', 'NOUN'))],\n",
              " [(',', '.'), (('as', 'ADP'), ('as', 'ADV'))],\n",
              " [('possible', 'ADJ'), (('white', 'NOUN'), ('white', 'ADJ'))],\n",
              " [('an', 'DET'), (('undisclosed', 'VERB'), ('undisclosed', 'ADJ'))],\n",
              " [('for', 'ADP'), (('Great', 'NOUN'), ('Great', 'ADJ'))],\n",
              " [('of', 'ADP'), (('Zenith', 'DET'), ('Zenith', 'NOUN'))],\n",
              " [('of', 'ADP'), (('microcomputers', 'DET'), ('microcomputers', 'NOUN'))],\n",
              " [('an', 'DET'), (('84-month', 'NOUN'), ('84-month', 'ADJ'))],\n",
              " [('visiting', 'VERB'), (('about', 'ADP'), ('about', 'ADV'))],\n",
              " [('about', 'ADV'), (('26,000', 'DET'), ('26,000', 'NUM'))],\n",
              " [('signboards', 'NOUN'), (('advertising', 'NOUN'), ('advertising', 'VERB'))],\n",
              " [('its', 'PRON'), (('vow', 'VERB'), ('vow', 'NOUN'))],\n",
              " [('has', 'VERB'), (('staunchly', 'X'), ('staunchly', 'ADV'))],\n",
              " [('opposed', 'VERB'), (('cost-sharing', 'ADJ'), ('cost-sharing', 'NOUN'))],\n",
              " [('from', 'ADP'), (('unfounded', 'VERB'), ('unfounded', 'ADJ'))],\n",
              " [('unfounded', 'ADJ'), (('interrogation', 'X'), ('interrogation', 'NOUN'))],\n",
              " [('are', 'VERB'), (('derisively', 'X'), ('derisively', 'ADV'))],\n",
              " [('about', 'ADP'), (('Senior', 'DET'), ('Senior', 'NOUN'))],\n",
              " [('a', 'DET'), (('75-year-old', 'NOUN'), ('75-year-old', 'NUM'))],\n",
              " [('The', 'DET'), (('Soviet', 'ADJ'), ('Soviet', 'NOUN'))],\n",
              " [('wants', 'VERB'), (('much', 'ADV'), ('much', 'ADJ'))],\n",
              " [('provision', 'NOUN'), (('amounts', 'NOUN'), ('amounts', 'VERB'))],\n",
              " [('a', 'DET'), (('one-house', 'NOUN'), ('one-house', 'ADJ'))],\n",
              " [('neither', 'DET'), (('bicameral', 'NOUN'), ('bicameral', 'ADJ'))],\n",
              " [('his', 'PRON'), (('signature', 'VERB'), ('signature', 'NOUN'))],\n",
              " [('his', 'PRON'), (('design', 'VERB'), ('design', 'NOUN'))],\n",
              " [('eliminates', 'VERB'), (('spilling', 'X'), ('spilling', 'NOUN'))],\n",
              " [('of', 'ADP'), (('Mercer', 'DET'), ('Mercer', 'NOUN'))],\n",
              " [('of', 'ADP'), (('Red', 'VERB'), ('Red', 'NOUN'))],\n",
              " [('running', 'VERB'), (('up', 'ADV'), ('up', 'PRT'))],\n",
              " [('up', 'PRT'), (('record', 'VERB'), ('record', 'ADJ'))],\n",
              " [('trained', 'VERB'), (('bellringers', 'X'), ('bellringers', 'NOUN'))],\n",
              " [('only', 'ADV'), (('40,000', 'VERB'), ('40,000', 'NUM'))],\n",
              " [('.', '.'), (('Per-share', 'NOUN'), ('Per-share', 'ADJ'))],\n",
              " [('to', 'PRT'), (('7.84', 'VERB'), ('7.84', 'NUM'))],\n",
              " [('from', 'ADP'), (('6.53', 'DET'), ('6.53', 'NUM'))],\n",
              " [('bankruptcy', 'NOUN'), (('proceedings', 'VERB'), ('proceedings', 'NOUN'))],\n",
              " [('annually', 'ADV'), (('total', 'ADJ'), ('total', 'VERB'))],\n",
              " [('$', '.'), (('38.3', 'NOUN'), ('38.3', 'NUM'))],\n",
              " [(\"'s\", 'PRT'), (('dislike', 'VERB'), ('dislike', 'NOUN'))],\n",
              " [('U.S.', 'NOUN'), (('encourages', 'NOUN'), ('encourages', 'VERB'))],\n",
              " [('to', 'PRT'), (('share', 'NOUN'), ('share', 'VERB'))],\n",
              " [('a', 'DET'), (('cosmetic', 'NOUN'), ('cosmetic', 'ADJ'))],\n",
              " [('of', 'ADP'), (('Wertheim', 'DET'), ('Wertheim', 'NOUN'))],\n",
              " [('.', '.'), (('Shortly', 'NOUN'), ('Shortly', 'ADV'))],\n",
              " [('Shortly', 'ADV'), (('afterwards', 'NOUN'), ('afterwards', 'ADV'))],\n",
              " [('of', 'ADP'), (('anti-China', 'DET'), ('anti-China', 'ADJ'))],\n",
              " [('most', 'ADJ'), (('high-level', 'NOUN'), ('high-level', 'ADJ'))],\n",
              " [('In', 'ADP'), (('Arizona', 'DET'), ('Arizona', 'NOUN'))],\n",
              " [(',', '.'), (('educators', 'VERB'), ('educators', 'NOUN'))],\n",
              " [('$', '.'), (('3.80', 'NOUN'), ('3.80', 'NUM'))],\n",
              " [('its', 'PRON'), (('fall', 'VERB'), ('fall', 'NOUN'))],\n",
              " [('.', '.'), (('Preliminary', 'NOUN'), ('Preliminary', 'ADJ'))],\n",
              " [(\"'s\", 'PRT'), (('export-oriented', 'VERB'), ('export-oriented', 'ADJ'))],\n",
              " [('The', 'DET'), (('Fed', 'VERB'), ('Fed', 'NOUN'))],\n",
              " [('key', 'ADJ'), (('federal', 'VERB'), ('federal', 'ADJ'))],\n",
              " [('by', 'ADP'), (('about', 'ADP'), ('about', 'ADV'))],\n",
              " [('to', 'PRT'), (('8.75', 'VERB'), ('8.75', 'NUM'))],\n",
              " [('has', 'VERB'), (('shown', 'X'), ('shown', 'VERB'))],\n",
              " [('where', 'ADV'), (('most', 'ADJ'), ('most', 'ADV'))],\n",
              " [('acknowledge', 'VERB'), (('that', 'ADP'), ('that', 'DET'))],\n",
              " [('might', 'VERB'), (('gyrate', 'X'), ('gyrate', 'VERB'))],\n",
              " [('exporters', 'NOUN'), (('scrounge', 'NOUN'), ('scrounge', 'VERB'))],\n",
              " [('to', 'PRT'), (('compromise', 'NOUN'), ('compromise', 'VERB'))],\n",
              " [('on', 'ADP'), (('64.5', 'DET'), ('64.5', 'NUM'))],\n",
              " [('to', 'PRT'), (('last', 'ADJ'), ('last', 'VERB'))],\n",
              " [(\"''\", '.'), (('evolve', 'NOUN'), ('evolve', 'VERB'))],\n",
              " [('creature', 'NOUN'), (('that', 'ADP'), ('that', 'DET'))],\n",
              " [('is', 'VERB'), (('evoking', 'X'), ('evoking', 'VERB'))],\n",
              " [('be', 'VERB'), (('impartial', 'X'), ('impartial', 'ADJ'))],\n",
              " [('a', 'DET'), (('homosexual', 'ADJ'), ('homosexual', 'NOUN'))],\n",
              " [('a', 'DET'), (('much', 'ADJ'), ('much', 'ADV'))],\n",
              " [('much', 'ADV'), (('savvier', 'NOUN'), ('savvier', 'ADJ'))],\n",
              " [('``', '.'), (('increases', 'NOUN'), ('increases', 'VERB'))],\n",
              " [('income', 'NOUN'), (('confirms', 'NOUN'), ('confirms', 'VERB'))],\n",
              " [(\"'s\", 'PRT'), (('rebound', 'VERB'), ('rebound', 'NOUN'))],\n",
              " [('early', 'ADJ'), (('1980s', 'NOUN'), ('1980s', 'NUM'))],\n",
              " [('proposed', 'VERB'), (('pact', 'X'), ('pact', 'NOUN'))],\n",
              " [('was', 'VERB'), (('230-215', 'X'), ('230-215', 'NUM'))],\n",
              " [('the', 'DET'), (('Federal', 'VERB'), ('Federal', 'NOUN'))],\n",
              " [('turned', 'VERB'), (('down', 'ADV'), ('down', 'PRT'))],\n",
              " [('would', 'VERB'), (('like', 'ADP'), ('like', 'VERB'))],\n",
              " [('a', 'DET'), (('packed', 'VERB'), ('packed', 'ADJ'))],\n",
              " [('lobbyists', 'NOUN'), (('as', 'ADP'), ('as', 'ADV'))],\n",
              " [('my', 'PRON'), (('estimation', 'VERB'), ('estimation', 'NOUN'))],\n",
              " [('of', 'ADP'), (('New', 'NOUN'), ('New', 'ADJ'))],\n",
              " [('New', 'ADJ'), (('York-based', 'VERB'), ('York-based', 'ADJ'))],\n",
              " [('$', '.'), (('9.3', 'NOUN'), ('9.3', 'NUM'))],\n",
              " [('to', 'PRT'), (('English-speaking', 'VERB'), ('English-speaking', 'ADJ'))],\n",
              " [('What', 'PRON'), (('*T*-234', 'VERB'), ('*T*-234', 'X'))],\n",
              " [('growth', 'NOUN'), (('next', 'ADP'), ('next', 'ADJ'))],\n",
              " [('still', 'ADV'), (('posts', 'NOUN'), ('posts', 'VERB'))],\n",
              " [('lowest', 'ADJ'), (('average', 'NOUN'), ('average', 'ADJ'))],\n",
              " [('who', 'PRON'), (('*T*-87', 'VERB'), ('*T*-87', 'X'))],\n",
              " [('the', 'DET'), (('1920s', 'NOUN'), ('1920s', 'NUM'))],\n",
              " [('and', 'CONJ'), ((\"'30s\", 'NOUN'), (\"'30s\", 'NUM'))],\n",
              " [('have', 'VERB'), (('six-inch', 'X'), ('six-inch', 'ADJ'))],\n",
              " [('shape', 'NOUN'), (('that', 'ADP'), ('that', 'DET'))],\n",
              " [('contain', 'VERB'), (('semicircular', 'X'), ('semicircular', 'ADJ'))],\n",
              " [('semicircular', 'ADJ'), (('cells', 'VERB'), ('cells', 'NOUN'))],\n",
              " [('the', 'DET'), (('middle', 'ADJ'), ('middle', 'NOUN'))],\n",
              " [('The', 'DET'), (('record', 'NOUN'), ('record', 'ADJ'))],\n",
              " [('$', '.'), (('550,000', 'NOUN'), ('550,000', 'NUM'))],\n",
              " [('.', '.'), (('Common', 'NOUN'), ('Common', 'ADJ'))],\n",
              " [('a', 'DET'), (('single-digit', 'NOUN'), ('single-digit', 'ADJ'))],\n",
              " [('.', '.'), (('Consolidated', 'VERB'), ('Consolidated', 'NOUN'))],\n",
              " [('Consolidated', 'NOUN'), (('Rail', 'X'), ('Rail', 'NOUN'))],\n",
              " [('transporting', 'VERB'), (('autos', 'X'), ('autos', 'NOUN'))],\n",
              " [('the', 'DET'), (('three-lawyer', 'NOUN'), ('three-lawyer', 'ADJ'))],\n",
              " [('the', 'DET'), (('520-lawyer', 'NOUN'), ('520-lawyer', 'ADJ'))],\n",
              " [('for', 'ADP'), (('expendable', 'DET'), ('expendable', 'ADJ'))],\n",
              " [('may', 'VERB'), (('no', 'DET'), ('no', 'ADV'))],\n",
              " [('no', 'ADV'), (('longer', 'ADJ'), ('longer', 'ADV'))],\n",
              " [('have', 'VERB'), (('as', 'ADP'), ('as', 'ADV'))],\n",
              " [('to', 'PRT'), (('export', 'NOUN'), ('export', 'VERB'))],\n",
              " [('the', 'DET'), (('1990-91', 'NOUN'), ('1990-91', 'NUM'))],\n",
              " [('season', 'NOUN'), (('so', 'ADV'), ('so', 'ADP'))],\n",
              " [('for', 'ADP'), (('automobile', 'DET'), ('automobile', 'NOUN'))],\n",
              " [('broad', 'ADJ'), (('enough', 'ADJ'), ('enough', 'ADV'))],\n",
              " [('The', 'DET'), (('Japanese', 'ADJ'), ('Japanese', 'NOUN'))],\n",
              " [('make', 'VERB'), (('concessions', 'X'), ('concessions', 'NOUN'))],\n",
              " [('turned', 'VERB'), (('down', 'ADV'), ('down', 'PRT'))],\n",
              " [('``', '.'), (('because', 'ADP'), ('because', 'ADV'))],\n",
              " [('the', 'DET'), (('potential', 'ADJ'), ('potential', 'NOUN'))],\n",
              " [('a', 'DET'), (('sprawling', 'NOUN'), ('sprawling', 'ADJ'))],\n",
              " [(',', '.'), (('balkanized', 'VERB'), ('balkanized', 'ADJ'))],\n",
              " [('the', 'DET'), (('mammoth', 'NOUN'), ('mammoth', 'ADJ'))],\n",
              " [('older', 'ADJ'), (('five-inch', 'NOUN'), ('five-inch', 'ADJ'))],\n",
              " [('to', 'PRT'), (('more-efficient', 'VERB'), ('more-efficient', 'ADJ'))],\n",
              " [('more-efficient', 'ADJ'), (('six-inch', 'X'), ('six-inch', 'ADJ'))],\n",
              " [('*ICH*-1', 'X'), (('silicon', 'VERB'), ('silicon', 'NOUN'))],\n",
              " [('silicon', 'NOUN'), (('wafers', 'X'), ('wafers', 'NOUN'))],\n",
              " [('the', 'DET'),\n",
              "  (('238,000-circulation', 'NOUN'), ('238,000-circulation', 'ADJ'))],\n",
              " [('exceeding', 'VERB'), (('700,000', 'X'), ('700,000', 'NUM'))],\n",
              " [('a', 'DET'), (('one-newspaper', 'NOUN'), ('one-newspaper', 'ADJ'))],\n",
              " [('a', 'DET'), (('corrupt', 'NOUN'), ('corrupt', 'ADJ'))],\n",
              " [('no', 'DET'), (('guarantee', 'VERB'), ('guarantee', 'NOUN'))],\n",
              " [('that', 'ADP'), (('vendors', 'DET'), ('vendors', 'NOUN'))],\n",
              " [('were', 'VERB'), (('delivering', 'X'), ('delivering', 'VERB'))],\n",
              " [('to', 'PRT'), (('report', 'NOUN'), ('report', 'VERB'))],\n",
              " [('*T*-67', 'X'), ((\"'s\", 'PRT'), (\"'s\", 'VERB'))],\n",
              " [('getting', 'VERB'), (('out', 'PRT'), ('out', 'ADP'))],\n",
              " [('*T*-51', 'X'), (('import', 'NOUN'), ('import', 'VERB'))],\n",
              " [('*U*', 'X'), (('pretax', 'NOUN'), ('pretax', 'ADJ'))],\n",
              " [('citing', 'VERB'), (('extended', 'VERB'), ('extended', 'ADJ'))],\n",
              " [('market', 'NOUN'), (('as', 'ADP'), ('as', 'ADV'))],\n",
              " [('to', 'PRT'), (('switch', 'NOUN'), ('switch', 'VERB'))],\n",
              " [('more', 'ADJ'), (('economical', 'NOUN'), ('economical', 'ADJ'))],\n",
              " [('a', 'DET'), (('mailing', 'VERB'), ('mailing', 'NOUN'))],\n",
              " [('would', 'VERB'), (('like', 'ADP'), ('like', 'VERB'))],\n",
              " [('possible', 'ADJ'), (('future', 'NOUN'), ('future', 'ADJ'))],\n",
              " [('came', 'VERB'), (('in', 'ADP'), ('in', 'PRT'))],\n",
              " [('the', 'DET'), (('top', 'ADJ'), ('top', 'NOUN'))],\n",
              " [('stepped', 'VERB'), (('down', 'ADV'), ('down', 'PRT'))],\n",
              " [('be', 'VERB'), (('worth', 'ADP'), ('worth', 'ADJ'))],\n",
              " [('worth', 'ADJ'), (('more', 'ADJ'), ('more', 'ADV'))],\n",
              " [('broken', 'VERB'), (('up', 'ADV'), ('up', 'PRT'))],\n",
              " [('of', 'ADP'), (('up', 'ADV'), ('up', 'ADP'))],\n",
              " [('*U*', 'X'), (('zero', 'VERB'), ('zero', 'NUM'))],\n",
              " [('of', 'ADP'), (('index-options', 'DET'), ('index-options', 'NOUN'))],\n",
              " [('the', 'DET'), (('underlying', 'ADJ'), ('underlying', 'VERB'))],\n",
              " [('Genel', 'NOUN'), (('warns', 'NOUN'), ('warns', 'VERB'))],\n",
              " [('may', 'VERB'), (('discourage', 'X'), ('discourage', 'VERB'))],\n",
              " [('$', '.'), (('13.625', 'NOUN'), ('13.625', 'NUM'))],\n",
              " [('.', '.'), (('Yet', 'CONJ'), ('Yet', 'ADV'))],\n",
              " [('of', 'ADP'), (('Smaby', 'DET'), ('Smaby', 'NOUN'))],\n",
              " [('yield', 'VERB'), (('6.03', 'X'), ('6.03', 'NUM'))],\n",
              " [('will', 'VERB'), (('open', 'ADJ'), ('open', 'VERB'))],\n",
              " [('with', 'ADP'), (('state-appointed', 'VERB'), ('state-appointed', 'ADJ'))],\n",
              " [('state-appointed', 'ADJ'), (('receivers', 'X'), ('receivers', 'NOUN'))],\n",
              " [('or', 'CONJ'), (('lease', 'NOUN'), ('lease', 'VERB'))],\n",
              " [('of', 'ADP'), (('current', 'ADJ'), ('current', 'NOUN'))],\n",
              " [('resistance', 'NOUN'), (('standard', 'ADJ'), ('standard', 'NOUN'))],\n",
              " [('on', 'ADP'), (('Saturday', 'DET'), ('Saturday', 'NOUN'))],\n",
              " [('the', 'DET'), (('federal', 'VERB'), ('federal', 'ADJ'))],\n",
              " [('from', 'ADP'), (('creditors', 'VERB'), ('creditors', 'NOUN'))],\n",
              " [('was', 'VERB'), (('down', 'ADV'), ('down', 'ADP'))],\n",
              " [('$', '.'), (('5.70', 'NOUN'), ('5.70', 'NUM'))],\n",
              " [('$', '.'), (('494.50', 'NOUN'), ('494.50', 'NUM'))],\n",
              " [('for', 'ADP'), (('credit', 'VERB'), ('credit', 'NOUN'))],\n",
              " [('of', 'ADP'), (('sorts', 'DET'), ('sorts', 'NOUN'))],\n",
              " [('Philadelphia', 'NOUN'), (('Fed', 'VERB'), ('Fed', 'NOUN'))],\n",
              " [('trading', 'NOUN'), (('focus', 'VERB'), ('focus', 'NOUN'))],\n",
              " [('which', 'DET'), (('flows', 'NOUN'), ('flows', 'VERB'))],\n",
              " [('*T*-1', 'X'), (('much', 'ADV'), ('much', 'ADJ'))],\n",
              " [('corn', 'NOUN'), (('that', 'ADP'), ('that', 'DET'))],\n",
              " [('simply', 'ADV'), (('transfers', 'NOUN'), ('transfers', 'VERB'))],\n",
              " [('his', 'PRON'), (('selling', 'VERB'), ('selling', 'NOUN'))],\n",
              " [('corridors', 'NOUN'), (('that', 'ADP'), ('that', 'DET'))],\n",
              " [('familiar', 'ADJ'), (('red-and-white', 'VERB'), ('red-and-white', 'ADJ'))],\n",
              " [('red-and-white', 'ADJ'), (('GHS', 'X'), ('GHS', 'NOUN'))],\n",
              " [('GHS', 'NOUN'), (('logo', 'VERB'), ('logo', 'NOUN'))],\n",
              " [('of', 'ADP'), (('Eurobonds', 'DET'), ('Eurobonds', 'NOUN'))],\n",
              " [('with', 'ADP'), (('equity-purchase', 'DET'), ('equity-purchase', 'ADJ'))],\n",
              " [('take', 'VERB'), (('away', 'ADV'), ('away', 'PRT'))],\n",
              " [('of', 'ADP'), (('education', 'VERB'), ('education', 'NOUN'))],\n",
              " [('are', 'VERB'), (('purely', 'X'), ('purely', 'ADV'))],\n",
              " [('without', 'ADP'), (('foundation', 'DET'), ('foundation', 'NOUN'))],\n",
              " [('would', 'VERB'), (('like', 'ADP'), ('like', 'VERB'))],\n",
              " [('of', 'ADP'), (('manmade-fiber', 'DET'), ('manmade-fiber', 'ADJ'))],\n",
              " [('US$', '.'), (('148.9', 'NOUN'), ('148.9', 'NUM'))],\n",
              " [('$', '.'), (('153.3', 'NOUN'), ('153.3', 'NUM'))],\n",
              " [('of', 'ADP'), (('perpetual', 'DET'), ('perpetual', 'ADJ'))],\n",
              " [('its', 'PRON'), (('protective', 'VERB'), ('protective', 'ADJ'))],\n",
              " [('``', '.'), (('golden', 'NOUN'), ('golden', 'ADJ'))],\n",
              " [('Assuming', 'VERB'), (('that', 'ADP'), ('that', 'DET'))],\n",
              " [('in', 'ADP'), (('universities', 'DET'), ('universities', 'NOUN'))],\n",
              " [('is', 'VERB'), (('researching', 'X'), ('researching', 'VERB'))],\n",
              " [('a', 'DET'), (('low-tech', 'NOUN'), ('low-tech', 'ADJ'))],\n",
              " [('can', 'VERB'), (('catch', 'NOUN'), ('catch', 'VERB'))],\n",
              " [(\"'s\", 'PRT'), (('fancy', 'VERB'), ('fancy', 'NOUN'))],\n",
              " [('a', 'DET'), (('strategic', 'NOUN'), ('strategic', 'ADJ'))],\n",
              " [('0', 'X'), (('early', 'ADV'), ('early', 'ADJ'))],\n",
              " [('became', 'VERB'), (('impatient', 'X'), ('impatient', 'NOUN'))],\n",
              " [(',', '.'), (('Mich.-based', 'VERB'), ('Mich.-based', 'ADJ'))],\n",
              " [('the', 'DET'), (('impending', 'VERB'), ('impending', 'ADJ'))],\n",
              " [('impending', 'ADJ'), (('attack', 'VERB'), ('attack', 'NOUN'))],\n",
              " [('0', 'X'), (('greedy', 'VERB'), ('greedy', 'ADJ'))],\n",
              " [(\"'s\", 'PRT'), (('free-enterprise', 'VERB'), ('free-enterprise', 'NOUN'))],\n",
              " [('A', 'DET'), (('total', 'ADJ'), ('total', 'NOUN'))],\n",
              " [('basically', 'ADV'), (('unchanged', 'VERB'), ('unchanged', 'ADJ'))],\n",
              " [('year', 'NOUN'), (('ago', 'ADP'), ('ago', 'ADV'))],\n",
              " [('*T*-2', 'X'), (('Wednesday', 'VERB'), ('Wednesday', 'NOUN'))],\n",
              " [('achieve', 'VERB'), (('near-record', 'X'), ('near-record', 'ADJ'))],\n",
              " [('Lane', 'NOUN'), (('shot', 'NOUN'), ('shot', 'VERB'))],\n",
              " [('a', 'DET'), (('36-minute', 'NOUN'), ('36-minute', 'ADJ'))],\n",
              " [('36-minute', 'ADJ'),\n",
              "  (('black-and-white', 'NOUN'), ('black-and-white', 'ADJ'))],\n",
              " [('.', '.'), (('3', 'NUM'), ('3', 'X'))],\n",
              " [('my', 'PRON'), (('wine-making', 'VERB'), ('wine-making', 'NOUN'))],\n",
              " [('to', 'PRT'), (('single', 'ADJ'), ('single', 'VERB'))],\n",
              " [('out', 'PRT'), (('as', 'ADP'), ('as', 'ADV'))],\n",
              " [('Then', 'ADV'), (('Wednesday', 'VERB'), ('Wednesday', 'NOUN'))],\n",
              " [('only', 'ADV'), (('about', 'ADP'), ('about', 'ADV'))],\n",
              " [('over', 'ADP'), (('borders', 'DET'), ('borders', 'NOUN'))],\n",
              " [('SDI', 'NOUN'), (('ideological', 'NOUN'), ('ideological', 'ADJ'))],\n",
              " [('weapon', 'NOUN'), (('that', 'ADP'), ('that', 'DET'))],\n",
              " [('that', 'DET'), (('*T*-245', 'DET'), ('*T*-245', 'X'))],\n",
              " [('can', 'VERB'), (('shoot', 'X'), ('shoot', 'VERB'))],\n",
              " [('them', 'PRON'), (('down', 'ADV'), ('down', 'ADP'))],\n",
              " [('on', 'ADP'), (('Wednesday', 'VERB'), ('Wednesday', 'NOUN'))],\n",
              " [('give', 'VERB'), (('only', 'ADV'), ('only', 'ADJ'))],\n",
              " [('when', 'ADV'), (('everybody', 'VERB'), ('everybody', 'NOUN'))],\n",
              " [('everybody', 'NOUN'), (('aces', 'X'), ('aces', 'VERB'))],\n",
              " [('an', 'DET'), (('educational', 'VERB'), ('educational', 'ADJ'))],\n",
              " [('which', 'DET'), (('*T*-105', 'NOUN'), ('*T*-105', 'X'))],\n",
              " [('studied', 'VERB'), (('standardized', 'VERB'), ('standardized', 'ADJ'))],\n",
              " [('would', 'VERB'), (('assess', 'X'), ('assess', 'VERB'))],\n",
              " [('law', 'NOUN'), (('that', 'ADP'), ('that', 'DET'))],\n",
              " [('tightened', 'VERB'), (('controls', 'VERB'), ('controls', 'NOUN'))],\n",
              " [('on', 'ADP'), (('index-related', 'VERB'), ('index-related', 'ADJ'))],\n",
              " [('to', 'PRT'), (('rule', 'NOUN'), ('rule', 'VERB'))],\n",
              " [('study', 'VERB'),\n",
              "  (('asbestos-related', 'VERB'), ('asbestos-related', 'ADJ'))],\n",
              " [('which', 'DET'), (('*T*-237', 'NOUN'), ('*T*-237', 'X'))],\n",
              " [('Series', 'NOUN'), (('A', 'DET'), ('A', 'NOUN'))],\n",
              " [('about', 'ADP'), (('shrinking', 'DET'), ('shrinking', 'VERB'))],\n",
              " [('in', 'ADP'), (('super-absorbent', 'DET'), ('super-absorbent', 'ADJ'))],\n",
              " [('PhacoFlex', 'NOUN'), (('intraocular', 'NOUN'), ('intraocular', 'ADJ'))],\n",
              " [('first', 'ADJ'), (('foldable', 'NOUN'), ('foldable', 'ADJ'))],\n",
              " [('finding', 'NOUN'), (('marks', 'NOUN'), ('marks', 'VERB'))],\n",
              " [('in', 'ADP'), (('wires', 'DET'), ('wires', 'NOUN'))],\n",
              " [('for', 'ADP'), (('motors', 'DET'), ('motors', 'NOUN'))],\n",
              " [('general', 'ADJ'), (('softening', 'VERB'), ('softening', 'NOUN'))],\n",
              " [('$', '.'), (('415.6', 'NOUN'), ('415.6', 'NUM'))],\n",
              " [('$', '.'), (('415.8', 'NOUN'), ('415.8', 'NUM'))],\n",
              " [('a', 'DET'), (('federal', 'VERB'), ('federal', 'ADJ'))],\n",
              " [('compound', 'NOUN'), (('yield', 'VERB'), ('yield', 'NOUN'))],\n",
              " [('by', 'ADP'), (('IBC', 'DET'), ('IBC', 'NOUN'))],\n",
              " [('IBC', 'NOUN'), ((\"'s\", 'VERB'), (\"'s\", 'PRT'))],\n",
              " [('rejected', 'VERB'), (('nominee', 'X'), ('nominee', 'NOUN'))],\n",
              " [('*-55', 'X'), (('funding', 'NOUN'), ('funding', 'VERB'))],\n",
              " [('pay', 'VERB'), (('that', 'ADP'), ('that', 'DET'))]]"
            ]
          },
          "metadata": {
            "tags": []
          },
          "execution_count": 54
        }
      ]
    },
    {
      "cell_type": "code",
      "metadata": {
        "colab": {
          "base_uri": "https://localhost:8080/"
        },
        "id": "MgvEVSo1beTv",
        "outputId": "93d93405-a92a-4883-d5bb-0faeeb163c98"
      },
      "source": [
        "test_vertibi_simple_adv_tech2('Android has been the best-selling OS worldwide on smartphones since 2011 and on tablets since 2013.')"
      ],
      "execution_count": 55,
      "outputs": [
        {
          "output_type": "execute_result",
          "data": {
            "text/plain": [
              "[('Android', 'NOUN'),\n",
              " ('has', 'VERB'),\n",
              " ('been', 'VERB'),\n",
              " ('the', 'DET'),\n",
              " ('best-selling', 'ADJ'),\n",
              " ('OS', 'NOUN'),\n",
              " ('worldwide', 'NOUN'),\n",
              " ('on', 'ADP'),\n",
              " ('smartphones', 'DET'),\n",
              " ('since', 'ADP'),\n",
              " ('2011', 'NUM'),\n",
              " ('and', 'CONJ'),\n",
              " ('on', 'ADP'),\n",
              " ('tablets', 'NOUN'),\n",
              " ('since', 'ADP'),\n",
              " ('2013', 'NUM'),\n",
              " ('.', '.')]"
            ]
          },
          "metadata": {
            "tags": []
          },
          "execution_count": 55
        }
      ]
    },
    {
      "cell_type": "code",
      "metadata": {
        "colab": {
          "base_uri": "https://localhost:8080/"
        },
        "id": "7qPXkLdRP1YQ",
        "outputId": "b6bf9e26-4673-43fe-88db-2e0bc735afa0"
      },
      "source": [
        "test_vertibi_simple_adv_tech2(\"Google and Twitter made a deal in 2015 that gave Google access to Twitter's firehose.\")"
      ],
      "execution_count": 56,
      "outputs": [
        {
          "output_type": "execute_result",
          "data": {
            "text/plain": [
              "[('Google', 'NOUN'),\n",
              " ('and', 'CONJ'),\n",
              " ('Twitter', 'NOUN'),\n",
              " ('made', 'VERB'),\n",
              " ('a', 'DET'),\n",
              " ('deal', 'NOUN'),\n",
              " ('in', 'ADP'),\n",
              " ('2015', 'NUM'),\n",
              " ('that', 'ADP'),\n",
              " ('gave', 'VERB'),\n",
              " ('Google', 'X'),\n",
              " ('access', 'NOUN'),\n",
              " ('to', 'PRT'),\n",
              " ('Twitter', 'VERB'),\n",
              " (\"'s\", 'PRT'),\n",
              " ('firehose', 'VERB'),\n",
              " ('.', '.')]"
            ]
          },
          "metadata": {
            "tags": []
          },
          "execution_count": 56
        }
      ]
    },
    {
      "cell_type": "markdown",
      "metadata": {
        "id": "SckHC8-rhR81"
      },
      "source": [
        "<font color = 'red'>[Observation]:</font> Our second technique is working well as well."
      ]
    },
    {
      "cell_type": "markdown",
      "metadata": {
        "id": "dSqUB-4fS-vT"
      },
      "source": [
        "### Compare the tagging accuracies of the modifications with the vanilla Viterbi algorithm"
      ]
    },
    {
      "cell_type": "code",
      "metadata": {
        "colab": {
          "base_uri": "https://localhost:8080/"
        },
        "id": "XyCuCQGMS-vT",
        "outputId": "d9c86200-9f21-47d6-891a-4a2133a2f6f6"
      },
      "source": [
        "print(\"Tagging accuracy of plain Viterbi algorith - \",plain_viterbi)\n",
        "print(\"Tech1 - Tagging accuracy of Viterbi algorith after modification - \",adv_viterbi)\n",
        "print(\"Tech2 - Tagging accuracy of Viterbi algorith after modification - \",adv_viterbi_tech2)"
      ],
      "execution_count": 57,
      "outputs": [
        {
          "output_type": "stream",
          "text": [
            "Tagging accuracy of plain Viterbi algorith -  0.9155065738592421\n",
            "Tech1 - Tagging accuracy of Viterbi algorith after modification -  0.9555297757153906\n",
            "Tech2 - Tagging accuracy of Viterbi algorith after modification -  0.9385150812064965\n"
          ],
          "name": "stdout"
        }
      ]
    },
    {
      "cell_type": "markdown",
      "metadata": {
        "id": "i4tlb2IvS-vT"
      },
      "source": [
        "### List down cases which were incorrectly tagged by original POS tagger and got corrected by your modifications"
      ]
    },
    {
      "cell_type": "code",
      "metadata": {
        "colab": {
          "base_uri": "https://localhost:8080/"
        },
        "id": "SzecfTsOS-vT",
        "outputId": "514cb9f4-c3a9-4c19-b60c-8b009adff30f"
      },
      "source": [
        "test_vertibi_simple_adv(\"Android has been the best-selling OS worldwide on smartphones since 2011 and on tablets since 2013.\")"
      ],
      "execution_count": 58,
      "outputs": [
        {
          "output_type": "execute_result",
          "data": {
            "text/plain": [
              "[('Android', 'NOUN'),\n",
              " ('has', 'VERB'),\n",
              " ('been', 'VERB'),\n",
              " ('the', 'DET'),\n",
              " ('best-selling', 'ADJ'),\n",
              " ('OS', 'NOUN'),\n",
              " ('worldwide', 'NOUN'),\n",
              " ('on', 'ADP'),\n",
              " ('smartphones', 'NOUN'),\n",
              " ('since', 'ADP'),\n",
              " ('2011', 'NUM'),\n",
              " ('and', 'CONJ'),\n",
              " ('on', 'ADP'),\n",
              " ('tablets', 'NOUN'),\n",
              " ('since', 'ADP'),\n",
              " ('2013', 'NUM'),\n",
              " ('.', '.')]"
            ]
          },
          "metadata": {
            "tags": []
          },
          "execution_count": 58
        }
      ]
    },
    {
      "cell_type": "markdown",
      "metadata": {
        "id": "8_eWYepaS-vT"
      },
      "source": [
        "<font color = 'red'>[Observation]:</font>  After modification Android and OS have correctly tagged as nouns."
      ]
    },
    {
      "cell_type": "code",
      "metadata": {
        "colab": {
          "base_uri": "https://localhost:8080/"
        },
        "id": "nwsCcyzDWwiY",
        "outputId": "8fa6b474-3d63-43f4-9d0d-ff89265f45a3"
      },
      "source": [
        "test_vertibi_simple_adv(\"NASA invited social media users to experience the launch of ICESAT-2 Satellite.\")"
      ],
      "execution_count": 59,
      "outputs": [
        {
          "output_type": "execute_result",
          "data": {
            "text/plain": [
              "[('NASA', 'NOUN'),\n",
              " ('invited', 'VERB'),\n",
              " ('social', 'ADJ'),\n",
              " ('media', 'NOUN'),\n",
              " ('users', 'NOUN'),\n",
              " ('to', 'PRT'),\n",
              " ('experience', 'NOUN'),\n",
              " ('the', 'DET'),\n",
              " ('launch', 'NOUN'),\n",
              " ('of', 'ADP'),\n",
              " ('ICESAT-2', 'NOUN'),\n",
              " ('Satellite', 'NOUN'),\n",
              " ('.', '.')]"
            ]
          },
          "metadata": {
            "tags": []
          },
          "execution_count": 59
        }
      ]
    },
    {
      "cell_type": "markdown",
      "metadata": {
        "id": "1PGsZClBP1YS"
      },
      "source": [
        "<font color = 'red'>[Observation]:</font>  Same for above statement"
      ]
    },
    {
      "cell_type": "code",
      "metadata": {
        "colab": {
          "base_uri": "https://localhost:8080/"
        },
        "id": "CUL6kzgghR83",
        "outputId": "e854686e-5f4c-4d4b-8884-e4b495d5924f"
      },
      "source": [
        "test_vertibi_simple_adv_tech2(\"Android has been the best-selling OS worldwide on smartphones since 2011 and on tablets since 2013.\")"
      ],
      "execution_count": 60,
      "outputs": [
        {
          "output_type": "execute_result",
          "data": {
            "text/plain": [
              "[('Android', 'NOUN'),\n",
              " ('has', 'VERB'),\n",
              " ('been', 'VERB'),\n",
              " ('the', 'DET'),\n",
              " ('best-selling', 'ADJ'),\n",
              " ('OS', 'NOUN'),\n",
              " ('worldwide', 'NOUN'),\n",
              " ('on', 'ADP'),\n",
              " ('smartphones', 'DET'),\n",
              " ('since', 'ADP'),\n",
              " ('2011', 'NUM'),\n",
              " ('and', 'CONJ'),\n",
              " ('on', 'ADP'),\n",
              " ('tablets', 'NOUN'),\n",
              " ('since', 'ADP'),\n",
              " ('2013', 'NUM'),\n",
              " ('.', '.')]"
            ]
          },
          "metadata": {
            "tags": []
          },
          "execution_count": 60
        }
      ]
    },
    {
      "cell_type": "code",
      "metadata": {
        "colab": {
          "base_uri": "https://localhost:8080/"
        },
        "id": "QPoeb7qhhR83",
        "outputId": "1b80d370-6743-4362-f54f-06cbc56966df"
      },
      "source": [
        "test_vertibi_simple_adv_tech2(\"NASA invited social media users to experience the launch of ICESAT-2 Satellite.\")"
      ],
      "execution_count": 61,
      "outputs": [
        {
          "output_type": "execute_result",
          "data": {
            "text/plain": [
              "[('NASA', 'NOUN'),\n",
              " ('invited', 'VERB'),\n",
              " ('social', 'ADJ'),\n",
              " ('media', 'VERB'),\n",
              " ('users', 'NOUN'),\n",
              " ('to', 'PRT'),\n",
              " ('experience', 'NOUN'),\n",
              " ('the', 'DET'),\n",
              " ('launch', 'NOUN'),\n",
              " ('of', 'ADP'),\n",
              " ('ICESAT-2', 'DET'),\n",
              " ('Satellite', 'NOUN'),\n",
              " ('.', '.')]"
            ]
          },
          "metadata": {
            "tags": []
          },
          "execution_count": 61
        }
      ]
    },
    {
      "cell_type": "markdown",
      "metadata": {
        "id": "2cINKaq5hR84"
      },
      "source": [
        "<font color = 'red'>[Observation]:</font> So we modified algorithms and achieved desired ouput."
      ]
    }
  ]
}