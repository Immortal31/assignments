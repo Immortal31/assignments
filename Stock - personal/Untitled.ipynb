{
 "cells": [
  {
   "cell_type": "code",
   "execution_count": 1,
   "metadata": {},
   "outputs": [
    {
     "name": "stderr",
     "output_type": "stream",
     "text": [
      "F:\\Amar-AIML\\Softwares\\lib\\site-packages\\pandas_datareader\\compat\\__init__.py:7: FutureWarning: pandas.util.testing is deprecated. Use the functions in the public API at pandas.testing instead.\n",
      "  from pandas.util.testing import assert_frame_equal\n"
     ]
    }
   ],
   "source": [
    "import numpy as np\n",
    "import pandas as pd\n",
    "import yfinance as yf #pip install yfinance\n",
    "import datetime as dt\n",
    "from pandas_datareader import data as pdr\n",
    "import matplotlib.pyplot as plt\n",
    "from scipy.signal import argrelextrema\n",
    "from twilio.rest import Client\n",
    "import time, threading\n"
   ]
  },
  {
   "cell_type": "code",
   "execution_count": 2,
   "metadata": {},
   "outputs": [],
   "source": [
    "def send_message(d):\n",
    "    # Your Account Sid and Auth Token from twilio.com/console\n",
    "    # DANGER! This is insecure. See http://twil.io/secure\n",
    "    account_sid = 'AC2109c36452c0f9cd0c63ac90cd21851c'\n",
    "    auth_token = '0b3c30ed78ef5a636d1b326b32edf8a1'\n",
    "    client = Client(account_sid, auth_token)\n",
    "    \n",
    "    message = client.messages.create(\n",
    "                                  body=d,\n",
    "                                  from_='whatsapp:+14155238886',\n",
    "                                  to='whatsapp:+918976661391'\n",
    "                              )"
   ]
  },
  {
   "cell_type": "code",
   "execution_count": 8,
   "metadata": {},
   "outputs": [],
   "source": [
    "reminder = ['BHARTIARTL','SBIN','BATAINDIA','DABUR','M_MFIN','ASIANPAINT','TITAN','BAJFINANCE']\n",
    "send_message(str(reminder))"
   ]
  },
  {
   "cell_type": "code",
   "execution_count": 9,
   "metadata": {},
   "outputs": [
    {
     "name": "stdout",
     "output_type": "stream",
     "text": [
      "SM92ea513f437a4dd79c90a63b357d418e\n"
     ]
    }
   ],
   "source": []
  },
  {
   "cell_type": "code",
   "execution_count": null,
   "metadata": {},
   "outputs": [],
   "source": []
  }
 ],
 "metadata": {
  "kernelspec": {
   "display_name": "Python 3",
   "language": "python",
   "name": "python3"
  },
  "language_info": {
   "codemirror_mode": {
    "name": "ipython",
    "version": 3
   },
   "file_extension": ".py",
   "mimetype": "text/x-python",
   "name": "python",
   "nbconvert_exporter": "python",
   "pygments_lexer": "ipython3",
   "version": "3.7.6"
  }
 },
 "nbformat": 4,
 "nbformat_minor": 4
}
